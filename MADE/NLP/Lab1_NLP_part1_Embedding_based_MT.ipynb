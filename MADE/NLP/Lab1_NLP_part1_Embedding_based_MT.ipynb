{
 "cells": [
  {
   "cell_type": "markdown",
   "metadata": {
    "id": "eulvfJWl7ueY"
   },
   "source": [
    "# Lab 1\n",
    "\n",
    "\n",
    "## Part 1: Bilingual dictionary induction and unsupervised embedding-based MT (30%)\n",
    "*Note: this homework is based on materials from yandexdataschool [NLP course](https://github.com/yandexdataschool/nlp_course/). Feel free to check this awesome course if you wish to dig deeper.*\n",
    "\n",
    "*Refined by [Nikolay Karpachev](https://www.linkedin.com/in/nikolay-karpachev-b0146a104/)*"
   ]
  },
  {
   "cell_type": "markdown",
   "metadata": {
    "id": "fV4rIjxa7uei"
   },
   "source": [
    "**In this homework** **<font color='red'>YOU</font>** will make machine translation system without using parallel corpora, alignment, attention, 100500 depth super-cool recurrent neural network and all that kind superstuff.\n",
    "\n",
    "But even without parallel corpora this system can be good enough (hopefully), in particular for similar languages, e.g. Ukrainian and Russian. "
   ]
  },
  {
   "cell_type": "markdown",
   "metadata": {
    "id": "idSYq2GU7uew"
   },
   "source": [
    "### Frament of the Swadesh list for some slavic languages\n",
    "\n",
    "The Swadesh list is a lexicostatistical stuff. It's named after American linguist Morris Swadesh and contains basic lexis. This list are used to define subgroupings of languages, its relatedness.\n",
    "\n",
    "So we can see some kind of word invariance for different Slavic languages.\n",
    "\n",
    "\n",
    "| Russian         | Belorussian              | Ukrainian               | Polish             | Czech                         | Bulgarian            |\n",
    "|-----------------|--------------------------|-------------------------|--------------------|-------------------------------|-----------------------|\n",
    "| женщина         | жанчына, кабета, баба    | жінка                   | kobieta            | žena                          | жена                  |\n",
    "| мужчина         | мужчына                  | чоловік, мужчина        | mężczyzna          | muž                           | мъж                   |\n",
    "| человек         | чалавек                  | людина, чоловік         | człowiek           | člověk                        | човек                 |\n",
    "| ребёнок, дитя   | дзіця, дзіцёнак, немаўля | дитина, дитя            | dziecko            | dítě                          | дете                  |\n",
    "| жена            | жонка                    | дружина, жінка          | żona               | žena, manželka, choť          | съпруга, жена         |\n",
    "| муж             | муж, гаспадар            | чоловiк, муж            | mąż                | muž, manžel, choť             | съпруг, мъж           |\n",
    "| мать, мама      | маці, матка              | мати, матір, неня, мама | matka              | matka, máma, 'стар.' mateř    | майка                 |\n",
    "| отец, тятя      | бацька, тата             | батько, тато, татусь    | ojciec             | otec                          | баща, татко           |\n",
    "| много           | шмат, багата             | багато                  | wiele              | mnoho, hodně                  | много                 |\n",
    "| несколько       | некалькі, колькі         | декілька, кілька        | kilka              | několik, pár, trocha          | няколко               |\n",
    "| другой, иной    | іншы                     | інший                   | inny               | druhý, jiný                   | друг                  |\n",
    "| зверь, животное | жывёла, звер, істота     | тварина, звір           | zwierzę            | zvíře                         | животно               |\n",
    "| рыба            | рыба                     | риба                    | ryba               | ryba                          | риба                  |\n",
    "| птица           | птушка                   | птах, птиця             | ptak               | pták                          | птица                 |\n",
    "| собака, пёс     | сабака                   | собака, пес             | pies               | pes                           | куче, пес             |\n",
    "| вошь            | вош                      | воша                    | wesz               | veš                           | въшка                 |\n",
    "| змея, гад       | змяя                     | змія, гад               | wąż                | had                           | змия                  |\n",
    "| червь, червяк   | чарвяк                   | хробак, черв'як         | robak              | červ                          | червей                |\n",
    "| дерево          | дрэва                    | дерево                  | drzewo             | strom, dřevo                  | дърво                 |\n",
    "| лес             | лес                      | ліс                     | las                | les                           | гора, лес             |\n",
    "| палка           | кій, палка               | палиця                  | patyk, pręt, pałka | hůl, klacek, prut, kůl, pálka | палка, пръчка, бастун |"
   ]
  },
  {
   "cell_type": "markdown",
   "metadata": {
    "id": "cNM3_fjr7ue2"
   },
   "source": [
    "But the context distribution of these languages demonstrates even more invariance. And we can use this fact for our for our purposes."
   ]
  },
  {
   "cell_type": "markdown",
   "metadata": {
    "id": "YLppwa527ue6"
   },
   "source": [
    "## Data"
   ]
  },
  {
   "cell_type": "markdown",
   "metadata": {
    "id": "MwGoVhRA7ufP"
   },
   "source": [
    "In this notebook we're going to use pretrained word vectors - FastText (original paper - https://arxiv.org/abs/1607.04606).\n",
    "\n",
    "You can download them from the official [website](https://fasttext.cc/docs/en/crawl-vectors.html). We're going to need embeddings for Russian and Ukrainian languages."
   ]
  },
  {
   "cell_type": "code",
   "execution_count": 1,
   "metadata": {
    "id": "KV2-MpR-ugq-"
   },
   "outputs": [
    {
     "name": "stdout",
     "output_type": "stream",
     "text": [
      "--2022-04-13 12:36:26--  https://dl.fbaipublicfiles.com/fasttext/vectors-crawl/cc.ru.300.vec.gz\n",
      "Распознаётся dl.fbaipublicfiles.com (dl.fbaipublicfiles.com)… 188.114.96.128\n",
      "Подключение к dl.fbaipublicfiles.com (dl.fbaipublicfiles.com)|188.114.96.128|:443... соединение установлено.\n",
      "HTTP-запрос отправлен. Ожидание ответа… 200 OK\n",
      "Длина: 1306357571 (1,2G) [binary/octet-stream]\n",
      "Сохранение в: «cc.ru.300.vec.gz»\n",
      "\n",
      "cc.ru.300.vec.gz    100%[===================>]   1,22G  8,21MB/s    за 2m 34s  \n",
      "\n",
      "2022-04-13 12:39:01 (8,08 MB/s) - «cc.ru.300.vec.gz» сохранён [1306357571/1306357571]\n",
      "\n",
      "--2022-04-13 12:39:32--  https://dl.fbaipublicfiles.com/fasttext/vectors-crawl/cc.uk.300.vec.gz\n",
      "Распознаётся dl.fbaipublicfiles.com (dl.fbaipublicfiles.com)… 188.114.96.128\n",
      "Подключение к dl.fbaipublicfiles.com (dl.fbaipublicfiles.com)|188.114.96.128|:443... соединение установлено.\n",
      "HTTP-запрос отправлен. Ожидание ответа… 200 OK\n",
      "Длина: 1257595219 (1,2G) [binary/octet-stream]\n",
      "Сохранение в: «cc.uk.300.vec.gz»\n",
      "\n",
      "cc.uk.300.vec.gz    100%[===================>]   1,17G  7,60MB/s    за 2m 51s  \n",
      "\n",
      "2022-04-13 12:42:24 (7,01 MB/s) - «cc.uk.300.vec.gz» сохранён [1257595219/1257595219]\n",
      "\n"
     ]
    }
   ],
   "source": [
    "!wget -nc https://dl.fbaipublicfiles.com/fasttext/vectors-crawl/cc.ru.300.vec.gz\n",
    "!gzip -d cc.ru.300.vec.gz\n",
    "\n",
    "!wget -nc https://dl.fbaipublicfiles.com/fasttext/vectors-crawl/cc.uk.300.vec.gz\n",
    "!gzip -d cc.uk.300.vec.gz"
   ]
  },
  {
   "cell_type": "markdown",
   "metadata": {
    "id": "Kwg26PKLv88U"
   },
   "source": [
    "After downloading and extracting the vectors, we should be able to load them using the [gensim](https://radimrehurek.com/gensim/) library:"
   ]
  },
  {
   "cell_type": "code",
   "execution_count": 2,
   "metadata": {
    "id": "u1JjQv_97ufT"
   },
   "outputs": [],
   "source": [
    "from gensim.models import KeyedVectors\n",
    "\n",
    "\n",
    "uk_emb = KeyedVectors.load_word2vec_format(\"cc.uk.300.vec\")\n",
    "ru_emb = KeyedVectors.load_word2vec_format(\"cc.ru.300.vec\")"
   ]
  },
  {
   "cell_type": "markdown",
   "metadata": {
    "id": "Sqb_XJhkMyHM"
   },
   "source": [
    "Once you've loaded the vectors, you can use the `KeyedVectors` interface to get word embeddings and/or query most similar words by embedding:"
   ]
  },
  {
   "cell_type": "code",
   "execution_count": 3,
   "metadata": {
    "id": "nTkXfT0W7ufk"
   },
   "outputs": [
    {
     "data": {
      "text/plain": [
       "((300,), array([ 0.0033, -0.0322, -0.0519, -0.0808, -0.0131], dtype=float32))"
      ]
     },
     "execution_count": 3,
     "metadata": {},
     "output_type": "execute_result"
    }
   ],
   "source": [
    "august_embedding = ru_emb[\"август\"]\n",
    "august_embedding.shape, august_embedding[:5]"
   ]
  },
  {
   "cell_type": "code",
   "execution_count": 4,
   "metadata": {
    "id": "oQ2kCq-7NQPn"
   },
   "outputs": [
    {
     "data": {
      "text/plain": [
       "[('август', 1.0000001192092896),\n",
       " ('июль', 0.9383152723312378),\n",
       " ('сентябрь', 0.9240029454231262),\n",
       " ('июнь', 0.9222574830055237),\n",
       " ('октябрь', 0.9095539450645447),\n",
       " ('ноябрь', 0.8930036425590515),\n",
       " ('апрель', 0.8729087114334106),\n",
       " ('декабрь', 0.8652557730674744),\n",
       " ('март', 0.8545795679092407),\n",
       " ('февраль', 0.8401415944099426)]"
      ]
     },
     "execution_count": 4,
     "metadata": {},
     "output_type": "execute_result"
    }
   ],
   "source": [
    "ru_emb.most_similar([august_embedding])"
   ]
  },
  {
   "cell_type": "markdown",
   "metadata": {
    "id": "t5EcMMI6pxzL"
   },
   "source": [
    "The latter function also allows you to vary the amount of closest words via the `topn` argument:"
   ]
  },
  {
   "cell_type": "code",
   "execution_count": 5,
   "metadata": {
    "id": "bi6AF3z0p9Oo"
   },
   "outputs": [
    {
     "data": {
      "text/plain": [
       "[('август', 1.0000001192092896),\n",
       " ('июль', 0.9383152723312378),\n",
       " ('сентябрь', 0.9240029454231262)]"
      ]
     },
     "execution_count": 5,
     "metadata": {},
     "output_type": "execute_result"
    }
   ],
   "source": [
    "ru_emb.most_similar([august_embedding], topn=3)"
   ]
  },
  {
   "cell_type": "markdown",
   "metadata": {
    "id": "xw345NRXov4p"
   },
   "source": [
    "Another feature of `KeyedVectors` is that it allows to compute embeddings for multiple words simultaneously:"
   ]
  },
  {
   "cell_type": "code",
   "execution_count": 8,
   "metadata": {
    "id": "86OuYeLYow0C"
   },
   "outputs": [
    {
     "data": {
      "text/plain": [
       "(2, 300)"
      ]
     },
     "execution_count": 8,
     "metadata": {},
     "output_type": "execute_result"
    }
   ],
   "source": [
    "ru_emb[[\"август\", \"сентябрь\"]].shape"
   ]
  },
  {
   "cell_type": "markdown",
   "metadata": {
    "id": "3uGx5zHXQtfo"
   },
   "source": [
    "Everything above is true for the embeddings for Ukrainian language."
   ]
  },
  {
   "cell_type": "code",
   "execution_count": 9,
   "metadata": {
    "id": "vdBA8lcg7ufs"
   },
   "outputs": [
    {
     "data": {
      "text/plain": [
       "[('серпень', 0.9999998807907104),\n",
       " ('липень', 0.9096441268920898),\n",
       " ('вересень', 0.9016969203948975),\n",
       " ('червень', 0.8992518782615662),\n",
       " ('жовтень', 0.8810408115386963),\n",
       " ('листопад', 0.8787633180618286),\n",
       " ('квітень', 0.8592804670333862),\n",
       " ('грудень', 0.8586863279342651),\n",
       " ('травень', 0.840811014175415),\n",
       " ('лютий', 0.8256431221961975)]"
      ]
     },
     "execution_count": 9,
     "metadata": {},
     "output_type": "execute_result"
    }
   ],
   "source": [
    "uk_emb.most_similar([uk_emb[\"серпень\"]])"
   ]
  },
  {
   "cell_type": "markdown",
   "metadata": {
    "id": "F1Dkka5uQ37-"
   },
   "source": [
    "However, russian and ukrainian embeddings were trained independently of each other. This means, that there is no obvious connection between values in embeddings for similar words in Russian and Ukrainian:"
   ]
  },
  {
   "cell_type": "code",
   "execution_count": 10,
   "metadata": {
    "id": "_yJvcKXO7uf0"
   },
   "outputs": [
    {
     "data": {
      "text/plain": [
       "[('Stepashka.com', 0.2757962644100189),\n",
       " ('ЖИЗНИВадим', 0.25203436613082886),\n",
       " ('2Дмитрий', 0.25048112869262695),\n",
       " ('2012Дмитрий', 0.24829229712486267),\n",
       " ('Ведущий-Алексей', 0.24438698589801788),\n",
       " ('Недопустимость', 0.24435284733772278),\n",
       " ('2Михаил', 0.23981398344039917),\n",
       " ('лексей', 0.23740755021572113),\n",
       " ('комплексн', 0.23695150017738342),\n",
       " ('персональ', 0.2368222326040268)]"
      ]
     },
     "execution_count": 10,
     "metadata": {},
     "output_type": "execute_result"
    }
   ],
   "source": [
    "ru_emb.most_similar([uk_emb[\"серпень\"]])"
   ]
  },
  {
   "cell_type": "markdown",
   "metadata": {
    "id": "Lia_h7W2qL8C"
   },
   "source": [
    "## Translation"
   ]
  },
  {
   "cell_type": "markdown",
   "metadata": {
    "id": "pNdYAR1q7uf6"
   },
   "source": [
    "We'll build a simple translator, which will try to predict the russian embedding from the ukrainian one. For this we'll need a dataset of word pairs."
   ]
  },
  {
   "cell_type": "code",
   "execution_count": 12,
   "metadata": {
    "id": "Kon7ZH6wUYdN"
   },
   "outputs": [
    {
     "name": "stdout",
     "output_type": "stream",
     "text": [
      "Train dataset size: 1927\n",
      "Test dataset size: 400\n"
     ]
    },
    {
     "data": {
      "text/html": [
       "<div>\n",
       "<style scoped>\n",
       "    .dataframe tbody tr th:only-of-type {\n",
       "        vertical-align: middle;\n",
       "    }\n",
       "\n",
       "    .dataframe tbody tr th {\n",
       "        vertical-align: top;\n",
       "    }\n",
       "\n",
       "    .dataframe thead th {\n",
       "        text-align: right;\n",
       "    }\n",
       "</style>\n",
       "<table border=\"1\" class=\"dataframe\">\n",
       "  <thead>\n",
       "    <tr style=\"text-align: right;\">\n",
       "      <th></th>\n",
       "      <th>uk</th>\n",
       "      <th>ru</th>\n",
       "    </tr>\n",
       "  </thead>\n",
       "  <tbody>\n",
       "    <tr>\n",
       "      <th>0</th>\n",
       "      <td>iмовірно</td>\n",
       "      <td>вероятно</td>\n",
       "    </tr>\n",
       "    <tr>\n",
       "      <th>1</th>\n",
       "      <td>iснує</td>\n",
       "      <td>существует</td>\n",
       "    </tr>\n",
       "    <tr>\n",
       "      <th>2</th>\n",
       "      <td>iспит</td>\n",
       "      <td>экзамен</td>\n",
       "    </tr>\n",
       "    <tr>\n",
       "      <th>3</th>\n",
       "      <td>абияк</td>\n",
       "      <td>как-нибудь</td>\n",
       "    </tr>\n",
       "    <tr>\n",
       "      <th>4</th>\n",
       "      <td>або</td>\n",
       "      <td>или</td>\n",
       "    </tr>\n",
       "  </tbody>\n",
       "</table>\n",
       "</div>"
      ],
      "text/plain": [
       "         uk          ru\n",
       "0  iмовірно    вероятно\n",
       "1     iснує  существует\n",
       "2     iспит     экзамен\n",
       "3     абияк  как-нибудь\n",
       "4       або         или"
      ]
     },
     "execution_count": 12,
     "metadata": {},
     "output_type": "execute_result"
    }
   ],
   "source": [
    "import pandas as pd\n",
    "\n",
    "\n",
    "#train_data_url = \"https://raw.githubusercontent.com/girafe-ai/ml-mipt/master/homeworks_advanced/Lab1_NLP/uk_ru.train.tsv\"\n",
    "train_data_url = 'uk_ru.train.tsv'\n",
    "train_data = pd.read_csv(train_data_url, sep=\"\\t\", header=None)\n",
    "train_data.columns = [\"uk\", \"ru\"]\n",
    "print(f\"Train dataset size: {len(train_data)}\")\n",
    "\n",
    "#test_data_url = \"https://raw.githubusercontent.com/girafe-ai/ml-mipt/master/homeworks_advanced/Lab1_NLP/uk_ru.test.tsv\"\n",
    "test_data_url = 'uk_ru.test.tsv'\n",
    "test_data = pd.read_csv(test_data_url, sep=\"\\t\", header=None)\n",
    "test_data.columns = [\"uk\", \"ru\"]\n",
    "print(f\"Test dataset size: {len(test_data)}\")\n",
    "\n",
    "train_data.head()"
   ]
  },
  {
   "cell_type": "markdown",
   "metadata": {
    "id": "DYoXmFPanrwo"
   },
   "source": [
    "Our method won't work with unknown words, so let's filter them out:"
   ]
  },
  {
   "cell_type": "code",
   "execution_count": 13,
   "metadata": {
    "id": "Ls4h2PrplJID"
   },
   "outputs": [
    {
     "name": "stdout",
     "output_type": "stream",
     "text": [
      "Train dataset size: 1880\n",
      "Test dataset size: 393\n"
     ]
    }
   ],
   "source": [
    "rows = []\n",
    "for _, row in train_data.iterrows():\n",
    "    if row[\"uk\"] not in uk_emb or row[\"ru\"] not in ru_emb:\n",
    "        continue\n",
    "\n",
    "    rows.append(row)\n",
    "\n",
    "train_data = pd.DataFrame(rows)\n",
    "print(f\"Train dataset size: {len(train_data)}\")\n",
    "\n",
    "rows = []\n",
    "for _, row in test_data.iterrows():\n",
    "    if row[\"uk\"] not in uk_emb or row[\"ru\"] not in ru_emb:\n",
    "        continue\n",
    "\n",
    "    rows.append(row)\n",
    "\n",
    "test_data = pd.DataFrame(rows)\n",
    "print(f\"Test dataset size: {len(test_data)}\")"
   ]
  },
  {
   "cell_type": "markdown",
   "metadata": {
    "id": "wwjYGFE7Ui0N"
   },
   "source": [
    "We will train our model to predict embedding for the russian word from embedding of its ukrainian counterpart. For this reason we split our train and test data into ukrainian and russian words and compute corresponding embeddings to obtain `X` (ukrainian embeddings) and `y` (russian embeddings)."
   ]
  },
  {
   "cell_type": "code",
   "execution_count": 14,
   "metadata": {
    "id": "WR7v7lvFYWYy"
   },
   "outputs": [],
   "source": [
    "X_train, Y_train = uk_emb[train_data[\"uk\"].values], ru_emb[train_data[\"ru\"].values]\n",
    "X_test, Y_test = uk_emb[test_data[\"uk\"].values], ru_emb[test_data[\"ru\"].values]"
   ]
  },
  {
   "cell_type": "markdown",
   "metadata": {
    "id": "-ZBBNvpz7ugQ"
   },
   "source": [
    "## Embedding space mapping (0.3 pts)"
   ]
  },
  {
   "cell_type": "markdown",
   "metadata": {
    "id": "x_Dhk5gL7ugS"
   },
   "source": [
    "Let $x_i \\in \\mathrm{R}^d$ be the distributed representation of word $i$ in the source language, and $y_i \\in \\mathrm{R}^d$ is the vector representation of its translation. Our purpose is to learn such linear transform $W$ that minimizes euclidian distance between $Wx_i$ and $y_i$ for some subset of word embeddings. Thus we can formulate so-called Procrustes problem:\n",
    "\n",
    "$$W^*= \\arg\\min_W \\sum_{i=1}^n\\|Wx_i - y_i\\|_2$$\n",
    "\n",
    "or\n",
    "\n",
    "$$W^*= \\arg\\min_W \\|XW^T - Y\\|_F$$\n",
    "\n",
    "where $\\|\\cdot\\|_F$ denotes Frobenius norm.\n",
    "\n",
    "> **Note:** in second formula, $W$ and $x$ seem to have switched places. This happens because the $X$ matrix is composed of objects $x_i$ in *rows* not *columns*, i.e. it is kind of composed of $x_i^T$. This means that $X \\in \\mathbb{R}^{N \\times D}$, where $N$ is the number of items and $D$ is the embedding dimensionality. The same is true for the $Y$."
   ]
  },
  {
   "cell_type": "markdown",
   "metadata": {
    "id": "acOjDdtL7ugY"
   },
   "source": [
    "$W^*= \\arg\\min_W \\sum_{i=1}^n\\|Wx_i - y_i\\|_2$ looks like simple multiple linear regression without bias. The `sklearn` allows you to turn off the bias in `LinearRegression` via the `fit_intercept` argument (in fact they simply call bias the intercept). So let's code."
   ]
  },
  {
   "cell_type": "code",
   "execution_count": 17,
   "metadata": {
    "id": "Lb-KN1be7uga"
   },
   "outputs": [],
   "source": [
    "from sklearn.linear_model import LinearRegression\n",
    "\n",
    "\n",
    "# YOUR CODE HERE\n",
    "mapping = LinearRegression(fit_intercept=False);\n",
    "mapping.fit(X_train, Y_train);"
   ]
  },
  {
   "cell_type": "markdown",
   "metadata": {
    "id": "X7tqJwoY7ugf"
   },
   "source": [
    "Let's take a look at neigbours of the vector of word _\"серпень\"_ (_\"август\"_ in Russian) after linear transform."
   ]
  },
  {
   "cell_type": "code",
   "execution_count": 19,
   "metadata": {
    "id": "31SrFSbn7ugi"
   },
   "outputs": [
    {
     "data": {
      "text/plain": [
       "[('апрель', 0.8531433343887329),\n",
       " ('июнь', 0.8402522206306458),\n",
       " ('март', 0.8385883569717407),\n",
       " ('сентябрь', 0.8331484198570251),\n",
       " ('февраль', 0.8311208486557007),\n",
       " ('октябрь', 0.8278018832206726),\n",
       " ('ноябрь', 0.8243728876113892),\n",
       " ('июль', 0.822961688041687),\n",
       " ('август', 0.8112279772758484),\n",
       " ('январь', 0.8022984862327576)]"
      ]
     },
     "execution_count": 19,
     "metadata": {},
     "output_type": "execute_result"
    }
   ],
   "source": [
    "august = mapping.predict(uk_emb[\"серпень\"].reshape(1, -1))\n",
    "ru_emb.most_similar(august)"
   ]
  },
  {
   "cell_type": "markdown",
   "metadata": {
    "id": "okSkjk597ugo"
   },
   "source": [
    "We can see that neighbourhood of this embedding cosists of different months, but right variant is on the ninth place."
   ]
  },
  {
   "cell_type": "markdown",
   "metadata": {
    "id": "o2uY6Y9B7ugt"
   },
   "source": [
    "As quality measure we will use precision top-1, top-5 and top-10 (for each transformed ukrainian embedding we count how many right target pairs are found in top N nearest neighbours in russian embedding space)."
   ]
  },
  {
   "cell_type": "code",
   "execution_count": 22,
   "metadata": {
    "id": "zptuho8LAfIE"
   },
   "outputs": [],
   "source": [
    "def precision(pairs, mapped_vectors, topn=1):\n",
    "    \"\"\"\n",
    "    :args:\n",
    "        pairs = list of right word pairs [(uk_word_0, ru_word_0), ...]\n",
    "        mapped_vectors = list of embeddings after mapping from source embedding space to destination embedding space\n",
    "        topn = the number of nearest neighbours in destination embedding space to choose from\n",
    "    :returns:\n",
    "        precision_val, float number, total number of words for those we can find right translation at top K.\n",
    "    \"\"\"\n",
    "    assert len(pairs) == len(mapped_vectors)\n",
    "    total = len(pairs)\n",
    "    correct = 0\n",
    "    for i in range(total):\n",
    "        pair = pairs[i]\n",
    "        predicted_vector = mapped_vectors[i]\n",
    "        ru_emb_most_similar = ru_emb.most_similar([predicted_vector], topn=topn)\n",
    "        pred_ru_words, _ = zip(*ru_emb_most_similar)\n",
    "        if pair[1] in pred_ru_words[: topn]:\n",
    "            correct += 1\n",
    "\n",
    "        # YOUR CODE HERE\n",
    "\n",
    "    return correct / total"
   ]
  },
  {
   "cell_type": "code",
   "execution_count": 30,
   "metadata": {
    "id": "duhj9hpv7ugy"
   },
   "outputs": [],
   "source": [
    "assert precision([(\"серпень\", \"август\")], august, topn=5) == 0.0\n",
    "assert precision([(\"серпень\", \"август\")], august, topn=9) == 1.0\n",
    "assert precision([(\"серпень\", \"август\")], august, topn=10) == 1.0"
   ]
  },
  {
   "cell_type": "markdown",
   "metadata": {
    "id": "z5A9tWtnuFx3"
   },
   "source": [
    "Note that our `precision` function accepts lists of pairs of words, whereas we have dataframes. However, it is not a problem: we can get a list (actually, numpy array) of pairs via the `values` property."
   ]
  },
  {
   "cell_type": "code",
   "execution_count": 31,
   "metadata": {
    "id": "0-iyd5gP7ug5"
   },
   "outputs": [],
   "source": [
    "assert precision(test_data.values, X_test) == 0.0\n",
    "assert precision(test_data.values, Y_test) == 1.0"
   ]
  },
  {
   "cell_type": "markdown",
   "metadata": {
    "id": "7DVV5lqrua_O"
   },
   "source": [
    "Let's see how well our model is doing."
   ]
  },
  {
   "cell_type": "code",
   "execution_count": 32,
   "metadata": {
    "id": "U-ssEJ3x7uhA"
   },
   "outputs": [
    {
     "name": "stdout",
     "output_type": "stream",
     "text": [
      "Top-1 precision 62.8%\n",
      "Top-5 precision 79.1%\n"
     ]
    }
   ],
   "source": [
    "top1 = precision(test_data.values, mapping.predict(X_test), 1)\n",
    "print(f\"Top-1 precision {100 * top1:.1f}%\")\n",
    "\n",
    "top5 = precision(test_data.values, mapping.predict(X_test), 5)\n",
    "print(f\"Top-5 precision {100 * top5:.1f}%\")"
   ]
  },
  {
   "cell_type": "markdown",
   "metadata": {
    "id": "hf6Ou8bx7uhH"
   },
   "source": [
    "## Making it better (orthogonal Procrustean problem) (0.3 pts)"
   ]
  },
  {
   "cell_type": "markdown",
   "metadata": {
    "id": "4oLs-drN7uhK"
   },
   "source": [
    "It can be shown that a self-consistent linear mapping between semantic spaces should be orthogonal. \n",
    "We can restrict transform $W$ to be orthogonal. Then we will solve next problem:\n",
    "\n",
    "$$(W^T)^*= \\arg\\min_{W^T} \\|XW^T - Y\\|_F \\text{, where: } W^TW = I$$\n",
    "\n",
    "$$I \\text{- identity matrix}$$\n",
    "\n",
    "Instead of making yet another regression problem we can find optimal orthogonal transformation using singular value decomposition. It turns out that optimal transformation $W^*$ can be expressed via SVD components:\n",
    "$$X^TY=U\\Sigma V^T\\text{, singular value decompostion}$$\n",
    "$$(W^T)^*=UV^T$$"
   ]
  },
  {
   "cell_type": "code",
   "execution_count": 33,
   "metadata": {
    "id": "DdFQ7qti7uhL"
   },
   "outputs": [],
   "source": [
    "import numpy as np\n",
    "\n",
    "\n",
    "# YOUR CODE HERE\n",
    "# Compute the orthogonal mapping (W^T)^* as defined in formula above.\n",
    "# mapping = ...\n",
    "U, sigma, V_T = np.linalg.svd(np.dot(X_train.T, Y_train))\n",
    "mapping = np.dot(U, V_T)"
   ]
  },
  {
   "cell_type": "markdown",
   "metadata": {
    "id": "sehLFmlBysc-"
   },
   "source": [
    "Now our `mapping` is just a numpy array, meaning that it has no `predict` method. However, from the formulae above we know, that prediction is done using the matrix multiplication:"
   ]
  },
  {
   "cell_type": "code",
   "execution_count": 285,
   "metadata": {
    "id": "OVOFYYa37uhX"
   },
   "outputs": [
    {
     "data": {
      "text/plain": [
       "[('апрель', 0.8245132565498352),\n",
       " ('июнь', 0.8056629300117493),\n",
       " ('сентябрь', 0.8055761456489563),\n",
       " ('март', 0.8032934665679932),\n",
       " ('октябрь', 0.798710286617279),\n",
       " ('июль', 0.7946797013282776),\n",
       " ('ноябрь', 0.7939636707305908),\n",
       " ('август', 0.7938189506530762),\n",
       " ('февраль', 0.7923861742019653),\n",
       " ('декабрь', 0.7715376019477844)]"
      ]
     },
     "execution_count": 285,
     "metadata": {},
     "output_type": "execute_result"
    }
   ],
   "source": [
    "august = uk_emb[\"серпень\"] @ mapping\n",
    "ru_emb.most_similar([august])"
   ]
  },
  {
   "cell_type": "markdown",
   "metadata": {
    "id": "h4qKCmq7zJDK"
   },
   "source": [
    "Now let's compute our precision values and see, whether our trick did improve the results."
   ]
  },
  {
   "cell_type": "code",
   "execution_count": 35,
   "metadata": {
    "id": "r297sYP37uhb"
   },
   "outputs": [
    {
     "name": "stdout",
     "output_type": "stream",
     "text": [
      "Top-1 precision 64.4%\n",
      "Top-5 precision 79.9%\n"
     ]
    }
   ],
   "source": [
    "top1 = precision(test_data.values, X_test @ mapping, 1)\n",
    "print(f\"Top-1 precision {100 * top1:.1f}%\")\n",
    "\n",
    "top5 = precision(test_data.values, X_test @ mapping, 5)\n",
    "print(f\"Top-5 precision {100 * top5:.1f}%\")"
   ]
  },
  {
   "cell_type": "markdown",
   "metadata": {
    "id": "hvUZ72U5AfJg"
   },
   "source": [
    "## Unsupervised embedding-based MT (0.4 pts)"
   ]
  },
  {
   "cell_type": "markdown",
   "metadata": {
    "id": "LLyuVfHBLrJn"
   },
   "source": [
    "Now, let's build our word embeddings-based translator!"
   ]
  },
  {
   "cell_type": "markdown",
   "metadata": {
    "id": "tPAURW1CMuP7"
   },
   "source": [
    "Firstly, download OPUS Tatoeba corpus."
   ]
  },
  {
   "cell_type": "code",
   "execution_count": 36,
   "metadata": {
    "id": "F80kUKzQMsDu"
   },
   "outputs": [
    {
     "name": "stdout",
     "output_type": "stream",
     "text": [
      "--2022-04-13 13:58:06--  https://object.pouta.csc.fi/OPUS-Tatoeba/v20190709/mono/uk.txt.gz\n",
      "Распознаётся object.pouta.csc.fi (object.pouta.csc.fi)… 86.50.254.18, 86.50.254.19\n",
      "Подключение к object.pouta.csc.fi (object.pouta.csc.fi)|86.50.254.18|:443... соединение установлено.\n",
      "HTTP-запрос отправлен. Ожидание ответа… 200 OK\n",
      "Длина: 1819128 (1,7M) [application/gzip]\n",
      "Сохранение в: «uk.txt.gz»\n",
      "\n",
      "uk.txt.gz           100%[===================>]   1,73M  1,31MB/s    за 1,3s    \n",
      "\n",
      "2022-04-13 13:58:08 (1,31 MB/s) - «uk.txt.gz» сохранён [1819128/1819128]\n",
      "\n"
     ]
    }
   ],
   "source": [
    "!wget https://object.pouta.csc.fi/OPUS-Tatoeba/v20190709/mono/uk.txt.gz\n",
    "!gzip -d ./uk.txt.gz"
   ]
  },
  {
   "cell_type": "code",
   "execution_count": 37,
   "metadata": {
    "id": "2MV3VvoVUX5U"
   },
   "outputs": [
    {
     "data": {
      "text/plain": [
       "['Я вже закінчу коледж, коли ви вернетеся з Америки.\\n',\n",
       " 'Він наказав мені негайно вийти з кімнати.\\n',\n",
       " 'Як би ти не намагався, ти не вивчиш англійську за два-три місяці.\\n',\n",
       " 'Поки я не подзвонив, він не прийшов.\\n',\n",
       " 'У всесвіті багато галактик.\\n']"
      ]
     },
     "execution_count": 37,
     "metadata": {},
     "output_type": "execute_result"
    }
   ],
   "source": [
    "with open('./uk.txt', 'r') as f:\n",
    "    uk_corpus = f.readlines()\n",
    "\n",
    "# To save your time and CPU, feel free to use first 1000 sentences of the corpus\n",
    "uk_corpus = uk_corpus[:1000]\n",
    "uk_corpus[:5]"
   ]
  },
  {
   "cell_type": "markdown",
   "metadata": {
    "id": "oa3dAZHv1wjY"
   },
   "source": [
    "Now let's translate these sentences word-by-word. Before that, however, don't forget to tokenize your sentences. For that you may (or may not) find the `nltk.tokenize.WordPunctTokenizer` to be very useful."
   ]
  },
  {
   "cell_type": "code",
   "execution_count": 38,
   "metadata": {},
   "outputs": [],
   "source": [
    "from nltk.tokenize import WordPunctTokenizer"
   ]
  },
  {
   "cell_type": "markdown",
   "metadata": {},
   "source": [
    "Слова OOV будем заменять на токен UNK"
   ]
  },
  {
   "cell_type": "code",
   "execution_count": 48,
   "metadata": {
    "id": "FGksC7l_NMi9"
   },
   "outputs": [],
   "source": [
    "def translate(sentence):\n",
    "    \"\"\"\n",
    "    :args:\n",
    "        sentence - sentence in Ukrainian (str)\n",
    "    :returns:\n",
    "        translation - sentence in Russian (str)\n",
    "\n",
    "    * find ukrainian embedding for each word in sentence\n",
    "    * transform ukrainian embedding vector\n",
    "    * find nearest russian word and replace\n",
    "    \"\"\"\n",
    "    translated = []\n",
    "\n",
    "    # YOUR CODE HERE\n",
    "    tokenizer = WordPunctTokenizer()\n",
    "    tokens = tokenizer.tokenize(sentence)\n",
    "    UNK = 'UNK'\n",
    "    \n",
    "    for token in tokens:\n",
    "        if token in uk_emb:\n",
    "            prediction = uk_emb[token] @ mapping\n",
    "            rus_token, rus_embedding = ru_emb.most_similar([prediction], topn=1)[0]\n",
    "            translated.append(rus_token)\n",
    "        else:\n",
    "            translated.append(UNK)\n",
    "    return \" \".join(translated)"
   ]
  },
  {
   "cell_type": "code",
   "execution_count": 49,
   "metadata": {
    "id": "4hbbMy-tNxlf"
   },
   "outputs": [],
   "source": [
    "assert translate(\".\") == \".\"\n",
    "assert translate(\"1 , 3\") == \"1 , 3\"\n",
    "assert translate(\"кіт зловив мишу\") == \"кот поймал мышку\""
   ]
  },
  {
   "cell_type": "markdown",
   "metadata": {
    "id": "ia6I2ce7O_HI"
   },
   "source": [
    "Now you can play with your model and try to get as accurate translations as possible. **Note**: one big issue is out-of-vocabulary words. Try to think of various ways of handling it (you can start with translating each of them to a special **UNK** token and then move to more sophisticated approaches). Good luck!"
   ]
  },
  {
   "cell_type": "code",
   "execution_count": 73,
   "metadata": {
    "id": "ap1W7ZCeOAVU",
    "scrolled": true
   },
   "outputs": [
    {
     "name": "stdout",
     "output_type": "stream",
     "text": [
      "0 Я уже закончу колледж , когда мы прибежишь со Америки .\n",
      "1 Город бомбили враждебные самолеты .\n",
      "2 Возможно , мной антисоциальный , конечно это не означает , что мной не общаюсь со людьми .\n",
      "3 Впрочем утра выпала роса .\n",
      "4 Беда не приходит одна .\n",
      "5 Посмотри по тот дым .\n",
      "6 Я заказал два гамбургера .\n",
      "7 Я не хотел никого обидеть .\n",
      "8 Гора покрыта снегом .\n",
      "9 по фотографии во девушки корона не со золота , а со цветов .\n",
      "10 Во меня То мечта .\n",
      "11 Я приехал во Японию со Китая .\n",
      "12 по север находится Шотландия ; по юге — Англия ; по востоке — Уэльс ; и ещe дальше по востоке — северная Ирландия .\n",
      "13 Его родная страна — Германия .\n",
      "14 Берн — столица Швейцарии .\n",
      "15 Он ждал по него к десятой часа .\n",
      "16 Ты можешь взять ту книгу даром .\n",
      "17 Такой роман сочинил известный американский писатель .\n",
      "18 забронировать , будте ласковые , комнату возле международного аэропорта во Торонто .\n",
      "19 Он знает , что ты его влюбится ?\n",
      "20 Я знаю , что ты богатый .\n",
      "21 Те , кто всё забывают , счастливые .\n",
      "22 Во этой реке опасно плавать .\n",
      "23 пришел , увидел , победил .\n",
      "24 Я хожу к школы пешком .\n",
      "25 Не моя дело !\n",
      "26 Не забудь билет .\n",
      "27 Кто он ?\n",
      "28 Вы будете чай ли кофе ?\n",
      "29 Он не пойдет по пикник , как и мной .\n",
      "30 Когда Вы родились ?\n",
      "31 Это моя любимая песня .\n",
      "32 мы почти семь со мной .\n",
      "33 Какой красивый сегодня месяц !\n",
      "34 Я против любой – которых войны .\n",
      "35 поверхность воздушной шары — UNK пространство , потому для неё не выполняются правила симметрической геометрии .\n",
      "36 Говорят , что американцы считают количество денег , какую зарабатывает женщина , мерилом его умение .\n",
      "37 Можно мной UNK это платье ?\n",
      "38 Если будет красивая погода , мы доберёмся туда завтра .\n",
      "39 Это был злой заяц .\n",
      "40 Один , два , три , четыре , аш со пять , восемь , семь , восемь , девять со пять , десять .\n",
      "41 Кто во любви не знает , тот горя не знает .\n",
      "42 Его иметь волнуется за него .\n",
      "43 Я уважаю тех , кто старается со всех сил .\n",
      "44 необычайная дружба переросла во глубокое любовь .\n",
      "45 Рейчел аш со То много молока каждый день .\n",
      "46 Он вор .\n",
      "47 UNK загрязнение можно было бы UNK только если бы люди были более чувствительны к окружающей среды .\n",
      "48 чай со лимоном , будте ласковые .\n",
      "49 Не путать желание со влюбленностью .\n",
      "50 Я бы со удовольствием сочинил сотни сложноподчинённые во UNK со и , конечно во меня То дела .\n",
      "51 Дайте мне чашечку кофе .\n",
      "52 ведь же ты никогда мне о это не рассказывала !\n",
      "53 Во тебя будут проблемы , если твои родители узнают .\n",
      "54 Запах роз наполнил комнату .\n",
      "55 Как во тебя дела ?\n",
      "56 Это мои штаны .\n",
      "57 НЕт , спасибо .\n",
      "58 Я не понимаю , почему Германия победила по Евровидении .\n",
      "59 Добрый вечер .\n",
      "60 Со UNK Алексея Палашка поприветствовал президент Белоруссии Александр Лукашенко .\n",
      "61 Млечный путь — широкий пояс со далеких звёзд , каждая звезда — солнце , такое как наше .\n",
      "62 удивительно видеть рок – звёзд со галстук !\n",
      "63 всё печенье во форме звёзд .\n",
      "64 ЧТо мне одеть — штаны ли юбку ?\n",
      "65 Краусс утверждал — известный московский скульптор .\n",
      "66 Ой был злой кролик .\n",
      "67 Можешь взять любой – который , что тебе к отвратиться .\n",
      "68 Конечно мной пойду .\n",
      "69 шелковичные прядут коконы .\n",
      "70 ЧТо бы ты сделала , если бы во тебя было , замечу , десять тысяч долларов ?\n",
      "71 Он думает , что он кто-то , а действительно он никто .\n",
      "72 она очень гордится своею коллекцией марок .\n",
      "73 Он очень простой ...\n",
      "74 Какая ты добра !\n",
      "75 Как мной за тобой соскучился !\n",
      "76 Это всё , что мной знаю .\n",
      "77 Ты ведёшь дневник ?\n",
      "78 Тебе решать .\n",
      "79 Это почта , а то — банк .\n",
      "80 Это всё , что мной хочу сделать .\n",
      "81 Я впервые смотрю такой страшный фильм .\n",
      "82 Этa песня напоминает мне о дом .\n",
      "83 Хироси здесь ?\n",
      "84 Меня зовут Эдди .\n",
      "85 Как женщина живет , так она и умрет .\n",
      "86 Я здесь уже две часа .\n",
      "87 Мне надо извиниться перед Нб .\n",
      "88 Сегодня мной видел скворца .\n",
      "89 « Сколько стоить та носовая косыночка UNK — « тринадцать со двадцать аш со пять центов UNK\n",
      "90 солдаты медведи , как правило , очень опасные .\n",
      "91 Он быстро устает .\n",
      "92 остальные готовы .\n",
      "93 Он скучает по своей семь со мье .\n",
      "94 « Спасибо UNK — « по здоровье со мной UNK\n",
      "95 Я ещe не знаю своего адреса , мной определенный момент буду жить во подруги .\n",
      "96 Амазонка — вторая по длине река во мире после Нила .\n",
      "97 А если увидишь Тима , передай ему от меня поздравления .\n",
      "98 закрой за собой дверь .\n",
      "99 Держи при себе словарь .\n"
     ]
    }
   ],
   "source": [
    "for i, sent in enumerate(uk_corpus[::10]):\n",
    "    print(i, translate(sent))"
   ]
  },
  {
   "cell_type": "markdown",
   "metadata": {},
   "source": [
    "Посмотрим на те предложения, где есть OOV токен"
   ]
  },
  {
   "cell_type": "code",
   "execution_count": 77,
   "metadata": {},
   "outputs": [
    {
     "name": "stdout",
     "output_type": "stream",
     "text": [
      "35 поверхность воздушной шары — UNK пространство , потому для неё не выполняются правила симметрической геометрии .\n",
      "37 Можно мной UNK это платье ?\n",
      "47 UNK загрязнение можно было бы UNK только если бы люди были более чувствительны к окружающей среды .\n",
      "50 Я бы со удовольствием сочинил сотни сложноподчинённые во UNK со и , конечно во меня То дела .\n",
      "60 Со UNK Алексея Палашка поприветствовал президент Белоруссии Александр Лукашенко .\n",
      "89 « Сколько стоить та носовая косыночка UNK — « тринадцать со двадцать аш со пять центов UNK\n",
      "94 « Спасибо UNK — « по здоровье со мной UNK\n"
     ]
    }
   ],
   "source": [
    "for i, sent in enumerate(uk_corpus[::10]):\n",
    "    if i in [35, 37, 47, 50, 60, 89, 94]:\n",
    "        print(i, translate(sent))"
   ]
  },
  {
   "cell_type": "markdown",
   "metadata": {},
   "source": [
    "Попробуем побороться с проблемой неизвестного токена. Воспользуемся идеей fasttext. Представим неизвестное слово как среднее эмбедингов его букв, умноженное на коэффициент (по умолчанию = 0.5)"
   ]
  },
  {
   "cell_type": "code",
   "execution_count": 116,
   "metadata": {},
   "outputs": [],
   "source": [
    "def get_letters_embedding_oov(unk_token, koef=0.5):\n",
    "    '''Эмбединг слова -- сумма эмбеддингов его букв'''\n",
    "    emb = uk_emb[unk_token[0]].copy()\n",
    "    for letter in unk_token[1: ]:\n",
    "        emb += uk_emb[letter]\n",
    "    return emb /  len(unk_token) * koef"
   ]
  },
  {
   "cell_type": "code",
   "execution_count": 117,
   "metadata": {},
   "outputs": [],
   "source": [
    "def translate_letters(sentence):\n",
    "    \"\"\"\n",
    "    :args:\n",
    "        sentence - sentence in Ukrainian (str)\n",
    "    :returns:\n",
    "        translation - sentence in Russian (str)\n",
    "\n",
    "    * find ukrainian embedding for each word in sentence\n",
    "    * transform ukrainian embedding vector\n",
    "    * find nearest russian word and replace\n",
    "    \"\"\"\n",
    "    translated = []\n",
    "\n",
    "    # YOUR CODE HERE\n",
    "    tokenizer = WordPunctTokenizer()\n",
    "    tokens = tokenizer.tokenize(sentence)\n",
    "    \n",
    "    for token in tokens:\n",
    "        if token not in uk_emb:\n",
    "            emb = get_letters_embedding_oov(token)\n",
    "        else:\n",
    "            emb = uk_emb[token]\n",
    "        prediction = emb @ mapping\n",
    "        rus_token, rus_embedding = ru_emb.most_similar([prediction], topn=1)[0]\n",
    "        translated.append(rus_token)\n",
    "            \n",
    "    \n",
    "\n",
    "    return \" \".join(translated)"
   ]
  },
  {
   "cell_type": "code",
   "execution_count": 118,
   "metadata": {},
   "outputs": [
    {
     "name": "stdout",
     "output_type": "stream",
     "text": [
      "35 поверхность воздушной шары — ен пространство , потому для неё не выполняются правила симметрической геометрии .\n",
      "37 Можно мной ва это платье ?\n",
      "47 Во загрязнение можно было бы ой только если бы люди были более чувствительны к окружающей среды .\n",
      "50 Я бы со удовольствием сочинил сотни сложноподчинённые во .n со и , конечно во меня То дела .\n",
      "60 Со ݀ Алексея Палашка поприветствовал президент Белоруссии Александр Лукашенко .\n",
      "89 « Сколько стоить та носовая косыночка ? — « тринадцать со двадцать аш со пять центов »\n",
      "94 « Спасибо , — « по здоровье со мной »\n"
     ]
    }
   ],
   "source": [
    "for i, sent in enumerate(uk_corpus[::10]):\n",
    "    if i in [35, 37, 47, 50, 60, 89, 94]:\n",
    "        print(i, translate_letters(sent))"
   ]
  },
  {
   "cell_type": "markdown",
   "metadata": {},
   "source": [
    "Не особо это помогло."
   ]
  },
  {
   "cell_type": "markdown",
   "metadata": {},
   "source": [
    "Попробуем жадный алгоритм разбиения слова на известные непересекающиеся n-граммы"
   ]
  },
  {
   "cell_type": "code",
   "execution_count": 210,
   "metadata": {},
   "outputs": [],
   "source": [
    "def get_ngramm_embedding_oov(unk_token):\n",
    "    '''Эмбединг слова -- сумма эмбеддингов его непересекающихся n-грамм'''\n",
    "    begin = 0\n",
    "    end = 1\n",
    "    parts = []\n",
    "    while end <= len(unk_token):\n",
    "        if unk_token[begin: end] in uk_emb:\n",
    "            end += 1\n",
    "        else:\n",
    "            parts.append(unk_token[begin: end - 1])\n",
    "            begin = end - 1\n",
    "            end = begin + 1\n",
    "    parts.append(unk_token[begin: ])\n",
    "    \n",
    "    emb = uk_emb[parts[0]].copy()\n",
    "    for part in parts[1: ]:\n",
    "        emb += uk_emb[part]\n",
    "    return emb "
   ]
  },
  {
   "cell_type": "code",
   "execution_count": 211,
   "metadata": {},
   "outputs": [],
   "source": [
    "def translate_ngramm(sentence):\n",
    "    \"\"\"\n",
    "    :args:\n",
    "        sentence - sentence in Ukrainian (str)\n",
    "    :returns:\n",
    "        translation - sentence in Russian (str)\n",
    "\n",
    "    * find ukrainian embedding for each word in sentence\n",
    "    * transform ukrainian embedding vector\n",
    "    * find nearest russian word and replace\n",
    "    \"\"\"\n",
    "    translated = []\n",
    "\n",
    "    # YOUR CODE HERE\n",
    "    tokenizer = WordPunctTokenizer()\n",
    "    tokens = tokenizer.tokenize(sentence)\n",
    "    \n",
    "    for token in tokens:\n",
    "        if token not in uk_emb:\n",
    "            emb = get_ngramm_embedding_oov(token)\n",
    "        else:\n",
    "            emb = uk_emb[token]\n",
    "        prediction = emb @ mapping\n",
    "        rus_token, rus_embedding = ru_emb.most_similar([prediction], topn=1)[0]\n",
    "        translated.append(rus_token)\n",
    "    return \" \".join(translated)"
   ]
  },
  {
   "cell_type": "code",
   "execution_count": 212,
   "metadata": {},
   "outputs": [
    {
     "name": "stdout",
     "output_type": "stream",
     "text": [
      "35 поверхность воздушной шары — ой пространство , потому для неё не выполняются правила симметрической геометрии .\n",
      "37 Можно мной еем это платье ?\n",
      "47 ен загрязнение можно было бы ына только если бы люди были более чувствительны к окружающей среды .\n",
      "50 Я бы со удовольствием сочинил сотни сложноподчинённые во jg со и , конечно во меня То дела .\n",
      "60 Со еем Алексея Палашка поприветствовал президент Белоруссии Александр Лукашенко .\n",
      "89 « Сколько стоить та носовая косыночка ? — « тринадцать со двадцать аш со пять центов »\n",
      "94 « Спасибо , — « по здоровье со мной »\n"
     ]
    }
   ],
   "source": [
    "for i, sent in enumerate(uk_corpus[::10]):\n",
    "    if i in [35, 37, 47, 50, 60, 89, 94]:\n",
    "        print(i, translate_ngramm(sent))"
   ]
  },
  {
   "cell_type": "markdown",
   "metadata": {},
   "source": [
    "К сожалению, не удалось достичь приемлемых результатов."
   ]
  },
  {
   "cell_type": "markdown",
   "metadata": {},
   "source": [
    "Попробуем приблизить слово всеми n-граммами, которые есть в словаре"
   ]
  },
  {
   "cell_type": "code",
   "execution_count": 281,
   "metadata": {},
   "outputs": [],
   "source": [
    "def get_ngramm_embedding_oov_2(unk_token):\n",
    "    '''Эмбединг слова -- сумма эмбеддингов всех его n-грамм'''\n",
    "    begin = 0\n",
    "    end = 1\n",
    "    parts = []\n",
    "    while end <= len(unk_token):\n",
    "        if unk_token[begin: end] in uk_emb:\n",
    "            parts.append(unk_token[begin: end])\n",
    "            end += 1\n",
    "        else:\n",
    "            begin += 1\n",
    "            end = begin + 1\n",
    "    #parts.append(unk_token[begin: ])\n",
    "    #print(parts)\n",
    "    emb = uk_emb[parts[0]].copy()\n",
    "    for part in parts[1: ]:\n",
    "        emb += uk_emb[part]\n",
    "    return emb"
   ]
  },
  {
   "cell_type": "code",
   "execution_count": 283,
   "metadata": {},
   "outputs": [],
   "source": [
    "def translate_ngramm_2(sentence):\n",
    "    \"\"\"\n",
    "    :args:\n",
    "        sentence - sentence in Ukrainian (str)\n",
    "    :returns:\n",
    "        translation - sentence in Russian (str)\n",
    "\n",
    "    * find ukrainian embedding for each word in sentence\n",
    "    * transform ukrainian embedding vector\n",
    "    * find nearest russian word and replace\n",
    "    \"\"\"\n",
    "    translated = []\n",
    "\n",
    "    # YOUR CODE HERE\n",
    "    tokenizer = WordPunctTokenizer()\n",
    "    tokens = tokenizer.tokenize(sentence)\n",
    "    \n",
    "    for token in tokens:\n",
    "        if token not in uk_emb:\n",
    "            emb = get_ngramm_embedding_oov_2(token)\n",
    "        else:\n",
    "            emb = uk_emb[token]\n",
    "        prediction = emb @ mapping\n",
    "        rus_token, rus_embedding = ru_emb.most_similar([prediction], topn=1)[0]\n",
    "        translated.append(rus_token)\n",
    "    return \" \".join(translated)"
   ]
  },
  {
   "cell_type": "code",
   "execution_count": 284,
   "metadata": {},
   "outputs": [
    {
     "name": "stdout",
     "output_type": "stream",
     "text": [
      "35 поверхность воздушной шары — ен пространство , потому для неё не выполняются правила симметрической геометрии .\n",
      "37 Можно мной ва это платье ?\n",
      "47 ен загрязнение можно было бы ьс только если бы люди были более чувствительны к окружающей среды .\n",
      "50 Я бы со удовольствием сочинил сотни сложноподчинённые во .n со и , конечно во меня То дела .\n",
      "60 Со ен Алексея Палашка поприветствовал президент Белоруссии Александр Лукашенко .\n",
      "89 « Сколько стоить та носовая косыночка ? — « тринадцать со двадцать аш со пять центов »\n",
      "94 « Спасибо , — « по здоровье со мной »\n"
     ]
    }
   ],
   "source": [
    "for i, sent in enumerate(uk_corpus[::10]):\n",
    "    if i in [35, 37, 47, 50, 60, 89, 94]:\n",
    "        print(i, translate_ngramm_2(sent))"
   ]
  },
  {
   "cell_type": "markdown",
   "metadata": {},
   "source": [
    "И эта идея не привела к успеху :("
   ]
  },
  {
   "cell_type": "markdown",
   "metadata": {
    "id": "PXMxWUtipDD8"
   },
   "source": [
    "Great! \n",
    "See second notebook for the Neural Machine Translation assignment."
   ]
  }
 ],
 "metadata": {
  "anaconda-cloud": {},
  "colab": {
   "collapsed_sections": [],
   "machine_shape": "hm",
   "name": "Lab1_NLP_part1_Embedding_based_MT.ipynb",
   "provenance": []
  },
  "kernelspec": {
   "display_name": "Python 3",
   "language": "python",
   "name": "python3"
  },
  "language_info": {
   "codemirror_mode": {
    "name": "ipython",
    "version": 3
   },
   "file_extension": ".py",
   "mimetype": "text/x-python",
   "name": "python",
   "nbconvert_exporter": "python",
   "pygments_lexer": "ipython3",
   "version": "3.7.11"
  }
 },
 "nbformat": 4,
 "nbformat_minor": 1
}
