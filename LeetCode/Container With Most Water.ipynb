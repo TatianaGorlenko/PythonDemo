{
 "cells": [
  {
   "cell_type": "markdown",
   "metadata": {},
   "source": [
    "# Container With Most Water\n",
    "\n",
    "Given n non-negative integers $a_1$, $a_2$, ..., $a_n$ , where each represents a point at coordinate (i, $a_i$). n vertical lines are drawn such that the two endpoints of line i is at (i, $a_i$) and (i, 0). Find two lines, which together with x-axis forms a container, such that the container contains the most water.\n",
    "\n",
    "Note: You may not slant the container and n is at least 2.\n",
    "\n",
    "![](container.png)\n",
    "\n",
    "The above vertical lines are represented by array [1,8,6,2,5,4,8,3,7]. In this case, the max area of water (blue section) the container can contain is 49. "
   ]
  },
  {
   "cell_type": "code",
   "execution_count": 1,
   "metadata": {},
   "outputs": [
    {
     "name": "stdout",
     "output_type": "stream",
     "text": [
      "[1, 3, 2, 5, 25, 24, 5] : 24\n",
      "[1, 8, 6, 2, 5, 4, 8, 3, 7] : 49\n"
     ]
    }
   ],
   "source": [
    "def maxArea(height):\n",
    "    \"\"\"\n",
    "    :type height: List[int]\n",
    "    :rtype: int\n",
    "    \"\"\"\n",
    "    right = 0\n",
    "    left = len(height) - 1\n",
    "    V_max = 0\n",
    "    while right < left:\n",
    "        if height[right] < height[left]:\n",
    "            V = height[right] * (left - right)\n",
    "            right += 1\n",
    "        elif height[left] < height[right]:\n",
    "            V = height[left] * (left - right)\n",
    "            left -= 1\n",
    "        else:\n",
    "            V = height[left] * (left - right)\n",
    "            right += 1\n",
    "            left -= 1\n",
    "        if V > V_max:\n",
    "            V_max = V\n",
    "    return(V_max)\n",
    "\n",
    "if __name__ == '__main__':\n",
    "    print([1,3,2,5,25,24,5], ':' , maxArea([1,3,2,5,25,24,5]))\n",
    "    print([1,8,6,2,5,4,8,3,7], ':' , maxArea([1,8,6,2,5,4,8,3,7]))"
   ]
  },
  {
   "cell_type": "code",
   "execution_count": null,
   "metadata": {},
   "outputs": [],
   "source": []
  }
 ],
 "metadata": {
  "kernelspec": {
   "display_name": "Python 3",
   "language": "python",
   "name": "python3"
  },
  "language_info": {
   "codemirror_mode": {
    "name": "ipython",
    "version": 3
   },
   "file_extension": ".py",
   "mimetype": "text/x-python",
   "name": "python",
   "nbconvert_exporter": "python",
   "pygments_lexer": "ipython3",
   "version": "3.7.1"
  }
 },
 "nbformat": 4,
 "nbformat_minor": 2
}
