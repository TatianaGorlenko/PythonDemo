{
 "cells": [
  {
   "cell_type": "markdown",
   "metadata": {},
   "source": [
    "# Напоминание\n",
    "\n",
    "лучший друг: http://spark.apache.org/docs/latest/api/python/index.html"
   ]
  },
  {
   "cell_type": "code",
   "execution_count": 1,
   "metadata": {},
   "outputs": [
    {
     "ename": "ModuleNotFoundError",
     "evalue": "No module named 'findspark'",
     "output_type": "error",
     "traceback": [
      "\u001b[0;31m---------------------------------------------------------------------------\u001b[0m",
      "\u001b[0;31mModuleNotFoundError\u001b[0m                       Traceback (most recent call last)",
      "\u001b[0;32m<ipython-input-1-145a6f76e86a>\u001b[0m in \u001b[0;36m<module>\u001b[0;34m\u001b[0m\n\u001b[0;32m----> 1\u001b[0;31m \u001b[0;32mimport\u001b[0m \u001b[0mfindspark\u001b[0m\u001b[0;34m\u001b[0m\u001b[0;34m\u001b[0m\u001b[0m\n\u001b[0m\u001b[1;32m      2\u001b[0m \u001b[0mfindspark\u001b[0m\u001b[0;34m.\u001b[0m\u001b[0minit\u001b[0m\u001b[0;34m(\u001b[0m\u001b[0;34m)\u001b[0m\u001b[0;34m\u001b[0m\u001b[0;34m\u001b[0m\u001b[0m\n\u001b[1;32m      3\u001b[0m \u001b[0;32mimport\u001b[0m \u001b[0mpyspark\u001b[0m\u001b[0;34m\u001b[0m\u001b[0;34m\u001b[0m\u001b[0m\n\u001b[1;32m      4\u001b[0m \u001b[0;32mfrom\u001b[0m \u001b[0mpyspark\u001b[0m\u001b[0;34m.\u001b[0m\u001b[0msql\u001b[0m \u001b[0;32mimport\u001b[0m \u001b[0mfunctions\u001b[0m\u001b[0;34m\u001b[0m\u001b[0;34m\u001b[0m\u001b[0m\n",
      "\u001b[0;31mModuleNotFoundError\u001b[0m: No module named 'findspark'"
     ]
    }
   ],
   "source": [
    "import findspark\n",
    "findspark.init()\n",
    "import pyspark\n",
    "from pyspark.sql import functions"
   ]
  },
  {
   "cell_type": "code",
   "execution_count": null,
   "metadata": {},
   "outputs": [],
   "source": [
    "sc = pyspark.SparkContext(appName='Domashka')\n",
    "sql = pyspark.HiveContext(sc)"
   ]
  },
  {
   "cell_type": "markdown",
   "metadata": {},
   "source": [
    "## Датасеты, которые понадобятся\n",
    "### Alexa Millon\n",
    "топ 1М сайтов в рейтинге"
   ]
  },
  {
   "cell_type": "code",
   "execution_count": null,
   "metadata": {},
   "outputs": [],
   "source": [
    "from pyspark.sql.types import StructType, StructField, IntegerType, StringType\n",
    "\n",
    "top_schema = StructType((\n",
    "    StructField(\"rank\", IntegerType(), nullable=False),\n",
    "    StructField(\"site\", StringType(), nullable=False),\n",
    "))\n",
    "alexa_top_df = sql.read.csv('/data/top-1m.csv', schema=top_schema)"
   ]
  },
  {
   "cell_type": "code",
   "execution_count": null,
   "metadata": {},
   "outputs": [],
   "source": [
    "alexa_top_df.show()"
   ]
  },
  {
   "cell_type": "markdown",
   "metadata": {},
   "source": [
    "### zgrab: результат сканирования интернета \n",
    "\n",
    "в этом датасете лежат результаты обхода интернета в поисках открытых портов 8888. Он как вы знаете используется блокнотиками Jupyter. А еще проксякми и веб-серверами"
   ]
  },
  {
   "cell_type": "code",
   "execution_count": null,
   "metadata": {},
   "outputs": [],
   "source": [
    "zgrab_content = sql.read.json('/data/zgrab.json').drop('_corrupt_record')"
   ]
  },
  {
   "cell_type": "code",
   "execution_count": null,
   "metadata": {},
   "outputs": [],
   "source": [
    "zgrab_content.show()"
   ]
  },
  {
   "cell_type": "markdown",
   "metadata": {},
   "source": [
    "### resovled: IP-адреса сайтов из Alexa million"
   ]
  },
  {
   "cell_type": "code",
   "execution_count": null,
   "metadata": {},
   "outputs": [],
   "source": [
    "resolve_schema = (\n",
    "    StructType()\n",
    "    .add(\"host\", \"string\")\n",
    "    .add(\"ip\", \"string\")\n",
    ")\n",
    "resolved = sql.read.csv(\"/data/ips\", schema=resolve_schema)\n",
    "resolved.show()"
   ]
  },
  {
   "cell_type": "markdown",
   "metadata": {},
   "source": [
    "# 1.1 Статистика по статусам ответов\n",
    "\n",
    "напомним схему данных в zgrab:"
   ]
  },
  {
   "cell_type": "code",
   "execution_count": null,
   "metadata": {},
   "outputs": [],
   "source": [
    "zgrab_content.printSchema()"
   ]
  },
  {
   "cell_type": "markdown",
   "metadata": {},
   "source": [
    "вытащим из него данные по статусу ответов:"
   ]
  },
  {
   "cell_type": "code",
   "execution_count": null,
   "metadata": {},
   "outputs": [],
   "source": [
    "zgrad_codes = (\n",
    "    zgrab_content\n",
    "    .select(\"data.http.response.status_code\")\n",
    ")\n",
    "\n",
    "zgrad_codes.show()"
   ]
  },
  {
   "cell_type": "markdown",
   "metadata": {},
   "source": [
    "### Задание 1\n",
    "посчитайте общую статистику: сколько было зафиксировано ответов с каждым статусом\n",
    "\n",
    "Должно получиться что-то такое:\n",
    "\n",
    "```\n",
    "+-----------+-----+\n",
    "|status_code|count|\n",
    "+-----------+-----+\n",
    "|       null|36390|\n",
    "|        200| 7132|\n",
    "|        404| 1971|\n",
    "|        403| 1724|\n",
    "|        503| 1242|\n",
    "|        400|  658|\n",
    "|        401|  576|\n",
    "|        502|  142|\n",
    "|        405|   35|\n",
    "|        500|   32|\n",
    "|        426|   29|\n",
    "|        302|   23|\n",
    "|        407|   11|\n",
    "|        501|    5|\n",
    "|        410|    2|\n",
    "|        596|    1|\n",
    "|        206|    1|\n",
    "|        504|    1|\n",
    "|        422|    1|\n",
    "|        101|    1|\n",
    "+-----------+-----+\n",
    "```"
   ]
  },
  {
   "cell_type": "markdown",
   "metadata": {},
   "source": [
    "## Задание 2\n",
    "\n",
    "Отфильтруйте `zgrab_codes` так чтобы он не содержал пустых значений:"
   ]
  },
  {
   "cell_type": "code",
   "execution_count": null,
   "metadata": {},
   "outputs": [],
   "source": [
    "zgrab_codes_nonull = # ваш код здесь\n",
    "\n",
    "zgrab_codes_nonull.show(5)"
   ]
  },
  {
   "cell_type": "markdown",
   "metadata": {},
   "source": [
    "## Задание 3\n",
    "Посчитайте, сколько ответов сообщали об ошибке.\n",
    "\n",
    "- `status_code` будет принимать значения от 400 до 499 при ошибке на стороне клиента (ошибка 4хх)\n",
    "\n",
    "- `status_code` будет принимать значения от 500 до 599 при ошибке на стороне сервера (ошибка 5хх)\n",
    "\n",
    "Посчитайте, сколько было было ошибок 4хх и 5хх\n",
    "\n",
    "В ответе что-то такое:\n",
    "\n",
    "```\n",
    "+----------+-----+\n",
    "|short_code|count|\n",
    "+----------+-----+\n",
    "|         5| 1423|\n",
    "|         4| 5007|\n",
    "+----------+-----+\n",
    "```"
   ]
  },
  {
   "cell_type": "markdown",
   "metadata": {},
   "source": [
    "## Задание 4\n",
    "\n",
    "Определите IP-адреса для сайтов в рейтинге Алексы\n",
    "\n",
    "В ответе такое:\n",
    "\n",
    "```\n",
    "+----+-------------+-------------+---------------+\n",
    "|rank|         site|         host|             ip|\n",
    "+----+-------------+-------------+---------------+\n",
    "|   1|   google.com|   google.com| 216.58.212.238|\n",
    "|   2|  youtube.com|  youtube.com| 172.217.19.206|\n",
    "|   3| facebook.com| facebook.com|  157.240.20.35|\n",
    "|   4|    baidu.com|    baidu.com|123.125.115.110|\n",
    "|   4|    baidu.com|    baidu.com| 220.181.57.216|\n",
    "|   5|wikipedia.org|wikipedia.org| 91.198.174.192|\n",
    "|   6|       qq.com|       qq.com|  111.161.64.48|\n",
    "|   6|       qq.com|       qq.com|  111.161.64.40|\n",
    "|   7|   taobao.com|   taobao.com| 140.205.94.189|\n",
    "|   7|   taobao.com|   taobao.com| 140.205.220.96|\n",
    "|   8|    yahoo.com|    yahoo.com|     72.30.35.9|\n",
    "|   8|    yahoo.com|    yahoo.com| 98.138.219.232|\n",
    "|   8|    yahoo.com|    yahoo.com|    72.30.35.10|\n",
    "|   8|    yahoo.com|    yahoo.com| 98.138.219.231|\n",
    "|   8|    yahoo.com|    yahoo.com|   98.137.246.8|\n",
    "|   8|    yahoo.com|    yahoo.com|   98.137.246.7|\n",
    "|   9|    tmall.com|    tmall.com| 140.205.130.99|\n",
    "|   9|    tmall.com|    tmall.com| 140.205.94.193|\n",
    "|  10|   amazon.com|   amazon.com| 176.32.103.205|\n",
    "|  10|   amazon.com|   amazon.com|205.251.242.103|\n",
    "+----+-------------+-------------+---------------+\n",
    "```"
   ]
  },
  {
   "cell_type": "markdown",
   "metadata": {},
   "source": [
    "## Задание 5\n",
    "\n",
    "Найдите, какие сайты из рейтинга алексы держат порт 8888 открытым (то есть присутствуют также в датасете `zgrab_content` и у них `status_code` – не `NULL`)\n",
    "\n",
    "\n",
    "примерный ответ:\n",
    "\n",
    "```\n",
    "+-------------------+-----------+-----+---------------+\n",
    "|               site|status_code| rank|             ip|\n",
    "+-------------------+-----------+-----+---------------+\n",
    "|   thedailystar.net|        503| 5976| 107.154.81.121|\n",
    "|           comfy.ua|        503|13880|   45.60.72.216|\n",
    "|nationalexpress.com|        503|17692| 149.126.74.191|\n",
    "|   surveyjunkie.com|        503|29149|107.154.249.243|\n",
    "|       tripcase.com|        503|33526|   45.60.46.204|\n",
    "|           aota.org|        503|34832|   45.60.63.136|\n",
    "|   translink.com.au|        503|35576|   45.60.15.189|\n",
    "| princehotels.co.jp|        503|40954|   45.60.72.180|\n",
    "|    lottery-win.org|        503|41344| 107.154.213.27|\n",
    "|          cinesa.es|        503|57032|107.154.113.141|\n",
    "+-------------------+-----------+-----+---------------+\n",
    "```"
   ]
  }
 ],
 "metadata": {
  "kernelspec": {
   "display_name": "Python 3",
   "language": "python",
   "name": "python3"
  },
  "language_info": {
   "codemirror_mode": {
    "name": "ipython",
    "version": 3
   },
   "file_extension": ".py",
   "mimetype": "text/x-python",
   "name": "python",
   "nbconvert_exporter": "python",
   "pygments_lexer": "ipython3",
   "version": "3.7.1"
  }
 },
 "nbformat": 4,
 "nbformat_minor": 2
}
