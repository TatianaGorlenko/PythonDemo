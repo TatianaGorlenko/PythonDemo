{
 "cells": [
  {
   "cell_type": "markdown",
   "metadata": {
    "id": "p4V6X26FcseO"
   },
   "source": [
    "# Практика №3\n",
    "\n",
    "Теперь в качестве акустической модели мы будем использовать простой DNN классификатор. На каждом кадре записи мы будем подавать его вектор признаков на DNN, которая будет выдавать \"распределение вероятностей\" по фонемам. Далее это распределение мы будем использовать в нашем алгоритме распознавания по словарю. Схема работы такого классификатора представлена ниже: \n",
    "\n",
    "![](https://drive.google.com/uc?export=view&id=1dv0VuE8DIoKXETbvnZq2PMixkWMCJOxr)"
   ]
  },
  {
   "cell_type": "markdown",
   "metadata": {
    "id": "rHZ_-8Zgddys"
   },
   "source": [
    "### Bootstrap"
   ]
  },
  {
   "cell_type": "code",
   "execution_count": null,
   "metadata": {
    "colab": {
     "base_uri": "https://localhost:8080/"
    },
    "id": "Cn3HKnaHdsvg",
    "outputId": "77060663-c4c3-4181-9c55-3195ce65cab1"
   },
   "outputs": [
    {
     "name": "stdout",
     "output_type": "stream",
     "text": [
      "Requirement already satisfied: gdown in /usr/local/lib/python3.7/dist-packages (4.4.0)\n",
      "Requirement already satisfied: tqdm in /usr/local/lib/python3.7/dist-packages (from gdown) (4.64.0)\n",
      "Requirement already satisfied: filelock in /usr/local/lib/python3.7/dist-packages (from gdown) (3.7.0)\n",
      "Requirement already satisfied: six in /usr/local/lib/python3.7/dist-packages (from gdown) (1.15.0)\n",
      "Requirement already satisfied: requests[socks] in /usr/local/lib/python3.7/dist-packages (from gdown) (2.23.0)\n",
      "Requirement already satisfied: beautifulsoup4 in /usr/local/lib/python3.7/dist-packages (from gdown) (4.6.3)\n",
      "Requirement already satisfied: idna<3,>=2.5 in /usr/local/lib/python3.7/dist-packages (from requests[socks]->gdown) (2.10)\n",
      "Requirement already satisfied: chardet<4,>=3.0.2 in /usr/local/lib/python3.7/dist-packages (from requests[socks]->gdown) (3.0.4)\n",
      "Requirement already satisfied: urllib3!=1.25.0,!=1.25.1,<1.26,>=1.21.1 in /usr/local/lib/python3.7/dist-packages (from requests[socks]->gdown) (1.24.3)\n",
      "Requirement already satisfied: certifi>=2017.4.17 in /usr/local/lib/python3.7/dist-packages (from requests[socks]->gdown) (2021.10.8)\n",
      "Requirement already satisfied: PySocks!=1.5.7,>=1.5.6 in /usr/local/lib/python3.7/dist-packages (from requests[socks]->gdown) (1.7.1)\n",
      "/usr/local/lib/python3.7/dist-packages/gdown/cli.py:131: FutureWarning: Option `--id` was deprecated in version 4.3.1 and will be removed in 5.0. You don't need to pass it anymore to use a file ID.\n",
      "  category=FutureWarning,\n",
      "Downloading...\n",
      "From: https://drive.google.com/uc?id=1meikF0XqBUnVZKoY3160MQ0R25lq-EMu\n",
      "To: /content/lab2.zip\n",
      "100% 1.66M/1.66M [00:00<00:00, 186MB/s]\n",
      "/usr/local/lib/python3.7/dist-packages/gdown/cli.py:131: FutureWarning: Option `--id` was deprecated in version 4.3.1 and will be removed in 5.0. You don't need to pass it anymore to use a file ID.\n",
      "  category=FutureWarning,\n",
      "Downloading...\n",
      "From: https://drive.google.com/uc?id=1f0LkW6I3Q5CnOThuNFAJ9umgnb2eU4Ox\n",
      "To: /content/train_librispeech_10h.zip\n",
      "100% 679M/679M [00:15<00:00, 44.2MB/s]\n",
      "/content/lab3\n"
     ]
    }
   ],
   "source": [
    "# !pip install --upgrade --no-cache-dir gdown\n",
    "\n",
    "# !gdown --id '1meikF0XqBUnVZKoY3160MQ0R25lq-EMu'\n",
    "# !gdown --id '1f0LkW6I3Q5CnOThuNFAJ9umgnb2eU4Ox'\n",
    "\n",
    "# !unzip -q lab2.zip\n",
    "# !unzip -q train_librispeech_10h.zip\n",
    "# !mv lab2 lab3\n",
    "# !mv train_librispeech_10h lab3/data\n",
    "# !rm -rf lab2.zip sample_data train_librispeech_10h.zip\n",
    "# %cd lab3"
   ]
  },
  {
   "cell_type": "code",
   "execution_count": 1,
   "metadata": {
    "id": "5ce6879uekCJ"
   },
   "outputs": [],
   "source": [
    "import os\n",
    "import numpy as np\n",
    "import time\n",
    "from tqdm.notebook import tqdm\n",
    "import matplotlib.pyplot as plt\n",
    "import IPython.display as ipd\n",
    "import librosa, librosa.display\n",
    "import torch\n",
    "import torch.nn as nn\n",
    "import torch.functional as F\n",
    "\n",
    "\n",
    "%matplotlib inline\n",
    "plt.rcParams['figure.figsize'] = (15.0, 5.0)\n",
    "plt.rcParams['image.interpolation'] = 'nearest'\n",
    "plt.rcParams['image.cmap'] = 'gray'"
   ]
  },
  {
   "cell_type": "code",
   "execution_count": 2,
   "metadata": {
    "colab": {
     "base_uri": "https://localhost:8080/",
     "height": 66,
     "referenced_widgets": [
      "ad8e8b8829e54a828a6cd3e8738e5c7d",
      "0da58b33113842de9630eb5bf85274a0",
      "302956719c0c4f8b881ef685d1a67e0c",
      "43cd5dd1225647b5bd2d1ab01c9768ee",
      "63396d1f8c734a03a3723334a6d55021",
      "ed998554b0c843e2ad2bf9543dc6e9c4",
      "a7d040b1694e4ed1a08cb73a0e716613",
      "c58fdd24dd2444dda7e1e8bfc3cf3327",
      "6ae653960b09442cb57247c68cfe6247",
      "6ee819bdf0504d369dfc0d73cb6abfea",
      "15ca012983484e1890190ab8dde28d7c"
     ]
    },
    "id": "962pS6h8e1kp",
    "outputId": "c1cc2688-21f1-45d0-9155-a9078aef2316"
   },
   "outputs": [
    {
     "data": {
      "application/vnd.jupyter.widget-view+json": {
       "model_id": "ae2daa90b0fb45f281ea06ceca2e809f",
       "version_major": 2,
       "version_minor": 0
      },
      "text/plain": [
       "  0%|          | 0/3000 [00:00<?, ?it/s]"
      ]
     },
     "metadata": {},
     "output_type": "display_data"
    },
    {
     "name": "stdout",
     "output_type": "stream",
     "text": [
      "Early stop at 1000th file..\n"
     ]
    }
   ],
   "source": [
    "# загрузка списка допустимых фонем:\n",
    "def load_phones_dict(phones_file):\n",
    "    phones_dict = {}\n",
    "    with open(phones_file, encoding='utf-8') as fn:\n",
    "        for index, line in enumerate(fn):\n",
    "            phones_dict[line.strip()] = index\n",
    "    return phones_dict\n",
    "\n",
    "# загрузка покадровой фонемной разметки в словарь:\n",
    "def load_phone_aligment(aligment_file):\n",
    "    ali_dict = {}\n",
    "    with open(aligment_file, encoding='utf-8') as fn:\n",
    "        for line in fn:\n",
    "            line = line.strip().split()\n",
    "            ali_dict[line[0]] = line[1:]\n",
    "    return ali_dict\n",
    "\n",
    "# подсчет акустиеских признаков для записей из папки:\n",
    "def load_data_dict(dir_path, count=None):\n",
    "    data_dict = {}\n",
    "    step = 0\n",
    "    for wav_name in tqdm(os.listdir(dir_path)):\n",
    "        x, sr = librosa.load(os.path.join(dir_path, wav_name), sr=None) \n",
    "        mfcc = librosa.feature.mfcc(y=x,\n",
    "                                    sr=sr,\n",
    "                                    n_mfcc=13, \n",
    "                                    n_fft=int(sr * 0.025),\n",
    "                                    hop_length=int(sr * 0.01))\n",
    "        step += 1\n",
    "        if count and step == count:\n",
    "            print(f'Early stop at {step}th file..')\n",
    "            break\n",
    "        data_dict[wav_name.split('.')[0]] = mfcc.T  \n",
    "    return data_dict\n",
    "\n",
    "\n",
    "phones_file = 'data/train_librispeech_10h/phones'\n",
    "phones_dict = load_phones_dict(phones_file)   # {фонема: id}\n",
    "\n",
    "ali_file = 'data/train_librispeech_10h/ali_phones.txt'\n",
    "ali_dict = load_phone_aligment(ali_file)    # {имя_файла: список произнесенных фонем}\n",
    "\n",
    "train_records_dir = 'data/train_librispeech_10h/wav_dir'\n",
    "feats_dict = load_data_dict(train_records_dir, count=1000)  # {имя_файла: mfcc-признаки}"
   ]
  },
  {
   "cell_type": "markdown",
   "metadata": {
    "id": "uANGmL0ufNIW"
   },
   "source": [
    "### Априорная вероятность:\n",
    "\n",
    "![](https://drive.google.com/uc?export=view&id=1WhjclhXm2POYsCgvxp3iAIOvT9F_k8If)\n",
    "\n",
    "http://data-science.wiki/images/Automatic_Speech_Recognition_RxtNVMXYTy.pdf"
   ]
  },
  {
   "cell_type": "code",
   "execution_count": 3,
   "metadata": {
    "id": "2n8qgqIrfiS_"
   },
   "outputs": [],
   "source": [
    "# объединение кадров признаков с соответствующими им фонемам:\n",
    "def combain_data(ali_dict, feats_dict, phones_dict, side_context=None):\n",
    "    data_list = []\n",
    "    priors_list = [0] * len(phones_dict)\n",
    "    for file_name in feats_dict.keys():\n",
    "        file_feats = feats_dict[file_name]   # mfcc-признаки\n",
    "        file_ali = ali_dict[file_name]       # список произнесенных фонем\n",
    "        for frame in range(min(len(file_feats), len(file_ali))):\n",
    "            data_list.append(np.append(file_feats[frame], phones_dict[file_ali[frame]]))\n",
    "            priors_list[phones_dict[file_ali[frame]]] += 1\n",
    "    return data_list, np.array(priors_list)/sum(priors_list)\n",
    "\n",
    "side_context = None\n",
    "data_list, priors_list = combain_data(ali_dict, feats_dict, phones_dict, side_context)\n",
    "data_list = np.random.permutation(data_list)"
   ]
  },
  {
   "cell_type": "code",
   "execution_count": 4,
   "metadata": {
    "id": "qHLC2DdUftpu"
   },
   "outputs": [],
   "source": [
    "class CommonDataSet():\n",
    "\n",
    "    def __init__(self, data_list, device, valid_proportion=0.1):\n",
    "        self.train = data_list[:int((1-valid_proportion)*len(data_list))]\n",
    "        self.valid = data_list[int((1-valid_proportion)*len(data_list)):]\n",
    "        self.device = device\n",
    "        \n",
    "    def num_batches(self, batch_size):\n",
    "        return len(self.train)//batch_size        \n",
    "        \n",
    "    def next_batch(self, batch_size):\n",
    "        for i in range(self.num_batches(batch_size)):\n",
    "            batch_xs = torch.tensor(self.train[i * batch_size:(i + 1) * batch_size, :-1], dtype=torch.float32)\n",
    "            batch_ys = torch.tensor(self.train[i * batch_size:(i + 1) * batch_size,-1].ravel(), dtype=torch.int64)\n",
    "\n",
    "            yield batch_xs.to(device), batch_ys.to(device)\n",
    "            "
   ]
  },
  {
   "cell_type": "code",
   "execution_count": 5,
   "metadata": {
    "id": "a9uSB2Q_fu_M"
   },
   "outputs": [],
   "source": [
    "class MyNNet(torch.nn.Module):\n",
    "\n",
    "    def __init__(self, input_dim, output_dim):\n",
    "        super(MyNNet, self).__init__()\n",
    "        # params:\n",
    "        ff_dim = 256\n",
    "\n",
    "        self.ff_net = torch.nn.Sequential(\n",
    "            nn.Linear(input_dim, ff_dim),\n",
    "            nn.ReLU(),\n",
    "            nn.Linear(ff_dim, ff_dim),\n",
    "            nn.ReLU(),\n",
    "            nn.Linear(ff_dim, output_dim),\n",
    "        )\n",
    "\n",
    "\n",
    "    def forward(self, x):\n",
    "        x = self.ff_net(x)\n",
    "        return (x)"
   ]
  },
  {
   "cell_type": "code",
   "execution_count": 6,
   "metadata": {
    "colab": {
     "base_uri": "https://localhost:8080/",
     "height": 545,
     "referenced_widgets": [
      "9ac88e05e0ac4833b33fd5242a1ac8ce",
      "39aa3bc531264719bdf0ffb52352811c",
      "3df7d9230a3c40968c015fa6fdda64e6",
      "cc57021734b946f3a0a3622d673a1ef2",
      "546c155100fd448b9be3c5482ea2445a",
      "607887f6655240beaa1e03240b1b26cc",
      "b024239258054c1aae5793f4071d60d0",
      "ea4fe1291a844478b62534dbd2a626d8",
      "a5a9a1517de84a17a4588719a063b68d",
      "377296cc075e41c2a5b40ee3aaa7321e",
      "a167513119f3451cad722501a6580263",
      "0ca92cb12679415f925c4aab6d67eecc",
      "dd17d7fa6f4d438eb0f1fdfff4a554dd",
      "dccee0a8f4ea4081b5c047ac36676441",
      "ef496409e27f4f06b16fdb108f7a449f",
      "761a41730f354c0aa7b3930f9592ab59",
      "2f895c4019ae43deb6420c060d1ea9df",
      "3726b35bf331442eb5c1fa140b9ecd70",
      "3cbe0980f51f430eb4974030e89e473b",
      "e2e22ad7b9cc49f5a4a9aa1bcf7558a6",
      "188efc56c3cc4e3bb1ccba591636e3c1",
      "589e4b8a9f144a1ba0a538000e0d1ce3",
      "0e693167218143fdb1ebed02bcf12ff7",
      "255465883c7a4305b78b6835c9c0d9ac",
      "ba51c5f6c89145eb8454a74256afe2f4",
      "a8a6183788ba4b0ba58ccca1f5233976",
      "427a6b6a50f14579b47cfcd19e0933a3",
      "d6261b4e5b4d4aadb2bad7a046f96769",
      "37be4460574b456cb182d1c3e81354e2",
      "2f80b9db41964055a4b6a526150346c0",
      "0283ebe18a024860a2efef1b91df7d37",
      "92a5b33ee95340bbaabd63076d6c13f6",
      "70129cf863dd490685a479b811fc56b3",
      "498acdf398ae4f7495d95519b880457a",
      "af7446b776a2485d8e724c1bc2b39e90",
      "340013afdb7b40289141c3fdf0f84299",
      "1e6022b3a43440a2ba87959169532593",
      "772cc67724ee448fa5959d63ee5dd943",
      "cdd8d7bc32a948a9bd16b059d43d7444",
      "3c285f733fb74a398937bccc55462924",
      "6d0b8e3fcf994363834af3bc467e0de4",
      "1fa81597e630431aa5272f4d592bdd1a",
      "deef787440c5464aa61a46a80f57f9e4",
      "92564523bbd44c718a76a2eef53a6f0e",
      "c226bfe74c6a445b8f9a10252dad4799",
      "8605a601323648ba91f51db58cb86396",
      "b868dcc07f394e9c9dcc7c153ee4f7bb",
      "79bc58f23b8a494983a49ac2cae1246e",
      "65912d3197a547a6bd26d8ea9f8f8939",
      "88d4dcaf8c4b4406ae3036fcd78166a3",
      "6847108b0901402193c13e840dca4958",
      "bf1a6a89c12c44658dc1a83068a100a5",
      "efb3e964f44d4e629057f945c0e6ad11",
      "2e565b0e9f674efcbc1f973e91503d43",
      "bd533a9b082e4befb703b6d0e1030735",
      "8a215044397646839ff16165ee6497fc",
      "4062fd074d5143da99bea65b12f6c748",
      "9498c5ca68a94b3db9108bd797474b13",
      "08cc3c287a274892bb80e5fa7b36467a",
      "57f86e65ad484e948869f72cd7ac464f",
      "a8f11686baee4710968548e6acfb44f6",
      "926583f7165e4cf99c36251b07c932a1",
      "c03ac5dc3c984684aa82fac86c5e96ca",
      "55a67e76426b4e3c9bdc3564d43f363c",
      "915128e88a374e1f89779d263a1f98df",
      "594cad0cc82948b9b958564eb7c5c0c9",
      "af169e35dbb649228aac812f5a4a4383",
      "d8c793ca82a544a38b5bfebd57086b46",
      "fc6ae5c2e5ce45b0bce50ee27085b3e1",
      "98016f318c944abba1f3f1f12c6353af",
      "8706baf0d4d24fd8a21ac6cf43d0ac6a",
      "8657f9fc5f794b85a1c5b37846dad4ee",
      "d547a527395b49babcec79bc47ce4ef0",
      "9a2694f2e8e840c5af2ded8ef30bba83",
      "71145b9e7bef447b9405b1c38c44a6a2",
      "572720c467384a1ebd385733a7103ee5",
      "68d7cbf328c34b3ba4c734c46c656cc1",
      "d68ddcb3f3a84f58a1336d91149fe731",
      "a5def5b7ba5849be9ecf96338a942eb9",
      "e9e9e51bf7be48c4a0800c619d243d47",
      "4746f15737494a1288e94a6b8f640742",
      "fee3284c88e245048f4915e82a3d6a84",
      "70460f627c304cb8b59747228f61fd89",
      "6580bf672acb4f0288831791bc44dd5d",
      "ef2be3f393b5482b9b3e8eb596adb01f",
      "ec87ac905c22482b92f3bd3ee730806c",
      "3579328bd4034ebc8d1b9a626f2a9795",
      "4a945f12f5614947904593a71da41d62",
      "5993e820b704441690e135ac14a03eb5",
      "372e72d438f14d5d8e5fe76407f46d18",
      "3daaee6575e34ad1a0c4bca83fc14465",
      "ef1e260b5ea443bfbb17e79a93bfcb60",
      "d1759b91d8c3415aaab460de774f2a50",
      "5a82eb381de2424b9727106bf968366d",
      "9276c2c83b4e421a8cb6d979554f133a",
      "1419a8fca8e0429c802f9b4d9c14f2c5",
      "6a8b416b64f34b048ce95b66fe1e4c11",
      "0ffc946c61df4a6db96e623a8c36779f",
      "cd2d849f33eb4047857f5aa2916c84dd",
      "be82d34897ea4809a262fd7cd88bde0c",
      "cdecebf9955a4cae8183af571ff834d6",
      "77a4e56bd9b84c1fad62c02806a651ec",
      "0e8b2d6ceab14913ba96d43e4e03923b",
      "b8aaaa2450194e1e878e4293e81b5753",
      "1eaf43de5c984b0791e24dabe94ce2da",
      "e7baa576fb0c4c47a807b5d6f9badf9e",
      "dd92ac8a77834e75b628bfa8d7762ad4",
      "e7bd0fbda9eb43598acf42984fd74961",
      "b165e4f9ef0b404882c8794f0ad311a9",
      "24b69558c4224b81b8ecb91b1f6a9035"
     ]
    },
    "id": "owcdDPb8fy2_",
    "outputId": "be045aa4-7b14-48fe-f031-4dbb01e0bf41",
    "scrolled": true
   },
   "outputs": [
    {
     "name": "stdout",
     "output_type": "stream",
     "text": [
      "device =  cuda\n",
      "\n",
      "TRAINIG STARTED...\n"
     ]
    },
    {
     "data": {
      "application/vnd.jupyter.widget-view+json": {
       "model_id": "f535c5ae2fbf4ea6b84ecc1ab6895eb9",
       "version_major": 2,
       "version_minor": 0
      },
      "text/plain": [
       "epoch 0:   0%|          | 0/4511 [00:00<?, ?it/s]"
      ]
     },
     "metadata": {},
     "output_type": "display_data"
    },
    {
     "name": "stdout",
     "output_type": "stream",
     "text": [
      "loss is: 2.4531\n",
      "val loss is: 2.2607\n"
     ]
    },
    {
     "data": {
      "application/vnd.jupyter.widget-view+json": {
       "model_id": "9af93881012e4d9d82a9af57fba10e24",
       "version_major": 2,
       "version_minor": 0
      },
      "text/plain": [
       "epoch 1:   0%|          | 0/4511 [00:00<?, ?it/s]"
      ]
     },
     "metadata": {},
     "output_type": "display_data"
    },
    {
     "name": "stdout",
     "output_type": "stream",
     "text": [
      "loss is: 2.2431\n",
      "val loss is: 2.2142\n"
     ]
    },
    {
     "data": {
      "application/vnd.jupyter.widget-view+json": {
       "model_id": "90d28037718d4e5dbdcd994688faa26f",
       "version_major": 2,
       "version_minor": 0
      },
      "text/plain": [
       "epoch 2:   0%|          | 0/4511 [00:00<?, ?it/s]"
      ]
     },
     "metadata": {},
     "output_type": "display_data"
    },
    {
     "name": "stdout",
     "output_type": "stream",
     "text": [
      "loss is: 2.2061\n",
      "val loss is: 2.1886\n"
     ]
    },
    {
     "data": {
      "application/vnd.jupyter.widget-view+json": {
       "model_id": "a4a5500d26974177a341682ab9b7ca08",
       "version_major": 2,
       "version_minor": 0
      },
      "text/plain": [
       "epoch 3:   0%|          | 0/4511 [00:00<?, ?it/s]"
      ]
     },
     "metadata": {},
     "output_type": "display_data"
    },
    {
     "name": "stdout",
     "output_type": "stream",
     "text": [
      "loss is: 2.1800\n",
      "val loss is: 2.1673\n"
     ]
    },
    {
     "data": {
      "application/vnd.jupyter.widget-view+json": {
       "model_id": "bab65c91f1804db49f072aef23b9aabc",
       "version_major": 2,
       "version_minor": 0
      },
      "text/plain": [
       "epoch 4:   0%|          | 0/4511 [00:00<?, ?it/s]"
      ]
     },
     "metadata": {},
     "output_type": "display_data"
    },
    {
     "name": "stdout",
     "output_type": "stream",
     "text": [
      "loss is: 2.1597\n",
      "val loss is: 2.1513\n"
     ]
    },
    {
     "data": {
      "application/vnd.jupyter.widget-view+json": {
       "model_id": "2bcfe5b11ce145d8b143afbba568eda6",
       "version_major": 2,
       "version_minor": 0
      },
      "text/plain": [
       "epoch 5:   0%|          | 0/4511 [00:00<?, ?it/s]"
      ]
     },
     "metadata": {},
     "output_type": "display_data"
    },
    {
     "name": "stdout",
     "output_type": "stream",
     "text": [
      "loss is: 2.1436\n",
      "val loss is: 2.1422\n"
     ]
    },
    {
     "data": {
      "application/vnd.jupyter.widget-view+json": {
       "model_id": "f75d1e8ac44046878647042cd03bd1ae",
       "version_major": 2,
       "version_minor": 0
      },
      "text/plain": [
       "epoch 6:   0%|          | 0/4511 [00:00<?, ?it/s]"
      ]
     },
     "metadata": {},
     "output_type": "display_data"
    },
    {
     "name": "stdout",
     "output_type": "stream",
     "text": [
      "loss is: 2.1307\n",
      "val loss is: 2.1360\n"
     ]
    },
    {
     "data": {
      "application/vnd.jupyter.widget-view+json": {
       "model_id": "fd4225ad5fae467191572ea2b5096dcb",
       "version_major": 2,
       "version_minor": 0
      },
      "text/plain": [
       "epoch 7:   0%|          | 0/4511 [00:00<?, ?it/s]"
      ]
     },
     "metadata": {},
     "output_type": "display_data"
    },
    {
     "name": "stdout",
     "output_type": "stream",
     "text": [
      "loss is: 2.1202\n",
      "val loss is: 2.1278\n"
     ]
    },
    {
     "data": {
      "application/vnd.jupyter.widget-view+json": {
       "model_id": "21774dbee3f84be1ac5f20ea449db1ae",
       "version_major": 2,
       "version_minor": 0
      },
      "text/plain": [
       "epoch 8:   0%|          | 0/4511 [00:00<?, ?it/s]"
      ]
     },
     "metadata": {},
     "output_type": "display_data"
    },
    {
     "name": "stdout",
     "output_type": "stream",
     "text": [
      "loss is: 2.1112\n",
      "val loss is: 2.1195\n"
     ]
    },
    {
     "data": {
      "application/vnd.jupyter.widget-view+json": {
       "model_id": "08208b6bb5c44f7e881c78216847e3fd",
       "version_major": 2,
       "version_minor": 0
      },
      "text/plain": [
       "epoch 9:   0%|          | 0/4511 [00:00<?, ?it/s]"
      ]
     },
     "metadata": {},
     "output_type": "display_data"
    },
    {
     "name": "stdout",
     "output_type": "stream",
     "text": [
      "loss is: 2.1035\n",
      "val loss is: 2.1133\n",
      "Time is: 0 min 59 sec\n"
     ]
    }
   ],
   "source": [
    "device = torch.device('cuda' if torch.cuda.is_available() else 'cpu')\n",
    "print('device = ', device)\n",
    "print()\n",
    "\n",
    "# load data:\n",
    "data_set = CommonDataSet(data_list, device)\n",
    "\n",
    "batch_size = 256\n",
    "\n",
    "# training network model:\n",
    "start = time.time() \n",
    "nnet = MyNNet(input_dim=(data_list[0].shape[0] - 1),\n",
    "            output_dim=len(phones_dict.keys())).to(device)\n",
    "criterion = nn.CrossEntropyLoss()\n",
    "optimizer = torch.optim.Adam(nnet.parameters(), lr=0.0001)\n",
    "\n",
    "loss_list = []\n",
    "val_loss = []\n",
    "\n",
    "print('TRAINIG STARTED...')\n",
    "for epoch in range(10):\n",
    "    running_loss = 0\n",
    "    counter = 0\n",
    "    for batch_xs, batch_ys in tqdm(data_set.next_batch(batch_size), \\\n",
    "                                   total=data_set.num_batches(batch_size), \\\n",
    "                                   desc='epoch {}'.format(epoch)):\n",
    "        optimizer.zero_grad()\n",
    "        output = nnet(batch_xs)\n",
    "\n",
    "        loss = criterion(output, batch_ys)\n",
    "        loss.backward()\n",
    "        optimizer.step()\n",
    "        \n",
    "        running_loss += loss.item()\n",
    "        counter += 1\n",
    "        \n",
    "    with torch.no_grad():\n",
    "        nnet.eval()\n",
    "        val_xs = torch.tensor(data_set.valid[:, :-1], dtype=torch.float32).to(device)\n",
    "        val_ys = torch.tensor(data_set.valid[:,-1].ravel(), dtype=torch.int64).to(device)\n",
    "        val_out = nnet(val_xs)\n",
    "        val_l = criterion(val_out, val_ys)\n",
    "        val_loss.append(val_l.item())\n",
    "        \n",
    "    print('loss is: {:.4f}'.format((running_loss / counter)))\n",
    "    loss_list.append(running_loss / counter)\n",
    "    print('val loss is: {:.4f}'.format(val_l))\n",
    "    \n",
    "end = time.time()\n",
    "minutes = (end - start) // 60\n",
    "seconds = np.mod((end - start), 60)\n",
    "print('Time is: {} min {} sec'.format(int(minutes), int(seconds)))"
   ]
  },
  {
   "cell_type": "code",
   "execution_count": 7,
   "metadata": {
    "colab": {
     "base_uri": "https://localhost:8080/",
     "height": 350
    },
    "id": "Eb6dlB11f9tJ",
    "outputId": "45d239c2-f4c9-41c3-f6e4-08895f84a13a"
   },
   "outputs": [
    {
     "data": {
      "image/png": "[encoded data removed]",
      "text/plain": [
       "<Figure size 1080x360 with 1 Axes>"
      ]
     },
     "metadata": {
      "needs_background": "light"
     },
     "output_type": "display_data"
    }
   ],
   "source": [
    "plt.rcParams['figure.figsize'] = (15.0, 5.0)\n",
    "plt.plot(loss_list, label='train loss')\n",
    "plt.plot(val_loss, label='val loss')\n",
    "plt.title('Loss per epoch')\n",
    "plt.ylabel('loss')\n",
    "plt.xlabel('epoch')\n",
    "plt.grid()\n",
    "plt.legend()\n",
    "plt.show()"
   ]
  },
  {
   "cell_type": "code",
   "execution_count": 8,
   "metadata": {
    "colab": {
     "base_uri": "https://localhost:8080/",
     "height": 1000,
     "referenced_widgets": [
      "fc83bacb32b347d08acfcb603d9673ab",
      "34a19d035fcf4899828199a55799365b",
      "5ff643756baf49f7b8c67e66bb2e8018",
      "260cfd47fc6b4cac9e5534f62ca998b4",
      "de6a3afccad74c51b858e3852f6fd475",
      "9d22f339461148db848aa7db81238bb8",
      "0e32efd0274f43618306e57154a4ac30",
      "4ee9b2a9a9a14e318d5022c93f908d63",
      "40ccaef3f6894a389d522dc178a1f47b",
      "5b7b43a841c6406882bb32d8f21f1f71",
      "68469da20b864207a0bdc48c06cc278c"
     ]
    },
    "id": "Og_i93uLf96T",
    "outputId": "a1579551-0aa3-4444-e4f8-2d9bb834f73d"
   },
   "outputs": [
    {
     "data": {
      "application/vnd.jupyter.widget-view+json": {
       "model_id": "fab5cf0bac6347f48fb7ba9792b8039d",
       "version_major": 2,
       "version_minor": 0
      },
      "text/plain": [
       "  0%|          | 0/128315 [00:00<?, ?it/s]"
      ]
     },
     "metadata": {},
     "output_type": "display_data"
    },
    {
     "name": "stdout",
     "output_type": "stream",
     "text": [
      "Total frame accuracy is 0.411\n",
      "\n",
      "SIL: 0.95 : 21649/22671\n",
      "SPN: 0.00 : 0/634\n",
      "AA0: 0.00 : 0/33\n",
      "AA1: 0.33 : 607/1861\n",
      "AA2: 0.00 : 0/93\n",
      "AE0: 0.00 : 0/40\n",
      "AE1: 0.46 : 1670/3611\n",
      "AE2: 0.00 : 0/91\n",
      "AH0: 0.28 : 1615/5669\n",
      "AH1: 0.24 : 510/2098\n",
      "AH2: 0.00 : 0/41\n",
      "AO0: 0.00 : 0/27\n",
      "AO1: 0.37 : 754/2034\n",
      "AO2: 0.02 : 1/41\n",
      "AW0: 0.00 : 0/11\n",
      "AW1: 0.06 : 71/1121\n",
      "AW2: 0.00 : 0/47\n",
      "AY0: 0.00 : 0/47\n",
      "AY1: 0.15 : 467/3033\n",
      "AY2: 0.00 : 0/190\n",
      "B  : 0.20 : 310/1564\n",
      "CH : 0.00 : 1/892\n",
      "D  : 0.16 : 638/3957\n",
      "DH : 0.04 : 72/1994\n",
      "EH0: 0.00 : 0/47\n",
      "EH1: 0.15 : 425/2839\n",
      "EH2: 0.00 : 0/92\n",
      "ER0: 0.23 : 578/2501\n",
      "ER1: 0.12 : 104/887\n",
      "ER2: 0.00 : 0/9\n",
      "EY0: 0.00 : 0/25\n",
      "EY1: 0.46 : 1056/2278\n",
      "EY2: 0.00 : 0/149\n",
      "F  : 0.36 : 827/2328\n",
      "G  : 0.00 : 1/797\n",
      "HH : 0.22 : 465/2159\n",
      "IH0: 0.07 : 191/2723\n",
      "IH1: 0.13 : 300/2311\n",
      "IH2: 0.00 : 0/100\n",
      "IY0: 0.11 : 255/2221\n",
      "IY1: 0.64 : 1529/2386\n",
      "IY2: 0.00 : 0/73\n",
      "JH : 0.06 : 41/696\n",
      "K  : 0.23 : 712/3050\n",
      "L  : 0.57 : 2389/4227\n",
      "M  : 0.26 : 857/3328\n",
      "N  : 0.57 : 3382/5978\n",
      "NG : 0.09 : 125/1368\n",
      "OW0: 0.00 : 0/203\n",
      "OW1: 0.13 : 253/1889\n",
      "OW2: 0.00 : 0/54\n",
      "OY0: 0.00 : 0/3\n",
      "OY1: 0.00 : 1/287\n",
      "OY2: 0.00 : 0/14\n",
      "P  : 0.04 : 78/2093\n",
      "R  : 0.48 : 1884/3902\n",
      "S  : 0.67 : 4417/6635\n",
      "SH : 0.55 : 763/1393\n",
      "T  : 0.23 : 1499/6383\n",
      "TH : 0.00 : 3/785\n",
      "UH0: 0.00 : 0/2\n",
      "UH1: 0.00 : 0/403\n",
      "UH2: 0.00 : 0/3\n",
      "UW0: 0.00 : 0/93\n",
      "UW1: 0.16 : 260/1588\n",
      "UW2: 0.00 : 0/36\n",
      "V  : 0.07 : 114/1669\n",
      "W  : 0.28 : 675/2399\n",
      "Y  : 0.00 : 2/754\n",
      "Z  : 0.38 : 1246/3297\n",
      "ZH : 0.02 : 1/58\n"
     ]
    }
   ],
   "source": [
    "class_correct = [0 for x in range(len(phones_dict.keys()))]\n",
    "class_total = [0 for x in range(len(phones_dict.keys()))]\n",
    "\n",
    "nnet.cpu()\n",
    "\n",
    "with torch.no_grad():\n",
    "    correct_cnt = 0\n",
    "    for ftr, true_label in tqdm(zip(data_set.valid[:, :-1], data_set.valid[:, -1]), total=data_set.valid.shape[0]):\n",
    "        ftr = torch.from_numpy(ftr).float()\n",
    "        output = nnet.forward(ftr)\n",
    "        predicted_label = output.argmax().item()\n",
    "        correct_cnt += (predicted_label == true_label)\n",
    "        class_correct[predicted_label] += (predicted_label == int(true_label))\n",
    "        class_total[int(true_label)] += 1\n",
    "        \n",
    "print(\"Total frame accuracy is {:.3f}\\n\".format(correct_cnt / data_set.valid.shape[0]))\n",
    "\n",
    "for idx, phone in enumerate(phones_dict.keys()):\n",
    "    if class_total[idx]:\n",
    "        print('{:3s}: {:.2f} : {}/{}'.format(phone, class_correct[idx] / class_total[idx], \\\n",
    "                                                     class_correct[idx], class_total[idx]))"
   ]
  },
  {
   "cell_type": "markdown",
   "metadata": {
    "id": "nIRfRzMYgNn5"
   },
   "source": [
    "### Распознавание по словарю с помощью нейронной сети"
   ]
  },
  {
   "cell_type": "code",
   "execution_count": 9,
   "metadata": {
    "id": "BaGrFSm9gOYK"
   },
   "outputs": [],
   "source": [
    "# теперь будем распознавать по словарю, состоящему из конечных слов\n",
    "# для этого нужно загрузить файл лексикона, который определяет из каких фонем состоят наши слова\n",
    "def load_lexicon_dict(lexicon_file):\n",
    "    lexicon_dict = {}\n",
    "    with open(lexicon_file, encoding='utf-8') as fn:\n",
    "        for line in fn:\n",
    "            line = line.strip().split()\n",
    "            lexicon_dict[line[0]] = line[1:]\n",
    "    return lexicon_dict"
   ]
  },
  {
   "cell_type": "code",
   "execution_count": 177,
   "metadata": {
    "id": "-Nyn975_gSXX"
   },
   "outputs": [],
   "source": [
    "EPS = 1e-8\n",
    "\n",
    "class AcousticModel:\n",
    "    def __init__(self, phone_name, phone_index, priors_list):\n",
    "        self.phone_name = phone_name\n",
    "        self.phone_index = phone_index\n",
    "        self.phone_prior = priors_list[phone_index]\n",
    "        \n",
    "    def distance(self, input_feats, nnet, norm=False):\n",
    "        with torch.no_grad():\n",
    "            if norm:\n",
    "                input_feats = torch.from_numpy(np.array([input_feats])).float()\n",
    "                predicts = nnet.forward(torch.tensor(input_feats, dtype=torch.float32))\n",
    "                predicts = predicts[0]\n",
    "                softmax = torch.nn.functional.softmax(predicts, dim=0)\n",
    "                return -np.log(softmax[self.phone_index].item() / (self.phone_prior + EPS))\n",
    "            predicts = nnet.forward(torch.tensor(input_feats, dtype=torch.float32))\n",
    "            softmax = torch.nn.functional.softmax(predicts, dim=0)\n",
    "            \n",
    "        return -np.log(softmax[self.phone_index].item() / (self.phone_prior + EPS))\n",
    "\n",
    "class State:\n",
    "    def __init__(self, model, index):  \n",
    "        self.model = model                     # вектор признаков узла\n",
    "        self.is_final = False                  # является ли этот узел финальнвм в слове\n",
    "        self.word = None                       # слово эталона (назначается только для финального узла)\n",
    "        self.best_token = None                 # лучший токен (по минимуму дистанции) в узле\n",
    "        self.current_word = None               # текущее слово эталона\n",
    "        self.next_states = []                  # список следующих узлов\n",
    "        self.index = index                     # индекс узла \n",
    "\n",
    "        \n",
    "def load_graph(lexicon_dict, phones_dict, priors_list):\n",
    "    start_state = State(None, 0)\n",
    "    graph = [start_state, ]\n",
    "    state_index = 1\n",
    "    for word in lexicon_dict.keys():\n",
    "        previous_state = start_state\n",
    "        for phone in lexicon_dict[word]:\n",
    "            state = State(AcousticModel(phone, phones_dict[phone], priors_list), state_index)\n",
    "            state.current_word = word           # слово эталона теперь будет храниться в каждом узле\n",
    "            state.next_states.append(state)     # add loop\n",
    "            previous_state.next_states.append(state)\n",
    "            previous_state = state \n",
    "            graph.append(state)\n",
    "            state_index += 1\n",
    "        if state:\n",
    "            state.word = word\n",
    "            state.is_final = True\n",
    "    return graph"
   ]
  },
  {
   "cell_type": "code",
   "execution_count": 11,
   "metadata": {},
   "outputs": [],
   "source": [
    "# --------  MY CODE HERE ----------------\n",
    "\n",
    "def features_with_context(frame, file_feats, length, side_context=None):\n",
    "    '''Добавляем контекст слева и справа от кадра frame длины side_context'''\n",
    "    if side_context is None:\n",
    "        feature = file_feats[frame]\n",
    "    else:\n",
    "        if frame - side_context < 0:   # вылезаем влево за нулевой индекс\n",
    "            count_double = abs(frame - side_context)\n",
    "            feature = file_feats[max(0, frame - side_context): frame + side_context + 1].ravel()\n",
    "            feature = np.concatenate((np.tile(file_feats[0], count_double), feature))\n",
    "        elif frame + side_context >= length:  # вылезаем вправо за последний индекс\n",
    "            count_double = frame + side_context - length + 1\n",
    "            feature = file_feats[frame - side_context: min(frame + side_context + 1, length)].ravel()\n",
    "            #feature = file_feats[frame - side_context: ].ravel()\n",
    "            feature = np.concatenate((feature, np.tile(file_feats[-1], count_double)))\n",
    "        else:\n",
    "            feature = file_feats[frame - side_context: frame + side_context + 1].ravel()\n",
    "    return feature"
   ]
  },
  {
   "cell_type": "code",
   "execution_count": 164,
   "metadata": {
    "id": "lK9ZeJzJgXp7"
   },
   "outputs": [],
   "source": [
    "class Token:\n",
    "    def __init__(self, state, dist=0.0, word=\"\"):\n",
    "        self.state = state       # стейт графа, в котором токен находится в текущий момент\n",
    "        self.dist = dist         # общая накопленная дистанция пути, пройденного токеном\n",
    "        self.word = word         # слово, которое распозналось токеном\n",
    "        self.alive = True\n",
    "\n",
    "\n",
    "def beam_pruning(next_tokens, threshold):   \n",
    "    alive_tokens = [token for token in next_tokens if token.alive]\n",
    "    best_token = alive_tokens[np.argmin([token.dist for token in alive_tokens if token.alive])]\n",
    "    for token in next_tokens:\n",
    "        if token.dist > best_token.dist + threshold:\n",
    "            token.alive = False\n",
    "    return next_tokens\n",
    "\n",
    "\n",
    "def state_pruning(next_tokens):\n",
    "    for i in range(len(next_tokens)): \n",
    "        state_index = next_tokens[i].state.index\n",
    "        if not graph[state_index].best_token:\n",
    "            graph[state_index].best_token = next_tokens[i]\n",
    "        else:\n",
    "            if next_tokens[i].dist <= graph[state_index].best_token.dist:\n",
    "                graph[state_index].best_token.alive = False\n",
    "                graph[state_index].best_token = next_tokens[i]\n",
    "            else:\n",
    "                next_tokens[i].alive = False\n",
    "    for token in next_tokens:                           \n",
    "        index = token.state.index                        \n",
    "        if graph[index].best_token:                     \n",
    "            graph[index].best_token = None              \n",
    "    return next_tokens\n",
    "\n",
    "\n",
    "def recognize(filename, features, graph, nnet, recognition_results, side_context, beam_threshold, norm):\n",
    "\n",
    "    start_state = graph[0]\n",
    "    active_tokens = [Token(start_state), ]\n",
    "    next_tokens = []\n",
    "    len_features = len(features)\n",
    "    for frame in range(len_features):\n",
    "        #ftr_frame = features[frame]\n",
    "        # ----------- my code here ---------------------------------\n",
    "        ftr_frame = features_with_context(frame, features, len_features, side_context)\n",
    "        # ----------------------------------------------------------\n",
    "        for token in active_tokens:\n",
    "            if token.alive:\n",
    "                for transition_state in token.state.next_states:\n",
    "                    new_token = Token(transition_state, token.dist, token.word)\n",
    "                    new_token.dist += transition_state.model.distance(ftr_frame, nnet, norm)\n",
    "                    next_tokens.append(new_token)\n",
    "        # state and beam prunings:\n",
    "        next_tokens = state_pruning(next_tokens)         \n",
    "        next_tokens = beam_pruning(next_tokens, beam_threshold) \n",
    "\n",
    "        active_tokens = next_tokens\n",
    "        next_tokens = []                                    \n",
    "        \n",
    "    # поиск финальных токенов:\n",
    "    final_tokens = []\n",
    "    for token in active_tokens:\n",
    "        if token.state.is_final and token.alive:\n",
    "            final_tokens.append(token)\n",
    "\n",
    "    # если нет финальных, то берем лучший из выживших:\n",
    "    if len(final_tokens) != 0:\n",
    "        win_token = final_tokens[np.argmin([token.dist for token in final_tokens])]\n",
    "    else:\n",
    "        alive_tokens = [token for token in active_tokens if token.alive]\n",
    "        win_token = alive_tokens[np.argmin([token.dist for token in alive_tokens])]\n",
    "        win_token.state.word = win_token.state.current_word\n",
    "\n",
    "    # вывод результата\n",
    "    print(f\"result: {filename:<27} ==> {win_token.state.word}\")\n",
    "\n",
    "    # совпадает ли запись с полученным эталоном:  \n",
    "    record_word = filename.split('_')[0]\n",
    "    etalon_word = win_token.state.word.split('_')[0]\n",
    "    recognition_results.append(etalon_word.lower() == record_word)\n",
    "\n",
    "    return recognition_results"
   ]
  },
  {
   "cell_type": "code",
   "execution_count": 165,
   "metadata": {
    "id": "mr-Eg4ejgait"
   },
   "outputs": [],
   "source": [
    "def run_recognizer(records_data_dict, graph, nnet, side_context=None, beam_threshold=10, norm=False):\n",
    "    start_time = time.time()\n",
    "    recognition_results = []\n",
    "\n",
    "    for filename in records_data_dict.keys():    \n",
    "        recognition_results = recognize(filename,\n",
    "                                        records_data_dict[filename],\n",
    "                                        graph, nnet,\n",
    "                                        recognition_results,\n",
    "                                        side_context,\n",
    "                                        beam_threshold,\n",
    "                                        norm)\n",
    "\n",
    "    print(\"-\" * 60)\n",
    "    print(f\"WER is: {(1 - sum(recognition_results)/len(recognition_results))*100:.2f}%\")\n",
    "    print(f\"Total time is: {time.time() - start_time:.2f} sec\")\n",
    "    print(\"-\" * 60)"
   ]
  },
  {
   "cell_type": "markdown",
   "metadata": {
    "id": "mwf8Fl3ffkM_"
   },
   "source": [
    "### Запустим распознавание на базе YES_NO"
   ]
  },
  {
   "cell_type": "code",
   "execution_count": 14,
   "metadata": {},
   "outputs": [
    {
     "data": {
      "application/vnd.jupyter.widget-view+json": {
       "model_id": "b0bcd394ce6b4b1b800c221eecacc98a",
       "version_major": 2,
       "version_minor": 0
      },
      "text/plain": [
       "  0%|          | 0/10 [00:00<?, ?it/s]"
      ]
     },
     "metadata": {},
     "output_type": "display_data"
    },
    {
     "name": "stdout",
     "output_type": "stream",
     "text": [
      "Beam = 1\n",
      "\n",
      "result: yes_ff63ab0b_nohash_0       ==> YES\n",
      "result: yes_fe1916ba_nohash_0       ==> NO\n",
      "result: yes_fc94edb0_nohash_0       ==> NO\n",
      "result: no_41474817_nohash_0        ==> NO\n",
      "result: yes_39a6b995_nohash_0       ==> NO\n",
      "result: yes_39a12648_nohash_0       ==> YES\n",
      "result: no_4abb2400_nohash_0        ==> NO\n",
      "result: no_ad89eb1e_nohash_0        ==> NO\n",
      "result: no_49af4432_nohash_0        ==> NO\n",
      "result: no_4394fc7c_nohash_0        ==> NO\n",
      "------------------------------------------------------------\n",
      "WER is: 30.00%\n",
      "Total time is: 0.30 sec\n",
      "------------------------------------------------------------\n",
      "\n",
      "##################################################\n",
      "\n",
      "Beam = 3\n",
      "\n",
      "result: yes_ff63ab0b_nohash_0       ==> YES\n",
      "result: yes_fe1916ba_nohash_0       ==> NO\n",
      "result: yes_fc94edb0_nohash_0       ==> NO\n",
      "result: no_41474817_nohash_0        ==> NO\n",
      "result: yes_39a6b995_nohash_0       ==> NO\n",
      "result: yes_39a12648_nohash_0       ==> YES\n",
      "result: no_4abb2400_nohash_0        ==> NO\n",
      "result: no_ad89eb1e_nohash_0        ==> NO\n",
      "result: no_49af4432_nohash_0        ==> NO\n",
      "result: no_4394fc7c_nohash_0        ==> NO\n",
      "------------------------------------------------------------\n",
      "WER is: 30.00%\n",
      "Total time is: 0.26 sec\n",
      "------------------------------------------------------------\n",
      "\n",
      "##################################################\n",
      "\n",
      "Beam = 5\n",
      "\n",
      "result: yes_ff63ab0b_nohash_0       ==> YES\n",
      "result: yes_fe1916ba_nohash_0       ==> YES\n",
      "result: yes_fc94edb0_nohash_0       ==> YES\n",
      "result: no_41474817_nohash_0        ==> NO\n",
      "result: yes_39a6b995_nohash_0       ==> NO\n",
      "result: yes_39a12648_nohash_0       ==> YES\n",
      "result: no_4abb2400_nohash_0        ==> NO\n",
      "result: no_ad89eb1e_nohash_0        ==> NO\n",
      "result: no_49af4432_nohash_0        ==> NO\n",
      "result: no_4394fc7c_nohash_0        ==> NO\n",
      "------------------------------------------------------------\n",
      "WER is: 10.00%\n",
      "Total time is: 0.56 sec\n",
      "------------------------------------------------------------\n",
      "\n",
      "##################################################\n",
      "\n",
      "Beam = 10\n",
      "\n",
      "result: yes_ff63ab0b_nohash_0       ==> YES\n",
      "result: yes_fe1916ba_nohash_0       ==> YES\n",
      "result: yes_fc94edb0_nohash_0       ==> YES\n",
      "result: no_41474817_nohash_0        ==> NO\n",
      "result: yes_39a6b995_nohash_0       ==> NO\n",
      "result: yes_39a12648_nohash_0       ==> YES\n",
      "result: no_4abb2400_nohash_0        ==> NO\n",
      "result: no_ad89eb1e_nohash_0        ==> NO\n",
      "result: no_49af4432_nohash_0        ==> NO\n",
      "result: no_4394fc7c_nohash_0        ==> NO\n",
      "------------------------------------------------------------\n",
      "WER is: 10.00%\n",
      "Total time is: 0.54 sec\n",
      "------------------------------------------------------------\n",
      "\n",
      "##################################################\n",
      "\n",
      "Beam = 20\n",
      "\n",
      "result: yes_ff63ab0b_nohash_0       ==> YES\n",
      "result: yes_fe1916ba_nohash_0       ==> YES\n",
      "result: yes_fc94edb0_nohash_0       ==> YES\n",
      "result: no_41474817_nohash_0        ==> NO\n",
      "result: yes_39a6b995_nohash_0       ==> YES\n",
      "result: yes_39a12648_nohash_0       ==> YES\n",
      "result: no_4abb2400_nohash_0        ==> NO\n",
      "result: no_ad89eb1e_nohash_0        ==> NO\n",
      "result: no_49af4432_nohash_0        ==> NO\n",
      "result: no_4394fc7c_nohash_0        ==> NO\n",
      "------------------------------------------------------------\n",
      "WER is: 0.00%\n",
      "Total time is: 0.67 sec\n",
      "------------------------------------------------------------\n",
      "\n",
      "##################################################\n",
      "\n"
     ]
    }
   ],
   "source": [
    "lexicon_file = 'lab2/data/lexicon_yes_no.txt'\n",
    "lexicon_dict = load_lexicon_dict(lexicon_file)\n",
    "graph = load_graph(lexicon_dict, phones_dict, priors_list)\n",
    "records_data_dict = load_data_dict(\"lab2/data/yes_no/records\")\n",
    "\n",
    "for beam in [1, 3, 5, 10, 20]:\n",
    "    print(f'Beam = {beam}\\n')\n",
    "    run_recognizer(records_data_dict, graph, nnet.cpu(), beam_threshold=beam)\n",
    "    print()\n",
    "    print('##################################################')\n",
    "    print()"
   ]
  },
  {
   "cell_type": "markdown",
   "metadata": {
    "id": "1mIcRKQNfl35"
   },
   "source": [
    "### Запустим распознавание на базе Digits"
   ]
  },
  {
   "cell_type": "code",
   "execution_count": 15,
   "metadata": {
    "colab": {
     "base_uri": "https://localhost:8080/",
     "height": 465,
     "referenced_widgets": [
      "4b2b01f710064de99d783ee8b5959a39",
      "6630a6b171e04bdcbe31868873321f60",
      "e6c489e220bd4c0aa00bfe83719299a9",
      "675cada171324f88af2023e45cfdcab2",
      "ec3255893b45461f982594980f269044",
      "edc1b298a91443919f7158ef809d491c",
      "37886a1d1bff4949a1d6775423d78b5a",
      "9e207d7fac204a14a906fb9c1c9eeed8",
      "b083736846554778b1e4a146e52149e0",
      "b8cea92271cd40d5ab27830fc7d60caa",
      "ad8c284f896241428e50d6a1dba0814a"
     ]
    },
    "id": "D862ICRZgf2V",
    "outputId": "fc2d8963-e9b5-4c66-a205-a12d84be3a90",
    "scrolled": false
   },
   "outputs": [
    {
     "data": {
      "application/vnd.jupyter.widget-view+json": {
       "model_id": "917e22a72a564a95ba114dc266872301",
       "version_major": 2,
       "version_minor": 0
      },
      "text/plain": [
       "  0%|          | 0/20 [00:00<?, ?it/s]"
      ]
     },
     "metadata": {},
     "output_type": "display_data"
    },
    {
     "name": "stdout",
     "output_type": "stream",
     "text": [
      "Beam = 1\n",
      "\n",
      "result: eight_daf230ac_nohash_0     ==> TWO\n",
      "result: eight_da584bc0_nohash_4     ==> FIVE\n",
      "result: seven_fe5c4a7a_nohash_0     ==> THREE\n",
      "result: four_fce65496_nohash_0      ==> FOUR\n",
      "result: nine_ccea893d_nohash_0      ==> TWO\n",
      "result: zero_f92e49f3_nohash_3      ==> TWO\n",
      "result: four_ffbb695d_nohash_0      ==> TWO\n",
      "result: three_feb1d305_nohash_0     ==> THREE\n",
      "result: five_ffd2ba2f_nohash_0      ==> FOUR\n",
      "result: three_fce96bac_nohash_0     ==> FOUR\n",
      "result: five_f852895b_nohash_0      ==> THREE\n",
      "result: six_ffbb695d_nohash_0       ==> TWO\n",
      "result: nine_fbe51750_nohash_0      ==> NINE\n",
      "result: two_fb2f3242_nohash_0       ==> TWO\n",
      "result: six_ffd2ba2f_nohash_0       ==> ZERO\n",
      "result: zero_f852895b_nohash_0      ==> THREE\n",
      "result: one_fc2411fe_nohash_0       ==> NINE\n",
      "result: one_ffa76c4a_nohash_0       ==> FIVE\n",
      "result: seven_fd32732a_nohash_0     ==> TWO\n",
      "result: two_fce65496_nohash_0       ==> ONE\n",
      "------------------------------------------------------------\n",
      "WER is: 80.00%\n",
      "Total time is: 0.98 sec\n",
      "------------------------------------------------------------\n",
      "\n",
      "##################################################\n",
      "\n",
      "Beam = 5\n",
      "\n",
      "result: eight_daf230ac_nohash_0     ==> EIGHT\n",
      "result: eight_da584bc0_nohash_4     ==> SEVEN\n",
      "result: seven_fe5c4a7a_nohash_0     ==> ZERO\n",
      "result: four_fce65496_nohash_0      ==> FOUR\n",
      "result: nine_ccea893d_nohash_0      ==> TWO\n",
      "result: zero_f92e49f3_nohash_3      ==> ZERO\n",
      "result: four_ffbb695d_nohash_0      ==> TWO\n",
      "result: three_feb1d305_nohash_0     ==> THREE\n",
      "result: five_ffd2ba2f_nohash_0      ==> FOUR\n",
      "result: three_fce96bac_nohash_0     ==> FIVE\n",
      "result: five_f852895b_nohash_0      ==> THREE\n",
      "result: six_ffbb695d_nohash_0       ==> TWO\n",
      "result: nine_fbe51750_nohash_0      ==> NINE\n",
      "result: two_fb2f3242_nohash_0       ==> TWO\n",
      "result: six_ffd2ba2f_nohash_0       ==> SIX\n",
      "result: zero_f852895b_nohash_0      ==> THREE\n",
      "result: one_fc2411fe_nohash_0       ==> NINE\n",
      "result: one_ffa76c4a_nohash_0       ==> ONE\n",
      "result: seven_fd32732a_nohash_0     ==> SEVEN\n",
      "result: two_fce65496_nohash_0       ==> ONE\n",
      "------------------------------------------------------------\n",
      "WER is: 55.00%\n",
      "Total time is: 2.29 sec\n",
      "------------------------------------------------------------\n",
      "\n",
      "##################################################\n",
      "\n",
      "Beam = 10\n",
      "\n",
      "result: eight_daf230ac_nohash_0     ==> EIGHT\n",
      "result: eight_da584bc0_nohash_4     ==> SEVEN\n",
      "result: seven_fe5c4a7a_nohash_0     ==> ZERO\n",
      "result: four_fce65496_nohash_0      ==> FOUR\n",
      "result: nine_ccea893d_nohash_0      ==> NINE\n",
      "result: zero_f92e49f3_nohash_3      ==> ZERO\n",
      "result: four_ffbb695d_nohash_0      ==> SIX\n",
      "result: three_feb1d305_nohash_0     ==> THREE\n",
      "result: five_ffd2ba2f_nohash_0      ==> FOUR\n",
      "result: three_fce96bac_nohash_0     ==> FIVE\n",
      "result: five_f852895b_nohash_0      ==> THREE\n",
      "result: six_ffbb695d_nohash_0       ==> TWO\n",
      "result: nine_fbe51750_nohash_0      ==> NINE\n",
      "result: two_fb2f3242_nohash_0       ==> TWO\n",
      "result: six_ffd2ba2f_nohash_0       ==> SIX\n",
      "result: zero_f852895b_nohash_0      ==> THREE\n",
      "result: one_fc2411fe_nohash_0       ==> NINE\n",
      "result: one_ffa76c4a_nohash_0       ==> FOUR\n",
      "result: seven_fd32732a_nohash_0     ==> SEVEN\n",
      "result: two_fce65496_nohash_0       ==> SEVEN\n",
      "------------------------------------------------------------\n",
      "WER is: 55.00%\n",
      "Total time is: 3.49 sec\n",
      "------------------------------------------------------------\n",
      "\n",
      "##################################################\n",
      "\n",
      "Beam = 20\n",
      "\n",
      "result: eight_daf230ac_nohash_0     ==> EIGHT\n",
      "result: eight_da584bc0_nohash_4     ==> SEVEN\n",
      "result: seven_fe5c4a7a_nohash_0     ==> SEVEN\n",
      "result: four_fce65496_nohash_0      ==> FOUR\n",
      "result: nine_ccea893d_nohash_0      ==> NINE\n",
      "result: zero_f92e49f3_nohash_3      ==> ZERO\n",
      "result: four_ffbb695d_nohash_0      ==> FOUR\n",
      "result: three_feb1d305_nohash_0     ==> THREE\n",
      "result: five_ffd2ba2f_nohash_0      ==> FIVE\n",
      "result: three_fce96bac_nohash_0     ==> ZERO\n",
      "result: five_f852895b_nohash_0      ==> THREE\n",
      "result: six_ffbb695d_nohash_0       ==> SIX\n",
      "result: nine_fbe51750_nohash_0      ==> NINE\n",
      "result: two_fb2f3242_nohash_0       ==> TWO\n",
      "result: six_ffd2ba2f_nohash_0       ==> SIX\n",
      "result: zero_f852895b_nohash_0      ==> THREE\n",
      "result: one_fc2411fe_nohash_0       ==> NINE\n",
      "result: one_ffa76c4a_nohash_0       ==> FOUR\n",
      "result: seven_fd32732a_nohash_0     ==> SEVEN\n",
      "result: two_fce65496_nohash_0       ==> SEVEN\n",
      "------------------------------------------------------------\n",
      "WER is: 35.00%\n",
      "Total time is: 6.36 sec\n",
      "------------------------------------------------------------\n",
      "\n",
      "##################################################\n",
      "\n",
      "Beam = 30\n",
      "\n",
      "result: eight_daf230ac_nohash_0     ==> EIGHT\n",
      "result: eight_da584bc0_nohash_4     ==> SIX\n",
      "result: seven_fe5c4a7a_nohash_0     ==> SEVEN\n",
      "result: four_fce65496_nohash_0      ==> FOUR\n",
      "result: nine_ccea893d_nohash_0      ==> NINE\n",
      "result: zero_f92e49f3_nohash_3      ==> ZERO\n",
      "result: four_ffbb695d_nohash_0      ==> FOUR\n",
      "result: three_feb1d305_nohash_0     ==> THREE\n",
      "result: five_ffd2ba2f_nohash_0      ==> FIVE\n",
      "result: three_fce96bac_nohash_0     ==> ZERO\n",
      "result: five_f852895b_nohash_0      ==> THREE\n",
      "result: six_ffbb695d_nohash_0       ==> SIX\n",
      "result: nine_fbe51750_nohash_0      ==> NINE\n",
      "result: two_fb2f3242_nohash_0       ==> TWO\n",
      "result: six_ffd2ba2f_nohash_0       ==> SIX\n",
      "result: zero_f852895b_nohash_0      ==> ZERO\n",
      "result: one_fc2411fe_nohash_0       ==> NINE\n",
      "result: one_ffa76c4a_nohash_0       ==> FOUR\n",
      "result: seven_fd32732a_nohash_0     ==> SEVEN\n",
      "result: two_fce65496_nohash_0       ==> SEVEN\n",
      "------------------------------------------------------------\n",
      "WER is: 30.00%\n",
      "Total time is: 7.27 sec\n",
      "------------------------------------------------------------\n",
      "\n",
      "##################################################\n",
      "\n",
      "Beam = 50\n",
      "\n",
      "result: eight_daf230ac_nohash_0     ==> EIGHT\n",
      "result: eight_da584bc0_nohash_4     ==> SIX\n",
      "result: seven_fe5c4a7a_nohash_0     ==> SEVEN\n",
      "result: four_fce65496_nohash_0      ==> FOUR\n",
      "result: nine_ccea893d_nohash_0      ==> NINE\n",
      "result: zero_f92e49f3_nohash_3      ==> ZERO\n",
      "result: four_ffbb695d_nohash_0      ==> FOUR\n",
      "result: three_feb1d305_nohash_0     ==> THREE\n",
      "result: five_ffd2ba2f_nohash_0      ==> FIVE\n",
      "result: three_fce96bac_nohash_0     ==> ZERO\n",
      "result: five_f852895b_nohash_0      ==> FIVE\n",
      "result: six_ffbb695d_nohash_0       ==> SIX\n",
      "result: nine_fbe51750_nohash_0      ==> NINE\n",
      "result: two_fb2f3242_nohash_0       ==> TWO\n",
      "result: six_ffd2ba2f_nohash_0       ==> SIX\n",
      "result: zero_f852895b_nohash_0      ==> ZERO\n",
      "result: one_fc2411fe_nohash_0       ==> NINE\n",
      "result: one_ffa76c4a_nohash_0       ==> FOUR\n",
      "result: seven_fd32732a_nohash_0     ==> SEVEN\n",
      "result: two_fce65496_nohash_0       ==> SEVEN\n",
      "------------------------------------------------------------\n",
      "WER is: 25.00%\n",
      "Total time is: 9.46 sec\n",
      "------------------------------------------------------------\n",
      "\n",
      "##################################################\n",
      "\n"
     ]
    }
   ],
   "source": [
    "lexicon_file = 'lab2/data/lexicon_digits.txt'\n",
    "lexicon_dict = load_lexicon_dict(lexicon_file)\n",
    "graph = load_graph(lexicon_dict, phones_dict, priors_list)\n",
    "records_data_dict = load_data_dict(\"lab2/data/digits/records\")\n",
    "\n",
    "for beam in [1, 5, 10, 20, 30, 50]:\n",
    "    print(f'Beam = {beam}\\n')\n",
    "    run_recognizer(records_data_dict, graph, nnet.cpu(), beam_threshold=beam)\n",
    "    print()\n",
    "    print('##################################################')\n",
    "    print()"
   ]
  },
  {
   "cell_type": "markdown",
   "metadata": {
    "id": "BKFMxsxkgioi"
   },
   "source": [
    "### <b>Задание №1</b> (5 баллов):\n",
    "Реализовать контексты для входных признаков путем конкатенации кадров слева и справа от текущего. Не забудьте поддержать это и в функции распознавания. Насколько улучшилось качество на дата сетах?\n",
    "\n",
    "![](https://drive.google.com/uc?export=view&id=1ft0z6CPhX20cJnA373uLoYwHPEagaKyo)"
   ]
  },
  {
   "cell_type": "code",
   "execution_count": 16,
   "metadata": {},
   "outputs": [],
   "source": [
    "# объединение кадров признаков с соответствующими им фонемам:\n",
    "def combain_data(ali_dict, feats_dict, phones_dict, side_context=None):\n",
    "    data_list = []\n",
    "    priors_list = [0] * len(phones_dict)\n",
    "    for file_name in feats_dict.keys():\n",
    "        file_feats = feats_dict[file_name]   # mfcc-признаки\n",
    "        file_ali = ali_dict[file_name]       # список произнесенных фонем\n",
    "        length = min(len(file_feats), len(file_ali))\n",
    "        for frame in range(length):\n",
    "            priors_list[phones_dict[file_ali[frame]]] += 1\n",
    "            feature = features_with_context(frame, file_feats, length, side_context=side_context)\n",
    "            feature = np.append(feature, phones_dict[file_ali[frame]])\n",
    "            data_list.append(feature)         \n",
    "    return data_list, np.array(priors_list)/sum(priors_list)\n",
    "\n",
    "side_context = 2\n",
    "data_list_context, priors_list = combain_data(ali_dict, feats_dict, phones_dict, side_context)\n",
    "data_list_context = np.random.permutation(data_list_context)"
   ]
  },
  {
   "cell_type": "code",
   "execution_count": 17,
   "metadata": {},
   "outputs": [
    {
     "data": {
      "text/plain": [
       "(1283148, 66)"
      ]
     },
     "execution_count": 17,
     "metadata": {},
     "output_type": "execute_result"
    }
   ],
   "source": [
    "data_list_context.shape"
   ]
  },
  {
   "cell_type": "code",
   "execution_count": 33,
   "metadata": {},
   "outputs": [
    {
     "name": "stdout",
     "output_type": "stream",
     "text": [
      "TRAINIG STARTED...\n"
     ]
    },
    {
     "data": {
      "application/vnd.jupyter.widget-view+json": {
       "model_id": "b4519185e4624e4cbaef74fa509f9c8b",
       "version_major": 2,
       "version_minor": 0
      },
      "text/plain": [
       "epoch 0:   0%|          | 0/4511 [00:00<?, ?it/s]"
      ]
     },
     "metadata": {},
     "output_type": "display_data"
    },
    {
     "name": "stdout",
     "output_type": "stream",
     "text": [
      "loss is: 2.2381\n"
     ]
    },
    {
     "data": {
      "application/vnd.jupyter.widget-view+json": {
       "model_id": "88aaf065e97d40deabea910cab59233b",
       "version_major": 2,
       "version_minor": 0
      },
      "text/plain": [
       "epoch 1:   0%|          | 0/4511 [00:00<?, ?it/s]"
      ]
     },
     "metadata": {},
     "output_type": "display_data"
    },
    {
     "name": "stdout",
     "output_type": "stream",
     "text": [
      "loss is: 1.8667\n"
     ]
    },
    {
     "data": {
      "application/vnd.jupyter.widget-view+json": {
       "model_id": "75c6c5c1925b42b1b3d64bdf5f3ad7a9",
       "version_major": 2,
       "version_minor": 0
      },
      "text/plain": [
       "epoch 2:   0%|          | 0/4511 [00:00<?, ?it/s]"
      ]
     },
     "metadata": {},
     "output_type": "display_data"
    },
    {
     "name": "stdout",
     "output_type": "stream",
     "text": [
      "loss is: 1.7845\n"
     ]
    },
    {
     "data": {
      "application/vnd.jupyter.widget-view+json": {
       "model_id": "85f3a38720104f2db0fb02793466b3ad",
       "version_major": 2,
       "version_minor": 0
      },
      "text/plain": [
       "epoch 3:   0%|          | 0/4511 [00:00<?, ?it/s]"
      ]
     },
     "metadata": {},
     "output_type": "display_data"
    },
    {
     "name": "stdout",
     "output_type": "stream",
     "text": [
      "loss is: 1.7314\n"
     ]
    },
    {
     "data": {
      "application/vnd.jupyter.widget-view+json": {
       "model_id": "4dd6bdae37414c5e9e627c70786f25af",
       "version_major": 2,
       "version_minor": 0
      },
      "text/plain": [
       "epoch 4:   0%|          | 0/4511 [00:00<?, ?it/s]"
      ]
     },
     "metadata": {},
     "output_type": "display_data"
    },
    {
     "name": "stdout",
     "output_type": "stream",
     "text": [
      "loss is: 1.6928\n"
     ]
    },
    {
     "data": {
      "application/vnd.jupyter.widget-view+json": {
       "model_id": "c8d1eb2a07924c7ca70c582124df295a",
       "version_major": 2,
       "version_minor": 0
      },
      "text/plain": [
       "epoch 5:   0%|          | 0/4511 [00:00<?, ?it/s]"
      ]
     },
     "metadata": {},
     "output_type": "display_data"
    },
    {
     "name": "stdout",
     "output_type": "stream",
     "text": [
      "loss is: 1.6625\n"
     ]
    },
    {
     "data": {
      "application/vnd.jupyter.widget-view+json": {
       "model_id": "838790f8577b4716a1b4a19e946ed97f",
       "version_major": 2,
       "version_minor": 0
      },
      "text/plain": [
       "epoch 6:   0%|          | 0/4511 [00:00<?, ?it/s]"
      ]
     },
     "metadata": {},
     "output_type": "display_data"
    },
    {
     "name": "stdout",
     "output_type": "stream",
     "text": [
      "loss is: 1.6380\n"
     ]
    },
    {
     "data": {
      "application/vnd.jupyter.widget-view+json": {
       "model_id": "4800510f4ea342d1851ba02d0cdf5732",
       "version_major": 2,
       "version_minor": 0
      },
      "text/plain": [
       "epoch 7:   0%|          | 0/4511 [00:00<?, ?it/s]"
      ]
     },
     "metadata": {},
     "output_type": "display_data"
    },
    {
     "name": "stdout",
     "output_type": "stream",
     "text": [
      "loss is: 1.6174\n"
     ]
    },
    {
     "data": {
      "application/vnd.jupyter.widget-view+json": {
       "model_id": "0a7bea4138704be8908f8a7885cca578",
       "version_major": 2,
       "version_minor": 0
      },
      "text/plain": [
       "epoch 8:   0%|          | 0/4511 [00:00<?, ?it/s]"
      ]
     },
     "metadata": {},
     "output_type": "display_data"
    },
    {
     "name": "stdout",
     "output_type": "stream",
     "text": [
      "loss is: 1.5997\n"
     ]
    },
    {
     "data": {
      "application/vnd.jupyter.widget-view+json": {
       "model_id": "d023e2555e7f4a2290fb1becc9ba2996",
       "version_major": 2,
       "version_minor": 0
      },
      "text/plain": [
       "epoch 9:   0%|          | 0/4511 [00:00<?, ?it/s]"
      ]
     },
     "metadata": {},
     "output_type": "display_data"
    },
    {
     "name": "stdout",
     "output_type": "stream",
     "text": [
      "loss is: 1.5842\n",
      "Time is: 0 min 58 sec\n"
     ]
    }
   ],
   "source": [
    "device = torch.device('cuda' if torch.cuda.is_available() else 'cpu')\n",
    "\n",
    "# load data:\n",
    "data_set = CommonDataSet(data_list_context, device)\n",
    "\n",
    "batch_size = 256\n",
    "\n",
    "# training network model:\n",
    "start = time.time() \n",
    "nnet_context = MyNNet(input_dim=(data_list_context[0].shape[0] - 1),\n",
    "            output_dim=len(phones_dict.keys())).to(device)\n",
    "criterion = nn.CrossEntropyLoss()\n",
    "optimizer = torch.optim.Adam(nnet_context.parameters(), lr=0.0001)\n",
    "\n",
    "loss_list = []\n",
    "\n",
    "print('TRAINIG STARTED...')\n",
    "for epoch in range(10):\n",
    "    running_loss = 0\n",
    "    counter = 0\n",
    "    for batch_xs, batch_ys in tqdm(data_set.next_batch(batch_size), \\\n",
    "                                   total=data_set.num_batches(batch_size), \\\n",
    "                                   desc='epoch {}'.format(epoch)):\n",
    "        optimizer.zero_grad()\n",
    "        output = nnet_context(batch_xs)\n",
    "\n",
    "        loss = criterion(output, batch_ys)\n",
    "        loss.backward()\n",
    "        optimizer.step()\n",
    "        \n",
    "        running_loss += loss.item()\n",
    "        counter += 1\n",
    "        \n",
    "    print('loss is: {:.4f}'.format((running_loss / counter)))\n",
    "    loss_list.append(running_loss / counter)\n",
    "    \n",
    "end = time.time()\n",
    "minutes = (end - start) // 60\n",
    "seconds = np.mod((end - start), 60)\n",
    "print('Time is: {} min {} sec'.format(int(minutes), int(seconds)))"
   ]
  },
  {
   "cell_type": "code",
   "execution_count": 34,
   "metadata": {
    "scrolled": true
   },
   "outputs": [
    {
     "data": {
      "image/png": "[encoded data removed]",
      "text/plain": [
       "<Figure size 1080x360 with 1 Axes>"
      ]
     },
     "metadata": {
      "needs_background": "light"
     },
     "output_type": "display_data"
    }
   ],
   "source": [
    "plt.rcParams['figure.figsize'] = (15.0, 5.0)\n",
    "plt.plot(loss_list, label='train loss')\n",
    "plt.title('Loss per epoch')\n",
    "plt.ylabel('loss')\n",
    "plt.xlabel('epoch')\n",
    "plt.grid()\n",
    "plt.legend()\n",
    "plt.show()"
   ]
  },
  {
   "cell_type": "code",
   "execution_count": 35,
   "metadata": {
    "scrolled": true
   },
   "outputs": [
    {
     "data": {
      "application/vnd.jupyter.widget-view+json": {
       "model_id": "59d71b1a23ec4c4fba40e2558e7370fd",
       "version_major": 2,
       "version_minor": 0
      },
      "text/plain": [
       "  0%|          | 0/128315 [00:00<?, ?it/s]"
      ]
     },
     "metadata": {},
     "output_type": "display_data"
    },
    {
     "name": "stdout",
     "output_type": "stream",
     "text": [
      "Total frame accuracy is 0.531\n",
      "\n",
      "SIL: 0.96 : 21763/22770\n",
      "SPN: 0.00 : 0/672\n",
      "AA0: 0.00 : 0/38\n",
      "AA1: 0.53 : 996/1882\n",
      "AA2: 0.00 : 0/94\n",
      "AE0: 0.00 : 0/50\n",
      "AE1: 0.51 : 1885/3677\n",
      "AE2: 0.00 : 0/92\n",
      "AH0: 0.40 : 2255/5626\n",
      "AH1: 0.22 : 421/1940\n",
      "AH2: 0.00 : 0/36\n",
      "AO0: 0.00 : 0/36\n",
      "AO1: 0.46 : 905/1957\n",
      "AO2: 0.00 : 0/37\n",
      "AW0: 0.00 : 0/10\n",
      "AW1: 0.30 : 328/1107\n",
      "AW2: 0.02 : 1/44\n",
      "AY0: 0.00 : 0/50\n",
      "AY1: 0.57 : 1749/3052\n",
      "AY2: 0.00 : 0/171\n",
      "B  : 0.24 : 366/1528\n",
      "CH : 0.22 : 193/877\n",
      "D  : 0.25 : 984/3992\n",
      "DH : 0.39 : 811/2063\n",
      "EH0: 0.00 : 0/57\n",
      "EH1: 0.30 : 854/2844\n",
      "EH2: 0.00 : 0/112\n",
      "ER0: 0.36 : 906/2491\n",
      "ER1: 0.16 : 145/885\n",
      "ER2: 0.00 : 0/11\n",
      "EY0: 0.00 : 0/26\n",
      "EY1: 0.50 : 1152/2293\n",
      "EY2: 0.01 : 1/143\n",
      "F  : 0.62 : 1450/2341\n",
      "G  : 0.15 : 116/764\n",
      "HH : 0.41 : 883/2155\n",
      "IH0: 0.18 : 468/2617\n",
      "IH1: 0.29 : 663/2312\n",
      "IH2: 0.00 : 0/113\n",
      "IY0: 0.41 : 927/2279\n",
      "IY1: 0.47 : 1123/2415\n",
      "IY2: 0.00 : 0/77\n",
      "JH : 0.14 : 92/639\n",
      "K  : 0.47 : 1452/3067\n",
      "L  : 0.54 : 2253/4184\n",
      "M  : 0.47 : 1504/3180\n",
      "N  : 0.62 : 3793/6095\n",
      "NG : 0.34 : 470/1379\n",
      "OW0: 0.00 : 0/176\n",
      "OW1: 0.36 : 731/2010\n",
      "OW2: 0.00 : 0/51\n",
      "OY0: 0.00 : 0/1\n",
      "OY1: 0.10 : 27/284\n",
      "OY2: 0.00 : 0/12\n",
      "P  : 0.26 : 561/2167\n",
      "R  : 0.56 : 2155/3830\n",
      "S  : 0.86 : 5712/6669\n",
      "SH : 0.65 : 853/1315\n",
      "T  : 0.51 : 3256/6443\n",
      "TH : 0.03 : 20/753\n",
      "UH1: 0.05 : 20/426\n",
      "UH2: 0.00 : 0/4\n",
      "UW0: 0.00 : 0/94\n",
      "UW1: 0.40 : 611/1522\n",
      "UW2: 0.00 : 0/40\n",
      "V  : 0.30 : 529/1764\n",
      "W  : 0.56 : 1328/2364\n",
      "Y  : 0.34 : 231/674\n",
      "Z  : 0.37 : 1242/3372\n",
      "ZH : 0.06 : 4/64\n"
     ]
    }
   ],
   "source": [
    "class_correct = [0 for x in range(len(phones_dict.keys()))]\n",
    "class_total = [0 for x in range(len(phones_dict.keys()))]\n",
    "\n",
    "nnet_context.cpu()\n",
    "\n",
    "with torch.no_grad():\n",
    "    correct_cnt = 0\n",
    "    for ftr, true_label in tqdm(zip(data_set.valid[:, :-1], data_set.valid[:, -1]), total=data_set.valid.shape[0]):\n",
    "        ftr = torch.from_numpy(ftr).float()\n",
    "        output = nnet_context.forward(ftr)\n",
    "        predicted_label = output.argmax().item()\n",
    "        correct_cnt += (predicted_label == true_label)\n",
    "        class_correct[predicted_label] += (predicted_label == int(true_label))\n",
    "        class_total[int(true_label)] += 1\n",
    "        \n",
    "print(\"Total frame accuracy is {:.3f}\\n\".format(correct_cnt / data_set.valid.shape[0]))\n",
    "\n",
    "for idx, phone in enumerate(phones_dict.keys()):\n",
    "    if class_total[idx]:\n",
    "        print('{:3s}: {:.2f} : {}/{}'.format(phone, class_correct[idx] / class_total[idx], \\\n",
    "                                                     class_correct[idx], class_total[idx]))"
   ]
  },
  {
   "cell_type": "code",
   "execution_count": 36,
   "metadata": {},
   "outputs": [
    {
     "data": {
      "text/plain": [
       "2"
      ]
     },
     "execution_count": 36,
     "metadata": {},
     "output_type": "execute_result"
    }
   ],
   "source": [
    "side_context"
   ]
  },
  {
   "cell_type": "markdown",
   "metadata": {},
   "source": [
    "## yes_no"
   ]
  },
  {
   "cell_type": "code",
   "execution_count": 37,
   "metadata": {},
   "outputs": [
    {
     "data": {
      "application/vnd.jupyter.widget-view+json": {
       "model_id": "c752043649774e1d8d186edc3ea30bc0",
       "version_major": 2,
       "version_minor": 0
      },
      "text/plain": [
       "  0%|          | 0/10 [00:00<?, ?it/s]"
      ]
     },
     "metadata": {},
     "output_type": "display_data"
    },
    {
     "name": "stdout",
     "output_type": "stream",
     "text": [
      "Beam = 1\n",
      "\n",
      "result: yes_ff63ab0b_nohash_0       ==> YES\n",
      "result: yes_fe1916ba_nohash_0       ==> YES\n",
      "result: yes_fc94edb0_nohash_0       ==> YES\n",
      "result: no_41474817_nohash_0        ==> NO\n",
      "result: yes_39a6b995_nohash_0       ==> YES\n",
      "result: yes_39a12648_nohash_0       ==> YES\n",
      "result: no_4abb2400_nohash_0        ==> NO\n",
      "result: no_ad89eb1e_nohash_0        ==> YES\n",
      "result: no_49af4432_nohash_0        ==> YES\n",
      "result: no_4394fc7c_nohash_0        ==> NO\n",
      "------------------------------------------------------------\n",
      "WER is: 20.00%\n",
      "Total time is: 0.39 sec\n",
      "------------------------------------------------------------\n",
      "\n",
      "##################################################\n",
      "\n",
      "Beam = 3\n",
      "\n",
      "result: yes_ff63ab0b_nohash_0       ==> YES\n",
      "result: yes_fe1916ba_nohash_0       ==> YES\n",
      "result: yes_fc94edb0_nohash_0       ==> YES\n",
      "result: no_41474817_nohash_0        ==> NO\n",
      "result: yes_39a6b995_nohash_0       ==> YES\n",
      "result: yes_39a12648_nohash_0       ==> YES\n",
      "result: no_4abb2400_nohash_0        ==> NO\n",
      "result: no_ad89eb1e_nohash_0        ==> NO\n",
      "result: no_49af4432_nohash_0        ==> YES\n",
      "result: no_4394fc7c_nohash_0        ==> NO\n",
      "------------------------------------------------------------\n",
      "WER is: 10.00%\n",
      "Total time is: 0.37 sec\n",
      "------------------------------------------------------------\n",
      "\n",
      "##################################################\n",
      "\n",
      "Beam = 5\n",
      "\n",
      "result: yes_ff63ab0b_nohash_0       ==> YES\n",
      "result: yes_fe1916ba_nohash_0       ==> YES\n",
      "result: yes_fc94edb0_nohash_0       ==> YES\n",
      "result: no_41474817_nohash_0        ==> NO\n",
      "result: yes_39a6b995_nohash_0       ==> YES\n",
      "result: yes_39a12648_nohash_0       ==> YES\n",
      "result: no_4abb2400_nohash_0        ==> NO\n",
      "result: no_ad89eb1e_nohash_0        ==> NO\n",
      "result: no_49af4432_nohash_0        ==> NO\n",
      "result: no_4394fc7c_nohash_0        ==> NO\n",
      "------------------------------------------------------------\n",
      "WER is: 0.00%\n",
      "Total time is: 0.34 sec\n",
      "------------------------------------------------------------\n",
      "\n",
      "##################################################\n",
      "\n",
      "Beam = 10\n",
      "\n",
      "result: yes_ff63ab0b_nohash_0       ==> YES\n",
      "result: yes_fe1916ba_nohash_0       ==> YES\n",
      "result: yes_fc94edb0_nohash_0       ==> YES\n",
      "result: no_41474817_nohash_0        ==> NO\n",
      "result: yes_39a6b995_nohash_0       ==> YES\n",
      "result: yes_39a12648_nohash_0       ==> YES\n",
      "result: no_4abb2400_nohash_0        ==> NO\n",
      "result: no_ad89eb1e_nohash_0        ==> NO\n",
      "result: no_49af4432_nohash_0        ==> NO\n",
      "result: no_4394fc7c_nohash_0        ==> NO\n",
      "------------------------------------------------------------\n",
      "WER is: 0.00%\n",
      "Total time is: 0.46 sec\n",
      "------------------------------------------------------------\n",
      "\n",
      "##################################################\n",
      "\n",
      "Beam = 20\n",
      "\n",
      "result: yes_ff63ab0b_nohash_0       ==> YES\n",
      "result: yes_fe1916ba_nohash_0       ==> YES\n",
      "result: yes_fc94edb0_nohash_0       ==> YES\n",
      "result: no_41474817_nohash_0        ==> NO\n",
      "result: yes_39a6b995_nohash_0       ==> YES\n",
      "result: yes_39a12648_nohash_0       ==> YES\n",
      "result: no_4abb2400_nohash_0        ==> NO\n",
      "result: no_ad89eb1e_nohash_0        ==> NO\n",
      "result: no_49af4432_nohash_0        ==> NO\n",
      "result: no_4394fc7c_nohash_0        ==> NO\n",
      "------------------------------------------------------------\n",
      "WER is: 0.00%\n",
      "Total time is: 0.65 sec\n",
      "------------------------------------------------------------\n",
      "\n",
      "##################################################\n",
      "\n"
     ]
    }
   ],
   "source": [
    "lexicon_file = 'lab2/data/lexicon_yes_no.txt'\n",
    "lexicon_dict = load_lexicon_dict(lexicon_file)\n",
    "graph = load_graph(lexicon_dict, phones_dict, priors_list)\n",
    "records_data_dict = load_data_dict(\"lab2/data/yes_no/records\")\n",
    "\n",
    "for beam in [1, 3, 5, 10, 20]:\n",
    "    print(f'Beam = {beam}\\n')\n",
    "    run_recognizer(records_data_dict, graph, nnet_context.cpu(), side_context, beam_threshold=beam)\n",
    "    print()\n",
    "    print('##################################################')\n",
    "    print()"
   ]
  },
  {
   "cell_type": "markdown",
   "metadata": {},
   "source": [
    "## digits"
   ]
  },
  {
   "cell_type": "code",
   "execution_count": 38,
   "metadata": {
    "scrolled": false
   },
   "outputs": [
    {
     "data": {
      "application/vnd.jupyter.widget-view+json": {
       "model_id": "0e56e04b2a2b4c2b99467462910428d9",
       "version_major": 2,
       "version_minor": 0
      },
      "text/plain": [
       "  0%|          | 0/20 [00:00<?, ?it/s]"
      ]
     },
     "metadata": {},
     "output_type": "display_data"
    },
    {
     "name": "stdout",
     "output_type": "stream",
     "text": [
      "Beam = 1\n",
      "\n",
      "result: eight_daf230ac_nohash_0     ==> TWO\n",
      "result: eight_da584bc0_nohash_4     ==> FIVE\n",
      "result: seven_fe5c4a7a_nohash_0     ==> TWO\n",
      "result: four_fce65496_nohash_0      ==> FOUR\n",
      "result: nine_ccea893d_nohash_0      ==> THREE\n",
      "result: zero_f92e49f3_nohash_3      ==> FOUR\n",
      "result: four_ffbb695d_nohash_0      ==> FOUR\n",
      "result: three_feb1d305_nohash_0     ==> THREE\n",
      "result: five_ffd2ba2f_nohash_0      ==> FIVE\n",
      "result: three_fce96bac_nohash_0     ==> FIVE\n",
      "result: five_f852895b_nohash_0      ==> THREE\n",
      "result: six_ffbb695d_nohash_0       ==> SEVEN\n",
      "result: nine_fbe51750_nohash_0      ==> THREE\n",
      "result: two_fb2f3242_nohash_0       ==> THREE\n",
      "result: six_ffd2ba2f_nohash_0       ==> SIX\n",
      "result: zero_f852895b_nohash_0      ==> THREE\n",
      "result: one_fc2411fe_nohash_0       ==> ONE\n",
      "result: one_ffa76c4a_nohash_0       ==> ONE\n",
      "result: seven_fd32732a_nohash_0     ==> THREE\n",
      "result: two_fce65496_nohash_0       ==> FIVE\n",
      "------------------------------------------------------------\n",
      "WER is: 65.00%\n",
      "Total time is: 1.13 sec\n",
      "------------------------------------------------------------\n",
      "\n",
      "##################################################\n",
      "\n",
      "Beam = 5\n",
      "\n",
      "result: eight_daf230ac_nohash_0     ==> TWO\n",
      "result: eight_da584bc0_nohash_4     ==> FIVE\n",
      "result: seven_fe5c4a7a_nohash_0     ==> SEVEN\n",
      "result: four_fce65496_nohash_0      ==> FOUR\n",
      "result: nine_ccea893d_nohash_0      ==> ONE\n",
      "result: zero_f92e49f3_nohash_3      ==> THREE\n",
      "result: four_ffbb695d_nohash_0      ==> FIVE\n",
      "result: three_feb1d305_nohash_0     ==> THREE\n",
      "result: five_ffd2ba2f_nohash_0      ==> FIVE\n",
      "result: three_fce96bac_nohash_0     ==> FIVE\n",
      "result: five_f852895b_nohash_0      ==> THREE\n",
      "result: six_ffbb695d_nohash_0       ==> SIX\n",
      "result: nine_fbe51750_nohash_0      ==> ONE\n",
      "result: two_fb2f3242_nohash_0       ==> THREE\n",
      "result: six_ffd2ba2f_nohash_0       ==> SIX\n",
      "result: zero_f852895b_nohash_0      ==> THREE\n",
      "result: one_fc2411fe_nohash_0       ==> ONE\n",
      "result: one_ffa76c4a_nohash_0       ==> ONE\n",
      "result: seven_fd32732a_nohash_0     ==> SEVEN\n",
      "result: two_fce65496_nohash_0       ==> FIVE\n",
      "------------------------------------------------------------\n",
      "WER is: 55.00%\n",
      "Total time is: 1.92 sec\n",
      "------------------------------------------------------------\n",
      "\n",
      "##################################################\n",
      "\n",
      "Beam = 10\n",
      "\n",
      "result: eight_daf230ac_nohash_0     ==> SIX\n",
      "result: eight_da584bc0_nohash_4     ==> FIVE\n",
      "result: seven_fe5c4a7a_nohash_0     ==> SEVEN\n",
      "result: four_fce65496_nohash_0      ==> FOUR\n",
      "result: nine_ccea893d_nohash_0      ==> NINE\n",
      "result: zero_f92e49f3_nohash_3      ==> ZERO\n",
      "result: four_ffbb695d_nohash_0      ==> FOUR\n",
      "result: three_feb1d305_nohash_0     ==> THREE\n",
      "result: five_ffd2ba2f_nohash_0      ==> FIVE\n",
      "result: three_fce96bac_nohash_0     ==> FOUR\n",
      "result: five_f852895b_nohash_0      ==> FIVE\n",
      "result: six_ffbb695d_nohash_0       ==> SIX\n",
      "result: nine_fbe51750_nohash_0      ==> NINE\n",
      "result: two_fb2f3242_nohash_0       ==> SIX\n",
      "result: six_ffd2ba2f_nohash_0       ==> SIX\n",
      "result: zero_f852895b_nohash_0      ==> THREE\n",
      "result: one_fc2411fe_nohash_0       ==> ONE\n",
      "result: one_ffa76c4a_nohash_0       ==> ONE\n",
      "result: seven_fd32732a_nohash_0     ==> SEVEN\n",
      "result: two_fce65496_nohash_0       ==> TWO\n",
      "------------------------------------------------------------\n",
      "WER is: 25.00%\n",
      "Total time is: 3.61 sec\n",
      "------------------------------------------------------------\n",
      "\n",
      "##################################################\n",
      "\n",
      "Beam = 20\n",
      "\n",
      "result: eight_daf230ac_nohash_0     ==> EIGHT\n",
      "result: eight_da584bc0_nohash_4     ==> FIVE\n",
      "result: seven_fe5c4a7a_nohash_0     ==> SEVEN\n",
      "result: four_fce65496_nohash_0      ==> FOUR\n",
      "result: nine_ccea893d_nohash_0      ==> NINE\n",
      "result: zero_f92e49f3_nohash_3      ==> ZERO\n",
      "result: four_ffbb695d_nohash_0      ==> FOUR\n",
      "result: three_feb1d305_nohash_0     ==> THREE\n",
      "result: five_ffd2ba2f_nohash_0      ==> FIVE\n",
      "result: three_fce96bac_nohash_0     ==> FOUR\n",
      "result: five_f852895b_nohash_0      ==> FIVE\n",
      "result: six_ffbb695d_nohash_0       ==> SIX\n",
      "result: nine_fbe51750_nohash_0      ==> NINE\n",
      "result: two_fb2f3242_nohash_0       ==> TWO\n",
      "result: six_ffd2ba2f_nohash_0       ==> SIX\n",
      "result: zero_f852895b_nohash_0      ==> ZERO\n",
      "result: one_fc2411fe_nohash_0       ==> ONE\n",
      "result: one_ffa76c4a_nohash_0       ==> ONE\n",
      "result: seven_fd32732a_nohash_0     ==> SEVEN\n",
      "result: two_fce65496_nohash_0       ==> TWO\n",
      "------------------------------------------------------------\n",
      "WER is: 10.00%\n",
      "Total time is: 5.52 sec\n",
      "------------------------------------------------------------\n",
      "\n",
      "##################################################\n",
      "\n",
      "Beam = 30\n",
      "\n",
      "result: eight_daf230ac_nohash_0     ==> EIGHT\n",
      "result: eight_da584bc0_nohash_4     ==> FIVE\n",
      "result: seven_fe5c4a7a_nohash_0     ==> SEVEN\n",
      "result: four_fce65496_nohash_0      ==> FOUR\n",
      "result: nine_ccea893d_nohash_0      ==> NINE\n",
      "result: zero_f92e49f3_nohash_3      ==> ZERO\n",
      "result: four_ffbb695d_nohash_0      ==> FOUR\n",
      "result: three_feb1d305_nohash_0     ==> THREE\n",
      "result: five_ffd2ba2f_nohash_0      ==> FIVE\n",
      "result: three_fce96bac_nohash_0     ==> THREE\n",
      "result: five_f852895b_nohash_0      ==> FIVE\n",
      "result: six_ffbb695d_nohash_0       ==> SIX\n",
      "result: nine_fbe51750_nohash_0      ==> NINE\n",
      "result: two_fb2f3242_nohash_0       ==> TWO\n",
      "result: six_ffd2ba2f_nohash_0       ==> SIX\n",
      "result: zero_f852895b_nohash_0      ==> ZERO\n",
      "result: one_fc2411fe_nohash_0       ==> ONE\n",
      "result: one_ffa76c4a_nohash_0       ==> FOUR\n",
      "result: seven_fd32732a_nohash_0     ==> SEVEN\n",
      "result: two_fce65496_nohash_0       ==> TWO\n",
      "------------------------------------------------------------\n",
      "WER is: 10.00%\n",
      "Total time is: 6.99 sec\n",
      "------------------------------------------------------------\n",
      "\n",
      "##################################################\n",
      "\n",
      "Beam = 50\n",
      "\n",
      "result: eight_daf230ac_nohash_0     ==> EIGHT\n",
      "result: eight_da584bc0_nohash_4     ==> SIX\n",
      "result: seven_fe5c4a7a_nohash_0     ==> SEVEN\n",
      "result: four_fce65496_nohash_0      ==> FOUR\n",
      "result: nine_ccea893d_nohash_0      ==> NINE\n",
      "result: zero_f92e49f3_nohash_3      ==> ZERO\n",
      "result: four_ffbb695d_nohash_0      ==> FOUR\n",
      "result: three_feb1d305_nohash_0     ==> THREE\n",
      "result: five_ffd2ba2f_nohash_0      ==> FIVE\n",
      "result: three_fce96bac_nohash_0     ==> THREE\n",
      "result: five_f852895b_nohash_0      ==> FIVE\n",
      "result: six_ffbb695d_nohash_0       ==> SIX\n",
      "result: nine_fbe51750_nohash_0      ==> NINE\n",
      "result: two_fb2f3242_nohash_0       ==> TWO\n",
      "result: six_ffd2ba2f_nohash_0       ==> SIX\n",
      "result: zero_f852895b_nohash_0      ==> ZERO\n",
      "result: one_fc2411fe_nohash_0       ==> NINE\n",
      "result: one_ffa76c4a_nohash_0       ==> FOUR\n",
      "result: seven_fd32732a_nohash_0     ==> SEVEN\n",
      "result: two_fce65496_nohash_0       ==> TWO\n",
      "------------------------------------------------------------\n",
      "WER is: 15.00%\n",
      "Total time is: 7.99 sec\n",
      "------------------------------------------------------------\n",
      "\n",
      "##################################################\n",
      "\n"
     ]
    }
   ],
   "source": [
    "lexicon_file = 'lab2/data/lexicon_digits.txt'\n",
    "lexicon_dict = load_lexicon_dict(lexicon_file)\n",
    "graph = load_graph(lexicon_dict, phones_dict, priors_list)\n",
    "records_data_dict = load_data_dict(\"lab2/data/digits/records\")\n",
    "\n",
    "for beam in [1, 5, 10, 20, 30, 50]:\n",
    "    print(f'Beam = {beam}\\n')\n",
    "    run_recognizer(records_data_dict, graph, nnet_context.cpu(), side_context, beam_threshold=beam)\n",
    "    print()\n",
    "    print('##################################################')\n",
    "    print()"
   ]
  },
  {
   "cell_type": "markdown",
   "metadata": {
    "id": "rs3SmimM-dvq"
   },
   "source": [
    "### **Ответ**:\n",
    "\n",
    "Точность на валидации:  \n",
    "было: 0.411  \n",
    "стало: 0.531\n",
    "\n",
    "Качество на датасетах:  \n",
    "***Yes_no***  \n",
    "**1) beam = 1**\n",
    "* Baseline:\n",
    "   * WER = 30%  \n",
    "   * Время = 0.30 сек\n",
    "* side_context = 2:\n",
    "   * WER = 20%\n",
    "   * Время = 0.39 сек\n",
    "   \n",
    "**2) beam = 3**\n",
    "* Baseline:\n",
    "   * WER = 30%  \n",
    "   * Время = 0.26 сек\n",
    "* side_context = 2:\n",
    "   * WER = 10%\n",
    "   * Время = 0.37 сек\n",
    "\n",
    "**3) beam = 5**\n",
    "* Baseline:\n",
    "   * WER = 10%  \n",
    "   * Время = 0.56 сек\n",
    "* side_context = 2:\n",
    "   * WER = 0%\n",
    "   * Время = 0.34 сек\n",
    "   \n",
    "**4) beam = 10**\n",
    "* Baseline:\n",
    "   * WER = 10%  \n",
    "   * Время = 0.54 сек\n",
    "* side_context = 2:\n",
    "   * WER = 0%\n",
    "   * Время = 0.46 сек\n",
    "   \n",
    "**5) beam = 20**\n",
    "* Baseline:\n",
    "   * WER = 0%  \n",
    "   * Время = 0.67 сек\n",
    "* side_context = 2:\n",
    "   * WER = 0%\n",
    "   * Время = 0.65 сек   \n",
    "\n",
    "   \n",
    "***Digits***  \n",
    "**1) beam = 1**\n",
    "* Baseline:\n",
    "   * WER = 80%  \n",
    "   * Время = 0.98 сек\n",
    "* side_context = 2:\n",
    "   * WER = 65%\n",
    "   * Время = 1.13 сек\n",
    "   \n",
    "**2) beam = 5**\n",
    "* Baseline:\n",
    "   * WER = 55%  \n",
    "   * Время = 2.29 сек\n",
    "* side_context = 2:\n",
    "   * WER = 55%\n",
    "   * Время = 1.92 сек\n",
    "   \n",
    "**3) beam = 10**\n",
    "* Baseline:\n",
    "   * WER = 55%  \n",
    "   * Время = 3.49 сек\n",
    "* side_context = 2:\n",
    "   * WER = 25%\n",
    "   * Время = 3.61 сек\n",
    "   \n",
    "**4) beam = 20**\n",
    "* Baseline:\n",
    "   * WER = 35%  \n",
    "   * Время = 6.36 сек\n",
    "* side_context = 2:\n",
    "   * WER = 10%\n",
    "   * Время = 5.52 сек\n",
    "   \n",
    "**5) beam = 30**\n",
    "* Baseline:\n",
    "   * WER = 30%  \n",
    "   * Время = 7.27 сек\n",
    "* side_context = 2:\n",
    "   * WER = 10%\n",
    "   * Время = 6.99 сек\n",
    "   \n",
    "**6) beam = 50**\n",
    "* Baseline:\n",
    "   * WER = 25%  \n",
    "   * Время = 9.46 сек\n",
    "* side_context = 2:\n",
    "   * WER = 15%\n",
    "   * Время = 7.99 сек"
   ]
  },
  {
   "cell_type": "markdown",
   "metadata": {},
   "source": [
    "Видно, что добавление контекста существенно улучшает качество распознавания. Для датасета `yes_no` можно использовать порог beam = 5, а для `digits` порог beam = 20."
   ]
  },
  {
   "cell_type": "markdown",
   "metadata": {
    "id": "8t1Wg-zJg0tR"
   },
   "source": [
    "### <b>Задание №2</b> (5 баллов):\n",
    "Повысить качество классификации фонем за счет улучшения архитектуры нейронной сети, оптимизатора, расписания скорости обучения, других речевых признаков и т.п. Составить небольшой отчет на основе результатов перебора использованных способов. "
   ]
  },
  {
   "cell_type": "markdown",
   "metadata": {},
   "source": [
    "Попробуем улучшить результат п. 1"
   ]
  },
  {
   "cell_type": "markdown",
   "metadata": {},
   "source": [
    "# MyNewNNet + Adam"
   ]
  },
  {
   "cell_type": "code",
   "execution_count": 51,
   "metadata": {},
   "outputs": [],
   "source": [
    "class MyNewNNet(torch.nn.Module):\n",
    "\n",
    "    def __init__(self, input_dim, output_dim):\n",
    "        super(MyNewNNet, self).__init__()\n",
    "        # params:\n",
    "\n",
    "        self.ff_net = torch.nn.Sequential(\n",
    "            nn.Linear(input_dim, 256),\n",
    "            nn.ReLU(),\n",
    "            nn.Linear(256, 256),\n",
    "            nn.ReLU(),\n",
    "            nn.Linear(256, 128),\n",
    "            nn.ReLU(),\n",
    "            nn.Linear(128, output_dim),\n",
    "        )\n",
    "\n",
    "\n",
    "    def forward(self, x):\n",
    "        x = self.ff_net(x)\n",
    "        return (x)"
   ]
  },
  {
   "cell_type": "code",
   "execution_count": 55,
   "metadata": {
    "scrolled": true
   },
   "outputs": [
    {
     "name": "stdout",
     "output_type": "stream",
     "text": [
      "TRAINIG STARTED...\n"
     ]
    },
    {
     "data": {
      "application/vnd.jupyter.widget-view+json": {
       "model_id": "bfae5daf090e431f987c76d6e506b8e2",
       "version_major": 2,
       "version_minor": 0
      },
      "text/plain": [
       "epoch 0:   0%|          | 0/4511 [00:00<?, ?it/s]"
      ]
     },
     "metadata": {},
     "output_type": "display_data"
    },
    {
     "name": "stdout",
     "output_type": "stream",
     "text": [
      "loss is: 2.0565\n",
      "val loss is: 1.8486\n"
     ]
    },
    {
     "data": {
      "application/vnd.jupyter.widget-view+json": {
       "model_id": "82fd7abfb40449a29bd410f8a8d6b14a",
       "version_major": 2,
       "version_minor": 0
      },
      "text/plain": [
       "epoch 1:   0%|          | 0/4511 [00:00<?, ?it/s]"
      ]
     },
     "metadata": {},
     "output_type": "display_data"
    },
    {
     "name": "stdout",
     "output_type": "stream",
     "text": [
      "loss is: 1.7948\n",
      "val loss is: 1.7445\n"
     ]
    },
    {
     "data": {
      "application/vnd.jupyter.widget-view+json": {
       "model_id": "ba4dffaf41c245fb8c274672e2e5add5",
       "version_major": 2,
       "version_minor": 0
      },
      "text/plain": [
       "epoch 2:   0%|          | 0/4511 [00:00<?, ?it/s]"
      ]
     },
     "metadata": {},
     "output_type": "display_data"
    },
    {
     "name": "stdout",
     "output_type": "stream",
     "text": [
      "loss is: 1.7178\n",
      "val loss is: 1.6879\n"
     ]
    },
    {
     "data": {
      "application/vnd.jupyter.widget-view+json": {
       "model_id": "a99858450f354a56be9f69610c8c8ee7",
       "version_major": 2,
       "version_minor": 0
      },
      "text/plain": [
       "epoch 3:   0%|          | 0/4511 [00:00<?, ?it/s]"
      ]
     },
     "metadata": {},
     "output_type": "display_data"
    },
    {
     "name": "stdout",
     "output_type": "stream",
     "text": [
      "loss is: 1.6686\n",
      "val loss is: 1.6526\n"
     ]
    },
    {
     "data": {
      "application/vnd.jupyter.widget-view+json": {
       "model_id": "4a3e316d36ff40279c0baa35bed5fd71",
       "version_major": 2,
       "version_minor": 0
      },
      "text/plain": [
       "epoch 4:   0%|          | 0/4511 [00:00<?, ?it/s]"
      ]
     },
     "metadata": {},
     "output_type": "display_data"
    },
    {
     "name": "stdout",
     "output_type": "stream",
     "text": [
      "loss is: 1.6329\n",
      "val loss is: 1.6267\n"
     ]
    },
    {
     "data": {
      "application/vnd.jupyter.widget-view+json": {
       "model_id": "7aefbe8a24084a91a32ae109f1b582eb",
       "version_major": 2,
       "version_minor": 0
      },
      "text/plain": [
       "epoch 5:   0%|          | 0/4511 [00:00<?, ?it/s]"
      ]
     },
     "metadata": {},
     "output_type": "display_data"
    },
    {
     "name": "stdout",
     "output_type": "stream",
     "text": [
      "loss is: 1.6050\n",
      "val loss is: 1.6064\n"
     ]
    },
    {
     "data": {
      "application/vnd.jupyter.widget-view+json": {
       "model_id": "b7d3386d56d142b599e3a904c4578844",
       "version_major": 2,
       "version_minor": 0
      },
      "text/plain": [
       "epoch 6:   0%|          | 0/4511 [00:00<?, ?it/s]"
      ]
     },
     "metadata": {},
     "output_type": "display_data"
    },
    {
     "name": "stdout",
     "output_type": "stream",
     "text": [
      "loss is: 1.5822\n",
      "val loss is: 1.5908\n"
     ]
    },
    {
     "data": {
      "application/vnd.jupyter.widget-view+json": {
       "model_id": "ea204a3e999745fb9c5d7a109a6d6f88",
       "version_major": 2,
       "version_minor": 0
      },
      "text/plain": [
       "epoch 7:   0%|          | 0/4511 [00:00<?, ?it/s]"
      ]
     },
     "metadata": {},
     "output_type": "display_data"
    },
    {
     "name": "stdout",
     "output_type": "stream",
     "text": [
      "loss is: 1.5630\n",
      "val loss is: 1.5773\n"
     ]
    },
    {
     "data": {
      "application/vnd.jupyter.widget-view+json": {
       "model_id": "fcf2045e3cf3481babd9beb26cedd637",
       "version_major": 2,
       "version_minor": 0
      },
      "text/plain": [
       "epoch 8:   0%|          | 0/4511 [00:00<?, ?it/s]"
      ]
     },
     "metadata": {},
     "output_type": "display_data"
    },
    {
     "name": "stdout",
     "output_type": "stream",
     "text": [
      "loss is: 1.5468\n",
      "val loss is: 1.5664\n"
     ]
    },
    {
     "data": {
      "application/vnd.jupyter.widget-view+json": {
       "model_id": "8a201cfe5b8542468329a52c50d9b365",
       "version_major": 2,
       "version_minor": 0
      },
      "text/plain": [
       "epoch 9:   0%|          | 0/4511 [00:00<?, ?it/s]"
      ]
     },
     "metadata": {},
     "output_type": "display_data"
    },
    {
     "name": "stdout",
     "output_type": "stream",
     "text": [
      "loss is: 1.5326\n",
      "val loss is: 1.5568\n",
      "Time is: 1 min 12 sec\n"
     ]
    }
   ],
   "source": [
    "device = torch.device('cuda' if torch.cuda.is_available() else 'cpu')\n",
    "\n",
    "# load data:\n",
    "data_set = CommonDataSet(data_list_context, device)\n",
    "\n",
    "batch_size = 256\n",
    "\n",
    "# training network model:\n",
    "start = time.time() \n",
    "new_nnet_context = MyNewNNet(input_dim=(data_list_context[0].shape[0] - 1),\n",
    "            output_dim=len(phones_dict.keys())).to(device)\n",
    "criterion = nn.CrossEntropyLoss()\n",
    "optimizer = torch.optim.Adam(new_nnet_context.parameters(), lr=0.0001)\n",
    "\n",
    "loss_list = []\n",
    "val_loss = []\n",
    "\n",
    "print('TRAINIG STARTED...')\n",
    "for epoch in range(10):\n",
    "    running_loss = 0\n",
    "    counter = 0\n",
    "    for batch_xs, batch_ys in tqdm(data_set.next_batch(batch_size), \\\n",
    "                                   total=data_set.num_batches(batch_size), \\\n",
    "                                   desc='epoch {}'.format(epoch)):\n",
    "        optimizer.zero_grad()\n",
    "        output = new_nnet_context(batch_xs)\n",
    "\n",
    "        loss = criterion(output, batch_ys)\n",
    "        loss.backward()\n",
    "        optimizer.step()\n",
    "        \n",
    "        running_loss += loss.item()\n",
    "        counter += 1\n",
    "        \n",
    "    with torch.no_grad():\n",
    "        new_nnet_context.eval()\n",
    "        val_xs = torch.tensor(data_set.valid[:, :-1], dtype=torch.float32).to(device)\n",
    "        val_ys = torch.tensor(data_set.valid[:,-1].ravel(), dtype=torch.int64).to(device)\n",
    "#         val_data, true_lavel = data_set.valid[:, :-1], data_set.valid[:, -1]\n",
    "        val_out = new_nnet_context(val_xs)\n",
    "        val_l = criterion(val_out, val_ys)\n",
    "        val_loss.append(val_l.item())\n",
    "        \n",
    "    print('loss is: {:.4f}'.format((running_loss / counter)))\n",
    "    loss_list.append(running_loss / counter)\n",
    "    print('val loss is: {:.4f}'.format(val_l))\n",
    "    \n",
    "end = time.time()\n",
    "minutes = (end - start) // 60\n",
    "seconds = np.mod((end - start), 60)\n",
    "print('Time is: {} min {} sec'.format(int(minutes), int(seconds)))"
   ]
  },
  {
   "cell_type": "code",
   "execution_count": 56,
   "metadata": {},
   "outputs": [
    {
     "data": {
      "image/png": "[encoded data removed]",
      "text/plain": [
       "<Figure size 1080x360 with 1 Axes>"
      ]
     },
     "metadata": {
      "needs_background": "light"
     },
     "output_type": "display_data"
    }
   ],
   "source": [
    "plt.rcParams['figure.figsize'] = (15.0, 5.0)\n",
    "plt.plot(loss_list, label='train loss')\n",
    "plt.plot(val_loss, label='val loss')\n",
    "plt.title('Loss per epoch')\n",
    "plt.ylabel('loss')\n",
    "plt.xlabel('epoch')\n",
    "plt.grid()\n",
    "plt.legend()\n",
    "plt.show()"
   ]
  },
  {
   "cell_type": "code",
   "execution_count": 57,
   "metadata": {
    "scrolled": true
   },
   "outputs": [
    {
     "data": {
      "application/vnd.jupyter.widget-view+json": {
       "model_id": "4d37e7a6d633434a95fa0717af2d246f",
       "version_major": 2,
       "version_minor": 0
      },
      "text/plain": [
       "  0%|          | 0/128315 [00:00<?, ?it/s]"
      ]
     },
     "metadata": {},
     "output_type": "display_data"
    },
    {
     "name": "stdout",
     "output_type": "stream",
     "text": [
      "Total frame accuracy is 0.541\n",
      "\n",
      "SIL: 0.96 : 21772/22770\n",
      "SPN: 0.00 : 1/672\n",
      "AA0: 0.00 : 0/38\n",
      "AA1: 0.55 : 1031/1882\n",
      "AA2: 0.00 : 0/94\n",
      "AE0: 0.00 : 0/50\n",
      "AE1: 0.55 : 2005/3677\n",
      "AE2: 0.00 : 0/92\n",
      "AH0: 0.42 : 2366/5626\n",
      "AH1: 0.22 : 429/1940\n",
      "AH2: 0.00 : 0/36\n",
      "AO0: 0.00 : 0/36\n",
      "AO1: 0.47 : 924/1957\n",
      "AO2: 0.00 : 0/37\n",
      "AW0: 0.00 : 0/10\n",
      "AW1: 0.33 : 370/1107\n",
      "AW2: 0.02 : 1/44\n",
      "AY0: 0.00 : 0/50\n",
      "AY1: 0.56 : 1711/3052\n",
      "AY2: 0.00 : 0/171\n",
      "B  : 0.24 : 374/1528\n",
      "CH : 0.25 : 223/877\n",
      "D  : 0.26 : 1022/3992\n",
      "DH : 0.41 : 836/2063\n",
      "EH0: 0.00 : 0/57\n",
      "EH1: 0.31 : 873/2844\n",
      "EH2: 0.00 : 0/112\n",
      "ER0: 0.41 : 1032/2491\n",
      "ER1: 0.16 : 139/885\n",
      "ER2: 0.00 : 0/11\n",
      "EY0: 0.00 : 0/26\n",
      "EY1: 0.56 : 1282/2293\n",
      "EY2: 0.01 : 1/143\n",
      "F  : 0.64 : 1488/2341\n",
      "G  : 0.15 : 115/764\n",
      "HH : 0.44 : 950/2155\n",
      "IH0: 0.18 : 472/2617\n",
      "IH1: 0.30 : 696/2312\n",
      "IH2: 0.00 : 0/113\n",
      "IY0: 0.40 : 906/2279\n",
      "IY1: 0.51 : 1223/2415\n",
      "IY2: 0.00 : 0/77\n",
      "JH : 0.18 : 117/639\n",
      "K  : 0.50 : 1544/3067\n",
      "L  : 0.51 : 2137/4184\n",
      "M  : 0.50 : 1581/3180\n",
      "N  : 0.61 : 3720/6095\n",
      "NG : 0.33 : 449/1379\n",
      "OW0: 0.01 : 1/176\n",
      "OW1: 0.40 : 795/2010\n",
      "OW2: 0.00 : 0/51\n",
      "OY0: 0.00 : 0/1\n",
      "OY1: 0.10 : 28/284\n",
      "OY2: 0.00 : 0/12\n",
      "P  : 0.31 : 666/2167\n",
      "R  : 0.57 : 2181/3830\n",
      "S  : 0.84 : 5623/6669\n",
      "SH : 0.67 : 879/1315\n",
      "T  : 0.50 : 3217/6443\n",
      "TH : 0.02 : 18/753\n",
      "UH1: 0.03 : 14/426\n",
      "UH2: 0.00 : 0/4\n",
      "UW0: 0.00 : 0/94\n",
      "UW1: 0.44 : 668/1522\n",
      "UW2: 0.00 : 0/40\n",
      "V  : 0.33 : 590/1764\n",
      "W  : 0.61 : 1434/2364\n",
      "Y  : 0.28 : 186/674\n",
      "Z  : 0.39 : 1319/3372\n",
      "ZH : 0.08 : 5/64\n"
     ]
    }
   ],
   "source": [
    "class_correct = [0 for x in range(len(phones_dict.keys()))]\n",
    "class_total = [0 for x in range(len(phones_dict.keys()))]\n",
    "\n",
    "new_nnet_context.cpu()\n",
    "\n",
    "with torch.no_grad():\n",
    "    correct_cnt = 0\n",
    "    for ftr, true_label in tqdm(zip(data_set.valid[:, :-1], data_set.valid[:, -1]), total=data_set.valid.shape[0]):\n",
    "        ftr = torch.from_numpy(ftr).float()\n",
    "        output = new_nnet_context.forward(ftr)\n",
    "        predicted_label = output.argmax().item()\n",
    "        correct_cnt += (predicted_label == true_label)\n",
    "        class_correct[predicted_label] += (predicted_label == int(true_label))\n",
    "        class_total[int(true_label)] += 1\n",
    "        \n",
    "print(\"Total frame accuracy is {:.3f}\\n\".format(correct_cnt / data_set.valid.shape[0]))\n",
    "\n",
    "for idx, phone in enumerate(phones_dict.keys()):\n",
    "    if class_total[idx]:\n",
    "        print('{:3s}: {:.2f} : {}/{}'.format(phone, class_correct[idx] / class_total[idx], \\\n",
    "                                                     class_correct[idx], class_total[idx]))"
   ]
  },
  {
   "cell_type": "markdown",
   "metadata": {},
   "source": [
    "На валидации качество выросло"
   ]
  },
  {
   "cell_type": "markdown",
   "metadata": {},
   "source": [
    "## yes_no"
   ]
  },
  {
   "cell_type": "code",
   "execution_count": 58,
   "metadata": {
    "scrolled": false
   },
   "outputs": [
    {
     "data": {
      "application/vnd.jupyter.widget-view+json": {
       "model_id": "a8ef715db27b4b32b708d7a355565a43",
       "version_major": 2,
       "version_minor": 0
      },
      "text/plain": [
       "  0%|          | 0/10 [00:00<?, ?it/s]"
      ]
     },
     "metadata": {},
     "output_type": "display_data"
    },
    {
     "name": "stdout",
     "output_type": "stream",
     "text": [
      "Beam = 1\n",
      "\n",
      "result: yes_ff63ab0b_nohash_0       ==> YES\n",
      "result: yes_fe1916ba_nohash_0       ==> YES\n",
      "result: yes_fc94edb0_nohash_0       ==> YES\n",
      "result: no_41474817_nohash_0        ==> NO\n",
      "result: yes_39a6b995_nohash_0       ==> NO\n",
      "result: yes_39a12648_nohash_0       ==> YES\n",
      "result: no_4abb2400_nohash_0        ==> NO\n",
      "result: no_ad89eb1e_nohash_0        ==> YES\n",
      "result: no_49af4432_nohash_0        ==> YES\n",
      "result: no_4394fc7c_nohash_0        ==> NO\n",
      "------------------------------------------------------------\n",
      "WER is: 30.00%\n",
      "Total time is: 0.29 sec\n",
      "------------------------------------------------------------\n",
      "\n",
      "##################################################\n",
      "\n",
      "Beam = 3\n",
      "\n",
      "result: yes_ff63ab0b_nohash_0       ==> YES\n",
      "result: yes_fe1916ba_nohash_0       ==> YES\n",
      "result: yes_fc94edb0_nohash_0       ==> YES\n",
      "result: no_41474817_nohash_0        ==> NO\n",
      "result: yes_39a6b995_nohash_0       ==> YES\n",
      "result: yes_39a12648_nohash_0       ==> YES\n",
      "result: no_4abb2400_nohash_0        ==> NO\n",
      "result: no_ad89eb1e_nohash_0        ==> YES\n",
      "result: no_49af4432_nohash_0        ==> YES\n",
      "result: no_4394fc7c_nohash_0        ==> NO\n",
      "------------------------------------------------------------\n",
      "WER is: 20.00%\n",
      "Total time is: 0.36 sec\n",
      "------------------------------------------------------------\n",
      "\n",
      "##################################################\n",
      "\n",
      "Beam = 5\n",
      "\n",
      "result: yes_ff63ab0b_nohash_0       ==> YES\n",
      "result: yes_fe1916ba_nohash_0       ==> YES\n",
      "result: yes_fc94edb0_nohash_0       ==> YES\n",
      "result: no_41474817_nohash_0        ==> NO\n",
      "result: yes_39a6b995_nohash_0       ==> YES\n",
      "result: yes_39a12648_nohash_0       ==> YES\n",
      "result: no_4abb2400_nohash_0        ==> NO\n",
      "result: no_ad89eb1e_nohash_0        ==> YES\n",
      "result: no_49af4432_nohash_0        ==> YES\n",
      "result: no_4394fc7c_nohash_0        ==> NO\n",
      "------------------------------------------------------------\n",
      "WER is: 20.00%\n",
      "Total time is: 0.39 sec\n",
      "------------------------------------------------------------\n",
      "\n",
      "##################################################\n",
      "\n",
      "Beam = 10\n",
      "\n",
      "result: yes_ff63ab0b_nohash_0       ==> YES\n",
      "result: yes_fe1916ba_nohash_0       ==> YES\n",
      "result: yes_fc94edb0_nohash_0       ==> YES\n",
      "result: no_41474817_nohash_0        ==> NO\n",
      "result: yes_39a6b995_nohash_0       ==> YES\n",
      "result: yes_39a12648_nohash_0       ==> YES\n",
      "result: no_4abb2400_nohash_0        ==> NO\n",
      "result: no_ad89eb1e_nohash_0        ==> NO\n",
      "result: no_49af4432_nohash_0        ==> NO\n",
      "result: no_4394fc7c_nohash_0        ==> NO\n",
      "------------------------------------------------------------\n",
      "WER is: 0.00%\n",
      "Total time is: 0.66 sec\n",
      "------------------------------------------------------------\n",
      "\n",
      "##################################################\n",
      "\n",
      "Beam = 20\n",
      "\n",
      "result: yes_ff63ab0b_nohash_0       ==> YES\n",
      "result: yes_fe1916ba_nohash_0       ==> YES\n",
      "result: yes_fc94edb0_nohash_0       ==> YES\n",
      "result: no_41474817_nohash_0        ==> NO\n",
      "result: yes_39a6b995_nohash_0       ==> YES\n",
      "result: yes_39a12648_nohash_0       ==> YES\n",
      "result: no_4abb2400_nohash_0        ==> NO\n",
      "result: no_ad89eb1e_nohash_0        ==> NO\n",
      "result: no_49af4432_nohash_0        ==> NO\n",
      "result: no_4394fc7c_nohash_0        ==> NO\n",
      "------------------------------------------------------------\n",
      "WER is: 0.00%\n",
      "Total time is: 0.77 sec\n",
      "------------------------------------------------------------\n",
      "\n",
      "##################################################\n",
      "\n"
     ]
    }
   ],
   "source": [
    "lexicon_file = 'lab2/data/lexicon_yes_no.txt'\n",
    "lexicon_dict = load_lexicon_dict(lexicon_file)\n",
    "graph = load_graph(lexicon_dict, phones_dict, priors_list)\n",
    "records_data_dict = load_data_dict(\"lab2/data/yes_no/records\")\n",
    "\n",
    "for beam in [1, 3, 5, 10, 20]:\n",
    "    print(f'Beam = {beam}\\n')\n",
    "    run_recognizer(records_data_dict, graph, new_nnet_context.cpu(), side_context, beam_threshold=beam)\n",
    "    print()\n",
    "    print('##################################################')\n",
    "    print()"
   ]
  },
  {
   "cell_type": "markdown",
   "metadata": {},
   "source": [
    "## Digits"
   ]
  },
  {
   "cell_type": "code",
   "execution_count": 59,
   "metadata": {
    "scrolled": false
   },
   "outputs": [
    {
     "data": {
      "application/vnd.jupyter.widget-view+json": {
       "model_id": "46a8b5f020b6496d9a5f184404ee1dce",
       "version_major": 2,
       "version_minor": 0
      },
      "text/plain": [
       "  0%|          | 0/20 [00:00<?, ?it/s]"
      ]
     },
     "metadata": {},
     "output_type": "display_data"
    },
    {
     "name": "stdout",
     "output_type": "stream",
     "text": [
      "beam = 1\n",
      "\n",
      "result: eight_daf230ac_nohash_0     ==> TWO\n",
      "result: eight_da584bc0_nohash_4     ==> FIVE\n",
      "result: seven_fe5c4a7a_nohash_0     ==> THREE\n",
      "result: four_fce65496_nohash_0      ==> FIVE\n",
      "result: nine_ccea893d_nohash_0      ==> FOUR\n",
      "result: zero_f92e49f3_nohash_3      ==> THREE\n",
      "result: four_ffbb695d_nohash_0      ==> THREE\n",
      "result: three_feb1d305_nohash_0     ==> FOUR\n",
      "result: five_ffd2ba2f_nohash_0      ==> FOUR\n",
      "result: three_fce96bac_nohash_0     ==> FIVE\n",
      "result: five_f852895b_nohash_0      ==> THREE\n",
      "result: six_ffbb695d_nohash_0       ==> SEVEN\n",
      "result: nine_fbe51750_nohash_0      ==> ONE\n",
      "result: two_fb2f3242_nohash_0       ==> THREE\n",
      "result: six_ffd2ba2f_nohash_0       ==> SIX\n",
      "result: zero_f852895b_nohash_0      ==> FIVE\n",
      "result: one_fc2411fe_nohash_0       ==> ONE\n",
      "result: one_ffa76c4a_nohash_0       ==> ONE\n",
      "result: seven_fd32732a_nohash_0     ==> TWO\n",
      "result: two_fce65496_nohash_0       ==> TWO\n",
      "------------------------------------------------------------\n",
      "WER is: 80.00%\n",
      "Total time is: 1.20 sec\n",
      "------------------------------------------------------------\n",
      "\n",
      "##################################################\n",
      "\n",
      "beam = 5\n",
      "\n",
      "result: eight_daf230ac_nohash_0     ==> TWO\n",
      "result: eight_da584bc0_nohash_4     ==> FIVE\n",
      "result: seven_fe5c4a7a_nohash_0     ==> THREE\n",
      "result: four_fce65496_nohash_0      ==> FIVE\n",
      "result: nine_ccea893d_nohash_0      ==> ONE\n",
      "result: zero_f92e49f3_nohash_3      ==> THREE\n",
      "result: four_ffbb695d_nohash_0      ==> FOUR\n",
      "result: three_feb1d305_nohash_0     ==> THREE\n",
      "result: five_ffd2ba2f_nohash_0      ==> FOUR\n",
      "result: three_fce96bac_nohash_0     ==> FIVE\n",
      "result: five_f852895b_nohash_0      ==> FIVE\n",
      "result: six_ffbb695d_nohash_0       ==> SIX\n",
      "result: nine_fbe51750_nohash_0      ==> NINE\n",
      "result: two_fb2f3242_nohash_0       ==> THREE\n",
      "result: six_ffd2ba2f_nohash_0       ==> SIX\n",
      "result: zero_f852895b_nohash_0      ==> THREE\n",
      "result: one_fc2411fe_nohash_0       ==> ONE\n",
      "result: one_ffa76c4a_nohash_0       ==> ONE\n",
      "result: seven_fd32732a_nohash_0     ==> SEVEN\n",
      "result: two_fce65496_nohash_0       ==> FIVE\n",
      "------------------------------------------------------------\n",
      "WER is: 55.00%\n",
      "Total time is: 2.41 sec\n",
      "------------------------------------------------------------\n",
      "\n",
      "##################################################\n",
      "\n",
      "beam = 10\n",
      "\n",
      "result: eight_daf230ac_nohash_0     ==> TWO\n",
      "result: eight_da584bc0_nohash_4     ==> FIVE\n",
      "result: seven_fe5c4a7a_nohash_0     ==> SEVEN\n",
      "result: four_fce65496_nohash_0      ==> FOUR\n",
      "result: nine_ccea893d_nohash_0      ==> NINE\n",
      "result: zero_f92e49f3_nohash_3      ==> THREE\n",
      "result: four_ffbb695d_nohash_0      ==> FOUR\n",
      "result: three_feb1d305_nohash_0     ==> THREE\n",
      "result: five_ffd2ba2f_nohash_0      ==> FIVE\n",
      "result: three_fce96bac_nohash_0     ==> FIVE\n",
      "result: five_f852895b_nohash_0      ==> FIVE\n",
      "result: six_ffbb695d_nohash_0       ==> SIX\n",
      "result: nine_fbe51750_nohash_0      ==> NINE\n",
      "result: two_fb2f3242_nohash_0       ==> TWO\n",
      "result: six_ffd2ba2f_nohash_0       ==> SIX\n",
      "result: zero_f852895b_nohash_0      ==> THREE\n",
      "result: one_fc2411fe_nohash_0       ==> ONE\n",
      "result: one_ffa76c4a_nohash_0       ==> ONE\n",
      "result: seven_fd32732a_nohash_0     ==> SEVEN\n",
      "result: two_fce65496_nohash_0       ==> SEVEN\n",
      "------------------------------------------------------------\n",
      "WER is: 30.00%\n",
      "Total time is: 4.85 sec\n",
      "------------------------------------------------------------\n",
      "\n",
      "##################################################\n",
      "\n",
      "beam = 20\n",
      "\n",
      "result: eight_daf230ac_nohash_0     ==> EIGHT\n",
      "result: eight_da584bc0_nohash_4     ==> FIVE\n",
      "result: seven_fe5c4a7a_nohash_0     ==> SEVEN\n",
      "result: four_fce65496_nohash_0      ==> FOUR\n",
      "result: nine_ccea893d_nohash_0      ==> NINE\n",
      "result: zero_f92e49f3_nohash_3      ==> ZERO\n",
      "result: four_ffbb695d_nohash_0      ==> FOUR\n",
      "result: three_feb1d305_nohash_0     ==> THREE\n",
      "result: five_ffd2ba2f_nohash_0      ==> FIVE\n",
      "result: three_fce96bac_nohash_0     ==> FIVE\n",
      "result: five_f852895b_nohash_0      ==> FIVE\n",
      "result: six_ffbb695d_nohash_0       ==> SIX\n",
      "result: nine_fbe51750_nohash_0      ==> NINE\n",
      "result: two_fb2f3242_nohash_0       ==> TWO\n",
      "result: six_ffd2ba2f_nohash_0       ==> SIX\n",
      "result: zero_f852895b_nohash_0      ==> ZERO\n",
      "result: one_fc2411fe_nohash_0       ==> ONE\n",
      "result: one_ffa76c4a_nohash_0       ==> ONE\n",
      "result: seven_fd32732a_nohash_0     ==> SEVEN\n",
      "result: two_fce65496_nohash_0       ==> TWO\n",
      "------------------------------------------------------------\n",
      "WER is: 10.00%\n",
      "Total time is: 7.06 sec\n",
      "------------------------------------------------------------\n",
      "\n",
      "##################################################\n",
      "\n",
      "beam = 30\n",
      "\n",
      "result: eight_daf230ac_nohash_0     ==> EIGHT\n",
      "result: eight_da584bc0_nohash_4     ==> FIVE\n",
      "result: seven_fe5c4a7a_nohash_0     ==> SEVEN\n",
      "result: four_fce65496_nohash_0      ==> FOUR\n",
      "result: nine_ccea893d_nohash_0      ==> NINE\n",
      "result: zero_f92e49f3_nohash_3      ==> ZERO\n",
      "result: four_ffbb695d_nohash_0      ==> FOUR\n",
      "result: three_feb1d305_nohash_0     ==> THREE\n",
      "result: five_ffd2ba2f_nohash_0      ==> FIVE\n",
      "result: three_fce96bac_nohash_0     ==> THREE\n",
      "result: five_f852895b_nohash_0      ==> FIVE\n",
      "result: six_ffbb695d_nohash_0       ==> SIX\n",
      "result: nine_fbe51750_nohash_0      ==> NINE\n",
      "result: two_fb2f3242_nohash_0       ==> TWO\n",
      "result: six_ffd2ba2f_nohash_0       ==> SIX\n",
      "result: zero_f852895b_nohash_0      ==> ZERO\n",
      "result: one_fc2411fe_nohash_0       ==> ONE\n",
      "result: one_ffa76c4a_nohash_0       ==> FOUR\n",
      "result: seven_fd32732a_nohash_0     ==> SEVEN\n",
      "result: two_fce65496_nohash_0       ==> TWO\n",
      "------------------------------------------------------------\n",
      "WER is: 10.00%\n",
      "Total time is: 8.21 sec\n",
      "------------------------------------------------------------\n",
      "\n",
      "##################################################\n",
      "\n",
      "beam = 50\n",
      "\n",
      "result: eight_daf230ac_nohash_0     ==> EIGHT\n",
      "result: eight_da584bc0_nohash_4     ==> EIGHT\n",
      "result: seven_fe5c4a7a_nohash_0     ==> SEVEN\n",
      "result: four_fce65496_nohash_0      ==> FOUR\n",
      "result: nine_ccea893d_nohash_0      ==> NINE\n",
      "result: zero_f92e49f3_nohash_3      ==> ZERO\n",
      "result: four_ffbb695d_nohash_0      ==> FOUR\n",
      "result: three_feb1d305_nohash_0     ==> THREE\n",
      "result: five_ffd2ba2f_nohash_0      ==> FIVE\n",
      "result: three_fce96bac_nohash_0     ==> THREE\n",
      "result: five_f852895b_nohash_0      ==> FIVE\n",
      "result: six_ffbb695d_nohash_0       ==> SIX\n",
      "result: nine_fbe51750_nohash_0      ==> NINE\n",
      "result: two_fb2f3242_nohash_0       ==> TWO\n",
      "result: six_ffd2ba2f_nohash_0       ==> SIX\n",
      "result: zero_f852895b_nohash_0      ==> ZERO\n",
      "result: one_fc2411fe_nohash_0       ==> NINE\n",
      "result: one_ffa76c4a_nohash_0       ==> FOUR\n",
      "result: seven_fd32732a_nohash_0     ==> SEVEN\n",
      "result: two_fce65496_nohash_0       ==> TWO\n",
      "------------------------------------------------------------\n",
      "WER is: 10.00%\n",
      "Total time is: 10.23 sec\n",
      "------------------------------------------------------------\n",
      "\n",
      "##################################################\n",
      "\n"
     ]
    }
   ],
   "source": [
    "lexicon_file = 'lab2/data/lexicon_digits.txt'\n",
    "lexicon_dict = load_lexicon_dict(lexicon_file)\n",
    "graph = load_graph(lexicon_dict, phones_dict, priors_list)\n",
    "records_data_dict = load_data_dict(\"lab2/data/digits/records\")\n",
    "\n",
    "for beam in [1, 5, 10, 20, 30, 50]:\n",
    "    print(f'beam = {beam}')\n",
    "    print()\n",
    "    run_recognizer(records_data_dict, graph, new_nnet_context.cpu(), side_context, beam_threshold=beam)\n",
    "    print()\n",
    "    print('##################################################')\n",
    "    print()"
   ]
  },
  {
   "cell_type": "markdown",
   "metadata": {},
   "source": [
    "Улучшения на датасетах нет"
   ]
  },
  {
   "cell_type": "markdown",
   "metadata": {},
   "source": [
    "# MyNewNNet + Adam + ReduceLROnPlateau"
   ]
  },
  {
   "cell_type": "code",
   "execution_count": 82,
   "metadata": {
    "scrolled": true
   },
   "outputs": [
    {
     "name": "stdout",
     "output_type": "stream",
     "text": [
      "TRAINIG STARTED...\n"
     ]
    },
    {
     "data": {
      "application/vnd.jupyter.widget-view+json": {
       "model_id": "f7b6d93101fd4ab48c185d433cfbcd58",
       "version_major": 2,
       "version_minor": 0
      },
      "text/plain": [
       "epoch 0:   0%|          | 0/4511 [00:00<?, ?it/s]"
      ]
     },
     "metadata": {},
     "output_type": "display_data"
    },
    {
     "name": "stdout",
     "output_type": "stream",
     "text": [
      "loss is: 1.9472\n",
      "val loss is: 1.8432\n"
     ]
    },
    {
     "data": {
      "application/vnd.jupyter.widget-view+json": {
       "model_id": "e9866527bdf748fa9d9d86feaaf17b73",
       "version_major": 2,
       "version_minor": 0
      },
      "text/plain": [
       "epoch 1:   0%|          | 0/4511 [00:00<?, ?it/s]"
      ]
     },
     "metadata": {},
     "output_type": "display_data"
    },
    {
     "name": "stdout",
     "output_type": "stream",
     "text": [
      "loss is: 1.8358\n",
      "val loss is: 1.8360\n"
     ]
    },
    {
     "data": {
      "application/vnd.jupyter.widget-view+json": {
       "model_id": "3c72d39ded2d46bda0546a6621da16e5",
       "version_major": 2,
       "version_minor": 0
      },
      "text/plain": [
       "epoch 2:   0%|          | 0/4511 [00:00<?, ?it/s]"
      ]
     },
     "metadata": {},
     "output_type": "display_data"
    },
    {
     "name": "stdout",
     "output_type": "stream",
     "text": [
      "loss is: 1.8227\n",
      "val loss is: 1.8106\n"
     ]
    },
    {
     "data": {
      "application/vnd.jupyter.widget-view+json": {
       "model_id": "5acb1d42b66f4c1e8d4fb99052c2fe29",
       "version_major": 2,
       "version_minor": 0
      },
      "text/plain": [
       "epoch 3:   0%|          | 0/4511 [00:00<?, ?it/s]"
      ]
     },
     "metadata": {},
     "output_type": "display_data"
    },
    {
     "name": "stdout",
     "output_type": "stream",
     "text": [
      "loss is: 1.8156\n",
      "val loss is: 1.8070\n"
     ]
    },
    {
     "data": {
      "application/vnd.jupyter.widget-view+json": {
       "model_id": "076fe8535d5d47ebbbfda76b59ff22f7",
       "version_major": 2,
       "version_minor": 0
      },
      "text/plain": [
       "epoch 4:   0%|          | 0/4511 [00:00<?, ?it/s]"
      ]
     },
     "metadata": {},
     "output_type": "display_data"
    },
    {
     "name": "stdout",
     "output_type": "stream",
     "text": [
      "loss is: 1.8075\n",
      "val loss is: 1.8160\n"
     ]
    },
    {
     "data": {
      "application/vnd.jupyter.widget-view+json": {
       "model_id": "90abd59d159d4a32942d5047ce606190",
       "version_major": 2,
       "version_minor": 0
      },
      "text/plain": [
       "epoch 5:   0%|          | 0/4511 [00:00<?, ?it/s]"
      ]
     },
     "metadata": {},
     "output_type": "display_data"
    },
    {
     "name": "stdout",
     "output_type": "stream",
     "text": [
      "loss is: 1.8030\n",
      "val loss is: 1.8047\n"
     ]
    },
    {
     "data": {
      "application/vnd.jupyter.widget-view+json": {
       "model_id": "acaee173e7594f4b936338eefe90db8d",
       "version_major": 2,
       "version_minor": 0
      },
      "text/plain": [
       "epoch 6:   0%|          | 0/4511 [00:00<?, ?it/s]"
      ]
     },
     "metadata": {},
     "output_type": "display_data"
    },
    {
     "name": "stdout",
     "output_type": "stream",
     "text": [
      "loss is: 1.8026\n",
      "val loss is: 1.7929\n"
     ]
    },
    {
     "data": {
      "application/vnd.jupyter.widget-view+json": {
       "model_id": "c76973c1686349b792a35ca7ccd8ac92",
       "version_major": 2,
       "version_minor": 0
      },
      "text/plain": [
       "epoch 7:   0%|          | 0/4511 [00:00<?, ?it/s]"
      ]
     },
     "metadata": {},
     "output_type": "display_data"
    },
    {
     "name": "stdout",
     "output_type": "stream",
     "text": [
      "loss is: 1.7995\n",
      "val loss is: 1.8180\n"
     ]
    },
    {
     "data": {
      "application/vnd.jupyter.widget-view+json": {
       "model_id": "18e91c8a2baa476b9bc1448228463507",
       "version_major": 2,
       "version_minor": 0
      },
      "text/plain": [
       "epoch 8:   0%|          | 0/4511 [00:00<?, ?it/s]"
      ]
     },
     "metadata": {},
     "output_type": "display_data"
    },
    {
     "name": "stdout",
     "output_type": "stream",
     "text": [
      "loss is: 1.7997\n",
      "val loss is: 1.7845\n"
     ]
    },
    {
     "data": {
      "application/vnd.jupyter.widget-view+json": {
       "model_id": "afb01c4347844a5caf0d9b1a52e96880",
       "version_major": 2,
       "version_minor": 0
      },
      "text/plain": [
       "epoch 9:   0%|          | 0/4511 [00:00<?, ?it/s]"
      ]
     },
     "metadata": {},
     "output_type": "display_data"
    },
    {
     "name": "stdout",
     "output_type": "stream",
     "text": [
      "loss is: 1.7954\n",
      "val loss is: 1.7822\n"
     ]
    },
    {
     "data": {
      "application/vnd.jupyter.widget-view+json": {
       "model_id": "9a81cab88a8a4f0cb423a5716e1cbac0",
       "version_major": 2,
       "version_minor": 0
      },
      "text/plain": [
       "epoch 10:   0%|          | 0/4511 [00:00<?, ?it/s]"
      ]
     },
     "metadata": {},
     "output_type": "display_data"
    },
    {
     "name": "stdout",
     "output_type": "stream",
     "text": [
      "loss is: 1.7940\n",
      "val loss is: 1.7793\n"
     ]
    },
    {
     "data": {
      "application/vnd.jupyter.widget-view+json": {
       "model_id": "aebca052e8b84bcf914be2d2bd3dc2e9",
       "version_major": 2,
       "version_minor": 0
      },
      "text/plain": [
       "epoch 11:   0%|          | 0/4511 [00:00<?, ?it/s]"
      ]
     },
     "metadata": {},
     "output_type": "display_data"
    },
    {
     "name": "stdout",
     "output_type": "stream",
     "text": [
      "loss is: 1.7911\n",
      "val loss is: 1.7825\n"
     ]
    },
    {
     "data": {
      "application/vnd.jupyter.widget-view+json": {
       "model_id": "1bcbe0bb1ece499bac6b1fbf2734bbbb",
       "version_major": 2,
       "version_minor": 0
      },
      "text/plain": [
       "epoch 12:   0%|          | 0/4511 [00:00<?, ?it/s]"
      ]
     },
     "metadata": {},
     "output_type": "display_data"
    },
    {
     "name": "stdout",
     "output_type": "stream",
     "text": [
      "loss is: 1.7901\n",
      "val loss is: 1.7794\n"
     ]
    },
    {
     "data": {
      "application/vnd.jupyter.widget-view+json": {
       "model_id": "46e1c2535de340708e9be24054b5b805",
       "version_major": 2,
       "version_minor": 0
      },
      "text/plain": [
       "epoch 13:   0%|          | 0/4511 [00:00<?, ?it/s]"
      ]
     },
     "metadata": {},
     "output_type": "display_data"
    },
    {
     "name": "stdout",
     "output_type": "stream",
     "text": [
      "loss is: 1.7893\n",
      "val loss is: 1.7762\n"
     ]
    },
    {
     "data": {
      "application/vnd.jupyter.widget-view+json": {
       "model_id": "ae57c0ea95c7488785ecdaf40bc2cc23",
       "version_major": 2,
       "version_minor": 0
      },
      "text/plain": [
       "epoch 14:   0%|          | 0/4511 [00:00<?, ?it/s]"
      ]
     },
     "metadata": {},
     "output_type": "display_data"
    },
    {
     "name": "stdout",
     "output_type": "stream",
     "text": [
      "loss is: 1.7849\n",
      "val loss is: 1.7855\n"
     ]
    },
    {
     "data": {
      "application/vnd.jupyter.widget-view+json": {
       "model_id": "09a84bc50e664c7a9f658ca350ae1411",
       "version_major": 2,
       "version_minor": 0
      },
      "text/plain": [
       "epoch 15:   0%|          | 0/4511 [00:00<?, ?it/s]"
      ]
     },
     "metadata": {},
     "output_type": "display_data"
    },
    {
     "name": "stdout",
     "output_type": "stream",
     "text": [
      "loss is: 1.7850\n",
      "val loss is: 1.7931\n"
     ]
    },
    {
     "data": {
      "application/vnd.jupyter.widget-view+json": {
       "model_id": "14f1075cadba4dbf9103d33ed5bbd173",
       "version_major": 2,
       "version_minor": 0
      },
      "text/plain": [
       "epoch 16:   0%|          | 0/4511 [00:00<?, ?it/s]"
      ]
     },
     "metadata": {},
     "output_type": "display_data"
    },
    {
     "name": "stdout",
     "output_type": "stream",
     "text": [
      "loss is: 1.7832\n",
      "val loss is: 1.7989\n"
     ]
    },
    {
     "data": {
      "application/vnd.jupyter.widget-view+json": {
       "model_id": "373eab26bfea451483ca4f6f3db57b43",
       "version_major": 2,
       "version_minor": 0
      },
      "text/plain": [
       "epoch 17:   0%|          | 0/4511 [00:00<?, ?it/s]"
      ]
     },
     "metadata": {},
     "output_type": "display_data"
    },
    {
     "name": "stdout",
     "output_type": "stream",
     "text": [
      "loss is: 1.7813\n",
      "val loss is: 1.7794\n"
     ]
    },
    {
     "data": {
      "application/vnd.jupyter.widget-view+json": {
       "model_id": "1b53fac6ae894f70b45203f324eeb3ea",
       "version_major": 2,
       "version_minor": 0
      },
      "text/plain": [
       "epoch 18:   0%|          | 0/4511 [00:00<?, ?it/s]"
      ]
     },
     "metadata": {},
     "output_type": "display_data"
    },
    {
     "name": "stdout",
     "output_type": "stream",
     "text": [
      "loss is: 1.7813\n",
      "val loss is: 1.7887\n"
     ]
    },
    {
     "data": {
      "application/vnd.jupyter.widget-view+json": {
       "model_id": "154bcc26d1914c7da376369800440a75",
       "version_major": 2,
       "version_minor": 0
      },
      "text/plain": [
       "epoch 19:   0%|          | 0/4511 [00:00<?, ?it/s]"
      ]
     },
     "metadata": {},
     "output_type": "display_data"
    },
    {
     "name": "stdout",
     "output_type": "stream",
     "text": [
      "loss is: 1.7820\n",
      "val loss is: 1.7841\n"
     ]
    },
    {
     "data": {
      "application/vnd.jupyter.widget-view+json": {
       "model_id": "51501924583d4cb6b2ae5cc6ee2e7ce4",
       "version_major": 2,
       "version_minor": 0
      },
      "text/plain": [
       "epoch 20:   0%|          | 0/4511 [00:00<?, ?it/s]"
      ]
     },
     "metadata": {},
     "output_type": "display_data"
    },
    {
     "name": "stdout",
     "output_type": "stream",
     "text": [
      "loss is: 1.7801\n",
      "val loss is: 1.7812\n"
     ]
    },
    {
     "data": {
      "application/vnd.jupyter.widget-view+json": {
       "model_id": "0778aa75b312400dbb1b4d53a7122410",
       "version_major": 2,
       "version_minor": 0
      },
      "text/plain": [
       "epoch 21:   0%|          | 0/4511 [00:00<?, ?it/s]"
      ]
     },
     "metadata": {},
     "output_type": "display_data"
    },
    {
     "name": "stdout",
     "output_type": "stream",
     "text": [
      "loss is: 1.7836\n",
      "val loss is: 1.7749\n"
     ]
    },
    {
     "data": {
      "application/vnd.jupyter.widget-view+json": {
       "model_id": "e83676fa776342b4b955eb91e576505d",
       "version_major": 2,
       "version_minor": 0
      },
      "text/plain": [
       "epoch 22:   0%|          | 0/4511 [00:00<?, ?it/s]"
      ]
     },
     "metadata": {},
     "output_type": "display_data"
    },
    {
     "name": "stdout",
     "output_type": "stream",
     "text": [
      "loss is: 1.7822\n",
      "val loss is: 1.7727\n"
     ]
    },
    {
     "data": {
      "application/vnd.jupyter.widget-view+json": {
       "model_id": "2f2698049f474451ad65cc5a02226b98",
       "version_major": 2,
       "version_minor": 0
      },
      "text/plain": [
       "epoch 23:   0%|          | 0/4511 [00:00<?, ?it/s]"
      ]
     },
     "metadata": {},
     "output_type": "display_data"
    },
    {
     "name": "stdout",
     "output_type": "stream",
     "text": [
      "loss is: 1.7794\n",
      "val loss is: 1.7713\n"
     ]
    },
    {
     "data": {
      "application/vnd.jupyter.widget-view+json": {
       "model_id": "45ccc4137141435182aa4e576659bf3e",
       "version_major": 2,
       "version_minor": 0
      },
      "text/plain": [
       "epoch 24:   0%|          | 0/4511 [00:00<?, ?it/s]"
      ]
     },
     "metadata": {},
     "output_type": "display_data"
    },
    {
     "name": "stdout",
     "output_type": "stream",
     "text": [
      "loss is: 1.7799\n",
      "val loss is: 1.7746\n"
     ]
    },
    {
     "data": {
      "application/vnd.jupyter.widget-view+json": {
       "model_id": "d48e498d9e5a426e9727b5e1891b7b20",
       "version_major": 2,
       "version_minor": 0
      },
      "text/plain": [
       "epoch 25:   0%|          | 0/4511 [00:00<?, ?it/s]"
      ]
     },
     "metadata": {},
     "output_type": "display_data"
    },
    {
     "name": "stdout",
     "output_type": "stream",
     "text": [
      "loss is: 1.7821\n",
      "val loss is: 1.7865\n"
     ]
    },
    {
     "data": {
      "application/vnd.jupyter.widget-view+json": {
       "model_id": "e9e9ff08daf74fb1959ef5a422f2cbac",
       "version_major": 2,
       "version_minor": 0
      },
      "text/plain": [
       "epoch 26:   0%|          | 0/4511 [00:00<?, ?it/s]"
      ]
     },
     "metadata": {},
     "output_type": "display_data"
    },
    {
     "name": "stdout",
     "output_type": "stream",
     "text": [
      "loss is: 1.7794\n",
      "val loss is: 1.7906\n"
     ]
    },
    {
     "data": {
      "application/vnd.jupyter.widget-view+json": {
       "model_id": "856ecc72d70f47cba09652f10b8c06cb",
       "version_major": 2,
       "version_minor": 0
      },
      "text/plain": [
       "epoch 27:   0%|          | 0/4511 [00:00<?, ?it/s]"
      ]
     },
     "metadata": {},
     "output_type": "display_data"
    },
    {
     "name": "stdout",
     "output_type": "stream",
     "text": [
      "loss is: 1.7808\n",
      "val loss is: 1.7798\n"
     ]
    },
    {
     "data": {
      "application/vnd.jupyter.widget-view+json": {
       "model_id": "6d2f4290e37a4072a661a759ee66bd46",
       "version_major": 2,
       "version_minor": 0
      },
      "text/plain": [
       "epoch 28:   0%|          | 0/4511 [00:00<?, ?it/s]"
      ]
     },
     "metadata": {},
     "output_type": "display_data"
    },
    {
     "name": "stdout",
     "output_type": "stream",
     "text": [
      "loss is: 1.7823\n",
      "val loss is: 1.7783\n"
     ]
    },
    {
     "data": {
      "application/vnd.jupyter.widget-view+json": {
       "model_id": "f0288184a1324eb6838d35484388d1d9",
       "version_major": 2,
       "version_minor": 0
      },
      "text/plain": [
       "epoch 29:   0%|          | 0/4511 [00:00<?, ?it/s]"
      ]
     },
     "metadata": {},
     "output_type": "display_data"
    },
    {
     "name": "stdout",
     "output_type": "stream",
     "text": [
      "loss is: 1.7772\n",
      "val loss is: 1.7774\n"
     ]
    },
    {
     "data": {
      "application/vnd.jupyter.widget-view+json": {
       "model_id": "33451d225a504400a5906cc725950f77",
       "version_major": 2,
       "version_minor": 0
      },
      "text/plain": [
       "epoch 30:   0%|          | 0/4511 [00:00<?, ?it/s]"
      ]
     },
     "metadata": {},
     "output_type": "display_data"
    },
    {
     "name": "stdout",
     "output_type": "stream",
     "text": [
      "loss is: 1.7788\n",
      "val loss is: 1.7748\n"
     ]
    },
    {
     "data": {
      "application/vnd.jupyter.widget-view+json": {
       "model_id": "98c15cd58ce74224b2551a5ad8098594",
       "version_major": 2,
       "version_minor": 0
      },
      "text/plain": [
       "epoch 31:   0%|          | 0/4511 [00:00<?, ?it/s]"
      ]
     },
     "metadata": {},
     "output_type": "display_data"
    },
    {
     "name": "stdout",
     "output_type": "stream",
     "text": [
      "loss is: 1.7776\n",
      "val loss is: 1.7842\n"
     ]
    },
    {
     "data": {
      "application/vnd.jupyter.widget-view+json": {
       "model_id": "40985543178d461a8f247b2a602648de",
       "version_major": 2,
       "version_minor": 0
      },
      "text/plain": [
       "epoch 32:   0%|          | 0/4511 [00:00<?, ?it/s]"
      ]
     },
     "metadata": {},
     "output_type": "display_data"
    },
    {
     "name": "stdout",
     "output_type": "stream",
     "text": [
      "loss is: 1.7750\n",
      "val loss is: 1.7816\n"
     ]
    },
    {
     "data": {
      "application/vnd.jupyter.widget-view+json": {
       "model_id": "76f059e2caa345d6bfae312d48353fd3",
       "version_major": 2,
       "version_minor": 0
      },
      "text/plain": [
       "epoch 33:   0%|          | 0/4511 [00:00<?, ?it/s]"
      ]
     },
     "metadata": {},
     "output_type": "display_data"
    },
    {
     "name": "stdout",
     "output_type": "stream",
     "text": [
      "loss is: 1.7766\n",
      "val loss is: 1.7745\n"
     ]
    },
    {
     "data": {
      "application/vnd.jupyter.widget-view+json": {
       "model_id": "e4d0112146d141a886f2adc699aad2a7",
       "version_major": 2,
       "version_minor": 0
      },
      "text/plain": [
       "epoch 34:   0%|          | 0/4511 [00:00<?, ?it/s]"
      ]
     },
     "metadata": {},
     "output_type": "display_data"
    },
    {
     "name": "stdout",
     "output_type": "stream",
     "text": [
      "loss is: 1.7779\n",
      "val loss is: 1.7749\n"
     ]
    },
    {
     "data": {
      "application/vnd.jupyter.widget-view+json": {
       "model_id": "0241c057a26249ea958cbc54a63fb5f8",
       "version_major": 2,
       "version_minor": 0
      },
      "text/plain": [
       "epoch 35:   0%|          | 0/4511 [00:00<?, ?it/s]"
      ]
     },
     "metadata": {},
     "output_type": "display_data"
    },
    {
     "name": "stdout",
     "output_type": "stream",
     "text": [
      "loss is: 1.6535\n",
      "val loss is: 1.6542\n"
     ]
    },
    {
     "data": {
      "application/vnd.jupyter.widget-view+json": {
       "model_id": "401f257796f34448a54568ac5712cdab",
       "version_major": 2,
       "version_minor": 0
      },
      "text/plain": [
       "epoch 36:   0%|          | 0/4511 [00:00<?, ?it/s]"
      ]
     },
     "metadata": {},
     "output_type": "display_data"
    },
    {
     "name": "stdout",
     "output_type": "stream",
     "text": [
      "loss is: 1.6293\n",
      "val loss is: 1.6429\n"
     ]
    },
    {
     "data": {
      "application/vnd.jupyter.widget-view+json": {
       "model_id": "651cb1f705a542748de70970c5207aa4",
       "version_major": 2,
       "version_minor": 0
      },
      "text/plain": [
       "epoch 37:   0%|          | 0/4511 [00:00<?, ?it/s]"
      ]
     },
     "metadata": {},
     "output_type": "display_data"
    },
    {
     "name": "stdout",
     "output_type": "stream",
     "text": [
      "loss is: 1.6202\n",
      "val loss is: 1.6376\n"
     ]
    },
    {
     "data": {
      "application/vnd.jupyter.widget-view+json": {
       "model_id": "f05680f579e949cf93a77f9e5f00b549",
       "version_major": 2,
       "version_minor": 0
      },
      "text/plain": [
       "epoch 38:   0%|          | 0/4511 [00:00<?, ?it/s]"
      ]
     },
     "metadata": {},
     "output_type": "display_data"
    },
    {
     "name": "stdout",
     "output_type": "stream",
     "text": [
      "loss is: 1.6149\n",
      "val loss is: 1.6325\n"
     ]
    },
    {
     "data": {
      "application/vnd.jupyter.widget-view+json": {
       "model_id": "aa09e18764a042819b8d09a506c6a768",
       "version_major": 2,
       "version_minor": 0
      },
      "text/plain": [
       "epoch 39:   0%|          | 0/4511 [00:00<?, ?it/s]"
      ]
     },
     "metadata": {},
     "output_type": "display_data"
    },
    {
     "name": "stdout",
     "output_type": "stream",
     "text": [
      "loss is: 1.6110\n",
      "val loss is: 1.6291\n"
     ]
    },
    {
     "data": {
      "application/vnd.jupyter.widget-view+json": {
       "model_id": "7ed10e54ce0d4fe2a3950d49c6de6971",
       "version_major": 2,
       "version_minor": 0
      },
      "text/plain": [
       "epoch 40:   0%|          | 0/4511 [00:00<?, ?it/s]"
      ]
     },
     "metadata": {},
     "output_type": "display_data"
    },
    {
     "name": "stdout",
     "output_type": "stream",
     "text": [
      "loss is: 1.6078\n",
      "val loss is: 1.6282\n"
     ]
    },
    {
     "data": {
      "application/vnd.jupyter.widget-view+json": {
       "model_id": "4ef8793f43e245f8a154f924bb3694ed",
       "version_major": 2,
       "version_minor": 0
      },
      "text/plain": [
       "epoch 41:   0%|          | 0/4511 [00:00<?, ?it/s]"
      ]
     },
     "metadata": {},
     "output_type": "display_data"
    },
    {
     "name": "stdout",
     "output_type": "stream",
     "text": [
      "loss is: 1.6053\n",
      "val loss is: 1.6265\n"
     ]
    },
    {
     "data": {
      "application/vnd.jupyter.widget-view+json": {
       "model_id": "20820ff351984cd8956bc66cf6bffd84",
       "version_major": 2,
       "version_minor": 0
      },
      "text/plain": [
       "epoch 42:   0%|          | 0/4511 [00:00<?, ?it/s]"
      ]
     },
     "metadata": {},
     "output_type": "display_data"
    },
    {
     "name": "stdout",
     "output_type": "stream",
     "text": [
      "loss is: 1.6030\n",
      "val loss is: 1.6257\n"
     ]
    },
    {
     "data": {
      "application/vnd.jupyter.widget-view+json": {
       "model_id": "0e5f7ae2697a4194bb56ed09db767ff5",
       "version_major": 2,
       "version_minor": 0
      },
      "text/plain": [
       "epoch 43:   0%|          | 0/4511 [00:00<?, ?it/s]"
      ]
     },
     "metadata": {},
     "output_type": "display_data"
    },
    {
     "name": "stdout",
     "output_type": "stream",
     "text": [
      "loss is: 1.6011\n",
      "val loss is: 1.6239\n"
     ]
    },
    {
     "data": {
      "application/vnd.jupyter.widget-view+json": {
       "model_id": "5db3052585aa4546bbf1c3d1fe6a22a2",
       "version_major": 2,
       "version_minor": 0
      },
      "text/plain": [
       "epoch 44:   0%|          | 0/4511 [00:00<?, ?it/s]"
      ]
     },
     "metadata": {},
     "output_type": "display_data"
    },
    {
     "name": "stdout",
     "output_type": "stream",
     "text": [
      "loss is: 1.5994\n",
      "val loss is: 1.6229\n"
     ]
    },
    {
     "data": {
      "application/vnd.jupyter.widget-view+json": {
       "model_id": "62563352e1dd413a91a190fc7420b8b9",
       "version_major": 2,
       "version_minor": 0
      },
      "text/plain": [
       "epoch 45:   0%|          | 0/4511 [00:00<?, ?it/s]"
      ]
     },
     "metadata": {},
     "output_type": "display_data"
    },
    {
     "name": "stdout",
     "output_type": "stream",
     "text": [
      "loss is: 1.5978\n",
      "val loss is: 1.6218\n"
     ]
    },
    {
     "data": {
      "application/vnd.jupyter.widget-view+json": {
       "model_id": "a6beb6e07f0d462eb046a87600f28447",
       "version_major": 2,
       "version_minor": 0
      },
      "text/plain": [
       "epoch 46:   0%|          | 0/4511 [00:00<?, ?it/s]"
      ]
     },
     "metadata": {},
     "output_type": "display_data"
    },
    {
     "name": "stdout",
     "output_type": "stream",
     "text": [
      "loss is: 1.5966\n",
      "val loss is: 1.6213\n"
     ]
    },
    {
     "data": {
      "application/vnd.jupyter.widget-view+json": {
       "model_id": "6eda495149bc4d3fa92963215bec7426",
       "version_major": 2,
       "version_minor": 0
      },
      "text/plain": [
       "epoch 47:   0%|          | 0/4511 [00:00<?, ?it/s]"
      ]
     },
     "metadata": {},
     "output_type": "display_data"
    },
    {
     "name": "stdout",
     "output_type": "stream",
     "text": [
      "loss is: 1.5952\n",
      "val loss is: 1.6211\n"
     ]
    },
    {
     "data": {
      "application/vnd.jupyter.widget-view+json": {
       "model_id": "5c38038712f34f3dbf78b80935667101",
       "version_major": 2,
       "version_minor": 0
      },
      "text/plain": [
       "epoch 48:   0%|          | 0/4511 [00:00<?, ?it/s]"
      ]
     },
     "metadata": {},
     "output_type": "display_data"
    },
    {
     "name": "stdout",
     "output_type": "stream",
     "text": [
      "loss is: 1.5939\n",
      "val loss is: 1.6200\n"
     ]
    },
    {
     "data": {
      "application/vnd.jupyter.widget-view+json": {
       "model_id": "1c08ebb08b3341c69c4737643f9b85b8",
       "version_major": 2,
       "version_minor": 0
      },
      "text/plain": [
       "epoch 49:   0%|          | 0/4511 [00:00<?, ?it/s]"
      ]
     },
     "metadata": {},
     "output_type": "display_data"
    },
    {
     "name": "stdout",
     "output_type": "stream",
     "text": [
      "loss is: 1.5928\n",
      "val loss is: 1.6195\n",
      "Time is: 6 min 0 sec\n"
     ]
    }
   ],
   "source": [
    "device = torch.device('cuda' if torch.cuda.is_available() else 'cpu')\n",
    "\n",
    "# load data:\n",
    "data_set = CommonDataSet(data_list_context, device)\n",
    "\n",
    "batch_size = 256\n",
    "\n",
    "# training network model:\n",
    "start = time.time() \n",
    "new_nnet_context_sched = MyNewNNet(input_dim=(data_list_context[0].shape[0] - 1),\n",
    "            output_dim=len(phones_dict.keys())).to(device)\n",
    "criterion = nn.CrossEntropyLoss()\n",
    "optimizer = torch.optim.Adam(new_nnet_context_sched.parameters(), lr=0.003)\n",
    "\n",
    "lr_scheduler = torch.optim.lr_scheduler.ReduceLROnPlateau(optimizer)\n",
    "\n",
    "loss_list = []\n",
    "val_loss = []\n",
    "\n",
    "print('TRAINIG STARTED...')\n",
    "for epoch in range(50):\n",
    "    new_nnet_context_sched.train()\n",
    "    running_loss = 0\n",
    "    counter = 0\n",
    "    for batch_xs, batch_ys in tqdm(data_set.next_batch(batch_size), \\\n",
    "                                   total=data_set.num_batches(batch_size), \\\n",
    "                                   desc='epoch {}'.format(epoch)):\n",
    "        optimizer.zero_grad()\n",
    "        output = new_nnet_context_sched(batch_xs)\n",
    "\n",
    "        loss = criterion(output, batch_ys)\n",
    "        loss.backward()\n",
    "        optimizer.step()\n",
    "        \n",
    "        running_loss += loss.item()\n",
    "        counter += 1\n",
    "    \n",
    "    with torch.no_grad():\n",
    "        new_nnet_context_sched.eval()\n",
    "        val_xs = torch.tensor(data_set.valid[:, :-1], dtype=torch.float32).to(device)\n",
    "        val_ys = torch.tensor(data_set.valid[:,-1].ravel(), dtype=torch.int64).to(device)\n",
    "#         val_data, true_lavel = data_set.valid[:, :-1], data_set.valid[:, -1]\n",
    "        val_out = new_nnet_context_sched(val_xs)\n",
    "        val_l = criterion(val_out, val_ys)\n",
    "        val_loss.append(val_l.item())\n",
    "        \n",
    "    lr_scheduler.step(val_l)\n",
    "    print('loss is: {:.4f}'.format((running_loss / counter)))\n",
    "    loss_list.append(running_loss / counter)\n",
    "    print('val loss is: {:.4f}'.format(val_l))\n",
    "    \n",
    "    \n",
    "end = time.time()\n",
    "minutes = (end - start) // 60\n",
    "seconds = np.mod((end - start), 60)\n",
    "print('Time is: {} min {} sec'.format(int(minutes), int(seconds)))"
   ]
  },
  {
   "cell_type": "code",
   "execution_count": 83,
   "metadata": {},
   "outputs": [
    {
     "data": {
      "text/plain": [
       "0.00030000000000000003"
      ]
     },
     "execution_count": 83,
     "metadata": {},
     "output_type": "execute_result"
    }
   ],
   "source": [
    "optimizer.param_groups[0]['lr']"
   ]
  },
  {
   "cell_type": "code",
   "execution_count": 84,
   "metadata": {},
   "outputs": [
    {
     "data": {
      "image/png": "[encoded data removed]",
      "text/plain": [
       "<Figure size 1080x360 with 1 Axes>"
      ]
     },
     "metadata": {
      "needs_background": "light"
     },
     "output_type": "display_data"
    }
   ],
   "source": [
    "plt.rcParams['figure.figsize'] = (15.0, 5.0)\n",
    "plt.plot(loss_list, label='train loss')\n",
    "plt.plot(val_loss, label='val loss')\n",
    "plt.title('Loss per epoch')\n",
    "plt.ylabel('loss')\n",
    "plt.xlabel('epoch')\n",
    "plt.grid()\n",
    "plt.legend()\n",
    "plt.show()"
   ]
  },
  {
   "cell_type": "code",
   "execution_count": 85,
   "metadata": {},
   "outputs": [
    {
     "data": {
      "application/vnd.jupyter.widget-view+json": {
       "model_id": "c9a5fca314b74323874c3379c4a8c933",
       "version_major": 2,
       "version_minor": 0
      },
      "text/plain": [
       "  0%|          | 0/128315 [00:00<?, ?it/s]"
      ]
     },
     "metadata": {},
     "output_type": "display_data"
    },
    {
     "name": "stdout",
     "output_type": "stream",
     "text": [
      "Total frame accuracy is 0.528\n",
      "\n"
     ]
    }
   ],
   "source": [
    "class_correct = [0 for x in range(len(phones_dict.keys()))]\n",
    "class_total = [0 for x in range(len(phones_dict.keys()))]\n",
    "\n",
    "new_nnet_context_sched.cpu()\n",
    "\n",
    "with torch.no_grad():\n",
    "    correct_cnt = 0\n",
    "    for ftr, true_label in tqdm(zip(data_set.valid[:, :-1], data_set.valid[:, -1]), total=data_set.valid.shape[0]):\n",
    "        ftr = torch.from_numpy(ftr).float()\n",
    "        output = new_nnet_context_sched.forward(ftr)\n",
    "        predicted_label = output.argmax().item()\n",
    "        correct_cnt += (predicted_label == true_label)\n",
    "        class_correct[predicted_label] += (predicted_label == int(true_label))\n",
    "        class_total[int(true_label)] += 1\n",
    "        \n",
    "print(\"Total frame accuracy is {:.3f}\\n\".format(correct_cnt / data_set.valid.shape[0]))"
   ]
  },
  {
   "cell_type": "markdown",
   "metadata": {},
   "source": [
    "## yes_no"
   ]
  },
  {
   "cell_type": "code",
   "execution_count": 94,
   "metadata": {},
   "outputs": [
    {
     "data": {
      "application/vnd.jupyter.widget-view+json": {
       "model_id": "818e7e393e114ca5bbf89b695a693f64",
       "version_major": 2,
       "version_minor": 0
      },
      "text/plain": [
       "  0%|          | 0/10 [00:00<?, ?it/s]"
      ]
     },
     "metadata": {},
     "output_type": "display_data"
    },
    {
     "name": "stdout",
     "output_type": "stream",
     "text": [
      "Beam = 1\n",
      "\n",
      "result: yes_ff63ab0b_nohash_0       ==> YES\n",
      "result: yes_fe1916ba_nohash_0       ==> YES\n",
      "result: yes_fc94edb0_nohash_0       ==> YES\n",
      "result: no_41474817_nohash_0        ==> NO\n",
      "result: yes_39a6b995_nohash_0       ==> YES\n"
     ]
    },
    {
     "name": "stderr",
     "output_type": "stream",
     "text": [
      "/tmp/ipykernel_375/259245042.py:13: RuntimeWarning: divide by zero encountered in log\n",
      "  return -np.log(softmax[self.phone_index].item() / (self.phone_prior + EPS))\n"
     ]
    },
    {
     "name": "stdout",
     "output_type": "stream",
     "text": [
      "result: yes_39a12648_nohash_0       ==> YES\n",
      "result: no_4abb2400_nohash_0        ==> NO\n",
      "result: no_ad89eb1e_nohash_0        ==> YES\n",
      "result: no_49af4432_nohash_0        ==> YES\n",
      "result: no_4394fc7c_nohash_0        ==> NO\n",
      "------------------------------------------------------------\n",
      "WER is: 20.00%\n",
      "Total time is: 0.30 sec\n",
      "------------------------------------------------------------\n",
      "\n",
      "##################################################\n",
      "\n",
      "Beam = 3\n",
      "\n",
      "result: yes_ff63ab0b_nohash_0       ==> YES\n",
      "result: yes_fe1916ba_nohash_0       ==> YES\n",
      "result: yes_fc94edb0_nohash_0       ==> YES\n",
      "result: no_41474817_nohash_0        ==> NO\n",
      "result: yes_39a6b995_nohash_0       ==> YES\n",
      "result: yes_39a12648_nohash_0       ==> YES\n",
      "result: no_4abb2400_nohash_0        ==> NO\n",
      "result: no_ad89eb1e_nohash_0        ==> YES\n",
      "result: no_49af4432_nohash_0        ==> NO\n",
      "result: no_4394fc7c_nohash_0        ==> NO\n",
      "------------------------------------------------------------\n",
      "WER is: 10.00%\n",
      "Total time is: 0.29 sec\n",
      "------------------------------------------------------------\n",
      "\n",
      "##################################################\n",
      "\n",
      "Beam = 5\n",
      "\n",
      "result: yes_ff63ab0b_nohash_0       ==> YES\n",
      "result: yes_fe1916ba_nohash_0       ==> YES\n",
      "result: yes_fc94edb0_nohash_0       ==> YES\n",
      "result: no_41474817_nohash_0        ==> NO\n",
      "result: yes_39a6b995_nohash_0       ==> YES\n",
      "result: yes_39a12648_nohash_0       ==> YES\n",
      "result: no_4abb2400_nohash_0        ==> NO\n",
      "result: no_ad89eb1e_nohash_0        ==> YES\n",
      "result: no_49af4432_nohash_0        ==> NO\n",
      "result: no_4394fc7c_nohash_0        ==> NO\n",
      "------------------------------------------------------------\n",
      "WER is: 10.00%\n",
      "Total time is: 0.40 sec\n",
      "------------------------------------------------------------\n",
      "\n",
      "##################################################\n",
      "\n",
      "Beam = 10\n",
      "\n",
      "result: yes_ff63ab0b_nohash_0       ==> YES\n",
      "result: yes_fe1916ba_nohash_0       ==> YES\n",
      "result: yes_fc94edb0_nohash_0       ==> YES\n",
      "result: no_41474817_nohash_0        ==> NO\n",
      "result: yes_39a6b995_nohash_0       ==> YES\n",
      "result: yes_39a12648_nohash_0       ==> YES\n",
      "result: no_4abb2400_nohash_0        ==> NO\n",
      "result: no_ad89eb1e_nohash_0        ==> YES\n",
      "result: no_49af4432_nohash_0        ==> NO\n",
      "result: no_4394fc7c_nohash_0        ==> NO\n",
      "------------------------------------------------------------\n",
      "WER is: 10.00%\n",
      "Total time is: 0.56 sec\n",
      "------------------------------------------------------------\n",
      "\n",
      "##################################################\n",
      "\n",
      "Beam = 20\n",
      "\n",
      "result: yes_ff63ab0b_nohash_0       ==> YES\n",
      "result: yes_fe1916ba_nohash_0       ==> YES\n",
      "result: yes_fc94edb0_nohash_0       ==> YES\n",
      "result: no_41474817_nohash_0        ==> NO\n",
      "result: yes_39a6b995_nohash_0       ==> YES\n",
      "result: yes_39a12648_nohash_0       ==> YES\n",
      "result: no_4abb2400_nohash_0        ==> NO\n",
      "result: no_ad89eb1e_nohash_0        ==> NO\n",
      "result: no_49af4432_nohash_0        ==> NO\n",
      "result: no_4394fc7c_nohash_0        ==> NO\n",
      "------------------------------------------------------------\n",
      "WER is: 0.00%\n",
      "Total time is: 0.75 sec\n",
      "------------------------------------------------------------\n",
      "\n",
      "##################################################\n",
      "\n"
     ]
    }
   ],
   "source": [
    "lexicon_file = 'lab2/data/lexicon_yes_no.txt'\n",
    "lexicon_dict = load_lexicon_dict(lexicon_file)\n",
    "graph = load_graph(lexicon_dict, phones_dict, priors_list)\n",
    "records_data_dict = load_data_dict(\"lab2/data/yes_no/records\")\n",
    "\n",
    "for beam in [1, 3, 5, 10, 20]:\n",
    "    print(f'Beam = {beam}\\n')\n",
    "    run_recognizer(records_data_dict, graph, new_nnet_context_sched.cpu(), side_context, beam_threshold=beam)\n",
    "    print()\n",
    "    print('##################################################')\n",
    "    print()"
   ]
  },
  {
   "cell_type": "markdown",
   "metadata": {},
   "source": [
    "## Digits"
   ]
  },
  {
   "cell_type": "code",
   "execution_count": 87,
   "metadata": {
    "scrolled": false
   },
   "outputs": [
    {
     "data": {
      "application/vnd.jupyter.widget-view+json": {
       "model_id": "f9e4dcb9cc0e49618592a40e786d13fa",
       "version_major": 2,
       "version_minor": 0
      },
      "text/plain": [
       "  0%|          | 0/20 [00:00<?, ?it/s]"
      ]
     },
     "metadata": {},
     "output_type": "display_data"
    },
    {
     "name": "stdout",
     "output_type": "stream",
     "text": [
      "beam = 1\n",
      "\n",
      "result: eight_daf230ac_nohash_0     ==> TWO\n",
      "result: eight_da584bc0_nohash_4     ==> FIVE\n",
      "result: seven_fe5c4a7a_nohash_0     ==> THREE\n",
      "result: four_fce65496_nohash_0      ==> TWO\n",
      "result: nine_ccea893d_nohash_0      ==> TWO\n",
      "result: zero_f92e49f3_nohash_3      ==> THREE\n",
      "result: four_ffbb695d_nohash_0      ==> THREE\n",
      "result: three_feb1d305_nohash_0     ==> THREE\n",
      "result: five_ffd2ba2f_nohash_0      ==> FOUR\n",
      "result: three_fce96bac_nohash_0     ==> ONE\n",
      "result: five_f852895b_nohash_0      ==> THREE\n",
      "result: six_ffbb695d_nohash_0       ==> FIVE\n",
      "result: nine_fbe51750_nohash_0      ==> FOUR\n",
      "result: two_fb2f3242_nohash_0       ==> THREE\n",
      "result: six_ffd2ba2f_nohash_0       ==> SIX\n",
      "result: zero_f852895b_nohash_0      ==> FIVE\n",
      "result: one_fc2411fe_nohash_0       ==> ONE\n",
      "result: one_ffa76c4a_nohash_0       ==> ONE\n",
      "result: seven_fd32732a_nohash_0     ==> TWO\n",
      "result: two_fce65496_nohash_0       ==> ONE\n",
      "------------------------------------------------------------\n",
      "WER is: 80.00%\n",
      "Total time is: 1.06 sec\n",
      "------------------------------------------------------------\n",
      "\n",
      "##################################################\n",
      "\n",
      "beam = 5\n",
      "\n",
      "result: eight_daf230ac_nohash_0     ==> ONE\n",
      "result: eight_da584bc0_nohash_4     ==> FIVE\n",
      "result: seven_fe5c4a7a_nohash_0     ==> SEVEN\n",
      "result: four_fce65496_nohash_0      ==> ONE\n",
      "result: nine_ccea893d_nohash_0      ==> ONE\n",
      "result: zero_f92e49f3_nohash_3      ==> ONE\n",
      "result: four_ffbb695d_nohash_0      ==> THREE\n",
      "result: three_feb1d305_nohash_0     ==> THREE\n",
      "result: five_ffd2ba2f_nohash_0      ==> FOUR\n",
      "result: three_fce96bac_nohash_0     ==> ZERO\n",
      "result: five_f852895b_nohash_0      ==> FIVE\n",
      "result: six_ffbb695d_nohash_0       ==> SIX\n",
      "result: nine_fbe51750_nohash_0      ==> NINE\n",
      "result: two_fb2f3242_nohash_0       ==> THREE\n",
      "result: six_ffd2ba2f_nohash_0       ==> SIX\n",
      "result: zero_f852895b_nohash_0      ==> THREE\n",
      "result: one_fc2411fe_nohash_0       ==> ONE\n",
      "result: one_ffa76c4a_nohash_0       ==> ONE\n",
      "result: seven_fd32732a_nohash_0     ==> SEVEN\n",
      "result: two_fce65496_nohash_0       ==> TWO\n",
      "------------------------------------------------------------\n",
      "WER is: 50.00%\n",
      "Total time is: 2.38 sec\n",
      "------------------------------------------------------------\n",
      "\n",
      "##################################################\n",
      "\n",
      "beam = 10\n",
      "\n",
      "result: eight_daf230ac_nohash_0     ==> THREE\n",
      "result: eight_da584bc0_nohash_4     ==> FIVE\n",
      "result: seven_fe5c4a7a_nohash_0     ==> SEVEN\n",
      "result: four_fce65496_nohash_0      ==> FOUR\n",
      "result: nine_ccea893d_nohash_0      ==> NINE\n",
      "result: zero_f92e49f3_nohash_3      ==> SIX\n",
      "result: four_ffbb695d_nohash_0      ==> FOUR\n",
      "result: three_feb1d305_nohash_0     ==> THREE\n",
      "result: five_ffd2ba2f_nohash_0      ==> FIVE\n",
      "result: three_fce96bac_nohash_0     ==> ZERO\n",
      "result: five_f852895b_nohash_0      ==> FIVE\n",
      "result: six_ffbb695d_nohash_0       ==> SIX\n",
      "result: nine_fbe51750_nohash_0      ==> NINE\n",
      "result: two_fb2f3242_nohash_0       ==> THREE\n",
      "result: six_ffd2ba2f_nohash_0       ==> SIX\n",
      "result: zero_f852895b_nohash_0      ==> THREE\n",
      "result: one_fc2411fe_nohash_0       ==> ONE\n",
      "result: one_ffa76c4a_nohash_0       ==> ONE\n",
      "result: seven_fd32732a_nohash_0     ==> SEVEN\n",
      "result: two_fce65496_nohash_0       ==> SEVEN\n",
      "------------------------------------------------------------\n",
      "WER is: 35.00%\n",
      "Total time is: 5.76 sec\n",
      "------------------------------------------------------------\n",
      "\n",
      "##################################################\n",
      "\n",
      "beam = 20\n",
      "\n",
      "result: eight_daf230ac_nohash_0     ==> EIGHT\n",
      "result: eight_da584bc0_nohash_4     ==> FIVE\n",
      "result: seven_fe5c4a7a_nohash_0     ==> SEVEN\n",
      "result: four_fce65496_nohash_0      ==> FOUR\n",
      "result: nine_ccea893d_nohash_0      ==> NINE\n",
      "result: zero_f92e49f3_nohash_3      ==> ZERO\n",
      "result: four_ffbb695d_nohash_0      ==> FOUR\n",
      "result: three_feb1d305_nohash_0     ==> THREE\n",
      "result: five_ffd2ba2f_nohash_0      ==> FIVE\n",
      "result: three_fce96bac_nohash_0     ==> THREE\n",
      "result: five_f852895b_nohash_0      ==> FIVE\n",
      "result: six_ffbb695d_nohash_0       ==> SIX\n",
      "result: nine_fbe51750_nohash_0      ==> NINE\n",
      "result: two_fb2f3242_nohash_0       ==> TWO\n",
      "result: six_ffd2ba2f_nohash_0       ==> SIX\n",
      "result: zero_f852895b_nohash_0      ==> ZERO\n",
      "result: one_fc2411fe_nohash_0       ==> ONE\n",
      "result: one_ffa76c4a_nohash_0       ==> ONE\n",
      "result: seven_fd32732a_nohash_0     ==> SEVEN\n",
      "result: two_fce65496_nohash_0       ==> TWO\n",
      "------------------------------------------------------------\n",
      "WER is: 5.00%\n",
      "Total time is: 8.94 sec\n",
      "------------------------------------------------------------\n",
      "\n",
      "##################################################\n",
      "\n",
      "beam = 30\n",
      "\n",
      "result: eight_daf230ac_nohash_0     ==> EIGHT\n",
      "result: eight_da584bc0_nohash_4     ==> FIVE\n",
      "result: seven_fe5c4a7a_nohash_0     ==> SEVEN\n",
      "result: four_fce65496_nohash_0      ==> FOUR\n",
      "result: nine_ccea893d_nohash_0      ==> NINE\n",
      "result: zero_f92e49f3_nohash_3      ==> ZERO\n",
      "result: four_ffbb695d_nohash_0      ==> FOUR\n",
      "result: three_feb1d305_nohash_0     ==> THREE\n",
      "result: five_ffd2ba2f_nohash_0      ==> FIVE\n",
      "result: three_fce96bac_nohash_0     ==> THREE\n",
      "result: five_f852895b_nohash_0      ==> FIVE\n",
      "result: six_ffbb695d_nohash_0       ==> SIX\n",
      "result: nine_fbe51750_nohash_0      ==> NINE\n",
      "result: two_fb2f3242_nohash_0       ==> TWO\n",
      "result: six_ffd2ba2f_nohash_0       ==> SIX\n",
      "result: zero_f852895b_nohash_0      ==> ZERO\n",
      "result: one_fc2411fe_nohash_0       ==> ONE\n",
      "result: one_ffa76c4a_nohash_0       ==> ONE\n",
      "result: seven_fd32732a_nohash_0     ==> SEVEN\n",
      "result: two_fce65496_nohash_0       ==> TWO\n",
      "------------------------------------------------------------\n",
      "WER is: 5.00%\n",
      "Total time is: 8.37 sec\n",
      "------------------------------------------------------------\n",
      "\n",
      "##################################################\n",
      "\n",
      "beam = 50\n",
      "\n",
      "result: eight_daf230ac_nohash_0     ==> EIGHT\n",
      "result: eight_da584bc0_nohash_4     ==> EIGHT\n",
      "result: seven_fe5c4a7a_nohash_0     ==> SEVEN\n",
      "result: four_fce65496_nohash_0      ==> FOUR\n",
      "result: nine_ccea893d_nohash_0      ==> NINE\n",
      "result: zero_f92e49f3_nohash_3      ==> ZERO\n",
      "result: four_ffbb695d_nohash_0      ==> FOUR\n",
      "result: three_feb1d305_nohash_0     ==> THREE\n",
      "result: five_ffd2ba2f_nohash_0      ==> FIVE\n",
      "result: three_fce96bac_nohash_0     ==> THREE\n",
      "result: five_f852895b_nohash_0      ==> FIVE\n",
      "result: six_ffbb695d_nohash_0       ==> SIX\n",
      "result: nine_fbe51750_nohash_0      ==> NINE\n",
      "result: two_fb2f3242_nohash_0       ==> TWO\n",
      "result: six_ffd2ba2f_nohash_0       ==> SIX\n",
      "result: zero_f852895b_nohash_0      ==> ZERO\n",
      "result: one_fc2411fe_nohash_0       ==> NINE\n",
      "result: one_ffa76c4a_nohash_0       ==> ONE\n",
      "result: seven_fd32732a_nohash_0     ==> SEVEN\n",
      "result: two_fce65496_nohash_0       ==> TWO\n",
      "------------------------------------------------------------\n",
      "WER is: 5.00%\n",
      "Total time is: 10.08 sec\n",
      "------------------------------------------------------------\n",
      "\n",
      "##################################################\n",
      "\n"
     ]
    }
   ],
   "source": [
    "lexicon_file = 'lab2/data/lexicon_digits.txt'\n",
    "lexicon_dict = load_lexicon_dict(lexicon_file)\n",
    "graph = load_graph(lexicon_dict, phones_dict, priors_list)\n",
    "records_data_dict = load_data_dict(\"lab2/data/digits/records\")\n",
    "\n",
    "for beam in [1, 5, 10, 20, 30, 50]:\n",
    "    print(f'beam = {beam}')\n",
    "    print()\n",
    "    run_recognizer(records_data_dict, graph, new_nnet_context_sched.cpu(), side_context, beam_threshold=beam)\n",
    "    print()\n",
    "    print('##################################################')\n",
    "    print()"
   ]
  },
  {
   "cell_type": "markdown",
   "metadata": {},
   "source": [
    "# MyNNet + Adam + ReduceLROnPlateau"
   ]
  },
  {
   "cell_type": "code",
   "execution_count": 115,
   "metadata": {},
   "outputs": [
    {
     "name": "stdout",
     "output_type": "stream",
     "text": [
      "TRAINIG STARTED...\n"
     ]
    },
    {
     "data": {
      "application/vnd.jupyter.widget-view+json": {
       "model_id": "1bab1b68fdf344c6b33169c46699d0eb",
       "version_major": 2,
       "version_minor": 0
      },
      "text/plain": [
       "epoch 0:   0%|          | 0/4511 [00:00<?, ?it/s]"
      ]
     },
     "metadata": {},
     "output_type": "display_data"
    },
    {
     "name": "stdout",
     "output_type": "stream",
     "text": [
      "loss is: 2.0166\n",
      "val loss is: 1.7682\n"
     ]
    },
    {
     "data": {
      "application/vnd.jupyter.widget-view+json": {
       "model_id": "3a9d472643184cb7a923aa868d277b23",
       "version_major": 2,
       "version_minor": 0
      },
      "text/plain": [
       "epoch 1:   0%|          | 0/4511 [00:00<?, ?it/s]"
      ]
     },
     "metadata": {},
     "output_type": "display_data"
    },
    {
     "name": "stdout",
     "output_type": "stream",
     "text": [
      "loss is: 1.7188\n",
      "val loss is: 1.6748\n"
     ]
    },
    {
     "data": {
      "application/vnd.jupyter.widget-view+json": {
       "model_id": "54931bf029a6434da639bce70481e7de",
       "version_major": 2,
       "version_minor": 0
      },
      "text/plain": [
       "epoch 2:   0%|          | 0/4511 [00:00<?, ?it/s]"
      ]
     },
     "metadata": {},
     "output_type": "display_data"
    },
    {
     "name": "stdout",
     "output_type": "stream",
     "text": [
      "loss is: 1.6506\n",
      "val loss is: 1.6298\n"
     ]
    },
    {
     "data": {
      "application/vnd.jupyter.widget-view+json": {
       "model_id": "3bc0ff7dc8ff4889b361f031a1c47710",
       "version_major": 2,
       "version_minor": 0
      },
      "text/plain": [
       "epoch 3:   0%|          | 0/4511 [00:00<?, ?it/s]"
      ]
     },
     "metadata": {},
     "output_type": "display_data"
    },
    {
     "name": "stdout",
     "output_type": "stream",
     "text": [
      "loss is: 1.6119\n",
      "val loss is: 1.6042\n"
     ]
    },
    {
     "data": {
      "application/vnd.jupyter.widget-view+json": {
       "model_id": "a8ca2ad5634c43c99fb739c34829fc37",
       "version_major": 2,
       "version_minor": 0
      },
      "text/plain": [
       "epoch 4:   0%|          | 0/4511 [00:00<?, ?it/s]"
      ]
     },
     "metadata": {},
     "output_type": "display_data"
    },
    {
     "name": "stdout",
     "output_type": "stream",
     "text": [
      "loss is: 1.5871\n",
      "val loss is: 1.5879\n"
     ]
    },
    {
     "data": {
      "application/vnd.jupyter.widget-view+json": {
       "model_id": "2dfcb6b4e2134e4fa50ac728a1ce85da",
       "version_major": 2,
       "version_minor": 0
      },
      "text/plain": [
       "epoch 5:   0%|          | 0/4511 [00:00<?, ?it/s]"
      ]
     },
     "metadata": {},
     "output_type": "display_data"
    },
    {
     "name": "stdout",
     "output_type": "stream",
     "text": [
      "loss is: 1.5696\n",
      "val loss is: 1.5823\n"
     ]
    },
    {
     "data": {
      "application/vnd.jupyter.widget-view+json": {
       "model_id": "f13b55a65886440881f188ff6a89b04d",
       "version_major": 2,
       "version_minor": 0
      },
      "text/plain": [
       "epoch 6:   0%|          | 0/4511 [00:00<?, ?it/s]"
      ]
     },
     "metadata": {},
     "output_type": "display_data"
    },
    {
     "name": "stdout",
     "output_type": "stream",
     "text": [
      "loss is: 1.5568\n",
      "val loss is: 1.5766\n"
     ]
    },
    {
     "data": {
      "application/vnd.jupyter.widget-view+json": {
       "model_id": "9392c45931f1412a96de88edfc53ace4",
       "version_major": 2,
       "version_minor": 0
      },
      "text/plain": [
       "epoch 7:   0%|          | 0/4511 [00:00<?, ?it/s]"
      ]
     },
     "metadata": {},
     "output_type": "display_data"
    },
    {
     "name": "stdout",
     "output_type": "stream",
     "text": [
      "loss is: 1.5464\n",
      "val loss is: 1.5715\n"
     ]
    },
    {
     "data": {
      "application/vnd.jupyter.widget-view+json": {
       "model_id": "a3654d87f3bf4fbc8c0ca174e2882870",
       "version_major": 2,
       "version_minor": 0
      },
      "text/plain": [
       "epoch 8:   0%|          | 0/4511 [00:00<?, ?it/s]"
      ]
     },
     "metadata": {},
     "output_type": "display_data"
    },
    {
     "name": "stdout",
     "output_type": "stream",
     "text": [
      "loss is: 1.5382\n",
      "val loss is: 1.5729\n"
     ]
    },
    {
     "data": {
      "application/vnd.jupyter.widget-view+json": {
       "model_id": "0dff8dda2d68427f824cef4b7c73f1bb",
       "version_major": 2,
       "version_minor": 0
      },
      "text/plain": [
       "epoch 9:   0%|          | 0/4511 [00:00<?, ?it/s]"
      ]
     },
     "metadata": {},
     "output_type": "display_data"
    },
    {
     "name": "stdout",
     "output_type": "stream",
     "text": [
      "loss is: 1.5310\n",
      "val loss is: 1.5674\n"
     ]
    },
    {
     "data": {
      "application/vnd.jupyter.widget-view+json": {
       "model_id": "e8f971480efc4f77ab465b206f9d4822",
       "version_major": 2,
       "version_minor": 0
      },
      "text/plain": [
       "epoch 10:   0%|          | 0/4511 [00:00<?, ?it/s]"
      ]
     },
     "metadata": {},
     "output_type": "display_data"
    },
    {
     "name": "stdout",
     "output_type": "stream",
     "text": [
      "loss is: 1.5252\n",
      "val loss is: 1.5660\n"
     ]
    },
    {
     "data": {
      "application/vnd.jupyter.widget-view+json": {
       "model_id": "815b2495b2dc42c2864968efa1b7df0e",
       "version_major": 2,
       "version_minor": 0
      },
      "text/plain": [
       "epoch 11:   0%|          | 0/4511 [00:00<?, ?it/s]"
      ]
     },
     "metadata": {},
     "output_type": "display_data"
    },
    {
     "name": "stdout",
     "output_type": "stream",
     "text": [
      "loss is: 1.5202\n",
      "val loss is: 1.5643\n"
     ]
    },
    {
     "data": {
      "application/vnd.jupyter.widget-view+json": {
       "model_id": "14cf5c803bdd4a99b69b4bda088fc6fe",
       "version_major": 2,
       "version_minor": 0
      },
      "text/plain": [
       "epoch 12:   0%|          | 0/4511 [00:00<?, ?it/s]"
      ]
     },
     "metadata": {},
     "output_type": "display_data"
    },
    {
     "name": "stdout",
     "output_type": "stream",
     "text": [
      "loss is: 1.5157\n",
      "val loss is: 1.5652\n"
     ]
    },
    {
     "data": {
      "application/vnd.jupyter.widget-view+json": {
       "model_id": "5b4f8ebddbba4470944deb970a39c7ad",
       "version_major": 2,
       "version_minor": 0
      },
      "text/plain": [
       "epoch 13:   0%|          | 0/4511 [00:00<?, ?it/s]"
      ]
     },
     "metadata": {},
     "output_type": "display_data"
    },
    {
     "name": "stdout",
     "output_type": "stream",
     "text": [
      "loss is: 1.5121\n",
      "val loss is: 1.5653\n"
     ]
    },
    {
     "data": {
      "application/vnd.jupyter.widget-view+json": {
       "model_id": "a634f59fa51f4cf8aa6b9cf7f2796506",
       "version_major": 2,
       "version_minor": 0
      },
      "text/plain": [
       "epoch 14:   0%|          | 0/4511 [00:00<?, ?it/s]"
      ]
     },
     "metadata": {},
     "output_type": "display_data"
    },
    {
     "name": "stdout",
     "output_type": "stream",
     "text": [
      "loss is: 1.5088\n",
      "val loss is: 1.5615\n"
     ]
    },
    {
     "data": {
      "application/vnd.jupyter.widget-view+json": {
       "model_id": "492be161d6f34205a937ad229bb5eac7",
       "version_major": 2,
       "version_minor": 0
      },
      "text/plain": [
       "epoch 15:   0%|          | 0/4511 [00:00<?, ?it/s]"
      ]
     },
     "metadata": {},
     "output_type": "display_data"
    },
    {
     "name": "stdout",
     "output_type": "stream",
     "text": [
      "loss is: 1.5060\n",
      "val loss is: 1.5621\n"
     ]
    },
    {
     "data": {
      "application/vnd.jupyter.widget-view+json": {
       "model_id": "f5353b30bb4a4adda03dc188292db89b",
       "version_major": 2,
       "version_minor": 0
      },
      "text/plain": [
       "epoch 16:   0%|          | 0/4511 [00:00<?, ?it/s]"
      ]
     },
     "metadata": {},
     "output_type": "display_data"
    },
    {
     "name": "stdout",
     "output_type": "stream",
     "text": [
      "loss is: 1.5035\n",
      "val loss is: 1.5597\n"
     ]
    },
    {
     "data": {
      "application/vnd.jupyter.widget-view+json": {
       "model_id": "bafff0c43e6c43bea53dead920044a2d",
       "version_major": 2,
       "version_minor": 0
      },
      "text/plain": [
       "epoch 17:   0%|          | 0/4511 [00:00<?, ?it/s]"
      ]
     },
     "metadata": {},
     "output_type": "display_data"
    },
    {
     "name": "stdout",
     "output_type": "stream",
     "text": [
      "loss is: 1.5006\n",
      "val loss is: 1.5609\n"
     ]
    },
    {
     "data": {
      "application/vnd.jupyter.widget-view+json": {
       "model_id": "d486a3cdc26d475f9d23d6506b341f21",
       "version_major": 2,
       "version_minor": 0
      },
      "text/plain": [
       "epoch 18:   0%|          | 0/4511 [00:00<?, ?it/s]"
      ]
     },
     "metadata": {},
     "output_type": "display_data"
    },
    {
     "name": "stdout",
     "output_type": "stream",
     "text": [
      "loss is: 1.4982\n",
      "val loss is: 1.5634\n"
     ]
    },
    {
     "data": {
      "application/vnd.jupyter.widget-view+json": {
       "model_id": "d99dfabc342842259a29fb9d4a22be1f",
       "version_major": 2,
       "version_minor": 0
      },
      "text/plain": [
       "epoch 19:   0%|          | 0/4511 [00:00<?, ?it/s]"
      ]
     },
     "metadata": {},
     "output_type": "display_data"
    },
    {
     "name": "stdout",
     "output_type": "stream",
     "text": [
      "loss is: 1.4967\n",
      "val loss is: 1.5571\n"
     ]
    },
    {
     "data": {
      "application/vnd.jupyter.widget-view+json": {
       "model_id": "b7c89d58392743289838d1bad9597bfb",
       "version_major": 2,
       "version_minor": 0
      },
      "text/plain": [
       "epoch 20:   0%|          | 0/4511 [00:00<?, ?it/s]"
      ]
     },
     "metadata": {},
     "output_type": "display_data"
    },
    {
     "name": "stdout",
     "output_type": "stream",
     "text": [
      "loss is: 1.4951\n",
      "val loss is: 1.5590\n"
     ]
    },
    {
     "data": {
      "application/vnd.jupyter.widget-view+json": {
       "model_id": "1c1e72dd12c54633bd6eca58758cdda5",
       "version_major": 2,
       "version_minor": 0
      },
      "text/plain": [
       "epoch 21:   0%|          | 0/4511 [00:00<?, ?it/s]"
      ]
     },
     "metadata": {},
     "output_type": "display_data"
    },
    {
     "name": "stdout",
     "output_type": "stream",
     "text": [
      "loss is: 1.4929\n",
      "val loss is: 1.5574\n"
     ]
    },
    {
     "data": {
      "application/vnd.jupyter.widget-view+json": {
       "model_id": "d4da579869124b118546144f4612e461",
       "version_major": 2,
       "version_minor": 0
      },
      "text/plain": [
       "epoch 22:   0%|          | 0/4511 [00:00<?, ?it/s]"
      ]
     },
     "metadata": {},
     "output_type": "display_data"
    },
    {
     "name": "stdout",
     "output_type": "stream",
     "text": [
      "loss is: 1.4916\n",
      "val loss is: 1.5593\n"
     ]
    },
    {
     "data": {
      "application/vnd.jupyter.widget-view+json": {
       "model_id": "1fb1c3fbbbc1479aa292e8c541a2355a",
       "version_major": 2,
       "version_minor": 0
      },
      "text/plain": [
       "epoch 23:   0%|          | 0/4511 [00:00<?, ?it/s]"
      ]
     },
     "metadata": {},
     "output_type": "display_data"
    },
    {
     "name": "stdout",
     "output_type": "stream",
     "text": [
      "loss is: 1.4900\n",
      "val loss is: 1.5518\n"
     ]
    },
    {
     "data": {
      "application/vnd.jupyter.widget-view+json": {
       "model_id": "4e877c5755bd4a7ba49f7a28b22b49cf",
       "version_major": 2,
       "version_minor": 0
      },
      "text/plain": [
       "epoch 24:   0%|          | 0/4511 [00:00<?, ?it/s]"
      ]
     },
     "metadata": {},
     "output_type": "display_data"
    },
    {
     "name": "stdout",
     "output_type": "stream",
     "text": [
      "loss is: 1.4884\n",
      "val loss is: 1.5584\n"
     ]
    },
    {
     "data": {
      "application/vnd.jupyter.widget-view+json": {
       "model_id": "34e41b8815fe430dabbd968640e18f72",
       "version_major": 2,
       "version_minor": 0
      },
      "text/plain": [
       "epoch 25:   0%|          | 0/4511 [00:00<?, ?it/s]"
      ]
     },
     "metadata": {},
     "output_type": "display_data"
    },
    {
     "name": "stdout",
     "output_type": "stream",
     "text": [
      "loss is: 1.4875\n",
      "val loss is: 1.5550\n"
     ]
    },
    {
     "data": {
      "application/vnd.jupyter.widget-view+json": {
       "model_id": "35f51304185c4efb854d171af7e9b175",
       "version_major": 2,
       "version_minor": 0
      },
      "text/plain": [
       "epoch 26:   0%|          | 0/4511 [00:00<?, ?it/s]"
      ]
     },
     "metadata": {},
     "output_type": "display_data"
    },
    {
     "name": "stdout",
     "output_type": "stream",
     "text": [
      "loss is: 1.4861\n",
      "val loss is: 1.5579\n"
     ]
    },
    {
     "data": {
      "application/vnd.jupyter.widget-view+json": {
       "model_id": "d6f6e69b723a4e218e466d507bfa23f6",
       "version_major": 2,
       "version_minor": 0
      },
      "text/plain": [
       "epoch 27:   0%|          | 0/4511 [00:00<?, ?it/s]"
      ]
     },
     "metadata": {},
     "output_type": "display_data"
    },
    {
     "name": "stdout",
     "output_type": "stream",
     "text": [
      "loss is: 1.4855\n",
      "val loss is: 1.5503\n"
     ]
    },
    {
     "data": {
      "application/vnd.jupyter.widget-view+json": {
       "model_id": "5885d6d9ee614b51ba79b479baafb9c4",
       "version_major": 2,
       "version_minor": 0
      },
      "text/plain": [
       "epoch 28:   0%|          | 0/4511 [00:00<?, ?it/s]"
      ]
     },
     "metadata": {},
     "output_type": "display_data"
    },
    {
     "name": "stdout",
     "output_type": "stream",
     "text": [
      "loss is: 1.4844\n",
      "val loss is: 1.5515\n"
     ]
    },
    {
     "data": {
      "application/vnd.jupyter.widget-view+json": {
       "model_id": "98d9caa5f22d4ca1ae74f29556b77d15",
       "version_major": 2,
       "version_minor": 0
      },
      "text/plain": [
       "epoch 29:   0%|          | 0/4511 [00:00<?, ?it/s]"
      ]
     },
     "metadata": {},
     "output_type": "display_data"
    },
    {
     "name": "stdout",
     "output_type": "stream",
     "text": [
      "loss is: 1.4834\n",
      "val loss is: 1.5533\n"
     ]
    },
    {
     "data": {
      "application/vnd.jupyter.widget-view+json": {
       "model_id": "8a56f2c72f65438c8890d3d870ea43fa",
       "version_major": 2,
       "version_minor": 0
      },
      "text/plain": [
       "epoch 30:   0%|          | 0/4511 [00:00<?, ?it/s]"
      ]
     },
     "metadata": {},
     "output_type": "display_data"
    },
    {
     "name": "stdout",
     "output_type": "stream",
     "text": [
      "loss is: 1.4830\n",
      "val loss is: 1.5532\n"
     ]
    },
    {
     "data": {
      "application/vnd.jupyter.widget-view+json": {
       "model_id": "aabcede0e53b43338e76fae07b60621d",
       "version_major": 2,
       "version_minor": 0
      },
      "text/plain": [
       "epoch 31:   0%|          | 0/4511 [00:00<?, ?it/s]"
      ]
     },
     "metadata": {},
     "output_type": "display_data"
    },
    {
     "name": "stdout",
     "output_type": "stream",
     "text": [
      "loss is: 1.4816\n",
      "val loss is: 1.5543\n"
     ]
    },
    {
     "data": {
      "application/vnd.jupyter.widget-view+json": {
       "model_id": "afbce276eda0406a9cc7d6a70f678a7e",
       "version_major": 2,
       "version_minor": 0
      },
      "text/plain": [
       "epoch 32:   0%|          | 0/4511 [00:00<?, ?it/s]"
      ]
     },
     "metadata": {},
     "output_type": "display_data"
    },
    {
     "name": "stdout",
     "output_type": "stream",
     "text": [
      "loss is: 1.4811\n",
      "val loss is: 1.5518\n"
     ]
    },
    {
     "data": {
      "application/vnd.jupyter.widget-view+json": {
       "model_id": "d76ab7f68b494cf589024c9d58814076",
       "version_major": 2,
       "version_minor": 0
      },
      "text/plain": [
       "epoch 33:   0%|          | 0/4511 [00:00<?, ?it/s]"
      ]
     },
     "metadata": {},
     "output_type": "display_data"
    },
    {
     "name": "stdout",
     "output_type": "stream",
     "text": [
      "loss is: 1.4802\n",
      "val loss is: 1.5480\n"
     ]
    },
    {
     "data": {
      "application/vnd.jupyter.widget-view+json": {
       "model_id": "3bc23975af3a42ba92735270c1a9dd87",
       "version_major": 2,
       "version_minor": 0
      },
      "text/plain": [
       "epoch 34:   0%|          | 0/4511 [00:00<?, ?it/s]"
      ]
     },
     "metadata": {},
     "output_type": "display_data"
    },
    {
     "name": "stdout",
     "output_type": "stream",
     "text": [
      "loss is: 1.4800\n",
      "val loss is: 1.5530\n"
     ]
    },
    {
     "data": {
      "application/vnd.jupyter.widget-view+json": {
       "model_id": "b87c1bf1b8a2402aa540d650548601d4",
       "version_major": 2,
       "version_minor": 0
      },
      "text/plain": [
       "epoch 35:   0%|          | 0/4511 [00:00<?, ?it/s]"
      ]
     },
     "metadata": {},
     "output_type": "display_data"
    },
    {
     "name": "stdout",
     "output_type": "stream",
     "text": [
      "loss is: 1.4790\n",
      "val loss is: 1.5485\n"
     ]
    },
    {
     "data": {
      "application/vnd.jupyter.widget-view+json": {
       "model_id": "1aec230c6de241888e62805223a92673",
       "version_major": 2,
       "version_minor": 0
      },
      "text/plain": [
       "epoch 36:   0%|          | 0/4511 [00:00<?, ?it/s]"
      ]
     },
     "metadata": {},
     "output_type": "display_data"
    },
    {
     "name": "stdout",
     "output_type": "stream",
     "text": [
      "loss is: 1.4789\n",
      "val loss is: 1.5477\n"
     ]
    },
    {
     "data": {
      "application/vnd.jupyter.widget-view+json": {
       "model_id": "57ac46baeac5469aaa5e5e43fc13654c",
       "version_major": 2,
       "version_minor": 0
      },
      "text/plain": [
       "epoch 37:   0%|          | 0/4511 [00:00<?, ?it/s]"
      ]
     },
     "metadata": {},
     "output_type": "display_data"
    },
    {
     "name": "stdout",
     "output_type": "stream",
     "text": [
      "loss is: 1.4783\n",
      "val loss is: 1.5504\n"
     ]
    },
    {
     "data": {
      "application/vnd.jupyter.widget-view+json": {
       "model_id": "18b0bbffdcc74367978c56a27f8b70cf",
       "version_major": 2,
       "version_minor": 0
      },
      "text/plain": [
       "epoch 38:   0%|          | 0/4511 [00:00<?, ?it/s]"
      ]
     },
     "metadata": {},
     "output_type": "display_data"
    },
    {
     "name": "stdout",
     "output_type": "stream",
     "text": [
      "loss is: 1.4781\n",
      "val loss is: 1.5545\n"
     ]
    },
    {
     "data": {
      "application/vnd.jupyter.widget-view+json": {
       "model_id": "3da805932aef4dcdaeb8838bf29ebca0",
       "version_major": 2,
       "version_minor": 0
      },
      "text/plain": [
       "epoch 39:   0%|          | 0/4511 [00:00<?, ?it/s]"
      ]
     },
     "metadata": {},
     "output_type": "display_data"
    },
    {
     "name": "stdout",
     "output_type": "stream",
     "text": [
      "loss is: 1.4773\n",
      "val loss is: 1.5486\n"
     ]
    },
    {
     "data": {
      "application/vnd.jupyter.widget-view+json": {
       "model_id": "a49479cfbea44b6abb9017f2d9088fb0",
       "version_major": 2,
       "version_minor": 0
      },
      "text/plain": [
       "epoch 40:   0%|          | 0/4511 [00:00<?, ?it/s]"
      ]
     },
     "metadata": {},
     "output_type": "display_data"
    },
    {
     "name": "stdout",
     "output_type": "stream",
     "text": [
      "loss is: 1.4764\n",
      "val loss is: 1.5553\n"
     ]
    },
    {
     "data": {
      "application/vnd.jupyter.widget-view+json": {
       "model_id": "a6948709b0da415682e76f9637c3d2fe",
       "version_major": 2,
       "version_minor": 0
      },
      "text/plain": [
       "epoch 41:   0%|          | 0/4511 [00:00<?, ?it/s]"
      ]
     },
     "metadata": {},
     "output_type": "display_data"
    },
    {
     "name": "stdout",
     "output_type": "stream",
     "text": [
      "loss is: 1.4766\n",
      "val loss is: 1.5565\n"
     ]
    },
    {
     "data": {
      "application/vnd.jupyter.widget-view+json": {
       "model_id": "95b7fc0704b14cf58472e05a7c7243b9",
       "version_major": 2,
       "version_minor": 0
      },
      "text/plain": [
       "epoch 42:   0%|          | 0/4511 [00:00<?, ?it/s]"
      ]
     },
     "metadata": {},
     "output_type": "display_data"
    },
    {
     "name": "stdout",
     "output_type": "stream",
     "text": [
      "loss is: 1.4767\n",
      "val loss is: 1.5584\n"
     ]
    },
    {
     "data": {
      "application/vnd.jupyter.widget-view+json": {
       "model_id": "023acd8cb6ff4c4ea308978811db324d",
       "version_major": 2,
       "version_minor": 0
      },
      "text/plain": [
       "epoch 43:   0%|          | 0/4511 [00:00<?, ?it/s]"
      ]
     },
     "metadata": {},
     "output_type": "display_data"
    },
    {
     "name": "stdout",
     "output_type": "stream",
     "text": [
      "loss is: 1.4753\n",
      "val loss is: 1.5526\n"
     ]
    },
    {
     "data": {
      "application/vnd.jupyter.widget-view+json": {
       "model_id": "cc638779b7ab484788f25f026ae55220",
       "version_major": 2,
       "version_minor": 0
      },
      "text/plain": [
       "epoch 44:   0%|          | 0/4511 [00:00<?, ?it/s]"
      ]
     },
     "metadata": {},
     "output_type": "display_data"
    },
    {
     "name": "stdout",
     "output_type": "stream",
     "text": [
      "loss is: 1.4754\n",
      "val loss is: 1.5517\n"
     ]
    },
    {
     "data": {
      "application/vnd.jupyter.widget-view+json": {
       "model_id": "bff168ccd1b24a13b1d0210696ebf8ca",
       "version_major": 2,
       "version_minor": 0
      },
      "text/plain": [
       "epoch 45:   0%|          | 0/4511 [00:00<?, ?it/s]"
      ]
     },
     "metadata": {},
     "output_type": "display_data"
    },
    {
     "name": "stdout",
     "output_type": "stream",
     "text": [
      "loss is: 1.4756\n",
      "val loss is: 1.5537\n"
     ]
    },
    {
     "data": {
      "application/vnd.jupyter.widget-view+json": {
       "model_id": "a095c51823f840baa5d60b4255f90bde",
       "version_major": 2,
       "version_minor": 0
      },
      "text/plain": [
       "epoch 46:   0%|          | 0/4511 [00:00<?, ?it/s]"
      ]
     },
     "metadata": {},
     "output_type": "display_data"
    },
    {
     "name": "stdout",
     "output_type": "stream",
     "text": [
      "loss is: 1.4754\n",
      "val loss is: 1.5526\n"
     ]
    },
    {
     "data": {
      "application/vnd.jupyter.widget-view+json": {
       "model_id": "a2344ac4c423427eafc260a7b8e3bef3",
       "version_major": 2,
       "version_minor": 0
      },
      "text/plain": [
       "epoch 47:   0%|          | 0/4511 [00:00<?, ?it/s]"
      ]
     },
     "metadata": {},
     "output_type": "display_data"
    },
    {
     "name": "stdout",
     "output_type": "stream",
     "text": [
      "loss is: 1.4749\n",
      "val loss is: 1.5556\n"
     ]
    },
    {
     "data": {
      "application/vnd.jupyter.widget-view+json": {
       "model_id": "1894b256b7cc448dbdec0d5c3fec7569",
       "version_major": 2,
       "version_minor": 0
      },
      "text/plain": [
       "epoch 48:   0%|          | 0/4511 [00:00<?, ?it/s]"
      ]
     },
     "metadata": {},
     "output_type": "display_data"
    },
    {
     "name": "stdout",
     "output_type": "stream",
     "text": [
      "loss is: 1.4049\n",
      "val loss is: 1.4985\n"
     ]
    },
    {
     "data": {
      "application/vnd.jupyter.widget-view+json": {
       "model_id": "99dc2d34b499491c81ef24f2535a1086",
       "version_major": 2,
       "version_minor": 0
      },
      "text/plain": [
       "epoch 49:   0%|          | 0/4511 [00:00<?, ?it/s]"
      ]
     },
     "metadata": {},
     "output_type": "display_data"
    },
    {
     "name": "stdout",
     "output_type": "stream",
     "text": [
      "loss is: 1.3899\n",
      "val loss is: 1.4958\n"
     ]
    },
    {
     "data": {
      "application/vnd.jupyter.widget-view+json": {
       "model_id": "2917c983696c496cb1d04407b553b600",
       "version_major": 2,
       "version_minor": 0
      },
      "text/plain": [
       "epoch 50:   0%|          | 0/4511 [00:00<?, ?it/s]"
      ]
     },
     "metadata": {},
     "output_type": "display_data"
    },
    {
     "name": "stdout",
     "output_type": "stream",
     "text": [
      "loss is: 1.3849\n",
      "val loss is: 1.4943\n"
     ]
    },
    {
     "data": {
      "application/vnd.jupyter.widget-view+json": {
       "model_id": "560f9960525a4a598baa47adce3a183b",
       "version_major": 2,
       "version_minor": 0
      },
      "text/plain": [
       "epoch 51:   0%|          | 0/4511 [00:00<?, ?it/s]"
      ]
     },
     "metadata": {},
     "output_type": "display_data"
    },
    {
     "name": "stdout",
     "output_type": "stream",
     "text": [
      "loss is: 1.3818\n",
      "val loss is: 1.4935\n"
     ]
    },
    {
     "data": {
      "application/vnd.jupyter.widget-view+json": {
       "model_id": "a898065fa9114059b558ff48d917a72c",
       "version_major": 2,
       "version_minor": 0
      },
      "text/plain": [
       "epoch 52:   0%|          | 0/4511 [00:00<?, ?it/s]"
      ]
     },
     "metadata": {},
     "output_type": "display_data"
    },
    {
     "name": "stdout",
     "output_type": "stream",
     "text": [
      "loss is: 1.3798\n",
      "val loss is: 1.4936\n"
     ]
    },
    {
     "data": {
      "application/vnd.jupyter.widget-view+json": {
       "model_id": "f0b027841e0146fbb698a7da161c5f0c",
       "version_major": 2,
       "version_minor": 0
      },
      "text/plain": [
       "epoch 53:   0%|          | 0/4511 [00:00<?, ?it/s]"
      ]
     },
     "metadata": {},
     "output_type": "display_data"
    },
    {
     "name": "stdout",
     "output_type": "stream",
     "text": [
      "loss is: 1.3781\n",
      "val loss is: 1.4940\n"
     ]
    },
    {
     "data": {
      "application/vnd.jupyter.widget-view+json": {
       "model_id": "019ddf32189d4eb6900919a6a9ff47b6",
       "version_major": 2,
       "version_minor": 0
      },
      "text/plain": [
       "epoch 54:   0%|          | 0/4511 [00:00<?, ?it/s]"
      ]
     },
     "metadata": {},
     "output_type": "display_data"
    },
    {
     "name": "stdout",
     "output_type": "stream",
     "text": [
      "loss is: 1.3767\n",
      "val loss is: 1.4936\n"
     ]
    },
    {
     "data": {
      "application/vnd.jupyter.widget-view+json": {
       "model_id": "e18b1fd756554a6db98f5a8df8324e1c",
       "version_major": 2,
       "version_minor": 0
      },
      "text/plain": [
       "epoch 55:   0%|          | 0/4511 [00:00<?, ?it/s]"
      ]
     },
     "metadata": {},
     "output_type": "display_data"
    },
    {
     "name": "stdout",
     "output_type": "stream",
     "text": [
      "loss is: 1.3755\n",
      "val loss is: 1.4937\n"
     ]
    },
    {
     "data": {
      "application/vnd.jupyter.widget-view+json": {
       "model_id": "1560c1778ad54f19a5a8f322c2ae2fd1",
       "version_major": 2,
       "version_minor": 0
      },
      "text/plain": [
       "epoch 56:   0%|          | 0/4511 [00:00<?, ?it/s]"
      ]
     },
     "metadata": {},
     "output_type": "display_data"
    },
    {
     "name": "stdout",
     "output_type": "stream",
     "text": [
      "loss is: 1.3744\n",
      "val loss is: 1.4940\n"
     ]
    },
    {
     "data": {
      "application/vnd.jupyter.widget-view+json": {
       "model_id": "819308fedcc4465caf7965970384ef80",
       "version_major": 2,
       "version_minor": 0
      },
      "text/plain": [
       "epoch 57:   0%|          | 0/4511 [00:00<?, ?it/s]"
      ]
     },
     "metadata": {},
     "output_type": "display_data"
    },
    {
     "name": "stdout",
     "output_type": "stream",
     "text": [
      "loss is: 1.3735\n",
      "val loss is: 1.4957\n"
     ]
    },
    {
     "data": {
      "application/vnd.jupyter.widget-view+json": {
       "model_id": "1ee21c89251a4e6c955fd842533383bd",
       "version_major": 2,
       "version_minor": 0
      },
      "text/plain": [
       "epoch 58:   0%|          | 0/4511 [00:00<?, ?it/s]"
      ]
     },
     "metadata": {},
     "output_type": "display_data"
    },
    {
     "name": "stdout",
     "output_type": "stream",
     "text": [
      "loss is: 1.3726\n",
      "val loss is: 1.4953\n"
     ]
    },
    {
     "data": {
      "application/vnd.jupyter.widget-view+json": {
       "model_id": "6c932e0b10c9472cbca75eb4c68bbb2f",
       "version_major": 2,
       "version_minor": 0
      },
      "text/plain": [
       "epoch 59:   0%|          | 0/4511 [00:00<?, ?it/s]"
      ]
     },
     "metadata": {},
     "output_type": "display_data"
    },
    {
     "name": "stdout",
     "output_type": "stream",
     "text": [
      "loss is: 1.3720\n",
      "val loss is: 1.4962\n"
     ]
    },
    {
     "data": {
      "application/vnd.jupyter.widget-view+json": {
       "model_id": "1d41dec7071c4dccb5f7ae5766a7325c",
       "version_major": 2,
       "version_minor": 0
      },
      "text/plain": [
       "epoch 60:   0%|          | 0/4511 [00:00<?, ?it/s]"
      ]
     },
     "metadata": {},
     "output_type": "display_data"
    },
    {
     "name": "stdout",
     "output_type": "stream",
     "text": [
      "loss is: 1.3712\n",
      "val loss is: 1.4958\n"
     ]
    },
    {
     "data": {
      "application/vnd.jupyter.widget-view+json": {
       "model_id": "9c58e589f1f94f2b8f811dd52a9e0b33",
       "version_major": 2,
       "version_minor": 0
      },
      "text/plain": [
       "epoch 61:   0%|          | 0/4511 [00:00<?, ?it/s]"
      ]
     },
     "metadata": {},
     "output_type": "display_data"
    },
    {
     "name": "stdout",
     "output_type": "stream",
     "text": [
      "loss is: 1.3706\n",
      "val loss is: 1.4975\n"
     ]
    },
    {
     "data": {
      "application/vnd.jupyter.widget-view+json": {
       "model_id": "ed019093bd3e49358d21ad88da3580be",
       "version_major": 2,
       "version_minor": 0
      },
      "text/plain": [
       "epoch 62:   0%|          | 0/4511 [00:00<?, ?it/s]"
      ]
     },
     "metadata": {},
     "output_type": "display_data"
    },
    {
     "name": "stdout",
     "output_type": "stream",
     "text": [
      "loss is: 1.3699\n",
      "val loss is: 1.4957\n"
     ]
    },
    {
     "data": {
      "application/vnd.jupyter.widget-view+json": {
       "model_id": "21c2dc824d4945d5b1199d76d266fbe5",
       "version_major": 2,
       "version_minor": 0
      },
      "text/plain": [
       "epoch 63:   0%|          | 0/4511 [00:00<?, ?it/s]"
      ]
     },
     "metadata": {},
     "output_type": "display_data"
    },
    {
     "name": "stdout",
     "output_type": "stream",
     "text": [
      "loss is: 1.3626\n",
      "val loss is: 1.4908\n"
     ]
    },
    {
     "data": {
      "application/vnd.jupyter.widget-view+json": {
       "model_id": "c12081515d324d238e1ecba4c984f7fb",
       "version_major": 2,
       "version_minor": 0
      },
      "text/plain": [
       "epoch 64:   0%|          | 0/4511 [00:00<?, ?it/s]"
      ]
     },
     "metadata": {},
     "output_type": "display_data"
    },
    {
     "name": "stdout",
     "output_type": "stream",
     "text": [
      "loss is: 1.3608\n",
      "val loss is: 1.4906\n"
     ]
    },
    {
     "data": {
      "application/vnd.jupyter.widget-view+json": {
       "model_id": "7e784140093642fe8a2b75398129da0a",
       "version_major": 2,
       "version_minor": 0
      },
      "text/plain": [
       "epoch 65:   0%|          | 0/4511 [00:00<?, ?it/s]"
      ]
     },
     "metadata": {},
     "output_type": "display_data"
    },
    {
     "name": "stdout",
     "output_type": "stream",
     "text": [
      "loss is: 1.3603\n",
      "val loss is: 1.4906\n"
     ]
    },
    {
     "data": {
      "application/vnd.jupyter.widget-view+json": {
       "model_id": "b6a53636342848c6ba994e3d7303698f",
       "version_major": 2,
       "version_minor": 0
      },
      "text/plain": [
       "epoch 66:   0%|          | 0/4511 [00:00<?, ?it/s]"
      ]
     },
     "metadata": {},
     "output_type": "display_data"
    },
    {
     "name": "stdout",
     "output_type": "stream",
     "text": [
      "loss is: 1.3600\n",
      "val loss is: 1.4905\n"
     ]
    },
    {
     "data": {
      "application/vnd.jupyter.widget-view+json": {
       "model_id": "ce5221b1366448b08b84ae7b5f94095c",
       "version_major": 2,
       "version_minor": 0
      },
      "text/plain": [
       "epoch 67:   0%|          | 0/4511 [00:00<?, ?it/s]"
      ]
     },
     "metadata": {},
     "output_type": "display_data"
    },
    {
     "name": "stdout",
     "output_type": "stream",
     "text": [
      "loss is: 1.3597\n",
      "val loss is: 1.4907\n"
     ]
    },
    {
     "data": {
      "application/vnd.jupyter.widget-view+json": {
       "model_id": "51659b791ceb48efabf98b9b0b1ebeb4",
       "version_major": 2,
       "version_minor": 0
      },
      "text/plain": [
       "epoch 68:   0%|          | 0/4511 [00:00<?, ?it/s]"
      ]
     },
     "metadata": {},
     "output_type": "display_data"
    },
    {
     "name": "stdout",
     "output_type": "stream",
     "text": [
      "loss is: 1.3595\n",
      "val loss is: 1.4907\n"
     ]
    },
    {
     "data": {
      "application/vnd.jupyter.widget-view+json": {
       "model_id": "39836e33fbf34b55b475793691c0b0bb",
       "version_major": 2,
       "version_minor": 0
      },
      "text/plain": [
       "epoch 69:   0%|          | 0/4511 [00:00<?, ?it/s]"
      ]
     },
     "metadata": {},
     "output_type": "display_data"
    },
    {
     "name": "stdout",
     "output_type": "stream",
     "text": [
      "loss is: 1.3593\n",
      "val loss is: 1.4907\n"
     ]
    },
    {
     "data": {
      "application/vnd.jupyter.widget-view+json": {
       "model_id": "bf89a9322eb84db68836e23cef8f9280",
       "version_major": 2,
       "version_minor": 0
      },
      "text/plain": [
       "epoch 70:   0%|          | 0/4511 [00:00<?, ?it/s]"
      ]
     },
     "metadata": {},
     "output_type": "display_data"
    },
    {
     "name": "stdout",
     "output_type": "stream",
     "text": [
      "loss is: 1.3592\n",
      "val loss is: 1.4907\n"
     ]
    },
    {
     "data": {
      "application/vnd.jupyter.widget-view+json": {
       "model_id": "09c1e01a025743eea8507211190d8b9f",
       "version_major": 2,
       "version_minor": 0
      },
      "text/plain": [
       "epoch 71:   0%|          | 0/4511 [00:00<?, ?it/s]"
      ]
     },
     "metadata": {},
     "output_type": "display_data"
    },
    {
     "name": "stdout",
     "output_type": "stream",
     "text": [
      "loss is: 1.3590\n",
      "val loss is: 1.4908\n"
     ]
    },
    {
     "data": {
      "application/vnd.jupyter.widget-view+json": {
       "model_id": "1d184a4ab7754555bca118c927dfa7ec",
       "version_major": 2,
       "version_minor": 0
      },
      "text/plain": [
       "epoch 72:   0%|          | 0/4511 [00:00<?, ?it/s]"
      ]
     },
     "metadata": {},
     "output_type": "display_data"
    },
    {
     "name": "stdout",
     "output_type": "stream",
     "text": [
      "loss is: 1.3589\n",
      "val loss is: 1.4909\n"
     ]
    },
    {
     "data": {
      "application/vnd.jupyter.widget-view+json": {
       "model_id": "cc42b9c6b6da4b3087480ba44402a365",
       "version_major": 2,
       "version_minor": 0
      },
      "text/plain": [
       "epoch 73:   0%|          | 0/4511 [00:00<?, ?it/s]"
      ]
     },
     "metadata": {},
     "output_type": "display_data"
    },
    {
     "name": "stdout",
     "output_type": "stream",
     "text": [
      "loss is: 1.3587\n",
      "val loss is: 1.4909\n"
     ]
    },
    {
     "data": {
      "application/vnd.jupyter.widget-view+json": {
       "model_id": "792312d1496a438faedc6b1b9f38635c",
       "version_major": 2,
       "version_minor": 0
      },
      "text/plain": [
       "epoch 74:   0%|          | 0/4511 [00:00<?, ?it/s]"
      ]
     },
     "metadata": {},
     "output_type": "display_data"
    },
    {
     "name": "stdout",
     "output_type": "stream",
     "text": [
      "loss is: 1.3586\n",
      "val loss is: 1.4910\n"
     ]
    },
    {
     "data": {
      "application/vnd.jupyter.widget-view+json": {
       "model_id": "525c0a77c8ce4407849ccb9cb24086e7",
       "version_major": 2,
       "version_minor": 0
      },
      "text/plain": [
       "epoch 75:   0%|          | 0/4511 [00:00<?, ?it/s]"
      ]
     },
     "metadata": {},
     "output_type": "display_data"
    },
    {
     "name": "stdout",
     "output_type": "stream",
     "text": [
      "loss is: 1.3585\n",
      "val loss is: 1.4908\n"
     ]
    },
    {
     "data": {
      "application/vnd.jupyter.widget-view+json": {
       "model_id": "271cb75be3344599a17c3c269ae53f7e",
       "version_major": 2,
       "version_minor": 0
      },
      "text/plain": [
       "epoch 76:   0%|          | 0/4511 [00:00<?, ?it/s]"
      ]
     },
     "metadata": {},
     "output_type": "display_data"
    },
    {
     "name": "stdout",
     "output_type": "stream",
     "text": [
      "loss is: 1.3576\n",
      "val loss is: 1.4898\n"
     ]
    },
    {
     "data": {
      "application/vnd.jupyter.widget-view+json": {
       "model_id": "bba8100cee5f49eaa7bbd6cc2fa769e9",
       "version_major": 2,
       "version_minor": 0
      },
      "text/plain": [
       "epoch 77:   0%|          | 0/4511 [00:00<?, ?it/s]"
      ]
     },
     "metadata": {},
     "output_type": "display_data"
    },
    {
     "name": "stdout",
     "output_type": "stream",
     "text": [
      "loss is: 1.3574\n",
      "val loss is: 1.4897\n"
     ]
    },
    {
     "data": {
      "application/vnd.jupyter.widget-view+json": {
       "model_id": "750070f2e2604427b24f8ed2a85b1bb4",
       "version_major": 2,
       "version_minor": 0
      },
      "text/plain": [
       "epoch 78:   0%|          | 0/4511 [00:00<?, ?it/s]"
      ]
     },
     "metadata": {},
     "output_type": "display_data"
    },
    {
     "name": "stdout",
     "output_type": "stream",
     "text": [
      "loss is: 1.3573\n",
      "val loss is: 1.4896\n"
     ]
    },
    {
     "data": {
      "application/vnd.jupyter.widget-view+json": {
       "model_id": "3a6fa0af58714b899d95e9e5849d7bec",
       "version_major": 2,
       "version_minor": 0
      },
      "text/plain": [
       "epoch 79:   0%|          | 0/4511 [00:00<?, ?it/s]"
      ]
     },
     "metadata": {},
     "output_type": "display_data"
    },
    {
     "name": "stdout",
     "output_type": "stream",
     "text": [
      "loss is: 1.3572\n",
      "val loss is: 1.4896\n",
      "Time is: 7 min 56 sec\n"
     ]
    }
   ],
   "source": [
    "device = torch.device('cuda' if torch.cuda.is_available() else 'cpu')\n",
    "\n",
    "# load data:\n",
    "data_set = CommonDataSet(data_list_context, device)\n",
    "\n",
    "batch_size = 256\n",
    "\n",
    "# training network model:\n",
    "start = time.time() \n",
    "nnet_context_sched = MyNNet(input_dim=(data_list_context[0].shape[0] - 1),\n",
    "            output_dim=len(phones_dict.keys())).to(device)\n",
    "criterion = nn.CrossEntropyLoss()\n",
    "optimizer = torch.optim.Adam(nnet_context_sched.parameters(), lr=0.0005)\n",
    "\n",
    "lr_scheduler = torch.optim.lr_scheduler.ReduceLROnPlateau(optimizer)\n",
    "\n",
    "loss_list = []\n",
    "val_loss = []\n",
    "\n",
    "print('TRAINIG STARTED...')\n",
    "for epoch in range(80):\n",
    "    nnet_context_sched.train()\n",
    "    running_loss = 0\n",
    "    counter = 0\n",
    "    for batch_xs, batch_ys in tqdm(data_set.next_batch(batch_size), \\\n",
    "                                   total=data_set.num_batches(batch_size), \\\n",
    "                                   desc='epoch {}'.format(epoch)):\n",
    "        optimizer.zero_grad()\n",
    "        output = nnet_context_sched(batch_xs)\n",
    "\n",
    "        loss = criterion(output, batch_ys)\n",
    "        loss.backward()\n",
    "        optimizer.step()\n",
    "        \n",
    "        running_loss += loss.item()\n",
    "        counter += 1\n",
    "    \n",
    "    with torch.no_grad():\n",
    "        nnet_context_sched.eval()\n",
    "        val_xs = torch.tensor(data_set.valid[:, :-1], dtype=torch.float32).to(device)\n",
    "        val_ys = torch.tensor(data_set.valid[:,-1].ravel(), dtype=torch.int64).to(device)\n",
    "#         val_data, true_lavel = data_set.valid[:, :-1], data_set.valid[:, -1]\n",
    "        val_out = nnet_context_sched(val_xs)\n",
    "        val_l = criterion(val_out, val_ys)\n",
    "        val_loss.append(val_l.item())\n",
    "        \n",
    "    lr_scheduler.step(val_l)\n",
    "    print('loss is: {:.4f}'.format((running_loss / counter)))\n",
    "    loss_list.append(running_loss / counter)\n",
    "    print('val loss is: {:.4f}'.format(val_l))\n",
    "    \n",
    "    \n",
    "end = time.time()\n",
    "minutes = (end - start) // 60\n",
    "seconds = np.mod((end - start), 60)\n",
    "print('Time is: {} min {} sec'.format(int(minutes), int(seconds)))"
   ]
  },
  {
   "cell_type": "code",
   "execution_count": 116,
   "metadata": {},
   "outputs": [
    {
     "data": {
      "image/png": "[encoded data removed]",
      "text/plain": [
       "<Figure size 1080x360 with 1 Axes>"
      ]
     },
     "metadata": {
      "needs_background": "light"
     },
     "output_type": "display_data"
    }
   ],
   "source": [
    "plt.rcParams['figure.figsize'] = (15.0, 5.0)\n",
    "plt.plot(loss_list, label='train loss')\n",
    "plt.plot(val_loss, label='val loss')\n",
    "plt.title('Loss per epoch')\n",
    "plt.ylabel('loss')\n",
    "plt.xlabel('epoch')\n",
    "plt.grid()\n",
    "plt.legend()\n",
    "plt.show()"
   ]
  },
  {
   "cell_type": "code",
   "execution_count": 117,
   "metadata": {},
   "outputs": [
    {
     "data": {
      "application/vnd.jupyter.widget-view+json": {
       "model_id": "61e125df61194e8d99309619a69dc205",
       "version_major": 2,
       "version_minor": 0
      },
      "text/plain": [
       "  0%|          | 0/128315 [00:00<?, ?it/s]"
      ]
     },
     "metadata": {},
     "output_type": "display_data"
    },
    {
     "name": "stdout",
     "output_type": "stream",
     "text": [
      "Total frame accuracy is 0.565\n",
      "\n"
     ]
    }
   ],
   "source": [
    "class_correct = [0 for x in range(len(phones_dict.keys()))]\n",
    "class_total = [0 for x in range(len(phones_dict.keys()))]\n",
    "\n",
    "nnet_context_sched.cpu()\n",
    "\n",
    "with torch.no_grad():\n",
    "    correct_cnt = 0\n",
    "    for ftr, true_label in tqdm(zip(data_set.valid[:, :-1], data_set.valid[:, -1]), total=data_set.valid.shape[0]):\n",
    "        ftr = torch.from_numpy(ftr).float()\n",
    "        output = nnet_context_sched.forward(ftr)\n",
    "        predicted_label = output.argmax().item()\n",
    "        correct_cnt += (predicted_label == true_label)\n",
    "        class_correct[predicted_label] += (predicted_label == int(true_label))\n",
    "        class_total[int(true_label)] += 1\n",
    "        \n",
    "print(\"Total frame accuracy is {:.3f}\\n\".format(correct_cnt / data_set.valid.shape[0]))"
   ]
  },
  {
   "cell_type": "markdown",
   "metadata": {},
   "source": [
    "## yes_no"
   ]
  },
  {
   "cell_type": "code",
   "execution_count": 118,
   "metadata": {},
   "outputs": [
    {
     "data": {
      "application/vnd.jupyter.widget-view+json": {
       "model_id": "83fdae68aa884f36aaad616b61a4e795",
       "version_major": 2,
       "version_minor": 0
      },
      "text/plain": [
       "  0%|          | 0/10 [00:00<?, ?it/s]"
      ]
     },
     "metadata": {},
     "output_type": "display_data"
    },
    {
     "name": "stdout",
     "output_type": "stream",
     "text": [
      "Beam = 1\n",
      "\n",
      "result: yes_ff63ab0b_nohash_0       ==> YES\n",
      "result: yes_fe1916ba_nohash_0       ==> YES\n",
      "result: yes_fc94edb0_nohash_0       ==> NO\n",
      "result: no_41474817_nohash_0        ==> NO\n",
      "result: yes_39a6b995_nohash_0       ==> YES\n"
     ]
    },
    {
     "name": "stderr",
     "output_type": "stream",
     "text": [
      "/tmp/ipykernel_375/259245042.py:13: RuntimeWarning: divide by zero encountered in log\n",
      "  return -np.log(softmax[self.phone_index].item() / (self.phone_prior + EPS))\n"
     ]
    },
    {
     "name": "stdout",
     "output_type": "stream",
     "text": [
      "result: yes_39a12648_nohash_0       ==> YES\n",
      "result: no_4abb2400_nohash_0        ==> NO\n",
      "result: no_ad89eb1e_nohash_0        ==> NO\n",
      "result: no_49af4432_nohash_0        ==> YES\n",
      "result: no_4394fc7c_nohash_0        ==> NO\n",
      "------------------------------------------------------------\n",
      "WER is: 20.00%\n",
      "Total time is: 0.29 sec\n",
      "------------------------------------------------------------\n",
      "\n",
      "##################################################\n",
      "\n",
      "Beam = 3\n",
      "\n",
      "result: yes_ff63ab0b_nohash_0       ==> YES\n",
      "result: yes_fe1916ba_nohash_0       ==> YES\n",
      "result: yes_fc94edb0_nohash_0       ==> YES\n",
      "result: no_41474817_nohash_0        ==> NO\n",
      "result: yes_39a6b995_nohash_0       ==> YES\n",
      "result: yes_39a12648_nohash_0       ==> YES\n",
      "result: no_4abb2400_nohash_0        ==> NO\n",
      "result: no_ad89eb1e_nohash_0        ==> YES\n",
      "result: no_49af4432_nohash_0        ==> YES\n",
      "result: no_4394fc7c_nohash_0        ==> NO\n",
      "------------------------------------------------------------\n",
      "WER is: 20.00%\n",
      "Total time is: 0.25 sec\n",
      "------------------------------------------------------------\n",
      "\n",
      "##################################################\n",
      "\n",
      "Beam = 5\n",
      "\n",
      "result: yes_ff63ab0b_nohash_0       ==> YES\n",
      "result: yes_fe1916ba_nohash_0       ==> YES\n",
      "result: yes_fc94edb0_nohash_0       ==> YES\n",
      "result: no_41474817_nohash_0        ==> NO\n",
      "result: yes_39a6b995_nohash_0       ==> YES\n",
      "result: yes_39a12648_nohash_0       ==> YES\n",
      "result: no_4abb2400_nohash_0        ==> NO\n",
      "result: no_ad89eb1e_nohash_0        ==> YES\n",
      "result: no_49af4432_nohash_0        ==> YES\n",
      "result: no_4394fc7c_nohash_0        ==> NO\n",
      "------------------------------------------------------------\n",
      "WER is: 20.00%\n",
      "Total time is: 0.35 sec\n",
      "------------------------------------------------------------\n",
      "\n",
      "##################################################\n",
      "\n",
      "Beam = 10\n",
      "\n",
      "result: yes_ff63ab0b_nohash_0       ==> YES\n",
      "result: yes_fe1916ba_nohash_0       ==> YES\n",
      "result: yes_fc94edb0_nohash_0       ==> YES\n",
      "result: no_41474817_nohash_0        ==> NO\n",
      "result: yes_39a6b995_nohash_0       ==> YES\n",
      "result: yes_39a12648_nohash_0       ==> YES\n",
      "result: no_4abb2400_nohash_0        ==> NO\n",
      "result: no_ad89eb1e_nohash_0        ==> NO\n",
      "result: no_49af4432_nohash_0        ==> YES\n",
      "result: no_4394fc7c_nohash_0        ==> NO\n",
      "------------------------------------------------------------\n",
      "WER is: 10.00%\n",
      "Total time is: 0.43 sec\n",
      "------------------------------------------------------------\n",
      "\n",
      "##################################################\n",
      "\n",
      "Beam = 20\n",
      "\n",
      "result: yes_ff63ab0b_nohash_0       ==> YES\n",
      "result: yes_fe1916ba_nohash_0       ==> YES\n",
      "result: yes_fc94edb0_nohash_0       ==> YES\n",
      "result: no_41474817_nohash_0        ==> NO\n",
      "result: yes_39a6b995_nohash_0       ==> YES\n",
      "result: yes_39a12648_nohash_0       ==> YES\n",
      "result: no_4abb2400_nohash_0        ==> NO\n",
      "result: no_ad89eb1e_nohash_0        ==> NO\n",
      "result: no_49af4432_nohash_0        ==> YES\n",
      "result: no_4394fc7c_nohash_0        ==> NO\n",
      "------------------------------------------------------------\n",
      "WER is: 10.00%\n",
      "Total time is: 0.59 sec\n",
      "------------------------------------------------------------\n",
      "\n",
      "##################################################\n",
      "\n"
     ]
    }
   ],
   "source": [
    "lexicon_file = 'lab2/data/lexicon_yes_no.txt'\n",
    "lexicon_dict = load_lexicon_dict(lexicon_file)\n",
    "graph = load_graph(lexicon_dict, phones_dict, priors_list)\n",
    "records_data_dict = load_data_dict(\"lab2/data/yes_no/records\")\n",
    "\n",
    "for beam in [1, 3, 5, 10, 20]:\n",
    "    print(f'Beam = {beam}\\n')\n",
    "    run_recognizer(records_data_dict, graph, nnet_context_sched.cpu(), side_context, beam_threshold=beam)\n",
    "    print()\n",
    "    print('##################################################')\n",
    "    print()"
   ]
  },
  {
   "cell_type": "markdown",
   "metadata": {},
   "source": [
    "## Digits"
   ]
  },
  {
   "cell_type": "code",
   "execution_count": 119,
   "metadata": {
    "scrolled": false
   },
   "outputs": [
    {
     "data": {
      "application/vnd.jupyter.widget-view+json": {
       "model_id": "de2fba47891f4faabaf5804f96976aac",
       "version_major": 2,
       "version_minor": 0
      },
      "text/plain": [
       "  0%|          | 0/20 [00:00<?, ?it/s]"
      ]
     },
     "metadata": {},
     "output_type": "display_data"
    },
    {
     "name": "stdout",
     "output_type": "stream",
     "text": [
      "beam = 1\n",
      "\n",
      "result: eight_daf230ac_nohash_0     ==> TWO\n",
      "result: eight_da584bc0_nohash_4     ==> FIVE\n",
      "result: seven_fe5c4a7a_nohash_0     ==> THREE\n",
      "result: four_fce65496_nohash_0      ==> TWO\n",
      "result: nine_ccea893d_nohash_0      ==> TWO\n",
      "result: zero_f92e49f3_nohash_3      ==> THREE\n",
      "result: four_ffbb695d_nohash_0      ==> THREE\n",
      "result: three_feb1d305_nohash_0     ==> THREE\n",
      "result: five_ffd2ba2f_nohash_0      ==> FOUR\n",
      "result: three_fce96bac_nohash_0     ==> FIVE\n",
      "result: five_f852895b_nohash_0      ==> THREE\n",
      "result: six_ffbb695d_nohash_0       ==> FIVE\n",
      "result: nine_fbe51750_nohash_0      ==> ONE\n",
      "result: two_fb2f3242_nohash_0       ==> THREE\n",
      "result: six_ffd2ba2f_nohash_0       ==> SIX\n",
      "result: zero_f852895b_nohash_0      ==> THREE\n",
      "result: one_fc2411fe_nohash_0       ==> ONE\n",
      "result: one_ffa76c4a_nohash_0       ==> ONE\n",
      "result: seven_fd32732a_nohash_0     ==> THREE\n",
      "result: two_fce65496_nohash_0       ==> TWO\n",
      "------------------------------------------------------------\n",
      "WER is: 75.00%\n",
      "Total time is: 1.04 sec\n",
      "------------------------------------------------------------\n",
      "\n",
      "##################################################\n",
      "\n",
      "beam = 5\n",
      "\n",
      "result: eight_daf230ac_nohash_0     ==> TWO\n",
      "result: eight_da584bc0_nohash_4     ==> FIVE\n",
      "result: seven_fe5c4a7a_nohash_0     ==> SEVEN\n"
     ]
    },
    {
     "name": "stderr",
     "output_type": "stream",
     "text": [
      "/tmp/ipykernel_375/259245042.py:13: RuntimeWarning: divide by zero encountered in log\n",
      "  return -np.log(softmax[self.phone_index].item() / (self.phone_prior + EPS))\n"
     ]
    },
    {
     "name": "stdout",
     "output_type": "stream",
     "text": [
      "result: four_fce65496_nohash_0      ==> ONE\n",
      "result: nine_ccea893d_nohash_0      ==> ONE\n",
      "result: zero_f92e49f3_nohash_3      ==> ONE\n",
      "result: four_ffbb695d_nohash_0      ==> THREE\n",
      "result: three_feb1d305_nohash_0     ==> THREE\n",
      "result: five_ffd2ba2f_nohash_0      ==> FOUR\n",
      "result: three_fce96bac_nohash_0     ==> ZERO\n",
      "result: five_f852895b_nohash_0      ==> THREE\n",
      "result: six_ffbb695d_nohash_0       ==> SIX\n",
      "result: nine_fbe51750_nohash_0      ==> NINE\n",
      "result: two_fb2f3242_nohash_0       ==> TWO\n",
      "result: six_ffd2ba2f_nohash_0       ==> SIX\n",
      "result: zero_f852895b_nohash_0      ==> THREE\n",
      "result: one_fc2411fe_nohash_0       ==> ONE\n",
      "result: one_ffa76c4a_nohash_0       ==> ONE\n",
      "result: seven_fd32732a_nohash_0     ==> SEVEN\n",
      "result: two_fce65496_nohash_0       ==> TWO\n",
      "------------------------------------------------------------\n",
      "WER is: 50.00%\n",
      "Total time is: 2.10 sec\n",
      "------------------------------------------------------------\n",
      "\n",
      "##################################################\n",
      "\n",
      "beam = 10\n",
      "\n",
      "result: eight_daf230ac_nohash_0     ==> ZERO\n",
      "result: eight_da584bc0_nohash_4     ==> FIVE\n",
      "result: seven_fe5c4a7a_nohash_0     ==> SEVEN\n",
      "result: four_fce65496_nohash_0      ==> FOUR\n",
      "result: nine_ccea893d_nohash_0      ==> NINE\n",
      "result: zero_f92e49f3_nohash_3      ==> ZERO\n",
      "result: four_ffbb695d_nohash_0      ==> FOUR\n",
      "result: three_feb1d305_nohash_0     ==> THREE\n",
      "result: five_ffd2ba2f_nohash_0      ==> FIVE\n",
      "result: three_fce96bac_nohash_0     ==> THREE\n",
      "result: five_f852895b_nohash_0      ==> THREE\n",
      "result: six_ffbb695d_nohash_0       ==> SIX\n",
      "result: nine_fbe51750_nohash_0      ==> NINE\n",
      "result: two_fb2f3242_nohash_0       ==> TWO\n",
      "result: six_ffd2ba2f_nohash_0       ==> SIX\n",
      "result: zero_f852895b_nohash_0      ==> THREE\n",
      "result: one_fc2411fe_nohash_0       ==> ONE\n",
      "result: one_ffa76c4a_nohash_0       ==> ONE\n",
      "result: seven_fd32732a_nohash_0     ==> SEVEN\n",
      "result: two_fce65496_nohash_0       ==> ONE\n",
      "------------------------------------------------------------\n",
      "WER is: 25.00%\n",
      "Total time is: 3.05 sec\n",
      "------------------------------------------------------------\n",
      "\n",
      "##################################################\n",
      "\n",
      "beam = 20\n",
      "\n",
      "result: eight_daf230ac_nohash_0     ==> EIGHT\n",
      "result: eight_da584bc0_nohash_4     ==> FIVE\n",
      "result: seven_fe5c4a7a_nohash_0     ==> SEVEN\n",
      "result: four_fce65496_nohash_0      ==> FOUR\n",
      "result: nine_ccea893d_nohash_0      ==> NINE\n",
      "result: zero_f92e49f3_nohash_3      ==> ZERO\n",
      "result: four_ffbb695d_nohash_0      ==> FOUR\n",
      "result: three_feb1d305_nohash_0     ==> THREE\n",
      "result: five_ffd2ba2f_nohash_0      ==> FIVE\n",
      "result: three_fce96bac_nohash_0     ==> THREE\n",
      "result: five_f852895b_nohash_0      ==> FIVE\n",
      "result: six_ffbb695d_nohash_0       ==> SIX\n",
      "result: nine_fbe51750_nohash_0      ==> NINE\n",
      "result: two_fb2f3242_nohash_0       ==> TWO\n",
      "result: six_ffd2ba2f_nohash_0       ==> SIX\n",
      "result: zero_f852895b_nohash_0      ==> THREE\n",
      "result: one_fc2411fe_nohash_0       ==> ONE\n",
      "result: one_ffa76c4a_nohash_0       ==> ONE\n",
      "result: seven_fd32732a_nohash_0     ==> SEVEN\n",
      "result: two_fce65496_nohash_0       ==> SEVEN\n",
      "------------------------------------------------------------\n",
      "WER is: 15.00%\n",
      "Total time is: 5.58 sec\n",
      "------------------------------------------------------------\n",
      "\n",
      "##################################################\n",
      "\n",
      "beam = 30\n",
      "\n",
      "result: eight_daf230ac_nohash_0     ==> EIGHT\n",
      "result: eight_da584bc0_nohash_4     ==> FIVE\n",
      "result: seven_fe5c4a7a_nohash_0     ==> SEVEN\n",
      "result: four_fce65496_nohash_0      ==> FOUR\n",
      "result: nine_ccea893d_nohash_0      ==> NINE\n",
      "result: zero_f92e49f3_nohash_3      ==> ZERO\n",
      "result: four_ffbb695d_nohash_0      ==> FOUR\n",
      "result: three_feb1d305_nohash_0     ==> THREE\n",
      "result: five_ffd2ba2f_nohash_0      ==> FIVE\n",
      "result: three_fce96bac_nohash_0     ==> THREE\n",
      "result: five_f852895b_nohash_0      ==> FIVE\n",
      "result: six_ffbb695d_nohash_0       ==> SIX\n",
      "result: nine_fbe51750_nohash_0      ==> NINE\n",
      "result: two_fb2f3242_nohash_0       ==> TWO\n",
      "result: six_ffd2ba2f_nohash_0       ==> SIX\n",
      "result: zero_f852895b_nohash_0      ==> ZERO\n",
      "result: one_fc2411fe_nohash_0       ==> ONE\n",
      "result: one_ffa76c4a_nohash_0       ==> ONE\n",
      "result: seven_fd32732a_nohash_0     ==> SEVEN\n",
      "result: two_fce65496_nohash_0       ==> TWO\n",
      "------------------------------------------------------------\n",
      "WER is: 5.00%\n",
      "Total time is: 7.02 sec\n",
      "------------------------------------------------------------\n",
      "\n",
      "##################################################\n",
      "\n",
      "beam = 50\n",
      "\n",
      "result: eight_daf230ac_nohash_0     ==> EIGHT\n",
      "result: eight_da584bc0_nohash_4     ==> EIGHT\n",
      "result: seven_fe5c4a7a_nohash_0     ==> SEVEN\n",
      "result: four_fce65496_nohash_0      ==> FOUR\n",
      "result: nine_ccea893d_nohash_0      ==> NINE\n",
      "result: zero_f92e49f3_nohash_3      ==> ZERO\n",
      "result: four_ffbb695d_nohash_0      ==> FOUR\n",
      "result: three_feb1d305_nohash_0     ==> THREE\n",
      "result: five_ffd2ba2f_nohash_0      ==> FIVE\n",
      "result: three_fce96bac_nohash_0     ==> THREE\n",
      "result: five_f852895b_nohash_0      ==> FIVE\n",
      "result: six_ffbb695d_nohash_0       ==> SIX\n",
      "result: nine_fbe51750_nohash_0      ==> NINE\n",
      "result: two_fb2f3242_nohash_0       ==> TWO\n",
      "result: six_ffd2ba2f_nohash_0       ==> SIX\n",
      "result: zero_f852895b_nohash_0      ==> ZERO\n",
      "result: one_fc2411fe_nohash_0       ==> ONE\n",
      "result: one_ffa76c4a_nohash_0       ==> ONE\n",
      "result: seven_fd32732a_nohash_0     ==> SEVEN\n",
      "result: two_fce65496_nohash_0       ==> TWO\n",
      "------------------------------------------------------------\n",
      "WER is: 0.00%\n",
      "Total time is: 7.66 sec\n",
      "------------------------------------------------------------\n",
      "\n",
      "##################################################\n",
      "\n"
     ]
    }
   ],
   "source": [
    "lexicon_file = 'lab2/data/lexicon_digits.txt'\n",
    "lexicon_dict = load_lexicon_dict(lexicon_file)\n",
    "graph = load_graph(lexicon_dict, phones_dict, priors_list)\n",
    "records_data_dict = load_data_dict(\"lab2/data/digits/records\")\n",
    "\n",
    "for beam in [1, 5, 10, 20, 30, 50]:\n",
    "    print(f'beam = {beam}')\n",
    "    print()\n",
    "    run_recognizer(records_data_dict, graph, nnet_context_sched.cpu(), side_context, beam_threshold=beam)\n",
    "    print()\n",
    "    print('##################################################')\n",
    "    print()"
   ]
  },
  {
   "cell_type": "markdown",
   "metadata": {},
   "source": [
    "# MyNNet + SGD + ReduceLROnPlateau"
   ]
  },
  {
   "cell_type": "code",
   "execution_count": 120,
   "metadata": {},
   "outputs": [
    {
     "name": "stdout",
     "output_type": "stream",
     "text": [
      "TRAINIG STARTED...\n"
     ]
    },
    {
     "data": {
      "application/vnd.jupyter.widget-view+json": {
       "model_id": "fad2a1ea36144eb091be2fe03603c1a5",
       "version_major": 2,
       "version_minor": 0
      },
      "text/plain": [
       "epoch 0:   0%|          | 0/4511 [00:00<?, ?it/s]"
      ]
     },
     "metadata": {},
     "output_type": "display_data"
    },
    {
     "name": "stdout",
     "output_type": "stream",
     "text": [
      "loss is: 2.3200\n",
      "val loss is: 2.0994\n"
     ]
    },
    {
     "data": {
      "application/vnd.jupyter.widget-view+json": {
       "model_id": "7e16f49cede74937accc817ceb06d8cf",
       "version_major": 2,
       "version_minor": 0
      },
      "text/plain": [
       "epoch 1:   0%|          | 0/4511 [00:00<?, ?it/s]"
      ]
     },
     "metadata": {},
     "output_type": "display_data"
    },
    {
     "name": "stdout",
     "output_type": "stream",
     "text": [
      "loss is: 2.0447\n",
      "val loss is: 2.0075\n"
     ]
    },
    {
     "data": {
      "application/vnd.jupyter.widget-view+json": {
       "model_id": "932db23adea3430ca317923dd3aeb029",
       "version_major": 2,
       "version_minor": 0
      },
      "text/plain": [
       "epoch 2:   0%|          | 0/4511 [00:00<?, ?it/s]"
      ]
     },
     "metadata": {},
     "output_type": "display_data"
    },
    {
     "name": "stdout",
     "output_type": "stream",
     "text": [
      "loss is: 1.9733\n",
      "val loss is: 1.9522\n"
     ]
    },
    {
     "data": {
      "application/vnd.jupyter.widget-view+json": {
       "model_id": "53ba150d81454b7d89764ba4e1e5ee61",
       "version_major": 2,
       "version_minor": 0
      },
      "text/plain": [
       "epoch 3:   0%|          | 0/4511 [00:00<?, ?it/s]"
      ]
     },
     "metadata": {},
     "output_type": "display_data"
    },
    {
     "name": "stdout",
     "output_type": "stream",
     "text": [
      "loss is: 1.9275\n",
      "val loss is: 1.9141\n"
     ]
    },
    {
     "data": {
      "application/vnd.jupyter.widget-view+json": {
       "model_id": "5473c731121c405d8afeea767725b2c0",
       "version_major": 2,
       "version_minor": 0
      },
      "text/plain": [
       "epoch 4:   0%|          | 0/4511 [00:00<?, ?it/s]"
      ]
     },
     "metadata": {},
     "output_type": "display_data"
    },
    {
     "name": "stdout",
     "output_type": "stream",
     "text": [
      "loss is: 1.8940\n",
      "val loss is: 1.8863\n"
     ]
    },
    {
     "data": {
      "application/vnd.jupyter.widget-view+json": {
       "model_id": "57bb48f53f2240449200873191404608",
       "version_major": 2,
       "version_minor": 0
      },
      "text/plain": [
       "epoch 5:   0%|          | 0/4511 [00:00<?, ?it/s]"
      ]
     },
     "metadata": {},
     "output_type": "display_data"
    },
    {
     "name": "stdout",
     "output_type": "stream",
     "text": [
      "loss is: 1.8682\n",
      "val loss is: 1.8633\n"
     ]
    },
    {
     "data": {
      "application/vnd.jupyter.widget-view+json": {
       "model_id": "20af7c9063f64dbf9849016eefe2af32",
       "version_major": 2,
       "version_minor": 0
      },
      "text/plain": [
       "epoch 6:   0%|          | 0/4511 [00:00<?, ?it/s]"
      ]
     },
     "metadata": {},
     "output_type": "display_data"
    },
    {
     "name": "stdout",
     "output_type": "stream",
     "text": [
      "loss is: 1.8471\n",
      "val loss is: 1.8446\n"
     ]
    },
    {
     "data": {
      "application/vnd.jupyter.widget-view+json": {
       "model_id": "c6ba8a472d1b48b0b188f9bb689176ef",
       "version_major": 2,
       "version_minor": 0
      },
      "text/plain": [
       "epoch 7:   0%|          | 0/4511 [00:00<?, ?it/s]"
      ]
     },
     "metadata": {},
     "output_type": "display_data"
    },
    {
     "name": "stdout",
     "output_type": "stream",
     "text": [
      "loss is: 1.8292\n",
      "val loss is: 1.8295\n"
     ]
    },
    {
     "data": {
      "application/vnd.jupyter.widget-view+json": {
       "model_id": "f7ebb0a25d0447eb8e13bb4cdd2a08fa",
       "version_major": 2,
       "version_minor": 0
      },
      "text/plain": [
       "epoch 8:   0%|          | 0/4511 [00:00<?, ?it/s]"
      ]
     },
     "metadata": {},
     "output_type": "display_data"
    },
    {
     "name": "stdout",
     "output_type": "stream",
     "text": [
      "loss is: 1.8134\n",
      "val loss is: 1.8150\n"
     ]
    },
    {
     "data": {
      "application/vnd.jupyter.widget-view+json": {
       "model_id": "8323b2d1b04a402d85f90d7d053926a7",
       "version_major": 2,
       "version_minor": 0
      },
      "text/plain": [
       "epoch 9:   0%|          | 0/4511 [00:00<?, ?it/s]"
      ]
     },
     "metadata": {},
     "output_type": "display_data"
    },
    {
     "name": "stdout",
     "output_type": "stream",
     "text": [
      "loss is: 1.7994\n",
      "val loss is: 1.8007\n"
     ]
    },
    {
     "data": {
      "application/vnd.jupyter.widget-view+json": {
       "model_id": "9603be47ac2f4f35827499f497403298",
       "version_major": 2,
       "version_minor": 0
      },
      "text/plain": [
       "epoch 10:   0%|          | 0/4511 [00:00<?, ?it/s]"
      ]
     },
     "metadata": {},
     "output_type": "display_data"
    },
    {
     "name": "stdout",
     "output_type": "stream",
     "text": [
      "loss is: 1.7869\n",
      "val loss is: 1.7895\n"
     ]
    },
    {
     "data": {
      "application/vnd.jupyter.widget-view+json": {
       "model_id": "5d69c497ddae49cf991741feef9f6d3f",
       "version_major": 2,
       "version_minor": 0
      },
      "text/plain": [
       "epoch 11:   0%|          | 0/4511 [00:00<?, ?it/s]"
      ]
     },
     "metadata": {},
     "output_type": "display_data"
    },
    {
     "name": "stdout",
     "output_type": "stream",
     "text": [
      "loss is: 1.7759\n",
      "val loss is: 1.7794\n"
     ]
    },
    {
     "data": {
      "application/vnd.jupyter.widget-view+json": {
       "model_id": "c4335ce4d4f442f88726799d0e614425",
       "version_major": 2,
       "version_minor": 0
      },
      "text/plain": [
       "epoch 12:   0%|          | 0/4511 [00:00<?, ?it/s]"
      ]
     },
     "metadata": {},
     "output_type": "display_data"
    },
    {
     "name": "stdout",
     "output_type": "stream",
     "text": [
      "loss is: 1.7659\n",
      "val loss is: 1.7703\n"
     ]
    },
    {
     "data": {
      "application/vnd.jupyter.widget-view+json": {
       "model_id": "07fce6db48474a8c904d54c504c9a301",
       "version_major": 2,
       "version_minor": 0
      },
      "text/plain": [
       "epoch 13:   0%|          | 0/4511 [00:00<?, ?it/s]"
      ]
     },
     "metadata": {},
     "output_type": "display_data"
    },
    {
     "name": "stdout",
     "output_type": "stream",
     "text": [
      "loss is: 1.7568\n",
      "val loss is: 1.7623\n"
     ]
    },
    {
     "data": {
      "application/vnd.jupyter.widget-view+json": {
       "model_id": "dbf7a698cb7f4bd487fc41e9aebc54ed",
       "version_major": 2,
       "version_minor": 0
      },
      "text/plain": [
       "epoch 14:   0%|          | 0/4511 [00:00<?, ?it/s]"
      ]
     },
     "metadata": {},
     "output_type": "display_data"
    },
    {
     "name": "stdout",
     "output_type": "stream",
     "text": [
      "loss is: 1.7486\n",
      "val loss is: 1.7549\n"
     ]
    },
    {
     "data": {
      "application/vnd.jupyter.widget-view+json": {
       "model_id": "df03ae5dcfd14a7dbffa9e93685f3a88",
       "version_major": 2,
       "version_minor": 0
      },
      "text/plain": [
       "epoch 15:   0%|          | 0/4511 [00:00<?, ?it/s]"
      ]
     },
     "metadata": {},
     "output_type": "display_data"
    },
    {
     "name": "stdout",
     "output_type": "stream",
     "text": [
      "loss is: 1.7411\n",
      "val loss is: 1.7475\n"
     ]
    },
    {
     "data": {
      "application/vnd.jupyter.widget-view+json": {
       "model_id": "c4db5360610246fc8dc0d85dfaa533ce",
       "version_major": 2,
       "version_minor": 0
      },
      "text/plain": [
       "epoch 16:   0%|          | 0/4511 [00:00<?, ?it/s]"
      ]
     },
     "metadata": {},
     "output_type": "display_data"
    },
    {
     "name": "stdout",
     "output_type": "stream",
     "text": [
      "loss is: 1.7342\n",
      "val loss is: 1.7405\n"
     ]
    },
    {
     "data": {
      "application/vnd.jupyter.widget-view+json": {
       "model_id": "3aa22ec647cb470eb84baa69ea0268a1",
       "version_major": 2,
       "version_minor": 0
      },
      "text/plain": [
       "epoch 17:   0%|          | 0/4511 [00:00<?, ?it/s]"
      ]
     },
     "metadata": {},
     "output_type": "display_data"
    },
    {
     "name": "stdout",
     "output_type": "stream",
     "text": [
      "loss is: 1.7278\n",
      "val loss is: 1.7346\n"
     ]
    },
    {
     "data": {
      "application/vnd.jupyter.widget-view+json": {
       "model_id": "46feae2ee47b441aa456583c3e162aa8",
       "version_major": 2,
       "version_minor": 0
      },
      "text/plain": [
       "epoch 18:   0%|          | 0/4511 [00:00<?, ?it/s]"
      ]
     },
     "metadata": {},
     "output_type": "display_data"
    },
    {
     "name": "stdout",
     "output_type": "stream",
     "text": [
      "loss is: 1.7218\n",
      "val loss is: 1.7286\n"
     ]
    },
    {
     "data": {
      "application/vnd.jupyter.widget-view+json": {
       "model_id": "3f39e45863624a0dab9266cbb3d57bd0",
       "version_major": 2,
       "version_minor": 0
      },
      "text/plain": [
       "epoch 19:   0%|          | 0/4511 [00:00<?, ?it/s]"
      ]
     },
     "metadata": {},
     "output_type": "display_data"
    },
    {
     "name": "stdout",
     "output_type": "stream",
     "text": [
      "loss is: 1.7162\n",
      "val loss is: 1.7229\n"
     ]
    },
    {
     "data": {
      "application/vnd.jupyter.widget-view+json": {
       "model_id": "0d2ba9d01e744574b5fec6f36d53890b",
       "version_major": 2,
       "version_minor": 0
      },
      "text/plain": [
       "epoch 20:   0%|          | 0/4511 [00:00<?, ?it/s]"
      ]
     },
     "metadata": {},
     "output_type": "display_data"
    },
    {
     "name": "stdout",
     "output_type": "stream",
     "text": [
      "loss is: 1.7110\n",
      "val loss is: 1.7186\n"
     ]
    },
    {
     "data": {
      "application/vnd.jupyter.widget-view+json": {
       "model_id": "4a79c9eb0ca642d2beb5de76fc98fc2c",
       "version_major": 2,
       "version_minor": 0
      },
      "text/plain": [
       "epoch 21:   0%|          | 0/4511 [00:00<?, ?it/s]"
      ]
     },
     "metadata": {},
     "output_type": "display_data"
    },
    {
     "name": "stdout",
     "output_type": "stream",
     "text": [
      "loss is: 1.7061\n",
      "val loss is: 1.7138\n"
     ]
    },
    {
     "data": {
      "application/vnd.jupyter.widget-view+json": {
       "model_id": "9b7ac19c26cf4b358e338159c28ac4e7",
       "version_major": 2,
       "version_minor": 0
      },
      "text/plain": [
       "epoch 22:   0%|          | 0/4511 [00:00<?, ?it/s]"
      ]
     },
     "metadata": {},
     "output_type": "display_data"
    },
    {
     "name": "stdout",
     "output_type": "stream",
     "text": [
      "loss is: 1.7014\n",
      "val loss is: 1.7093\n"
     ]
    },
    {
     "data": {
      "application/vnd.jupyter.widget-view+json": {
       "model_id": "3f56519828bf4428ab9898eedf90a997",
       "version_major": 2,
       "version_minor": 0
      },
      "text/plain": [
       "epoch 23:   0%|          | 0/4511 [00:00<?, ?it/s]"
      ]
     },
     "metadata": {},
     "output_type": "display_data"
    },
    {
     "name": "stdout",
     "output_type": "stream",
     "text": [
      "loss is: 1.6970\n",
      "val loss is: 1.7055\n"
     ]
    },
    {
     "data": {
      "application/vnd.jupyter.widget-view+json": {
       "model_id": "c04e20de194b41d29ae7d430b03ca553",
       "version_major": 2,
       "version_minor": 0
      },
      "text/plain": [
       "epoch 24:   0%|          | 0/4511 [00:00<?, ?it/s]"
      ]
     },
     "metadata": {},
     "output_type": "display_data"
    },
    {
     "name": "stdout",
     "output_type": "stream",
     "text": [
      "loss is: 1.6928\n",
      "val loss is: 1.7018\n"
     ]
    },
    {
     "data": {
      "application/vnd.jupyter.widget-view+json": {
       "model_id": "b1e4766677de43a9af3f8b2fb6be2b9b",
       "version_major": 2,
       "version_minor": 0
      },
      "text/plain": [
       "epoch 25:   0%|          | 0/4511 [00:00<?, ?it/s]"
      ]
     },
     "metadata": {},
     "output_type": "display_data"
    },
    {
     "name": "stdout",
     "output_type": "stream",
     "text": [
      "loss is: 1.6887\n",
      "val loss is: 1.6982\n"
     ]
    },
    {
     "data": {
      "application/vnd.jupyter.widget-view+json": {
       "model_id": "4b745c9b72c841ee9173863aa49de4c0",
       "version_major": 2,
       "version_minor": 0
      },
      "text/plain": [
       "epoch 26:   0%|          | 0/4511 [00:00<?, ?it/s]"
      ]
     },
     "metadata": {},
     "output_type": "display_data"
    },
    {
     "name": "stdout",
     "output_type": "stream",
     "text": [
      "loss is: 1.6849\n",
      "val loss is: 1.6948\n"
     ]
    },
    {
     "data": {
      "application/vnd.jupyter.widget-view+json": {
       "model_id": "37c2a69838fd4d95b84e39d17888222c",
       "version_major": 2,
       "version_minor": 0
      },
      "text/plain": [
       "epoch 27:   0%|          | 0/4511 [00:00<?, ?it/s]"
      ]
     },
     "metadata": {},
     "output_type": "display_data"
    },
    {
     "name": "stdout",
     "output_type": "stream",
     "text": [
      "loss is: 1.6812\n",
      "val loss is: 1.6918\n"
     ]
    },
    {
     "data": {
      "application/vnd.jupyter.widget-view+json": {
       "model_id": "a8f5bdd9f8d942f6a97b57dc7e1ea6cd",
       "version_major": 2,
       "version_minor": 0
      },
      "text/plain": [
       "epoch 28:   0%|          | 0/4511 [00:00<?, ?it/s]"
      ]
     },
     "metadata": {},
     "output_type": "display_data"
    },
    {
     "name": "stdout",
     "output_type": "stream",
     "text": [
      "loss is: 1.6777\n",
      "val loss is: 1.6890\n"
     ]
    },
    {
     "data": {
      "application/vnd.jupyter.widget-view+json": {
       "model_id": "09a9bf076893495ba9edb1bbf7889cc2",
       "version_major": 2,
       "version_minor": 0
      },
      "text/plain": [
       "epoch 29:   0%|          | 0/4511 [00:00<?, ?it/s]"
      ]
     },
     "metadata": {},
     "output_type": "display_data"
    },
    {
     "name": "stdout",
     "output_type": "stream",
     "text": [
      "loss is: 1.6742\n",
      "val loss is: 1.6857\n"
     ]
    },
    {
     "data": {
      "application/vnd.jupyter.widget-view+json": {
       "model_id": "1058ef06c5b94d2d8e1c3e1b9f91e6f8",
       "version_major": 2,
       "version_minor": 0
      },
      "text/plain": [
       "epoch 30:   0%|          | 0/4511 [00:00<?, ?it/s]"
      ]
     },
     "metadata": {},
     "output_type": "display_data"
    },
    {
     "name": "stdout",
     "output_type": "stream",
     "text": [
      "loss is: 1.6709\n",
      "val loss is: 1.6829\n"
     ]
    },
    {
     "data": {
      "application/vnd.jupyter.widget-view+json": {
       "model_id": "bed27418aed348549ffee7f712ac3eff",
       "version_major": 2,
       "version_minor": 0
      },
      "text/plain": [
       "epoch 31:   0%|          | 0/4511 [00:00<?, ?it/s]"
      ]
     },
     "metadata": {},
     "output_type": "display_data"
    },
    {
     "name": "stdout",
     "output_type": "stream",
     "text": [
      "loss is: 1.6677\n",
      "val loss is: 1.6805\n"
     ]
    },
    {
     "data": {
      "application/vnd.jupyter.widget-view+json": {
       "model_id": "5e920ebfaf5e44279405db8c92463475",
       "version_major": 2,
       "version_minor": 0
      },
      "text/plain": [
       "epoch 32:   0%|          | 0/4511 [00:00<?, ?it/s]"
      ]
     },
     "metadata": {},
     "output_type": "display_data"
    },
    {
     "name": "stdout",
     "output_type": "stream",
     "text": [
      "loss is: 1.6646\n",
      "val loss is: 1.6777\n"
     ]
    },
    {
     "data": {
      "application/vnd.jupyter.widget-view+json": {
       "model_id": "7666bb7027dc4862a47e78fd35cc021d",
       "version_major": 2,
       "version_minor": 0
      },
      "text/plain": [
       "epoch 33:   0%|          | 0/4511 [00:00<?, ?it/s]"
      ]
     },
     "metadata": {},
     "output_type": "display_data"
    },
    {
     "name": "stdout",
     "output_type": "stream",
     "text": [
      "loss is: 1.6615\n",
      "val loss is: 1.6758\n"
     ]
    },
    {
     "data": {
      "application/vnd.jupyter.widget-view+json": {
       "model_id": "9360ec672e1842df820ceed03ea0a9c9",
       "version_major": 2,
       "version_minor": 0
      },
      "text/plain": [
       "epoch 34:   0%|          | 0/4511 [00:00<?, ?it/s]"
      ]
     },
     "metadata": {},
     "output_type": "display_data"
    },
    {
     "name": "stdout",
     "output_type": "stream",
     "text": [
      "loss is: 1.6586\n",
      "val loss is: 1.6733\n"
     ]
    },
    {
     "data": {
      "application/vnd.jupyter.widget-view+json": {
       "model_id": "1f842959702e498c9d5f4849d60dfdc5",
       "version_major": 2,
       "version_minor": 0
      },
      "text/plain": [
       "epoch 35:   0%|          | 0/4511 [00:00<?, ?it/s]"
      ]
     },
     "metadata": {},
     "output_type": "display_data"
    },
    {
     "name": "stdout",
     "output_type": "stream",
     "text": [
      "loss is: 1.6557\n",
      "val loss is: 1.6708\n"
     ]
    },
    {
     "data": {
      "application/vnd.jupyter.widget-view+json": {
       "model_id": "e900591ac31f4473adea8f6cec6faefe",
       "version_major": 2,
       "version_minor": 0
      },
      "text/plain": [
       "epoch 36:   0%|          | 0/4511 [00:00<?, ?it/s]"
      ]
     },
     "metadata": {},
     "output_type": "display_data"
    },
    {
     "name": "stdout",
     "output_type": "stream",
     "text": [
      "loss is: 1.6529\n",
      "val loss is: 1.6688\n"
     ]
    },
    {
     "data": {
      "application/vnd.jupyter.widget-view+json": {
       "model_id": "195125ae00f8405aa4f034f0527580c6",
       "version_major": 2,
       "version_minor": 0
      },
      "text/plain": [
       "epoch 37:   0%|          | 0/4511 [00:00<?, ?it/s]"
      ]
     },
     "metadata": {},
     "output_type": "display_data"
    },
    {
     "name": "stdout",
     "output_type": "stream",
     "text": [
      "loss is: 1.6502\n",
      "val loss is: 1.6667\n"
     ]
    },
    {
     "data": {
      "application/vnd.jupyter.widget-view+json": {
       "model_id": "d7008686d2ae4d869830e584def87474",
       "version_major": 2,
       "version_minor": 0
      },
      "text/plain": [
       "epoch 38:   0%|          | 0/4511 [00:00<?, ?it/s]"
      ]
     },
     "metadata": {},
     "output_type": "display_data"
    },
    {
     "name": "stdout",
     "output_type": "stream",
     "text": [
      "loss is: 1.6475\n",
      "val loss is: 1.6651\n"
     ]
    },
    {
     "data": {
      "application/vnd.jupyter.widget-view+json": {
       "model_id": "4f8b752cae3c4a50a0c879a7cff12072",
       "version_major": 2,
       "version_minor": 0
      },
      "text/plain": [
       "epoch 39:   0%|          | 0/4511 [00:00<?, ?it/s]"
      ]
     },
     "metadata": {},
     "output_type": "display_data"
    },
    {
     "name": "stdout",
     "output_type": "stream",
     "text": [
      "loss is: 1.6450\n",
      "val loss is: 1.6629\n",
      "Time is: 2 min 59 sec\n"
     ]
    }
   ],
   "source": [
    "device = torch.device('cuda' if torch.cuda.is_available() else 'cpu')\n",
    "\n",
    "# load data:\n",
    "data_set = CommonDataSet(data_list_context, device)\n",
    "\n",
    "batch_size = 256\n",
    "\n",
    "# training network model:\n",
    "start = time.time() \n",
    "nnet_context_sgd = MyNNet(input_dim=(data_list_context[0].shape[0] - 1),\n",
    "            output_dim=len(phones_dict.keys())).to(device)\n",
    "criterion = nn.CrossEntropyLoss()\n",
    "optimizer = torch.optim.SGD(nnet_context_sgd.parameters(), lr=0.001)\n",
    "\n",
    "lr_scheduler = torch.optim.lr_scheduler.ReduceLROnPlateau(optimizer)\n",
    "\n",
    "loss_list = []\n",
    "val_loss = []\n",
    "\n",
    "print('TRAINIG STARTED...')\n",
    "for epoch in range(40):\n",
    "    nnet_context_sgd.train()\n",
    "    running_loss = 0\n",
    "    counter = 0\n",
    "    for batch_xs, batch_ys in tqdm(data_set.next_batch(batch_size), \\\n",
    "                                   total=data_set.num_batches(batch_size), \\\n",
    "                                   desc='epoch {}'.format(epoch)):\n",
    "        optimizer.zero_grad()\n",
    "        output = nnet_context_sgd(batch_xs)\n",
    "\n",
    "        loss = criterion(output, batch_ys)\n",
    "        loss.backward()\n",
    "        optimizer.step()\n",
    "        \n",
    "        running_loss += loss.item()\n",
    "        counter += 1\n",
    "    \n",
    "    with torch.no_grad():\n",
    "        nnet_context_sgd.eval()\n",
    "        val_xs = torch.tensor(data_set.valid[:, :-1], dtype=torch.float32).to(device)\n",
    "        val_ys = torch.tensor(data_set.valid[:,-1].ravel(), dtype=torch.int64).to(device)\n",
    "        val_out = nnet_context_sgd(val_xs)\n",
    "        val_l = criterion(val_out, val_ys)\n",
    "        val_loss.append(val_l.item())\n",
    "        \n",
    "    lr_scheduler.step(val_l)\n",
    "    print('loss is: {:.4f}'.format((running_loss / counter)))\n",
    "    loss_list.append(running_loss / counter)\n",
    "    print('val loss is: {:.4f}'.format(val_l))\n",
    "    \n",
    "    \n",
    "end = time.time()\n",
    "minutes = (end - start) // 60\n",
    "seconds = np.mod((end - start), 60)\n",
    "print('Time is: {} min {} sec'.format(int(minutes), int(seconds)))"
   ]
  },
  {
   "cell_type": "code",
   "execution_count": 121,
   "metadata": {},
   "outputs": [
    {
     "data": {
      "image/png": "[encoded data removed]",
      "text/plain": [
       "<Figure size 1080x360 with 1 Axes>"
      ]
     },
     "metadata": {
      "needs_background": "light"
     },
     "output_type": "display_data"
    }
   ],
   "source": [
    "plt.rcParams['figure.figsize'] = (15.0, 5.0)\n",
    "plt.plot(loss_list, label='train loss')\n",
    "plt.plot(val_loss, label='val loss')\n",
    "plt.title('Loss per epoch')\n",
    "plt.ylabel('loss')\n",
    "plt.xlabel('epoch')\n",
    "plt.grid()\n",
    "plt.legend()\n",
    "plt.show()"
   ]
  },
  {
   "cell_type": "markdown",
   "metadata": {},
   "source": [
    "# yes_no"
   ]
  },
  {
   "cell_type": "code",
   "execution_count": 123,
   "metadata": {},
   "outputs": [
    {
     "data": {
      "application/vnd.jupyter.widget-view+json": {
       "model_id": "64ca79dac6184e889d94052d3066c774",
       "version_major": 2,
       "version_minor": 0
      },
      "text/plain": [
       "  0%|          | 0/10 [00:00<?, ?it/s]"
      ]
     },
     "metadata": {},
     "output_type": "display_data"
    },
    {
     "name": "stdout",
     "output_type": "stream",
     "text": [
      "Beam = 1\n",
      "\n",
      "result: yes_ff63ab0b_nohash_0       ==> YES\n",
      "result: yes_fe1916ba_nohash_0       ==> YES\n",
      "result: yes_fc94edb0_nohash_0       ==> YES\n",
      "result: no_41474817_nohash_0        ==> NO\n",
      "result: yes_39a6b995_nohash_0       ==> NO\n",
      "result: yes_39a12648_nohash_0       ==> YES\n",
      "result: no_4abb2400_nohash_0        ==> NO\n",
      "result: no_ad89eb1e_nohash_0        ==> YES\n",
      "result: no_49af4432_nohash_0        ==> YES\n",
      "result: no_4394fc7c_nohash_0        ==> NO\n",
      "------------------------------------------------------------\n",
      "WER is: 30.00%\n",
      "Total time is: 0.27 sec\n",
      "------------------------------------------------------------\n",
      "\n",
      "##################################################\n",
      "\n",
      "Beam = 3\n",
      "\n",
      "result: yes_ff63ab0b_nohash_0       ==> YES\n",
      "result: yes_fe1916ba_nohash_0       ==> YES\n",
      "result: yes_fc94edb0_nohash_0       ==> YES\n",
      "result: no_41474817_nohash_0        ==> NO\n",
      "result: yes_39a6b995_nohash_0       ==> YES\n",
      "result: yes_39a12648_nohash_0       ==> YES\n",
      "result: no_4abb2400_nohash_0        ==> NO\n",
      "result: no_ad89eb1e_nohash_0        ==> YES\n",
      "result: no_49af4432_nohash_0        ==> YES\n",
      "result: no_4394fc7c_nohash_0        ==> YES\n",
      "------------------------------------------------------------\n",
      "WER is: 30.00%\n",
      "Total time is: 0.30 sec\n",
      "------------------------------------------------------------\n",
      "\n",
      "##################################################\n",
      "\n",
      "Beam = 5\n",
      "\n",
      "result: yes_ff63ab0b_nohash_0       ==> YES\n",
      "result: yes_fe1916ba_nohash_0       ==> YES\n",
      "result: yes_fc94edb0_nohash_0       ==> YES\n",
      "result: no_41474817_nohash_0        ==> NO\n",
      "result: yes_39a6b995_nohash_0       ==> YES\n",
      "result: yes_39a12648_nohash_0       ==> YES\n",
      "result: no_4abb2400_nohash_0        ==> NO\n",
      "result: no_ad89eb1e_nohash_0        ==> YES\n",
      "result: no_49af4432_nohash_0        ==> NO\n",
      "result: no_4394fc7c_nohash_0        ==> YES\n",
      "------------------------------------------------------------\n",
      "WER is: 20.00%\n",
      "Total time is: 0.34 sec\n",
      "------------------------------------------------------------\n",
      "\n",
      "##################################################\n",
      "\n",
      "Beam = 10\n",
      "\n",
      "result: yes_ff63ab0b_nohash_0       ==> YES\n",
      "result: yes_fe1916ba_nohash_0       ==> YES\n",
      "result: yes_fc94edb0_nohash_0       ==> YES\n",
      "result: no_41474817_nohash_0        ==> YES\n",
      "result: yes_39a6b995_nohash_0       ==> YES\n",
      "result: yes_39a12648_nohash_0       ==> YES\n",
      "result: no_4abb2400_nohash_0        ==> NO\n",
      "result: no_ad89eb1e_nohash_0        ==> YES\n",
      "result: no_49af4432_nohash_0        ==> NO\n",
      "result: no_4394fc7c_nohash_0        ==> YES\n",
      "------------------------------------------------------------\n",
      "WER is: 30.00%\n",
      "Total time is: 0.49 sec\n",
      "------------------------------------------------------------\n",
      "\n",
      "##################################################\n",
      "\n",
      "Beam = 20\n",
      "\n",
      "result: yes_ff63ab0b_nohash_0       ==> YES\n",
      "result: yes_fe1916ba_nohash_0       ==> YES\n",
      "result: yes_fc94edb0_nohash_0       ==> YES\n",
      "result: no_41474817_nohash_0        ==> NO\n",
      "result: yes_39a6b995_nohash_0       ==> YES\n",
      "result: yes_39a12648_nohash_0       ==> YES\n",
      "result: no_4abb2400_nohash_0        ==> NO\n",
      "result: no_ad89eb1e_nohash_0        ==> NO\n",
      "result: no_49af4432_nohash_0        ==> NO\n",
      "result: no_4394fc7c_nohash_0        ==> YES\n",
      "------------------------------------------------------------\n",
      "WER is: 10.00%\n",
      "Total time is: 0.68 sec\n",
      "------------------------------------------------------------\n",
      "\n",
      "##################################################\n",
      "\n"
     ]
    }
   ],
   "source": [
    "lexicon_file = 'lab2/data/lexicon_yes_no.txt'\n",
    "lexicon_dict = load_lexicon_dict(lexicon_file)\n",
    "graph = load_graph(lexicon_dict, phones_dict, priors_list)\n",
    "records_data_dict = load_data_dict(\"lab2/data/yes_no/records\")\n",
    "\n",
    "for beam in [1, 3, 5, 10, 20]:\n",
    "    print(f'Beam = {beam}\\n')\n",
    "    run_recognizer(records_data_dict, graph, nnet_context_sgd.cpu(), side_context, beam_threshold=beam)\n",
    "    print()\n",
    "    print('##################################################')\n",
    "    print()"
   ]
  },
  {
   "cell_type": "markdown",
   "metadata": {},
   "source": [
    "## Digits"
   ]
  },
  {
   "cell_type": "code",
   "execution_count": 124,
   "metadata": {
    "scrolled": false
   },
   "outputs": [
    {
     "data": {
      "application/vnd.jupyter.widget-view+json": {
       "model_id": "3dafe1f37bd64548943b08f99eb895a0",
       "version_major": 2,
       "version_minor": 0
      },
      "text/plain": [
       "  0%|          | 0/20 [00:00<?, ?it/s]"
      ]
     },
     "metadata": {},
     "output_type": "display_data"
    },
    {
     "name": "stdout",
     "output_type": "stream",
     "text": [
      "beam = 1\n",
      "\n",
      "result: eight_daf230ac_nohash_0     ==> TWO\n",
      "result: eight_da584bc0_nohash_4     ==> FIVE\n",
      "result: seven_fe5c4a7a_nohash_0     ==> TWO\n",
      "result: four_fce65496_nohash_0      ==> FIVE\n",
      "result: nine_ccea893d_nohash_0      ==> THREE\n",
      "result: zero_f92e49f3_nohash_3      ==> THREE\n",
      "result: four_ffbb695d_nohash_0      ==> FOUR\n",
      "result: three_feb1d305_nohash_0     ==> THREE\n",
      "result: five_ffd2ba2f_nohash_0      ==> FOUR\n",
      "result: three_fce96bac_nohash_0     ==> FIVE\n",
      "result: five_f852895b_nohash_0      ==> THREE\n",
      "result: six_ffbb695d_nohash_0       ==> FIVE\n",
      "result: nine_fbe51750_nohash_0      ==> ONE\n",
      "result: two_fb2f3242_nohash_0       ==> THREE\n",
      "result: six_ffd2ba2f_nohash_0       ==> TWO\n",
      "result: zero_f852895b_nohash_0      ==> ONE\n",
      "result: one_fc2411fe_nohash_0       ==> ONE\n",
      "result: one_ffa76c4a_nohash_0       ==> ONE\n",
      "result: seven_fd32732a_nohash_0     ==> TWO\n",
      "result: two_fce65496_nohash_0       ==> FIVE\n",
      "------------------------------------------------------------\n",
      "WER is: 80.00%\n",
      "Total time is: 0.98 sec\n",
      "------------------------------------------------------------\n",
      "\n",
      "##################################################\n",
      "\n",
      "beam = 5\n",
      "\n",
      "result: eight_daf230ac_nohash_0     ==> ONE\n",
      "result: eight_da584bc0_nohash_4     ==> FIVE\n",
      "result: seven_fe5c4a7a_nohash_0     ==> THREE\n",
      "result: four_fce65496_nohash_0      ==> FOUR\n",
      "result: nine_ccea893d_nohash_0      ==> ONE\n",
      "result: zero_f92e49f3_nohash_3      ==> THREE\n",
      "result: four_ffbb695d_nohash_0      ==> FOUR\n",
      "result: three_feb1d305_nohash_0     ==> THREE\n",
      "result: five_ffd2ba2f_nohash_0      ==> FOUR\n",
      "result: three_fce96bac_nohash_0     ==> FIVE\n",
      "result: five_f852895b_nohash_0      ==> FIVE\n",
      "result: six_ffbb695d_nohash_0       ==> SIX\n",
      "result: nine_fbe51750_nohash_0      ==> ONE\n",
      "result: two_fb2f3242_nohash_0       ==> THREE\n",
      "result: six_ffd2ba2f_nohash_0       ==> SIX\n",
      "result: zero_f852895b_nohash_0      ==> THREE\n",
      "result: one_fc2411fe_nohash_0       ==> ONE\n",
      "result: one_ffa76c4a_nohash_0       ==> ONE\n",
      "result: seven_fd32732a_nohash_0     ==> SEVEN\n",
      "result: two_fce65496_nohash_0       ==> TWO\n",
      "------------------------------------------------------------\n",
      "WER is: 50.00%\n",
      "Total time is: 2.41 sec\n",
      "------------------------------------------------------------\n",
      "\n",
      "##################################################\n",
      "\n",
      "beam = 10\n",
      "\n",
      "result: eight_daf230ac_nohash_0     ==> EIGHT\n",
      "result: eight_da584bc0_nohash_4     ==> FIVE\n",
      "result: seven_fe5c4a7a_nohash_0     ==> SEVEN\n",
      "result: four_fce65496_nohash_0      ==> FOUR\n",
      "result: nine_ccea893d_nohash_0      ==> ONE\n",
      "result: zero_f92e49f3_nohash_3      ==> THREE\n",
      "result: four_ffbb695d_nohash_0      ==> FOUR\n",
      "result: three_feb1d305_nohash_0     ==> THREE\n",
      "result: five_ffd2ba2f_nohash_0      ==> FIVE\n",
      "result: three_fce96bac_nohash_0     ==> THREE\n",
      "result: five_f852895b_nohash_0      ==> FIVE\n",
      "result: six_ffbb695d_nohash_0       ==> SIX\n",
      "result: nine_fbe51750_nohash_0      ==> NINE\n",
      "result: two_fb2f3242_nohash_0       ==> THREE\n",
      "result: six_ffd2ba2f_nohash_0       ==> SIX\n",
      "result: zero_f852895b_nohash_0      ==> THREE\n",
      "result: one_fc2411fe_nohash_0       ==> ONE\n",
      "result: one_ffa76c4a_nohash_0       ==> ONE\n",
      "result: seven_fd32732a_nohash_0     ==> SEVEN\n",
      "result: two_fce65496_nohash_0       ==> TWO\n",
      "------------------------------------------------------------\n",
      "WER is: 25.00%\n",
      "Total time is: 3.85 sec\n",
      "------------------------------------------------------------\n",
      "\n",
      "##################################################\n",
      "\n",
      "beam = 20\n",
      "\n",
      "result: eight_daf230ac_nohash_0     ==> EIGHT\n",
      "result: eight_da584bc0_nohash_4     ==> FIVE\n",
      "result: seven_fe5c4a7a_nohash_0     ==> SEVEN\n",
      "result: four_fce65496_nohash_0      ==> FOUR\n",
      "result: nine_ccea893d_nohash_0      ==> NINE\n",
      "result: zero_f92e49f3_nohash_3      ==> SIX\n",
      "result: four_ffbb695d_nohash_0      ==> FOUR\n",
      "result: three_feb1d305_nohash_0     ==> THREE\n",
      "result: five_ffd2ba2f_nohash_0      ==> FIVE\n",
      "result: three_fce96bac_nohash_0     ==> THREE\n",
      "result: five_f852895b_nohash_0      ==> FIVE\n",
      "result: six_ffbb695d_nohash_0       ==> SIX\n",
      "result: nine_fbe51750_nohash_0      ==> NINE\n",
      "result: two_fb2f3242_nohash_0       ==> TWO\n",
      "result: six_ffd2ba2f_nohash_0       ==> SIX\n",
      "result: zero_f852895b_nohash_0      ==> THREE\n",
      "result: one_fc2411fe_nohash_0       ==> ONE\n",
      "result: one_ffa76c4a_nohash_0       ==> ONE\n",
      "result: seven_fd32732a_nohash_0     ==> SEVEN\n",
      "result: two_fce65496_nohash_0       ==> TWO\n",
      "------------------------------------------------------------\n",
      "WER is: 15.00%\n",
      "Total time is: 5.80 sec\n",
      "------------------------------------------------------------\n",
      "\n",
      "##################################################\n",
      "\n",
      "beam = 30\n",
      "\n",
      "result: eight_daf230ac_nohash_0     ==> EIGHT\n",
      "result: eight_da584bc0_nohash_4     ==> FIVE\n",
      "result: seven_fe5c4a7a_nohash_0     ==> SEVEN\n",
      "result: four_fce65496_nohash_0      ==> FOUR\n",
      "result: nine_ccea893d_nohash_0      ==> NINE\n",
      "result: zero_f92e49f3_nohash_3      ==> SIX\n",
      "result: four_ffbb695d_nohash_0      ==> FOUR\n",
      "result: three_feb1d305_nohash_0     ==> THREE\n",
      "result: five_ffd2ba2f_nohash_0      ==> FIVE\n",
      "result: three_fce96bac_nohash_0     ==> THREE\n",
      "result: five_f852895b_nohash_0      ==> FIVE\n",
      "result: six_ffbb695d_nohash_0       ==> SIX\n",
      "result: nine_fbe51750_nohash_0      ==> NINE\n",
      "result: two_fb2f3242_nohash_0       ==> TWO\n",
      "result: six_ffd2ba2f_nohash_0       ==> SIX\n",
      "result: zero_f852895b_nohash_0      ==> ZERO\n",
      "result: one_fc2411fe_nohash_0       ==> ONE\n",
      "result: one_ffa76c4a_nohash_0       ==> ONE\n",
      "result: seven_fd32732a_nohash_0     ==> SEVEN\n",
      "result: two_fce65496_nohash_0       ==> TWO\n",
      "------------------------------------------------------------\n",
      "WER is: 10.00%\n",
      "Total time is: 8.37 sec\n",
      "------------------------------------------------------------\n",
      "\n",
      "##################################################\n",
      "\n",
      "beam = 50\n",
      "\n",
      "result: eight_daf230ac_nohash_0     ==> EIGHT\n",
      "result: eight_da584bc0_nohash_4     ==> EIGHT\n",
      "result: seven_fe5c4a7a_nohash_0     ==> SEVEN\n",
      "result: four_fce65496_nohash_0      ==> FOUR\n",
      "result: nine_ccea893d_nohash_0      ==> NINE\n",
      "result: zero_f92e49f3_nohash_3      ==> SIX\n",
      "result: four_ffbb695d_nohash_0      ==> FOUR\n",
      "result: three_feb1d305_nohash_0     ==> THREE\n",
      "result: five_ffd2ba2f_nohash_0      ==> FIVE\n",
      "result: three_fce96bac_nohash_0     ==> THREE\n",
      "result: five_f852895b_nohash_0      ==> FIVE\n",
      "result: six_ffbb695d_nohash_0       ==> SIX\n",
      "result: nine_fbe51750_nohash_0      ==> NINE\n",
      "result: two_fb2f3242_nohash_0       ==> TWO\n",
      "result: six_ffd2ba2f_nohash_0       ==> SIX\n",
      "result: zero_f852895b_nohash_0      ==> ZERO\n",
      "result: one_fc2411fe_nohash_0       ==> ONE\n",
      "result: one_ffa76c4a_nohash_0       ==> ONE\n",
      "result: seven_fd32732a_nohash_0     ==> SEVEN\n",
      "result: two_fce65496_nohash_0       ==> TWO\n",
      "------------------------------------------------------------\n",
      "WER is: 5.00%\n",
      "Total time is: 10.62 sec\n",
      "------------------------------------------------------------\n",
      "\n",
      "##################################################\n",
      "\n"
     ]
    }
   ],
   "source": [
    "lexicon_file = 'lab2/data/lexicon_digits.txt'\n",
    "lexicon_dict = load_lexicon_dict(lexicon_file)\n",
    "graph = load_graph(lexicon_dict, phones_dict, priors_list)\n",
    "records_data_dict = load_data_dict(\"lab2/data/digits/records\")\n",
    "\n",
    "for beam in [1, 5, 10, 20, 30, 50]:\n",
    "    print(f'beam = {beam}')\n",
    "    print()\n",
    "    run_recognizer(records_data_dict, graph, nnet_context_sgd.cpu(), side_context, beam_threshold=beam)\n",
    "    print()\n",
    "    print('##################################################')\n",
    "    print()"
   ]
  },
  {
   "cell_type": "markdown",
   "metadata": {},
   "source": [
    "Качество ухудшилось"
   ]
  },
  {
   "cell_type": "markdown",
   "metadata": {},
   "source": [
    "# MyNewNNet + SGD + StepLR"
   ]
  },
  {
   "cell_type": "code",
   "execution_count": 133,
   "metadata": {
    "scrolled": true
   },
   "outputs": [
    {
     "name": "stdout",
     "output_type": "stream",
     "text": [
      "Adjusting learning rate of group 0 to 1.0000e-03.\n",
      "TRAINIG STARTED...\n"
     ]
    },
    {
     "data": {
      "application/vnd.jupyter.widget-view+json": {
       "model_id": "8f6f356ca83647eab70e13e24d1abb4f",
       "version_major": 2,
       "version_minor": 0
      },
      "text/plain": [
       "epoch 0:   0%|          | 0/4511 [00:00<?, ?it/s]"
      ]
     },
     "metadata": {},
     "output_type": "display_data"
    },
    {
     "name": "stdout",
     "output_type": "stream",
     "text": [
      "Adjusting learning rate of group 0 to 1.0000e-03.\n",
      "loss is: 2.3010\n",
      "val loss is: 2.1204\n"
     ]
    },
    {
     "data": {
      "application/vnd.jupyter.widget-view+json": {
       "model_id": "5f2264ac40274e7280eeb7db717db435",
       "version_major": 2,
       "version_minor": 0
      },
      "text/plain": [
       "epoch 1:   0%|          | 0/4511 [00:00<?, ?it/s]"
      ]
     },
     "metadata": {},
     "output_type": "display_data"
    },
    {
     "name": "stdout",
     "output_type": "stream",
     "text": [
      "Adjusting learning rate of group 0 to 1.0000e-03.\n",
      "loss is: 2.0638\n",
      "val loss is: 2.0229\n"
     ]
    },
    {
     "data": {
      "application/vnd.jupyter.widget-view+json": {
       "model_id": "77d56ee49dd84759929d242fdb1e6b55",
       "version_major": 2,
       "version_minor": 0
      },
      "text/plain": [
       "epoch 2:   0%|          | 0/4511 [00:00<?, ?it/s]"
      ]
     },
     "metadata": {},
     "output_type": "display_data"
    },
    {
     "name": "stdout",
     "output_type": "stream",
     "text": [
      "Adjusting learning rate of group 0 to 1.0000e-03.\n",
      "loss is: 1.9894\n",
      "val loss is: 1.9665\n"
     ]
    },
    {
     "data": {
      "application/vnd.jupyter.widget-view+json": {
       "model_id": "64d611f3b5a947b2968332a659434521",
       "version_major": 2,
       "version_minor": 0
      },
      "text/plain": [
       "epoch 3:   0%|          | 0/4511 [00:00<?, ?it/s]"
      ]
     },
     "metadata": {},
     "output_type": "display_data"
    },
    {
     "name": "stdout",
     "output_type": "stream",
     "text": [
      "Adjusting learning rate of group 0 to 1.0000e-03.\n",
      "loss is: 1.9400\n",
      "val loss is: 1.9256\n"
     ]
    },
    {
     "data": {
      "application/vnd.jupyter.widget-view+json": {
       "model_id": "1fa4d1d475064d608fcc433c507c9807",
       "version_major": 2,
       "version_minor": 0
      },
      "text/plain": [
       "epoch 4:   0%|          | 0/4511 [00:00<?, ?it/s]"
      ]
     },
     "metadata": {},
     "output_type": "display_data"
    },
    {
     "name": "stdout",
     "output_type": "stream",
     "text": [
      "Adjusting learning rate of group 0 to 5.0000e-04.\n",
      "loss is: 1.9026\n",
      "val loss is: 1.8937\n"
     ]
    },
    {
     "data": {
      "application/vnd.jupyter.widget-view+json": {
       "model_id": "4e51f916607a47a190b9e74bae030b93",
       "version_major": 2,
       "version_minor": 0
      },
      "text/plain": [
       "epoch 5:   0%|          | 0/4511 [00:00<?, ?it/s]"
      ]
     },
     "metadata": {},
     "output_type": "display_data"
    },
    {
     "name": "stdout",
     "output_type": "stream",
     "text": [
      "Adjusting learning rate of group 0 to 5.0000e-04.\n",
      "loss is: 1.8700\n",
      "val loss is: 1.8692\n"
     ]
    },
    {
     "data": {
      "application/vnd.jupyter.widget-view+json": {
       "model_id": "ac207287249b48fda7c8dc5eb77aa0cb",
       "version_major": 2,
       "version_minor": 0
      },
      "text/plain": [
       "epoch 6:   0%|          | 0/4511 [00:00<?, ?it/s]"
      ]
     },
     "metadata": {},
     "output_type": "display_data"
    },
    {
     "name": "stdout",
     "output_type": "stream",
     "text": [
      "Adjusting learning rate of group 0 to 5.0000e-04.\n",
      "loss is: 1.8563\n",
      "val loss is: 1.8567\n"
     ]
    },
    {
     "data": {
      "application/vnd.jupyter.widget-view+json": {
       "model_id": "7a00b00ab2914ded80446aa07bd3faca",
       "version_major": 2,
       "version_minor": 0
      },
      "text/plain": [
       "epoch 7:   0%|          | 0/4511 [00:00<?, ?it/s]"
      ]
     },
     "metadata": {},
     "output_type": "display_data"
    },
    {
     "name": "stdout",
     "output_type": "stream",
     "text": [
      "Adjusting learning rate of group 0 to 5.0000e-04.\n",
      "loss is: 1.8438\n",
      "val loss is: 1.8451\n"
     ]
    },
    {
     "data": {
      "application/vnd.jupyter.widget-view+json": {
       "model_id": "8550bf68c9c84131b31b6abc28c9c911",
       "version_major": 2,
       "version_minor": 0
      },
      "text/plain": [
       "epoch 8:   0%|          | 0/4511 [00:00<?, ?it/s]"
      ]
     },
     "metadata": {},
     "output_type": "display_data"
    },
    {
     "name": "stdout",
     "output_type": "stream",
     "text": [
      "Adjusting learning rate of group 0 to 5.0000e-04.\n",
      "loss is: 1.8325\n",
      "val loss is: 1.8339\n"
     ]
    },
    {
     "data": {
      "application/vnd.jupyter.widget-view+json": {
       "model_id": "860a8b26b8464179b142762f2ef3a05a",
       "version_major": 2,
       "version_minor": 0
      },
      "text/plain": [
       "epoch 9:   0%|          | 0/4511 [00:00<?, ?it/s]"
      ]
     },
     "metadata": {},
     "output_type": "display_data"
    },
    {
     "name": "stdout",
     "output_type": "stream",
     "text": [
      "Adjusting learning rate of group 0 to 2.5000e-04.\n",
      "loss is: 1.8221\n",
      "val loss is: 1.8244\n"
     ]
    },
    {
     "data": {
      "application/vnd.jupyter.widget-view+json": {
       "model_id": "4bc4c4216ef847deb6a28bd44840de82",
       "version_major": 2,
       "version_minor": 0
      },
      "text/plain": [
       "epoch 10:   0%|          | 0/4511 [00:00<?, ?it/s]"
      ]
     },
     "metadata": {},
     "output_type": "display_data"
    },
    {
     "name": "stdout",
     "output_type": "stream",
     "text": [
      "Adjusting learning rate of group 0 to 2.5000e-04.\n",
      "loss is: 1.8100\n",
      "val loss is: 1.8142\n"
     ]
    },
    {
     "data": {
      "application/vnd.jupyter.widget-view+json": {
       "model_id": "e49577726d4c4363b3e383682ab28681",
       "version_major": 2,
       "version_minor": 0
      },
      "text/plain": [
       "epoch 11:   0%|          | 0/4511 [00:00<?, ?it/s]"
      ]
     },
     "metadata": {},
     "output_type": "display_data"
    },
    {
     "name": "stdout",
     "output_type": "stream",
     "text": [
      "Adjusting learning rate of group 0 to 2.5000e-04.\n",
      "loss is: 1.8052\n",
      "val loss is: 1.8096\n"
     ]
    },
    {
     "data": {
      "application/vnd.jupyter.widget-view+json": {
       "model_id": "49993c5cd787465797ad68e3f2d05940",
       "version_major": 2,
       "version_minor": 0
      },
      "text/plain": [
       "epoch 12:   0%|          | 0/4511 [00:00<?, ?it/s]"
      ]
     },
     "metadata": {},
     "output_type": "display_data"
    },
    {
     "name": "stdout",
     "output_type": "stream",
     "text": [
      "Adjusting learning rate of group 0 to 2.5000e-04.\n",
      "loss is: 1.8007\n",
      "val loss is: 1.8053\n"
     ]
    },
    {
     "data": {
      "application/vnd.jupyter.widget-view+json": {
       "model_id": "c15cd3e1b4af4030b932fa16cb91b846",
       "version_major": 2,
       "version_minor": 0
      },
      "text/plain": [
       "epoch 13:   0%|          | 0/4511 [00:00<?, ?it/s]"
      ]
     },
     "metadata": {},
     "output_type": "display_data"
    },
    {
     "name": "stdout",
     "output_type": "stream",
     "text": [
      "Adjusting learning rate of group 0 to 2.5000e-04.\n",
      "loss is: 1.7963\n",
      "val loss is: 1.8012\n"
     ]
    },
    {
     "data": {
      "application/vnd.jupyter.widget-view+json": {
       "model_id": "4889badda53a416e984a6b1d01868f51",
       "version_major": 2,
       "version_minor": 0
      },
      "text/plain": [
       "epoch 14:   0%|          | 0/4511 [00:00<?, ?it/s]"
      ]
     },
     "metadata": {},
     "output_type": "display_data"
    },
    {
     "name": "stdout",
     "output_type": "stream",
     "text": [
      "Adjusting learning rate of group 0 to 1.2500e-04.\n",
      "loss is: 1.7920\n",
      "val loss is: 1.7972\n"
     ]
    },
    {
     "data": {
      "application/vnd.jupyter.widget-view+json": {
       "model_id": "4bb58fb4d64d48d8903fe6d46e2105f0",
       "version_major": 2,
       "version_minor": 0
      },
      "text/plain": [
       "epoch 15:   0%|          | 0/4511 [00:00<?, ?it/s]"
      ]
     },
     "metadata": {},
     "output_type": "display_data"
    },
    {
     "name": "stdout",
     "output_type": "stream",
     "text": [
      "Adjusting learning rate of group 0 to 1.2500e-04.\n",
      "loss is: 1.7866\n",
      "val loss is: 1.7926\n"
     ]
    },
    {
     "data": {
      "application/vnd.jupyter.widget-view+json": {
       "model_id": "a396dcd4b0e34b0cbc05a32effe79e94",
       "version_major": 2,
       "version_minor": 0
      },
      "text/plain": [
       "epoch 16:   0%|          | 0/4511 [00:00<?, ?it/s]"
      ]
     },
     "metadata": {},
     "output_type": "display_data"
    },
    {
     "name": "stdout",
     "output_type": "stream",
     "text": [
      "Adjusting learning rate of group 0 to 1.2500e-04.\n",
      "loss is: 1.7845\n",
      "val loss is: 1.7907\n"
     ]
    },
    {
     "data": {
      "application/vnd.jupyter.widget-view+json": {
       "model_id": "c459f569ac5a46de887a35505f6a889f",
       "version_major": 2,
       "version_minor": 0
      },
      "text/plain": [
       "epoch 17:   0%|          | 0/4511 [00:00<?, ?it/s]"
      ]
     },
     "metadata": {},
     "output_type": "display_data"
    },
    {
     "name": "stdout",
     "output_type": "stream",
     "text": [
      "Adjusting learning rate of group 0 to 1.2500e-04.\n",
      "loss is: 1.7825\n",
      "val loss is: 1.7887\n"
     ]
    },
    {
     "data": {
      "application/vnd.jupyter.widget-view+json": {
       "model_id": "5d9387e4b10c4101920d2cedd0d58a88",
       "version_major": 2,
       "version_minor": 0
      },
      "text/plain": [
       "epoch 18:   0%|          | 0/4511 [00:00<?, ?it/s]"
      ]
     },
     "metadata": {},
     "output_type": "display_data"
    },
    {
     "name": "stdout",
     "output_type": "stream",
     "text": [
      "Adjusting learning rate of group 0 to 1.2500e-04.\n",
      "loss is: 1.7805\n",
      "val loss is: 1.7869\n"
     ]
    },
    {
     "data": {
      "application/vnd.jupyter.widget-view+json": {
       "model_id": "715891902164467fa79859b9bec2ccab",
       "version_major": 2,
       "version_minor": 0
      },
      "text/plain": [
       "epoch 19:   0%|          | 0/4511 [00:00<?, ?it/s]"
      ]
     },
     "metadata": {},
     "output_type": "display_data"
    },
    {
     "name": "stdout",
     "output_type": "stream",
     "text": [
      "Adjusting learning rate of group 0 to 6.2500e-05.\n",
      "loss is: 1.7786\n",
      "val loss is: 1.7850\n"
     ]
    },
    {
     "data": {
      "application/vnd.jupyter.widget-view+json": {
       "model_id": "250890b0ec074ea2a9c2eddd2401159c",
       "version_major": 2,
       "version_minor": 0
      },
      "text/plain": [
       "epoch 20:   0%|          | 0/4511 [00:00<?, ?it/s]"
      ]
     },
     "metadata": {},
     "output_type": "display_data"
    },
    {
     "name": "stdout",
     "output_type": "stream",
     "text": [
      "Adjusting learning rate of group 0 to 6.2500e-05.\n",
      "loss is: 1.7760\n",
      "val loss is: 1.7829\n"
     ]
    },
    {
     "data": {
      "application/vnd.jupyter.widget-view+json": {
       "model_id": "4ce1e133d0924d96b4a71f849ca863ee",
       "version_major": 2,
       "version_minor": 0
      },
      "text/plain": [
       "epoch 21:   0%|          | 0/4511 [00:00<?, ?it/s]"
      ]
     },
     "metadata": {},
     "output_type": "display_data"
    },
    {
     "name": "stdout",
     "output_type": "stream",
     "text": [
      "Adjusting learning rate of group 0 to 6.2500e-05.\n",
      "loss is: 1.7750\n",
      "val loss is: 1.7820\n"
     ]
    },
    {
     "data": {
      "application/vnd.jupyter.widget-view+json": {
       "model_id": "578e932eb23a4fdc9640a6e3f2e2ed6f",
       "version_major": 2,
       "version_minor": 0
      },
      "text/plain": [
       "epoch 22:   0%|          | 0/4511 [00:00<?, ?it/s]"
      ]
     },
     "metadata": {},
     "output_type": "display_data"
    },
    {
     "name": "stdout",
     "output_type": "stream",
     "text": [
      "Adjusting learning rate of group 0 to 6.2500e-05.\n",
      "loss is: 1.7740\n",
      "val loss is: 1.7811\n"
     ]
    },
    {
     "data": {
      "application/vnd.jupyter.widget-view+json": {
       "model_id": "01a529bff4f241b694942f2519f16c0d",
       "version_major": 2,
       "version_minor": 0
      },
      "text/plain": [
       "epoch 23:   0%|          | 0/4511 [00:00<?, ?it/s]"
      ]
     },
     "metadata": {},
     "output_type": "display_data"
    },
    {
     "name": "stdout",
     "output_type": "stream",
     "text": [
      "Adjusting learning rate of group 0 to 6.2500e-05.\n",
      "loss is: 1.7731\n",
      "val loss is: 1.7803\n"
     ]
    },
    {
     "data": {
      "application/vnd.jupyter.widget-view+json": {
       "model_id": "1e9ea4ed8ebf42dd9b2a7e08f346f76c",
       "version_major": 2,
       "version_minor": 0
      },
      "text/plain": [
       "epoch 24:   0%|          | 0/4511 [00:00<?, ?it/s]"
      ]
     },
     "metadata": {},
     "output_type": "display_data"
    },
    {
     "name": "stdout",
     "output_type": "stream",
     "text": [
      "Adjusting learning rate of group 0 to 3.1250e-05.\n",
      "loss is: 1.7722\n",
      "val loss is: 1.7794\n"
     ]
    },
    {
     "data": {
      "application/vnd.jupyter.widget-view+json": {
       "model_id": "710f4cd38d1649e58d6555e7b6607254",
       "version_major": 2,
       "version_minor": 0
      },
      "text/plain": [
       "epoch 25:   0%|          | 0/4511 [00:00<?, ?it/s]"
      ]
     },
     "metadata": {},
     "output_type": "display_data"
    },
    {
     "name": "stdout",
     "output_type": "stream",
     "text": [
      "Adjusting learning rate of group 0 to 3.1250e-05.\n",
      "loss is: 1.7709\n",
      "val loss is: 1.7784\n"
     ]
    },
    {
     "data": {
      "application/vnd.jupyter.widget-view+json": {
       "model_id": "bb92bd589d4842219016c6ffb5f2a8be",
       "version_major": 2,
       "version_minor": 0
      },
      "text/plain": [
       "epoch 26:   0%|          | 0/4511 [00:00<?, ?it/s]"
      ]
     },
     "metadata": {},
     "output_type": "display_data"
    },
    {
     "name": "stdout",
     "output_type": "stream",
     "text": [
      "Adjusting learning rate of group 0 to 3.1250e-05.\n",
      "loss is: 1.7704\n",
      "val loss is: 1.7780\n"
     ]
    },
    {
     "data": {
      "application/vnd.jupyter.widget-view+json": {
       "model_id": "9affafad7eab4464844135ec0eea640c",
       "version_major": 2,
       "version_minor": 0
      },
      "text/plain": [
       "epoch 27:   0%|          | 0/4511 [00:00<?, ?it/s]"
      ]
     },
     "metadata": {},
     "output_type": "display_data"
    },
    {
     "name": "stdout",
     "output_type": "stream",
     "text": [
      "Adjusting learning rate of group 0 to 3.1250e-05.\n",
      "loss is: 1.7700\n",
      "val loss is: 1.7775\n"
     ]
    },
    {
     "data": {
      "application/vnd.jupyter.widget-view+json": {
       "model_id": "6b1410cfa2594a449d147af33371ec1d",
       "version_major": 2,
       "version_minor": 0
      },
      "text/plain": [
       "epoch 28:   0%|          | 0/4511 [00:00<?, ?it/s]"
      ]
     },
     "metadata": {},
     "output_type": "display_data"
    },
    {
     "name": "stdout",
     "output_type": "stream",
     "text": [
      "Adjusting learning rate of group 0 to 3.1250e-05.\n",
      "loss is: 1.7695\n",
      "val loss is: 1.7771\n"
     ]
    },
    {
     "data": {
      "application/vnd.jupyter.widget-view+json": {
       "model_id": "1b751e0f020349ba94777eddad8434fd",
       "version_major": 2,
       "version_minor": 0
      },
      "text/plain": [
       "epoch 29:   0%|          | 0/4511 [00:00<?, ?it/s]"
      ]
     },
     "metadata": {},
     "output_type": "display_data"
    },
    {
     "name": "stdout",
     "output_type": "stream",
     "text": [
      "Adjusting learning rate of group 0 to 1.5625e-05.\n",
      "loss is: 1.7691\n",
      "val loss is: 1.7767\n"
     ]
    },
    {
     "data": {
      "application/vnd.jupyter.widget-view+json": {
       "model_id": "af487f947c164044a80a85eff0df74d1",
       "version_major": 2,
       "version_minor": 0
      },
      "text/plain": [
       "epoch 30:   0%|          | 0/4511 [00:00<?, ?it/s]"
      ]
     },
     "metadata": {},
     "output_type": "display_data"
    },
    {
     "name": "stdout",
     "output_type": "stream",
     "text": [
      "Adjusting learning rate of group 0 to 1.5625e-05.\n",
      "loss is: 1.7684\n",
      "val loss is: 1.7762\n"
     ]
    },
    {
     "data": {
      "application/vnd.jupyter.widget-view+json": {
       "model_id": "d5d61415662043c89d5d5903412c96b3",
       "version_major": 2,
       "version_minor": 0
      },
      "text/plain": [
       "epoch 31:   0%|          | 0/4511 [00:00<?, ?it/s]"
      ]
     },
     "metadata": {},
     "output_type": "display_data"
    },
    {
     "name": "stdout",
     "output_type": "stream",
     "text": [
      "Adjusting learning rate of group 0 to 1.5625e-05.\n",
      "loss is: 1.7682\n",
      "val loss is: 1.7760\n"
     ]
    },
    {
     "data": {
      "application/vnd.jupyter.widget-view+json": {
       "model_id": "17c6899059ac4dfa9acf5669fbfdf9ea",
       "version_major": 2,
       "version_minor": 0
      },
      "text/plain": [
       "epoch 32:   0%|          | 0/4511 [00:00<?, ?it/s]"
      ]
     },
     "metadata": {},
     "output_type": "display_data"
    },
    {
     "name": "stdout",
     "output_type": "stream",
     "text": [
      "Adjusting learning rate of group 0 to 1.5625e-05.\n",
      "loss is: 1.7680\n",
      "val loss is: 1.7757\n"
     ]
    },
    {
     "data": {
      "application/vnd.jupyter.widget-view+json": {
       "model_id": "3a6d3312e5cd4754a8d582fceca62793",
       "version_major": 2,
       "version_minor": 0
      },
      "text/plain": [
       "epoch 33:   0%|          | 0/4511 [00:00<?, ?it/s]"
      ]
     },
     "metadata": {},
     "output_type": "display_data"
    },
    {
     "name": "stdout",
     "output_type": "stream",
     "text": [
      "Adjusting learning rate of group 0 to 1.5625e-05.\n",
      "loss is: 1.7677\n",
      "val loss is: 1.7755\n"
     ]
    },
    {
     "data": {
      "application/vnd.jupyter.widget-view+json": {
       "model_id": "d10b1b5ed342423aa67a6e8fa46fdefb",
       "version_major": 2,
       "version_minor": 0
      },
      "text/plain": [
       "epoch 34:   0%|          | 0/4511 [00:00<?, ?it/s]"
      ]
     },
     "metadata": {},
     "output_type": "display_data"
    },
    {
     "name": "stdout",
     "output_type": "stream",
     "text": [
      "Adjusting learning rate of group 0 to 7.8125e-06.\n",
      "loss is: 1.7675\n",
      "val loss is: 1.7753\n"
     ]
    },
    {
     "data": {
      "application/vnd.jupyter.widget-view+json": {
       "model_id": "c965ca99f074470f9f350d3c3b505078",
       "version_major": 2,
       "version_minor": 0
      },
      "text/plain": [
       "epoch 35:   0%|          | 0/4511 [00:00<?, ?it/s]"
      ]
     },
     "metadata": {},
     "output_type": "display_data"
    },
    {
     "name": "stdout",
     "output_type": "stream",
     "text": [
      "Adjusting learning rate of group 0 to 7.8125e-06.\n",
      "loss is: 1.7672\n",
      "val loss is: 1.7751\n"
     ]
    },
    {
     "data": {
      "application/vnd.jupyter.widget-view+json": {
       "model_id": "a148076e378a411382fd6371f839fd33",
       "version_major": 2,
       "version_minor": 0
      },
      "text/plain": [
       "epoch 36:   0%|          | 0/4511 [00:00<?, ?it/s]"
      ]
     },
     "metadata": {},
     "output_type": "display_data"
    },
    {
     "name": "stdout",
     "output_type": "stream",
     "text": [
      "Adjusting learning rate of group 0 to 7.8125e-06.\n",
      "loss is: 1.7671\n",
      "val loss is: 1.7750\n"
     ]
    },
    {
     "data": {
      "application/vnd.jupyter.widget-view+json": {
       "model_id": "7cc5884467ba440ea807d8ac08677e77",
       "version_major": 2,
       "version_minor": 0
      },
      "text/plain": [
       "epoch 37:   0%|          | 0/4511 [00:00<?, ?it/s]"
      ]
     },
     "metadata": {},
     "output_type": "display_data"
    },
    {
     "name": "stdout",
     "output_type": "stream",
     "text": [
      "Adjusting learning rate of group 0 to 7.8125e-06.\n",
      "loss is: 1.7670\n",
      "val loss is: 1.7748\n"
     ]
    },
    {
     "data": {
      "application/vnd.jupyter.widget-view+json": {
       "model_id": "46c931647c154c748b99befda280bd19",
       "version_major": 2,
       "version_minor": 0
      },
      "text/plain": [
       "epoch 38:   0%|          | 0/4511 [00:00<?, ?it/s]"
      ]
     },
     "metadata": {},
     "output_type": "display_data"
    },
    {
     "name": "stdout",
     "output_type": "stream",
     "text": [
      "Adjusting learning rate of group 0 to 7.8125e-06.\n",
      "loss is: 1.7668\n",
      "val loss is: 1.7747\n"
     ]
    },
    {
     "data": {
      "application/vnd.jupyter.widget-view+json": {
       "model_id": "a8506af8dec348f5a602f1d39ffaaa06",
       "version_major": 2,
       "version_minor": 0
      },
      "text/plain": [
       "epoch 39:   0%|          | 0/4511 [00:00<?, ?it/s]"
      ]
     },
     "metadata": {},
     "output_type": "display_data"
    },
    {
     "name": "stdout",
     "output_type": "stream",
     "text": [
      "Adjusting learning rate of group 0 to 3.9063e-06.\n",
      "loss is: 1.7667\n",
      "val loss is: 1.7746\n"
     ]
    },
    {
     "data": {
      "application/vnd.jupyter.widget-view+json": {
       "model_id": "ef20eee1186e43e7be4729e73871ec22",
       "version_major": 2,
       "version_minor": 0
      },
      "text/plain": [
       "epoch 40:   0%|          | 0/4511 [00:00<?, ?it/s]"
      ]
     },
     "metadata": {},
     "output_type": "display_data"
    },
    {
     "name": "stdout",
     "output_type": "stream",
     "text": [
      "Adjusting learning rate of group 0 to 3.9063e-06.\n",
      "loss is: 1.7666\n",
      "val loss is: 1.7745\n"
     ]
    },
    {
     "data": {
      "application/vnd.jupyter.widget-view+json": {
       "model_id": "9c7ed495058d4b99857005cd130d286c",
       "version_major": 2,
       "version_minor": 0
      },
      "text/plain": [
       "epoch 41:   0%|          | 0/4511 [00:00<?, ?it/s]"
      ]
     },
     "metadata": {},
     "output_type": "display_data"
    },
    {
     "name": "stdout",
     "output_type": "stream",
     "text": [
      "Adjusting learning rate of group 0 to 3.9063e-06.\n",
      "loss is: 1.7665\n",
      "val loss is: 1.7745\n"
     ]
    },
    {
     "data": {
      "application/vnd.jupyter.widget-view+json": {
       "model_id": "3f15e98791ef49218e3facad11208295",
       "version_major": 2,
       "version_minor": 0
      },
      "text/plain": [
       "epoch 42:   0%|          | 0/4511 [00:00<?, ?it/s]"
      ]
     },
     "metadata": {},
     "output_type": "display_data"
    },
    {
     "name": "stdout",
     "output_type": "stream",
     "text": [
      "Adjusting learning rate of group 0 to 3.9063e-06.\n",
      "loss is: 1.7664\n",
      "val loss is: 1.7744\n"
     ]
    },
    {
     "data": {
      "application/vnd.jupyter.widget-view+json": {
       "model_id": "657a6bb71ef443709a7b4d10c43d3110",
       "version_major": 2,
       "version_minor": 0
      },
      "text/plain": [
       "epoch 43:   0%|          | 0/4511 [00:00<?, ?it/s]"
      ]
     },
     "metadata": {},
     "output_type": "display_data"
    },
    {
     "name": "stdout",
     "output_type": "stream",
     "text": [
      "Adjusting learning rate of group 0 to 3.9063e-06.\n",
      "loss is: 1.7664\n",
      "val loss is: 1.7743\n"
     ]
    },
    {
     "data": {
      "application/vnd.jupyter.widget-view+json": {
       "model_id": "deac3e6069614883a1f54a9ca951fb70",
       "version_major": 2,
       "version_minor": 0
      },
      "text/plain": [
       "epoch 44:   0%|          | 0/4511 [00:00<?, ?it/s]"
      ]
     },
     "metadata": {},
     "output_type": "display_data"
    },
    {
     "name": "stdout",
     "output_type": "stream",
     "text": [
      "Adjusting learning rate of group 0 to 1.9531e-06.\n",
      "loss is: 1.7663\n",
      "val loss is: 1.7743\n"
     ]
    },
    {
     "data": {
      "application/vnd.jupyter.widget-view+json": {
       "model_id": "259d850ded914155891287f5bc46cf9a",
       "version_major": 2,
       "version_minor": 0
      },
      "text/plain": [
       "epoch 45:   0%|          | 0/4511 [00:00<?, ?it/s]"
      ]
     },
     "metadata": {},
     "output_type": "display_data"
    },
    {
     "name": "stdout",
     "output_type": "stream",
     "text": [
      "Adjusting learning rate of group 0 to 1.9531e-06.\n",
      "loss is: 1.7663\n",
      "val loss is: 1.7742\n"
     ]
    },
    {
     "data": {
      "application/vnd.jupyter.widget-view+json": {
       "model_id": "8919d7905eca42f48c2484124c6a0440",
       "version_major": 2,
       "version_minor": 0
      },
      "text/plain": [
       "epoch 46:   0%|          | 0/4511 [00:00<?, ?it/s]"
      ]
     },
     "metadata": {},
     "output_type": "display_data"
    },
    {
     "name": "stdout",
     "output_type": "stream",
     "text": [
      "Adjusting learning rate of group 0 to 1.9531e-06.\n",
      "loss is: 1.7662\n",
      "val loss is: 1.7742\n"
     ]
    },
    {
     "data": {
      "application/vnd.jupyter.widget-view+json": {
       "model_id": "b7d3ab30a76e436e9f80cd0f30f24495",
       "version_major": 2,
       "version_minor": 0
      },
      "text/plain": [
       "epoch 47:   0%|          | 0/4511 [00:00<?, ?it/s]"
      ]
     },
     "metadata": {},
     "output_type": "display_data"
    },
    {
     "name": "stdout",
     "output_type": "stream",
     "text": [
      "Adjusting learning rate of group 0 to 1.9531e-06.\n",
      "loss is: 1.7662\n",
      "val loss is: 1.7742\n"
     ]
    },
    {
     "data": {
      "application/vnd.jupyter.widget-view+json": {
       "model_id": "8e4281d523fb4a25a4636b49cdcb3439",
       "version_major": 2,
       "version_minor": 0
      },
      "text/plain": [
       "epoch 48:   0%|          | 0/4511 [00:00<?, ?it/s]"
      ]
     },
     "metadata": {},
     "output_type": "display_data"
    },
    {
     "name": "stdout",
     "output_type": "stream",
     "text": [
      "Adjusting learning rate of group 0 to 1.9531e-06.\n",
      "loss is: 1.7662\n",
      "val loss is: 1.7741\n"
     ]
    },
    {
     "data": {
      "application/vnd.jupyter.widget-view+json": {
       "model_id": "2f25fabf9eb342dfbdb119527c760bb1",
       "version_major": 2,
       "version_minor": 0
      },
      "text/plain": [
       "epoch 49:   0%|          | 0/4511 [00:00<?, ?it/s]"
      ]
     },
     "metadata": {},
     "output_type": "display_data"
    },
    {
     "name": "stdout",
     "output_type": "stream",
     "text": [
      "Adjusting learning rate of group 0 to 9.7656e-07.\n",
      "loss is: 1.7661\n",
      "val loss is: 1.7741\n",
      "Time is: 4 min 26 sec\n"
     ]
    }
   ],
   "source": [
    "device = torch.device('cuda' if torch.cuda.is_available() else 'cpu')\n",
    "\n",
    "# load data:\n",
    "data_set = CommonDataSet(data_list_context, device)\n",
    "\n",
    "batch_size = 256\n",
    "\n",
    "# training network model:\n",
    "start = time.time() \n",
    "newnnet_context_sgd = MyNewNNet(input_dim=(data_list_context[0].shape[0] - 1),\n",
    "            output_dim=len(phones_dict.keys())).to(device)\n",
    "criterion = nn.CrossEntropyLoss()\n",
    "optimizer = torch.optim.SGD(newnnet_context_sgd.parameters(), lr=0.001)\n",
    "\n",
    "lr_scheduler = torch.optim.lr_scheduler.StepLR(optimizer, step_size=5, gamma=0.5, verbose=True)\n",
    "\n",
    "loss_list = []\n",
    "val_loss = []\n",
    "\n",
    "print('TRAINIG STARTED...')\n",
    "for epoch in range(50):\n",
    "    newnnet_context_sgd.train()\n",
    "    running_loss = 0\n",
    "    counter = 0\n",
    "    for batch_xs, batch_ys in tqdm(data_set.next_batch(batch_size), \\\n",
    "                                   total=data_set.num_batches(batch_size), \\\n",
    "                                   desc='epoch {}'.format(epoch)):\n",
    "        optimizer.zero_grad()\n",
    "        output = newnnet_context_sgd(batch_xs)\n",
    "\n",
    "        loss = criterion(output, batch_ys)\n",
    "        loss.backward()\n",
    "        optimizer.step()\n",
    "        \n",
    "        running_loss += loss.item()\n",
    "        counter += 1\n",
    "    \n",
    "    with torch.no_grad():\n",
    "        newnnet_context_sgd.eval()\n",
    "        val_xs = torch.tensor(data_set.valid[:, :-1], dtype=torch.float32).to(device)\n",
    "        val_ys = torch.tensor(data_set.valid[:,-1].ravel(), dtype=torch.int64).to(device)\n",
    "        val_out = newnnet_context_sgd(val_xs)\n",
    "        val_l = criterion(val_out, val_ys)\n",
    "        val_loss.append(val_l.item())\n",
    "        \n",
    "    lr_scheduler.step()\n",
    "    print('loss is: {:.4f}'.format((running_loss / counter)))\n",
    "    loss_list.append(running_loss / counter)\n",
    "    print('val loss is: {:.4f}'.format(val_l))\n",
    "    \n",
    "    \n",
    "end = time.time()\n",
    "minutes = (end - start) // 60\n",
    "seconds = np.mod((end - start), 60)\n",
    "print('Time is: {} min {} sec'.format(int(minutes), int(seconds)))"
   ]
  },
  {
   "cell_type": "code",
   "execution_count": 134,
   "metadata": {},
   "outputs": [
    {
     "data": {
      "image/png": "[encoded data removed]",
      "text/plain": [
       "<Figure size 1080x360 with 1 Axes>"
      ]
     },
     "metadata": {
      "needs_background": "light"
     },
     "output_type": "display_data"
    }
   ],
   "source": [
    "plt.rcParams['figure.figsize'] = (15.0, 5.0)\n",
    "plt.plot(loss_list, label='train loss')\n",
    "plt.plot(val_loss, label='val loss')\n",
    "plt.title('Loss per epoch')\n",
    "plt.ylabel('loss')\n",
    "plt.xlabel('epoch')\n",
    "plt.grid()\n",
    "plt.legend()\n",
    "plt.show()"
   ]
  },
  {
   "cell_type": "code",
   "execution_count": 139,
   "metadata": {},
   "outputs": [
    {
     "data": {
      "application/vnd.jupyter.widget-view+json": {
       "model_id": "969a35e5fe3a4b64b45d6ec5b2474dd7",
       "version_major": 2,
       "version_minor": 0
      },
      "text/plain": [
       "  0%|          | 0/128315 [00:00<?, ?it/s]"
      ]
     },
     "metadata": {},
     "output_type": "display_data"
    },
    {
     "name": "stdout",
     "output_type": "stream",
     "text": [
      "Total frame accuracy is 0.492\n",
      "\n"
     ]
    }
   ],
   "source": [
    "class_correct = [0 for x in range(len(phones_dict.keys()))]\n",
    "class_total = [0 for x in range(len(phones_dict.keys()))]\n",
    "\n",
    "newnnet_context_sgd.cpu()\n",
    "\n",
    "with torch.no_grad():\n",
    "    correct_cnt = 0\n",
    "    for ftr, true_label in tqdm(zip(data_set.valid[:, :-1], data_set.valid[:, -1]), total=data_set.valid.shape[0]):\n",
    "        ftr = torch.from_numpy(ftr).float()\n",
    "        output = newnnet_context_sgd.forward(ftr)\n",
    "        predicted_label = output.argmax().item()\n",
    "        correct_cnt += (predicted_label == true_label)\n",
    "        class_correct[predicted_label] += (predicted_label == int(true_label))\n",
    "        class_total[int(true_label)] += 1\n",
    "        \n",
    "print(\"Total frame accuracy is {:.3f}\\n\".format(correct_cnt / data_set.valid.shape[0]))"
   ]
  },
  {
   "cell_type": "markdown",
   "metadata": {},
   "source": [
    "## yes_no"
   ]
  },
  {
   "cell_type": "code",
   "execution_count": 140,
   "metadata": {},
   "outputs": [
    {
     "data": {
      "application/vnd.jupyter.widget-view+json": {
       "model_id": "4898416a9104408bb3d0d4f12ad40076",
       "version_major": 2,
       "version_minor": 0
      },
      "text/plain": [
       "  0%|          | 0/10 [00:00<?, ?it/s]"
      ]
     },
     "metadata": {},
     "output_type": "display_data"
    },
    {
     "name": "stdout",
     "output_type": "stream",
     "text": [
      "Beam = 1\n",
      "\n",
      "result: yes_ff63ab0b_nohash_0       ==> YES\n",
      "result: yes_fe1916ba_nohash_0       ==> YES\n",
      "result: yes_fc94edb0_nohash_0       ==> YES\n",
      "result: no_41474817_nohash_0        ==> NO\n",
      "result: yes_39a6b995_nohash_0       ==> YES\n",
      "result: yes_39a12648_nohash_0       ==> YES\n",
      "result: no_4abb2400_nohash_0        ==> NO\n",
      "result: no_ad89eb1e_nohash_0        ==> YES\n",
      "result: no_49af4432_nohash_0        ==> YES\n",
      "result: no_4394fc7c_nohash_0        ==> NO\n",
      "------------------------------------------------------------\n",
      "WER is: 20.00%\n",
      "Total time is: 0.34 sec\n",
      "------------------------------------------------------------\n",
      "\n",
      "##################################################\n",
      "\n",
      "Beam = 3\n",
      "\n",
      "result: yes_ff63ab0b_nohash_0       ==> YES\n",
      "result: yes_fe1916ba_nohash_0       ==> YES\n",
      "result: yes_fc94edb0_nohash_0       ==> YES\n",
      "result: no_41474817_nohash_0        ==> NO\n",
      "result: yes_39a6b995_nohash_0       ==> YES\n",
      "result: yes_39a12648_nohash_0       ==> YES\n",
      "result: no_4abb2400_nohash_0        ==> NO\n",
      "result: no_ad89eb1e_nohash_0        ==> YES\n",
      "result: no_49af4432_nohash_0        ==> YES\n",
      "result: no_4394fc7c_nohash_0        ==> YES\n",
      "------------------------------------------------------------\n",
      "WER is: 30.00%\n",
      "Total time is: 0.31 sec\n",
      "------------------------------------------------------------\n",
      "\n",
      "##################################################\n",
      "\n",
      "Beam = 5\n",
      "\n",
      "result: yes_ff63ab0b_nohash_0       ==> YES\n",
      "result: yes_fe1916ba_nohash_0       ==> YES\n",
      "result: yes_fc94edb0_nohash_0       ==> YES\n",
      "result: no_41474817_nohash_0        ==> NO\n",
      "result: yes_39a6b995_nohash_0       ==> YES\n",
      "result: yes_39a12648_nohash_0       ==> YES\n",
      "result: no_4abb2400_nohash_0        ==> NO\n",
      "result: no_ad89eb1e_nohash_0        ==> YES\n",
      "result: no_49af4432_nohash_0        ==> YES\n",
      "result: no_4394fc7c_nohash_0        ==> YES\n",
      "------------------------------------------------------------\n",
      "WER is: 30.00%\n",
      "Total time is: 0.43 sec\n",
      "------------------------------------------------------------\n",
      "\n",
      "##################################################\n",
      "\n",
      "Beam = 10\n",
      "\n",
      "result: yes_ff63ab0b_nohash_0       ==> YES\n",
      "result: yes_fe1916ba_nohash_0       ==> YES\n",
      "result: yes_fc94edb0_nohash_0       ==> YES\n",
      "result: no_41474817_nohash_0        ==> YES\n",
      "result: yes_39a6b995_nohash_0       ==> YES\n",
      "result: yes_39a12648_nohash_0       ==> YES\n",
      "result: no_4abb2400_nohash_0        ==> NO\n",
      "result: no_ad89eb1e_nohash_0        ==> NO\n",
      "result: no_49af4432_nohash_0        ==> NO\n",
      "result: no_4394fc7c_nohash_0        ==> YES\n",
      "------------------------------------------------------------\n",
      "WER is: 20.00%\n",
      "Total time is: 0.62 sec\n",
      "------------------------------------------------------------\n",
      "\n",
      "##################################################\n",
      "\n",
      "Beam = 20\n",
      "\n",
      "result: yes_ff63ab0b_nohash_0       ==> YES\n",
      "result: yes_fe1916ba_nohash_0       ==> YES\n",
      "result: yes_fc94edb0_nohash_0       ==> YES\n",
      "result: no_41474817_nohash_0        ==> YES\n",
      "result: yes_39a6b995_nohash_0       ==> YES\n",
      "result: yes_39a12648_nohash_0       ==> YES\n",
      "result: no_4abb2400_nohash_0        ==> NO\n",
      "result: no_ad89eb1e_nohash_0        ==> NO\n",
      "result: no_49af4432_nohash_0        ==> NO\n",
      "result: no_4394fc7c_nohash_0        ==> YES\n",
      "------------------------------------------------------------\n",
      "WER is: 20.00%\n",
      "Total time is: 0.84 sec\n",
      "------------------------------------------------------------\n",
      "\n",
      "##################################################\n",
      "\n"
     ]
    }
   ],
   "source": [
    "lexicon_file = 'lab2/data/lexicon_yes_no.txt'\n",
    "lexicon_dict = load_lexicon_dict(lexicon_file)\n",
    "graph = load_graph(lexicon_dict, phones_dict, priors_list)\n",
    "records_data_dict = load_data_dict(\"lab2/data/yes_no/records\")\n",
    "\n",
    "for beam in [1, 3, 5, 10, 20]:\n",
    "    print(f'Beam = {beam}\\n')\n",
    "    run_recognizer(records_data_dict, graph, newnnet_context_sgd.cpu(), side_context, beam_threshold=beam)\n",
    "    print()\n",
    "    print('##################################################')\n",
    "    print()"
   ]
  },
  {
   "cell_type": "code",
   "execution_count": 136,
   "metadata": {
    "scrolled": false
   },
   "outputs": [
    {
     "data": {
      "application/vnd.jupyter.widget-view+json": {
       "model_id": "475611da60ce46969ae085630f4d5f38",
       "version_major": 2,
       "version_minor": 0
      },
      "text/plain": [
       "  0%|          | 0/20 [00:00<?, ?it/s]"
      ]
     },
     "metadata": {},
     "output_type": "display_data"
    },
    {
     "name": "stdout",
     "output_type": "stream",
     "text": [
      "beam = 1\n",
      "\n",
      "result: eight_daf230ac_nohash_0     ==> TWO\n",
      "result: eight_da584bc0_nohash_4     ==> FIVE\n",
      "result: seven_fe5c4a7a_nohash_0     ==> TWO\n",
      "result: four_fce65496_nohash_0      ==> TWO\n",
      "result: nine_ccea893d_nohash_0      ==> FOUR\n",
      "result: zero_f92e49f3_nohash_3      ==> THREE\n",
      "result: four_ffbb695d_nohash_0      ==> TWO\n",
      "result: three_feb1d305_nohash_0     ==> THREE\n",
      "result: five_ffd2ba2f_nohash_0      ==> FOUR\n",
      "result: three_fce96bac_nohash_0     ==> FIVE\n",
      "result: five_f852895b_nohash_0      ==> FIVE\n",
      "result: six_ffbb695d_nohash_0       ==> FIVE\n",
      "result: nine_fbe51750_nohash_0      ==> ONE\n",
      "result: two_fb2f3242_nohash_0       ==> THREE\n",
      "result: six_ffd2ba2f_nohash_0       ==> TWO\n",
      "result: zero_f852895b_nohash_0      ==> ONE\n",
      "result: one_fc2411fe_nohash_0       ==> ONE\n",
      "result: one_ffa76c4a_nohash_0       ==> ONE\n",
      "result: seven_fd32732a_nohash_0     ==> TWO\n",
      "result: two_fce65496_nohash_0       ==> TWO\n",
      "------------------------------------------------------------\n",
      "WER is: 75.00%\n",
      "Total time is: 1.28 sec\n",
      "------------------------------------------------------------\n",
      "\n",
      "##################################################\n",
      "\n",
      "beam = 5\n",
      "\n",
      "result: eight_daf230ac_nohash_0     ==> ONE\n",
      "result: eight_da584bc0_nohash_4     ==> FIVE\n",
      "result: seven_fe5c4a7a_nohash_0     ==> SEVEN\n",
      "result: four_fce65496_nohash_0      ==> FOUR\n",
      "result: nine_ccea893d_nohash_0      ==> ONE\n",
      "result: zero_f92e49f3_nohash_3      ==> SIX\n",
      "result: four_ffbb695d_nohash_0      ==> FOUR\n",
      "result: three_feb1d305_nohash_0     ==> THREE\n",
      "result: five_ffd2ba2f_nohash_0      ==> FOUR\n",
      "result: three_fce96bac_nohash_0     ==> FIVE\n",
      "result: five_f852895b_nohash_0      ==> FIVE\n",
      "result: six_ffbb695d_nohash_0       ==> SEVEN\n",
      "result: nine_fbe51750_nohash_0      ==> NINE\n",
      "result: two_fb2f3242_nohash_0       ==> THREE\n",
      "result: six_ffd2ba2f_nohash_0       ==> SIX\n",
      "result: zero_f852895b_nohash_0      ==> THREE\n",
      "result: one_fc2411fe_nohash_0       ==> ONE\n",
      "result: one_ffa76c4a_nohash_0       ==> ONE\n",
      "result: seven_fd32732a_nohash_0     ==> SEVEN\n",
      "result: two_fce65496_nohash_0       ==> TWO\n",
      "------------------------------------------------------------\n",
      "WER is: 45.00%\n",
      "Total time is: 2.66 sec\n",
      "------------------------------------------------------------\n",
      "\n",
      "##################################################\n",
      "\n",
      "beam = 10\n",
      "\n",
      "result: eight_daf230ac_nohash_0     ==> TWO\n",
      "result: eight_da584bc0_nohash_4     ==> FIVE\n",
      "result: seven_fe5c4a7a_nohash_0     ==> SEVEN\n",
      "result: four_fce65496_nohash_0      ==> FOUR\n",
      "result: nine_ccea893d_nohash_0      ==> ONE\n",
      "result: zero_f92e49f3_nohash_3      ==> SIX\n",
      "result: four_ffbb695d_nohash_0      ==> FOUR\n",
      "result: three_feb1d305_nohash_0     ==> THREE\n",
      "result: five_ffd2ba2f_nohash_0      ==> FOUR\n",
      "result: three_fce96bac_nohash_0     ==> FIVE\n",
      "result: five_f852895b_nohash_0      ==> FIVE\n",
      "result: six_ffbb695d_nohash_0       ==> SIX\n",
      "result: nine_fbe51750_nohash_0      ==> NINE\n",
      "result: two_fb2f3242_nohash_0       ==> TWO\n",
      "result: six_ffd2ba2f_nohash_0       ==> SIX\n",
      "result: zero_f852895b_nohash_0      ==> THREE\n",
      "result: one_fc2411fe_nohash_0       ==> ONE\n",
      "result: one_ffa76c4a_nohash_0       ==> ONE\n",
      "result: seven_fd32732a_nohash_0     ==> SEVEN\n",
      "result: two_fce65496_nohash_0       ==> TWO\n",
      "------------------------------------------------------------\n",
      "WER is: 35.00%\n",
      "Total time is: 4.76 sec\n",
      "------------------------------------------------------------\n",
      "\n",
      "##################################################\n",
      "\n",
      "beam = 20\n",
      "\n",
      "result: eight_daf230ac_nohash_0     ==> EIGHT\n",
      "result: eight_da584bc0_nohash_4     ==> FIVE\n",
      "result: seven_fe5c4a7a_nohash_0     ==> SEVEN\n",
      "result: four_fce65496_nohash_0      ==> FOUR\n",
      "result: nine_ccea893d_nohash_0      ==> NINE\n",
      "result: zero_f92e49f3_nohash_3      ==> ZERO\n",
      "result: four_ffbb695d_nohash_0      ==> FOUR\n",
      "result: three_feb1d305_nohash_0     ==> THREE\n",
      "result: five_ffd2ba2f_nohash_0      ==> FIVE\n",
      "result: three_fce96bac_nohash_0     ==> TWO\n",
      "result: five_f852895b_nohash_0      ==> FIVE\n",
      "result: six_ffbb695d_nohash_0       ==> SIX\n",
      "result: nine_fbe51750_nohash_0      ==> NINE\n",
      "result: two_fb2f3242_nohash_0       ==> TWO\n",
      "result: six_ffd2ba2f_nohash_0       ==> SIX\n",
      "result: zero_f852895b_nohash_0      ==> ZERO\n",
      "result: one_fc2411fe_nohash_0       ==> ONE\n",
      "result: one_ffa76c4a_nohash_0       ==> FOUR\n",
      "result: seven_fd32732a_nohash_0     ==> SEVEN\n",
      "result: two_fce65496_nohash_0       ==> TWO\n",
      "------------------------------------------------------------\n",
      "WER is: 15.00%\n",
      "Total time is: 7.97 sec\n",
      "------------------------------------------------------------\n",
      "\n",
      "##################################################\n",
      "\n",
      "beam = 30\n",
      "\n",
      "result: eight_daf230ac_nohash_0     ==> EIGHT\n",
      "result: eight_da584bc0_nohash_4     ==> FIVE\n",
      "result: seven_fe5c4a7a_nohash_0     ==> SEVEN\n",
      "result: four_fce65496_nohash_0      ==> FOUR\n",
      "result: nine_ccea893d_nohash_0      ==> NINE\n",
      "result: zero_f92e49f3_nohash_3      ==> ZERO\n",
      "result: four_ffbb695d_nohash_0      ==> FOUR\n",
      "result: three_feb1d305_nohash_0     ==> THREE\n",
      "result: five_ffd2ba2f_nohash_0      ==> FIVE\n",
      "result: three_fce96bac_nohash_0     ==> THREE\n",
      "result: five_f852895b_nohash_0      ==> FIVE\n",
      "result: six_ffbb695d_nohash_0       ==> SIX\n",
      "result: nine_fbe51750_nohash_0      ==> NINE\n",
      "result: two_fb2f3242_nohash_0       ==> TWO\n",
      "result: six_ffd2ba2f_nohash_0       ==> SIX\n",
      "result: zero_f852895b_nohash_0      ==> ZERO\n",
      "result: one_fc2411fe_nohash_0       ==> ONE\n",
      "result: one_ffa76c4a_nohash_0       ==> FOUR\n",
      "result: seven_fd32732a_nohash_0     ==> SEVEN\n",
      "result: two_fce65496_nohash_0       ==> TWO\n",
      "------------------------------------------------------------\n",
      "WER is: 10.00%\n",
      "Total time is: 8.72 sec\n",
      "------------------------------------------------------------\n",
      "\n",
      "##################################################\n",
      "\n",
      "beam = 50\n",
      "\n",
      "result: eight_daf230ac_nohash_0     ==> EIGHT\n",
      "result: eight_da584bc0_nohash_4     ==> EIGHT\n",
      "result: seven_fe5c4a7a_nohash_0     ==> SEVEN\n",
      "result: four_fce65496_nohash_0      ==> FOUR\n",
      "result: nine_ccea893d_nohash_0      ==> NINE\n",
      "result: zero_f92e49f3_nohash_3      ==> ZERO\n",
      "result: four_ffbb695d_nohash_0      ==> FOUR\n",
      "result: three_feb1d305_nohash_0     ==> THREE\n",
      "result: five_ffd2ba2f_nohash_0      ==> FIVE\n",
      "result: three_fce96bac_nohash_0     ==> THREE\n",
      "result: five_f852895b_nohash_0      ==> FIVE\n",
      "result: six_ffbb695d_nohash_0       ==> SIX\n",
      "result: nine_fbe51750_nohash_0      ==> NINE\n",
      "result: two_fb2f3242_nohash_0       ==> TWO\n",
      "result: six_ffd2ba2f_nohash_0       ==> SIX\n",
      "result: zero_f852895b_nohash_0      ==> ZERO\n",
      "result: one_fc2411fe_nohash_0       ==> ONE\n",
      "result: one_ffa76c4a_nohash_0       ==> FOUR\n",
      "result: seven_fd32732a_nohash_0     ==> SEVEN\n",
      "result: two_fce65496_nohash_0       ==> TWO\n",
      "------------------------------------------------------------\n",
      "WER is: 5.00%\n",
      "Total time is: 10.42 sec\n",
      "------------------------------------------------------------\n",
      "\n",
      "##################################################\n",
      "\n"
     ]
    }
   ],
   "source": [
    "lexicon_file = 'lab2/data/lexicon_digits.txt'\n",
    "lexicon_dict = load_lexicon_dict(lexicon_file)\n",
    "graph = load_graph(lexicon_dict, phones_dict, priors_list)\n",
    "records_data_dict = load_data_dict(\"lab2/data/digits/records\")\n",
    "\n",
    "for beam in [1, 5, 10, 20, 30, 50]:\n",
    "    print(f'beam = {beam}')\n",
    "    print()\n",
    "    run_recognizer(records_data_dict, graph, newnnet_context_sgd.cpu(), side_context, beam_threshold=beam)\n",
    "    print()\n",
    "    print('##################################################')\n",
    "    print()"
   ]
  },
  {
   "cell_type": "markdown",
   "metadata": {},
   "source": [
    "# MyNNet + SGD + StepLR"
   ]
  },
  {
   "cell_type": "code",
   "execution_count": 146,
   "metadata": {},
   "outputs": [
    {
     "name": "stdout",
     "output_type": "stream",
     "text": [
      "Adjusting learning rate of group 0 to 1.0000e-03.\n",
      "TRAINIG STARTED...\n"
     ]
    },
    {
     "data": {
      "application/vnd.jupyter.widget-view+json": {
       "model_id": "d64dbc2fb9da424782bb13140d74f620",
       "version_major": 2,
       "version_minor": 0
      },
      "text/plain": [
       "epoch 0:   0%|          | 0/4511 [00:00<?, ?it/s]"
      ]
     },
     "metadata": {},
     "output_type": "display_data"
    },
    {
     "name": "stdout",
     "output_type": "stream",
     "text": [
      "Adjusting learning rate of group 0 to 1.0000e-03.\n",
      "loss is: 2.3037\n",
      "val loss is: 2.0806\n"
     ]
    },
    {
     "data": {
      "application/vnd.jupyter.widget-view+json": {
       "model_id": "6dbdba4c72fe4ebd93e707b6acacaa31",
       "version_major": 2,
       "version_minor": 0
      },
      "text/plain": [
       "epoch 1:   0%|          | 0/4511 [00:00<?, ?it/s]"
      ]
     },
     "metadata": {},
     "output_type": "display_data"
    },
    {
     "name": "stdout",
     "output_type": "stream",
     "text": [
      "Adjusting learning rate of group 0 to 1.0000e-03.\n",
      "loss is: 2.0327\n",
      "val loss is: 1.9927\n"
     ]
    },
    {
     "data": {
      "application/vnd.jupyter.widget-view+json": {
       "model_id": "f3516c93b70247f68a1afad5407a8b78",
       "version_major": 2,
       "version_minor": 0
      },
      "text/plain": [
       "epoch 2:   0%|          | 0/4511 [00:00<?, ?it/s]"
      ]
     },
     "metadata": {},
     "output_type": "display_data"
    },
    {
     "name": "stdout",
     "output_type": "stream",
     "text": [
      "Adjusting learning rate of group 0 to 1.0000e-03.\n",
      "loss is: 1.9662\n",
      "val loss is: 1.9429\n"
     ]
    },
    {
     "data": {
      "application/vnd.jupyter.widget-view+json": {
       "model_id": "1e67b8e7a9a6470baf1d765bb8a52afe",
       "version_major": 2,
       "version_minor": 0
      },
      "text/plain": [
       "epoch 3:   0%|          | 0/4511 [00:00<?, ?it/s]"
      ]
     },
     "metadata": {},
     "output_type": "display_data"
    },
    {
     "name": "stdout",
     "output_type": "stream",
     "text": [
      "Adjusting learning rate of group 0 to 1.0000e-03.\n",
      "loss is: 1.9239\n",
      "val loss is: 1.9085\n"
     ]
    },
    {
     "data": {
      "application/vnd.jupyter.widget-view+json": {
       "model_id": "a7ba925e246e47bb909eb1eb57b24395",
       "version_major": 2,
       "version_minor": 0
      },
      "text/plain": [
       "epoch 4:   0%|          | 0/4511 [00:00<?, ?it/s]"
      ]
     },
     "metadata": {},
     "output_type": "display_data"
    },
    {
     "name": "stdout",
     "output_type": "stream",
     "text": [
      "Adjusting learning rate of group 0 to 1.0000e-03.\n",
      "loss is: 1.8926\n",
      "val loss is: 1.8815\n"
     ]
    },
    {
     "data": {
      "application/vnd.jupyter.widget-view+json": {
       "model_id": "0335b1c26adc4b5b8ab1f6e9c412cc33",
       "version_major": 2,
       "version_minor": 0
      },
      "text/plain": [
       "epoch 5:   0%|          | 0/4511 [00:00<?, ?it/s]"
      ]
     },
     "metadata": {},
     "output_type": "display_data"
    },
    {
     "name": "stdout",
     "output_type": "stream",
     "text": [
      "Adjusting learning rate of group 0 to 1.0000e-03.\n",
      "loss is: 1.8682\n",
      "val loss is: 1.8596\n"
     ]
    },
    {
     "data": {
      "application/vnd.jupyter.widget-view+json": {
       "model_id": "5fbbb413f47e4b07b97c20ed03e25443",
       "version_major": 2,
       "version_minor": 0
      },
      "text/plain": [
       "epoch 6:   0%|          | 0/4511 [00:00<?, ?it/s]"
      ]
     },
     "metadata": {},
     "output_type": "display_data"
    },
    {
     "name": "stdout",
     "output_type": "stream",
     "text": [
      "Adjusting learning rate of group 0 to 1.0000e-03.\n",
      "loss is: 1.8482\n",
      "val loss is: 1.8423\n"
     ]
    },
    {
     "data": {
      "application/vnd.jupyter.widget-view+json": {
       "model_id": "0968abc583044b98aac3be8aca388f59",
       "version_major": 2,
       "version_minor": 0
      },
      "text/plain": [
       "epoch 7:   0%|          | 0/4511 [00:00<?, ?it/s]"
      ]
     },
     "metadata": {},
     "output_type": "display_data"
    },
    {
     "name": "stdout",
     "output_type": "stream",
     "text": [
      "Adjusting learning rate of group 0 to 1.0000e-03.\n",
      "loss is: 1.8313\n",
      "val loss is: 1.8275\n"
     ]
    },
    {
     "data": {
      "application/vnd.jupyter.widget-view+json": {
       "model_id": "3215e76df8a04e6f9c214d32b6d369a8",
       "version_major": 2,
       "version_minor": 0
      },
      "text/plain": [
       "epoch 8:   0%|          | 0/4511 [00:00<?, ?it/s]"
      ]
     },
     "metadata": {},
     "output_type": "display_data"
    },
    {
     "name": "stdout",
     "output_type": "stream",
     "text": [
      "Adjusting learning rate of group 0 to 1.0000e-03.\n",
      "loss is: 1.8168\n",
      "val loss is: 1.8139\n"
     ]
    },
    {
     "data": {
      "application/vnd.jupyter.widget-view+json": {
       "model_id": "9242ce9722994ca2ad0d66b3f72ab576",
       "version_major": 2,
       "version_minor": 0
      },
      "text/plain": [
       "epoch 9:   0%|          | 0/4511 [00:00<?, ?it/s]"
      ]
     },
     "metadata": {},
     "output_type": "display_data"
    },
    {
     "name": "stdout",
     "output_type": "stream",
     "text": [
      "Adjusting learning rate of group 0 to 1.0000e-04.\n",
      "loss is: 1.8039\n",
      "val loss is: 1.8027\n"
     ]
    },
    {
     "data": {
      "application/vnd.jupyter.widget-view+json": {
       "model_id": "411d2815c8d74aeb956d25848ba02ee5",
       "version_major": 2,
       "version_minor": 0
      },
      "text/plain": [
       "epoch 10:   0%|          | 0/4511 [00:00<?, ?it/s]"
      ]
     },
     "metadata": {},
     "output_type": "display_data"
    },
    {
     "name": "stdout",
     "output_type": "stream",
     "text": [
      "Adjusting learning rate of group 0 to 1.0000e-04.\n",
      "loss is: 1.7815\n",
      "val loss is: 1.7848\n"
     ]
    },
    {
     "data": {
      "application/vnd.jupyter.widget-view+json": {
       "model_id": "45605c5cbd604f198bc0244e5d2f02ea",
       "version_major": 2,
       "version_minor": 0
      },
      "text/plain": [
       "epoch 11:   0%|          | 0/4511 [00:00<?, ?it/s]"
      ]
     },
     "metadata": {},
     "output_type": "display_data"
    },
    {
     "name": "stdout",
     "output_type": "stream",
     "text": [
      "Adjusting learning rate of group 0 to 1.0000e-04.\n",
      "loss is: 1.7795\n",
      "val loss is: 1.7835\n"
     ]
    },
    {
     "data": {
      "application/vnd.jupyter.widget-view+json": {
       "model_id": "a12351d59aaa473494f1ec7779a0c377",
       "version_major": 2,
       "version_minor": 0
      },
      "text/plain": [
       "epoch 12:   0%|          | 0/4511 [00:00<?, ?it/s]"
      ]
     },
     "metadata": {},
     "output_type": "display_data"
    },
    {
     "name": "stdout",
     "output_type": "stream",
     "text": [
      "Adjusting learning rate of group 0 to 1.0000e-04.\n",
      "loss is: 1.7782\n",
      "val loss is: 1.7822\n"
     ]
    },
    {
     "data": {
      "application/vnd.jupyter.widget-view+json": {
       "model_id": "24a86a7727094478962a8fbb08096b50",
       "version_major": 2,
       "version_minor": 0
      },
      "text/plain": [
       "epoch 13:   0%|          | 0/4511 [00:00<?, ?it/s]"
      ]
     },
     "metadata": {},
     "output_type": "display_data"
    },
    {
     "name": "stdout",
     "output_type": "stream",
     "text": [
      "Adjusting learning rate of group 0 to 1.0000e-04.\n",
      "loss is: 1.7769\n",
      "val loss is: 1.7811\n"
     ]
    },
    {
     "data": {
      "application/vnd.jupyter.widget-view+json": {
       "model_id": "520e69dafa334de9b4d9018a1acea48a",
       "version_major": 2,
       "version_minor": 0
      },
      "text/plain": [
       "epoch 14:   0%|          | 0/4511 [00:00<?, ?it/s]"
      ]
     },
     "metadata": {},
     "output_type": "display_data"
    },
    {
     "name": "stdout",
     "output_type": "stream",
     "text": [
      "Adjusting learning rate of group 0 to 1.0000e-04.\n",
      "loss is: 1.7757\n",
      "val loss is: 1.7799\n"
     ]
    },
    {
     "data": {
      "application/vnd.jupyter.widget-view+json": {
       "model_id": "877db2c20d584bbb96fc5037ea7e6d34",
       "version_major": 2,
       "version_minor": 0
      },
      "text/plain": [
       "epoch 15:   0%|          | 0/4511 [00:00<?, ?it/s]"
      ]
     },
     "metadata": {},
     "output_type": "display_data"
    },
    {
     "name": "stdout",
     "output_type": "stream",
     "text": [
      "Adjusting learning rate of group 0 to 1.0000e-04.\n",
      "loss is: 1.7745\n",
      "val loss is: 1.7788\n"
     ]
    },
    {
     "data": {
      "application/vnd.jupyter.widget-view+json": {
       "model_id": "f1d216c007fd4d7e9ee9519339632d45",
       "version_major": 2,
       "version_minor": 0
      },
      "text/plain": [
       "epoch 16:   0%|          | 0/4511 [00:00<?, ?it/s]"
      ]
     },
     "metadata": {},
     "output_type": "display_data"
    },
    {
     "name": "stdout",
     "output_type": "stream",
     "text": [
      "Adjusting learning rate of group 0 to 1.0000e-04.\n",
      "loss is: 1.7734\n",
      "val loss is: 1.7777\n"
     ]
    },
    {
     "data": {
      "application/vnd.jupyter.widget-view+json": {
       "model_id": "5282d2913bcc45289ba1dc55a0838c82",
       "version_major": 2,
       "version_minor": 0
      },
      "text/plain": [
       "epoch 17:   0%|          | 0/4511 [00:00<?, ?it/s]"
      ]
     },
     "metadata": {},
     "output_type": "display_data"
    },
    {
     "name": "stdout",
     "output_type": "stream",
     "text": [
      "Adjusting learning rate of group 0 to 1.0000e-04.\n",
      "loss is: 1.7722\n",
      "val loss is: 1.7766\n"
     ]
    },
    {
     "data": {
      "application/vnd.jupyter.widget-view+json": {
       "model_id": "e25780cebbb04c359f9f1599907db52d",
       "version_major": 2,
       "version_minor": 0
      },
      "text/plain": [
       "epoch 18:   0%|          | 0/4511 [00:00<?, ?it/s]"
      ]
     },
     "metadata": {},
     "output_type": "display_data"
    },
    {
     "name": "stdout",
     "output_type": "stream",
     "text": [
      "Adjusting learning rate of group 0 to 1.0000e-04.\n",
      "loss is: 1.7711\n",
      "val loss is: 1.7756\n"
     ]
    },
    {
     "data": {
      "application/vnd.jupyter.widget-view+json": {
       "model_id": "744de89897c94da0ace19c80729d003d",
       "version_major": 2,
       "version_minor": 0
      },
      "text/plain": [
       "epoch 19:   0%|          | 0/4511 [00:00<?, ?it/s]"
      ]
     },
     "metadata": {},
     "output_type": "display_data"
    },
    {
     "name": "stdout",
     "output_type": "stream",
     "text": [
      "Adjusting learning rate of group 0 to 1.0000e-05.\n",
      "loss is: 1.7700\n",
      "val loss is: 1.7745\n"
     ]
    },
    {
     "data": {
      "application/vnd.jupyter.widget-view+json": {
       "model_id": "34c638a3a5ff4ff4a4161d4a63637955",
       "version_major": 2,
       "version_minor": 0
      },
      "text/plain": [
       "epoch 20:   0%|          | 0/4511 [00:00<?, ?it/s]"
      ]
     },
     "metadata": {},
     "output_type": "display_data"
    },
    {
     "name": "stdout",
     "output_type": "stream",
     "text": [
      "Adjusting learning rate of group 0 to 1.0000e-05.\n",
      "loss is: 1.7679\n",
      "val loss is: 1.7730\n"
     ]
    },
    {
     "data": {
      "application/vnd.jupyter.widget-view+json": {
       "model_id": "dc3711e46c3949d3958897d0607dfc77",
       "version_major": 2,
       "version_minor": 0
      },
      "text/plain": [
       "epoch 21:   0%|          | 0/4511 [00:00<?, ?it/s]"
      ]
     },
     "metadata": {},
     "output_type": "display_data"
    },
    {
     "name": "stdout",
     "output_type": "stream",
     "text": [
      "Adjusting learning rate of group 0 to 1.0000e-05.\n",
      "loss is: 1.7676\n",
      "val loss is: 1.7729\n"
     ]
    },
    {
     "data": {
      "application/vnd.jupyter.widget-view+json": {
       "model_id": "55df6ec32e8644c798487e6a0074375f",
       "version_major": 2,
       "version_minor": 0
      },
      "text/plain": [
       "epoch 22:   0%|          | 0/4511 [00:00<?, ?it/s]"
      ]
     },
     "metadata": {},
     "output_type": "display_data"
    },
    {
     "name": "stdout",
     "output_type": "stream",
     "text": [
      "Adjusting learning rate of group 0 to 1.0000e-05.\n",
      "loss is: 1.7675\n",
      "val loss is: 1.7728\n"
     ]
    },
    {
     "data": {
      "application/vnd.jupyter.widget-view+json": {
       "model_id": "c6559fd1c85c4d06b624338b7222fd27",
       "version_major": 2,
       "version_minor": 0
      },
      "text/plain": [
       "epoch 23:   0%|          | 0/4511 [00:00<?, ?it/s]"
      ]
     },
     "metadata": {},
     "output_type": "display_data"
    },
    {
     "name": "stdout",
     "output_type": "stream",
     "text": [
      "Adjusting learning rate of group 0 to 1.0000e-05.\n",
      "loss is: 1.7674\n",
      "val loss is: 1.7727\n"
     ]
    },
    {
     "data": {
      "application/vnd.jupyter.widget-view+json": {
       "model_id": "5c33b29a5a514784bab1ec5221790c0f",
       "version_major": 2,
       "version_minor": 0
      },
      "text/plain": [
       "epoch 24:   0%|          | 0/4511 [00:00<?, ?it/s]"
      ]
     },
     "metadata": {},
     "output_type": "display_data"
    },
    {
     "name": "stdout",
     "output_type": "stream",
     "text": [
      "Adjusting learning rate of group 0 to 1.0000e-05.\n",
      "loss is: 1.7673\n",
      "val loss is: 1.7726\n"
     ]
    },
    {
     "data": {
      "application/vnd.jupyter.widget-view+json": {
       "model_id": "b0ca582c57c0493da1a94bf46ccae073",
       "version_major": 2,
       "version_minor": 0
      },
      "text/plain": [
       "epoch 25:   0%|          | 0/4511 [00:00<?, ?it/s]"
      ]
     },
     "metadata": {},
     "output_type": "display_data"
    },
    {
     "name": "stdout",
     "output_type": "stream",
     "text": [
      "Adjusting learning rate of group 0 to 1.0000e-05.\n",
      "loss is: 1.7672\n",
      "val loss is: 1.7724\n"
     ]
    },
    {
     "data": {
      "application/vnd.jupyter.widget-view+json": {
       "model_id": "0990188bb44c4e4fabf6d5aee3d01829",
       "version_major": 2,
       "version_minor": 0
      },
      "text/plain": [
       "epoch 26:   0%|          | 0/4511 [00:00<?, ?it/s]"
      ]
     },
     "metadata": {},
     "output_type": "display_data"
    },
    {
     "name": "stdout",
     "output_type": "stream",
     "text": [
      "Adjusting learning rate of group 0 to 1.0000e-05.\n",
      "loss is: 1.7670\n",
      "val loss is: 1.7723\n"
     ]
    },
    {
     "data": {
      "application/vnd.jupyter.widget-view+json": {
       "model_id": "f2ded30e9efe45f8834a4f3bbc6d395f",
       "version_major": 2,
       "version_minor": 0
      },
      "text/plain": [
       "epoch 27:   0%|          | 0/4511 [00:00<?, ?it/s]"
      ]
     },
     "metadata": {},
     "output_type": "display_data"
    },
    {
     "name": "stdout",
     "output_type": "stream",
     "text": [
      "Adjusting learning rate of group 0 to 1.0000e-05.\n",
      "loss is: 1.7669\n",
      "val loss is: 1.7722\n"
     ]
    },
    {
     "data": {
      "application/vnd.jupyter.widget-view+json": {
       "model_id": "87c51ea224bf458badade576cc401045",
       "version_major": 2,
       "version_minor": 0
      },
      "text/plain": [
       "epoch 28:   0%|          | 0/4511 [00:00<?, ?it/s]"
      ]
     },
     "metadata": {},
     "output_type": "display_data"
    },
    {
     "name": "stdout",
     "output_type": "stream",
     "text": [
      "Adjusting learning rate of group 0 to 1.0000e-05.\n",
      "loss is: 1.7668\n",
      "val loss is: 1.7721\n"
     ]
    },
    {
     "data": {
      "application/vnd.jupyter.widget-view+json": {
       "model_id": "d3aca8e8487c4709921790f6d6d2e692",
       "version_major": 2,
       "version_minor": 0
      },
      "text/plain": [
       "epoch 29:   0%|          | 0/4511 [00:00<?, ?it/s]"
      ]
     },
     "metadata": {},
     "output_type": "display_data"
    },
    {
     "name": "stdout",
     "output_type": "stream",
     "text": [
      "Adjusting learning rate of group 0 to 1.0000e-06.\n",
      "loss is: 1.7667\n",
      "val loss is: 1.7720\n"
     ]
    },
    {
     "data": {
      "application/vnd.jupyter.widget-view+json": {
       "model_id": "d542b12ce48541b1bf4e29f7663c511c",
       "version_major": 2,
       "version_minor": 0
      },
      "text/plain": [
       "epoch 30:   0%|          | 0/4511 [00:00<?, ?it/s]"
      ]
     },
     "metadata": {},
     "output_type": "display_data"
    },
    {
     "name": "stdout",
     "output_type": "stream",
     "text": [
      "Adjusting learning rate of group 0 to 1.0000e-06.\n",
      "loss is: 1.7665\n",
      "val loss is: 1.7720\n"
     ]
    },
    {
     "data": {
      "application/vnd.jupyter.widget-view+json": {
       "model_id": "2967062e60e34974b1ef7071e0774cf7",
       "version_major": 2,
       "version_minor": 0
      },
      "text/plain": [
       "epoch 31:   0%|          | 0/4511 [00:00<?, ?it/s]"
      ]
     },
     "metadata": {},
     "output_type": "display_data"
    },
    {
     "name": "stdout",
     "output_type": "stream",
     "text": [
      "Adjusting learning rate of group 0 to 1.0000e-06.\n",
      "loss is: 1.7664\n",
      "val loss is: 1.7720\n"
     ]
    },
    {
     "data": {
      "application/vnd.jupyter.widget-view+json": {
       "model_id": "8cc023a9ac2d498a85d4af28bf9ba42b",
       "version_major": 2,
       "version_minor": 0
      },
      "text/plain": [
       "epoch 32:   0%|          | 0/4511 [00:00<?, ?it/s]"
      ]
     },
     "metadata": {},
     "output_type": "display_data"
    },
    {
     "name": "stdout",
     "output_type": "stream",
     "text": [
      "Adjusting learning rate of group 0 to 1.0000e-06.\n",
      "loss is: 1.7664\n",
      "val loss is: 1.7719\n"
     ]
    },
    {
     "data": {
      "application/vnd.jupyter.widget-view+json": {
       "model_id": "ca7ceee5da864a439ad6e5f48befa56d",
       "version_major": 2,
       "version_minor": 0
      },
      "text/plain": [
       "epoch 33:   0%|          | 0/4511 [00:00<?, ?it/s]"
      ]
     },
     "metadata": {},
     "output_type": "display_data"
    },
    {
     "name": "stdout",
     "output_type": "stream",
     "text": [
      "Adjusting learning rate of group 0 to 1.0000e-06.\n",
      "loss is: 1.7664\n",
      "val loss is: 1.7719\n"
     ]
    },
    {
     "data": {
      "application/vnd.jupyter.widget-view+json": {
       "model_id": "9100652c29bd43d1b78848aa88bc0015",
       "version_major": 2,
       "version_minor": 0
      },
      "text/plain": [
       "epoch 34:   0%|          | 0/4511 [00:00<?, ?it/s]"
      ]
     },
     "metadata": {},
     "output_type": "display_data"
    },
    {
     "name": "stdout",
     "output_type": "stream",
     "text": [
      "Adjusting learning rate of group 0 to 1.0000e-06.\n",
      "loss is: 1.7664\n",
      "val loss is: 1.7719\n"
     ]
    },
    {
     "data": {
      "application/vnd.jupyter.widget-view+json": {
       "model_id": "0ce884c2270045b8a301103f1b146576",
       "version_major": 2,
       "version_minor": 0
      },
      "text/plain": [
       "epoch 35:   0%|          | 0/4511 [00:00<?, ?it/s]"
      ]
     },
     "metadata": {},
     "output_type": "display_data"
    },
    {
     "name": "stdout",
     "output_type": "stream",
     "text": [
      "Adjusting learning rate of group 0 to 1.0000e-06.\n",
      "loss is: 1.7664\n",
      "val loss is: 1.7719\n"
     ]
    },
    {
     "data": {
      "application/vnd.jupyter.widget-view+json": {
       "model_id": "9fc0e17c0ef44965968f7bf83d3685be",
       "version_major": 2,
       "version_minor": 0
      },
      "text/plain": [
       "epoch 36:   0%|          | 0/4511 [00:00<?, ?it/s]"
      ]
     },
     "metadata": {},
     "output_type": "display_data"
    },
    {
     "name": "stdout",
     "output_type": "stream",
     "text": [
      "Adjusting learning rate of group 0 to 1.0000e-06.\n",
      "loss is: 1.7664\n",
      "val loss is: 1.7719\n"
     ]
    },
    {
     "data": {
      "application/vnd.jupyter.widget-view+json": {
       "model_id": "6bd2ac5a4b474c069ce27f2fd5bf08a9",
       "version_major": 2,
       "version_minor": 0
      },
      "text/plain": [
       "epoch 37:   0%|          | 0/4511 [00:00<?, ?it/s]"
      ]
     },
     "metadata": {},
     "output_type": "display_data"
    },
    {
     "name": "stdout",
     "output_type": "stream",
     "text": [
      "Adjusting learning rate of group 0 to 1.0000e-06.\n",
      "loss is: 1.7664\n",
      "val loss is: 1.7719\n"
     ]
    },
    {
     "data": {
      "application/vnd.jupyter.widget-view+json": {
       "model_id": "6e45a13f93594d3c96c41c85a8076021",
       "version_major": 2,
       "version_minor": 0
      },
      "text/plain": [
       "epoch 38:   0%|          | 0/4511 [00:00<?, ?it/s]"
      ]
     },
     "metadata": {},
     "output_type": "display_data"
    },
    {
     "name": "stdout",
     "output_type": "stream",
     "text": [
      "Adjusting learning rate of group 0 to 1.0000e-06.\n",
      "loss is: 1.7664\n",
      "val loss is: 1.7719\n"
     ]
    },
    {
     "data": {
      "application/vnd.jupyter.widget-view+json": {
       "model_id": "99a2a5710697429e808fff2a3a24cfe4",
       "version_major": 2,
       "version_minor": 0
      },
      "text/plain": [
       "epoch 39:   0%|          | 0/4511 [00:00<?, ?it/s]"
      ]
     },
     "metadata": {},
     "output_type": "display_data"
    },
    {
     "name": "stdout",
     "output_type": "stream",
     "text": [
      "Adjusting learning rate of group 0 to 1.0000e-07.\n",
      "loss is: 1.7663\n",
      "val loss is: 1.7719\n"
     ]
    },
    {
     "data": {
      "application/vnd.jupyter.widget-view+json": {
       "model_id": "d5f99c1c09c3441aab1aef696ac97c95",
       "version_major": 2,
       "version_minor": 0
      },
      "text/plain": [
       "epoch 40:   0%|          | 0/4511 [00:00<?, ?it/s]"
      ]
     },
     "metadata": {},
     "output_type": "display_data"
    },
    {
     "name": "stdout",
     "output_type": "stream",
     "text": [
      "Adjusting learning rate of group 0 to 1.0000e-07.\n",
      "loss is: 1.7663\n",
      "val loss is: 1.7719\n"
     ]
    },
    {
     "data": {
      "application/vnd.jupyter.widget-view+json": {
       "model_id": "15574d548f2e4f5990a7ac61d5187f07",
       "version_major": 2,
       "version_minor": 0
      },
      "text/plain": [
       "epoch 41:   0%|          | 0/4511 [00:00<?, ?it/s]"
      ]
     },
     "metadata": {},
     "output_type": "display_data"
    },
    {
     "name": "stdout",
     "output_type": "stream",
     "text": [
      "Adjusting learning rate of group 0 to 1.0000e-07.\n",
      "loss is: 1.7663\n",
      "val loss is: 1.7719\n"
     ]
    },
    {
     "data": {
      "application/vnd.jupyter.widget-view+json": {
       "model_id": "56392dcc1efe42dd92171783f8ae1f65",
       "version_major": 2,
       "version_minor": 0
      },
      "text/plain": [
       "epoch 42:   0%|          | 0/4511 [00:00<?, ?it/s]"
      ]
     },
     "metadata": {},
     "output_type": "display_data"
    },
    {
     "name": "stdout",
     "output_type": "stream",
     "text": [
      "Adjusting learning rate of group 0 to 1.0000e-07.\n",
      "loss is: 1.7663\n",
      "val loss is: 1.7719\n"
     ]
    },
    {
     "data": {
      "application/vnd.jupyter.widget-view+json": {
       "model_id": "df7c2d5a0c6340db94066c9acc59259e",
       "version_major": 2,
       "version_minor": 0
      },
      "text/plain": [
       "epoch 43:   0%|          | 0/4511 [00:00<?, ?it/s]"
      ]
     },
     "metadata": {},
     "output_type": "display_data"
    },
    {
     "name": "stdout",
     "output_type": "stream",
     "text": [
      "Adjusting learning rate of group 0 to 1.0000e-07.\n",
      "loss is: 1.7663\n",
      "val loss is: 1.7719\n"
     ]
    },
    {
     "data": {
      "application/vnd.jupyter.widget-view+json": {
       "model_id": "e3d70e472de548aba6a0feeff95ce006",
       "version_major": 2,
       "version_minor": 0
      },
      "text/plain": [
       "epoch 44:   0%|          | 0/4511 [00:00<?, ?it/s]"
      ]
     },
     "metadata": {},
     "output_type": "display_data"
    },
    {
     "name": "stdout",
     "output_type": "stream",
     "text": [
      "Adjusting learning rate of group 0 to 1.0000e-07.\n",
      "loss is: 1.7663\n",
      "val loss is: 1.7719\n"
     ]
    },
    {
     "data": {
      "application/vnd.jupyter.widget-view+json": {
       "model_id": "b8e9f8cdc1ac4a92a3d06e5030bdd350",
       "version_major": 2,
       "version_minor": 0
      },
      "text/plain": [
       "epoch 45:   0%|          | 0/4511 [00:00<?, ?it/s]"
      ]
     },
     "metadata": {},
     "output_type": "display_data"
    },
    {
     "name": "stdout",
     "output_type": "stream",
     "text": [
      "Adjusting learning rate of group 0 to 1.0000e-07.\n",
      "loss is: 1.7663\n",
      "val loss is: 1.7719\n"
     ]
    },
    {
     "data": {
      "application/vnd.jupyter.widget-view+json": {
       "model_id": "8f4e4e01b98043a6aa3dc3a68ef65e7d",
       "version_major": 2,
       "version_minor": 0
      },
      "text/plain": [
       "epoch 46:   0%|          | 0/4511 [00:00<?, ?it/s]"
      ]
     },
     "metadata": {},
     "output_type": "display_data"
    },
    {
     "name": "stdout",
     "output_type": "stream",
     "text": [
      "Adjusting learning rate of group 0 to 1.0000e-07.\n",
      "loss is: 1.7663\n",
      "val loss is: 1.7719\n"
     ]
    },
    {
     "data": {
      "application/vnd.jupyter.widget-view+json": {
       "model_id": "519edb63246146e99b8f2a3d3bdd40d3",
       "version_major": 2,
       "version_minor": 0
      },
      "text/plain": [
       "epoch 47:   0%|          | 0/4511 [00:00<?, ?it/s]"
      ]
     },
     "metadata": {},
     "output_type": "display_data"
    },
    {
     "name": "stdout",
     "output_type": "stream",
     "text": [
      "Adjusting learning rate of group 0 to 1.0000e-07.\n",
      "loss is: 1.7663\n",
      "val loss is: 1.7719\n"
     ]
    },
    {
     "data": {
      "application/vnd.jupyter.widget-view+json": {
       "model_id": "60f02fa69b954486b25778d3eaf53c5a",
       "version_major": 2,
       "version_minor": 0
      },
      "text/plain": [
       "epoch 48:   0%|          | 0/4511 [00:00<?, ?it/s]"
      ]
     },
     "metadata": {},
     "output_type": "display_data"
    },
    {
     "name": "stdout",
     "output_type": "stream",
     "text": [
      "Adjusting learning rate of group 0 to 1.0000e-07.\n",
      "loss is: 1.7663\n",
      "val loss is: 1.7719\n"
     ]
    },
    {
     "data": {
      "application/vnd.jupyter.widget-view+json": {
       "model_id": "d1aabec4d8054a28a10f514bc953a514",
       "version_major": 2,
       "version_minor": 0
      },
      "text/plain": [
       "epoch 49:   0%|          | 0/4511 [00:00<?, ?it/s]"
      ]
     },
     "metadata": {},
     "output_type": "display_data"
    },
    {
     "name": "stdout",
     "output_type": "stream",
     "text": [
      "Adjusting learning rate of group 0 to 1.0000e-08.\n",
      "loss is: 1.7663\n",
      "val loss is: 1.7719\n",
      "Time is: 3 min 44 sec\n"
     ]
    }
   ],
   "source": [
    "device = torch.device('cuda' if torch.cuda.is_available() else 'cpu')\n",
    "\n",
    "# load data:\n",
    "data_set = CommonDataSet(data_list_context, device)\n",
    "\n",
    "batch_size = 256\n",
    "\n",
    "# training network model:\n",
    "start = time.time() \n",
    "nnet_context_sgd = MyNNet(input_dim=(data_list_context[0].shape[0] - 1),\n",
    "            output_dim=len(phones_dict.keys())).to(device)\n",
    "criterion = nn.CrossEntropyLoss()\n",
    "optimizer = torch.optim.SGD(nnet_context_sgd.parameters(), lr=0.001)\n",
    "\n",
    "lr_scheduler = torch.optim.lr_scheduler.StepLR(optimizer, step_size=10, gamma=0.1, verbose=True)\n",
    "\n",
    "loss_list = []\n",
    "val_loss = []\n",
    "\n",
    "print('TRAINIG STARTED...')\n",
    "for epoch in range(50):\n",
    "    nnet_context_sgd.train()\n",
    "    running_loss = 0\n",
    "    counter = 0\n",
    "    for batch_xs, batch_ys in tqdm(data_set.next_batch(batch_size), \\\n",
    "                                   total=data_set.num_batches(batch_size), \\\n",
    "                                   desc='epoch {}'.format(epoch)):\n",
    "        optimizer.zero_grad()\n",
    "        output = nnet_context_sgd(batch_xs)\n",
    "\n",
    "        loss = criterion(output, batch_ys)\n",
    "        loss.backward()\n",
    "        optimizer.step()\n",
    "        \n",
    "        running_loss += loss.item()\n",
    "        counter += 1\n",
    "    \n",
    "    with torch.no_grad():\n",
    "        nnet_context_sgd.eval()\n",
    "        val_xs = torch.tensor(data_set.valid[:, :-1], dtype=torch.float32).to(device)\n",
    "        val_ys = torch.tensor(data_set.valid[:,-1].ravel(), dtype=torch.int64).to(device)\n",
    "        val_out = nnet_context_sgd(val_xs)\n",
    "        val_l = criterion(val_out, val_ys)\n",
    "        val_loss.append(val_l.item())\n",
    "        \n",
    "    lr_scheduler.step()\n",
    "    print('loss is: {:.4f}'.format((running_loss / counter)))\n",
    "    loss_list.append(running_loss / counter)\n",
    "    print('val loss is: {:.4f}'.format(val_l))\n",
    "    \n",
    "    \n",
    "end = time.time()\n",
    "minutes = (end - start) // 60\n",
    "seconds = np.mod((end - start), 60)\n",
    "print('Time is: {} min {} sec'.format(int(minutes), int(seconds)))"
   ]
  },
  {
   "cell_type": "code",
   "execution_count": 147,
   "metadata": {},
   "outputs": [
    {
     "data": {
      "image/png": "[encoded data removed]",
      "text/plain": [
       "<Figure size 1080x360 with 1 Axes>"
      ]
     },
     "metadata": {
      "needs_background": "light"
     },
     "output_type": "display_data"
    }
   ],
   "source": [
    "plt.rcParams['figure.figsize'] = (15.0, 5.0)\n",
    "plt.plot(loss_list, label='train loss')\n",
    "plt.plot(val_loss, label='val loss')\n",
    "plt.title('Loss per epoch')\n",
    "plt.ylabel('loss')\n",
    "plt.xlabel('epoch')\n",
    "plt.grid()\n",
    "plt.legend()\n",
    "plt.show()"
   ]
  },
  {
   "cell_type": "code",
   "execution_count": 148,
   "metadata": {},
   "outputs": [
    {
     "data": {
      "application/vnd.jupyter.widget-view+json": {
       "model_id": "b8fe17594976492283cb15cd07d5f48d",
       "version_major": 2,
       "version_minor": 0
      },
      "text/plain": [
       "  0%|          | 0/128315 [00:00<?, ?it/s]"
      ]
     },
     "metadata": {},
     "output_type": "display_data"
    },
    {
     "name": "stdout",
     "output_type": "stream",
     "text": [
      "Total frame accuracy is 0.494\n",
      "\n"
     ]
    }
   ],
   "source": [
    "class_correct = [0 for x in range(len(phones_dict.keys()))]\n",
    "class_total = [0 for x in range(len(phones_dict.keys()))]\n",
    "\n",
    "nnet_context_sgd.cpu()\n",
    "\n",
    "with torch.no_grad():\n",
    "    correct_cnt = 0\n",
    "    for ftr, true_label in tqdm(zip(data_set.valid[:, :-1], data_set.valid[:, -1]), total=data_set.valid.shape[0]):\n",
    "        ftr = torch.from_numpy(ftr).float()\n",
    "        output = nnet_context_sgd.forward(ftr)\n",
    "        predicted_label = output.argmax().item()\n",
    "        correct_cnt += (predicted_label == true_label)\n",
    "        class_correct[predicted_label] += (predicted_label == int(true_label))\n",
    "        class_total[int(true_label)] += 1\n",
    "        \n",
    "print(\"Total frame accuracy is {:.3f}\\n\".format(correct_cnt / data_set.valid.shape[0]))"
   ]
  },
  {
   "cell_type": "markdown",
   "metadata": {},
   "source": [
    "## yes_no"
   ]
  },
  {
   "cell_type": "code",
   "execution_count": 149,
   "metadata": {},
   "outputs": [
    {
     "data": {
      "application/vnd.jupyter.widget-view+json": {
       "model_id": "bcce11343ced4a509c757b0b72a07202",
       "version_major": 2,
       "version_minor": 0
      },
      "text/plain": [
       "  0%|          | 0/10 [00:00<?, ?it/s]"
      ]
     },
     "metadata": {},
     "output_type": "display_data"
    },
    {
     "name": "stdout",
     "output_type": "stream",
     "text": [
      "Beam = 1\n",
      "\n",
      "result: yes_ff63ab0b_nohash_0       ==> YES\n",
      "result: yes_fe1916ba_nohash_0       ==> YES\n",
      "result: yes_fc94edb0_nohash_0       ==> YES\n",
      "result: no_41474817_nohash_0        ==> NO\n",
      "result: yes_39a6b995_nohash_0       ==> YES\n",
      "result: yes_39a12648_nohash_0       ==> YES\n",
      "result: no_4abb2400_nohash_0        ==> NO\n",
      "result: no_ad89eb1e_nohash_0        ==> YES\n",
      "result: no_49af4432_nohash_0        ==> YES\n",
      "result: no_4394fc7c_nohash_0        ==> NO\n",
      "------------------------------------------------------------\n",
      "WER is: 20.00%\n",
      "Total time is: 0.31 sec\n",
      "------------------------------------------------------------\n",
      "\n",
      "##################################################\n",
      "\n",
      "Beam = 3\n",
      "\n",
      "result: yes_ff63ab0b_nohash_0       ==> YES\n",
      "result: yes_fe1916ba_nohash_0       ==> YES\n",
      "result: yes_fc94edb0_nohash_0       ==> YES\n",
      "result: no_41474817_nohash_0        ==> NO\n",
      "result: yes_39a6b995_nohash_0       ==> YES\n",
      "result: yes_39a12648_nohash_0       ==> YES\n",
      "result: no_4abb2400_nohash_0        ==> NO\n",
      "result: no_ad89eb1e_nohash_0        ==> YES\n",
      "result: no_49af4432_nohash_0        ==> YES\n",
      "result: no_4394fc7c_nohash_0        ==> NO\n",
      "------------------------------------------------------------\n",
      "WER is: 20.00%\n",
      "Total time is: 0.26 sec\n",
      "------------------------------------------------------------\n",
      "\n",
      "##################################################\n",
      "\n",
      "Beam = 5\n",
      "\n",
      "result: yes_ff63ab0b_nohash_0       ==> YES\n",
      "result: yes_fe1916ba_nohash_0       ==> YES\n",
      "result: yes_fc94edb0_nohash_0       ==> YES\n",
      "result: no_41474817_nohash_0        ==> NO\n",
      "result: yes_39a6b995_nohash_0       ==> YES\n",
      "result: yes_39a12648_nohash_0       ==> YES\n",
      "result: no_4abb2400_nohash_0        ==> NO\n",
      "result: no_ad89eb1e_nohash_0        ==> YES\n",
      "result: no_49af4432_nohash_0        ==> YES\n",
      "result: no_4394fc7c_nohash_0        ==> NO\n",
      "------------------------------------------------------------\n",
      "WER is: 20.00%\n",
      "Total time is: 0.41 sec\n",
      "------------------------------------------------------------\n",
      "\n",
      "##################################################\n",
      "\n",
      "Beam = 10\n",
      "\n",
      "result: yes_ff63ab0b_nohash_0       ==> YES\n",
      "result: yes_fe1916ba_nohash_0       ==> YES\n",
      "result: yes_fc94edb0_nohash_0       ==> YES\n",
      "result: no_41474817_nohash_0        ==> NO\n",
      "result: yes_39a6b995_nohash_0       ==> YES\n",
      "result: yes_39a12648_nohash_0       ==> YES\n",
      "result: no_4abb2400_nohash_0        ==> NO\n",
      "result: no_ad89eb1e_nohash_0        ==> NO\n",
      "result: no_49af4432_nohash_0        ==> NO\n",
      "result: no_4394fc7c_nohash_0        ==> YES\n",
      "------------------------------------------------------------\n",
      "WER is: 10.00%\n",
      "Total time is: 0.50 sec\n",
      "------------------------------------------------------------\n",
      "\n",
      "##################################################\n",
      "\n",
      "Beam = 20\n",
      "\n",
      "result: yes_ff63ab0b_nohash_0       ==> YES\n",
      "result: yes_fe1916ba_nohash_0       ==> YES\n",
      "result: yes_fc94edb0_nohash_0       ==> YES\n",
      "result: no_41474817_nohash_0        ==> NO\n",
      "result: yes_39a6b995_nohash_0       ==> YES\n",
      "result: yes_39a12648_nohash_0       ==> YES\n",
      "result: no_4abb2400_nohash_0        ==> NO\n",
      "result: no_ad89eb1e_nohash_0        ==> NO\n",
      "result: no_49af4432_nohash_0        ==> NO\n",
      "result: no_4394fc7c_nohash_0        ==> YES\n",
      "------------------------------------------------------------\n",
      "WER is: 10.00%\n",
      "Total time is: 0.82 sec\n",
      "------------------------------------------------------------\n",
      "\n",
      "##################################################\n",
      "\n"
     ]
    }
   ],
   "source": [
    "lexicon_file = 'lab2/data/lexicon_yes_no.txt'\n",
    "lexicon_dict = load_lexicon_dict(lexicon_file)\n",
    "graph = load_graph(lexicon_dict, phones_dict, priors_list)\n",
    "records_data_dict = load_data_dict(\"lab2/data/yes_no/records\")\n",
    "\n",
    "for beam in [1, 3, 5, 10, 20]:\n",
    "    print(f'Beam = {beam}\\n')\n",
    "    run_recognizer(records_data_dict, graph, nnet_context_sgd.cpu(), side_context, beam_threshold=beam)\n",
    "    print()\n",
    "    print('##################################################')\n",
    "    print()"
   ]
  },
  {
   "cell_type": "markdown",
   "metadata": {},
   "source": [
    "## digits"
   ]
  },
  {
   "cell_type": "code",
   "execution_count": 150,
   "metadata": {
    "scrolled": false
   },
   "outputs": [
    {
     "data": {
      "application/vnd.jupyter.widget-view+json": {
       "model_id": "857d172dbd7145ffa0a81a4facccd1c7",
       "version_major": 2,
       "version_minor": 0
      },
      "text/plain": [
       "  0%|          | 0/20 [00:00<?, ?it/s]"
      ]
     },
     "metadata": {},
     "output_type": "display_data"
    },
    {
     "name": "stdout",
     "output_type": "stream",
     "text": [
      "beam = 1\n",
      "\n",
      "result: eight_daf230ac_nohash_0     ==> TWO\n",
      "result: eight_da584bc0_nohash_4     ==> FIVE\n",
      "result: seven_fe5c4a7a_nohash_0     ==> THREE\n",
      "result: four_fce65496_nohash_0      ==> FIVE\n",
      "result: nine_ccea893d_nohash_0      ==> FOUR\n",
      "result: zero_f92e49f3_nohash_3      ==> THREE\n",
      "result: four_ffbb695d_nohash_0      ==> FOUR\n",
      "result: three_feb1d305_nohash_0     ==> THREE\n",
      "result: five_ffd2ba2f_nohash_0      ==> FOUR\n",
      "result: three_fce96bac_nohash_0     ==> FIVE\n",
      "result: five_f852895b_nohash_0      ==> THREE\n",
      "result: six_ffbb695d_nohash_0       ==> SIX\n",
      "result: nine_fbe51750_nohash_0      ==> ONE\n",
      "result: two_fb2f3242_nohash_0       ==> THREE\n",
      "result: six_ffd2ba2f_nohash_0       ==> SIX\n",
      "result: zero_f852895b_nohash_0      ==> ONE\n",
      "result: one_fc2411fe_nohash_0       ==> ONE\n",
      "result: one_ffa76c4a_nohash_0       ==> ONE\n",
      "result: seven_fd32732a_nohash_0     ==> THREE\n",
      "result: two_fce65496_nohash_0       ==> TWO\n",
      "------------------------------------------------------------\n",
      "WER is: 65.00%\n",
      "Total time is: 1.49 sec\n",
      "------------------------------------------------------------\n",
      "\n",
      "##################################################\n",
      "\n",
      "beam = 5\n",
      "\n",
      "result: eight_daf230ac_nohash_0     ==> TWO\n",
      "result: eight_da584bc0_nohash_4     ==> FIVE\n",
      "result: seven_fe5c4a7a_nohash_0     ==> THREE\n",
      "result: four_fce65496_nohash_0      ==> FOUR\n",
      "result: nine_ccea893d_nohash_0      ==> ONE\n",
      "result: zero_f92e49f3_nohash_3      ==> THREE\n",
      "result: four_ffbb695d_nohash_0      ==> FOUR\n",
      "result: three_feb1d305_nohash_0     ==> THREE\n",
      "result: five_ffd2ba2f_nohash_0      ==> FOUR\n",
      "result: three_fce96bac_nohash_0     ==> FIVE\n",
      "result: five_f852895b_nohash_0      ==> FIVE\n",
      "result: six_ffbb695d_nohash_0       ==> SEVEN\n",
      "result: nine_fbe51750_nohash_0      ==> NINE\n",
      "result: two_fb2f3242_nohash_0       ==> ONE\n",
      "result: six_ffd2ba2f_nohash_0       ==> SIX\n",
      "result: zero_f852895b_nohash_0      ==> THREE\n",
      "result: one_fc2411fe_nohash_0       ==> ONE\n",
      "result: one_ffa76c4a_nohash_0       ==> ONE\n",
      "result: seven_fd32732a_nohash_0     ==> SEVEN\n",
      "result: two_fce65496_nohash_0       ==> TWO\n",
      "------------------------------------------------------------\n",
      "WER is: 50.00%\n",
      "Total time is: 2.36 sec\n",
      "------------------------------------------------------------\n",
      "\n",
      "##################################################\n",
      "\n",
      "beam = 10\n",
      "\n",
      "result: eight_daf230ac_nohash_0     ==> SIX\n",
      "result: eight_da584bc0_nohash_4     ==> FIVE\n",
      "result: seven_fe5c4a7a_nohash_0     ==> SEVEN\n",
      "result: four_fce65496_nohash_0      ==> FOUR\n",
      "result: nine_ccea893d_nohash_0      ==> ONE\n",
      "result: zero_f92e49f3_nohash_3      ==> ZERO\n",
      "result: four_ffbb695d_nohash_0      ==> FOUR\n",
      "result: three_feb1d305_nohash_0     ==> THREE\n",
      "result: five_ffd2ba2f_nohash_0      ==> FIVE\n",
      "result: three_fce96bac_nohash_0     ==> FIVE\n",
      "result: five_f852895b_nohash_0      ==> FIVE\n",
      "result: six_ffbb695d_nohash_0       ==> SIX\n",
      "result: nine_fbe51750_nohash_0      ==> NINE\n",
      "result: two_fb2f3242_nohash_0       ==> ONE\n",
      "result: six_ffd2ba2f_nohash_0       ==> SIX\n",
      "result: zero_f852895b_nohash_0      ==> THREE\n",
      "result: one_fc2411fe_nohash_0       ==> ONE\n",
      "result: one_ffa76c4a_nohash_0       ==> ONE\n",
      "result: seven_fd32732a_nohash_0     ==> SEVEN\n",
      "result: two_fce65496_nohash_0       ==> SEVEN\n",
      "------------------------------------------------------------\n",
      "WER is: 35.00%\n",
      "Total time is: 3.86 sec\n",
      "------------------------------------------------------------\n",
      "\n",
      "##################################################\n",
      "\n",
      "beam = 20\n",
      "\n",
      "result: eight_daf230ac_nohash_0     ==> EIGHT\n",
      "result: eight_da584bc0_nohash_4     ==> FIVE\n",
      "result: seven_fe5c4a7a_nohash_0     ==> SEVEN\n",
      "result: four_fce65496_nohash_0      ==> FOUR\n",
      "result: nine_ccea893d_nohash_0      ==> NINE\n",
      "result: zero_f92e49f3_nohash_3      ==> ZERO\n",
      "result: four_ffbb695d_nohash_0      ==> FOUR\n",
      "result: three_feb1d305_nohash_0     ==> THREE\n",
      "result: five_ffd2ba2f_nohash_0      ==> FIVE\n",
      "result: three_fce96bac_nohash_0     ==> TWO\n",
      "result: five_f852895b_nohash_0      ==> FIVE\n",
      "result: six_ffbb695d_nohash_0       ==> SIX\n",
      "result: nine_fbe51750_nohash_0      ==> NINE\n",
      "result: two_fb2f3242_nohash_0       ==> TWO\n",
      "result: six_ffd2ba2f_nohash_0       ==> SIX\n",
      "result: zero_f852895b_nohash_0      ==> ZERO\n",
      "result: one_fc2411fe_nohash_0       ==> ONE\n",
      "result: one_ffa76c4a_nohash_0       ==> FOUR\n",
      "result: seven_fd32732a_nohash_0     ==> SEVEN\n",
      "result: two_fce65496_nohash_0       ==> TWO\n",
      "------------------------------------------------------------\n",
      "WER is: 15.00%\n",
      "Total time is: 6.55 sec\n",
      "------------------------------------------------------------\n",
      "\n",
      "##################################################\n",
      "\n",
      "beam = 30\n",
      "\n",
      "result: eight_daf230ac_nohash_0     ==> EIGHT\n",
      "result: eight_da584bc0_nohash_4     ==> FIVE\n",
      "result: seven_fe5c4a7a_nohash_0     ==> SEVEN\n",
      "result: four_fce65496_nohash_0      ==> FOUR\n",
      "result: nine_ccea893d_nohash_0      ==> NINE\n",
      "result: zero_f92e49f3_nohash_3      ==> ZERO\n",
      "result: four_ffbb695d_nohash_0      ==> FOUR\n",
      "result: three_feb1d305_nohash_0     ==> THREE\n",
      "result: five_ffd2ba2f_nohash_0      ==> FIVE\n",
      "result: three_fce96bac_nohash_0     ==> THREE\n",
      "result: five_f852895b_nohash_0      ==> FIVE\n",
      "result: six_ffbb695d_nohash_0       ==> SIX\n",
      "result: nine_fbe51750_nohash_0      ==> NINE\n",
      "result: two_fb2f3242_nohash_0       ==> TWO\n",
      "result: six_ffd2ba2f_nohash_0       ==> SIX\n",
      "result: zero_f852895b_nohash_0      ==> ZERO\n",
      "result: one_fc2411fe_nohash_0       ==> ONE\n",
      "result: one_ffa76c4a_nohash_0       ==> FOUR\n",
      "result: seven_fd32732a_nohash_0     ==> SEVEN\n",
      "result: two_fce65496_nohash_0       ==> TWO\n",
      "------------------------------------------------------------\n",
      "WER is: 10.00%\n",
      "Total time is: 7.37 sec\n",
      "------------------------------------------------------------\n",
      "\n",
      "##################################################\n",
      "\n",
      "beam = 50\n",
      "\n",
      "result: eight_daf230ac_nohash_0     ==> EIGHT\n",
      "result: eight_da584bc0_nohash_4     ==> EIGHT\n",
      "result: seven_fe5c4a7a_nohash_0     ==> SEVEN\n",
      "result: four_fce65496_nohash_0      ==> FOUR\n",
      "result: nine_ccea893d_nohash_0      ==> NINE\n",
      "result: zero_f92e49f3_nohash_3      ==> ZERO\n",
      "result: four_ffbb695d_nohash_0      ==> FOUR\n",
      "result: three_feb1d305_nohash_0     ==> THREE\n",
      "result: five_ffd2ba2f_nohash_0      ==> FIVE\n",
      "result: three_fce96bac_nohash_0     ==> THREE\n",
      "result: five_f852895b_nohash_0      ==> FIVE\n",
      "result: six_ffbb695d_nohash_0       ==> SIX\n",
      "result: nine_fbe51750_nohash_0      ==> NINE\n",
      "result: two_fb2f3242_nohash_0       ==> TWO\n",
      "result: six_ffd2ba2f_nohash_0       ==> SIX\n",
      "result: zero_f852895b_nohash_0      ==> ZERO\n",
      "result: one_fc2411fe_nohash_0       ==> ONE\n",
      "result: one_ffa76c4a_nohash_0       ==> FOUR\n",
      "result: seven_fd32732a_nohash_0     ==> SEVEN\n",
      "result: two_fce65496_nohash_0       ==> TWO\n",
      "------------------------------------------------------------\n",
      "WER is: 5.00%\n",
      "Total time is: 11.35 sec\n",
      "------------------------------------------------------------\n",
      "\n",
      "##################################################\n",
      "\n"
     ]
    }
   ],
   "source": [
    "lexicon_file = 'lab2/data/lexicon_digits.txt'\n",
    "lexicon_dict = load_lexicon_dict(lexicon_file)\n",
    "graph = load_graph(lexicon_dict, phones_dict, priors_list)\n",
    "records_data_dict = load_data_dict(\"lab2/data/digits/records\")\n",
    "\n",
    "for beam in [1, 5, 10, 20, 30, 50]:\n",
    "    print(f'beam = {beam}')\n",
    "    print()\n",
    "    run_recognizer(records_data_dict, graph, nnet_context_sgd.cpu(), side_context, beam_threshold=beam)\n",
    "    print()\n",
    "    print('##################################################')\n",
    "    print()"
   ]
  },
  {
   "cell_type": "markdown",
   "metadata": {},
   "source": [
    "# MyNormNNet + Adam + StepLR"
   ]
  },
  {
   "cell_type": "code",
   "execution_count": 156,
   "metadata": {},
   "outputs": [],
   "source": [
    "class MyNormNNet(torch.nn.Module):\n",
    "\n",
    "    def __init__(self, input_dim, output_dim):\n",
    "        super(MyNormNNet, self).__init__()\n",
    "        # params:\n",
    "\n",
    "        self.ff_net = torch.nn.Sequential(\n",
    "            nn.Linear(input_dim, 256),\n",
    "            nn.BatchNorm1d(256),\n",
    "            nn.ReLU(),\n",
    "            nn.Linear(256, 256),\n",
    "            nn.BatchNorm1d(256),\n",
    "            nn.ReLU(),\n",
    "            nn.Linear(256, output_dim),\n",
    "        )\n",
    "\n",
    "\n",
    "    def forward(self, x):\n",
    "        x = self.ff_net(x)\n",
    "        return (x)"
   ]
  },
  {
   "cell_type": "code",
   "execution_count": 210,
   "metadata": {
    "scrolled": true
   },
   "outputs": [
    {
     "name": "stdout",
     "output_type": "stream",
     "text": [
      "Adjusting learning rate of group 0 to 1.0000e-02.\n",
      "TRAINIG STARTED...\n"
     ]
    },
    {
     "data": {
      "application/vnd.jupyter.widget-view+json": {
       "model_id": "3516af8897c14de1817cdc89adb37ce9",
       "version_major": 2,
       "version_minor": 0
      },
      "text/plain": [
       "epoch 0:   0%|          | 0/4511 [00:00<?, ?it/s]"
      ]
     },
     "metadata": {},
     "output_type": "display_data"
    },
    {
     "name": "stdout",
     "output_type": "stream",
     "text": [
      "Adjusting learning rate of group 0 to 1.0000e-02.\n",
      "loss is: 1.7136\n",
      "val loss is: 1.6163\n"
     ]
    },
    {
     "data": {
      "application/vnd.jupyter.widget-view+json": {
       "model_id": "67baf385e7784883b90f94d4f6cc8340",
       "version_major": 2,
       "version_minor": 0
      },
      "text/plain": [
       "epoch 1:   0%|          | 0/4511 [00:00<?, ?it/s]"
      ]
     },
     "metadata": {},
     "output_type": "display_data"
    },
    {
     "name": "stdout",
     "output_type": "stream",
     "text": [
      "Adjusting learning rate of group 0 to 1.0000e-02.\n",
      "loss is: 1.5757\n",
      "val loss is: 1.5530\n"
     ]
    },
    {
     "data": {
      "application/vnd.jupyter.widget-view+json": {
       "model_id": "2cc4235db8634f84b26c96f405429d39",
       "version_major": 2,
       "version_minor": 0
      },
      "text/plain": [
       "epoch 2:   0%|          | 0/4511 [00:00<?, ?it/s]"
      ]
     },
     "metadata": {},
     "output_type": "display_data"
    },
    {
     "name": "stdout",
     "output_type": "stream",
     "text": [
      "Adjusting learning rate of group 0 to 1.0000e-02.\n",
      "loss is: 1.5306\n",
      "val loss is: 1.5223\n"
     ]
    },
    {
     "data": {
      "application/vnd.jupyter.widget-view+json": {
       "model_id": "4db7b84a8063456fa762062e93235524",
       "version_major": 2,
       "version_minor": 0
      },
      "text/plain": [
       "epoch 3:   0%|          | 0/4511 [00:00<?, ?it/s]"
      ]
     },
     "metadata": {},
     "output_type": "display_data"
    },
    {
     "name": "stdout",
     "output_type": "stream",
     "text": [
      "Adjusting learning rate of group 0 to 1.0000e-02.\n",
      "loss is: 1.5034\n",
      "val loss is: 1.5119\n"
     ]
    },
    {
     "data": {
      "application/vnd.jupyter.widget-view+json": {
       "model_id": "81de7870369e4d07b8fe9a1edd2debd5",
       "version_major": 2,
       "version_minor": 0
      },
      "text/plain": [
       "epoch 4:   0%|          | 0/4511 [00:00<?, ?it/s]"
      ]
     },
     "metadata": {},
     "output_type": "display_data"
    },
    {
     "name": "stdout",
     "output_type": "stream",
     "text": [
      "Adjusting learning rate of group 0 to 5.0000e-03.\n",
      "loss is: 1.4844\n",
      "val loss is: 1.4993\n"
     ]
    },
    {
     "data": {
      "application/vnd.jupyter.widget-view+json": {
       "model_id": "6b5d849e7e8a4cafa12d74e0eb79a3b3",
       "version_major": 2,
       "version_minor": 0
      },
      "text/plain": [
       "epoch 5:   0%|          | 0/4511 [00:00<?, ?it/s]"
      ]
     },
     "metadata": {},
     "output_type": "display_data"
    },
    {
     "name": "stdout",
     "output_type": "stream",
     "text": [
      "Adjusting learning rate of group 0 to 5.0000e-03.\n",
      "loss is: 1.4256\n",
      "val loss is: 1.4499\n"
     ]
    },
    {
     "data": {
      "application/vnd.jupyter.widget-view+json": {
       "model_id": "44e186f258af47dcb758e0e29e24cf93",
       "version_major": 2,
       "version_minor": 0
      },
      "text/plain": [
       "epoch 6:   0%|          | 0/4511 [00:00<?, ?it/s]"
      ]
     },
     "metadata": {},
     "output_type": "display_data"
    },
    {
     "name": "stdout",
     "output_type": "stream",
     "text": [
      "Adjusting learning rate of group 0 to 5.0000e-03.\n",
      "loss is: 1.4130\n",
      "val loss is: 1.4454\n"
     ]
    },
    {
     "data": {
      "application/vnd.jupyter.widget-view+json": {
       "model_id": "805556335f104770bf9c1cd83a147fd6",
       "version_major": 2,
       "version_minor": 0
      },
      "text/plain": [
       "epoch 7:   0%|          | 0/4511 [00:00<?, ?it/s]"
      ]
     },
     "metadata": {},
     "output_type": "display_data"
    },
    {
     "name": "stdout",
     "output_type": "stream",
     "text": [
      "Adjusting learning rate of group 0 to 5.0000e-03.\n",
      "loss is: 1.4054\n",
      "val loss is: 1.4433\n"
     ]
    },
    {
     "data": {
      "application/vnd.jupyter.widget-view+json": {
       "model_id": "0c3559e2647842b6a302aa6e4a8dc6d6",
       "version_major": 2,
       "version_minor": 0
      },
      "text/plain": [
       "epoch 8:   0%|          | 0/4511 [00:00<?, ?it/s]"
      ]
     },
     "metadata": {},
     "output_type": "display_data"
    },
    {
     "name": "stdout",
     "output_type": "stream",
     "text": [
      "Adjusting learning rate of group 0 to 5.0000e-03.\n",
      "loss is: 1.3994\n",
      "val loss is: 1.4410\n"
     ]
    },
    {
     "data": {
      "application/vnd.jupyter.widget-view+json": {
       "model_id": "83a35ac5871643949965b64d5b4ae17e",
       "version_major": 2,
       "version_minor": 0
      },
      "text/plain": [
       "epoch 9:   0%|          | 0/4511 [00:00<?, ?it/s]"
      ]
     },
     "metadata": {},
     "output_type": "display_data"
    },
    {
     "name": "stdout",
     "output_type": "stream",
     "text": [
      "Adjusting learning rate of group 0 to 2.5000e-03.\n",
      "loss is: 1.3945\n",
      "val loss is: 1.4397\n"
     ]
    },
    {
     "data": {
      "application/vnd.jupyter.widget-view+json": {
       "model_id": "bce50a111fe94d4598955d7ea8792eb2",
       "version_major": 2,
       "version_minor": 0
      },
      "text/plain": [
       "epoch 10:   0%|          | 0/4511 [00:00<?, ?it/s]"
      ]
     },
     "metadata": {},
     "output_type": "display_data"
    },
    {
     "name": "stdout",
     "output_type": "stream",
     "text": [
      "Adjusting learning rate of group 0 to 2.5000e-03.\n",
      "loss is: 1.3657\n",
      "val loss is: 1.4191\n"
     ]
    },
    {
     "data": {
      "application/vnd.jupyter.widget-view+json": {
       "model_id": "662ef8a4ddb547458405d747d1bca885",
       "version_major": 2,
       "version_minor": 0
      },
      "text/plain": [
       "epoch 11:   0%|          | 0/4511 [00:00<?, ?it/s]"
      ]
     },
     "metadata": {},
     "output_type": "display_data"
    },
    {
     "name": "stdout",
     "output_type": "stream",
     "text": [
      "Adjusting learning rate of group 0 to 2.5000e-03.\n",
      "loss is: 1.3601\n",
      "val loss is: 1.4186\n"
     ]
    },
    {
     "data": {
      "application/vnd.jupyter.widget-view+json": {
       "model_id": "2c3e7ce0ce264d32bae2330eeae69dc9",
       "version_major": 2,
       "version_minor": 0
      },
      "text/plain": [
       "epoch 12:   0%|          | 0/4511 [00:00<?, ?it/s]"
      ]
     },
     "metadata": {},
     "output_type": "display_data"
    },
    {
     "name": "stdout",
     "output_type": "stream",
     "text": [
      "Adjusting learning rate of group 0 to 2.5000e-03.\n",
      "loss is: 1.3569\n",
      "val loss is: 1.4179\n"
     ]
    },
    {
     "data": {
      "application/vnd.jupyter.widget-view+json": {
       "model_id": "6920f3c608da477787ac14cbdc7e9bd9",
       "version_major": 2,
       "version_minor": 0
      },
      "text/plain": [
       "epoch 13:   0%|          | 0/4511 [00:00<?, ?it/s]"
      ]
     },
     "metadata": {},
     "output_type": "display_data"
    },
    {
     "name": "stdout",
     "output_type": "stream",
     "text": [
      "Adjusting learning rate of group 0 to 2.5000e-03.\n",
      "loss is: 1.3543\n",
      "val loss is: 1.4173\n"
     ]
    },
    {
     "data": {
      "application/vnd.jupyter.widget-view+json": {
       "model_id": "182cf256bcdf45cf8f67b052d5b77e5d",
       "version_major": 2,
       "version_minor": 0
      },
      "text/plain": [
       "epoch 14:   0%|          | 0/4511 [00:00<?, ?it/s]"
      ]
     },
     "metadata": {},
     "output_type": "display_data"
    },
    {
     "name": "stdout",
     "output_type": "stream",
     "text": [
      "Adjusting learning rate of group 0 to 1.2500e-03.\n",
      "loss is: 1.3519\n",
      "val loss is: 1.4170\n"
     ]
    },
    {
     "data": {
      "application/vnd.jupyter.widget-view+json": {
       "model_id": "e8d8fd238d44409482d0015975f05fb2",
       "version_major": 2,
       "version_minor": 0
      },
      "text/plain": [
       "epoch 15:   0%|          | 0/4511 [00:00<?, ?it/s]"
      ]
     },
     "metadata": {},
     "output_type": "display_data"
    },
    {
     "name": "stdout",
     "output_type": "stream",
     "text": [
      "Adjusting learning rate of group 0 to 1.2500e-03.\n",
      "loss is: 1.3369\n",
      "val loss is: 1.4079\n"
     ]
    },
    {
     "data": {
      "application/vnd.jupyter.widget-view+json": {
       "model_id": "5d0b1f7eecab4f23a8005c2697be6869",
       "version_major": 2,
       "version_minor": 0
      },
      "text/plain": [
       "epoch 16:   0%|          | 0/4511 [00:00<?, ?it/s]"
      ]
     },
     "metadata": {},
     "output_type": "display_data"
    },
    {
     "name": "stdout",
     "output_type": "stream",
     "text": [
      "Adjusting learning rate of group 0 to 1.2500e-03.\n",
      "loss is: 1.3341\n",
      "val loss is: 1.4075\n"
     ]
    },
    {
     "data": {
      "application/vnd.jupyter.widget-view+json": {
       "model_id": "91ca0e5279774633be6cefd3b39a0d12",
       "version_major": 2,
       "version_minor": 0
      },
      "text/plain": [
       "epoch 17:   0%|          | 0/4511 [00:00<?, ?it/s]"
      ]
     },
     "metadata": {},
     "output_type": "display_data"
    },
    {
     "name": "stdout",
     "output_type": "stream",
     "text": [
      "Adjusting learning rate of group 0 to 1.2500e-03.\n",
      "loss is: 1.3325\n",
      "val loss is: 1.4075\n"
     ]
    },
    {
     "data": {
      "application/vnd.jupyter.widget-view+json": {
       "model_id": "256cbc33287d4f2fb6de9ad61ee5b60d",
       "version_major": 2,
       "version_minor": 0
      },
      "text/plain": [
       "epoch 18:   0%|          | 0/4511 [00:00<?, ?it/s]"
      ]
     },
     "metadata": {},
     "output_type": "display_data"
    },
    {
     "name": "stdout",
     "output_type": "stream",
     "text": [
      "Adjusting learning rate of group 0 to 1.2500e-03.\n",
      "loss is: 1.3311\n",
      "val loss is: 1.4072\n"
     ]
    },
    {
     "data": {
      "application/vnd.jupyter.widget-view+json": {
       "model_id": "3e5175d9cc6940bf985d0c62c8e37ea9",
       "version_major": 2,
       "version_minor": 0
      },
      "text/plain": [
       "epoch 19:   0%|          | 0/4511 [00:00<?, ?it/s]"
      ]
     },
     "metadata": {},
     "output_type": "display_data"
    },
    {
     "name": "stdout",
     "output_type": "stream",
     "text": [
      "Adjusting learning rate of group 0 to 6.2500e-04.\n",
      "loss is: 1.3298\n",
      "val loss is: 1.4071\n"
     ]
    },
    {
     "data": {
      "application/vnd.jupyter.widget-view+json": {
       "model_id": "d2c42e8a43de4e48affbe042d9aeb267",
       "version_major": 2,
       "version_minor": 0
      },
      "text/plain": [
       "epoch 20:   0%|          | 0/4511 [00:00<?, ?it/s]"
      ]
     },
     "metadata": {},
     "output_type": "display_data"
    },
    {
     "name": "stdout",
     "output_type": "stream",
     "text": [
      "Adjusting learning rate of group 0 to 6.2500e-04.\n",
      "loss is: 1.3219\n",
      "val loss is: 1.4026\n"
     ]
    },
    {
     "data": {
      "application/vnd.jupyter.widget-view+json": {
       "model_id": "c4fa4fff982e45f58f506a846971db4c",
       "version_major": 2,
       "version_minor": 0
      },
      "text/plain": [
       "epoch 21:   0%|          | 0/4511 [00:00<?, ?it/s]"
      ]
     },
     "metadata": {},
     "output_type": "display_data"
    },
    {
     "name": "stdout",
     "output_type": "stream",
     "text": [
      "Adjusting learning rate of group 0 to 6.2500e-04.\n",
      "loss is: 1.3204\n",
      "val loss is: 1.4024\n"
     ]
    },
    {
     "data": {
      "application/vnd.jupyter.widget-view+json": {
       "model_id": "1f2cf234361c42dbbc07feb40296955f",
       "version_major": 2,
       "version_minor": 0
      },
      "text/plain": [
       "epoch 22:   0%|          | 0/4511 [00:00<?, ?it/s]"
      ]
     },
     "metadata": {},
     "output_type": "display_data"
    },
    {
     "name": "stdout",
     "output_type": "stream",
     "text": [
      "Adjusting learning rate of group 0 to 6.2500e-04.\n",
      "loss is: 1.3195\n",
      "val loss is: 1.4024\n"
     ]
    },
    {
     "data": {
      "application/vnd.jupyter.widget-view+json": {
       "model_id": "e3f8d84d32154cf09cda7966b628d232",
       "version_major": 2,
       "version_minor": 0
      },
      "text/plain": [
       "epoch 23:   0%|          | 0/4511 [00:00<?, ?it/s]"
      ]
     },
     "metadata": {},
     "output_type": "display_data"
    },
    {
     "name": "stdout",
     "output_type": "stream",
     "text": [
      "Adjusting learning rate of group 0 to 6.2500e-04.\n",
      "loss is: 1.3187\n",
      "val loss is: 1.4024\n"
     ]
    },
    {
     "data": {
      "application/vnd.jupyter.widget-view+json": {
       "model_id": "516c9cf75b554cd7a0e4f1f4d7568421",
       "version_major": 2,
       "version_minor": 0
      },
      "text/plain": [
       "epoch 24:   0%|          | 0/4511 [00:00<?, ?it/s]"
      ]
     },
     "metadata": {},
     "output_type": "display_data"
    },
    {
     "name": "stdout",
     "output_type": "stream",
     "text": [
      "Adjusting learning rate of group 0 to 3.1250e-04.\n",
      "loss is: 1.3180\n",
      "val loss is: 1.4023\n"
     ]
    },
    {
     "data": {
      "application/vnd.jupyter.widget-view+json": {
       "model_id": "93623ee043374614966ecbd836984f01",
       "version_major": 2,
       "version_minor": 0
      },
      "text/plain": [
       "epoch 25:   0%|          | 0/4511 [00:00<?, ?it/s]"
      ]
     },
     "metadata": {},
     "output_type": "display_data"
    },
    {
     "name": "stdout",
     "output_type": "stream",
     "text": [
      "Adjusting learning rate of group 0 to 3.1250e-04.\n",
      "loss is: 1.3139\n",
      "val loss is: 1.4003\n"
     ]
    },
    {
     "data": {
      "application/vnd.jupyter.widget-view+json": {
       "model_id": "911be952ae1346b588348a7897be1951",
       "version_major": 2,
       "version_minor": 0
      },
      "text/plain": [
       "epoch 26:   0%|          | 0/4511 [00:00<?, ?it/s]"
      ]
     },
     "metadata": {},
     "output_type": "display_data"
    },
    {
     "name": "stdout",
     "output_type": "stream",
     "text": [
      "Adjusting learning rate of group 0 to 3.1250e-04.\n",
      "loss is: 1.3130\n",
      "val loss is: 1.4002\n"
     ]
    },
    {
     "data": {
      "application/vnd.jupyter.widget-view+json": {
       "model_id": "3fd21a61d87649c3a1b47f1a3d8e15ae",
       "version_major": 2,
       "version_minor": 0
      },
      "text/plain": [
       "epoch 27:   0%|          | 0/4511 [00:00<?, ?it/s]"
      ]
     },
     "metadata": {},
     "output_type": "display_data"
    },
    {
     "name": "stdout",
     "output_type": "stream",
     "text": [
      "Adjusting learning rate of group 0 to 3.1250e-04.\n",
      "loss is: 1.3125\n",
      "val loss is: 1.4002\n"
     ]
    },
    {
     "data": {
      "application/vnd.jupyter.widget-view+json": {
       "model_id": "ad20f497f8c6436bba483dde686cfacb",
       "version_major": 2,
       "version_minor": 0
      },
      "text/plain": [
       "epoch 28:   0%|          | 0/4511 [00:00<?, ?it/s]"
      ]
     },
     "metadata": {},
     "output_type": "display_data"
    },
    {
     "name": "stdout",
     "output_type": "stream",
     "text": [
      "Adjusting learning rate of group 0 to 3.1250e-04.\n",
      "loss is: 1.3122\n",
      "val loss is: 1.4003\n"
     ]
    },
    {
     "data": {
      "application/vnd.jupyter.widget-view+json": {
       "model_id": "373561a4b2fe430487c33c438d1711b2",
       "version_major": 2,
       "version_minor": 0
      },
      "text/plain": [
       "epoch 29:   0%|          | 0/4511 [00:00<?, ?it/s]"
      ]
     },
     "metadata": {},
     "output_type": "display_data"
    },
    {
     "name": "stdout",
     "output_type": "stream",
     "text": [
      "Adjusting learning rate of group 0 to 1.5625e-04.\n",
      "loss is: 1.3118\n",
      "val loss is: 1.4002\n",
      "Time is: 4 min 7 sec\n"
     ]
    }
   ],
   "source": [
    "device = torch.device('cuda' if torch.cuda.is_available() else 'cpu')\n",
    "\n",
    "# load data:\n",
    "data_set = CommonDataSet(data_list_context, device)\n",
    "\n",
    "batch_size = 256\n",
    "\n",
    "# training network model:\n",
    "start = time.time() \n",
    "norm_nnet_context_sched = MyNormNNet(input_dim=(data_list_context[0].shape[0] - 1),\n",
    "            output_dim=len(phones_dict.keys())).to(device)\n",
    "criterion = nn.CrossEntropyLoss()\n",
    "optimizer = torch.optim.Adam(norm_nnet_context_sched.parameters(), lr=0.01)\n",
    "\n",
    "lr_scheduler = torch.optim.lr_scheduler.StepLR(optimizer, step_size=5, gamma=0.5, verbose=True)\n",
    "\n",
    "loss_list = []\n",
    "val_loss = []\n",
    "\n",
    "print('TRAINIG STARTED...')\n",
    "for epoch in range(30):\n",
    "    norm_nnet_context_sched.train()\n",
    "    running_loss = 0\n",
    "    counter = 0\n",
    "    for batch_xs, batch_ys in tqdm(data_set.next_batch(batch_size), \\\n",
    "                                   total=data_set.num_batches(batch_size), \\\n",
    "                                   desc='epoch {}'.format(epoch)):\n",
    "        optimizer.zero_grad()\n",
    "        output = norm_nnet_context_sched(batch_xs)\n",
    "\n",
    "        loss = criterion(output, batch_ys)\n",
    "        loss.backward()\n",
    "        optimizer.step()\n",
    "        \n",
    "        running_loss += loss.item()\n",
    "        counter += 1\n",
    "    \n",
    "    with torch.no_grad():\n",
    "        norm_nnet_context_sched.eval()\n",
    "        val_xs = torch.tensor(data_set.valid[:, :-1], dtype=torch.float32).to(device)\n",
    "        val_ys = torch.tensor(data_set.valid[:,-1].ravel(), dtype=torch.int64).to(device)\n",
    "        val_out = norm_nnet_context_sched(val_xs)\n",
    "        val_l = criterion(val_out, val_ys)\n",
    "        val_loss.append(val_l.item())\n",
    "        \n",
    "    lr_scheduler.step()\n",
    "    print('loss is: {:.4f}'.format((running_loss / counter)))\n",
    "    loss_list.append(running_loss / counter)\n",
    "    print('val loss is: {:.4f}'.format(val_l))\n",
    "    \n",
    "    \n",
    "end = time.time()\n",
    "minutes = (end - start) // 60\n",
    "seconds = np.mod((end - start), 60)\n",
    "print('Time is: {} min {} sec'.format(int(minutes), int(seconds)))"
   ]
  },
  {
   "cell_type": "code",
   "execution_count": 211,
   "metadata": {},
   "outputs": [
    {
     "data": {
      "image/png": "[encoded data removed]",
      "text/plain": [
       "<Figure size 1080x360 with 1 Axes>"
      ]
     },
     "metadata": {
      "needs_background": "light"
     },
     "output_type": "display_data"
    }
   ],
   "source": [
    "plt.rcParams['figure.figsize'] = (15.0, 5.0)\n",
    "plt.plot(loss_list, label='train loss')\n",
    "plt.plot(val_loss, label='val loss')\n",
    "plt.title('Loss per epoch')\n",
    "plt.ylabel('loss')\n",
    "plt.xlabel('epoch')\n",
    "plt.grid()\n",
    "plt.legend()\n",
    "plt.show()"
   ]
  },
  {
   "cell_type": "code",
   "execution_count": 212,
   "metadata": {},
   "outputs": [
    {
     "data": {
      "application/vnd.jupyter.widget-view+json": {
       "model_id": "00fccdc7704142cab9986f122a5baa60",
       "version_major": 2,
       "version_minor": 0
      },
      "text/plain": [
       "  0%|          | 0/128315 [00:00<?, ?it/s]"
      ]
     },
     "metadata": {},
     "output_type": "display_data"
    },
    {
     "name": "stdout",
     "output_type": "stream",
     "text": [
      "Total frame accuracy is 0.579\n",
      "\n"
     ]
    }
   ],
   "source": [
    "class_correct = [0 for x in range(len(phones_dict.keys()))]\n",
    "class_total = [0 for x in range(len(phones_dict.keys()))]\n",
    "\n",
    "norm_nnet_context_sched.cpu()\n",
    "\n",
    "with torch.no_grad():\n",
    "    correct_cnt = 0\n",
    "    for ftr, true_label in tqdm(zip(data_set.valid[:, :-1], data_set.valid[:, -1]), total=data_set.valid.shape[0]):\n",
    "        ftr = torch.from_numpy(np.array([ftr])).float()\n",
    "        output = norm_nnet_context_sched.forward(ftr)\n",
    "        predicted_label = output.argmax().item()\n",
    "        correct_cnt += (predicted_label == true_label)\n",
    "        class_correct[predicted_label] += (predicted_label == int(true_label))\n",
    "        class_total[int(true_label)] += 1\n",
    "        \n",
    "print(\"Total frame accuracy is {:.3f}\\n\".format(correct_cnt / data_set.valid.shape[0]))"
   ]
  },
  {
   "cell_type": "markdown",
   "metadata": {},
   "source": [
    "## yes_no"
   ]
  },
  {
   "cell_type": "code",
   "execution_count": 213,
   "metadata": {
    "scrolled": false
   },
   "outputs": [
    {
     "data": {
      "application/vnd.jupyter.widget-view+json": {
       "model_id": "245219232835459794af1147922b80cf",
       "version_major": 2,
       "version_minor": 0
      },
      "text/plain": [
       "  0%|          | 0/10 [00:00<?, ?it/s]"
      ]
     },
     "metadata": {},
     "output_type": "display_data"
    },
    {
     "name": "stdout",
     "output_type": "stream",
     "text": [
      "Beam = 1\n",
      "\n",
      "result: yes_ff63ab0b_nohash_0       ==> YES\n",
      "result: yes_fe1916ba_nohash_0       ==> YES\n",
      "result: yes_fc94edb0_nohash_0       ==> YES\n",
      "result: no_41474817_nohash_0        ==> NO\n"
     ]
    },
    {
     "name": "stderr",
     "output_type": "stream",
     "text": [
      "/tmp/ipykernel_375/1815615332.py:13: UserWarning: To copy construct from a tensor, it is recommended to use sourceTensor.clone().detach() or sourceTensor.clone().detach().requires_grad_(True), rather than torch.tensor(sourceTensor).\n",
      "  predicts = nnet.forward(torch.tensor(input_feats, dtype=torch.float32))\n"
     ]
    },
    {
     "name": "stdout",
     "output_type": "stream",
     "text": [
      "result: yes_39a6b995_nohash_0       ==> YES\n",
      "result: yes_39a12648_nohash_0       ==> YES\n",
      "result: no_4abb2400_nohash_0        ==> NO\n",
      "result: no_ad89eb1e_nohash_0        ==> NO\n",
      "result: no_49af4432_nohash_0        ==> YES\n",
      "result: no_4394fc7c_nohash_0        ==> NO\n",
      "------------------------------------------------------------\n",
      "WER is: 10.00%\n",
      "Total time is: 0.39 sec\n",
      "------------------------------------------------------------\n",
      "\n",
      "##################################################\n",
      "\n",
      "Beam = 3\n",
      "\n",
      "result: yes_ff63ab0b_nohash_0       ==> YES\n",
      "result: yes_fe1916ba_nohash_0       ==> YES\n",
      "result: yes_fc94edb0_nohash_0       ==> YES\n",
      "result: no_41474817_nohash_0        ==> NO\n",
      "result: yes_39a6b995_nohash_0       ==> YES\n",
      "result: yes_39a12648_nohash_0       ==> YES\n",
      "result: no_4abb2400_nohash_0        ==> NO\n",
      "result: no_ad89eb1e_nohash_0        ==> NO\n",
      "result: no_49af4432_nohash_0        ==> YES\n",
      "result: no_4394fc7c_nohash_0        ==> NO\n",
      "------------------------------------------------------------\n",
      "WER is: 10.00%\n",
      "Total time is: 0.69 sec\n",
      "------------------------------------------------------------\n",
      "\n",
      "##################################################\n",
      "\n",
      "Beam = 5\n",
      "\n",
      "result: yes_ff63ab0b_nohash_0       ==> YES\n",
      "result: yes_fe1916ba_nohash_0       ==> YES\n",
      "result: yes_fc94edb0_nohash_0       ==> YES\n",
      "result: no_41474817_nohash_0        ==> NO\n",
      "result: yes_39a6b995_nohash_0       ==> YES\n",
      "result: yes_39a12648_nohash_0       ==> YES\n",
      "result: no_4abb2400_nohash_0        ==> NO\n",
      "result: no_ad89eb1e_nohash_0        ==> NO\n",
      "result: no_49af4432_nohash_0        ==> YES\n",
      "result: no_4394fc7c_nohash_0        ==> NO\n",
      "------------------------------------------------------------\n",
      "WER is: 10.00%\n",
      "Total time is: 0.51 sec\n",
      "------------------------------------------------------------\n",
      "\n",
      "##################################################\n",
      "\n",
      "Beam = 10\n",
      "\n",
      "result: yes_ff63ab0b_nohash_0       ==> YES\n",
      "result: yes_fe1916ba_nohash_0       ==> YES\n",
      "result: yes_fc94edb0_nohash_0       ==> YES\n",
      "result: no_41474817_nohash_0        ==> NO\n",
      "result: yes_39a6b995_nohash_0       ==> YES\n",
      "result: yes_39a12648_nohash_0       ==> YES\n",
      "result: no_4abb2400_nohash_0        ==> NO\n",
      "result: no_ad89eb1e_nohash_0        ==> NO\n",
      "result: no_49af4432_nohash_0        ==> NO\n",
      "result: no_4394fc7c_nohash_0        ==> YES\n",
      "------------------------------------------------------------\n",
      "WER is: 10.00%\n",
      "Total time is: 0.72 sec\n",
      "------------------------------------------------------------\n",
      "\n",
      "##################################################\n",
      "\n",
      "Beam = 20\n",
      "\n",
      "result: yes_ff63ab0b_nohash_0       ==> YES\n",
      "result: yes_fe1916ba_nohash_0       ==> YES\n",
      "result: yes_fc94edb0_nohash_0       ==> YES\n",
      "result: no_41474817_nohash_0        ==> NO\n",
      "result: yes_39a6b995_nohash_0       ==> YES\n",
      "result: yes_39a12648_nohash_0       ==> YES\n",
      "result: no_4abb2400_nohash_0        ==> NO\n",
      "result: no_ad89eb1e_nohash_0        ==> NO\n",
      "result: no_49af4432_nohash_0        ==> NO\n",
      "result: no_4394fc7c_nohash_0        ==> YES\n",
      "------------------------------------------------------------\n",
      "WER is: 10.00%\n",
      "Total time is: 0.93 sec\n",
      "------------------------------------------------------------\n",
      "\n",
      "##################################################\n",
      "\n"
     ]
    }
   ],
   "source": [
    "lexicon_file = 'lab2/data/lexicon_yes_no.txt'\n",
    "lexicon_dict = load_lexicon_dict(lexicon_file)\n",
    "graph = load_graph(lexicon_dict, phones_dict, priors_list)\n",
    "records_data_dict = load_data_dict(\"lab2/data/yes_no/records\")\n",
    "\n",
    "for beam in [1, 3, 5, 10, 20]:\n",
    "    print(f'Beam = {beam}\\n')\n",
    "    run_recognizer(records_data_dict, graph, norm_nnet_context_sched.cpu(), \n",
    "                   side_context, beam_threshold=beam, norm=True)\n",
    "    print()\n",
    "    print('##################################################')\n",
    "    print()"
   ]
  },
  {
   "cell_type": "code",
   "execution_count": 214,
   "metadata": {
    "scrolled": false
   },
   "outputs": [
    {
     "data": {
      "application/vnd.jupyter.widget-view+json": {
       "model_id": "838460576e3949aab0f87b1e6d02b775",
       "version_major": 2,
       "version_minor": 0
      },
      "text/plain": [
       "  0%|          | 0/20 [00:00<?, ?it/s]"
      ]
     },
     "metadata": {},
     "output_type": "display_data"
    },
    {
     "name": "stdout",
     "output_type": "stream",
     "text": [
      "beam = 1\n",
      "\n"
     ]
    },
    {
     "name": "stderr",
     "output_type": "stream",
     "text": [
      "/tmp/ipykernel_375/1815615332.py:13: UserWarning: To copy construct from a tensor, it is recommended to use sourceTensor.clone().detach() or sourceTensor.clone().detach().requires_grad_(True), rather than torch.tensor(sourceTensor).\n",
      "  predicts = nnet.forward(torch.tensor(input_feats, dtype=torch.float32))\n"
     ]
    },
    {
     "name": "stdout",
     "output_type": "stream",
     "text": [
      "result: eight_daf230ac_nohash_0     ==> TWO\n",
      "result: eight_da584bc0_nohash_4     ==> FIVE\n",
      "result: seven_fe5c4a7a_nohash_0     ==> THREE\n",
      "result: four_fce65496_nohash_0      ==> TWO\n",
      "result: nine_ccea893d_nohash_0      ==> ZERO\n",
      "result: zero_f92e49f3_nohash_3      ==> ONE\n",
      "result: four_ffbb695d_nohash_0      ==> THREE\n",
      "result: three_feb1d305_nohash_0     ==> THREE\n",
      "result: five_ffd2ba2f_nohash_0      ==> FIVE\n",
      "result: three_fce96bac_nohash_0     ==> FOUR\n",
      "result: five_f852895b_nohash_0      ==> THREE\n",
      "result: six_ffbb695d_nohash_0       ==> THREE\n",
      "result: nine_fbe51750_nohash_0      ==> NINE\n",
      "result: two_fb2f3242_nohash_0       ==> THREE\n",
      "result: six_ffd2ba2f_nohash_0       ==> SIX\n",
      "result: zero_f852895b_nohash_0      ==> THREE\n",
      "result: one_fc2411fe_nohash_0       ==> NINE\n",
      "result: one_ffa76c4a_nohash_0       ==> ONE\n",
      "result: seven_fd32732a_nohash_0     ==> SEVEN\n",
      "result: two_fce65496_nohash_0       ==> TWO\n",
      "------------------------------------------------------------\n",
      "WER is: 65.00%\n",
      "Total time is: 1.49 sec\n",
      "------------------------------------------------------------\n",
      "\n",
      "##################################################\n",
      "\n",
      "beam = 5\n",
      "\n",
      "result: eight_daf230ac_nohash_0     ==> ONE\n",
      "result: eight_da584bc0_nohash_4     ==> FIVE\n",
      "result: seven_fe5c4a7a_nohash_0     ==> SEVEN\n",
      "result: four_fce65496_nohash_0      ==> FOUR\n",
      "result: nine_ccea893d_nohash_0      ==> ZERO\n",
      "result: zero_f92e49f3_nohash_3      ==> ONE\n",
      "result: four_ffbb695d_nohash_0      ==> TWO\n",
      "result: three_feb1d305_nohash_0     ==> THREE\n",
      "result: five_ffd2ba2f_nohash_0      ==> FOUR\n",
      "result: three_fce96bac_nohash_0     ==> THREE\n",
      "result: five_f852895b_nohash_0      ==> THREE\n",
      "result: six_ffbb695d_nohash_0       ==> SIX\n",
      "result: nine_fbe51750_nohash_0      ==> NINE\n",
      "result: two_fb2f3242_nohash_0       ==> THREE\n",
      "result: six_ffd2ba2f_nohash_0       ==> SIX\n",
      "result: zero_f852895b_nohash_0      ==> THREE\n",
      "result: one_fc2411fe_nohash_0       ==> ONE\n",
      "result: one_ffa76c4a_nohash_0       ==> ONE\n",
      "result: seven_fd32732a_nohash_0     ==> SEVEN\n",
      "result: two_fce65496_nohash_0       ==> ONE\n",
      "------------------------------------------------------------\n",
      "WER is: 50.00%\n",
      "Total time is: 2.58 sec\n",
      "------------------------------------------------------------\n",
      "\n",
      "##################################################\n",
      "\n",
      "beam = 10\n",
      "\n",
      "result: eight_daf230ac_nohash_0     ==> TWO\n",
      "result: eight_da584bc0_nohash_4     ==> FIVE\n",
      "result: seven_fe5c4a7a_nohash_0     ==> SEVEN\n",
      "result: four_fce65496_nohash_0      ==> FOUR\n",
      "result: nine_ccea893d_nohash_0      ==> NINE\n",
      "result: zero_f92e49f3_nohash_3      ==> ZERO\n",
      "result: four_ffbb695d_nohash_0      ==> FOUR\n",
      "result: three_feb1d305_nohash_0     ==> THREE\n",
      "result: five_ffd2ba2f_nohash_0      ==> FIVE\n",
      "result: three_fce96bac_nohash_0     ==> THREE\n",
      "result: five_f852895b_nohash_0      ==> THREE\n",
      "result: six_ffbb695d_nohash_0       ==> SIX\n",
      "result: nine_fbe51750_nohash_0      ==> NINE\n",
      "result: two_fb2f3242_nohash_0       ==> THREE\n",
      "result: six_ffd2ba2f_nohash_0       ==> SIX\n",
      "result: zero_f852895b_nohash_0      ==> THREE\n",
      "result: one_fc2411fe_nohash_0       ==> ONE\n",
      "result: one_ffa76c4a_nohash_0       ==> ONE\n",
      "result: seven_fd32732a_nohash_0     ==> SEVEN\n",
      "result: two_fce65496_nohash_0       ==> ONE\n",
      "------------------------------------------------------------\n",
      "WER is: 30.00%\n",
      "Total time is: 4.38 sec\n",
      "------------------------------------------------------------\n",
      "\n",
      "##################################################\n",
      "\n",
      "beam = 20\n",
      "\n",
      "result: eight_daf230ac_nohash_0     ==> EIGHT\n",
      "result: eight_da584bc0_nohash_4     ==> FIVE\n",
      "result: seven_fe5c4a7a_nohash_0     ==> SEVEN\n",
      "result: four_fce65496_nohash_0      ==> FOUR\n",
      "result: nine_ccea893d_nohash_0      ==> NINE\n",
      "result: zero_f92e49f3_nohash_3      ==> ZERO\n",
      "result: four_ffbb695d_nohash_0      ==> FOUR\n",
      "result: three_feb1d305_nohash_0     ==> THREE\n",
      "result: five_ffd2ba2f_nohash_0      ==> FIVE\n",
      "result: three_fce96bac_nohash_0     ==> THREE\n",
      "result: five_f852895b_nohash_0      ==> FIVE\n",
      "result: six_ffbb695d_nohash_0       ==> SIX\n",
      "result: nine_fbe51750_nohash_0      ==> NINE\n",
      "result: two_fb2f3242_nohash_0       ==> TWO\n",
      "result: six_ffd2ba2f_nohash_0       ==> SIX\n",
      "result: zero_f852895b_nohash_0      ==> THREE\n",
      "result: one_fc2411fe_nohash_0       ==> ONE\n",
      "result: one_ffa76c4a_nohash_0       ==> ONE\n",
      "result: seven_fd32732a_nohash_0     ==> SEVEN\n",
      "result: two_fce65496_nohash_0       ==> TWO\n",
      "------------------------------------------------------------\n",
      "WER is: 10.00%\n",
      "Total time is: 7.39 sec\n",
      "------------------------------------------------------------\n",
      "\n",
      "##################################################\n",
      "\n",
      "beam = 30\n",
      "\n",
      "result: eight_daf230ac_nohash_0     ==> EIGHT\n",
      "result: eight_da584bc0_nohash_4     ==> FIVE\n",
      "result: seven_fe5c4a7a_nohash_0     ==> SEVEN\n",
      "result: four_fce65496_nohash_0      ==> FOUR\n",
      "result: nine_ccea893d_nohash_0      ==> NINE\n",
      "result: zero_f92e49f3_nohash_3      ==> ZERO\n",
      "result: four_ffbb695d_nohash_0      ==> FOUR\n",
      "result: three_feb1d305_nohash_0     ==> THREE\n",
      "result: five_ffd2ba2f_nohash_0      ==> FIVE\n",
      "result: three_fce96bac_nohash_0     ==> THREE\n",
      "result: five_f852895b_nohash_0      ==> FIVE\n",
      "result: six_ffbb695d_nohash_0       ==> SIX\n",
      "result: nine_fbe51750_nohash_0      ==> NINE\n",
      "result: two_fb2f3242_nohash_0       ==> TWO\n",
      "result: six_ffd2ba2f_nohash_0       ==> SIX\n",
      "result: zero_f852895b_nohash_0      ==> THREE\n",
      "result: one_fc2411fe_nohash_0       ==> ONE\n",
      "result: one_ffa76c4a_nohash_0       ==> ONE\n",
      "result: seven_fd32732a_nohash_0     ==> SEVEN\n",
      "result: two_fce65496_nohash_0       ==> TWO\n",
      "------------------------------------------------------------\n",
      "WER is: 10.00%\n",
      "Total time is: 11.69 sec\n",
      "------------------------------------------------------------\n",
      "\n",
      "##################################################\n",
      "\n",
      "beam = 50\n",
      "\n",
      "result: eight_daf230ac_nohash_0     ==> EIGHT\n",
      "result: eight_da584bc0_nohash_4     ==> FIVE\n",
      "result: seven_fe5c4a7a_nohash_0     ==> SEVEN\n",
      "result: four_fce65496_nohash_0      ==> FOUR\n",
      "result: nine_ccea893d_nohash_0      ==> NINE\n",
      "result: zero_f92e49f3_nohash_3      ==> ZERO\n",
      "result: four_ffbb695d_nohash_0      ==> FOUR\n",
      "result: three_feb1d305_nohash_0     ==> THREE\n",
      "result: five_ffd2ba2f_nohash_0      ==> FIVE\n",
      "result: three_fce96bac_nohash_0     ==> THREE\n",
      "result: five_f852895b_nohash_0      ==> FIVE\n",
      "result: six_ffbb695d_nohash_0       ==> SIX\n",
      "result: nine_fbe51750_nohash_0      ==> NINE\n",
      "result: two_fb2f3242_nohash_0       ==> TWO\n",
      "result: six_ffd2ba2f_nohash_0       ==> SIX\n",
      "result: zero_f852895b_nohash_0      ==> ZERO\n",
      "result: one_fc2411fe_nohash_0       ==> ONE\n",
      "result: one_ffa76c4a_nohash_0       ==> ONE\n",
      "result: seven_fd32732a_nohash_0     ==> SEVEN\n",
      "result: two_fce65496_nohash_0       ==> TWO\n",
      "------------------------------------------------------------\n",
      "WER is: 5.00%\n",
      "Total time is: 12.09 sec\n",
      "------------------------------------------------------------\n",
      "\n",
      "##################################################\n",
      "\n"
     ]
    }
   ],
   "source": [
    "lexicon_file = 'lab2/data/lexicon_digits.txt'\n",
    "lexicon_dict = load_lexicon_dict(lexicon_file)\n",
    "graph = load_graph(lexicon_dict, phones_dict, priors_list)\n",
    "records_data_dict = load_data_dict(\"lab2/data/digits/records\")\n",
    "\n",
    "for beam in [1, 5, 10, 20, 30, 50]:\n",
    "    print(f'beam = {beam}')\n",
    "    print()\n",
    "    run_recognizer(records_data_dict, graph, norm_nnet_context_sched.cpu(), \n",
    "                   side_context, beam_threshold=beam, norm=True)\n",
    "    print()\n",
    "    print('##################################################')\n",
    "    print()"
   ]
  },
  {
   "cell_type": "markdown",
   "metadata": {},
   "source": [
    "# MyNormNNet + Adam + ReduceLROnPlateau"
   ]
  },
  {
   "cell_type": "code",
   "execution_count": 251,
   "metadata": {
    "scrolled": true
   },
   "outputs": [
    {
     "name": "stdout",
     "output_type": "stream",
     "text": [
      "TRAINIG STARTED...\n"
     ]
    },
    {
     "data": {
      "application/vnd.jupyter.widget-view+json": {
       "model_id": "9fc23314dee242d18b0055a9a9256b9f",
       "version_major": 2,
       "version_minor": 0
      },
      "text/plain": [
       "epoch 0:   0%|          | 0/4511 [00:00<?, ?it/s]"
      ]
     },
     "metadata": {},
     "output_type": "display_data"
    },
    {
     "name": "stdout",
     "output_type": "stream",
     "text": [
      "loss is: 1.7146\n",
      "val loss is: 1.6094\n"
     ]
    },
    {
     "data": {
      "application/vnd.jupyter.widget-view+json": {
       "model_id": "aea29b96997748cebbaaad0cc7ef1e1a",
       "version_major": 2,
       "version_minor": 0
      },
      "text/plain": [
       "epoch 1:   0%|          | 0/4511 [00:00<?, ?it/s]"
      ]
     },
     "metadata": {},
     "output_type": "display_data"
    },
    {
     "name": "stdout",
     "output_type": "stream",
     "text": [
      "loss is: 1.5753\n",
      "val loss is: 1.5605\n"
     ]
    },
    {
     "data": {
      "application/vnd.jupyter.widget-view+json": {
       "model_id": "20f2668b15d9491b863fed334d3117ea",
       "version_major": 2,
       "version_minor": 0
      },
      "text/plain": [
       "epoch 2:   0%|          | 0/4511 [00:00<?, ?it/s]"
      ]
     },
     "metadata": {},
     "output_type": "display_data"
    },
    {
     "name": "stdout",
     "output_type": "stream",
     "text": [
      "loss is: 1.5301\n",
      "val loss is: 1.5357\n"
     ]
    },
    {
     "data": {
      "application/vnd.jupyter.widget-view+json": {
       "model_id": "bacc1907ade241fdb503bdf34134d325",
       "version_major": 2,
       "version_minor": 0
      },
      "text/plain": [
       "epoch 3:   0%|          | 0/4511 [00:00<?, ?it/s]"
      ]
     },
     "metadata": {},
     "output_type": "display_data"
    },
    {
     "name": "stdout",
     "output_type": "stream",
     "text": [
      "loss is: 1.5025\n",
      "val loss is: 1.5145\n"
     ]
    },
    {
     "data": {
      "application/vnd.jupyter.widget-view+json": {
       "model_id": "d10de79e2a1845d98e7df6d34fe99be7",
       "version_major": 2,
       "version_minor": 0
      },
      "text/plain": [
       "epoch 4:   0%|          | 0/4511 [00:00<?, ?it/s]"
      ]
     },
     "metadata": {},
     "output_type": "display_data"
    },
    {
     "name": "stdout",
     "output_type": "stream",
     "text": [
      "loss is: 1.4835\n",
      "val loss is: 1.5049\n"
     ]
    },
    {
     "data": {
      "application/vnd.jupyter.widget-view+json": {
       "model_id": "750f4d6d17b8405c809afcac080b3a84",
       "version_major": 2,
       "version_minor": 0
      },
      "text/plain": [
       "epoch 5:   0%|          | 0/4511 [00:00<?, ?it/s]"
      ]
     },
     "metadata": {},
     "output_type": "display_data"
    },
    {
     "name": "stdout",
     "output_type": "stream",
     "text": [
      "loss is: 1.4697\n",
      "val loss is: 1.4940\n"
     ]
    },
    {
     "data": {
      "application/vnd.jupyter.widget-view+json": {
       "model_id": "abeb29cdb924407bb7aa91a7ce91cf47",
       "version_major": 2,
       "version_minor": 0
      },
      "text/plain": [
       "epoch 6:   0%|          | 0/4511 [00:00<?, ?it/s]"
      ]
     },
     "metadata": {},
     "output_type": "display_data"
    },
    {
     "name": "stdout",
     "output_type": "stream",
     "text": [
      "loss is: 1.4585\n",
      "val loss is: 1.4938\n"
     ]
    },
    {
     "data": {
      "application/vnd.jupyter.widget-view+json": {
       "model_id": "e1d44b2c913e4b83bd9e45bbe1b6aaea",
       "version_major": 2,
       "version_minor": 0
      },
      "text/plain": [
       "epoch 7:   0%|          | 0/4511 [00:00<?, ?it/s]"
      ]
     },
     "metadata": {},
     "output_type": "display_data"
    },
    {
     "name": "stdout",
     "output_type": "stream",
     "text": [
      "loss is: 1.4493\n",
      "val loss is: 1.4884\n"
     ]
    },
    {
     "data": {
      "application/vnd.jupyter.widget-view+json": {
       "model_id": "93894ec4c0344ba7b594ea6db1d454b6",
       "version_major": 2,
       "version_minor": 0
      },
      "text/plain": [
       "epoch 8:   0%|          | 0/4511 [00:00<?, ?it/s]"
      ]
     },
     "metadata": {},
     "output_type": "display_data"
    },
    {
     "name": "stdout",
     "output_type": "stream",
     "text": [
      "loss is: 1.4416\n",
      "val loss is: 1.4872\n"
     ]
    },
    {
     "data": {
      "application/vnd.jupyter.widget-view+json": {
       "model_id": "96c9f76304bf43c5a3ce3c9761408d17",
       "version_major": 2,
       "version_minor": 0
      },
      "text/plain": [
       "epoch 9:   0%|          | 0/4511 [00:00<?, ?it/s]"
      ]
     },
     "metadata": {},
     "output_type": "display_data"
    },
    {
     "name": "stdout",
     "output_type": "stream",
     "text": [
      "loss is: 1.4353\n",
      "val loss is: 1.4855\n"
     ]
    },
    {
     "data": {
      "application/vnd.jupyter.widget-view+json": {
       "model_id": "62b54b14832d40cdbbfc14eb58574756",
       "version_major": 2,
       "version_minor": 0
      },
      "text/plain": [
       "epoch 10:   0%|          | 0/4511 [00:00<?, ?it/s]"
      ]
     },
     "metadata": {},
     "output_type": "display_data"
    },
    {
     "name": "stdout",
     "output_type": "stream",
     "text": [
      "loss is: 1.4294\n",
      "val loss is: 1.4832\n"
     ]
    },
    {
     "data": {
      "application/vnd.jupyter.widget-view+json": {
       "model_id": "0df9c3882c1644ea8f84f8426cd19567",
       "version_major": 2,
       "version_minor": 0
      },
      "text/plain": [
       "epoch 11:   0%|          | 0/4511 [00:00<?, ?it/s]"
      ]
     },
     "metadata": {},
     "output_type": "display_data"
    },
    {
     "name": "stdout",
     "output_type": "stream",
     "text": [
      "loss is: 1.4243\n",
      "val loss is: 1.4832\n"
     ]
    },
    {
     "data": {
      "application/vnd.jupyter.widget-view+json": {
       "model_id": "d1196bec26794ef18a9b0059e0462a92",
       "version_major": 2,
       "version_minor": 0
      },
      "text/plain": [
       "epoch 12:   0%|          | 0/4511 [00:00<?, ?it/s]"
      ]
     },
     "metadata": {},
     "output_type": "display_data"
    },
    {
     "name": "stdout",
     "output_type": "stream",
     "text": [
      "loss is: 1.4199\n",
      "val loss is: 1.4808\n"
     ]
    },
    {
     "data": {
      "application/vnd.jupyter.widget-view+json": {
       "model_id": "dc643e165e624fd9a42311d22d5446ae",
       "version_major": 2,
       "version_minor": 0
      },
      "text/plain": [
       "epoch 13:   0%|          | 0/4511 [00:00<?, ?it/s]"
      ]
     },
     "metadata": {},
     "output_type": "display_data"
    },
    {
     "name": "stdout",
     "output_type": "stream",
     "text": [
      "loss is: 1.4158\n",
      "val loss is: 1.4827\n"
     ]
    },
    {
     "data": {
      "application/vnd.jupyter.widget-view+json": {
       "model_id": "939dc120b9964ea085b7b8a0eba9b46c",
       "version_major": 2,
       "version_minor": 0
      },
      "text/plain": [
       "epoch 14:   0%|          | 0/4511 [00:00<?, ?it/s]"
      ]
     },
     "metadata": {},
     "output_type": "display_data"
    },
    {
     "name": "stdout",
     "output_type": "stream",
     "text": [
      "loss is: 1.4124\n",
      "val loss is: 1.4791\n"
     ]
    },
    {
     "data": {
      "application/vnd.jupyter.widget-view+json": {
       "model_id": "f6e7d476eeaf4917af94f97bb441e8f4",
       "version_major": 2,
       "version_minor": 0
      },
      "text/plain": [
       "epoch 15:   0%|          | 0/4511 [00:00<?, ?it/s]"
      ]
     },
     "metadata": {},
     "output_type": "display_data"
    },
    {
     "name": "stdout",
     "output_type": "stream",
     "text": [
      "loss is: 1.4090\n",
      "val loss is: 1.4766\n"
     ]
    },
    {
     "data": {
      "application/vnd.jupyter.widget-view+json": {
       "model_id": "f051c02454874de2b6557f1ff994f6cf",
       "version_major": 2,
       "version_minor": 0
      },
      "text/plain": [
       "epoch 16:   0%|          | 0/4511 [00:00<?, ?it/s]"
      ]
     },
     "metadata": {},
     "output_type": "display_data"
    },
    {
     "name": "stdout",
     "output_type": "stream",
     "text": [
      "loss is: 1.4059\n",
      "val loss is: 1.4770\n"
     ]
    },
    {
     "data": {
      "application/vnd.jupyter.widget-view+json": {
       "model_id": "411f85f7c8c64325aada108e39755949",
       "version_major": 2,
       "version_minor": 0
      },
      "text/plain": [
       "epoch 17:   0%|          | 0/4511 [00:00<?, ?it/s]"
      ]
     },
     "metadata": {},
     "output_type": "display_data"
    },
    {
     "name": "stdout",
     "output_type": "stream",
     "text": [
      "loss is: 1.4031\n",
      "val loss is: 1.4723\n"
     ]
    },
    {
     "data": {
      "application/vnd.jupyter.widget-view+json": {
       "model_id": "21ac575164a943a29affafba015201f7",
       "version_major": 2,
       "version_minor": 0
      },
      "text/plain": [
       "epoch 18:   0%|          | 0/4511 [00:00<?, ?it/s]"
      ]
     },
     "metadata": {},
     "output_type": "display_data"
    },
    {
     "name": "stdout",
     "output_type": "stream",
     "text": [
      "loss is: 1.4005\n",
      "val loss is: 1.4727\n"
     ]
    },
    {
     "data": {
      "application/vnd.jupyter.widget-view+json": {
       "model_id": "9de6fb7063454cb99a10ae90db3f897c",
       "version_major": 2,
       "version_minor": 0
      },
      "text/plain": [
       "epoch 19:   0%|          | 0/4511 [00:00<?, ?it/s]"
      ]
     },
     "metadata": {},
     "output_type": "display_data"
    },
    {
     "name": "stdout",
     "output_type": "stream",
     "text": [
      "loss is: 1.3982\n",
      "val loss is: 1.4731\n"
     ]
    },
    {
     "data": {
      "application/vnd.jupyter.widget-view+json": {
       "model_id": "eff5fe8219f646d0ae79e6f46a2261ba",
       "version_major": 2,
       "version_minor": 0
      },
      "text/plain": [
       "epoch 20:   0%|          | 0/4511 [00:00<?, ?it/s]"
      ]
     },
     "metadata": {},
     "output_type": "display_data"
    },
    {
     "name": "stdout",
     "output_type": "stream",
     "text": [
      "Epoch    21: reducing learning rate of group 0 to 1.0000e-03.\n",
      "loss is: 1.3961\n",
      "val loss is: 1.4726\n"
     ]
    },
    {
     "data": {
      "application/vnd.jupyter.widget-view+json": {
       "model_id": "9b4567a3fe624d50a19533070a7f8d3f",
       "version_major": 2,
       "version_minor": 0
      },
      "text/plain": [
       "epoch 21:   0%|          | 0/4511 [00:00<?, ?it/s]"
      ]
     },
     "metadata": {},
     "output_type": "display_data"
    },
    {
     "name": "stdout",
     "output_type": "stream",
     "text": [
      "loss is: 1.3359\n",
      "val loss is: 1.4082\n"
     ]
    },
    {
     "data": {
      "application/vnd.jupyter.widget-view+json": {
       "model_id": "49fe3c4d5e64483589224f82c337707b",
       "version_major": 2,
       "version_minor": 0
      },
      "text/plain": [
       "epoch 22:   0%|          | 0/4511 [00:00<?, ?it/s]"
      ]
     },
     "metadata": {},
     "output_type": "display_data"
    },
    {
     "name": "stdout",
     "output_type": "stream",
     "text": [
      "loss is: 1.3242\n",
      "val loss is: 1.4057\n"
     ]
    },
    {
     "data": {
      "application/vnd.jupyter.widget-view+json": {
       "model_id": "fc07170a35e448f4b35783b6d9b1e830",
       "version_major": 2,
       "version_minor": 0
      },
      "text/plain": [
       "epoch 23:   0%|          | 0/4511 [00:00<?, ?it/s]"
      ]
     },
     "metadata": {},
     "output_type": "display_data"
    },
    {
     "name": "stdout",
     "output_type": "stream",
     "text": [
      "loss is: 1.3204\n",
      "val loss is: 1.4048\n"
     ]
    },
    {
     "data": {
      "application/vnd.jupyter.widget-view+json": {
       "model_id": "d0626a37361c4adaad4846b71533a9b6",
       "version_major": 2,
       "version_minor": 0
      },
      "text/plain": [
       "epoch 24:   0%|          | 0/4511 [00:00<?, ?it/s]"
      ]
     },
     "metadata": {},
     "output_type": "display_data"
    },
    {
     "name": "stdout",
     "output_type": "stream",
     "text": [
      "loss is: 1.3181\n",
      "val loss is: 1.4042\n"
     ]
    },
    {
     "data": {
      "application/vnd.jupyter.widget-view+json": {
       "model_id": "98fbab31cbeb4fb9830eba425899fb69",
       "version_major": 2,
       "version_minor": 0
      },
      "text/plain": [
       "epoch 25:   0%|          | 0/4511 [00:00<?, ?it/s]"
      ]
     },
     "metadata": {},
     "output_type": "display_data"
    },
    {
     "name": "stdout",
     "output_type": "stream",
     "text": [
      "loss is: 1.3163\n",
      "val loss is: 1.4038\n"
     ]
    },
    {
     "data": {
      "application/vnd.jupyter.widget-view+json": {
       "model_id": "b91ec93cd1d247e89b3f52b5bebbb740",
       "version_major": 2,
       "version_minor": 0
      },
      "text/plain": [
       "epoch 26:   0%|          | 0/4511 [00:00<?, ?it/s]"
      ]
     },
     "metadata": {},
     "output_type": "display_data"
    },
    {
     "name": "stdout",
     "output_type": "stream",
     "text": [
      "loss is: 1.3149\n",
      "val loss is: 1.4035\n"
     ]
    },
    {
     "data": {
      "application/vnd.jupyter.widget-view+json": {
       "model_id": "cb0a660d0eb545d0900efa3fa4e504cb",
       "version_major": 2,
       "version_minor": 0
      },
      "text/plain": [
       "epoch 27:   0%|          | 0/4511 [00:00<?, ?it/s]"
      ]
     },
     "metadata": {},
     "output_type": "display_data"
    },
    {
     "name": "stdout",
     "output_type": "stream",
     "text": [
      "Epoch    28: reducing learning rate of group 0 to 1.0000e-04.\n",
      "loss is: 1.3137\n",
      "val loss is: 1.4033\n"
     ]
    },
    {
     "data": {
      "application/vnd.jupyter.widget-view+json": {
       "model_id": "0837403460f1405db9512ee3e9d4ecb5",
       "version_major": 2,
       "version_minor": 0
      },
      "text/plain": [
       "epoch 28:   0%|          | 0/4511 [00:00<?, ?it/s]"
      ]
     },
     "metadata": {},
     "output_type": "display_data"
    },
    {
     "name": "stdout",
     "output_type": "stream",
     "text": [
      "loss is: 1.3057\n",
      "val loss is: 1.3997\n"
     ]
    },
    {
     "data": {
      "application/vnd.jupyter.widget-view+json": {
       "model_id": "fb3010057774461e9cb05e82873adf85",
       "version_major": 2,
       "version_minor": 0
      },
      "text/plain": [
       "epoch 29:   0%|          | 0/4511 [00:00<?, ?it/s]"
      ]
     },
     "metadata": {},
     "output_type": "display_data"
    },
    {
     "name": "stdout",
     "output_type": "stream",
     "text": [
      "loss is: 1.3043\n",
      "val loss is: 1.3993\n",
      "Time is: 4 min 6 sec\n"
     ]
    }
   ],
   "source": [
    "device = torch.device('cuda' if torch.cuda.is_available() else 'cpu')\n",
    "\n",
    "# load data:\n",
    "data_set = CommonDataSet(data_list_context, device)\n",
    "\n",
    "batch_size = 256\n",
    "\n",
    "# training network model:\n",
    "start = time.time() \n",
    "norm_nnet_context_plateau = MyNormNNet(input_dim=(data_list_context[0].shape[0] - 1),\n",
    "            output_dim=len(phones_dict.keys())).to(device)\n",
    "criterion = nn.CrossEntropyLoss()\n",
    "optimizer = torch.optim.Adam(norm_nnet_context_plateau.parameters(), lr=0.01)\n",
    "\n",
    "lr_scheduler = torch.optim.lr_scheduler.ReduceLROnPlateau(optimizer, threshold=0.001, patience=2, verbose=True)\n",
    "\n",
    "loss_list = []\n",
    "val_loss = []\n",
    "\n",
    "print('TRAINIG STARTED...')\n",
    "for epoch in range(30):\n",
    "    norm_nnet_context_plateau.train()\n",
    "    running_loss = 0\n",
    "    counter = 0\n",
    "    for batch_xs, batch_ys in tqdm(data_set.next_batch(batch_size), \\\n",
    "                                   total=data_set.num_batches(batch_size), \\\n",
    "                                   desc='epoch {}'.format(epoch)):\n",
    "        optimizer.zero_grad()\n",
    "        output = norm_nnet_context_plateau(batch_xs)\n",
    "\n",
    "        loss = criterion(output, batch_ys)\n",
    "        loss.backward()\n",
    "        optimizer.step()\n",
    "        \n",
    "        running_loss += loss.item()\n",
    "        counter += 1\n",
    "    \n",
    "    with torch.no_grad():\n",
    "        norm_nnet_context_plateau.eval()\n",
    "        val_xs = torch.tensor(data_set.valid[:, :-1], dtype=torch.float32).to(device)\n",
    "        val_ys = torch.tensor(data_set.valid[:,-1].ravel(), dtype=torch.int64).to(device)\n",
    "        val_out = norm_nnet_context_plateau(val_xs)\n",
    "        val_l = criterion(val_out, val_ys)\n",
    "        val_loss.append(val_l.item())\n",
    "        \n",
    "    lr_scheduler.step(val_l)\n",
    "    print('loss is: {:.4f}'.format((running_loss / counter)))\n",
    "    loss_list.append(running_loss / counter)\n",
    "    print('val loss is: {:.4f}'.format(val_l))\n",
    "    \n",
    "    \n",
    "end = time.time()\n",
    "minutes = (end - start) // 60\n",
    "seconds = np.mod((end - start), 60)\n",
    "print('Time is: {} min {} sec'.format(int(minutes), int(seconds)))"
   ]
  },
  {
   "cell_type": "code",
   "execution_count": 253,
   "metadata": {},
   "outputs": [
    {
     "data": {
      "image/png": "[encoded data removed]",
      "text/plain": [
       "<Figure size 1080x360 with 1 Axes>"
      ]
     },
     "metadata": {
      "needs_background": "light"
     },
     "output_type": "display_data"
    }
   ],
   "source": [
    "plt.rcParams['figure.figsize'] = (15.0, 5.0)\n",
    "plt.plot(loss_list, label='train loss')\n",
    "plt.plot(val_loss, label='val loss')\n",
    "plt.title('Loss per epoch')\n",
    "plt.ylabel('loss')\n",
    "plt.xlabel('epoch')\n",
    "plt.grid()\n",
    "plt.legend()\n",
    "plt.show()"
   ]
  },
  {
   "cell_type": "code",
   "execution_count": 254,
   "metadata": {},
   "outputs": [
    {
     "data": {
      "application/vnd.jupyter.widget-view+json": {
       "model_id": "df34b6192f1c4e94a68e60b309f6d119",
       "version_major": 2,
       "version_minor": 0
      },
      "text/plain": [
       "  0%|          | 0/128315 [00:00<?, ?it/s]"
      ]
     },
     "metadata": {},
     "output_type": "display_data"
    },
    {
     "name": "stdout",
     "output_type": "stream",
     "text": [
      "Total frame accuracy is 0.581\n",
      "\n"
     ]
    }
   ],
   "source": [
    "class_correct = [0 for x in range(len(phones_dict.keys()))]\n",
    "class_total = [0 for x in range(len(phones_dict.keys()))]\n",
    "\n",
    "norm_nnet_context_plateau.cpu()\n",
    "\n",
    "with torch.no_grad():\n",
    "    correct_cnt = 0\n",
    "    for ftr, true_label in tqdm(zip(data_set.valid[:, :-1], data_set.valid[:, -1]), total=data_set.valid.shape[0]):\n",
    "        ftr = torch.from_numpy(np.array([ftr])).float()\n",
    "        output = norm_nnet_context_plateau.forward(ftr)\n",
    "        predicted_label = output.argmax().item()\n",
    "        correct_cnt += (predicted_label == true_label)\n",
    "        class_correct[predicted_label] += (predicted_label == int(true_label))\n",
    "        class_total[int(true_label)] += 1\n",
    "        \n",
    "print(\"Total frame accuracy is {:.3f}\\n\".format(correct_cnt / data_set.valid.shape[0]))"
   ]
  },
  {
   "cell_type": "markdown",
   "metadata": {},
   "source": [
    "## yes_no"
   ]
  },
  {
   "cell_type": "code",
   "execution_count": 255,
   "metadata": {},
   "outputs": [
    {
     "data": {
      "application/vnd.jupyter.widget-view+json": {
       "model_id": "c3b2c4959c564debb86bd3a0e54a354a",
       "version_major": 2,
       "version_minor": 0
      },
      "text/plain": [
       "  0%|          | 0/10 [00:00<?, ?it/s]"
      ]
     },
     "metadata": {},
     "output_type": "display_data"
    },
    {
     "name": "stdout",
     "output_type": "stream",
     "text": [
      "Beam = 1\n",
      "\n",
      "result: yes_ff63ab0b_nohash_0       ==> YES\n",
      "result: yes_fe1916ba_nohash_0       ==> YES\n",
      "result: yes_fc94edb0_nohash_0       ==> YES\n",
      "result: no_41474817_nohash_0        ==> NO\n"
     ]
    },
    {
     "name": "stderr",
     "output_type": "stream",
     "text": [
      "/tmp/ipykernel_375/1815615332.py:13: UserWarning: To copy construct from a tensor, it is recommended to use sourceTensor.clone().detach() or sourceTensor.clone().detach().requires_grad_(True), rather than torch.tensor(sourceTensor).\n",
      "  predicts = nnet.forward(torch.tensor(input_feats, dtype=torch.float32))\n"
     ]
    },
    {
     "name": "stdout",
     "output_type": "stream",
     "text": [
      "result: yes_39a6b995_nohash_0       ==> NO\n",
      "result: yes_39a12648_nohash_0       ==> YES\n",
      "result: no_4abb2400_nohash_0        ==> NO\n",
      "result: no_ad89eb1e_nohash_0        ==> NO\n",
      "result: no_49af4432_nohash_0        ==> YES\n",
      "result: no_4394fc7c_nohash_0        ==> NO\n",
      "------------------------------------------------------------\n",
      "WER is: 20.00%\n",
      "Total time is: 0.38 sec\n",
      "------------------------------------------------------------\n",
      "\n",
      "##################################################\n",
      "\n",
      "Beam = 3\n",
      "\n",
      "result: yes_ff63ab0b_nohash_0       ==> YES\n",
      "result: yes_fe1916ba_nohash_0       ==> YES\n",
      "result: yes_fc94edb0_nohash_0       ==> YES\n",
      "result: no_41474817_nohash_0        ==> NO\n",
      "result: yes_39a6b995_nohash_0       ==> NO\n",
      "result: yes_39a12648_nohash_0       ==> YES\n",
      "result: no_4abb2400_nohash_0        ==> NO\n",
      "result: no_ad89eb1e_nohash_0        ==> NO\n",
      "result: no_49af4432_nohash_0        ==> YES\n",
      "result: no_4394fc7c_nohash_0        ==> YES\n",
      "------------------------------------------------------------\n",
      "WER is: 30.00%\n",
      "Total time is: 0.42 sec\n",
      "------------------------------------------------------------\n",
      "\n",
      "##################################################\n",
      "\n",
      "Beam = 5\n",
      "\n",
      "result: yes_ff63ab0b_nohash_0       ==> YES\n",
      "result: yes_fe1916ba_nohash_0       ==> YES\n",
      "result: yes_fc94edb0_nohash_0       ==> YES\n",
      "result: no_41474817_nohash_0        ==> NO\n",
      "result: yes_39a6b995_nohash_0       ==> YES\n",
      "result: yes_39a12648_nohash_0       ==> YES\n",
      "result: no_4abb2400_nohash_0        ==> NO\n",
      "result: no_ad89eb1e_nohash_0        ==> NO\n",
      "result: no_49af4432_nohash_0        ==> NO\n",
      "result: no_4394fc7c_nohash_0        ==> NO\n",
      "------------------------------------------------------------\n",
      "WER is: 0.00%\n",
      "Total time is: 0.48 sec\n",
      "------------------------------------------------------------\n",
      "\n",
      "##################################################\n",
      "\n",
      "Beam = 10\n",
      "\n",
      "result: yes_ff63ab0b_nohash_0       ==> YES\n",
      "result: yes_fe1916ba_nohash_0       ==> YES\n",
      "result: yes_fc94edb0_nohash_0       ==> YES\n",
      "result: no_41474817_nohash_0        ==> NO\n",
      "result: yes_39a6b995_nohash_0       ==> YES\n",
      "result: yes_39a12648_nohash_0       ==> YES\n",
      "result: no_4abb2400_nohash_0        ==> NO\n",
      "result: no_ad89eb1e_nohash_0        ==> NO\n",
      "result: no_49af4432_nohash_0        ==> NO\n",
      "result: no_4394fc7c_nohash_0        ==> YES\n",
      "------------------------------------------------------------\n",
      "WER is: 10.00%\n",
      "Total time is: 0.75 sec\n",
      "------------------------------------------------------------\n",
      "\n",
      "##################################################\n",
      "\n",
      "Beam = 20\n",
      "\n",
      "result: yes_ff63ab0b_nohash_0       ==> YES\n",
      "result: yes_fe1916ba_nohash_0       ==> YES\n",
      "result: yes_fc94edb0_nohash_0       ==> YES\n",
      "result: no_41474817_nohash_0        ==> NO\n",
      "result: yes_39a6b995_nohash_0       ==> YES\n",
      "result: yes_39a12648_nohash_0       ==> YES\n",
      "result: no_4abb2400_nohash_0        ==> NO\n",
      "result: no_ad89eb1e_nohash_0        ==> NO\n",
      "result: no_49af4432_nohash_0        ==> NO\n",
      "result: no_4394fc7c_nohash_0        ==> YES\n",
      "------------------------------------------------------------\n",
      "WER is: 10.00%\n",
      "Total time is: 0.97 sec\n",
      "------------------------------------------------------------\n",
      "\n",
      "##################################################\n",
      "\n"
     ]
    }
   ],
   "source": [
    "lexicon_file = 'lab2/data/lexicon_yes_no.txt'\n",
    "lexicon_dict = load_lexicon_dict(lexicon_file)\n",
    "graph = load_graph(lexicon_dict, phones_dict, priors_list)\n",
    "records_data_dict = load_data_dict(\"lab2/data/yes_no/records\")\n",
    "\n",
    "for beam in [1, 3, 5, 10, 20]:\n",
    "    print(f'Beam = {beam}\\n')\n",
    "    run_recognizer(records_data_dict, graph, norm_nnet_context_plateau.cpu(), \n",
    "                   side_context, beam_threshold=beam, norm=True)\n",
    "    print()\n",
    "    print('##################################################')\n",
    "    print()"
   ]
  },
  {
   "cell_type": "markdown",
   "metadata": {},
   "source": [
    "## digits"
   ]
  },
  {
   "cell_type": "code",
   "execution_count": 256,
   "metadata": {
    "scrolled": false
   },
   "outputs": [
    {
     "data": {
      "application/vnd.jupyter.widget-view+json": {
       "model_id": "7082c0b1ca2d440cbe3843ac3f8e962f",
       "version_major": 2,
       "version_minor": 0
      },
      "text/plain": [
       "  0%|          | 0/20 [00:00<?, ?it/s]"
      ]
     },
     "metadata": {},
     "output_type": "display_data"
    },
    {
     "name": "stdout",
     "output_type": "stream",
     "text": [
      "beam = 1\n",
      "\n",
      "result: eight_daf230ac_nohash_0     ==> TWO\n"
     ]
    },
    {
     "name": "stderr",
     "output_type": "stream",
     "text": [
      "/tmp/ipykernel_375/1815615332.py:13: UserWarning: To copy construct from a tensor, it is recommended to use sourceTensor.clone().detach() or sourceTensor.clone().detach().requires_grad_(True), rather than torch.tensor(sourceTensor).\n",
      "  predicts = nnet.forward(torch.tensor(input_feats, dtype=torch.float32))\n"
     ]
    },
    {
     "name": "stdout",
     "output_type": "stream",
     "text": [
      "result: eight_da584bc0_nohash_4     ==> FIVE\n",
      "result: seven_fe5c4a7a_nohash_0     ==> THREE\n",
      "result: four_fce65496_nohash_0      ==> TWO\n",
      "result: nine_ccea893d_nohash_0      ==> TWO\n",
      "result: zero_f92e49f3_nohash_3      ==> ONE\n",
      "result: four_ffbb695d_nohash_0      ==> THREE\n",
      "result: three_feb1d305_nohash_0     ==> THREE\n",
      "result: five_ffd2ba2f_nohash_0      ==> FIVE\n",
      "result: three_fce96bac_nohash_0     ==> ONE\n",
      "result: five_f852895b_nohash_0      ==> THREE\n",
      "result: six_ffbb695d_nohash_0       ==> THREE\n",
      "result: nine_fbe51750_nohash_0      ==> FIVE\n",
      "result: two_fb2f3242_nohash_0       ==> THREE\n",
      "result: six_ffd2ba2f_nohash_0       ==> SIX\n",
      "result: zero_f852895b_nohash_0      ==> THREE\n",
      "result: one_fc2411fe_nohash_0       ==> NINE\n",
      "result: one_ffa76c4a_nohash_0       ==> ONE\n",
      "result: seven_fd32732a_nohash_0     ==> TWO\n",
      "result: two_fce65496_nohash_0       ==> ONE\n",
      "------------------------------------------------------------\n",
      "WER is: 80.00%\n",
      "Total time is: 1.19 sec\n",
      "------------------------------------------------------------\n",
      "\n",
      "##################################################\n",
      "\n",
      "beam = 5\n",
      "\n",
      "result: eight_daf230ac_nohash_0     ==> ZERO\n",
      "result: eight_da584bc0_nohash_4     ==> FIVE\n",
      "result: seven_fe5c4a7a_nohash_0     ==> SEVEN\n",
      "result: four_fce65496_nohash_0      ==> TWO\n",
      "result: nine_ccea893d_nohash_0      ==> NINE\n",
      "result: zero_f92e49f3_nohash_3      ==> ONE\n",
      "result: four_ffbb695d_nohash_0      ==> TWO\n",
      "result: three_feb1d305_nohash_0     ==> SEVEN\n",
      "result: five_ffd2ba2f_nohash_0      ==> FIVE\n",
      "result: three_fce96bac_nohash_0     ==> FIVE\n",
      "result: five_f852895b_nohash_0      ==> THREE\n",
      "result: six_ffbb695d_nohash_0       ==> SIX\n",
      "result: nine_fbe51750_nohash_0      ==> NINE\n",
      "result: two_fb2f3242_nohash_0       ==> THREE\n",
      "result: six_ffd2ba2f_nohash_0       ==> SIX\n",
      "result: zero_f852895b_nohash_0      ==> THREE\n",
      "result: one_fc2411fe_nohash_0       ==> NINE\n",
      "result: one_ffa76c4a_nohash_0       ==> ONE\n",
      "result: seven_fd32732a_nohash_0     ==> SEVEN\n",
      "result: two_fce65496_nohash_0       ==> TWO\n",
      "------------------------------------------------------------\n",
      "WER is: 55.00%\n",
      "Total time is: 2.29 sec\n",
      "------------------------------------------------------------\n",
      "\n",
      "##################################################\n",
      "\n",
      "beam = 10\n",
      "\n",
      "result: eight_daf230ac_nohash_0     ==> ZERO\n",
      "result: eight_da584bc0_nohash_4     ==> NINE\n",
      "result: seven_fe5c4a7a_nohash_0     ==> SEVEN\n",
      "result: four_fce65496_nohash_0      ==> ONE\n",
      "result: nine_ccea893d_nohash_0      ==> NINE\n",
      "result: zero_f92e49f3_nohash_3      ==> ZERO\n",
      "result: four_ffbb695d_nohash_0      ==> FOUR\n",
      "result: three_feb1d305_nohash_0     ==> SEVEN\n",
      "result: five_ffd2ba2f_nohash_0      ==> FIVE\n",
      "result: three_fce96bac_nohash_0     ==> THREE\n",
      "result: five_f852895b_nohash_0      ==> THREE\n",
      "result: six_ffbb695d_nohash_0       ==> SIX\n",
      "result: nine_fbe51750_nohash_0      ==> NINE\n",
      "result: two_fb2f3242_nohash_0       ==> THREE\n",
      "result: six_ffd2ba2f_nohash_0       ==> SIX\n",
      "result: zero_f852895b_nohash_0      ==> THREE\n",
      "result: one_fc2411fe_nohash_0       ==> ONE\n",
      "result: one_ffa76c4a_nohash_0       ==> ONE\n",
      "result: seven_fd32732a_nohash_0     ==> SEVEN\n",
      "result: two_fce65496_nohash_0       ==> NINE\n",
      "------------------------------------------------------------\n",
      "WER is: 40.00%\n",
      "Total time is: 4.27 sec\n",
      "------------------------------------------------------------\n",
      "\n",
      "##################################################\n",
      "\n",
      "beam = 20\n",
      "\n",
      "result: eight_daf230ac_nohash_0     ==> ZERO\n",
      "result: eight_da584bc0_nohash_4     ==> FIVE\n",
      "result: seven_fe5c4a7a_nohash_0     ==> SEVEN\n",
      "result: four_fce65496_nohash_0      ==> FOUR\n",
      "result: nine_ccea893d_nohash_0      ==> NINE\n",
      "result: zero_f92e49f3_nohash_3      ==> ZERO\n",
      "result: four_ffbb695d_nohash_0      ==> FOUR\n",
      "result: three_feb1d305_nohash_0     ==> THREE\n",
      "result: five_ffd2ba2f_nohash_0      ==> FIVE\n",
      "result: three_fce96bac_nohash_0     ==> THREE\n",
      "result: five_f852895b_nohash_0      ==> THREE\n",
      "result: six_ffbb695d_nohash_0       ==> SIX\n",
      "result: nine_fbe51750_nohash_0      ==> NINE\n",
      "result: two_fb2f3242_nohash_0       ==> TWO\n",
      "result: six_ffd2ba2f_nohash_0       ==> SIX\n",
      "result: zero_f852895b_nohash_0      ==> THREE\n",
      "result: one_fc2411fe_nohash_0       ==> ONE\n",
      "result: one_ffa76c4a_nohash_0       ==> ONE\n",
      "result: seven_fd32732a_nohash_0     ==> SEVEN\n",
      "result: two_fce65496_nohash_0       ==> TWO\n",
      "------------------------------------------------------------\n",
      "WER is: 20.00%\n",
      "Total time is: 7.18 sec\n",
      "------------------------------------------------------------\n",
      "\n",
      "##################################################\n",
      "\n",
      "beam = 30\n",
      "\n",
      "result: eight_daf230ac_nohash_0     ==> EIGHT\n",
      "result: eight_da584bc0_nohash_4     ==> FIVE\n",
      "result: seven_fe5c4a7a_nohash_0     ==> SEVEN\n",
      "result: four_fce65496_nohash_0      ==> FOUR\n",
      "result: nine_ccea893d_nohash_0      ==> NINE\n",
      "result: zero_f92e49f3_nohash_3      ==> ZERO\n",
      "result: four_ffbb695d_nohash_0      ==> FOUR\n",
      "result: three_feb1d305_nohash_0     ==> THREE\n",
      "result: five_ffd2ba2f_nohash_0      ==> FIVE\n",
      "result: three_fce96bac_nohash_0     ==> THREE\n",
      "result: five_f852895b_nohash_0      ==> FIVE\n",
      "result: six_ffbb695d_nohash_0       ==> SIX\n",
      "result: nine_fbe51750_nohash_0      ==> NINE\n",
      "result: two_fb2f3242_nohash_0       ==> TWO\n",
      "result: six_ffd2ba2f_nohash_0       ==> SIX\n",
      "result: zero_f852895b_nohash_0      ==> THREE\n",
      "result: one_fc2411fe_nohash_0       ==> ONE\n",
      "result: one_ffa76c4a_nohash_0       ==> ONE\n",
      "result: seven_fd32732a_nohash_0     ==> SEVEN\n",
      "result: two_fce65496_nohash_0       ==> TWO\n",
      "------------------------------------------------------------\n",
      "WER is: 10.00%\n",
      "Total time is: 8.88 sec\n",
      "------------------------------------------------------------\n",
      "\n",
      "##################################################\n",
      "\n",
      "beam = 50\n",
      "\n",
      "result: eight_daf230ac_nohash_0     ==> EIGHT\n",
      "result: eight_da584bc0_nohash_4     ==> FIVE\n",
      "result: seven_fe5c4a7a_nohash_0     ==> SEVEN\n",
      "result: four_fce65496_nohash_0      ==> FOUR\n",
      "result: nine_ccea893d_nohash_0      ==> NINE\n",
      "result: zero_f92e49f3_nohash_3      ==> ZERO\n",
      "result: four_ffbb695d_nohash_0      ==> FOUR\n",
      "result: three_feb1d305_nohash_0     ==> THREE\n",
      "result: five_ffd2ba2f_nohash_0      ==> FIVE\n",
      "result: three_fce96bac_nohash_0     ==> THREE\n",
      "result: five_f852895b_nohash_0      ==> FIVE\n",
      "result: six_ffbb695d_nohash_0       ==> SIX\n",
      "result: nine_fbe51750_nohash_0      ==> NINE\n",
      "result: two_fb2f3242_nohash_0       ==> TWO\n",
      "result: six_ffd2ba2f_nohash_0       ==> SIX\n",
      "result: zero_f852895b_nohash_0      ==> THREE\n",
      "result: one_fc2411fe_nohash_0       ==> ONE\n",
      "result: one_ffa76c4a_nohash_0       ==> FOUR\n",
      "result: seven_fd32732a_nohash_0     ==> SEVEN\n",
      "result: two_fce65496_nohash_0       ==> TWO\n",
      "------------------------------------------------------------\n",
      "WER is: 15.00%\n",
      "Total time is: 12.41 sec\n",
      "------------------------------------------------------------\n",
      "\n",
      "##################################################\n",
      "\n"
     ]
    }
   ],
   "source": [
    "lexicon_file = 'lab2/data/lexicon_digits.txt'\n",
    "lexicon_dict = load_lexicon_dict(lexicon_file)\n",
    "graph = load_graph(lexicon_dict, phones_dict, priors_list)\n",
    "records_data_dict = load_data_dict(\"lab2/data/digits/records\")\n",
    "\n",
    "for beam in [1, 5, 10, 20, 30, 50]:\n",
    "    print(f'beam = {beam}')\n",
    "    print()\n",
    "    run_recognizer(records_data_dict, graph, norm_nnet_context_plateau.cpu(), \n",
    "                   side_context, beam_threshold=beam, norm=True)\n",
    "    print()\n",
    "    print('##################################################')\n",
    "    print()"
   ]
  },
  {
   "cell_type": "markdown",
   "metadata": {},
   "source": [
    "# MyNormNNet + Adam + StepLR + ReduceLROnPlateau"
   ]
  },
  {
   "cell_type": "code",
   "execution_count": 257,
   "metadata": {},
   "outputs": [
    {
     "name": "stdout",
     "output_type": "stream",
     "text": [
      "Adjusting learning rate of group 0 to 1.0000e-02.\n",
      "TRAINIG STARTED...\n"
     ]
    },
    {
     "data": {
      "application/vnd.jupyter.widget-view+json": {
       "model_id": "921ce94dbbae449bbee9d0946390c7eb",
       "version_major": 2,
       "version_minor": 0
      },
      "text/plain": [
       "epoch 0:   0%|          | 0/4511 [00:00<?, ?it/s]"
      ]
     },
     "metadata": {},
     "output_type": "display_data"
    },
    {
     "name": "stdout",
     "output_type": "stream",
     "text": [
      "loss is: 1.7139\n",
      "val loss is: 1.6268\n",
      "Adjusting learning rate of group 0 to 1.0000e-02.\n"
     ]
    },
    {
     "data": {
      "application/vnd.jupyter.widget-view+json": {
       "model_id": "0a95a5ce1a5f474d8660c0b7c0e067c0",
       "version_major": 2,
       "version_minor": 0
      },
      "text/plain": [
       "epoch 1:   0%|          | 0/4511 [00:00<?, ?it/s]"
      ]
     },
     "metadata": {},
     "output_type": "display_data"
    },
    {
     "name": "stdout",
     "output_type": "stream",
     "text": [
      "loss is: 1.5759\n",
      "val loss is: 1.5560\n",
      "Adjusting learning rate of group 0 to 1.0000e-02.\n"
     ]
    },
    {
     "data": {
      "application/vnd.jupyter.widget-view+json": {
       "model_id": "876a43d1091942499612a064ed7a6794",
       "version_major": 2,
       "version_minor": 0
      },
      "text/plain": [
       "epoch 2:   0%|          | 0/4511 [00:00<?, ?it/s]"
      ]
     },
     "metadata": {},
     "output_type": "display_data"
    },
    {
     "name": "stdout",
     "output_type": "stream",
     "text": [
      "loss is: 1.5307\n",
      "val loss is: 1.5310\n",
      "Adjusting learning rate of group 0 to 1.0000e-02.\n"
     ]
    },
    {
     "data": {
      "application/vnd.jupyter.widget-view+json": {
       "model_id": "8eebcfca29244a0f89c90f7012806bf3",
       "version_major": 2,
       "version_minor": 0
      },
      "text/plain": [
       "epoch 3:   0%|          | 0/4511 [00:00<?, ?it/s]"
      ]
     },
     "metadata": {},
     "output_type": "display_data"
    },
    {
     "name": "stdout",
     "output_type": "stream",
     "text": [
      "loss is: 1.5031\n",
      "val loss is: 1.5124\n",
      "Adjusting learning rate of group 0 to 1.0000e-02.\n"
     ]
    },
    {
     "data": {
      "application/vnd.jupyter.widget-view+json": {
       "model_id": "e9776a50268441e9a74ab9bf5b4ecfe0",
       "version_major": 2,
       "version_minor": 0
      },
      "text/plain": [
       "epoch 4:   0%|          | 0/4511 [00:00<?, ?it/s]"
      ]
     },
     "metadata": {},
     "output_type": "display_data"
    },
    {
     "name": "stdout",
     "output_type": "stream",
     "text": [
      "loss is: 1.4839\n",
      "val loss is: 1.5039\n",
      "Adjusting learning rate of group 0 to 5.0000e-03.\n"
     ]
    },
    {
     "data": {
      "application/vnd.jupyter.widget-view+json": {
       "model_id": "075ece48e304408b852e3cacef244f89",
       "version_major": 2,
       "version_minor": 0
      },
      "text/plain": [
       "epoch 5:   0%|          | 0/4511 [00:00<?, ?it/s]"
      ]
     },
     "metadata": {},
     "output_type": "display_data"
    },
    {
     "name": "stdout",
     "output_type": "stream",
     "text": [
      "loss is: 1.4252\n",
      "val loss is: 1.4553\n",
      "Adjusting learning rate of group 0 to 5.0000e-03.\n"
     ]
    },
    {
     "data": {
      "application/vnd.jupyter.widget-view+json": {
       "model_id": "3da98799984643e882abb84122cb42b8",
       "version_major": 2,
       "version_minor": 0
      },
      "text/plain": [
       "epoch 6:   0%|          | 0/4511 [00:00<?, ?it/s]"
      ]
     },
     "metadata": {},
     "output_type": "display_data"
    },
    {
     "name": "stdout",
     "output_type": "stream",
     "text": [
      "loss is: 1.4124\n",
      "val loss is: 1.4528\n",
      "Adjusting learning rate of group 0 to 5.0000e-03.\n"
     ]
    },
    {
     "data": {
      "application/vnd.jupyter.widget-view+json": {
       "model_id": "311b0bcf06b6480490db4e075df5d269",
       "version_major": 2,
       "version_minor": 0
      },
      "text/plain": [
       "epoch 7:   0%|          | 0/4511 [00:00<?, ?it/s]"
      ]
     },
     "metadata": {},
     "output_type": "display_data"
    },
    {
     "name": "stdout",
     "output_type": "stream",
     "text": [
      "loss is: 1.4048\n",
      "val loss is: 1.4508\n",
      "Adjusting learning rate of group 0 to 5.0000e-03.\n"
     ]
    },
    {
     "data": {
      "application/vnd.jupyter.widget-view+json": {
       "model_id": "04a75e5a1b8846b3bb1c2c6881ff69fd",
       "version_major": 2,
       "version_minor": 0
      },
      "text/plain": [
       "epoch 8:   0%|          | 0/4511 [00:00<?, ?it/s]"
      ]
     },
     "metadata": {},
     "output_type": "display_data"
    },
    {
     "name": "stdout",
     "output_type": "stream",
     "text": [
      "loss is: 1.3987\n",
      "val loss is: 1.4489\n",
      "Adjusting learning rate of group 0 to 5.0000e-03.\n"
     ]
    },
    {
     "data": {
      "application/vnd.jupyter.widget-view+json": {
       "model_id": "5c66f882118742c18af73d85518208b4",
       "version_major": 2,
       "version_minor": 0
      },
      "text/plain": [
       "epoch 9:   0%|          | 0/4511 [00:00<?, ?it/s]"
      ]
     },
     "metadata": {},
     "output_type": "display_data"
    },
    {
     "name": "stdout",
     "output_type": "stream",
     "text": [
      "loss is: 1.3935\n",
      "val loss is: 1.4458\n",
      "Adjusting learning rate of group 0 to 2.5000e-03.\n"
     ]
    },
    {
     "data": {
      "application/vnd.jupyter.widget-view+json": {
       "model_id": "ab17eff36a8547d0ab909d47a25ab955",
       "version_major": 2,
       "version_minor": 0
      },
      "text/plain": [
       "epoch 10:   0%|          | 0/4511 [00:00<?, ?it/s]"
      ]
     },
     "metadata": {},
     "output_type": "display_data"
    },
    {
     "name": "stdout",
     "output_type": "stream",
     "text": [
      "loss is: 1.3647\n",
      "val loss is: 1.4236\n",
      "Adjusting learning rate of group 0 to 2.5000e-03.\n"
     ]
    },
    {
     "data": {
      "application/vnd.jupyter.widget-view+json": {
       "model_id": "5147abac6cd946a29cd61bee5b35a5c6",
       "version_major": 2,
       "version_minor": 0
      },
      "text/plain": [
       "epoch 11:   0%|          | 0/4511 [00:00<?, ?it/s]"
      ]
     },
     "metadata": {},
     "output_type": "display_data"
    },
    {
     "name": "stdout",
     "output_type": "stream",
     "text": [
      "loss is: 1.3592\n",
      "val loss is: 1.4226\n",
      "Adjusting learning rate of group 0 to 2.5000e-03.\n"
     ]
    },
    {
     "data": {
      "application/vnd.jupyter.widget-view+json": {
       "model_id": "e7fd2273fa82402cac947e01d3ea864a",
       "version_major": 2,
       "version_minor": 0
      },
      "text/plain": [
       "epoch 12:   0%|          | 0/4511 [00:00<?, ?it/s]"
      ]
     },
     "metadata": {},
     "output_type": "display_data"
    },
    {
     "name": "stdout",
     "output_type": "stream",
     "text": [
      "loss is: 1.3560\n",
      "val loss is: 1.4216\n",
      "Adjusting learning rate of group 0 to 2.5000e-03.\n"
     ]
    },
    {
     "data": {
      "application/vnd.jupyter.widget-view+json": {
       "model_id": "1db634e3c7c64436a397487e5890d9b2",
       "version_major": 2,
       "version_minor": 0
      },
      "text/plain": [
       "epoch 13:   0%|          | 0/4511 [00:00<?, ?it/s]"
      ]
     },
     "metadata": {},
     "output_type": "display_data"
    },
    {
     "name": "stdout",
     "output_type": "stream",
     "text": [
      "loss is: 1.3533\n",
      "val loss is: 1.4213\n",
      "Adjusting learning rate of group 0 to 2.5000e-03.\n"
     ]
    },
    {
     "data": {
      "application/vnd.jupyter.widget-view+json": {
       "model_id": "1467dfc3173a45cbacdb2346498d6acb",
       "version_major": 2,
       "version_minor": 0
      },
      "text/plain": [
       "epoch 14:   0%|          | 0/4511 [00:00<?, ?it/s]"
      ]
     },
     "metadata": {},
     "output_type": "display_data"
    },
    {
     "name": "stdout",
     "output_type": "stream",
     "text": [
      "loss is: 1.3509\n",
      "val loss is: 1.4206\n",
      "Adjusting learning rate of group 0 to 1.2500e-03.\n"
     ]
    },
    {
     "data": {
      "application/vnd.jupyter.widget-view+json": {
       "model_id": "e547574e23994e8c8453fa7cfff651d1",
       "version_major": 2,
       "version_minor": 0
      },
      "text/plain": [
       "epoch 15:   0%|          | 0/4511 [00:00<?, ?it/s]"
      ]
     },
     "metadata": {},
     "output_type": "display_data"
    },
    {
     "name": "stdout",
     "output_type": "stream",
     "text": [
      "loss is: 1.3360\n",
      "val loss is: 1.4092\n",
      "Adjusting learning rate of group 0 to 1.2500e-03.\n"
     ]
    },
    {
     "data": {
      "application/vnd.jupyter.widget-view+json": {
       "model_id": "47add8b2212a4580b39d42249101c877",
       "version_major": 2,
       "version_minor": 0
      },
      "text/plain": [
       "epoch 16:   0%|          | 0/4511 [00:00<?, ?it/s]"
      ]
     },
     "metadata": {},
     "output_type": "display_data"
    },
    {
     "name": "stdout",
     "output_type": "stream",
     "text": [
      "loss is: 1.3332\n",
      "val loss is: 1.4087\n",
      "Adjusting learning rate of group 0 to 1.2500e-03.\n"
     ]
    },
    {
     "data": {
      "application/vnd.jupyter.widget-view+json": {
       "model_id": "3e8dd26dbfc34a109b39c9d0231ea838",
       "version_major": 2,
       "version_minor": 0
      },
      "text/plain": [
       "epoch 17:   0%|          | 0/4511 [00:00<?, ?it/s]"
      ]
     },
     "metadata": {},
     "output_type": "display_data"
    },
    {
     "name": "stdout",
     "output_type": "stream",
     "text": [
      "loss is: 1.3315\n",
      "val loss is: 1.4085\n",
      "Adjusting learning rate of group 0 to 1.2500e-03.\n"
     ]
    },
    {
     "data": {
      "application/vnd.jupyter.widget-view+json": {
       "model_id": "9360c18def9249f195131082234ccfb6",
       "version_major": 2,
       "version_minor": 0
      },
      "text/plain": [
       "epoch 18:   0%|          | 0/4511 [00:00<?, ?it/s]"
      ]
     },
     "metadata": {},
     "output_type": "display_data"
    },
    {
     "name": "stdout",
     "output_type": "stream",
     "text": [
      "loss is: 1.3301\n",
      "val loss is: 1.4082\n",
      "Adjusting learning rate of group 0 to 1.2500e-03.\n"
     ]
    },
    {
     "data": {
      "application/vnd.jupyter.widget-view+json": {
       "model_id": "82ef71f5d74344d8b32bc0bc92a106b7",
       "version_major": 2,
       "version_minor": 0
      },
      "text/plain": [
       "epoch 19:   0%|          | 0/4511 [00:00<?, ?it/s]"
      ]
     },
     "metadata": {},
     "output_type": "display_data"
    },
    {
     "name": "stdout",
     "output_type": "stream",
     "text": [
      "loss is: 1.3289\n",
      "val loss is: 1.4082\n",
      "Adjusting learning rate of group 0 to 6.2500e-04.\n"
     ]
    },
    {
     "data": {
      "application/vnd.jupyter.widget-view+json": {
       "model_id": "179db26ef4334b5f8d17dd5f6f4c8b77",
       "version_major": 2,
       "version_minor": 0
      },
      "text/plain": [
       "epoch 20:   0%|          | 0/4511 [00:00<?, ?it/s]"
      ]
     },
     "metadata": {},
     "output_type": "display_data"
    },
    {
     "name": "stdout",
     "output_type": "stream",
     "text": [
      "loss is: 1.3210\n",
      "val loss is: 1.4025\n"
     ]
    },
    {
     "data": {
      "application/vnd.jupyter.widget-view+json": {
       "model_id": "488352cf8f904774ae213ed97697b15d",
       "version_major": 2,
       "version_minor": 0
      },
      "text/plain": [
       "epoch 21:   0%|          | 0/4511 [00:00<?, ?it/s]"
      ]
     },
     "metadata": {},
     "output_type": "display_data"
    },
    {
     "name": "stdout",
     "output_type": "stream",
     "text": [
      "loss is: 1.3195\n",
      "val loss is: 1.4023\n"
     ]
    },
    {
     "data": {
      "application/vnd.jupyter.widget-view+json": {
       "model_id": "84dedd2c69e7499fa146b817a8f209ab",
       "version_major": 2,
       "version_minor": 0
      },
      "text/plain": [
       "epoch 22:   0%|          | 0/4511 [00:00<?, ?it/s]"
      ]
     },
     "metadata": {},
     "output_type": "display_data"
    },
    {
     "name": "stdout",
     "output_type": "stream",
     "text": [
      "loss is: 1.3187\n",
      "val loss is: 1.4023\n"
     ]
    },
    {
     "data": {
      "application/vnd.jupyter.widget-view+json": {
       "model_id": "9652b08001d542f4af2e874cc2bf5929",
       "version_major": 2,
       "version_minor": 0
      },
      "text/plain": [
       "epoch 23:   0%|          | 0/4511 [00:00<?, ?it/s]"
      ]
     },
     "metadata": {},
     "output_type": "display_data"
    },
    {
     "name": "stdout",
     "output_type": "stream",
     "text": [
      "loss is: 1.3179\n",
      "val loss is: 1.4023\n",
      "Epoch     4: reducing learning rate of group 0 to 6.2500e-05.\n"
     ]
    },
    {
     "data": {
      "application/vnd.jupyter.widget-view+json": {
       "model_id": "3593dc09edf34845933bfe06ebf38cc3",
       "version_major": 2,
       "version_minor": 0
      },
      "text/plain": [
       "epoch 24:   0%|          | 0/4511 [00:00<?, ?it/s]"
      ]
     },
     "metadata": {},
     "output_type": "display_data"
    },
    {
     "name": "stdout",
     "output_type": "stream",
     "text": [
      "loss is: 1.3114\n",
      "val loss is: 1.3983\n"
     ]
    },
    {
     "data": {
      "application/vnd.jupyter.widget-view+json": {
       "model_id": "5063bdc64c344760a0bb796fbce99df1",
       "version_major": 2,
       "version_minor": 0
      },
      "text/plain": [
       "epoch 25:   0%|          | 0/4511 [00:00<?, ?it/s]"
      ]
     },
     "metadata": {},
     "output_type": "display_data"
    },
    {
     "name": "stdout",
     "output_type": "stream",
     "text": [
      "loss is: 1.3101\n",
      "val loss is: 1.3979\n"
     ]
    },
    {
     "data": {
      "application/vnd.jupyter.widget-view+json": {
       "model_id": "40e004ccf6784cb8a2989aa0e4701769",
       "version_major": 2,
       "version_minor": 0
      },
      "text/plain": [
       "epoch 26:   0%|          | 0/4511 [00:00<?, ?it/s]"
      ]
     },
     "metadata": {},
     "output_type": "display_data"
    },
    {
     "name": "stdout",
     "output_type": "stream",
     "text": [
      "loss is: 1.3096\n",
      "val loss is: 1.3977\n",
      "Epoch     7: reducing learning rate of group 0 to 6.2500e-06.\n"
     ]
    },
    {
     "data": {
      "application/vnd.jupyter.widget-view+json": {
       "model_id": "7a98595adac44ff2a86ff56e9c14fa9a",
       "version_major": 2,
       "version_minor": 0
      },
      "text/plain": [
       "epoch 27:   0%|          | 0/4511 [00:00<?, ?it/s]"
      ]
     },
     "metadata": {},
     "output_type": "display_data"
    },
    {
     "name": "stdout",
     "output_type": "stream",
     "text": [
      "loss is: 1.3085\n",
      "val loss is: 1.3976\n"
     ]
    },
    {
     "data": {
      "application/vnd.jupyter.widget-view+json": {
       "model_id": "b38be11b78e94efcbdfa31c32a2a32c2",
       "version_major": 2,
       "version_minor": 0
      },
      "text/plain": [
       "epoch 28:   0%|          | 0/4511 [00:00<?, ?it/s]"
      ]
     },
     "metadata": {},
     "output_type": "display_data"
    },
    {
     "name": "stdout",
     "output_type": "stream",
     "text": [
      "loss is: 1.3084\n",
      "val loss is: 1.3975\n"
     ]
    },
    {
     "data": {
      "application/vnd.jupyter.widget-view+json": {
       "model_id": "d56690c22e86495e806e16db73e84a6b",
       "version_major": 2,
       "version_minor": 0
      },
      "text/plain": [
       "epoch 29:   0%|          | 0/4511 [00:00<?, ?it/s]"
      ]
     },
     "metadata": {},
     "output_type": "display_data"
    },
    {
     "name": "stdout",
     "output_type": "stream",
     "text": [
      "loss is: 1.3083\n",
      "val loss is: 1.3974\n",
      "Epoch    10: reducing learning rate of group 0 to 6.2500e-07.\n",
      "Time is: 4 min 7 sec\n"
     ]
    }
   ],
   "source": [
    "device = torch.device('cuda' if torch.cuda.is_available() else 'cpu')\n",
    "\n",
    "# load data:\n",
    "data_set = CommonDataSet(data_list_context, device)\n",
    "\n",
    "batch_size = 256\n",
    "\n",
    "# training network model:\n",
    "start = time.time() \n",
    "norm_nnet_context_2_sched = MyNormNNet(input_dim=(data_list_context[0].shape[0] - 1),\n",
    "            output_dim=len(phones_dict.keys())).to(device)\n",
    "model = norm_nnet_context_2_sched\n",
    "criterion = nn.CrossEntropyLoss()\n",
    "optimizer = torch.optim.Adam(model.parameters(), lr=0.01)\n",
    "\n",
    "#lr_scheduler = torch.optim.lr_scheduler.ReduceLROnPlateau(optimizer, threshold=0.001, verbose=True)\n",
    "scheduler1 = torch.optim.lr_scheduler.ReduceLROnPlateau(optimizer, threshold=0.01, patience=2, verbose=True)\n",
    "scheduler2 = torch.optim.lr_scheduler.StepLR(optimizer, step_size=5, gamma=0.5, verbose=True)\n",
    "\n",
    "loss_list = []\n",
    "val_loss = []\n",
    "\n",
    "print('TRAINIG STARTED...')\n",
    "for epoch in range(30):\n",
    "    model.train()\n",
    "    running_loss = 0\n",
    "    counter = 0\n",
    "    for batch_xs, batch_ys in tqdm(data_set.next_batch(batch_size), \\\n",
    "                                   total=data_set.num_batches(batch_size), \\\n",
    "                                   desc='epoch {}'.format(epoch)):\n",
    "        optimizer.zero_grad()\n",
    "        output = model(batch_xs)\n",
    "\n",
    "        loss = criterion(output, batch_ys)\n",
    "        loss.backward()\n",
    "        optimizer.step()\n",
    "        \n",
    "        running_loss += loss.item()\n",
    "        counter += 1\n",
    "    \n",
    "    with torch.no_grad():\n",
    "        model.eval()\n",
    "        val_xs = torch.tensor(data_set.valid[:, :-1], dtype=torch.float32).to(device)\n",
    "        val_ys = torch.tensor(data_set.valid[:,-1].ravel(), dtype=torch.int64).to(device)\n",
    "        val_out = model(val_xs)\n",
    "        val_l = criterion(val_out, val_ys)\n",
    "        val_loss.append(val_l.item())\n",
    "        \n",
    "    #lr_scheduler.step(val_l)\n",
    "    print('loss is: {:.4f}'.format((running_loss / counter)))\n",
    "    loss_list.append(running_loss / counter)\n",
    "    print('val loss is: {:.4f}'.format(val_l))\n",
    "    \n",
    "    if epoch < 20:\n",
    "        scheduler2.step()\n",
    "    else:\n",
    "        scheduler1.step(val_l)\n",
    "    \n",
    "    \n",
    "end = time.time()\n",
    "minutes = (end - start) // 60\n",
    "seconds = np.mod((end - start), 60)\n",
    "print('Time is: {} min {} sec'.format(int(minutes), int(seconds)))"
   ]
  },
  {
   "cell_type": "code",
   "execution_count": 258,
   "metadata": {},
   "outputs": [
    {
     "data": {
      "image/png": "[encoded data removed]",
      "text/plain": [
       "<Figure size 1080x360 with 1 Axes>"
      ]
     },
     "metadata": {
      "needs_background": "light"
     },
     "output_type": "display_data"
    }
   ],
   "source": [
    "plt.rcParams['figure.figsize'] = (15.0, 5.0)\n",
    "plt.plot(loss_list, label='train loss')\n",
    "plt.plot(val_loss, label='val loss')\n",
    "plt.title('Loss per epoch')\n",
    "plt.ylabel('loss')\n",
    "plt.xlabel('epoch')\n",
    "plt.grid()\n",
    "plt.legend()\n",
    "plt.show()"
   ]
  },
  {
   "cell_type": "code",
   "execution_count": 259,
   "metadata": {},
   "outputs": [
    {
     "data": {
      "application/vnd.jupyter.widget-view+json": {
       "model_id": "5b438d3ea70e454e8f2c941d266aa5e4",
       "version_major": 2,
       "version_minor": 0
      },
      "text/plain": [
       "  0%|          | 0/128315 [00:00<?, ?it/s]"
      ]
     },
     "metadata": {},
     "output_type": "display_data"
    },
    {
     "name": "stdout",
     "output_type": "stream",
     "text": [
      "Total frame accuracy is 0.581\n",
      "\n"
     ]
    }
   ],
   "source": [
    "class_correct = [0 for x in range(len(phones_dict.keys()))]\n",
    "class_total = [0 for x in range(len(phones_dict.keys()))]\n",
    "\n",
    "model.cpu()\n",
    "\n",
    "with torch.no_grad():\n",
    "    correct_cnt = 0\n",
    "    for ftr, true_label in tqdm(zip(data_set.valid[:, :-1], data_set.valid[:, -1]), total=data_set.valid.shape[0]):\n",
    "        ftr = torch.from_numpy(np.array([ftr])).float()\n",
    "        output = model.forward(ftr)\n",
    "        predicted_label = output.argmax().item()\n",
    "        correct_cnt += (predicted_label == true_label)\n",
    "        class_correct[predicted_label] += (predicted_label == int(true_label))\n",
    "        class_total[int(true_label)] += 1\n",
    "        \n",
    "print(\"Total frame accuracy is {:.3f}\\n\".format(correct_cnt / data_set.valid.shape[0]))"
   ]
  },
  {
   "cell_type": "markdown",
   "metadata": {},
   "source": [
    "## yes_no"
   ]
  },
  {
   "cell_type": "code",
   "execution_count": 260,
   "metadata": {},
   "outputs": [
    {
     "data": {
      "application/vnd.jupyter.widget-view+json": {
       "model_id": "b089024dd6a94913a0c3607f129c482c",
       "version_major": 2,
       "version_minor": 0
      },
      "text/plain": [
       "  0%|          | 0/10 [00:00<?, ?it/s]"
      ]
     },
     "metadata": {},
     "output_type": "display_data"
    },
    {
     "name": "stdout",
     "output_type": "stream",
     "text": [
      "Beam = 1\n",
      "\n",
      "result: yes_ff63ab0b_nohash_0       ==> YES\n",
      "result: yes_fe1916ba_nohash_0       ==> YES\n",
      "result: yes_fc94edb0_nohash_0       ==> NO\n",
      "result: no_41474817_nohash_0        ==> NO\n"
     ]
    },
    {
     "name": "stderr",
     "output_type": "stream",
     "text": [
      "/tmp/ipykernel_375/1815615332.py:13: UserWarning: To copy construct from a tensor, it is recommended to use sourceTensor.clone().detach() or sourceTensor.clone().detach().requires_grad_(True), rather than torch.tensor(sourceTensor).\n",
      "  predicts = nnet.forward(torch.tensor(input_feats, dtype=torch.float32))\n"
     ]
    },
    {
     "name": "stdout",
     "output_type": "stream",
     "text": [
      "result: yes_39a6b995_nohash_0       ==> NO\n",
      "result: yes_39a12648_nohash_0       ==> YES\n",
      "result: no_4abb2400_nohash_0        ==> NO\n",
      "result: no_ad89eb1e_nohash_0        ==> NO\n",
      "result: no_49af4432_nohash_0        ==> YES\n",
      "result: no_4394fc7c_nohash_0        ==> NO\n",
      "------------------------------------------------------------\n",
      "WER is: 30.00%\n",
      "Total time is: 0.36 sec\n",
      "------------------------------------------------------------\n",
      "\n",
      "##################################################\n",
      "\n",
      "Beam = 3\n",
      "\n",
      "result: yes_ff63ab0b_nohash_0       ==> YES\n",
      "result: yes_fe1916ba_nohash_0       ==> YES\n",
      "result: yes_fc94edb0_nohash_0       ==> YES\n",
      "result: no_41474817_nohash_0        ==> NO\n",
      "result: yes_39a6b995_nohash_0       ==> NO\n",
      "result: yes_39a12648_nohash_0       ==> YES\n",
      "result: no_4abb2400_nohash_0        ==> NO\n",
      "result: no_ad89eb1e_nohash_0        ==> NO\n",
      "result: no_49af4432_nohash_0        ==> YES\n",
      "result: no_4394fc7c_nohash_0        ==> NO\n",
      "------------------------------------------------------------\n",
      "WER is: 20.00%\n",
      "Total time is: 0.34 sec\n",
      "------------------------------------------------------------\n",
      "\n",
      "##################################################\n",
      "\n",
      "Beam = 5\n",
      "\n",
      "result: yes_ff63ab0b_nohash_0       ==> YES\n",
      "result: yes_fe1916ba_nohash_0       ==> YES\n",
      "result: yes_fc94edb0_nohash_0       ==> YES\n",
      "result: no_41474817_nohash_0        ==> NO\n",
      "result: yes_39a6b995_nohash_0       ==> NO\n",
      "result: yes_39a12648_nohash_0       ==> YES\n",
      "result: no_4abb2400_nohash_0        ==> NO\n",
      "result: no_ad89eb1e_nohash_0        ==> NO\n",
      "result: no_49af4432_nohash_0        ==> YES\n",
      "result: no_4394fc7c_nohash_0        ==> NO\n",
      "------------------------------------------------------------\n",
      "WER is: 20.00%\n",
      "Total time is: 0.42 sec\n",
      "------------------------------------------------------------\n",
      "\n",
      "##################################################\n",
      "\n",
      "Beam = 10\n",
      "\n",
      "result: yes_ff63ab0b_nohash_0       ==> YES\n",
      "result: yes_fe1916ba_nohash_0       ==> YES\n",
      "result: yes_fc94edb0_nohash_0       ==> YES\n",
      "result: no_41474817_nohash_0        ==> NO\n",
      "result: yes_39a6b995_nohash_0       ==> NO\n",
      "result: yes_39a12648_nohash_0       ==> YES\n",
      "result: no_4abb2400_nohash_0        ==> NO\n",
      "result: no_ad89eb1e_nohash_0        ==> NO\n",
      "result: no_49af4432_nohash_0        ==> NO\n",
      "result: no_4394fc7c_nohash_0        ==> YES\n",
      "------------------------------------------------------------\n",
      "WER is: 20.00%\n",
      "Total time is: 0.66 sec\n",
      "------------------------------------------------------------\n",
      "\n",
      "##################################################\n",
      "\n",
      "Beam = 20\n",
      "\n",
      "result: yes_ff63ab0b_nohash_0       ==> YES\n",
      "result: yes_fe1916ba_nohash_0       ==> YES\n",
      "result: yes_fc94edb0_nohash_0       ==> YES\n",
      "result: no_41474817_nohash_0        ==> NO\n",
      "result: yes_39a6b995_nohash_0       ==> NO\n",
      "result: yes_39a12648_nohash_0       ==> YES\n",
      "result: no_4abb2400_nohash_0        ==> NO\n",
      "result: no_ad89eb1e_nohash_0        ==> NO\n",
      "result: no_49af4432_nohash_0        ==> NO\n",
      "result: no_4394fc7c_nohash_0        ==> YES\n",
      "------------------------------------------------------------\n",
      "WER is: 20.00%\n",
      "Total time is: 1.13 sec\n",
      "------------------------------------------------------------\n",
      "\n",
      "##################################################\n",
      "\n"
     ]
    }
   ],
   "source": [
    "lexicon_file = 'lab2/data/lexicon_yes_no.txt'\n",
    "lexicon_dict = load_lexicon_dict(lexicon_file)\n",
    "graph = load_graph(lexicon_dict, phones_dict, priors_list)\n",
    "records_data_dict = load_data_dict(\"lab2/data/yes_no/records\")\n",
    "\n",
    "for beam in [1, 3, 5, 10, 20]:\n",
    "    print(f'Beam = {beam}\\n')\n",
    "    run_recognizer(records_data_dict, graph, model.cpu(), \n",
    "                   side_context, beam_threshold=beam, norm=True)\n",
    "    print()\n",
    "    print('##################################################')\n",
    "    print()"
   ]
  },
  {
   "cell_type": "markdown",
   "metadata": {},
   "source": [
    "## digits"
   ]
  },
  {
   "cell_type": "code",
   "execution_count": 261,
   "metadata": {
    "scrolled": false
   },
   "outputs": [
    {
     "data": {
      "application/vnd.jupyter.widget-view+json": {
       "model_id": "ac6f5644cc8145bb9964acc1e76e76b6",
       "version_major": 2,
       "version_minor": 0
      },
      "text/plain": [
       "  0%|          | 0/20 [00:00<?, ?it/s]"
      ]
     },
     "metadata": {},
     "output_type": "display_data"
    },
    {
     "name": "stdout",
     "output_type": "stream",
     "text": [
      "beam = 1\n",
      "\n",
      "result: eight_daf230ac_nohash_0     ==> TWO\n"
     ]
    },
    {
     "name": "stderr",
     "output_type": "stream",
     "text": [
      "/tmp/ipykernel_375/1815615332.py:13: UserWarning: To copy construct from a tensor, it is recommended to use sourceTensor.clone().detach() or sourceTensor.clone().detach().requires_grad_(True), rather than torch.tensor(sourceTensor).\n",
      "  predicts = nnet.forward(torch.tensor(input_feats, dtype=torch.float32))\n"
     ]
    },
    {
     "name": "stdout",
     "output_type": "stream",
     "text": [
      "result: eight_da584bc0_nohash_4     ==> FIVE\n",
      "result: seven_fe5c4a7a_nohash_0     ==> THREE\n",
      "result: four_fce65496_nohash_0      ==> TWO\n",
      "result: nine_ccea893d_nohash_0      ==> TWO\n",
      "result: zero_f92e49f3_nohash_3      ==> THREE\n",
      "result: four_ffbb695d_nohash_0      ==> TWO\n",
      "result: three_feb1d305_nohash_0     ==> THREE\n",
      "result: five_ffd2ba2f_nohash_0      ==> THREE\n",
      "result: three_fce96bac_nohash_0     ==> FOUR\n",
      "result: five_f852895b_nohash_0      ==> THREE\n",
      "result: six_ffbb695d_nohash_0       ==> THREE\n",
      "result: nine_fbe51750_nohash_0      ==> NINE\n",
      "result: two_fb2f3242_nohash_0       ==> THREE\n",
      "result: six_ffd2ba2f_nohash_0       ==> SIX\n",
      "result: zero_f852895b_nohash_0      ==> THREE\n",
      "result: one_fc2411fe_nohash_0       ==> NINE\n",
      "result: one_ffa76c4a_nohash_0       ==> ONE\n",
      "result: seven_fd32732a_nohash_0     ==> THREE\n",
      "result: two_fce65496_nohash_0       ==> TWO\n",
      "------------------------------------------------------------\n",
      "WER is: 75.00%\n",
      "Total time is: 1.74 sec\n",
      "------------------------------------------------------------\n",
      "\n",
      "##################################################\n",
      "\n",
      "beam = 5\n",
      "\n",
      "result: eight_daf230ac_nohash_0     ==> TWO\n",
      "result: eight_da584bc0_nohash_4     ==> FIVE\n",
      "result: seven_fe5c4a7a_nohash_0     ==> SEVEN\n",
      "result: four_fce65496_nohash_0      ==> ONE\n",
      "result: nine_ccea893d_nohash_0      ==> TWO\n",
      "result: zero_f92e49f3_nohash_3      ==> THREE\n",
      "result: four_ffbb695d_nohash_0      ==> FOUR\n",
      "result: three_feb1d305_nohash_0     ==> SEVEN\n",
      "result: five_ffd2ba2f_nohash_0      ==> THREE\n",
      "result: three_fce96bac_nohash_0     ==> SEVEN\n",
      "result: five_f852895b_nohash_0      ==> THREE\n",
      "result: six_ffbb695d_nohash_0       ==> SIX\n",
      "result: nine_fbe51750_nohash_0      ==> NINE\n",
      "result: two_fb2f3242_nohash_0       ==> THREE\n",
      "result: six_ffd2ba2f_nohash_0       ==> SIX\n",
      "result: zero_f852895b_nohash_0      ==> THREE\n",
      "result: one_fc2411fe_nohash_0       ==> ONE\n",
      "result: one_ffa76c4a_nohash_0       ==> ONE\n",
      "result: seven_fd32732a_nohash_0     ==> SEVEN\n",
      "result: two_fce65496_nohash_0       ==> TWO\n",
      "------------------------------------------------------------\n",
      "WER is: 55.00%\n",
      "Total time is: 2.66 sec\n",
      "------------------------------------------------------------\n",
      "\n",
      "##################################################\n",
      "\n",
      "beam = 10\n",
      "\n",
      "result: eight_daf230ac_nohash_0     ==> ZERO\n",
      "result: eight_da584bc0_nohash_4     ==> NINE\n",
      "result: seven_fe5c4a7a_nohash_0     ==> SEVEN\n",
      "result: four_fce65496_nohash_0      ==> FOUR\n",
      "result: nine_ccea893d_nohash_0      ==> NINE\n",
      "result: zero_f92e49f3_nohash_3      ==> ZERO\n",
      "result: four_ffbb695d_nohash_0      ==> FOUR\n",
      "result: three_feb1d305_nohash_0     ==> SEVEN\n",
      "result: five_ffd2ba2f_nohash_0      ==> FIVE\n",
      "result: three_fce96bac_nohash_0     ==> SEVEN\n",
      "result: five_f852895b_nohash_0      ==> THREE\n",
      "result: six_ffbb695d_nohash_0       ==> SIX\n",
      "result: nine_fbe51750_nohash_0      ==> NINE\n",
      "result: two_fb2f3242_nohash_0       ==> THREE\n",
      "result: six_ffd2ba2f_nohash_0       ==> SIX\n",
      "result: zero_f852895b_nohash_0      ==> THREE\n",
      "result: one_fc2411fe_nohash_0       ==> ONE\n",
      "result: one_ffa76c4a_nohash_0       ==> ONE\n",
      "result: seven_fd32732a_nohash_0     ==> SEVEN\n",
      "result: two_fce65496_nohash_0       ==> ONE\n",
      "------------------------------------------------------------\n",
      "WER is: 40.00%\n",
      "Total time is: 5.04 sec\n",
      "------------------------------------------------------------\n",
      "\n",
      "##################################################\n",
      "\n",
      "beam = 20\n",
      "\n",
      "result: eight_daf230ac_nohash_0     ==> EIGHT\n",
      "result: eight_da584bc0_nohash_4     ==> FIVE\n",
      "result: seven_fe5c4a7a_nohash_0     ==> SEVEN\n",
      "result: four_fce65496_nohash_0      ==> FOUR\n",
      "result: nine_ccea893d_nohash_0      ==> NINE\n",
      "result: zero_f92e49f3_nohash_3      ==> ZERO\n",
      "result: four_ffbb695d_nohash_0      ==> FOUR\n",
      "result: three_feb1d305_nohash_0     ==> THREE\n",
      "result: five_ffd2ba2f_nohash_0      ==> FIVE\n",
      "result: three_fce96bac_nohash_0     ==> SEVEN\n",
      "result: five_f852895b_nohash_0      ==> THREE\n",
      "result: six_ffbb695d_nohash_0       ==> SIX\n",
      "result: nine_fbe51750_nohash_0      ==> NINE\n",
      "result: two_fb2f3242_nohash_0       ==> TWO\n",
      "result: six_ffd2ba2f_nohash_0       ==> SIX\n",
      "result: zero_f852895b_nohash_0      ==> THREE\n",
      "result: one_fc2411fe_nohash_0       ==> ONE\n",
      "result: one_ffa76c4a_nohash_0       ==> ONE\n",
      "result: seven_fd32732a_nohash_0     ==> SEVEN\n",
      "result: two_fce65496_nohash_0       ==> TWO\n",
      "------------------------------------------------------------\n",
      "WER is: 20.00%\n",
      "Total time is: 7.54 sec\n",
      "------------------------------------------------------------\n",
      "\n",
      "##################################################\n",
      "\n",
      "beam = 30\n",
      "\n",
      "result: eight_daf230ac_nohash_0     ==> EIGHT\n",
      "result: eight_da584bc0_nohash_4     ==> FIVE\n",
      "result: seven_fe5c4a7a_nohash_0     ==> SEVEN\n",
      "result: four_fce65496_nohash_0      ==> FOUR\n",
      "result: nine_ccea893d_nohash_0      ==> NINE\n",
      "result: zero_f92e49f3_nohash_3      ==> ZERO\n",
      "result: four_ffbb695d_nohash_0      ==> FOUR\n",
      "result: three_feb1d305_nohash_0     ==> THREE\n",
      "result: five_ffd2ba2f_nohash_0      ==> FIVE\n",
      "result: three_fce96bac_nohash_0     ==> THREE\n",
      "result: five_f852895b_nohash_0      ==> FIVE\n",
      "result: six_ffbb695d_nohash_0       ==> SIX\n",
      "result: nine_fbe51750_nohash_0      ==> NINE\n",
      "result: two_fb2f3242_nohash_0       ==> TWO\n",
      "result: six_ffd2ba2f_nohash_0       ==> SIX\n",
      "result: zero_f852895b_nohash_0      ==> THREE\n",
      "result: one_fc2411fe_nohash_0       ==> ONE\n",
      "result: one_ffa76c4a_nohash_0       ==> FOUR\n",
      "result: seven_fd32732a_nohash_0     ==> SEVEN\n",
      "result: two_fce65496_nohash_0       ==> TWO\n",
      "------------------------------------------------------------\n",
      "WER is: 15.00%\n",
      "Total time is: 9.55 sec\n",
      "------------------------------------------------------------\n",
      "\n",
      "##################################################\n",
      "\n",
      "beam = 50\n",
      "\n",
      "result: eight_daf230ac_nohash_0     ==> EIGHT\n",
      "result: eight_da584bc0_nohash_4     ==> FIVE\n",
      "result: seven_fe5c4a7a_nohash_0     ==> SEVEN\n",
      "result: four_fce65496_nohash_0      ==> FOUR\n",
      "result: nine_ccea893d_nohash_0      ==> NINE\n",
      "result: zero_f92e49f3_nohash_3      ==> ZERO\n",
      "result: four_ffbb695d_nohash_0      ==> FOUR\n",
      "result: three_feb1d305_nohash_0     ==> THREE\n",
      "result: five_ffd2ba2f_nohash_0      ==> FIVE\n",
      "result: three_fce96bac_nohash_0     ==> THREE\n",
      "result: five_f852895b_nohash_0      ==> FIVE\n",
      "result: six_ffbb695d_nohash_0       ==> SIX\n",
      "result: nine_fbe51750_nohash_0      ==> NINE\n",
      "result: two_fb2f3242_nohash_0       ==> TWO\n",
      "result: six_ffd2ba2f_nohash_0       ==> SIX\n",
      "result: zero_f852895b_nohash_0      ==> ZERO\n",
      "result: one_fc2411fe_nohash_0       ==> ONE\n",
      "result: one_ffa76c4a_nohash_0       ==> FOUR\n",
      "result: seven_fd32732a_nohash_0     ==> SEVEN\n",
      "result: two_fce65496_nohash_0       ==> TWO\n",
      "------------------------------------------------------------\n",
      "WER is: 10.00%\n",
      "Total time is: 11.51 sec\n",
      "------------------------------------------------------------\n",
      "\n",
      "##################################################\n",
      "\n"
     ]
    }
   ],
   "source": [
    "lexicon_file = 'lab2/data/lexicon_digits.txt'\n",
    "lexicon_dict = load_lexicon_dict(lexicon_file)\n",
    "graph = load_graph(lexicon_dict, phones_dict, priors_list)\n",
    "records_data_dict = load_data_dict(\"lab2/data/digits/records\")\n",
    "\n",
    "for beam in [1, 5, 10, 20, 30, 50]:\n",
    "    print(f'beam = {beam}')\n",
    "    print()\n",
    "    run_recognizer(records_data_dict, graph, model.cpu(), \n",
    "                   side_context, beam_threshold=beam, norm=True)\n",
    "    print()\n",
    "    print('##################################################')\n",
    "    print()"
   ]
  },
  {
   "cell_type": "markdown",
   "metadata": {
    "id": "cJo6-Zv--oMZ"
   },
   "source": [
    "### **Ответ**:\n",
    "\n",
    "Т.к. модель с контекстом побила Baseline, то новые модели будем сравнивать с ней."
   ]
  },
  {
   "cell_type": "markdown",
   "metadata": {},
   "source": [
    "Были испробованы различные способы для улучшения качества. Менялась архитектура (добавлен еще один полносвязный слой, батчнорм), менялся оптимизатор, применялись шедулеры. Но, к сожалению, сильно улучшить качество не удалось. Ниже примедены результаты работы моделей. Красным шрифтом выделены победители. При равных скорах предпочтение отдавалось модели попроще и с меньшим временем работы."
   ]
  },
  {
   "cell_type": "markdown",
   "metadata": {},
   "source": [
    "В целом можно заметить, что лишь добавление контекста уже сильно улучшило качество распознавания для датасета `yes_no`. С цифрами все оказалось сложнее. Думаю это связано с тем, что сам датасет сложнее. Поэтому более сложные модели лучше подходят для датасета с цифрами, в то время как на датасете `yes_no` качество просело. Тем неменее, удалось добиться снижения WER до 10% при условии beam = 1.\n",
    "\n",
    "На датасете с цифрами удалось добиться нулевой ошибки при пороге beam = 50. Хотя на качество модели сиольное влияние оказывает начальная инициализация весов. При неоднократном перезапуске обучения результат обучения модели меняется.   \n",
    "\n",
    "Ниже приведены результаты."
   ]
  },
  {
   "cell_type": "markdown",
   "metadata": {},
   "source": [
    "Качество на датасетах:  \n",
    "***Yes_no***  \n",
    "**1) beam = 1**  \n",
    "* side_context = 2:\n",
    "   * WER = 20%\n",
    "   * Время = 0.39 сек\n",
    "* MyNewNNet + Adam:\n",
    "   * WER = 30%  \n",
    "   * Время = 0.29 сек\n",
    "* MyNewNNet + Adam + ReduceLROnPlateau:\n",
    "   * WER = 20%  \n",
    "   * Время = 0.30 сек\n",
    "* MyNNet + Adam + ReduceLROnPlateau:\n",
    "   * WER = 20%  \n",
    "   * Время = 0.29 сек\n",
    "* MyNNet + SGD + ReduceLROnPlateau:\n",
    "   * WER = 30%  \n",
    "   * Время = 0.27 сек\n",
    "* MyNewNNet + SGD + StepLR:\n",
    "   * WER = 20%  \n",
    "   * Время = 0.34 сек\n",
    "* MyNNet + SGD + StepLR:\n",
    "   * WER = 20%  \n",
    "   * Время = 0.31 сек\n",
    "* <span style=\"color:red;font-weight:500;font-size:16px\"> MyNormNNet + Adam + StepLR: </span> \n",
    "   * <span style=\"color:red;font-weight:500;font-size:16px\">WER = 10%  </span>\n",
    "   * <span style=\"color:red;font-weight:500;font-size:16px\">Время = 0.39 сек  </span>\n",
    "* MyNormNNet + Adam + ReduceLROnPlateau:\n",
    "   * WER = 20%  \n",
    "   * Время = 0.38 сек \n",
    "* MyNormNNet + Adam + StepLR + ReduceLROnPlateau:\n",
    "   * WER = 30%  \n",
    "   * Время = 0.36 сек\n",
    "\n",
    "   \n",
    "**2) beam = 3**\n",
    "* <span style=\"color:red;font-weight:500;font-size:16px\">side_context = 2:</span>\n",
    "   * <span style=\"color:red;font-weight:500;font-size:16px\">WER = 10%</span>\n",
    "   * <span style=\"color:red;font-weight:500;font-size:16px\">Время = 0.37 сек</span>\n",
    "* MyNewNNet + Adam:\n",
    "   * WER = 20%  \n",
    "   * Время = 0.36 сек\n",
    "* MyNewNNet + Adam + ReduceLROnPlateau:\n",
    "   * WER = 10%  \n",
    "   * Время = 0.29 сек\n",
    "* MyNNet + Adam + ReduceLROnPlateau:\n",
    "   * WER = 20%  \n",
    "   * Время = 0.25 сек\n",
    "* MyNNet + SGD + ReduceLROnPlateau:\n",
    "   * WER = 30%  \n",
    "   * Время = 0.30 сек\n",
    "* MyNewNNet + SGD + StepLR:\n",
    "   * WER = 30%  \n",
    "   * Время = 0.31 сек\n",
    "* MyNNet + SGD + StepLR:\n",
    "   * WER = 20%  \n",
    "   * Время = 0.26 сек\n",
    "* MyNormNNet + Adam + StepLR:\n",
    "   * WER = 10%  \n",
    "   * Время = 0.69 сек\n",
    "* MyNormNNet + Adam + ReduceLROnPlateau:\n",
    "   * WER = 30%  \n",
    "   * Время = 0.42 сек \n",
    "* MyNormNNet + Adam + StepLR + ReduceLROnPlateau:\n",
    "   * WER = 20%  \n",
    "   * Время = 0.34 сек\n",
    "\n",
    "**3) beam = 5**\n",
    "* <span style=\"color:red;font-weight:500;font-size:16px\">side_context = 2:</span>\n",
    "   * <span style=\"color:red;font-weight:500;font-size:16px\">WER = 0%</span>\n",
    "   * <span style=\"color:red;font-weight:500;font-size:16px\">Время = 0.34 сек</span>\n",
    "* MyNewNNet + Adam:\n",
    "   * WER = 20%  \n",
    "   * Время = 0.39 сек\n",
    "* MyNewNNet + Adam + ReduceLROnPlateau:\n",
    "   * WER = 10%  \n",
    "   * Время = 0.40 сек\n",
    "* MyNNet + Adam + ReduceLROnPlateau:\n",
    "   * WER = 20%  \n",
    "   * Время = 0.35 сек\n",
    "* MyNNet + SGD + ReduceLROnPlateau:\n",
    "   * WER = 20%  \n",
    "   * Время = 0.34 сек\n",
    "* MyNewNNet + SGD + StepLR:\n",
    "   * WER = 30%  \n",
    "   * Время = 0.43 сек\n",
    "* MyNNet + SGD + StepLR:\n",
    "   * WER = 20%  \n",
    "   * Время = 0.41 сек\n",
    "* MyNormNNet + Adam + StepLR:\n",
    "   * WER = 10%  \n",
    "   * Время = 0.51 сек\n",
    "* MyNormNNet + Adam + ReduceLROnPlateau:\n",
    "   * WER = 0%  \n",
    "   * Время = 0.48 сек \n",
    "* MyNormNNet + Adam + StepLR + ReduceLROnPlateau:\n",
    "   * WER = 20%  \n",
    "   * Время = 0.42 сек\n",
    "\n",
    "**4) beam = 10**\n",
    "* <span style=\"color:red;font-weight:500;font-size:16px\">side_context = 2:</span>\n",
    "   * <span style=\"color:red;font-weight:500;font-size:16px\">WER = 0%</span>\n",
    "   * <span style=\"color:red;font-weight:500;font-size:16px\">Время = 0.46 сек</span>\n",
    "* MyNewNNet + Adam:\n",
    "   * WER = 0%  \n",
    "   * Время = 0.66 сек\n",
    "* MyNewNNet + Adam + ReduceLROnPlateau:\n",
    "   * WER = 10%  \n",
    "   * Время = 0.56 сек\n",
    "* MyNNet + Adam + ReduceLROnPlateau:\n",
    "   * WER = 10%  \n",
    "   * Время = 0.43 сек\n",
    "* MyNNet + SGD + ReduceLROnPlateau:\n",
    "   * WER = 30%  \n",
    "   * Время = 0.49 сек\n",
    "* MyNewNNet + SGD + StepLR:\n",
    "   * WER = 20%  \n",
    "   * Время = 0.62 сек\n",
    "* MyNNet + SGD + StepLR:\n",
    "   * WER = 10%  \n",
    "   * Время = 0.50 сек\n",
    "* MyNormNNet + Adam + StepLR:\n",
    "   * WER = 10%  \n",
    "   * Время = 0.72 сек\n",
    "* MyNormNNet + Adam + ReduceLROnPlateau:\n",
    "   * WER = 10%  \n",
    "   * Время = 0.75 сек \n",
    "* MyNormNNet + Adam + StepLR + ReduceLROnPlateau:\n",
    "   * WER = 20%  \n",
    "   * Время = 0.66 сек\n",
    "\n",
    "**5) beam = 20**\n",
    "* <span style=\"color:red;font-weight:500;font-size:16px\">side_context = 2:</span>\n",
    "   * <span style=\"color:red;font-weight:500;font-size:16px\">WER = 0%</span>\n",
    "   * <span style=\"color:red;font-weight:500;font-size:16px\">Время = 0.65 сек</span>\n",
    "* MyNewNNet + Adam:\n",
    "   * WER = 0%  \n",
    "   * Время = 0.77 сек\n",
    "* MyNewNNet + Adam + ReduceLROnPlateau:\n",
    "   * WER = 0%  \n",
    "   * Время = 0.75 сек\n",
    "* MyNNet + Adam + ReduceLROnPlateau:\n",
    "   * WER = 10%  \n",
    "   * Время = 0.59 сек\n",
    "* MyNNet + SGD + ReduceLROnPlateau:\n",
    "   * WER = 20%  \n",
    "   * Время = 0.68 сек\n",
    "* MyNewNNet + SGD + StepLR:\n",
    "   * WER = 20%  \n",
    "   * Время = 0.84 сек\n",
    "* MyNNet + SGD + StepLR:\n",
    "   * WER = 10%  \n",
    "   * Время = 0.82 сек\n",
    "* MyNormNNet + Adam + StepLR:\n",
    "   * WER = 10%  \n",
    "   * Время = 0.93 сек\n",
    "* MyNormNNet + Adam + ReduceLROnPlateau:\n",
    "   * WER = 10%  \n",
    "   * Время = 0.97 сек \n",
    "* MyNormNNet + Adam + StepLR + ReduceLROnPlateau:\n",
    "   * WER = 20%  \n",
    "   * Время = 1.13 сек\n",
    "  "
   ]
  },
  {
   "cell_type": "markdown",
   "metadata": {},
   "source": [
    " ***Digits***  \n",
    "**1) beam = 1**\n",
    "* <span style=\"color:red;font-weight:500;font-size:16px\">side_context = 2:</span>\n",
    "   * <span style=\"color:red;font-weight:500;font-size:16px\">WER = 65%</span>\n",
    "   * <span style=\"color:red;font-weight:500;font-size:16px\">Время = 1.13 сек</span>\n",
    "* MyNewNNet + Adam:\n",
    "   * WER = 80%  \n",
    "   * Время = 1.20 сек\n",
    "* MyNewNNet + Adam + ReduceLROnPlateau:\n",
    "   * WER = 80%  \n",
    "   * Время = 1.06 сек\n",
    "* MyNNet + Adam + ReduceLROnPlateau:\n",
    "   * WER = 75%  \n",
    "   * Время = 1.04 сек\n",
    "* MyNNet + SGD + ReduceLROnPlateau:\n",
    "   * WER = 80%  \n",
    "   * Время = 0.98 сек\n",
    "* MyNewNNet + SGD + StepLR:\n",
    "   * WER = 75%  \n",
    "   * Время = 1.28 сек\n",
    "* MyNNet + SGD + StepLR:\n",
    "   * WER = 65%  \n",
    "   * Время = 1.49 сек\n",
    "* MyNormNNet + Adam + StepLR:\n",
    "   * WER = 65%  \n",
    "   * Время = 1.49 сек\n",
    "* MyNormNNet + Adam + ReduceLROnPlateau:\n",
    "   * WER = 80%  \n",
    "   * Время = 1.19 сек \n",
    "* MyNormNNet + Adam + StepLR + ReduceLROnPlateau:\n",
    "   * WER = 75%  \n",
    "   * Время = 1.74 сек\n",
    "\n",
    "**2) beam = 5**\n",
    "* side_context = 2:\n",
    "   * WER = 55%\n",
    "   * Время = 1.92 сек\n",
    "* MyNewNNet + Adam:\n",
    "   * WER = 55%  \n",
    "   * Время = 2.41 сек\n",
    "* MyNewNNet + Adam + ReduceLROnPlateau:\n",
    "   * WER = 50%  \n",
    "   * Время = 2.38 сек\n",
    "* MyNNet + Adam + ReduceLROnPlateau:\n",
    "   * WER = 50%  \n",
    "   * Время = 2.10 сек\n",
    "* MyNNet + SGD + ReduceLROnPlateau:\n",
    "   * WER = 50%  \n",
    "   * Время = 2.41 сек\n",
    "* <span style=\"color:red;font-weight:500;font-size:16px\">MyNewNNet + SGD + StepLR:</span>\n",
    "   * <span style=\"color:red;font-weight:500;font-size:16px\">WER = 45% </span> \n",
    "   * <span style=\"color:red;font-weight:500;font-size:16px\">Время = 2.66 сек</span>\n",
    "* MyNNet + SGD + StepLR:\n",
    "   * WER = 50%  \n",
    "   * Время = 2.36 сек\n",
    "* MyNormNNet + Adam + StepLR:\n",
    "   * WER = 50%  \n",
    "   * Время = 2.58 сек\n",
    "* MyNormNNet + Adam + ReduceLROnPlateau:\n",
    "   * WER = 55%  \n",
    "   * Время = 2.29 сек \n",
    "* MyNormNNet + Adam + StepLR + ReduceLROnPlateau:\n",
    "   * WER = 55%  \n",
    "   * Время = 2.66 сек\n",
    "  \n",
    "**3) beam = 10**\n",
    "* <span style=\"color:red;font-weight:500;font-size:16px\">side_context = 2:</span>\n",
    "   * <span style=\"color:red;font-weight:500;font-size:16px\">WER = 25%</span>\n",
    "   * <span style=\"color:red;font-weight:500;font-size:16px\">Время = 3.61 сек</span>\n",
    "* MyNewNNet + Adam:\n",
    "   * WER = 30%  \n",
    "   * Время = 4.85 сек\n",
    "* MyNewNNet + Adam + ReduceLROnPlateau:\n",
    "   * WER = 35%  \n",
    "   * Время = 5.76 сек\n",
    "* MyNNet + Adam + ReduceLROnPlateau:\n",
    "   * WER = 25%  \n",
    "   * Время = 3.05 сек\n",
    "* MyNNet + SGD + ReduceLROnPlateau:\n",
    "   * WER = 25%  \n",
    "   * Время = 3.85 сек\n",
    "* MyNewNNet + SGD + StepLR:\n",
    "   * WER = 35%  \n",
    "   * Время = 4.76 сек\n",
    "* MyNNet + SGD + StepLR:\n",
    "   * WER = 35%  \n",
    "   * Время = 3.86 сек\n",
    "* MyNormNNet + Adam + StepLR:\n",
    "   * WER = 30%  \n",
    "   * Время = 4.38 сек\n",
    "* MyNormNNet + Adam + ReduceLROnPlateau:\n",
    "   * WER = 40%  \n",
    "   * Время = 4.27 сек \n",
    "* MyNormNNet + Adam + StepLR + ReduceLROnPlateau:\n",
    "   * WER = 40%  \n",
    "   * Время = 5.04 сек\n",
    "   \n",
    "**4) beam = 20**\n",
    "* side_context = 2:\n",
    "   * WER = 10%\n",
    "   * Время = 5.52 сек\n",
    "* MyNewNNet + Adam:\n",
    "   * WER = 10%  \n",
    "   * Время = 7.06 сек\n",
    "* <span style=\"color:red;font-weight:500;font-size:16px\">MyNewNNet + Adam + ReduceLROnPlateau:</span>\n",
    "   * <span style=\"color:red;font-weight:500;font-size:16px\">WER = 5%  </span>\n",
    "   * <span style=\"color:red;font-weight:500;font-size:16px\">Время = 8.94 сек</span>\n",
    "* MyNNet + Adam + ReduceLROnPlateau:\n",
    "   * WER = 15%  \n",
    "   * Время = 5.58 сек\n",
    "* MyNNet + SGD + ReduceLROnPlateau:\n",
    "   * WER = 15%  \n",
    "   * Время = 5.80 сек\n",
    "* MyNewNNet + SGD + StepLR:\n",
    "   * WER = 15%  \n",
    "   * Время = 7.97 сек\n",
    "* MyNNet + SGD + StepLR:\n",
    "   * WER = 15%  \n",
    "   * Время = 6.55 сек\n",
    "* MyNormNNet + Adam + StepLR:\n",
    "   * WER = 10%  \n",
    "   * Время = 7.39 сек\n",
    "* MyNormNNet + Adam + ReduceLROnPlateau:\n",
    "   * WER = 20%  \n",
    "   * Время = 7.18 сек \n",
    "* MyNormNNet + Adam + StepLR + ReduceLROnPlateau:\n",
    "   * WER = 20%  \n",
    "   * Время = 7.54 сек\n",
    "   \n",
    "**5) beam = 30**\n",
    "* side_context = 2:\n",
    "   * WER = 10%\n",
    "   * Время = 6.99 сек\n",
    "* MyNewNNet + Adam:\n",
    "   * WER = 10%  \n",
    "   * Время = 8.21 сек\n",
    "* MyNewNNet + Adam + ReduceLROnPlateau:\n",
    "   * WER = 5%  \n",
    "   * Время = 8.37 сек\n",
    "* <span style=\"color:red;font-weight:500;font-size:16px\">MyNNet + Adam + ReduceLROnPlateau:</span>\n",
    "   * <span style=\"color:red;font-weight:500;font-size:16px\">WER = 5%  </span>\n",
    "   * <span style=\"color:red;font-weight:500;font-size:16px\">Время = 7.02 сек</span>\n",
    "* MyNNet + SGD + ReduceLROnPlateau:\n",
    "   * WER = 10%  \n",
    "   * Время = 8.37 сек\n",
    "* MyNewNNet + SGD + StepLR:\n",
    "   * WER = 10%  \n",
    "   * Время = 8.72 сек\n",
    "* MyNNet + SGD + StepLR:\n",
    "   * WER = 10%  \n",
    "   * Время = 7.37 сек\n",
    "* MyNormNNet + Adam + StepLR:\n",
    "   * WER = 10%  \n",
    "   * Время = 11.69 сек\n",
    "* MyNormNNet + Adam + ReduceLROnPlateau:\n",
    "   * WER = 10%  \n",
    "   * Время = 8.88 сек \n",
    "* MyNormNNet + Adam + StepLR + ReduceLROnPlateau:\n",
    "   * WER = 15%  \n",
    "   * Время = 9.55 сек\n",
    "\n",
    "   \n",
    "**6) beam = 50**\n",
    "* side_context = 2:\n",
    "   * WER = 15%\n",
    "   * Время = 7.99 сек\n",
    "* MyNewNNet + Adam:\n",
    "   * WER = 10%  \n",
    "   * Время = 10.23 сек\n",
    "* MyNewNNet + Adam + ReduceLROnPlateau:\n",
    "   * WER = 5%  \n",
    "   * Время = 10.08 сек\n",
    "* <span style=\"color:red;font-weight:500;font-size:16px\">MyNNet + Adam + ReduceLROnPlateau:</span>\n",
    "   * <span style=\"color:red;font-weight:500;font-size:16px\">WER = 0%  </span>\n",
    "   * <span style=\"color:red;font-weight:500;font-size:16px\">Время = 7.66 сек</span>\n",
    "* MyNNet + SGD + ReduceLROnPlateau:\n",
    "   * WER = 5%  \n",
    "   * Время = 10.62 сек\n",
    "* MyNewNNet + SGD + StepLR:\n",
    "   * WER = 5%  \n",
    "   * Время = 10.42 сек\n",
    "* MyNNet + SGD + StepLR:\n",
    "   * WER = 5%  \n",
    "   * Время = 11.35 сек\n",
    "* MyNormNNet + Adam + StepLR:\n",
    "   * WER = 5%  \n",
    "   * Время = 12.09 сек\n",
    "* MyNormNNet + Adam + ReduceLROnPlateau:\n",
    "   * WER = 15%  \n",
    "   * Время = 12.41 сек \n",
    "* MyNormNNet + Adam + StepLR + ReduceLROnPlateau:\n",
    "   * WER = 10%  \n",
    "   * Время = 11.51 сек"
   ]
  },
  {
   "cell_type": "code",
   "execution_count": null,
   "metadata": {},
   "outputs": [],
   "source": []
  }
 ],
 "metadata": {
  "accelerator": "GPU",
  "colab": {
   "collapsed_sections": [],
   "name": "asr_lab_3.ipynb",
   "provenance": []
  },
  "kernelspec": {
   "display_name": "Python 3",
   "language": "python",
   "name": "python3"
  },
  "language_info": {
   "codemirror_mode": {
    "name": "ipython",
    "version": 3
   },
   "file_extension": ".py",
   "mimetype": "text/x-python",
   "name": "python",
   "nbconvert_exporter": "python",
   "pygments_lexer": "ipython3",
   "version": "3.7.11"
  },
  "widgets": {
   "application/vnd.jupyter.widget-state+json": {
    "0283ebe18a024860a2efef1b91df7d37": {
     "model_module": "@jupyter-widgets/controls",
     "model_module_version": "1.5.0",
     "model_name": "ProgressStyleModel",
     "state": {
      "_model_module": "@jupyter-widgets/controls",
      "_model_module_version": "1.5.0",
      "_model_name": "ProgressStyleModel",
      "_view_count": null,
      "_view_module": "@jupyter-widgets/base",
      "_view_module_version": "1.2.0",
      "_view_name": "StyleView",
      "bar_color": null,
      "description_width": ""
     }
    },
    "08cc3c287a274892bb80e5fa7b36467a": {
     "model_module": "@jupyter-widgets/controls",
     "model_module_version": "1.5.0",
     "model_name": "HTMLModel",
     "state": {
      "_dom_classes": [],
      "_model_module": "@jupyter-widgets/controls",
      "_model_module_version": "1.5.0",
      "_model_name": "HTMLModel",
      "_view_count": null,
      "_view_module": "@jupyter-widgets/controls",
      "_view_module_version": "1.5.0",
      "_view_name": "HTMLView",
      "description": "",
      "description_tooltip": null,
      "layout": "IPY_MODEL_915128e88a374e1f89779d263a1f98df",
      "placeholder": "​",
      "style": "IPY_MODEL_594cad0cc82948b9b958564eb7c5c0c9",
      "value": " 4508/4508 [00:07&lt;00:00, 570.37it/s]"
     }
    },
    "09f11db0c7f94246b53da027e4f2e3d4": {
     "model_module": "@jupyter-widgets/controls",
     "model_module_version": "1.5.0",
     "model_name": "FloatProgressModel",
     "state": {
      "_dom_classes": [],
      "_model_module": "@jupyter-widgets/controls",
      "_model_module_version": "1.5.0",
      "_model_name": "FloatProgressModel",
      "_view_count": null,
      "_view_module": "@jupyter-widgets/controls",
      "_view_module_version": "1.5.0",
      "_view_name": "ProgressView",
      "bar_style": "success",
      "description": "",
      "description_tooltip": null,
      "layout": "IPY_MODEL_b364cc7f304c435c8c9a93b9a707db10",
      "max": 10,
      "min": 0,
      "orientation": "horizontal",
      "style": "IPY_MODEL_0ae8de64ea344aaaad1a71dae2281360",
      "value": 10
     }
    },
    "0ae8de64ea344aaaad1a71dae2281360": {
     "model_module": "@jupyter-widgets/controls",
     "model_module_version": "1.5.0",
     "model_name": "ProgressStyleModel",
     "state": {
      "_model_module": "@jupyter-widgets/controls",
      "_model_module_version": "1.5.0",
      "_model_name": "ProgressStyleModel",
      "_view_count": null,
      "_view_module": "@jupyter-widgets/base",
      "_view_module_version": "1.2.0",
      "_view_name": "StyleView",
      "bar_color": null,
      "description_width": ""
     }
    },
    "0ca92cb12679415f925c4aab6d67eecc": {
     "model_module": "@jupyter-widgets/controls",
     "model_module_version": "1.5.0",
     "model_name": "HBoxModel",
     "state": {
      "_dom_classes": [],
      "_model_module": "@jupyter-widgets/controls",
      "_model_module_version": "1.5.0",
      "_model_name": "HBoxModel",
      "_view_count": null,
      "_view_module": "@jupyter-widgets/controls",
      "_view_module_version": "1.5.0",
      "_view_name": "HBoxView",
      "box_style": "",
      "children": [
       "IPY_MODEL_dd17d7fa6f4d438eb0f1fdfff4a554dd",
       "IPY_MODEL_dccee0a8f4ea4081b5c047ac36676441",
       "IPY_MODEL_ef496409e27f4f06b16fdb108f7a449f"
      ],
      "layout": "IPY_MODEL_761a41730f354c0aa7b3930f9592ab59"
     }
    },
    "0da58b33113842de9630eb5bf85274a0": {
     "model_module": "@jupyter-widgets/controls",
     "model_module_version": "1.5.0",
     "model_name": "HTMLModel",
     "state": {
      "_dom_classes": [],
      "_model_module": "@jupyter-widgets/controls",
      "_model_module_version": "1.5.0",
      "_model_name": "HTMLModel",
      "_view_count": null,
      "_view_module": "@jupyter-widgets/controls",
      "_view_module_version": "1.5.0",
      "_view_name": "HTMLView",
      "description": "",
      "description_tooltip": null,
      "layout": "IPY_MODEL_ed998554b0c843e2ad2bf9543dc6e9c4",
      "placeholder": "​",
      "style": "IPY_MODEL_a7d040b1694e4ed1a08cb73a0e716613",
      "value": " 33%"
     }
    },
    "0e32efd0274f43618306e57154a4ac30": {
     "model_module": "@jupyter-widgets/controls",
     "model_module_version": "1.5.0",
     "model_name": "DescriptionStyleModel",
     "state": {
      "_model_module": "@jupyter-widgets/controls",
      "_model_module_version": "1.5.0",
      "_model_name": "DescriptionStyleModel",
      "_view_count": null,
      "_view_module": "@jupyter-widgets/base",
      "_view_module_version": "1.2.0",
      "_view_name": "StyleView",
      "description_width": ""
     }
    },
    "0e693167218143fdb1ebed02bcf12ff7": {
     "model_module": "@jupyter-widgets/controls",
     "model_module_version": "1.5.0",
     "model_name": "HBoxModel",
     "state": {
      "_dom_classes": [],
      "_model_module": "@jupyter-widgets/controls",
      "_model_module_version": "1.5.0",
      "_model_name": "HBoxModel",
      "_view_count": null,
      "_view_module": "@jupyter-widgets/controls",
      "_view_module_version": "1.5.0",
      "_view_name": "HBoxView",
      "box_style": "",
      "children": [
       "IPY_MODEL_255465883c7a4305b78b6835c9c0d9ac",
       "IPY_MODEL_ba51c5f6c89145eb8454a74256afe2f4",
       "IPY_MODEL_a8a6183788ba4b0ba58ccca1f5233976"
      ],
      "layout": "IPY_MODEL_427a6b6a50f14579b47cfcd19e0933a3"
     }
    },
    "0e8b2d6ceab14913ba96d43e4e03923b": {
     "model_module": "@jupyter-widgets/controls",
     "model_module_version": "1.5.0",
     "model_name": "HTMLModel",
     "state": {
      "_dom_classes": [],
      "_model_module": "@jupyter-widgets/controls",
      "_model_module_version": "1.5.0",
      "_model_name": "HTMLModel",
      "_view_count": null,
      "_view_module": "@jupyter-widgets/controls",
      "_view_module_version": "1.5.0",
      "_view_name": "HTMLView",
      "description": "",
      "description_tooltip": null,
      "layout": "IPY_MODEL_b165e4f9ef0b404882c8794f0ad311a9",
      "placeholder": "​",
      "style": "IPY_MODEL_24b69558c4224b81b8ecb91b1f6a9035",
      "value": " 4508/4508 [00:07&lt;00:00, 569.91it/s]"
     }
    },
    "0ffc946c61df4a6db96e623a8c36779f": {
     "model_module": "@jupyter-widgets/base",
     "model_module_version": "1.2.0",
     "model_name": "LayoutModel",
     "state": {
      "_model_module": "@jupyter-widgets/base",
      "_model_module_version": "1.2.0",
      "_model_name": "LayoutModel",
      "_view_count": null,
      "_view_module": "@jupyter-widgets/base",
      "_view_module_version": "1.2.0",
      "_view_name": "LayoutView",
      "align_content": null,
      "align_items": null,
      "align_self": null,
      "border": null,
      "bottom": null,
      "display": null,
      "flex": null,
      "flex_flow": null,
      "grid_area": null,
      "grid_auto_columns": null,
      "grid_auto_flow": null,
      "grid_auto_rows": null,
      "grid_column": null,
      "grid_gap": null,
      "grid_row": null,
      "grid_template_areas": null,
      "grid_template_columns": null,
      "grid_template_rows": null,
      "height": null,
      "justify_content": null,
      "justify_items": null,
      "left": null,
      "margin": null,
      "max_height": null,
      "max_width": null,
      "min_height": null,
      "min_width": null,
      "object_fit": null,
      "object_position": null,
      "order": null,
      "overflow": null,
      "overflow_x": null,
      "overflow_y": null,
      "padding": null,
      "right": null,
      "top": null,
      "visibility": null,
      "width": null
     }
    },
    "1419a8fca8e0429c802f9b4d9c14f2c5": {
     "model_module": "@jupyter-widgets/base",
     "model_module_version": "1.2.0",
     "model_name": "LayoutModel",
     "state": {
      "_model_module": "@jupyter-widgets/base",
      "_model_module_version": "1.2.0",
      "_model_name": "LayoutModel",
      "_view_count": null,
      "_view_module": "@jupyter-widgets/base",
      "_view_module_version": "1.2.0",
      "_view_name": "LayoutView",
      "align_content": null,
      "align_items": null,
      "align_self": null,
      "border": null,
      "bottom": null,
      "display": null,
      "flex": null,
      "flex_flow": null,
      "grid_area": null,
      "grid_auto_columns": null,
      "grid_auto_flow": null,
      "grid_auto_rows": null,
      "grid_column": null,
      "grid_gap": null,
      "grid_row": null,
      "grid_template_areas": null,
      "grid_template_columns": null,
      "grid_template_rows": null,
      "height": null,
      "justify_content": null,
      "justify_items": null,
      "left": null,
      "margin": null,
      "max_height": null,
      "max_width": null,
      "min_height": null,
      "min_width": null,
      "object_fit": null,
      "object_position": null,
      "order": null,
      "overflow": null,
      "overflow_x": null,
      "overflow_y": null,
      "padding": null,
      "right": null,
      "top": null,
      "visibility": null,
      "width": null
     }
    },
    "154a9c6fe4294709b9b097b07453c8eb": {
     "model_module": "@jupyter-widgets/controls",
     "model_module_version": "1.5.0",
     "model_name": "HBoxModel",
     "state": {
      "_dom_classes": [],
      "_model_module": "@jupyter-widgets/controls",
      "_model_module_version": "1.5.0",
      "_model_name": "HBoxModel",
      "_view_count": null,
      "_view_module": "@jupyter-widgets/controls",
      "_view_module_version": "1.5.0",
      "_view_name": "HBoxView",
      "box_style": "",
      "children": [
       "IPY_MODEL_40bdf455f3954e1e8ee956b8bcd27536",
       "IPY_MODEL_09f11db0c7f94246b53da027e4f2e3d4",
       "IPY_MODEL_e15489cc128643e798fdb730c657cf73"
      ],
      "layout": "IPY_MODEL_6cd62a217c974486954ced5420ccc57d"
     }
    },
    "15ca012983484e1890190ab8dde28d7c": {
     "model_module": "@jupyter-widgets/controls",
     "model_module_version": "1.5.0",
     "model_name": "DescriptionStyleModel",
     "state": {
      "_model_module": "@jupyter-widgets/controls",
      "_model_module_version": "1.5.0",
      "_model_name": "DescriptionStyleModel",
      "_view_count": null,
      "_view_module": "@jupyter-widgets/base",
      "_view_module_version": "1.2.0",
      "_view_name": "StyleView",
      "description_width": ""
     }
    },
    "188efc56c3cc4e3bb1ccba591636e3c1": {
     "model_module": "@jupyter-widgets/base",
     "model_module_version": "1.2.0",
     "model_name": "LayoutModel",
     "state": {
      "_model_module": "@jupyter-widgets/base",
      "_model_module_version": "1.2.0",
      "_model_name": "LayoutModel",
      "_view_count": null,
      "_view_module": "@jupyter-widgets/base",
      "_view_module_version": "1.2.0",
      "_view_name": "LayoutView",
      "align_content": null,
      "align_items": null,
      "align_self": null,
      "border": null,
      "bottom": null,
      "display": null,
      "flex": null,
      "flex_flow": null,
      "grid_area": null,
      "grid_auto_columns": null,
      "grid_auto_flow": null,
      "grid_auto_rows": null,
      "grid_column": null,
      "grid_gap": null,
      "grid_row": null,
      "grid_template_areas": null,
      "grid_template_columns": null,
      "grid_template_rows": null,
      "height": null,
      "justify_content": null,
      "justify_items": null,
      "left": null,
      "margin": null,
      "max_height": null,
      "max_width": null,
      "min_height": null,
      "min_width": null,
      "object_fit": null,
      "object_position": null,
      "order": null,
      "overflow": null,
      "overflow_x": null,
      "overflow_y": null,
      "padding": null,
      "right": null,
      "top": null,
      "visibility": null,
      "width": null
     }
    },
    "1e6022b3a43440a2ba87959169532593": {
     "model_module": "@jupyter-widgets/controls",
     "model_module_version": "1.5.0",
     "model_name": "HTMLModel",
     "state": {
      "_dom_classes": [],
      "_model_module": "@jupyter-widgets/controls",
      "_model_module_version": "1.5.0",
      "_model_name": "HTMLModel",
      "_view_count": null,
      "_view_module": "@jupyter-widgets/controls",
      "_view_module_version": "1.5.0",
      "_view_name": "HTMLView",
      "description": "",
      "description_tooltip": null,
      "layout": "IPY_MODEL_deef787440c5464aa61a46a80f57f9e4",
      "placeholder": "​",
      "style": "IPY_MODEL_92564523bbd44c718a76a2eef53a6f0e",
      "value": " 4508/4508 [00:07&lt;00:00, 569.04it/s]"
     }
    },
    "1eaf43de5c984b0791e24dabe94ce2da": {
     "model_module": "@jupyter-widgets/base",
     "model_module_version": "1.2.0",
     "model_name": "LayoutModel",
     "state": {
      "_model_module": "@jupyter-widgets/base",
      "_model_module_version": "1.2.0",
      "_model_name": "LayoutModel",
      "_view_count": null,
      "_view_module": "@jupyter-widgets/base",
      "_view_module_version": "1.2.0",
      "_view_name": "LayoutView",
      "align_content": null,
      "align_items": null,
      "align_self": null,
      "border": null,
      "bottom": null,
      "display": null,
      "flex": null,
      "flex_flow": null,
      "grid_area": null,
      "grid_auto_columns": null,
      "grid_auto_flow": null,
      "grid_auto_rows": null,
      "grid_column": null,
      "grid_gap": null,
      "grid_row": null,
      "grid_template_areas": null,
      "grid_template_columns": null,
      "grid_template_rows": null,
      "height": null,
      "justify_content": null,
      "justify_items": null,
      "left": null,
      "margin": null,
      "max_height": null,
      "max_width": null,
      "min_height": null,
      "min_width": null,
      "object_fit": null,
      "object_position": null,
      "order": null,
      "overflow": null,
      "overflow_x": null,
      "overflow_y": null,
      "padding": null,
      "right": null,
      "top": null,
      "visibility": null,
      "width": null
     }
    },
    "1fa81597e630431aa5272f4d592bdd1a": {
     "model_module": "@jupyter-widgets/controls",
     "model_module_version": "1.5.0",
     "model_name": "ProgressStyleModel",
     "state": {
      "_model_module": "@jupyter-widgets/controls",
      "_model_module_version": "1.5.0",
      "_model_name": "ProgressStyleModel",
      "_view_count": null,
      "_view_module": "@jupyter-widgets/base",
      "_view_module_version": "1.2.0",
      "_view_name": "StyleView",
      "bar_color": null,
      "description_width": ""
     }
    },
    "24b69558c4224b81b8ecb91b1f6a9035": {
     "model_module": "@jupyter-widgets/controls",
     "model_module_version": "1.5.0",
     "model_name": "DescriptionStyleModel",
     "state": {
      "_model_module": "@jupyter-widgets/controls",
      "_model_module_version": "1.5.0",
      "_model_name": "DescriptionStyleModel",
      "_view_count": null,
      "_view_module": "@jupyter-widgets/base",
      "_view_module_version": "1.2.0",
      "_view_name": "StyleView",
      "description_width": ""
     }
    },
    "255465883c7a4305b78b6835c9c0d9ac": {
     "model_module": "@jupyter-widgets/controls",
     "model_module_version": "1.5.0",
     "model_name": "HTMLModel",
     "state": {
      "_dom_classes": [],
      "_model_module": "@jupyter-widgets/controls",
      "_model_module_version": "1.5.0",
      "_model_name": "HTMLModel",
      "_view_count": null,
      "_view_module": "@jupyter-widgets/controls",
      "_view_module_version": "1.5.0",
      "_view_name": "HTMLView",
      "description": "",
      "description_tooltip": null,
      "layout": "IPY_MODEL_d6261b4e5b4d4aadb2bad7a046f96769",
      "placeholder": "​",
      "style": "IPY_MODEL_37be4460574b456cb182d1c3e81354e2",
      "value": "epoch 2: 100%"
     }
    },
    "260cfd47fc6b4cac9e5534f62ca998b4": {
     "model_module": "@jupyter-widgets/controls",
     "model_module_version": "1.5.0",
     "model_name": "HTMLModel",
     "state": {
      "_dom_classes": [],
      "_model_module": "@jupyter-widgets/controls",
      "_model_module_version": "1.5.0",
      "_model_name": "HTMLModel",
      "_view_count": null,
      "_view_module": "@jupyter-widgets/controls",
      "_view_module_version": "1.5.0",
      "_view_name": "HTMLView",
      "description": "",
      "description_tooltip": null,
      "layout": "IPY_MODEL_5b7b43a841c6406882bb32d8f21f1f71",
      "placeholder": "​",
      "style": "IPY_MODEL_68469da20b864207a0bdc48c06cc278c",
      "value": " 128230/128230 [00:12&lt;00:00, 9827.00it/s]"
     }
    },
    "2e565b0e9f674efcbc1f973e91503d43": {
     "model_module": "@jupyter-widgets/base",
     "model_module_version": "1.2.0",
     "model_name": "LayoutModel",
     "state": {
      "_model_module": "@jupyter-widgets/base",
      "_model_module_version": "1.2.0",
      "_model_name": "LayoutModel",
      "_view_count": null,
      "_view_module": "@jupyter-widgets/base",
      "_view_module_version": "1.2.0",
      "_view_name": "LayoutView",
      "align_content": null,
      "align_items": null,
      "align_self": null,
      "border": null,
      "bottom": null,
      "display": null,
      "flex": null,
      "flex_flow": null,
      "grid_area": null,
      "grid_auto_columns": null,
      "grid_auto_flow": null,
      "grid_auto_rows": null,
      "grid_column": null,
      "grid_gap": null,
      "grid_row": null,
      "grid_template_areas": null,
      "grid_template_columns": null,
      "grid_template_rows": null,
      "height": null,
      "justify_content": null,
      "justify_items": null,
      "left": null,
      "margin": null,
      "max_height": null,
      "max_width": null,
      "min_height": null,
      "min_width": null,
      "object_fit": null,
      "object_position": null,
      "order": null,
      "overflow": null,
      "overflow_x": null,
      "overflow_y": null,
      "padding": null,
      "right": null,
      "top": null,
      "visibility": null,
      "width": null
     }
    },
    "2f80b9db41964055a4b6a526150346c0": {
     "model_module": "@jupyter-widgets/base",
     "model_module_version": "1.2.0",
     "model_name": "LayoutModel",
     "state": {
      "_model_module": "@jupyter-widgets/base",
      "_model_module_version": "1.2.0",
      "_model_name": "LayoutModel",
      "_view_count": null,
      "_view_module": "@jupyter-widgets/base",
      "_view_module_version": "1.2.0",
      "_view_name": "LayoutView",
      "align_content": null,
      "align_items": null,
      "align_self": null,
      "border": null,
      "bottom": null,
      "display": null,
      "flex": null,
      "flex_flow": null,
      "grid_area": null,
      "grid_auto_columns": null,
      "grid_auto_flow": null,
      "grid_auto_rows": null,
      "grid_column": null,
      "grid_gap": null,
      "grid_row": null,
      "grid_template_areas": null,
      "grid_template_columns": null,
      "grid_template_rows": null,
      "height": null,
      "justify_content": null,
      "justify_items": null,
      "left": null,
      "margin": null,
      "max_height": null,
      "max_width": null,
      "min_height": null,
      "min_width": null,
      "object_fit": null,
      "object_position": null,
      "order": null,
      "overflow": null,
      "overflow_x": null,
      "overflow_y": null,
      "padding": null,
      "right": null,
      "top": null,
      "visibility": null,
      "width": null
     }
    },
    "2f895c4019ae43deb6420c060d1ea9df": {
     "model_module": "@jupyter-widgets/base",
     "model_module_version": "1.2.0",
     "model_name": "LayoutModel",
     "state": {
      "_model_module": "@jupyter-widgets/base",
      "_model_module_version": "1.2.0",
      "_model_name": "LayoutModel",
      "_view_count": null,
      "_view_module": "@jupyter-widgets/base",
      "_view_module_version": "1.2.0",
      "_view_name": "LayoutView",
      "align_content": null,
      "align_items": null,
      "align_self": null,
      "border": null,
      "bottom": null,
      "display": null,
      "flex": null,
      "flex_flow": null,
      "grid_area": null,
      "grid_auto_columns": null,
      "grid_auto_flow": null,
      "grid_auto_rows": null,
      "grid_column": null,
      "grid_gap": null,
      "grid_row": null,
      "grid_template_areas": null,
      "grid_template_columns": null,
      "grid_template_rows": null,
      "height": null,
      "justify_content": null,
      "justify_items": null,
      "left": null,
      "margin": null,
      "max_height": null,
      "max_width": null,
      "min_height": null,
      "min_width": null,
      "object_fit": null,
      "object_position": null,
      "order": null,
      "overflow": null,
      "overflow_x": null,
      "overflow_y": null,
      "padding": null,
      "right": null,
      "top": null,
      "visibility": null,
      "width": null
     }
    },
    "302956719c0c4f8b881ef685d1a67e0c": {
     "model_module": "@jupyter-widgets/controls",
     "model_module_version": "1.5.0",
     "model_name": "FloatProgressModel",
     "state": {
      "_dom_classes": [],
      "_model_module": "@jupyter-widgets/controls",
      "_model_module_version": "1.5.0",
      "_model_name": "FloatProgressModel",
      "_view_count": null,
      "_view_module": "@jupyter-widgets/controls",
      "_view_module_version": "1.5.0",
      "_view_name": "ProgressView",
      "bar_style": "danger",
      "description": "",
      "description_tooltip": null,
      "layout": "IPY_MODEL_c58fdd24dd2444dda7e1e8bfc3cf3327",
      "max": 3000,
      "min": 0,
      "orientation": "horizontal",
      "style": "IPY_MODEL_6ae653960b09442cb57247c68cfe6247",
      "value": 999
     }
    },
    "340013afdb7b40289141c3fdf0f84299": {
     "model_module": "@jupyter-widgets/controls",
     "model_module_version": "1.5.0",
     "model_name": "FloatProgressModel",
     "state": {
      "_dom_classes": [],
      "_model_module": "@jupyter-widgets/controls",
      "_model_module_version": "1.5.0",
      "_model_name": "FloatProgressModel",
      "_view_count": null,
      "_view_module": "@jupyter-widgets/controls",
      "_view_module_version": "1.5.0",
      "_view_name": "ProgressView",
      "bar_style": "success",
      "description": "",
      "description_tooltip": null,
      "layout": "IPY_MODEL_6d0b8e3fcf994363834af3bc467e0de4",
      "max": 4508,
      "min": 0,
      "orientation": "horizontal",
      "style": "IPY_MODEL_1fa81597e630431aa5272f4d592bdd1a",
      "value": 4508
     }
    },
    "34a19d035fcf4899828199a55799365b": {
     "model_module": "@jupyter-widgets/controls",
     "model_module_version": "1.5.0",
     "model_name": "HTMLModel",
     "state": {
      "_dom_classes": [],
      "_model_module": "@jupyter-widgets/controls",
      "_model_module_version": "1.5.0",
      "_model_name": "HTMLModel",
      "_view_count": null,
      "_view_module": "@jupyter-widgets/controls",
      "_view_module_version": "1.5.0",
      "_view_name": "HTMLView",
      "description": "",
      "description_tooltip": null,
      "layout": "IPY_MODEL_9d22f339461148db848aa7db81238bb8",
      "placeholder": "​",
      "style": "IPY_MODEL_0e32efd0274f43618306e57154a4ac30",
      "value": "100%"
     }
    },
    "3579328bd4034ebc8d1b9a626f2a9795": {
     "model_module": "@jupyter-widgets/base",
     "model_module_version": "1.2.0",
     "model_name": "LayoutModel",
     "state": {
      "_model_module": "@jupyter-widgets/base",
      "_model_module_version": "1.2.0",
      "_model_name": "LayoutModel",
      "_view_count": null,
      "_view_module": "@jupyter-widgets/base",
      "_view_module_version": "1.2.0",
      "_view_name": "LayoutView",
      "align_content": null,
      "align_items": null,
      "align_self": null,
      "border": null,
      "bottom": null,
      "display": null,
      "flex": null,
      "flex_flow": null,
      "grid_area": null,
      "grid_auto_columns": null,
      "grid_auto_flow": null,
      "grid_auto_rows": null,
      "grid_column": null,
      "grid_gap": null,
      "grid_row": null,
      "grid_template_areas": null,
      "grid_template_columns": null,
      "grid_template_rows": null,
      "height": null,
      "justify_content": null,
      "justify_items": null,
      "left": null,
      "margin": null,
      "max_height": null,
      "max_width": null,
      "min_height": null,
      "min_width": null,
      "object_fit": null,
      "object_position": null,
      "order": null,
      "overflow": null,
      "overflow_x": null,
      "overflow_y": null,
      "padding": null,
      "right": null,
      "top": null,
      "visibility": null,
      "width": null
     }
    },
    "3726b35bf331442eb5c1fa140b9ecd70": {
     "model_module": "@jupyter-widgets/controls",
     "model_module_version": "1.5.0",
     "model_name": "DescriptionStyleModel",
     "state": {
      "_model_module": "@jupyter-widgets/controls",
      "_model_module_version": "1.5.0",
      "_model_name": "DescriptionStyleModel",
      "_view_count": null,
      "_view_module": "@jupyter-widgets/base",
      "_view_module_version": "1.2.0",
      "_view_name": "StyleView",
      "description_width": ""
     }
    },
    "372e72d438f14d5d8e5fe76407f46d18": {
     "model_module": "@jupyter-widgets/controls",
     "model_module_version": "1.5.0",
     "model_name": "HTMLModel",
     "state": {
      "_dom_classes": [],
      "_model_module": "@jupyter-widgets/controls",
      "_model_module_version": "1.5.0",
      "_model_name": "HTMLModel",
      "_view_count": null,
      "_view_module": "@jupyter-widgets/controls",
      "_view_module_version": "1.5.0",
      "_view_name": "HTMLView",
      "description": "",
      "description_tooltip": null,
      "layout": "IPY_MODEL_5a82eb381de2424b9727106bf968366d",
      "placeholder": "​",
      "style": "IPY_MODEL_9276c2c83b4e421a8cb6d979554f133a",
      "value": "epoch 8: 100%"
     }
    },
    "377296cc075e41c2a5b40ee3aaa7321e": {
     "model_module": "@jupyter-widgets/base",
     "model_module_version": "1.2.0",
     "model_name": "LayoutModel",
     "state": {
      "_model_module": "@jupyter-widgets/base",
      "_model_module_version": "1.2.0",
      "_model_name": "LayoutModel",
      "_view_count": null,
      "_view_module": "@jupyter-widgets/base",
      "_view_module_version": "1.2.0",
      "_view_name": "LayoutView",
      "align_content": null,
      "align_items": null,
      "align_self": null,
      "border": null,
      "bottom": null,
      "display": null,
      "flex": null,
      "flex_flow": null,
      "grid_area": null,
      "grid_auto_columns": null,
      "grid_auto_flow": null,
      "grid_auto_rows": null,
      "grid_column": null,
      "grid_gap": null,
      "grid_row": null,
      "grid_template_areas": null,
      "grid_template_columns": null,
      "grid_template_rows": null,
      "height": null,
      "justify_content": null,
      "justify_items": null,
      "left": null,
      "margin": null,
      "max_height": null,
      "max_width": null,
      "min_height": null,
      "min_width": null,
      "object_fit": null,
      "object_position": null,
      "order": null,
      "overflow": null,
      "overflow_x": null,
      "overflow_y": null,
      "padding": null,
      "right": null,
      "top": null,
      "visibility": null,
      "width": null
     }
    },
    "37886a1d1bff4949a1d6775423d78b5a": {
     "model_module": "@jupyter-widgets/controls",
     "model_module_version": "1.5.0",
     "model_name": "DescriptionStyleModel",
     "state": {
      "_model_module": "@jupyter-widgets/controls",
      "_model_module_version": "1.5.0",
      "_model_name": "DescriptionStyleModel",
      "_view_count": null,
      "_view_module": "@jupyter-widgets/base",
      "_view_module_version": "1.2.0",
      "_view_name": "StyleView",
      "description_width": ""
     }
    },
    "37be4460574b456cb182d1c3e81354e2": {
     "model_module": "@jupyter-widgets/controls",
     "model_module_version": "1.5.0",
     "model_name": "DescriptionStyleModel",
     "state": {
      "_model_module": "@jupyter-widgets/controls",
      "_model_module_version": "1.5.0",
      "_model_name": "DescriptionStyleModel",
      "_view_count": null,
      "_view_module": "@jupyter-widgets/base",
      "_view_module_version": "1.2.0",
      "_view_name": "StyleView",
      "description_width": ""
     }
    },
    "39aa3bc531264719bdf0ffb52352811c": {
     "model_module": "@jupyter-widgets/controls",
     "model_module_version": "1.5.0",
     "model_name": "HTMLModel",
     "state": {
      "_dom_classes": [],
      "_model_module": "@jupyter-widgets/controls",
      "_model_module_version": "1.5.0",
      "_model_name": "HTMLModel",
      "_view_count": null,
      "_view_module": "@jupyter-widgets/controls",
      "_view_module_version": "1.5.0",
      "_view_name": "HTMLView",
      "description": "",
      "description_tooltip": null,
      "layout": "IPY_MODEL_607887f6655240beaa1e03240b1b26cc",
      "placeholder": "​",
      "style": "IPY_MODEL_b024239258054c1aae5793f4071d60d0",
      "value": "epoch 0: 100%"
     }
    },
    "3c285f733fb74a398937bccc55462924": {
     "model_module": "@jupyter-widgets/controls",
     "model_module_version": "1.5.0",
     "model_name": "DescriptionStyleModel",
     "state": {
      "_model_module": "@jupyter-widgets/controls",
      "_model_module_version": "1.5.0",
      "_model_name": "DescriptionStyleModel",
      "_view_count": null,
      "_view_module": "@jupyter-widgets/base",
      "_view_module_version": "1.2.0",
      "_view_name": "StyleView",
      "description_width": ""
     }
    },
    "3cbe0980f51f430eb4974030e89e473b": {
     "model_module": "@jupyter-widgets/base",
     "model_module_version": "1.2.0",
     "model_name": "LayoutModel",
     "state": {
      "_model_module": "@jupyter-widgets/base",
      "_model_module_version": "1.2.0",
      "_model_name": "LayoutModel",
      "_view_count": null,
      "_view_module": "@jupyter-widgets/base",
      "_view_module_version": "1.2.0",
      "_view_name": "LayoutView",
      "align_content": null,
      "align_items": null,
      "align_self": null,
      "border": null,
      "bottom": null,
      "display": null,
      "flex": null,
      "flex_flow": null,
      "grid_area": null,
      "grid_auto_columns": null,
      "grid_auto_flow": null,
      "grid_auto_rows": null,
      "grid_column": null,
      "grid_gap": null,
      "grid_row": null,
      "grid_template_areas": null,
      "grid_template_columns": null,
      "grid_template_rows": null,
      "height": null,
      "justify_content": null,
      "justify_items": null,
      "left": null,
      "margin": null,
      "max_height": null,
      "max_width": null,
      "min_height": null,
      "min_width": null,
      "object_fit": null,
      "object_position": null,
      "order": null,
      "overflow": null,
      "overflow_x": null,
      "overflow_y": null,
      "padding": null,
      "right": null,
      "top": null,
      "visibility": null,
      "width": null
     }
    },
    "3daaee6575e34ad1a0c4bca83fc14465": {
     "model_module": "@jupyter-widgets/controls",
     "model_module_version": "1.5.0",
     "model_name": "FloatProgressModel",
     "state": {
      "_dom_classes": [],
      "_model_module": "@jupyter-widgets/controls",
      "_model_module_version": "1.5.0",
      "_model_name": "FloatProgressModel",
      "_view_count": null,
      "_view_module": "@jupyter-widgets/controls",
      "_view_module_version": "1.5.0",
      "_view_name": "ProgressView",
      "bar_style": "success",
      "description": "",
      "description_tooltip": null,
      "layout": "IPY_MODEL_1419a8fca8e0429c802f9b4d9c14f2c5",
      "max": 4508,
      "min": 0,
      "orientation": "horizontal",
      "style": "IPY_MODEL_6a8b416b64f34b048ce95b66fe1e4c11",
      "value": 4508
     }
    },
    "3df7d9230a3c40968c015fa6fdda64e6": {
     "model_module": "@jupyter-widgets/controls",
     "model_module_version": "1.5.0",
     "model_name": "FloatProgressModel",
     "state": {
      "_dom_classes": [],
      "_model_module": "@jupyter-widgets/controls",
      "_model_module_version": "1.5.0",
      "_model_name": "FloatProgressModel",
      "_view_count": null,
      "_view_module": "@jupyter-widgets/controls",
      "_view_module_version": "1.5.0",
      "_view_name": "ProgressView",
      "bar_style": "success",
      "description": "",
      "description_tooltip": null,
      "layout": "IPY_MODEL_ea4fe1291a844478b62534dbd2a626d8",
      "max": 4508,
      "min": 0,
      "orientation": "horizontal",
      "style": "IPY_MODEL_a5a9a1517de84a17a4588719a063b68d",
      "value": 4508
     }
    },
    "4062fd074d5143da99bea65b12f6c748": {
     "model_module": "@jupyter-widgets/controls",
     "model_module_version": "1.5.0",
     "model_name": "HTMLModel",
     "state": {
      "_dom_classes": [],
      "_model_module": "@jupyter-widgets/controls",
      "_model_module_version": "1.5.0",
      "_model_name": "HTMLModel",
      "_view_count": null,
      "_view_module": "@jupyter-widgets/controls",
      "_view_module_version": "1.5.0",
      "_view_name": "HTMLView",
      "description": "",
      "description_tooltip": null,
      "layout": "IPY_MODEL_a8f11686baee4710968548e6acfb44f6",
      "placeholder": "​",
      "style": "IPY_MODEL_926583f7165e4cf99c36251b07c932a1",
      "value": "epoch 5: 100%"
     }
    },
    "40bdf455f3954e1e8ee956b8bcd27536": {
     "model_module": "@jupyter-widgets/controls",
     "model_module_version": "1.5.0",
     "model_name": "HTMLModel",
     "state": {
      "_dom_classes": [],
      "_model_module": "@jupyter-widgets/controls",
      "_model_module_version": "1.5.0",
      "_model_name": "HTMLModel",
      "_view_count": null,
      "_view_module": "@jupyter-widgets/controls",
      "_view_module_version": "1.5.0",
      "_view_name": "HTMLView",
      "description": "",
      "description_tooltip": null,
      "layout": "IPY_MODEL_9dd04f836f504520a944df2c4e9bd675",
      "placeholder": "​",
      "style": "IPY_MODEL_e666ce13796647b3987ddfa6e68d7e7b",
      "value": "100%"
     }
    },
    "40ccaef3f6894a389d522dc178a1f47b": {
     "model_module": "@jupyter-widgets/controls",
     "model_module_version": "1.5.0",
     "model_name": "ProgressStyleModel",
     "state": {
      "_model_module": "@jupyter-widgets/controls",
      "_model_module_version": "1.5.0",
      "_model_name": "ProgressStyleModel",
      "_view_count": null,
      "_view_module": "@jupyter-widgets/base",
      "_view_module_version": "1.2.0",
      "_view_name": "StyleView",
      "bar_color": null,
      "description_width": ""
     }
    },
    "427a6b6a50f14579b47cfcd19e0933a3": {
     "model_module": "@jupyter-widgets/base",
     "model_module_version": "1.2.0",
     "model_name": "LayoutModel",
     "state": {
      "_model_module": "@jupyter-widgets/base",
      "_model_module_version": "1.2.0",
      "_model_name": "LayoutModel",
      "_view_count": null,
      "_view_module": "@jupyter-widgets/base",
      "_view_module_version": "1.2.0",
      "_view_name": "LayoutView",
      "align_content": null,
      "align_items": null,
      "align_self": null,
      "border": null,
      "bottom": null,
      "display": null,
      "flex": null,
      "flex_flow": null,
      "grid_area": null,
      "grid_auto_columns": null,
      "grid_auto_flow": null,
      "grid_auto_rows": null,
      "grid_column": null,
      "grid_gap": null,
      "grid_row": null,
      "grid_template_areas": null,
      "grid_template_columns": null,
      "grid_template_rows": null,
      "height": null,
      "justify_content": null,
      "justify_items": null,
      "left": null,
      "margin": null,
      "max_height": null,
      "max_width": null,
      "min_height": null,
      "min_width": null,
      "object_fit": null,
      "object_position": null,
      "order": null,
      "overflow": null,
      "overflow_x": null,
      "overflow_y": null,
      "padding": null,
      "right": null,
      "top": null,
      "visibility": null,
      "width": null
     }
    },
    "43cd5dd1225647b5bd2d1ab01c9768ee": {
     "model_module": "@jupyter-widgets/controls",
     "model_module_version": "1.5.0",
     "model_name": "HTMLModel",
     "state": {
      "_dom_classes": [],
      "_model_module": "@jupyter-widgets/controls",
      "_model_module_version": "1.5.0",
      "_model_name": "HTMLModel",
      "_view_count": null,
      "_view_module": "@jupyter-widgets/controls",
      "_view_module_version": "1.5.0",
      "_view_name": "HTMLView",
      "description": "",
      "description_tooltip": null,
      "layout": "IPY_MODEL_6ee819bdf0504d369dfc0d73cb6abfea",
      "placeholder": "​",
      "style": "IPY_MODEL_15ca012983484e1890190ab8dde28d7c",
      "value": " 999/3000 [00:36&lt;00:55, 35.79it/s]"
     }
    },
    "4746f15737494a1288e94a6b8f640742": {
     "model_module": "@jupyter-widgets/controls",
     "model_module_version": "1.5.0",
     "model_name": "HTMLModel",
     "state": {
      "_dom_classes": [],
      "_model_module": "@jupyter-widgets/controls",
      "_model_module_version": "1.5.0",
      "_model_name": "HTMLModel",
      "_view_count": null,
      "_view_module": "@jupyter-widgets/controls",
      "_view_module_version": "1.5.0",
      "_view_name": "HTMLView",
      "description": "",
      "description_tooltip": null,
      "layout": "IPY_MODEL_3579328bd4034ebc8d1b9a626f2a9795",
      "placeholder": "​",
      "style": "IPY_MODEL_4a945f12f5614947904593a71da41d62",
      "value": " 4508/4508 [00:07&lt;00:00, 574.68it/s]"
     }
    },
    "498acdf398ae4f7495d95519b880457a": {
     "model_module": "@jupyter-widgets/controls",
     "model_module_version": "1.5.0",
     "model_name": "HBoxModel",
     "state": {
      "_dom_classes": [],
      "_model_module": "@jupyter-widgets/controls",
      "_model_module_version": "1.5.0",
      "_model_name": "HBoxModel",
      "_view_count": null,
      "_view_module": "@jupyter-widgets/controls",
      "_view_module_version": "1.5.0",
      "_view_name": "HBoxView",
      "box_style": "",
      "children": [
       "IPY_MODEL_af7446b776a2485d8e724c1bc2b39e90",
       "IPY_MODEL_340013afdb7b40289141c3fdf0f84299",
       "IPY_MODEL_1e6022b3a43440a2ba87959169532593"
      ],
      "layout": "IPY_MODEL_772cc67724ee448fa5959d63ee5dd943"
     }
    },
    "4a945f12f5614947904593a71da41d62": {
     "model_module": "@jupyter-widgets/controls",
     "model_module_version": "1.5.0",
     "model_name": "DescriptionStyleModel",
     "state": {
      "_model_module": "@jupyter-widgets/controls",
      "_model_module_version": "1.5.0",
      "_model_name": "DescriptionStyleModel",
      "_view_count": null,
      "_view_module": "@jupyter-widgets/base",
      "_view_module_version": "1.2.0",
      "_view_name": "StyleView",
      "description_width": ""
     }
    },
    "4b2b01f710064de99d783ee8b5959a39": {
     "model_module": "@jupyter-widgets/controls",
     "model_module_version": "1.5.0",
     "model_name": "HBoxModel",
     "state": {
      "_dom_classes": [],
      "_model_module": "@jupyter-widgets/controls",
      "_model_module_version": "1.5.0",
      "_model_name": "HBoxModel",
      "_view_count": null,
      "_view_module": "@jupyter-widgets/controls",
      "_view_module_version": "1.5.0",
      "_view_name": "HBoxView",
      "box_style": "",
      "children": [
       "IPY_MODEL_6630a6b171e04bdcbe31868873321f60",
       "IPY_MODEL_e6c489e220bd4c0aa00bfe83719299a9",
       "IPY_MODEL_675cada171324f88af2023e45cfdcab2"
      ],
      "layout": "IPY_MODEL_ec3255893b45461f982594980f269044"
     }
    },
    "4ee9b2a9a9a14e318d5022c93f908d63": {
     "model_module": "@jupyter-widgets/base",
     "model_module_version": "1.2.0",
     "model_name": "LayoutModel",
     "state": {
      "_model_module": "@jupyter-widgets/base",
      "_model_module_version": "1.2.0",
      "_model_name": "LayoutModel",
      "_view_count": null,
      "_view_module": "@jupyter-widgets/base",
      "_view_module_version": "1.2.0",
      "_view_name": "LayoutView",
      "align_content": null,
      "align_items": null,
      "align_self": null,
      "border": null,
      "bottom": null,
      "display": null,
      "flex": null,
      "flex_flow": null,
      "grid_area": null,
      "grid_auto_columns": null,
      "grid_auto_flow": null,
      "grid_auto_rows": null,
      "grid_column": null,
      "grid_gap": null,
      "grid_row": null,
      "grid_template_areas": null,
      "grid_template_columns": null,
      "grid_template_rows": null,
      "height": null,
      "justify_content": null,
      "justify_items": null,
      "left": null,
      "margin": null,
      "max_height": null,
      "max_width": null,
      "min_height": null,
      "min_width": null,
      "object_fit": null,
      "object_position": null,
      "order": null,
      "overflow": null,
      "overflow_x": null,
      "overflow_y": null,
      "padding": null,
      "right": null,
      "top": null,
      "visibility": null,
      "width": null
     }
    },
    "546c155100fd448b9be3c5482ea2445a": {
     "model_module": "@jupyter-widgets/base",
     "model_module_version": "1.2.0",
     "model_name": "LayoutModel",
     "state": {
      "_model_module": "@jupyter-widgets/base",
      "_model_module_version": "1.2.0",
      "_model_name": "LayoutModel",
      "_view_count": null,
      "_view_module": "@jupyter-widgets/base",
      "_view_module_version": "1.2.0",
      "_view_name": "LayoutView",
      "align_content": null,
      "align_items": null,
      "align_self": null,
      "border": null,
      "bottom": null,
      "display": null,
      "flex": null,
      "flex_flow": null,
      "grid_area": null,
      "grid_auto_columns": null,
      "grid_auto_flow": null,
      "grid_auto_rows": null,
      "grid_column": null,
      "grid_gap": null,
      "grid_row": null,
      "grid_template_areas": null,
      "grid_template_columns": null,
      "grid_template_rows": null,
      "height": null,
      "justify_content": null,
      "justify_items": null,
      "left": null,
      "margin": null,
      "max_height": null,
      "max_width": null,
      "min_height": null,
      "min_width": null,
      "object_fit": null,
      "object_position": null,
      "order": null,
      "overflow": null,
      "overflow_x": null,
      "overflow_y": null,
      "padding": null,
      "right": null,
      "top": null,
      "visibility": null,
      "width": null
     }
    },
    "55a67e76426b4e3c9bdc3564d43f363c": {
     "model_module": "@jupyter-widgets/controls",
     "model_module_version": "1.5.0",
     "model_name": "ProgressStyleModel",
     "state": {
      "_model_module": "@jupyter-widgets/controls",
      "_model_module_version": "1.5.0",
      "_model_name": "ProgressStyleModel",
      "_view_count": null,
      "_view_module": "@jupyter-widgets/base",
      "_view_module_version": "1.2.0",
      "_view_name": "StyleView",
      "bar_color": null,
      "description_width": ""
     }
    },
    "572720c467384a1ebd385733a7103ee5": {
     "model_module": "@jupyter-widgets/base",
     "model_module_version": "1.2.0",
     "model_name": "LayoutModel",
     "state": {
      "_model_module": "@jupyter-widgets/base",
      "_model_module_version": "1.2.0",
      "_model_name": "LayoutModel",
      "_view_count": null,
      "_view_module": "@jupyter-widgets/base",
      "_view_module_version": "1.2.0",
      "_view_name": "LayoutView",
      "align_content": null,
      "align_items": null,
      "align_self": null,
      "border": null,
      "bottom": null,
      "display": null,
      "flex": null,
      "flex_flow": null,
      "grid_area": null,
      "grid_auto_columns": null,
      "grid_auto_flow": null,
      "grid_auto_rows": null,
      "grid_column": null,
      "grid_gap": null,
      "grid_row": null,
      "grid_template_areas": null,
      "grid_template_columns": null,
      "grid_template_rows": null,
      "height": null,
      "justify_content": null,
      "justify_items": null,
      "left": null,
      "margin": null,
      "max_height": null,
      "max_width": null,
      "min_height": null,
      "min_width": null,
      "object_fit": null,
      "object_position": null,
      "order": null,
      "overflow": null,
      "overflow_x": null,
      "overflow_y": null,
      "padding": null,
      "right": null,
      "top": null,
      "visibility": null,
      "width": null
     }
    },
    "57f86e65ad484e948869f72cd7ac464f": {
     "model_module": "@jupyter-widgets/base",
     "model_module_version": "1.2.0",
     "model_name": "LayoutModel",
     "state": {
      "_model_module": "@jupyter-widgets/base",
      "_model_module_version": "1.2.0",
      "_model_name": "LayoutModel",
      "_view_count": null,
      "_view_module": "@jupyter-widgets/base",
      "_view_module_version": "1.2.0",
      "_view_name": "LayoutView",
      "align_content": null,
      "align_items": null,
      "align_self": null,
      "border": null,
      "bottom": null,
      "display": null,
      "flex": null,
      "flex_flow": null,
      "grid_area": null,
      "grid_auto_columns": null,
      "grid_auto_flow": null,
      "grid_auto_rows": null,
      "grid_column": null,
      "grid_gap": null,
      "grid_row": null,
      "grid_template_areas": null,
      "grid_template_columns": null,
      "grid_template_rows": null,
      "height": null,
      "justify_content": null,
      "justify_items": null,
      "left": null,
      "margin": null,
      "max_height": null,
      "max_width": null,
      "min_height": null,
      "min_width": null,
      "object_fit": null,
      "object_position": null,
      "order": null,
      "overflow": null,
      "overflow_x": null,
      "overflow_y": null,
      "padding": null,
      "right": null,
      "top": null,
      "visibility": null,
      "width": null
     }
    },
    "589e4b8a9f144a1ba0a538000e0d1ce3": {
     "model_module": "@jupyter-widgets/controls",
     "model_module_version": "1.5.0",
     "model_name": "DescriptionStyleModel",
     "state": {
      "_model_module": "@jupyter-widgets/controls",
      "_model_module_version": "1.5.0",
      "_model_name": "DescriptionStyleModel",
      "_view_count": null,
      "_view_module": "@jupyter-widgets/base",
      "_view_module_version": "1.2.0",
      "_view_name": "StyleView",
      "description_width": ""
     }
    },
    "594cad0cc82948b9b958564eb7c5c0c9": {
     "model_module": "@jupyter-widgets/controls",
     "model_module_version": "1.5.0",
     "model_name": "DescriptionStyleModel",
     "state": {
      "_model_module": "@jupyter-widgets/controls",
      "_model_module_version": "1.5.0",
      "_model_name": "DescriptionStyleModel",
      "_view_count": null,
      "_view_module": "@jupyter-widgets/base",
      "_view_module_version": "1.2.0",
      "_view_name": "StyleView",
      "description_width": ""
     }
    },
    "5993e820b704441690e135ac14a03eb5": {
     "model_module": "@jupyter-widgets/controls",
     "model_module_version": "1.5.0",
     "model_name": "HBoxModel",
     "state": {
      "_dom_classes": [],
      "_model_module": "@jupyter-widgets/controls",
      "_model_module_version": "1.5.0",
      "_model_name": "HBoxModel",
      "_view_count": null,
      "_view_module": "@jupyter-widgets/controls",
      "_view_module_version": "1.5.0",
      "_view_name": "HBoxView",
      "box_style": "",
      "children": [
       "IPY_MODEL_372e72d438f14d5d8e5fe76407f46d18",
       "IPY_MODEL_3daaee6575e34ad1a0c4bca83fc14465",
       "IPY_MODEL_ef1e260b5ea443bfbb17e79a93bfcb60"
      ],
      "layout": "IPY_MODEL_d1759b91d8c3415aaab460de774f2a50"
     }
    },
    "5a82eb381de2424b9727106bf968366d": {
     "model_module": "@jupyter-widgets/base",
     "model_module_version": "1.2.0",
     "model_name": "LayoutModel",
     "state": {
      "_model_module": "@jupyter-widgets/base",
      "_model_module_version": "1.2.0",
      "_model_name": "LayoutModel",
      "_view_count": null,
      "_view_module": "@jupyter-widgets/base",
      "_view_module_version": "1.2.0",
      "_view_name": "LayoutView",
      "align_content": null,
      "align_items": null,
      "align_self": null,
      "border": null,
      "bottom": null,
      "display": null,
      "flex": null,
      "flex_flow": null,
      "grid_area": null,
      "grid_auto_columns": null,
      "grid_auto_flow": null,
      "grid_auto_rows": null,
      "grid_column": null,
      "grid_gap": null,
      "grid_row": null,
      "grid_template_areas": null,
      "grid_template_columns": null,
      "grid_template_rows": null,
      "height": null,
      "justify_content": null,
      "justify_items": null,
      "left": null,
      "margin": null,
      "max_height": null,
      "max_width": null,
      "min_height": null,
      "min_width": null,
      "object_fit": null,
      "object_position": null,
      "order": null,
      "overflow": null,
      "overflow_x": null,
      "overflow_y": null,
      "padding": null,
      "right": null,
      "top": null,
      "visibility": null,
      "width": null
     }
    },
    "5b7b43a841c6406882bb32d8f21f1f71": {
     "model_module": "@jupyter-widgets/base",
     "model_module_version": "1.2.0",
     "model_name": "LayoutModel",
     "state": {
      "_model_module": "@jupyter-widgets/base",
      "_model_module_version": "1.2.0",
      "_model_name": "LayoutModel",
      "_view_count": null,
      "_view_module": "@jupyter-widgets/base",
      "_view_module_version": "1.2.0",
      "_view_name": "LayoutView",
      "align_content": null,
      "align_items": null,
      "align_self": null,
      "border": null,
      "bottom": null,
      "display": null,
      "flex": null,
      "flex_flow": null,
      "grid_area": null,
      "grid_auto_columns": null,
      "grid_auto_flow": null,
      "grid_auto_rows": null,
      "grid_column": null,
      "grid_gap": null,
      "grid_row": null,
      "grid_template_areas": null,
      "grid_template_columns": null,
      "grid_template_rows": null,
      "height": null,
      "justify_content": null,
      "justify_items": null,
      "left": null,
      "margin": null,
      "max_height": null,
      "max_width": null,
      "min_height": null,
      "min_width": null,
      "object_fit": null,
      "object_position": null,
      "order": null,
      "overflow": null,
      "overflow_x": null,
      "overflow_y": null,
      "padding": null,
      "right": null,
      "top": null,
      "visibility": null,
      "width": null
     }
    },
    "5ff643756baf49f7b8c67e66bb2e8018": {
     "model_module": "@jupyter-widgets/controls",
     "model_module_version": "1.5.0",
     "model_name": "FloatProgressModel",
     "state": {
      "_dom_classes": [],
      "_model_module": "@jupyter-widgets/controls",
      "_model_module_version": "1.5.0",
      "_model_name": "FloatProgressModel",
      "_view_count": null,
      "_view_module": "@jupyter-widgets/controls",
      "_view_module_version": "1.5.0",
      "_view_name": "ProgressView",
      "bar_style": "success",
      "description": "",
      "description_tooltip": null,
      "layout": "IPY_MODEL_4ee9b2a9a9a14e318d5022c93f908d63",
      "max": 128230,
      "min": 0,
      "orientation": "horizontal",
      "style": "IPY_MODEL_40ccaef3f6894a389d522dc178a1f47b",
      "value": 128230
     }
    },
    "603f768f02194de4a8a00264f06eca88": {
     "model_module": "@jupyter-widgets/controls",
     "model_module_version": "1.5.0",
     "model_name": "DescriptionStyleModel",
     "state": {
      "_model_module": "@jupyter-widgets/controls",
      "_model_module_version": "1.5.0",
      "_model_name": "DescriptionStyleModel",
      "_view_count": null,
      "_view_module": "@jupyter-widgets/base",
      "_view_module_version": "1.2.0",
      "_view_name": "StyleView",
      "description_width": ""
     }
    },
    "607887f6655240beaa1e03240b1b26cc": {
     "model_module": "@jupyter-widgets/base",
     "model_module_version": "1.2.0",
     "model_name": "LayoutModel",
     "state": {
      "_model_module": "@jupyter-widgets/base",
      "_model_module_version": "1.2.0",
      "_model_name": "LayoutModel",
      "_view_count": null,
      "_view_module": "@jupyter-widgets/base",
      "_view_module_version": "1.2.0",
      "_view_name": "LayoutView",
      "align_content": null,
      "align_items": null,
      "align_self": null,
      "border": null,
      "bottom": null,
      "display": null,
      "flex": null,
      "flex_flow": null,
      "grid_area": null,
      "grid_auto_columns": null,
      "grid_auto_flow": null,
      "grid_auto_rows": null,
      "grid_column": null,
      "grid_gap": null,
      "grid_row": null,
      "grid_template_areas": null,
      "grid_template_columns": null,
      "grid_template_rows": null,
      "height": null,
      "justify_content": null,
      "justify_items": null,
      "left": null,
      "margin": null,
      "max_height": null,
      "max_width": null,
      "min_height": null,
      "min_width": null,
      "object_fit": null,
      "object_position": null,
      "order": null,
      "overflow": null,
      "overflow_x": null,
      "overflow_y": null,
      "padding": null,
      "right": null,
      "top": null,
      "visibility": null,
      "width": null
     }
    },
    "63396d1f8c734a03a3723334a6d55021": {
     "model_module": "@jupyter-widgets/base",
     "model_module_version": "1.2.0",
     "model_name": "LayoutModel",
     "state": {
      "_model_module": "@jupyter-widgets/base",
      "_model_module_version": "1.2.0",
      "_model_name": "LayoutModel",
      "_view_count": null,
      "_view_module": "@jupyter-widgets/base",
      "_view_module_version": "1.2.0",
      "_view_name": "LayoutView",
      "align_content": null,
      "align_items": null,
      "align_self": null,
      "border": null,
      "bottom": null,
      "display": null,
      "flex": null,
      "flex_flow": null,
      "grid_area": null,
      "grid_auto_columns": null,
      "grid_auto_flow": null,
      "grid_auto_rows": null,
      "grid_column": null,
      "grid_gap": null,
      "grid_row": null,
      "grid_template_areas": null,
      "grid_template_columns": null,
      "grid_template_rows": null,
      "height": null,
      "justify_content": null,
      "justify_items": null,
      "left": null,
      "margin": null,
      "max_height": null,
      "max_width": null,
      "min_height": null,
      "min_width": null,
      "object_fit": null,
      "object_position": null,
      "order": null,
      "overflow": null,
      "overflow_x": null,
      "overflow_y": null,
      "padding": null,
      "right": null,
      "top": null,
      "visibility": null,
      "width": null
     }
    },
    "6580bf672acb4f0288831791bc44dd5d": {
     "model_module": "@jupyter-widgets/controls",
     "model_module_version": "1.5.0",
     "model_name": "DescriptionStyleModel",
     "state": {
      "_model_module": "@jupyter-widgets/controls",
      "_model_module_version": "1.5.0",
      "_model_name": "DescriptionStyleModel",
      "_view_count": null,
      "_view_module": "@jupyter-widgets/base",
      "_view_module_version": "1.2.0",
      "_view_name": "StyleView",
      "description_width": ""
     }
    },
    "65912d3197a547a6bd26d8ea9f8f8939": {
     "model_module": "@jupyter-widgets/base",
     "model_module_version": "1.2.0",
     "model_name": "LayoutModel",
     "state": {
      "_model_module": "@jupyter-widgets/base",
      "_model_module_version": "1.2.0",
      "_model_name": "LayoutModel",
      "_view_count": null,
      "_view_module": "@jupyter-widgets/base",
      "_view_module_version": "1.2.0",
      "_view_name": "LayoutView",
      "align_content": null,
      "align_items": null,
      "align_self": null,
      "border": null,
      "bottom": null,
      "display": null,
      "flex": null,
      "flex_flow": null,
      "grid_area": null,
      "grid_auto_columns": null,
      "grid_auto_flow": null,
      "grid_auto_rows": null,
      "grid_column": null,
      "grid_gap": null,
      "grid_row": null,
      "grid_template_areas": null,
      "grid_template_columns": null,
      "grid_template_rows": null,
      "height": null,
      "justify_content": null,
      "justify_items": null,
      "left": null,
      "margin": null,
      "max_height": null,
      "max_width": null,
      "min_height": null,
      "min_width": null,
      "object_fit": null,
      "object_position": null,
      "order": null,
      "overflow": null,
      "overflow_x": null,
      "overflow_y": null,
      "padding": null,
      "right": null,
      "top": null,
      "visibility": null,
      "width": null
     }
    },
    "6630a6b171e04bdcbe31868873321f60": {
     "model_module": "@jupyter-widgets/controls",
     "model_module_version": "1.5.0",
     "model_name": "HTMLModel",
     "state": {
      "_dom_classes": [],
      "_model_module": "@jupyter-widgets/controls",
      "_model_module_version": "1.5.0",
      "_model_name": "HTMLModel",
      "_view_count": null,
      "_view_module": "@jupyter-widgets/controls",
      "_view_module_version": "1.5.0",
      "_view_name": "HTMLView",
      "description": "",
      "description_tooltip": null,
      "layout": "IPY_MODEL_edc1b298a91443919f7158ef809d491c",
      "placeholder": "​",
      "style": "IPY_MODEL_37886a1d1bff4949a1d6775423d78b5a",
      "value": "100%"
     }
    },
    "675cada171324f88af2023e45cfdcab2": {
     "model_module": "@jupyter-widgets/controls",
     "model_module_version": "1.5.0",
     "model_name": "HTMLModel",
     "state": {
      "_dom_classes": [],
      "_model_module": "@jupyter-widgets/controls",
      "_model_module_version": "1.5.0",
      "_model_name": "HTMLModel",
      "_view_count": null,
      "_view_module": "@jupyter-widgets/controls",
      "_view_module_version": "1.5.0",
      "_view_name": "HTMLView",
      "description": "",
      "description_tooltip": null,
      "layout": "IPY_MODEL_b8cea92271cd40d5ab27830fc7d60caa",
      "placeholder": "​",
      "style": "IPY_MODEL_ad8c284f896241428e50d6a1dba0814a",
      "value": " 20/20 [00:00&lt;00:00, 119.37it/s]"
     }
    },
    "68469da20b864207a0bdc48c06cc278c": {
     "model_module": "@jupyter-widgets/controls",
     "model_module_version": "1.5.0",
     "model_name": "DescriptionStyleModel",
     "state": {
      "_model_module": "@jupyter-widgets/controls",
      "_model_module_version": "1.5.0",
      "_model_name": "DescriptionStyleModel",
      "_view_count": null,
      "_view_module": "@jupyter-widgets/base",
      "_view_module_version": "1.2.0",
      "_view_name": "StyleView",
      "description_width": ""
     }
    },
    "6847108b0901402193c13e840dca4958": {
     "model_module": "@jupyter-widgets/controls",
     "model_module_version": "1.5.0",
     "model_name": "DescriptionStyleModel",
     "state": {
      "_model_module": "@jupyter-widgets/controls",
      "_model_module_version": "1.5.0",
      "_model_name": "DescriptionStyleModel",
      "_view_count": null,
      "_view_module": "@jupyter-widgets/base",
      "_view_module_version": "1.2.0",
      "_view_name": "StyleView",
      "description_width": ""
     }
    },
    "68d7cbf328c34b3ba4c734c46c656cc1": {
     "model_module": "@jupyter-widgets/controls",
     "model_module_version": "1.5.0",
     "model_name": "DescriptionStyleModel",
     "state": {
      "_model_module": "@jupyter-widgets/controls",
      "_model_module_version": "1.5.0",
      "_model_name": "DescriptionStyleModel",
      "_view_count": null,
      "_view_module": "@jupyter-widgets/base",
      "_view_module_version": "1.2.0",
      "_view_name": "StyleView",
      "description_width": ""
     }
    },
    "6a8b416b64f34b048ce95b66fe1e4c11": {
     "model_module": "@jupyter-widgets/controls",
     "model_module_version": "1.5.0",
     "model_name": "ProgressStyleModel",
     "state": {
      "_model_module": "@jupyter-widgets/controls",
      "_model_module_version": "1.5.0",
      "_model_name": "ProgressStyleModel",
      "_view_count": null,
      "_view_module": "@jupyter-widgets/base",
      "_view_module_version": "1.2.0",
      "_view_name": "StyleView",
      "bar_color": null,
      "description_width": ""
     }
    },
    "6ae653960b09442cb57247c68cfe6247": {
     "model_module": "@jupyter-widgets/controls",
     "model_module_version": "1.5.0",
     "model_name": "ProgressStyleModel",
     "state": {
      "_model_module": "@jupyter-widgets/controls",
      "_model_module_version": "1.5.0",
      "_model_name": "ProgressStyleModel",
      "_view_count": null,
      "_view_module": "@jupyter-widgets/base",
      "_view_module_version": "1.2.0",
      "_view_name": "StyleView",
      "bar_color": null,
      "description_width": ""
     }
    },
    "6cd62a217c974486954ced5420ccc57d": {
     "model_module": "@jupyter-widgets/base",
     "model_module_version": "1.2.0",
     "model_name": "LayoutModel",
     "state": {
      "_model_module": "@jupyter-widgets/base",
      "_model_module_version": "1.2.0",
      "_model_name": "LayoutModel",
      "_view_count": null,
      "_view_module": "@jupyter-widgets/base",
      "_view_module_version": "1.2.0",
      "_view_name": "LayoutView",
      "align_content": null,
      "align_items": null,
      "align_self": null,
      "border": null,
      "bottom": null,
      "display": null,
      "flex": null,
      "flex_flow": null,
      "grid_area": null,
      "grid_auto_columns": null,
      "grid_auto_flow": null,
      "grid_auto_rows": null,
      "grid_column": null,
      "grid_gap": null,
      "grid_row": null,
      "grid_template_areas": null,
      "grid_template_columns": null,
      "grid_template_rows": null,
      "height": null,
      "justify_content": null,
      "justify_items": null,
      "left": null,
      "margin": null,
      "max_height": null,
      "max_width": null,
      "min_height": null,
      "min_width": null,
      "object_fit": null,
      "object_position": null,
      "order": null,
      "overflow": null,
      "overflow_x": null,
      "overflow_y": null,
      "padding": null,
      "right": null,
      "top": null,
      "visibility": null,
      "width": null
     }
    },
    "6d0b8e3fcf994363834af3bc467e0de4": {
     "model_module": "@jupyter-widgets/base",
     "model_module_version": "1.2.0",
     "model_name": "LayoutModel",
     "state": {
      "_model_module": "@jupyter-widgets/base",
      "_model_module_version": "1.2.0",
      "_model_name": "LayoutModel",
      "_view_count": null,
      "_view_module": "@jupyter-widgets/base",
      "_view_module_version": "1.2.0",
      "_view_name": "LayoutView",
      "align_content": null,
      "align_items": null,
      "align_self": null,
      "border": null,
      "bottom": null,
      "display": null,
      "flex": null,
      "flex_flow": null,
      "grid_area": null,
      "grid_auto_columns": null,
      "grid_auto_flow": null,
      "grid_auto_rows": null,
      "grid_column": null,
      "grid_gap": null,
      "grid_row": null,
      "grid_template_areas": null,
      "grid_template_columns": null,
      "grid_template_rows": null,
      "height": null,
      "justify_content": null,
      "justify_items": null,
      "left": null,
      "margin": null,
      "max_height": null,
      "max_width": null,
      "min_height": null,
      "min_width": null,
      "object_fit": null,
      "object_position": null,
      "order": null,
      "overflow": null,
      "overflow_x": null,
      "overflow_y": null,
      "padding": null,
      "right": null,
      "top": null,
      "visibility": null,
      "width": null
     }
    },
    "6ee819bdf0504d369dfc0d73cb6abfea": {
     "model_module": "@jupyter-widgets/base",
     "model_module_version": "1.2.0",
     "model_name": "LayoutModel",
     "state": {
      "_model_module": "@jupyter-widgets/base",
      "_model_module_version": "1.2.0",
      "_model_name": "LayoutModel",
      "_view_count": null,
      "_view_module": "@jupyter-widgets/base",
      "_view_module_version": "1.2.0",
      "_view_name": "LayoutView",
      "align_content": null,
      "align_items": null,
      "align_self": null,
      "border": null,
      "bottom": null,
      "display": null,
      "flex": null,
      "flex_flow": null,
      "grid_area": null,
      "grid_auto_columns": null,
      "grid_auto_flow": null,
      "grid_auto_rows": null,
      "grid_column": null,
      "grid_gap": null,
      "grid_row": null,
      "grid_template_areas": null,
      "grid_template_columns": null,
      "grid_template_rows": null,
      "height": null,
      "justify_content": null,
      "justify_items": null,
      "left": null,
      "margin": null,
      "max_height": null,
      "max_width": null,
      "min_height": null,
      "min_width": null,
      "object_fit": null,
      "object_position": null,
      "order": null,
      "overflow": null,
      "overflow_x": null,
      "overflow_y": null,
      "padding": null,
      "right": null,
      "top": null,
      "visibility": null,
      "width": null
     }
    },
    "70129cf863dd490685a479b811fc56b3": {
     "model_module": "@jupyter-widgets/controls",
     "model_module_version": "1.5.0",
     "model_name": "DescriptionStyleModel",
     "state": {
      "_model_module": "@jupyter-widgets/controls",
      "_model_module_version": "1.5.0",
      "_model_name": "DescriptionStyleModel",
      "_view_count": null,
      "_view_module": "@jupyter-widgets/base",
      "_view_module_version": "1.2.0",
      "_view_name": "StyleView",
      "description_width": ""
     }
    },
    "70460f627c304cb8b59747228f61fd89": {
     "model_module": "@jupyter-widgets/base",
     "model_module_version": "1.2.0",
     "model_name": "LayoutModel",
     "state": {
      "_model_module": "@jupyter-widgets/base",
      "_model_module_version": "1.2.0",
      "_model_name": "LayoutModel",
      "_view_count": null,
      "_view_module": "@jupyter-widgets/base",
      "_view_module_version": "1.2.0",
      "_view_name": "LayoutView",
      "align_content": null,
      "align_items": null,
      "align_self": null,
      "border": null,
      "bottom": null,
      "display": null,
      "flex": null,
      "flex_flow": null,
      "grid_area": null,
      "grid_auto_columns": null,
      "grid_auto_flow": null,
      "grid_auto_rows": null,
      "grid_column": null,
      "grid_gap": null,
      "grid_row": null,
      "grid_template_areas": null,
      "grid_template_columns": null,
      "grid_template_rows": null,
      "height": null,
      "justify_content": null,
      "justify_items": null,
      "left": null,
      "margin": null,
      "max_height": null,
      "max_width": null,
      "min_height": null,
      "min_width": null,
      "object_fit": null,
      "object_position": null,
      "order": null,
      "overflow": null,
      "overflow_x": null,
      "overflow_y": null,
      "padding": null,
      "right": null,
      "top": null,
      "visibility": null,
      "width": null
     }
    },
    "71145b9e7bef447b9405b1c38c44a6a2": {
     "model_module": "@jupyter-widgets/controls",
     "model_module_version": "1.5.0",
     "model_name": "ProgressStyleModel",
     "state": {
      "_model_module": "@jupyter-widgets/controls",
      "_model_module_version": "1.5.0",
      "_model_name": "ProgressStyleModel",
      "_view_count": null,
      "_view_module": "@jupyter-widgets/base",
      "_view_module_version": "1.2.0",
      "_view_name": "StyleView",
      "bar_color": null,
      "description_width": ""
     }
    },
    "761a41730f354c0aa7b3930f9592ab59": {
     "model_module": "@jupyter-widgets/base",
     "model_module_version": "1.2.0",
     "model_name": "LayoutModel",
     "state": {
      "_model_module": "@jupyter-widgets/base",
      "_model_module_version": "1.2.0",
      "_model_name": "LayoutModel",
      "_view_count": null,
      "_view_module": "@jupyter-widgets/base",
      "_view_module_version": "1.2.0",
      "_view_name": "LayoutView",
      "align_content": null,
      "align_items": null,
      "align_self": null,
      "border": null,
      "bottom": null,
      "display": null,
      "flex": null,
      "flex_flow": null,
      "grid_area": null,
      "grid_auto_columns": null,
      "grid_auto_flow": null,
      "grid_auto_rows": null,
      "grid_column": null,
      "grid_gap": null,
      "grid_row": null,
      "grid_template_areas": null,
      "grid_template_columns": null,
      "grid_template_rows": null,
      "height": null,
      "justify_content": null,
      "justify_items": null,
      "left": null,
      "margin": null,
      "max_height": null,
      "max_width": null,
      "min_height": null,
      "min_width": null,
      "object_fit": null,
      "object_position": null,
      "order": null,
      "overflow": null,
      "overflow_x": null,
      "overflow_y": null,
      "padding": null,
      "right": null,
      "top": null,
      "visibility": null,
      "width": null
     }
    },
    "772cc67724ee448fa5959d63ee5dd943": {
     "model_module": "@jupyter-widgets/base",
     "model_module_version": "1.2.0",
     "model_name": "LayoutModel",
     "state": {
      "_model_module": "@jupyter-widgets/base",
      "_model_module_version": "1.2.0",
      "_model_name": "LayoutModel",
      "_view_count": null,
      "_view_module": "@jupyter-widgets/base",
      "_view_module_version": "1.2.0",
      "_view_name": "LayoutView",
      "align_content": null,
      "align_items": null,
      "align_self": null,
      "border": null,
      "bottom": null,
      "display": null,
      "flex": null,
      "flex_flow": null,
      "grid_area": null,
      "grid_auto_columns": null,
      "grid_auto_flow": null,
      "grid_auto_rows": null,
      "grid_column": null,
      "grid_gap": null,
      "grid_row": null,
      "grid_template_areas": null,
      "grid_template_columns": null,
      "grid_template_rows": null,
      "height": null,
      "justify_content": null,
      "justify_items": null,
      "left": null,
      "margin": null,
      "max_height": null,
      "max_width": null,
      "min_height": null,
      "min_width": null,
      "object_fit": null,
      "object_position": null,
      "order": null,
      "overflow": null,
      "overflow_x": null,
      "overflow_y": null,
      "padding": null,
      "right": null,
      "top": null,
      "visibility": null,
      "width": null
     }
    },
    "77a4e56bd9b84c1fad62c02806a651ec": {
     "model_module": "@jupyter-widgets/controls",
     "model_module_version": "1.5.0",
     "model_name": "FloatProgressModel",
     "state": {
      "_dom_classes": [],
      "_model_module": "@jupyter-widgets/controls",
      "_model_module_version": "1.5.0",
      "_model_name": "FloatProgressModel",
      "_view_count": null,
      "_view_module": "@jupyter-widgets/controls",
      "_view_module_version": "1.5.0",
      "_view_name": "ProgressView",
      "bar_style": "success",
      "description": "",
      "description_tooltip": null,
      "layout": "IPY_MODEL_dd92ac8a77834e75b628bfa8d7762ad4",
      "max": 4508,
      "min": 0,
      "orientation": "horizontal",
      "style": "IPY_MODEL_e7bd0fbda9eb43598acf42984fd74961",
      "value": 4508
     }
    },
    "79bc58f23b8a494983a49ac2cae1246e": {
     "model_module": "@jupyter-widgets/controls",
     "model_module_version": "1.5.0",
     "model_name": "HTMLModel",
     "state": {
      "_dom_classes": [],
      "_model_module": "@jupyter-widgets/controls",
      "_model_module_version": "1.5.0",
      "_model_name": "HTMLModel",
      "_view_count": null,
      "_view_module": "@jupyter-widgets/controls",
      "_view_module_version": "1.5.0",
      "_view_name": "HTMLView",
      "description": "",
      "description_tooltip": null,
      "layout": "IPY_MODEL_2e565b0e9f674efcbc1f973e91503d43",
      "placeholder": "​",
      "style": "IPY_MODEL_bd533a9b082e4befb703b6d0e1030735",
      "value": " 4508/4508 [00:07&lt;00:00, 558.14it/s]"
     }
    },
    "8605a601323648ba91f51db58cb86396": {
     "model_module": "@jupyter-widgets/controls",
     "model_module_version": "1.5.0",
     "model_name": "HTMLModel",
     "state": {
      "_dom_classes": [],
      "_model_module": "@jupyter-widgets/controls",
      "_model_module_version": "1.5.0",
      "_model_name": "HTMLModel",
      "_view_count": null,
      "_view_module": "@jupyter-widgets/controls",
      "_view_module_version": "1.5.0",
      "_view_name": "HTMLView",
      "description": "",
      "description_tooltip": null,
      "layout": "IPY_MODEL_88d4dcaf8c4b4406ae3036fcd78166a3",
      "placeholder": "​",
      "style": "IPY_MODEL_6847108b0901402193c13e840dca4958",
      "value": "epoch 4: 100%"
     }
    },
    "8657f9fc5f794b85a1c5b37846dad4ee": {
     "model_module": "@jupyter-widgets/base",
     "model_module_version": "1.2.0",
     "model_name": "LayoutModel",
     "state": {
      "_model_module": "@jupyter-widgets/base",
      "_model_module_version": "1.2.0",
      "_model_name": "LayoutModel",
      "_view_count": null,
      "_view_module": "@jupyter-widgets/base",
      "_view_module_version": "1.2.0",
      "_view_name": "LayoutView",
      "align_content": null,
      "align_items": null,
      "align_self": null,
      "border": null,
      "bottom": null,
      "display": null,
      "flex": null,
      "flex_flow": null,
      "grid_area": null,
      "grid_auto_columns": null,
      "grid_auto_flow": null,
      "grid_auto_rows": null,
      "grid_column": null,
      "grid_gap": null,
      "grid_row": null,
      "grid_template_areas": null,
      "grid_template_columns": null,
      "grid_template_rows": null,
      "height": null,
      "justify_content": null,
      "justify_items": null,
      "left": null,
      "margin": null,
      "max_height": null,
      "max_width": null,
      "min_height": null,
      "min_width": null,
      "object_fit": null,
      "object_position": null,
      "order": null,
      "overflow": null,
      "overflow_x": null,
      "overflow_y": null,
      "padding": null,
      "right": null,
      "top": null,
      "visibility": null,
      "width": null
     }
    },
    "8706baf0d4d24fd8a21ac6cf43d0ac6a": {
     "model_module": "@jupyter-widgets/base",
     "model_module_version": "1.2.0",
     "model_name": "LayoutModel",
     "state": {
      "_model_module": "@jupyter-widgets/base",
      "_model_module_version": "1.2.0",
      "_model_name": "LayoutModel",
      "_view_count": null,
      "_view_module": "@jupyter-widgets/base",
      "_view_module_version": "1.2.0",
      "_view_name": "LayoutView",
      "align_content": null,
      "align_items": null,
      "align_self": null,
      "border": null,
      "bottom": null,
      "display": null,
      "flex": null,
      "flex_flow": null,
      "grid_area": null,
      "grid_auto_columns": null,
      "grid_auto_flow": null,
      "grid_auto_rows": null,
      "grid_column": null,
      "grid_gap": null,
      "grid_row": null,
      "grid_template_areas": null,
      "grid_template_columns": null,
      "grid_template_rows": null,
      "height": null,
      "justify_content": null,
      "justify_items": null,
      "left": null,
      "margin": null,
      "max_height": null,
      "max_width": null,
      "min_height": null,
      "min_width": null,
      "object_fit": null,
      "object_position": null,
      "order": null,
      "overflow": null,
      "overflow_x": null,
      "overflow_y": null,
      "padding": null,
      "right": null,
      "top": null,
      "visibility": null,
      "width": null
     }
    },
    "88d4dcaf8c4b4406ae3036fcd78166a3": {
     "model_module": "@jupyter-widgets/base",
     "model_module_version": "1.2.0",
     "model_name": "LayoutModel",
     "state": {
      "_model_module": "@jupyter-widgets/base",
      "_model_module_version": "1.2.0",
      "_model_name": "LayoutModel",
      "_view_count": null,
      "_view_module": "@jupyter-widgets/base",
      "_view_module_version": "1.2.0",
      "_view_name": "LayoutView",
      "align_content": null,
      "align_items": null,
      "align_self": null,
      "border": null,
      "bottom": null,
      "display": null,
      "flex": null,
      "flex_flow": null,
      "grid_area": null,
      "grid_auto_columns": null,
      "grid_auto_flow": null,
      "grid_auto_rows": null,
      "grid_column": null,
      "grid_gap": null,
      "grid_row": null,
      "grid_template_areas": null,
      "grid_template_columns": null,
      "grid_template_rows": null,
      "height": null,
      "justify_content": null,
      "justify_items": null,
      "left": null,
      "margin": null,
      "max_height": null,
      "max_width": null,
      "min_height": null,
      "min_width": null,
      "object_fit": null,
      "object_position": null,
      "order": null,
      "overflow": null,
      "overflow_x": null,
      "overflow_y": null,
      "padding": null,
      "right": null,
      "top": null,
      "visibility": null,
      "width": null
     }
    },
    "8a215044397646839ff16165ee6497fc": {
     "model_module": "@jupyter-widgets/controls",
     "model_module_version": "1.5.0",
     "model_name": "HBoxModel",
     "state": {
      "_dom_classes": [],
      "_model_module": "@jupyter-widgets/controls",
      "_model_module_version": "1.5.0",
      "_model_name": "HBoxModel",
      "_view_count": null,
      "_view_module": "@jupyter-widgets/controls",
      "_view_module_version": "1.5.0",
      "_view_name": "HBoxView",
      "box_style": "",
      "children": [
       "IPY_MODEL_4062fd074d5143da99bea65b12f6c748",
       "IPY_MODEL_9498c5ca68a94b3db9108bd797474b13",
       "IPY_MODEL_08cc3c287a274892bb80e5fa7b36467a"
      ],
      "layout": "IPY_MODEL_57f86e65ad484e948869f72cd7ac464f"
     }
    },
    "915128e88a374e1f89779d263a1f98df": {
     "model_module": "@jupyter-widgets/base",
     "model_module_version": "1.2.0",
     "model_name": "LayoutModel",
     "state": {
      "_model_module": "@jupyter-widgets/base",
      "_model_module_version": "1.2.0",
      "_model_name": "LayoutModel",
      "_view_count": null,
      "_view_module": "@jupyter-widgets/base",
      "_view_module_version": "1.2.0",
      "_view_name": "LayoutView",
      "align_content": null,
      "align_items": null,
      "align_self": null,
      "border": null,
      "bottom": null,
      "display": null,
      "flex": null,
      "flex_flow": null,
      "grid_area": null,
      "grid_auto_columns": null,
      "grid_auto_flow": null,
      "grid_auto_rows": null,
      "grid_column": null,
      "grid_gap": null,
      "grid_row": null,
      "grid_template_areas": null,
      "grid_template_columns": null,
      "grid_template_rows": null,
      "height": null,
      "justify_content": null,
      "justify_items": null,
      "left": null,
      "margin": null,
      "max_height": null,
      "max_width": null,
      "min_height": null,
      "min_width": null,
      "object_fit": null,
      "object_position": null,
      "order": null,
      "overflow": null,
      "overflow_x": null,
      "overflow_y": null,
      "padding": null,
      "right": null,
      "top": null,
      "visibility": null,
      "width": null
     }
    },
    "92564523bbd44c718a76a2eef53a6f0e": {
     "model_module": "@jupyter-widgets/controls",
     "model_module_version": "1.5.0",
     "model_name": "DescriptionStyleModel",
     "state": {
      "_model_module": "@jupyter-widgets/controls",
      "_model_module_version": "1.5.0",
      "_model_name": "DescriptionStyleModel",
      "_view_count": null,
      "_view_module": "@jupyter-widgets/base",
      "_view_module_version": "1.2.0",
      "_view_name": "StyleView",
      "description_width": ""
     }
    },
    "926583f7165e4cf99c36251b07c932a1": {
     "model_module": "@jupyter-widgets/controls",
     "model_module_version": "1.5.0",
     "model_name": "DescriptionStyleModel",
     "state": {
      "_model_module": "@jupyter-widgets/controls",
      "_model_module_version": "1.5.0",
      "_model_name": "DescriptionStyleModel",
      "_view_count": null,
      "_view_module": "@jupyter-widgets/base",
      "_view_module_version": "1.2.0",
      "_view_name": "StyleView",
      "description_width": ""
     }
    },
    "9276c2c83b4e421a8cb6d979554f133a": {
     "model_module": "@jupyter-widgets/controls",
     "model_module_version": "1.5.0",
     "model_name": "DescriptionStyleModel",
     "state": {
      "_model_module": "@jupyter-widgets/controls",
      "_model_module_version": "1.5.0",
      "_model_name": "DescriptionStyleModel",
      "_view_count": null,
      "_view_module": "@jupyter-widgets/base",
      "_view_module_version": "1.2.0",
      "_view_name": "StyleView",
      "description_width": ""
     }
    },
    "92a5b33ee95340bbaabd63076d6c13f6": {
     "model_module": "@jupyter-widgets/base",
     "model_module_version": "1.2.0",
     "model_name": "LayoutModel",
     "state": {
      "_model_module": "@jupyter-widgets/base",
      "_model_module_version": "1.2.0",
      "_model_name": "LayoutModel",
      "_view_count": null,
      "_view_module": "@jupyter-widgets/base",
      "_view_module_version": "1.2.0",
      "_view_name": "LayoutView",
      "align_content": null,
      "align_items": null,
      "align_self": null,
      "border": null,
      "bottom": null,
      "display": null,
      "flex": null,
      "flex_flow": null,
      "grid_area": null,
      "grid_auto_columns": null,
      "grid_auto_flow": null,
      "grid_auto_rows": null,
      "grid_column": null,
      "grid_gap": null,
      "grid_row": null,
      "grid_template_areas": null,
      "grid_template_columns": null,
      "grid_template_rows": null,
      "height": null,
      "justify_content": null,
      "justify_items": null,
      "left": null,
      "margin": null,
      "max_height": null,
      "max_width": null,
      "min_height": null,
      "min_width": null,
      "object_fit": null,
      "object_position": null,
      "order": null,
      "overflow": null,
      "overflow_x": null,
      "overflow_y": null,
      "padding": null,
      "right": null,
      "top": null,
      "visibility": null,
      "width": null
     }
    },
    "93c3ac0f0559438e8cf5a1248473ceb3": {
     "model_module": "@jupyter-widgets/base",
     "model_module_version": "1.2.0",
     "model_name": "LayoutModel",
     "state": {
      "_model_module": "@jupyter-widgets/base",
      "_model_module_version": "1.2.0",
      "_model_name": "LayoutModel",
      "_view_count": null,
      "_view_module": "@jupyter-widgets/base",
      "_view_module_version": "1.2.0",
      "_view_name": "LayoutView",
      "align_content": null,
      "align_items": null,
      "align_self": null,
      "border": null,
      "bottom": null,
      "display": null,
      "flex": null,
      "flex_flow": null,
      "grid_area": null,
      "grid_auto_columns": null,
      "grid_auto_flow": null,
      "grid_auto_rows": null,
      "grid_column": null,
      "grid_gap": null,
      "grid_row": null,
      "grid_template_areas": null,
      "grid_template_columns": null,
      "grid_template_rows": null,
      "height": null,
      "justify_content": null,
      "justify_items": null,
      "left": null,
      "margin": null,
      "max_height": null,
      "max_width": null,
      "min_height": null,
      "min_width": null,
      "object_fit": null,
      "object_position": null,
      "order": null,
      "overflow": null,
      "overflow_x": null,
      "overflow_y": null,
      "padding": null,
      "right": null,
      "top": null,
      "visibility": null,
      "width": null
     }
    },
    "9498c5ca68a94b3db9108bd797474b13": {
     "model_module": "@jupyter-widgets/controls",
     "model_module_version": "1.5.0",
     "model_name": "FloatProgressModel",
     "state": {
      "_dom_classes": [],
      "_model_module": "@jupyter-widgets/controls",
      "_model_module_version": "1.5.0",
      "_model_name": "FloatProgressModel",
      "_view_count": null,
      "_view_module": "@jupyter-widgets/controls",
      "_view_module_version": "1.5.0",
      "_view_name": "ProgressView",
      "bar_style": "success",
      "description": "",
      "description_tooltip": null,
      "layout": "IPY_MODEL_c03ac5dc3c984684aa82fac86c5e96ca",
      "max": 4508,
      "min": 0,
      "orientation": "horizontal",
      "style": "IPY_MODEL_55a67e76426b4e3c9bdc3564d43f363c",
      "value": 4508
     }
    },
    "98016f318c944abba1f3f1f12c6353af": {
     "model_module": "@jupyter-widgets/controls",
     "model_module_version": "1.5.0",
     "model_name": "HTMLModel",
     "state": {
      "_dom_classes": [],
      "_model_module": "@jupyter-widgets/controls",
      "_model_module_version": "1.5.0",
      "_model_name": "HTMLModel",
      "_view_count": null,
      "_view_module": "@jupyter-widgets/controls",
      "_view_module_version": "1.5.0",
      "_view_name": "HTMLView",
      "description": "",
      "description_tooltip": null,
      "layout": "IPY_MODEL_572720c467384a1ebd385733a7103ee5",
      "placeholder": "​",
      "style": "IPY_MODEL_68d7cbf328c34b3ba4c734c46c656cc1",
      "value": " 4508/4508 [00:07&lt;00:00, 577.18it/s]"
     }
    },
    "9a2694f2e8e840c5af2ded8ef30bba83": {
     "model_module": "@jupyter-widgets/base",
     "model_module_version": "1.2.0",
     "model_name": "LayoutModel",
     "state": {
      "_model_module": "@jupyter-widgets/base",
      "_model_module_version": "1.2.0",
      "_model_name": "LayoutModel",
      "_view_count": null,
      "_view_module": "@jupyter-widgets/base",
      "_view_module_version": "1.2.0",
      "_view_name": "LayoutView",
      "align_content": null,
      "align_items": null,
      "align_self": null,
      "border": null,
      "bottom": null,
      "display": null,
      "flex": null,
      "flex_flow": null,
      "grid_area": null,
      "grid_auto_columns": null,
      "grid_auto_flow": null,
      "grid_auto_rows": null,
      "grid_column": null,
      "grid_gap": null,
      "grid_row": null,
      "grid_template_areas": null,
      "grid_template_columns": null,
      "grid_template_rows": null,
      "height": null,
      "justify_content": null,
      "justify_items": null,
      "left": null,
      "margin": null,
      "max_height": null,
      "max_width": null,
      "min_height": null,
      "min_width": null,
      "object_fit": null,
      "object_position": null,
      "order": null,
      "overflow": null,
      "overflow_x": null,
      "overflow_y": null,
      "padding": null,
      "right": null,
      "top": null,
      "visibility": null,
      "width": null
     }
    },
    "9ac88e05e0ac4833b33fd5242a1ac8ce": {
     "model_module": "@jupyter-widgets/controls",
     "model_module_version": "1.5.0",
     "model_name": "HBoxModel",
     "state": {
      "_dom_classes": [],
      "_model_module": "@jupyter-widgets/controls",
      "_model_module_version": "1.5.0",
      "_model_name": "HBoxModel",
      "_view_count": null,
      "_view_module": "@jupyter-widgets/controls",
      "_view_module_version": "1.5.0",
      "_view_name": "HBoxView",
      "box_style": "",
      "children": [
       "IPY_MODEL_39aa3bc531264719bdf0ffb52352811c",
       "IPY_MODEL_3df7d9230a3c40968c015fa6fdda64e6",
       "IPY_MODEL_cc57021734b946f3a0a3622d673a1ef2"
      ],
      "layout": "IPY_MODEL_546c155100fd448b9be3c5482ea2445a"
     }
    },
    "9d22f339461148db848aa7db81238bb8": {
     "model_module": "@jupyter-widgets/base",
     "model_module_version": "1.2.0",
     "model_name": "LayoutModel",
     "state": {
      "_model_module": "@jupyter-widgets/base",
      "_model_module_version": "1.2.0",
      "_model_name": "LayoutModel",
      "_view_count": null,
      "_view_module": "@jupyter-widgets/base",
      "_view_module_version": "1.2.0",
      "_view_name": "LayoutView",
      "align_content": null,
      "align_items": null,
      "align_self": null,
      "border": null,
      "bottom": null,
      "display": null,
      "flex": null,
      "flex_flow": null,
      "grid_area": null,
      "grid_auto_columns": null,
      "grid_auto_flow": null,
      "grid_auto_rows": null,
      "grid_column": null,
      "grid_gap": null,
      "grid_row": null,
      "grid_template_areas": null,
      "grid_template_columns": null,
      "grid_template_rows": null,
      "height": null,
      "justify_content": null,
      "justify_items": null,
      "left": null,
      "margin": null,
      "max_height": null,
      "max_width": null,
      "min_height": null,
      "min_width": null,
      "object_fit": null,
      "object_position": null,
      "order": null,
      "overflow": null,
      "overflow_x": null,
      "overflow_y": null,
      "padding": null,
      "right": null,
      "top": null,
      "visibility": null,
      "width": null
     }
    },
    "9dd04f836f504520a944df2c4e9bd675": {
     "model_module": "@jupyter-widgets/base",
     "model_module_version": "1.2.0",
     "model_name": "LayoutModel",
     "state": {
      "_model_module": "@jupyter-widgets/base",
      "_model_module_version": "1.2.0",
      "_model_name": "LayoutModel",
      "_view_count": null,
      "_view_module": "@jupyter-widgets/base",
      "_view_module_version": "1.2.0",
      "_view_name": "LayoutView",
      "align_content": null,
      "align_items": null,
      "align_self": null,
      "border": null,
      "bottom": null,
      "display": null,
      "flex": null,
      "flex_flow": null,
      "grid_area": null,
      "grid_auto_columns": null,
      "grid_auto_flow": null,
      "grid_auto_rows": null,
      "grid_column": null,
      "grid_gap": null,
      "grid_row": null,
      "grid_template_areas": null,
      "grid_template_columns": null,
      "grid_template_rows": null,
      "height": null,
      "justify_content": null,
      "justify_items": null,
      "left": null,
      "margin": null,
      "max_height": null,
      "max_width": null,
      "min_height": null,
      "min_width": null,
      "object_fit": null,
      "object_position": null,
      "order": null,
      "overflow": null,
      "overflow_x": null,
      "overflow_y": null,
      "padding": null,
      "right": null,
      "top": null,
      "visibility": null,
      "width": null
     }
    },
    "9e207d7fac204a14a906fb9c1c9eeed8": {
     "model_module": "@jupyter-widgets/base",
     "model_module_version": "1.2.0",
     "model_name": "LayoutModel",
     "state": {
      "_model_module": "@jupyter-widgets/base",
      "_model_module_version": "1.2.0",
      "_model_name": "LayoutModel",
      "_view_count": null,
      "_view_module": "@jupyter-widgets/base",
      "_view_module_version": "1.2.0",
      "_view_name": "LayoutView",
      "align_content": null,
      "align_items": null,
      "align_self": null,
      "border": null,
      "bottom": null,
      "display": null,
      "flex": null,
      "flex_flow": null,
      "grid_area": null,
      "grid_auto_columns": null,
      "grid_auto_flow": null,
      "grid_auto_rows": null,
      "grid_column": null,
      "grid_gap": null,
      "grid_row": null,
      "grid_template_areas": null,
      "grid_template_columns": null,
      "grid_template_rows": null,
      "height": null,
      "justify_content": null,
      "justify_items": null,
      "left": null,
      "margin": null,
      "max_height": null,
      "max_width": null,
      "min_height": null,
      "min_width": null,
      "object_fit": null,
      "object_position": null,
      "order": null,
      "overflow": null,
      "overflow_x": null,
      "overflow_y": null,
      "padding": null,
      "right": null,
      "top": null,
      "visibility": null,
      "width": null
     }
    },
    "a167513119f3451cad722501a6580263": {
     "model_module": "@jupyter-widgets/controls",
     "model_module_version": "1.5.0",
     "model_name": "DescriptionStyleModel",
     "state": {
      "_model_module": "@jupyter-widgets/controls",
      "_model_module_version": "1.5.0",
      "_model_name": "DescriptionStyleModel",
      "_view_count": null,
      "_view_module": "@jupyter-widgets/base",
      "_view_module_version": "1.2.0",
      "_view_name": "StyleView",
      "description_width": ""
     }
    },
    "a5a9a1517de84a17a4588719a063b68d": {
     "model_module": "@jupyter-widgets/controls",
     "model_module_version": "1.5.0",
     "model_name": "ProgressStyleModel",
     "state": {
      "_model_module": "@jupyter-widgets/controls",
      "_model_module_version": "1.5.0",
      "_model_name": "ProgressStyleModel",
      "_view_count": null,
      "_view_module": "@jupyter-widgets/base",
      "_view_module_version": "1.2.0",
      "_view_name": "StyleView",
      "bar_color": null,
      "description_width": ""
     }
    },
    "a5def5b7ba5849be9ecf96338a942eb9": {
     "model_module": "@jupyter-widgets/controls",
     "model_module_version": "1.5.0",
     "model_name": "HTMLModel",
     "state": {
      "_dom_classes": [],
      "_model_module": "@jupyter-widgets/controls",
      "_model_module_version": "1.5.0",
      "_model_name": "HTMLModel",
      "_view_count": null,
      "_view_module": "@jupyter-widgets/controls",
      "_view_module_version": "1.5.0",
      "_view_name": "HTMLView",
      "description": "",
      "description_tooltip": null,
      "layout": "IPY_MODEL_70460f627c304cb8b59747228f61fd89",
      "placeholder": "​",
      "style": "IPY_MODEL_6580bf672acb4f0288831791bc44dd5d",
      "value": "epoch 7: 100%"
     }
    },
    "a7d040b1694e4ed1a08cb73a0e716613": {
     "model_module": "@jupyter-widgets/controls",
     "model_module_version": "1.5.0",
     "model_name": "DescriptionStyleModel",
     "state": {
      "_model_module": "@jupyter-widgets/controls",
      "_model_module_version": "1.5.0",
      "_model_name": "DescriptionStyleModel",
      "_view_count": null,
      "_view_module": "@jupyter-widgets/base",
      "_view_module_version": "1.2.0",
      "_view_name": "StyleView",
      "description_width": ""
     }
    },
    "a8a6183788ba4b0ba58ccca1f5233976": {
     "model_module": "@jupyter-widgets/controls",
     "model_module_version": "1.5.0",
     "model_name": "HTMLModel",
     "state": {
      "_dom_classes": [],
      "_model_module": "@jupyter-widgets/controls",
      "_model_module_version": "1.5.0",
      "_model_name": "HTMLModel",
      "_view_count": null,
      "_view_module": "@jupyter-widgets/controls",
      "_view_module_version": "1.5.0",
      "_view_name": "HTMLView",
      "description": "",
      "description_tooltip": null,
      "layout": "IPY_MODEL_92a5b33ee95340bbaabd63076d6c13f6",
      "placeholder": "​",
      "style": "IPY_MODEL_70129cf863dd490685a479b811fc56b3",
      "value": " 4508/4508 [00:07&lt;00:00, 583.81it/s]"
     }
    },
    "a8f11686baee4710968548e6acfb44f6": {
     "model_module": "@jupyter-widgets/base",
     "model_module_version": "1.2.0",
     "model_name": "LayoutModel",
     "state": {
      "_model_module": "@jupyter-widgets/base",
      "_model_module_version": "1.2.0",
      "_model_name": "LayoutModel",
      "_view_count": null,
      "_view_module": "@jupyter-widgets/base",
      "_view_module_version": "1.2.0",
      "_view_name": "LayoutView",
      "align_content": null,
      "align_items": null,
      "align_self": null,
      "border": null,
      "bottom": null,
      "display": null,
      "flex": null,
      "flex_flow": null,
      "grid_area": null,
      "grid_auto_columns": null,
      "grid_auto_flow": null,
      "grid_auto_rows": null,
      "grid_column": null,
      "grid_gap": null,
      "grid_row": null,
      "grid_template_areas": null,
      "grid_template_columns": null,
      "grid_template_rows": null,
      "height": null,
      "justify_content": null,
      "justify_items": null,
      "left": null,
      "margin": null,
      "max_height": null,
      "max_width": null,
      "min_height": null,
      "min_width": null,
      "object_fit": null,
      "object_position": null,
      "order": null,
      "overflow": null,
      "overflow_x": null,
      "overflow_y": null,
      "padding": null,
      "right": null,
      "top": null,
      "visibility": null,
      "width": null
     }
    },
    "ad8c284f896241428e50d6a1dba0814a": {
     "model_module": "@jupyter-widgets/controls",
     "model_module_version": "1.5.0",
     "model_name": "DescriptionStyleModel",
     "state": {
      "_model_module": "@jupyter-widgets/controls",
      "_model_module_version": "1.5.0",
      "_model_name": "DescriptionStyleModel",
      "_view_count": null,
      "_view_module": "@jupyter-widgets/base",
      "_view_module_version": "1.2.0",
      "_view_name": "StyleView",
      "description_width": ""
     }
    },
    "ad8e8b8829e54a828a6cd3e8738e5c7d": {
     "model_module": "@jupyter-widgets/controls",
     "model_module_version": "1.5.0",
     "model_name": "HBoxModel",
     "state": {
      "_dom_classes": [],
      "_model_module": "@jupyter-widgets/controls",
      "_model_module_version": "1.5.0",
      "_model_name": "HBoxModel",
      "_view_count": null,
      "_view_module": "@jupyter-widgets/controls",
      "_view_module_version": "1.5.0",
      "_view_name": "HBoxView",
      "box_style": "",
      "children": [
       "IPY_MODEL_0da58b33113842de9630eb5bf85274a0",
       "IPY_MODEL_302956719c0c4f8b881ef685d1a67e0c",
       "IPY_MODEL_43cd5dd1225647b5bd2d1ab01c9768ee"
      ],
      "layout": "IPY_MODEL_63396d1f8c734a03a3723334a6d55021"
     }
    },
    "af169e35dbb649228aac812f5a4a4383": {
     "model_module": "@jupyter-widgets/controls",
     "model_module_version": "1.5.0",
     "model_name": "HBoxModel",
     "state": {
      "_dom_classes": [],
      "_model_module": "@jupyter-widgets/controls",
      "_model_module_version": "1.5.0",
      "_model_name": "HBoxModel",
      "_view_count": null,
      "_view_module": "@jupyter-widgets/controls",
      "_view_module_version": "1.5.0",
      "_view_name": "HBoxView",
      "box_style": "",
      "children": [
       "IPY_MODEL_d8c793ca82a544a38b5bfebd57086b46",
       "IPY_MODEL_fc6ae5c2e5ce45b0bce50ee27085b3e1",
       "IPY_MODEL_98016f318c944abba1f3f1f12c6353af"
      ],
      "layout": "IPY_MODEL_8706baf0d4d24fd8a21ac6cf43d0ac6a"
     }
    },
    "af7446b776a2485d8e724c1bc2b39e90": {
     "model_module": "@jupyter-widgets/controls",
     "model_module_version": "1.5.0",
     "model_name": "HTMLModel",
     "state": {
      "_dom_classes": [],
      "_model_module": "@jupyter-widgets/controls",
      "_model_module_version": "1.5.0",
      "_model_name": "HTMLModel",
      "_view_count": null,
      "_view_module": "@jupyter-widgets/controls",
      "_view_module_version": "1.5.0",
      "_view_name": "HTMLView",
      "description": "",
      "description_tooltip": null,
      "layout": "IPY_MODEL_cdd8d7bc32a948a9bd16b059d43d7444",
      "placeholder": "​",
      "style": "IPY_MODEL_3c285f733fb74a398937bccc55462924",
      "value": "epoch 3: 100%"
     }
    },
    "b024239258054c1aae5793f4071d60d0": {
     "model_module": "@jupyter-widgets/controls",
     "model_module_version": "1.5.0",
     "model_name": "DescriptionStyleModel",
     "state": {
      "_model_module": "@jupyter-widgets/controls",
      "_model_module_version": "1.5.0",
      "_model_name": "DescriptionStyleModel",
      "_view_count": null,
      "_view_module": "@jupyter-widgets/base",
      "_view_module_version": "1.2.0",
      "_view_name": "StyleView",
      "description_width": ""
     }
    },
    "b083736846554778b1e4a146e52149e0": {
     "model_module": "@jupyter-widgets/controls",
     "model_module_version": "1.5.0",
     "model_name": "ProgressStyleModel",
     "state": {
      "_model_module": "@jupyter-widgets/controls",
      "_model_module_version": "1.5.0",
      "_model_name": "ProgressStyleModel",
      "_view_count": null,
      "_view_module": "@jupyter-widgets/base",
      "_view_module_version": "1.2.0",
      "_view_name": "StyleView",
      "bar_color": null,
      "description_width": ""
     }
    },
    "b165e4f9ef0b404882c8794f0ad311a9": {
     "model_module": "@jupyter-widgets/base",
     "model_module_version": "1.2.0",
     "model_name": "LayoutModel",
     "state": {
      "_model_module": "@jupyter-widgets/base",
      "_model_module_version": "1.2.0",
      "_model_name": "LayoutModel",
      "_view_count": null,
      "_view_module": "@jupyter-widgets/base",
      "_view_module_version": "1.2.0",
      "_view_name": "LayoutView",
      "align_content": null,
      "align_items": null,
      "align_self": null,
      "border": null,
      "bottom": null,
      "display": null,
      "flex": null,
      "flex_flow": null,
      "grid_area": null,
      "grid_auto_columns": null,
      "grid_auto_flow": null,
      "grid_auto_rows": null,
      "grid_column": null,
      "grid_gap": null,
      "grid_row": null,
      "grid_template_areas": null,
      "grid_template_columns": null,
      "grid_template_rows": null,
      "height": null,
      "justify_content": null,
      "justify_items": null,
      "left": null,
      "margin": null,
      "max_height": null,
      "max_width": null,
      "min_height": null,
      "min_width": null,
      "object_fit": null,
      "object_position": null,
      "order": null,
      "overflow": null,
      "overflow_x": null,
      "overflow_y": null,
      "padding": null,
      "right": null,
      "top": null,
      "visibility": null,
      "width": null
     }
    },
    "b364cc7f304c435c8c9a93b9a707db10": {
     "model_module": "@jupyter-widgets/base",
     "model_module_version": "1.2.0",
     "model_name": "LayoutModel",
     "state": {
      "_model_module": "@jupyter-widgets/base",
      "_model_module_version": "1.2.0",
      "_model_name": "LayoutModel",
      "_view_count": null,
      "_view_module": "@jupyter-widgets/base",
      "_view_module_version": "1.2.0",
      "_view_name": "LayoutView",
      "align_content": null,
      "align_items": null,
      "align_self": null,
      "border": null,
      "bottom": null,
      "display": null,
      "flex": null,
      "flex_flow": null,
      "grid_area": null,
      "grid_auto_columns": null,
      "grid_auto_flow": null,
      "grid_auto_rows": null,
      "grid_column": null,
      "grid_gap": null,
      "grid_row": null,
      "grid_template_areas": null,
      "grid_template_columns": null,
      "grid_template_rows": null,
      "height": null,
      "justify_content": null,
      "justify_items": null,
      "left": null,
      "margin": null,
      "max_height": null,
      "max_width": null,
      "min_height": null,
      "min_width": null,
      "object_fit": null,
      "object_position": null,
      "order": null,
      "overflow": null,
      "overflow_x": null,
      "overflow_y": null,
      "padding": null,
      "right": null,
      "top": null,
      "visibility": null,
      "width": null
     }
    },
    "b868dcc07f394e9c9dcc7c153ee4f7bb": {
     "model_module": "@jupyter-widgets/controls",
     "model_module_version": "1.5.0",
     "model_name": "FloatProgressModel",
     "state": {
      "_dom_classes": [],
      "_model_module": "@jupyter-widgets/controls",
      "_model_module_version": "1.5.0",
      "_model_name": "FloatProgressModel",
      "_view_count": null,
      "_view_module": "@jupyter-widgets/controls",
      "_view_module_version": "1.5.0",
      "_view_name": "ProgressView",
      "bar_style": "success",
      "description": "",
      "description_tooltip": null,
      "layout": "IPY_MODEL_bf1a6a89c12c44658dc1a83068a100a5",
      "max": 4508,
      "min": 0,
      "orientation": "horizontal",
      "style": "IPY_MODEL_efb3e964f44d4e629057f945c0e6ad11",
      "value": 4508
     }
    },
    "b8aaaa2450194e1e878e4293e81b5753": {
     "model_module": "@jupyter-widgets/base",
     "model_module_version": "1.2.0",
     "model_name": "LayoutModel",
     "state": {
      "_model_module": "@jupyter-widgets/base",
      "_model_module_version": "1.2.0",
      "_model_name": "LayoutModel",
      "_view_count": null,
      "_view_module": "@jupyter-widgets/base",
      "_view_module_version": "1.2.0",
      "_view_name": "LayoutView",
      "align_content": null,
      "align_items": null,
      "align_self": null,
      "border": null,
      "bottom": null,
      "display": null,
      "flex": null,
      "flex_flow": null,
      "grid_area": null,
      "grid_auto_columns": null,
      "grid_auto_flow": null,
      "grid_auto_rows": null,
      "grid_column": null,
      "grid_gap": null,
      "grid_row": null,
      "grid_template_areas": null,
      "grid_template_columns": null,
      "grid_template_rows": null,
      "height": null,
      "justify_content": null,
      "justify_items": null,
      "left": null,
      "margin": null,
      "max_height": null,
      "max_width": null,
      "min_height": null,
      "min_width": null,
      "object_fit": null,
      "object_position": null,
      "order": null,
      "overflow": null,
      "overflow_x": null,
      "overflow_y": null,
      "padding": null,
      "right": null,
      "top": null,
      "visibility": null,
      "width": null
     }
    },
    "b8cea92271cd40d5ab27830fc7d60caa": {
     "model_module": "@jupyter-widgets/base",
     "model_module_version": "1.2.0",
     "model_name": "LayoutModel",
     "state": {
      "_model_module": "@jupyter-widgets/base",
      "_model_module_version": "1.2.0",
      "_model_name": "LayoutModel",
      "_view_count": null,
      "_view_module": "@jupyter-widgets/base",
      "_view_module_version": "1.2.0",
      "_view_name": "LayoutView",
      "align_content": null,
      "align_items": null,
      "align_self": null,
      "border": null,
      "bottom": null,
      "display": null,
      "flex": null,
      "flex_flow": null,
      "grid_area": null,
      "grid_auto_columns": null,
      "grid_auto_flow": null,
      "grid_auto_rows": null,
      "grid_column": null,
      "grid_gap": null,
      "grid_row": null,
      "grid_template_areas": null,
      "grid_template_columns": null,
      "grid_template_rows": null,
      "height": null,
      "justify_content": null,
      "justify_items": null,
      "left": null,
      "margin": null,
      "max_height": null,
      "max_width": null,
      "min_height": null,
      "min_width": null,
      "object_fit": null,
      "object_position": null,
      "order": null,
      "overflow": null,
      "overflow_x": null,
      "overflow_y": null,
      "padding": null,
      "right": null,
      "top": null,
      "visibility": null,
      "width": null
     }
    },
    "ba51c5f6c89145eb8454a74256afe2f4": {
     "model_module": "@jupyter-widgets/controls",
     "model_module_version": "1.5.0",
     "model_name": "FloatProgressModel",
     "state": {
      "_dom_classes": [],
      "_model_module": "@jupyter-widgets/controls",
      "_model_module_version": "1.5.0",
      "_model_name": "FloatProgressModel",
      "_view_count": null,
      "_view_module": "@jupyter-widgets/controls",
      "_view_module_version": "1.5.0",
      "_view_name": "ProgressView",
      "bar_style": "success",
      "description": "",
      "description_tooltip": null,
      "layout": "IPY_MODEL_2f80b9db41964055a4b6a526150346c0",
      "max": 4508,
      "min": 0,
      "orientation": "horizontal",
      "style": "IPY_MODEL_0283ebe18a024860a2efef1b91df7d37",
      "value": 4508
     }
    },
    "bd533a9b082e4befb703b6d0e1030735": {
     "model_module": "@jupyter-widgets/controls",
     "model_module_version": "1.5.0",
     "model_name": "DescriptionStyleModel",
     "state": {
      "_model_module": "@jupyter-widgets/controls",
      "_model_module_version": "1.5.0",
      "_model_name": "DescriptionStyleModel",
      "_view_count": null,
      "_view_module": "@jupyter-widgets/base",
      "_view_module_version": "1.2.0",
      "_view_name": "StyleView",
      "description_width": ""
     }
    },
    "be82d34897ea4809a262fd7cd88bde0c": {
     "model_module": "@jupyter-widgets/controls",
     "model_module_version": "1.5.0",
     "model_name": "HBoxModel",
     "state": {
      "_dom_classes": [],
      "_model_module": "@jupyter-widgets/controls",
      "_model_module_version": "1.5.0",
      "_model_name": "HBoxModel",
      "_view_count": null,
      "_view_module": "@jupyter-widgets/controls",
      "_view_module_version": "1.5.0",
      "_view_name": "HBoxView",
      "box_style": "",
      "children": [
       "IPY_MODEL_cdecebf9955a4cae8183af571ff834d6",
       "IPY_MODEL_77a4e56bd9b84c1fad62c02806a651ec",
       "IPY_MODEL_0e8b2d6ceab14913ba96d43e4e03923b"
      ],
      "layout": "IPY_MODEL_b8aaaa2450194e1e878e4293e81b5753"
     }
    },
    "bf1a6a89c12c44658dc1a83068a100a5": {
     "model_module": "@jupyter-widgets/base",
     "model_module_version": "1.2.0",
     "model_name": "LayoutModel",
     "state": {
      "_model_module": "@jupyter-widgets/base",
      "_model_module_version": "1.2.0",
      "_model_name": "LayoutModel",
      "_view_count": null,
      "_view_module": "@jupyter-widgets/base",
      "_view_module_version": "1.2.0",
      "_view_name": "LayoutView",
      "align_content": null,
      "align_items": null,
      "align_self": null,
      "border": null,
      "bottom": null,
      "display": null,
      "flex": null,
      "flex_flow": null,
      "grid_area": null,
      "grid_auto_columns": null,
      "grid_auto_flow": null,
      "grid_auto_rows": null,
      "grid_column": null,
      "grid_gap": null,
      "grid_row": null,
      "grid_template_areas": null,
      "grid_template_columns": null,
      "grid_template_rows": null,
      "height": null,
      "justify_content": null,
      "justify_items": null,
      "left": null,
      "margin": null,
      "max_height": null,
      "max_width": null,
      "min_height": null,
      "min_width": null,
      "object_fit": null,
      "object_position": null,
      "order": null,
      "overflow": null,
      "overflow_x": null,
      "overflow_y": null,
      "padding": null,
      "right": null,
      "top": null,
      "visibility": null,
      "width": null
     }
    },
    "c03ac5dc3c984684aa82fac86c5e96ca": {
     "model_module": "@jupyter-widgets/base",
     "model_module_version": "1.2.0",
     "model_name": "LayoutModel",
     "state": {
      "_model_module": "@jupyter-widgets/base",
      "_model_module_version": "1.2.0",
      "_model_name": "LayoutModel",
      "_view_count": null,
      "_view_module": "@jupyter-widgets/base",
      "_view_module_version": "1.2.0",
      "_view_name": "LayoutView",
      "align_content": null,
      "align_items": null,
      "align_self": null,
      "border": null,
      "bottom": null,
      "display": null,
      "flex": null,
      "flex_flow": null,
      "grid_area": null,
      "grid_auto_columns": null,
      "grid_auto_flow": null,
      "grid_auto_rows": null,
      "grid_column": null,
      "grid_gap": null,
      "grid_row": null,
      "grid_template_areas": null,
      "grid_template_columns": null,
      "grid_template_rows": null,
      "height": null,
      "justify_content": null,
      "justify_items": null,
      "left": null,
      "margin": null,
      "max_height": null,
      "max_width": null,
      "min_height": null,
      "min_width": null,
      "object_fit": null,
      "object_position": null,
      "order": null,
      "overflow": null,
      "overflow_x": null,
      "overflow_y": null,
      "padding": null,
      "right": null,
      "top": null,
      "visibility": null,
      "width": null
     }
    },
    "c226bfe74c6a445b8f9a10252dad4799": {
     "model_module": "@jupyter-widgets/controls",
     "model_module_version": "1.5.0",
     "model_name": "HBoxModel",
     "state": {
      "_dom_classes": [],
      "_model_module": "@jupyter-widgets/controls",
      "_model_module_version": "1.5.0",
      "_model_name": "HBoxModel",
      "_view_count": null,
      "_view_module": "@jupyter-widgets/controls",
      "_view_module_version": "1.5.0",
      "_view_name": "HBoxView",
      "box_style": "",
      "children": [
       "IPY_MODEL_8605a601323648ba91f51db58cb86396",
       "IPY_MODEL_b868dcc07f394e9c9dcc7c153ee4f7bb",
       "IPY_MODEL_79bc58f23b8a494983a49ac2cae1246e"
      ],
      "layout": "IPY_MODEL_65912d3197a547a6bd26d8ea9f8f8939"
     }
    },
    "c58fdd24dd2444dda7e1e8bfc3cf3327": {
     "model_module": "@jupyter-widgets/base",
     "model_module_version": "1.2.0",
     "model_name": "LayoutModel",
     "state": {
      "_model_module": "@jupyter-widgets/base",
      "_model_module_version": "1.2.0",
      "_model_name": "LayoutModel",
      "_view_count": null,
      "_view_module": "@jupyter-widgets/base",
      "_view_module_version": "1.2.0",
      "_view_name": "LayoutView",
      "align_content": null,
      "align_items": null,
      "align_self": null,
      "border": null,
      "bottom": null,
      "display": null,
      "flex": null,
      "flex_flow": null,
      "grid_area": null,
      "grid_auto_columns": null,
      "grid_auto_flow": null,
      "grid_auto_rows": null,
      "grid_column": null,
      "grid_gap": null,
      "grid_row": null,
      "grid_template_areas": null,
      "grid_template_columns": null,
      "grid_template_rows": null,
      "height": null,
      "justify_content": null,
      "justify_items": null,
      "left": null,
      "margin": null,
      "max_height": null,
      "max_width": null,
      "min_height": null,
      "min_width": null,
      "object_fit": null,
      "object_position": null,
      "order": null,
      "overflow": null,
      "overflow_x": null,
      "overflow_y": null,
      "padding": null,
      "right": null,
      "top": null,
      "visibility": null,
      "width": null
     }
    },
    "cc57021734b946f3a0a3622d673a1ef2": {
     "model_module": "@jupyter-widgets/controls",
     "model_module_version": "1.5.0",
     "model_name": "HTMLModel",
     "state": {
      "_dom_classes": [],
      "_model_module": "@jupyter-widgets/controls",
      "_model_module_version": "1.5.0",
      "_model_name": "HTMLModel",
      "_view_count": null,
      "_view_module": "@jupyter-widgets/controls",
      "_view_module_version": "1.5.0",
      "_view_name": "HTMLView",
      "description": "",
      "description_tooltip": null,
      "layout": "IPY_MODEL_377296cc075e41c2a5b40ee3aaa7321e",
      "placeholder": "​",
      "style": "IPY_MODEL_a167513119f3451cad722501a6580263",
      "value": " 4508/4508 [00:08&lt;00:00, 560.40it/s]"
     }
    },
    "cd2d849f33eb4047857f5aa2916c84dd": {
     "model_module": "@jupyter-widgets/controls",
     "model_module_version": "1.5.0",
     "model_name": "DescriptionStyleModel",
     "state": {
      "_model_module": "@jupyter-widgets/controls",
      "_model_module_version": "1.5.0",
      "_model_name": "DescriptionStyleModel",
      "_view_count": null,
      "_view_module": "@jupyter-widgets/base",
      "_view_module_version": "1.2.0",
      "_view_name": "StyleView",
      "description_width": ""
     }
    },
    "cdd8d7bc32a948a9bd16b059d43d7444": {
     "model_module": "@jupyter-widgets/base",
     "model_module_version": "1.2.0",
     "model_name": "LayoutModel",
     "state": {
      "_model_module": "@jupyter-widgets/base",
      "_model_module_version": "1.2.0",
      "_model_name": "LayoutModel",
      "_view_count": null,
      "_view_module": "@jupyter-widgets/base",
      "_view_module_version": "1.2.0",
      "_view_name": "LayoutView",
      "align_content": null,
      "align_items": null,
      "align_self": null,
      "border": null,
      "bottom": null,
      "display": null,
      "flex": null,
      "flex_flow": null,
      "grid_area": null,
      "grid_auto_columns": null,
      "grid_auto_flow": null,
      "grid_auto_rows": null,
      "grid_column": null,
      "grid_gap": null,
      "grid_row": null,
      "grid_template_areas": null,
      "grid_template_columns": null,
      "grid_template_rows": null,
      "height": null,
      "justify_content": null,
      "justify_items": null,
      "left": null,
      "margin": null,
      "max_height": null,
      "max_width": null,
      "min_height": null,
      "min_width": null,
      "object_fit": null,
      "object_position": null,
      "order": null,
      "overflow": null,
      "overflow_x": null,
      "overflow_y": null,
      "padding": null,
      "right": null,
      "top": null,
      "visibility": null,
      "width": null
     }
    },
    "cdecebf9955a4cae8183af571ff834d6": {
     "model_module": "@jupyter-widgets/controls",
     "model_module_version": "1.5.0",
     "model_name": "HTMLModel",
     "state": {
      "_dom_classes": [],
      "_model_module": "@jupyter-widgets/controls",
      "_model_module_version": "1.5.0",
      "_model_name": "HTMLModel",
      "_view_count": null,
      "_view_module": "@jupyter-widgets/controls",
      "_view_module_version": "1.5.0",
      "_view_name": "HTMLView",
      "description": "",
      "description_tooltip": null,
      "layout": "IPY_MODEL_1eaf43de5c984b0791e24dabe94ce2da",
      "placeholder": "​",
      "style": "IPY_MODEL_e7baa576fb0c4c47a807b5d6f9badf9e",
      "value": "epoch 9: 100%"
     }
    },
    "d1759b91d8c3415aaab460de774f2a50": {
     "model_module": "@jupyter-widgets/base",
     "model_module_version": "1.2.0",
     "model_name": "LayoutModel",
     "state": {
      "_model_module": "@jupyter-widgets/base",
      "_model_module_version": "1.2.0",
      "_model_name": "LayoutModel",
      "_view_count": null,
      "_view_module": "@jupyter-widgets/base",
      "_view_module_version": "1.2.0",
      "_view_name": "LayoutView",
      "align_content": null,
      "align_items": null,
      "align_self": null,
      "border": null,
      "bottom": null,
      "display": null,
      "flex": null,
      "flex_flow": null,
      "grid_area": null,
      "grid_auto_columns": null,
      "grid_auto_flow": null,
      "grid_auto_rows": null,
      "grid_column": null,
      "grid_gap": null,
      "grid_row": null,
      "grid_template_areas": null,
      "grid_template_columns": null,
      "grid_template_rows": null,
      "height": null,
      "justify_content": null,
      "justify_items": null,
      "left": null,
      "margin": null,
      "max_height": null,
      "max_width": null,
      "min_height": null,
      "min_width": null,
      "object_fit": null,
      "object_position": null,
      "order": null,
      "overflow": null,
      "overflow_x": null,
      "overflow_y": null,
      "padding": null,
      "right": null,
      "top": null,
      "visibility": null,
      "width": null
     }
    },
    "d547a527395b49babcec79bc47ce4ef0": {
     "model_module": "@jupyter-widgets/controls",
     "model_module_version": "1.5.0",
     "model_name": "DescriptionStyleModel",
     "state": {
      "_model_module": "@jupyter-widgets/controls",
      "_model_module_version": "1.5.0",
      "_model_name": "DescriptionStyleModel",
      "_view_count": null,
      "_view_module": "@jupyter-widgets/base",
      "_view_module_version": "1.2.0",
      "_view_name": "StyleView",
      "description_width": ""
     }
    },
    "d6261b4e5b4d4aadb2bad7a046f96769": {
     "model_module": "@jupyter-widgets/base",
     "model_module_version": "1.2.0",
     "model_name": "LayoutModel",
     "state": {
      "_model_module": "@jupyter-widgets/base",
      "_model_module_version": "1.2.0",
      "_model_name": "LayoutModel",
      "_view_count": null,
      "_view_module": "@jupyter-widgets/base",
      "_view_module_version": "1.2.0",
      "_view_name": "LayoutView",
      "align_content": null,
      "align_items": null,
      "align_self": null,
      "border": null,
      "bottom": null,
      "display": null,
      "flex": null,
      "flex_flow": null,
      "grid_area": null,
      "grid_auto_columns": null,
      "grid_auto_flow": null,
      "grid_auto_rows": null,
      "grid_column": null,
      "grid_gap": null,
      "grid_row": null,
      "grid_template_areas": null,
      "grid_template_columns": null,
      "grid_template_rows": null,
      "height": null,
      "justify_content": null,
      "justify_items": null,
      "left": null,
      "margin": null,
      "max_height": null,
      "max_width": null,
      "min_height": null,
      "min_width": null,
      "object_fit": null,
      "object_position": null,
      "order": null,
      "overflow": null,
      "overflow_x": null,
      "overflow_y": null,
      "padding": null,
      "right": null,
      "top": null,
      "visibility": null,
      "width": null
     }
    },
    "d68ddcb3f3a84f58a1336d91149fe731": {
     "model_module": "@jupyter-widgets/controls",
     "model_module_version": "1.5.0",
     "model_name": "HBoxModel",
     "state": {
      "_dom_classes": [],
      "_model_module": "@jupyter-widgets/controls",
      "_model_module_version": "1.5.0",
      "_model_name": "HBoxModel",
      "_view_count": null,
      "_view_module": "@jupyter-widgets/controls",
      "_view_module_version": "1.5.0",
      "_view_name": "HBoxView",
      "box_style": "",
      "children": [
       "IPY_MODEL_a5def5b7ba5849be9ecf96338a942eb9",
       "IPY_MODEL_e9e9e51bf7be48c4a0800c619d243d47",
       "IPY_MODEL_4746f15737494a1288e94a6b8f640742"
      ],
      "layout": "IPY_MODEL_fee3284c88e245048f4915e82a3d6a84"
     }
    },
    "d8c793ca82a544a38b5bfebd57086b46": {
     "model_module": "@jupyter-widgets/controls",
     "model_module_version": "1.5.0",
     "model_name": "HTMLModel",
     "state": {
      "_dom_classes": [],
      "_model_module": "@jupyter-widgets/controls",
      "_model_module_version": "1.5.0",
      "_model_name": "HTMLModel",
      "_view_count": null,
      "_view_module": "@jupyter-widgets/controls",
      "_view_module_version": "1.5.0",
      "_view_name": "HTMLView",
      "description": "",
      "description_tooltip": null,
      "layout": "IPY_MODEL_8657f9fc5f794b85a1c5b37846dad4ee",
      "placeholder": "​",
      "style": "IPY_MODEL_d547a527395b49babcec79bc47ce4ef0",
      "value": "epoch 6: 100%"
     }
    },
    "dccee0a8f4ea4081b5c047ac36676441": {
     "model_module": "@jupyter-widgets/controls",
     "model_module_version": "1.5.0",
     "model_name": "FloatProgressModel",
     "state": {
      "_dom_classes": [],
      "_model_module": "@jupyter-widgets/controls",
      "_model_module_version": "1.5.0",
      "_model_name": "FloatProgressModel",
      "_view_count": null,
      "_view_module": "@jupyter-widgets/controls",
      "_view_module_version": "1.5.0",
      "_view_name": "ProgressView",
      "bar_style": "success",
      "description": "",
      "description_tooltip": null,
      "layout": "IPY_MODEL_3cbe0980f51f430eb4974030e89e473b",
      "max": 4508,
      "min": 0,
      "orientation": "horizontal",
      "style": "IPY_MODEL_e2e22ad7b9cc49f5a4a9aa1bcf7558a6",
      "value": 4508
     }
    },
    "dd17d7fa6f4d438eb0f1fdfff4a554dd": {
     "model_module": "@jupyter-widgets/controls",
     "model_module_version": "1.5.0",
     "model_name": "HTMLModel",
     "state": {
      "_dom_classes": [],
      "_model_module": "@jupyter-widgets/controls",
      "_model_module_version": "1.5.0",
      "_model_name": "HTMLModel",
      "_view_count": null,
      "_view_module": "@jupyter-widgets/controls",
      "_view_module_version": "1.5.0",
      "_view_name": "HTMLView",
      "description": "",
      "description_tooltip": null,
      "layout": "IPY_MODEL_2f895c4019ae43deb6420c060d1ea9df",
      "placeholder": "​",
      "style": "IPY_MODEL_3726b35bf331442eb5c1fa140b9ecd70",
      "value": "epoch 1: 100%"
     }
    },
    "dd92ac8a77834e75b628bfa8d7762ad4": {
     "model_module": "@jupyter-widgets/base",
     "model_module_version": "1.2.0",
     "model_name": "LayoutModel",
     "state": {
      "_model_module": "@jupyter-widgets/base",
      "_model_module_version": "1.2.0",
      "_model_name": "LayoutModel",
      "_view_count": null,
      "_view_module": "@jupyter-widgets/base",
      "_view_module_version": "1.2.0",
      "_view_name": "LayoutView",
      "align_content": null,
      "align_items": null,
      "align_self": null,
      "border": null,
      "bottom": null,
      "display": null,
      "flex": null,
      "flex_flow": null,
      "grid_area": null,
      "grid_auto_columns": null,
      "grid_auto_flow": null,
      "grid_auto_rows": null,
      "grid_column": null,
      "grid_gap": null,
      "grid_row": null,
      "grid_template_areas": null,
      "grid_template_columns": null,
      "grid_template_rows": null,
      "height": null,
      "justify_content": null,
      "justify_items": null,
      "left": null,
      "margin": null,
      "max_height": null,
      "max_width": null,
      "min_height": null,
      "min_width": null,
      "object_fit": null,
      "object_position": null,
      "order": null,
      "overflow": null,
      "overflow_x": null,
      "overflow_y": null,
      "padding": null,
      "right": null,
      "top": null,
      "visibility": null,
      "width": null
     }
    },
    "de6a3afccad74c51b858e3852f6fd475": {
     "model_module": "@jupyter-widgets/base",
     "model_module_version": "1.2.0",
     "model_name": "LayoutModel",
     "state": {
      "_model_module": "@jupyter-widgets/base",
      "_model_module_version": "1.2.0",
      "_model_name": "LayoutModel",
      "_view_count": null,
      "_view_module": "@jupyter-widgets/base",
      "_view_module_version": "1.2.0",
      "_view_name": "LayoutView",
      "align_content": null,
      "align_items": null,
      "align_self": null,
      "border": null,
      "bottom": null,
      "display": null,
      "flex": null,
      "flex_flow": null,
      "grid_area": null,
      "grid_auto_columns": null,
      "grid_auto_flow": null,
      "grid_auto_rows": null,
      "grid_column": null,
      "grid_gap": null,
      "grid_row": null,
      "grid_template_areas": null,
      "grid_template_columns": null,
      "grid_template_rows": null,
      "height": null,
      "justify_content": null,
      "justify_items": null,
      "left": null,
      "margin": null,
      "max_height": null,
      "max_width": null,
      "min_height": null,
      "min_width": null,
      "object_fit": null,
      "object_position": null,
      "order": null,
      "overflow": null,
      "overflow_x": null,
      "overflow_y": null,
      "padding": null,
      "right": null,
      "top": null,
      "visibility": null,
      "width": null
     }
    },
    "deef787440c5464aa61a46a80f57f9e4": {
     "model_module": "@jupyter-widgets/base",
     "model_module_version": "1.2.0",
     "model_name": "LayoutModel",
     "state": {
      "_model_module": "@jupyter-widgets/base",
      "_model_module_version": "1.2.0",
      "_model_name": "LayoutModel",
      "_view_count": null,
      "_view_module": "@jupyter-widgets/base",
      "_view_module_version": "1.2.0",
      "_view_name": "LayoutView",
      "align_content": null,
      "align_items": null,
      "align_self": null,
      "border": null,
      "bottom": null,
      "display": null,
      "flex": null,
      "flex_flow": null,
      "grid_area": null,
      "grid_auto_columns": null,
      "grid_auto_flow": null,
      "grid_auto_rows": null,
      "grid_column": null,
      "grid_gap": null,
      "grid_row": null,
      "grid_template_areas": null,
      "grid_template_columns": null,
      "grid_template_rows": null,
      "height": null,
      "justify_content": null,
      "justify_items": null,
      "left": null,
      "margin": null,
      "max_height": null,
      "max_width": null,
      "min_height": null,
      "min_width": null,
      "object_fit": null,
      "object_position": null,
      "order": null,
      "overflow": null,
      "overflow_x": null,
      "overflow_y": null,
      "padding": null,
      "right": null,
      "top": null,
      "visibility": null,
      "width": null
     }
    },
    "e15489cc128643e798fdb730c657cf73": {
     "model_module": "@jupyter-widgets/controls",
     "model_module_version": "1.5.0",
     "model_name": "HTMLModel",
     "state": {
      "_dom_classes": [],
      "_model_module": "@jupyter-widgets/controls",
      "_model_module_version": "1.5.0",
      "_model_name": "HTMLModel",
      "_view_count": null,
      "_view_module": "@jupyter-widgets/controls",
      "_view_module_version": "1.5.0",
      "_view_name": "HTMLView",
      "description": "",
      "description_tooltip": null,
      "layout": "IPY_MODEL_93c3ac0f0559438e8cf5a1248473ceb3",
      "placeholder": "​",
      "style": "IPY_MODEL_603f768f02194de4a8a00264f06eca88",
      "value": " 10/10 [00:00&lt;00:00, 103.41it/s]"
     }
    },
    "e2e22ad7b9cc49f5a4a9aa1bcf7558a6": {
     "model_module": "@jupyter-widgets/controls",
     "model_module_version": "1.5.0",
     "model_name": "ProgressStyleModel",
     "state": {
      "_model_module": "@jupyter-widgets/controls",
      "_model_module_version": "1.5.0",
      "_model_name": "ProgressStyleModel",
      "_view_count": null,
      "_view_module": "@jupyter-widgets/base",
      "_view_module_version": "1.2.0",
      "_view_name": "StyleView",
      "bar_color": null,
      "description_width": ""
     }
    },
    "e666ce13796647b3987ddfa6e68d7e7b": {
     "model_module": "@jupyter-widgets/controls",
     "model_module_version": "1.5.0",
     "model_name": "DescriptionStyleModel",
     "state": {
      "_model_module": "@jupyter-widgets/controls",
      "_model_module_version": "1.5.0",
      "_model_name": "DescriptionStyleModel",
      "_view_count": null,
      "_view_module": "@jupyter-widgets/base",
      "_view_module_version": "1.2.0",
      "_view_name": "StyleView",
      "description_width": ""
     }
    },
    "e6c489e220bd4c0aa00bfe83719299a9": {
     "model_module": "@jupyter-widgets/controls",
     "model_module_version": "1.5.0",
     "model_name": "FloatProgressModel",
     "state": {
      "_dom_classes": [],
      "_model_module": "@jupyter-widgets/controls",
      "_model_module_version": "1.5.0",
      "_model_name": "FloatProgressModel",
      "_view_count": null,
      "_view_module": "@jupyter-widgets/controls",
      "_view_module_version": "1.5.0",
      "_view_name": "ProgressView",
      "bar_style": "success",
      "description": "",
      "description_tooltip": null,
      "layout": "IPY_MODEL_9e207d7fac204a14a906fb9c1c9eeed8",
      "max": 20,
      "min": 0,
      "orientation": "horizontal",
      "style": "IPY_MODEL_b083736846554778b1e4a146e52149e0",
      "value": 20
     }
    },
    "e7baa576fb0c4c47a807b5d6f9badf9e": {
     "model_module": "@jupyter-widgets/controls",
     "model_module_version": "1.5.0",
     "model_name": "DescriptionStyleModel",
     "state": {
      "_model_module": "@jupyter-widgets/controls",
      "_model_module_version": "1.5.0",
      "_model_name": "DescriptionStyleModel",
      "_view_count": null,
      "_view_module": "@jupyter-widgets/base",
      "_view_module_version": "1.2.0",
      "_view_name": "StyleView",
      "description_width": ""
     }
    },
    "e7bd0fbda9eb43598acf42984fd74961": {
     "model_module": "@jupyter-widgets/controls",
     "model_module_version": "1.5.0",
     "model_name": "ProgressStyleModel",
     "state": {
      "_model_module": "@jupyter-widgets/controls",
      "_model_module_version": "1.5.0",
      "_model_name": "ProgressStyleModel",
      "_view_count": null,
      "_view_module": "@jupyter-widgets/base",
      "_view_module_version": "1.2.0",
      "_view_name": "StyleView",
      "bar_color": null,
      "description_width": ""
     }
    },
    "e9e9e51bf7be48c4a0800c619d243d47": {
     "model_module": "@jupyter-widgets/controls",
     "model_module_version": "1.5.0",
     "model_name": "FloatProgressModel",
     "state": {
      "_dom_classes": [],
      "_model_module": "@jupyter-widgets/controls",
      "_model_module_version": "1.5.0",
      "_model_name": "FloatProgressModel",
      "_view_count": null,
      "_view_module": "@jupyter-widgets/controls",
      "_view_module_version": "1.5.0",
      "_view_name": "ProgressView",
      "bar_style": "success",
      "description": "",
      "description_tooltip": null,
      "layout": "IPY_MODEL_ef2be3f393b5482b9b3e8eb596adb01f",
      "max": 4508,
      "min": 0,
      "orientation": "horizontal",
      "style": "IPY_MODEL_ec87ac905c22482b92f3bd3ee730806c",
      "value": 4508
     }
    },
    "ea4fe1291a844478b62534dbd2a626d8": {
     "model_module": "@jupyter-widgets/base",
     "model_module_version": "1.2.0",
     "model_name": "LayoutModel",
     "state": {
      "_model_module": "@jupyter-widgets/base",
      "_model_module_version": "1.2.0",
      "_model_name": "LayoutModel",
      "_view_count": null,
      "_view_module": "@jupyter-widgets/base",
      "_view_module_version": "1.2.0",
      "_view_name": "LayoutView",
      "align_content": null,
      "align_items": null,
      "align_self": null,
      "border": null,
      "bottom": null,
      "display": null,
      "flex": null,
      "flex_flow": null,
      "grid_area": null,
      "grid_auto_columns": null,
      "grid_auto_flow": null,
      "grid_auto_rows": null,
      "grid_column": null,
      "grid_gap": null,
      "grid_row": null,
      "grid_template_areas": null,
      "grid_template_columns": null,
      "grid_template_rows": null,
      "height": null,
      "justify_content": null,
      "justify_items": null,
      "left": null,
      "margin": null,
      "max_height": null,
      "max_width": null,
      "min_height": null,
      "min_width": null,
      "object_fit": null,
      "object_position": null,
      "order": null,
      "overflow": null,
      "overflow_x": null,
      "overflow_y": null,
      "padding": null,
      "right": null,
      "top": null,
      "visibility": null,
      "width": null
     }
    },
    "ec3255893b45461f982594980f269044": {
     "model_module": "@jupyter-widgets/base",
     "model_module_version": "1.2.0",
     "model_name": "LayoutModel",
     "state": {
      "_model_module": "@jupyter-widgets/base",
      "_model_module_version": "1.2.0",
      "_model_name": "LayoutModel",
      "_view_count": null,
      "_view_module": "@jupyter-widgets/base",
      "_view_module_version": "1.2.0",
      "_view_name": "LayoutView",
      "align_content": null,
      "align_items": null,
      "align_self": null,
      "border": null,
      "bottom": null,
      "display": null,
      "flex": null,
      "flex_flow": null,
      "grid_area": null,
      "grid_auto_columns": null,
      "grid_auto_flow": null,
      "grid_auto_rows": null,
      "grid_column": null,
      "grid_gap": null,
      "grid_row": null,
      "grid_template_areas": null,
      "grid_template_columns": null,
      "grid_template_rows": null,
      "height": null,
      "justify_content": null,
      "justify_items": null,
      "left": null,
      "margin": null,
      "max_height": null,
      "max_width": null,
      "min_height": null,
      "min_width": null,
      "object_fit": null,
      "object_position": null,
      "order": null,
      "overflow": null,
      "overflow_x": null,
      "overflow_y": null,
      "padding": null,
      "right": null,
      "top": null,
      "visibility": null,
      "width": null
     }
    },
    "ec87ac905c22482b92f3bd3ee730806c": {
     "model_module": "@jupyter-widgets/controls",
     "model_module_version": "1.5.0",
     "model_name": "ProgressStyleModel",
     "state": {
      "_model_module": "@jupyter-widgets/controls",
      "_model_module_version": "1.5.0",
      "_model_name": "ProgressStyleModel",
      "_view_count": null,
      "_view_module": "@jupyter-widgets/base",
      "_view_module_version": "1.2.0",
      "_view_name": "StyleView",
      "bar_color": null,
      "description_width": ""
     }
    },
    "ed998554b0c843e2ad2bf9543dc6e9c4": {
     "model_module": "@jupyter-widgets/base",
     "model_module_version": "1.2.0",
     "model_name": "LayoutModel",
     "state": {
      "_model_module": "@jupyter-widgets/base",
      "_model_module_version": "1.2.0",
      "_model_name": "LayoutModel",
      "_view_count": null,
      "_view_module": "@jupyter-widgets/base",
      "_view_module_version": "1.2.0",
      "_view_name": "LayoutView",
      "align_content": null,
      "align_items": null,
      "align_self": null,
      "border": null,
      "bottom": null,
      "display": null,
      "flex": null,
      "flex_flow": null,
      "grid_area": null,
      "grid_auto_columns": null,
      "grid_auto_flow": null,
      "grid_auto_rows": null,
      "grid_column": null,
      "grid_gap": null,
      "grid_row": null,
      "grid_template_areas": null,
      "grid_template_columns": null,
      "grid_template_rows": null,
      "height": null,
      "justify_content": null,
      "justify_items": null,
      "left": null,
      "margin": null,
      "max_height": null,
      "max_width": null,
      "min_height": null,
      "min_width": null,
      "object_fit": null,
      "object_position": null,
      "order": null,
      "overflow": null,
      "overflow_x": null,
      "overflow_y": null,
      "padding": null,
      "right": null,
      "top": null,
      "visibility": null,
      "width": null
     }
    },
    "edc1b298a91443919f7158ef809d491c": {
     "model_module": "@jupyter-widgets/base",
     "model_module_version": "1.2.0",
     "model_name": "LayoutModel",
     "state": {
      "_model_module": "@jupyter-widgets/base",
      "_model_module_version": "1.2.0",
      "_model_name": "LayoutModel",
      "_view_count": null,
      "_view_module": "@jupyter-widgets/base",
      "_view_module_version": "1.2.0",
      "_view_name": "LayoutView",
      "align_content": null,
      "align_items": null,
      "align_self": null,
      "border": null,
      "bottom": null,
      "display": null,
      "flex": null,
      "flex_flow": null,
      "grid_area": null,
      "grid_auto_columns": null,
      "grid_auto_flow": null,
      "grid_auto_rows": null,
      "grid_column": null,
      "grid_gap": null,
      "grid_row": null,
      "grid_template_areas": null,
      "grid_template_columns": null,
      "grid_template_rows": null,
      "height": null,
      "justify_content": null,
      "justify_items": null,
      "left": null,
      "margin": null,
      "max_height": null,
      "max_width": null,
      "min_height": null,
      "min_width": null,
      "object_fit": null,
      "object_position": null,
      "order": null,
      "overflow": null,
      "overflow_x": null,
      "overflow_y": null,
      "padding": null,
      "right": null,
      "top": null,
      "visibility": null,
      "width": null
     }
    },
    "ef1e260b5ea443bfbb17e79a93bfcb60": {
     "model_module": "@jupyter-widgets/controls",
     "model_module_version": "1.5.0",
     "model_name": "HTMLModel",
     "state": {
      "_dom_classes": [],
      "_model_module": "@jupyter-widgets/controls",
      "_model_module_version": "1.5.0",
      "_model_name": "HTMLModel",
      "_view_count": null,
      "_view_module": "@jupyter-widgets/controls",
      "_view_module_version": "1.5.0",
      "_view_name": "HTMLView",
      "description": "",
      "description_tooltip": null,
      "layout": "IPY_MODEL_0ffc946c61df4a6db96e623a8c36779f",
      "placeholder": "​",
      "style": "IPY_MODEL_cd2d849f33eb4047857f5aa2916c84dd",
      "value": " 4508/4508 [00:08&lt;00:00, 576.15it/s]"
     }
    },
    "ef2be3f393b5482b9b3e8eb596adb01f": {
     "model_module": "@jupyter-widgets/base",
     "model_module_version": "1.2.0",
     "model_name": "LayoutModel",
     "state": {
      "_model_module": "@jupyter-widgets/base",
      "_model_module_version": "1.2.0",
      "_model_name": "LayoutModel",
      "_view_count": null,
      "_view_module": "@jupyter-widgets/base",
      "_view_module_version": "1.2.0",
      "_view_name": "LayoutView",
      "align_content": null,
      "align_items": null,
      "align_self": null,
      "border": null,
      "bottom": null,
      "display": null,
      "flex": null,
      "flex_flow": null,
      "grid_area": null,
      "grid_auto_columns": null,
      "grid_auto_flow": null,
      "grid_auto_rows": null,
      "grid_column": null,
      "grid_gap": null,
      "grid_row": null,
      "grid_template_areas": null,
      "grid_template_columns": null,
      "grid_template_rows": null,
      "height": null,
      "justify_content": null,
      "justify_items": null,
      "left": null,
      "margin": null,
      "max_height": null,
      "max_width": null,
      "min_height": null,
      "min_width": null,
      "object_fit": null,
      "object_position": null,
      "order": null,
      "overflow": null,
      "overflow_x": null,
      "overflow_y": null,
      "padding": null,
      "right": null,
      "top": null,
      "visibility": null,
      "width": null
     }
    },
    "ef496409e27f4f06b16fdb108f7a449f": {
     "model_module": "@jupyter-widgets/controls",
     "model_module_version": "1.5.0",
     "model_name": "HTMLModel",
     "state": {
      "_dom_classes": [],
      "_model_module": "@jupyter-widgets/controls",
      "_model_module_version": "1.5.0",
      "_model_name": "HTMLModel",
      "_view_count": null,
      "_view_module": "@jupyter-widgets/controls",
      "_view_module_version": "1.5.0",
      "_view_name": "HTMLView",
      "description": "",
      "description_tooltip": null,
      "layout": "IPY_MODEL_188efc56c3cc4e3bb1ccba591636e3c1",
      "placeholder": "​",
      "style": "IPY_MODEL_589e4b8a9f144a1ba0a538000e0d1ce3",
      "value": " 4508/4508 [00:07&lt;00:00, 574.93it/s]"
     }
    },
    "efb3e964f44d4e629057f945c0e6ad11": {
     "model_module": "@jupyter-widgets/controls",
     "model_module_version": "1.5.0",
     "model_name": "ProgressStyleModel",
     "state": {
      "_model_module": "@jupyter-widgets/controls",
      "_model_module_version": "1.5.0",
      "_model_name": "ProgressStyleModel",
      "_view_count": null,
      "_view_module": "@jupyter-widgets/base",
      "_view_module_version": "1.2.0",
      "_view_name": "StyleView",
      "bar_color": null,
      "description_width": ""
     }
    },
    "fc6ae5c2e5ce45b0bce50ee27085b3e1": {
     "model_module": "@jupyter-widgets/controls",
     "model_module_version": "1.5.0",
     "model_name": "FloatProgressModel",
     "state": {
      "_dom_classes": [],
      "_model_module": "@jupyter-widgets/controls",
      "_model_module_version": "1.5.0",
      "_model_name": "FloatProgressModel",
      "_view_count": null,
      "_view_module": "@jupyter-widgets/controls",
      "_view_module_version": "1.5.0",
      "_view_name": "ProgressView",
      "bar_style": "success",
      "description": "",
      "description_tooltip": null,
      "layout": "IPY_MODEL_9a2694f2e8e840c5af2ded8ef30bba83",
      "max": 4508,
      "min": 0,
      "orientation": "horizontal",
      "style": "IPY_MODEL_71145b9e7bef447b9405b1c38c44a6a2",
      "value": 4508
     }
    },
    "fc83bacb32b347d08acfcb603d9673ab": {
     "model_module": "@jupyter-widgets/controls",
     "model_module_version": "1.5.0",
     "model_name": "HBoxModel",
     "state": {
      "_dom_classes": [],
      "_model_module": "@jupyter-widgets/controls",
      "_model_module_version": "1.5.0",
      "_model_name": "HBoxModel",
      "_view_count": null,
      "_view_module": "@jupyter-widgets/controls",
      "_view_module_version": "1.5.0",
      "_view_name": "HBoxView",
      "box_style": "",
      "children": [
       "IPY_MODEL_34a19d035fcf4899828199a55799365b",
       "IPY_MODEL_5ff643756baf49f7b8c67e66bb2e8018",
       "IPY_MODEL_260cfd47fc6b4cac9e5534f62ca998b4"
      ],
      "layout": "IPY_MODEL_de6a3afccad74c51b858e3852f6fd475"
     }
    },
    "fee3284c88e245048f4915e82a3d6a84": {
     "model_module": "@jupyter-widgets/base",
     "model_module_version": "1.2.0",
     "model_name": "LayoutModel",
     "state": {
      "_model_module": "@jupyter-widgets/base",
      "_model_module_version": "1.2.0",
      "_model_name": "LayoutModel",
      "_view_count": null,
      "_view_module": "@jupyter-widgets/base",
      "_view_module_version": "1.2.0",
      "_view_name": "LayoutView",
      "align_content": null,
      "align_items": null,
      "align_self": null,
      "border": null,
      "bottom": null,
      "display": null,
      "flex": null,
      "flex_flow": null,
      "grid_area": null,
      "grid_auto_columns": null,
      "grid_auto_flow": null,
      "grid_auto_rows": null,
      "grid_column": null,
      "grid_gap": null,
      "grid_row": null,
      "grid_template_areas": null,
      "grid_template_columns": null,
      "grid_template_rows": null,
      "height": null,
      "justify_content": null,
      "justify_items": null,
      "left": null,
      "margin": null,
      "max_height": null,
      "max_width": null,
      "min_height": null,
      "min_width": null,
      "object_fit": null,
      "object_position": null,
      "order": null,
      "overflow": null,
      "overflow_x": null,
      "overflow_y": null,
      "padding": null,
      "right": null,
      "top": null,
      "visibility": null,
      "width": null
     }
    }
   }
  }
 },
 "nbformat": 4,
 "nbformat_minor": 1
}
