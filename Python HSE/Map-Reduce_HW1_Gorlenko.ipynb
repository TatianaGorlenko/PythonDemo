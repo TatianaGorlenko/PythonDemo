{
 "cells": [
  {
   "cell_type": "markdown",
   "metadata": {},
   "source": [
    "## NB: python3-only"
   ]
  },
  {
   "cell_type": "code",
   "execution_count": 2,
   "metadata": {},
   "outputs": [
    {
     "data": {
      "text/plain": [
       "'/home/tgorlenko/Spark/HW/top-1m.csv'"
      ]
     },
     "execution_count": 2,
     "metadata": {},
     "output_type": "execute_result"
    }
   ],
   "source": [
    "from zipfile import ZipFile\n",
    "from io import BytesIO\n",
    "import urllib.request\n",
    "\n",
    "ZipFile.extract(\n",
    "    ZipFile(\n",
    "        BytesIO(\n",
    "            urllib\n",
    "            .request\n",
    "            .urlopen('http://s3.amazonaws.com/alexa-static/top-1m.csv.zip')\n",
    "            .read()\n",
    "        )\n",
    "    ),\n",
    "    'top-1m.csv'\n",
    ")"
   ]
  },
  {
   "cell_type": "markdown",
   "metadata": {},
   "source": [
    "# Дз №1. Мапредьюс руками\n",
    "\n",
    "Напишите маппер и редьюсер для задачи обратного индекса по рейтингу сайтов алексы.\n",
    "Задача построения обратного индекса означает, что нужно разбить все домены в рейтинге на части(токены) по символу точки, а на выходе получить пары (токен, все сайты в названии которых содержался токен). Пример:\n",
    "\n",
    "```\n",
    "(\n",
    "    google.com,\n",
    "    google.ru,\n",
    "    ya.ru,\n",
    "    hse.ru\n",
    ")\n",
    "\n",
    "```\n",
    "должно на выходе превратиться в:\n",
    "\n",
    "```python\n",
    "(\n",
    "    (com, (google.com,)),\n",
    "    (google, (google.com, google.ru)),\n",
    "    (ru, (google.ru, ya.ru, hse.ru)),\n",
    "    (ya, (ya.ru, )),\n",
    "    (hse, (hse.ru, ))\n",
    ")\n",
    "```\n"
   ]
  },
  {
   "cell_type": "code",
   "execution_count": 1,
   "metadata": {},
   "outputs": [],
   "source": [
    "with open('top-1m.csv') as alexa:\n",
    "    alexa_domains = [s.strip().split(\",\")[1] for s in alexa]"
   ]
  },
  {
   "cell_type": "markdown",
   "metadata": {},
   "source": [
    "## 1.1 Маппер"
   ]
  },
  {
   "cell_type": "code",
   "execution_count": 2,
   "metadata": {},
   "outputs": [],
   "source": [
    "def mapper(domain):\n",
    "    \"\"\"\n",
    "    Маппер для обратного индекса. Разбивает доменное имя на токены и помечает каждый токен доменом. \n",
    "    Пример: google.com -> ('com', 'google.com'), ('google', 'google.com')\n",
    "    \"\"\"\n",
    "    # Ваш код здесь\n",
    "    result = tuple(map(lambda x: (x, domain), domain.split('.')))\n",
    "    return result\n",
    "    "
   ]
  },
  {
   "cell_type": "code",
   "execution_count": 3,
   "metadata": {},
   "outputs": [
    {
     "data": {
      "text/plain": [
       "(('google', 'google.com'), ('com', 'google.com'))"
      ]
     },
     "execution_count": 3,
     "metadata": {},
     "output_type": "execute_result"
    }
   ],
   "source": [
    "mapper('google.com')"
   ]
  },
  {
   "cell_type": "code",
   "execution_count": 4,
   "metadata": {},
   "outputs": [
    {
     "data": {
      "text/plain": [
       "(('com', 'com'),)"
      ]
     },
     "execution_count": 4,
     "metadata": {},
     "output_type": "execute_result"
    }
   ],
   "source": [
    "mapper('com')"
   ]
  },
  {
   "cell_type": "markdown",
   "metadata": {},
   "source": [
    "## 1.2 Редьюсер"
   ]
  },
  {
   "cell_type": "code",
   "execution_count": 5,
   "metadata": {},
   "outputs": [],
   "source": [
    "def reducer(token_domain_pairs):\n",
    "    \"\"\"\n",
    "    Редьюсер для обратного индекса. По набору кортежей, созданных маппером, возвращает кортеж \n",
    "    вида (токен, (домен1, домен2, ...)\n",
    "    Пример:\n",
    "    (('google', 'google.com'), ('google', 'google.se')) -> ('google', ('google.com', 'google.se'))\n",
    "    Примечание: гарантируется, что у всех кортежей на входе оданковый токен.\n",
    "    \"\"\"\n",
    "    # Ваш код здесь\n",
    "    \n",
    "    key = token_domain_pairs[0][0]\n",
    "    domains = tuple(map(lambda x: x[1], token_domain_pairs))\n",
    "    \n",
    "    return (key, domains)\n",
    "    \n",
    "\n",
    "    "
   ]
  },
  {
   "cell_type": "code",
   "execution_count": 6,
   "metadata": {},
   "outputs": [
    {
     "data": {
      "text/plain": [
       "('google', ('google.com', 'google.se'))"
      ]
     },
     "execution_count": 6,
     "metadata": {},
     "output_type": "execute_result"
    }
   ],
   "source": [
    "reducer((('google', 'google.com'), ('google', 'google.se')) )"
   ]
  },
  {
   "cell_type": "markdown",
   "metadata": {},
   "source": [
    "## bonus:\n",
    "\n",
    "Напишите также несколько тестов, чтобы проверить корректность маппера и редьюсера\n",
    "\n",
    "например таких:"
   ]
  },
  {
   "cell_type": "code",
   "execution_count": 7,
   "metadata": {},
   "outputs": [],
   "source": [
    "assert set(mapper(\"ya.ru\")) == {(\"ya\", \"ya.ru\"), (\"ru\", \"ya.ru\")}\n",
    "assert set(mapper(\"com\")) == {(\"com\", \"com\")}\n",
    "\n",
    "def reducer_test(testcase, expected_result):\n",
    "    actual_result = reducer(testcase)\n",
    "    assert actual_result[0] == expected_result[0]\n",
    "    assert set(actual_result[1]) == set(expected_result[1])\n",
    "    \n",
    "reducer_test(\n",
    "    (('google', 'google.com'), ('google', 'google.se')),\n",
    "    ('google', ('google.com', 'google.se'))\n",
    ")"
   ]
  },
  {
   "cell_type": "code",
   "execution_count": 8,
   "metadata": {},
   "outputs": [],
   "source": [
    "def flatmap(mapper_func, iterable):\n",
    "    from itertools import chain\n",
    "    return tuple(chain.from_iterable(map(mapper_func, iterable)))"
   ]
  },
  {
   "cell_type": "markdown",
   "metadata": {},
   "source": [
    "#### проверим как работает ваш маппер на датасете:"
   ]
  },
  {
   "cell_type": "code",
   "execution_count": 9,
   "metadata": {},
   "outputs": [
    {
     "data": {
      "text/plain": [
       "(('google', 'google.com'),\n",
       " ('com', 'google.com'),\n",
       " ('youtube', 'youtube.com'),\n",
       " ('com', 'youtube.com'),\n",
       " ('tmall', 'tmall.com'),\n",
       " ('com', 'tmall.com'),\n",
       " ('baidu', 'baidu.com'),\n",
       " ('com', 'baidu.com'),\n",
       " ('qq', 'qq.com'),\n",
       " ('com', 'qq.com'),\n",
       " ('taobao', 'taobao.com'),\n",
       " ('com', 'taobao.com'),\n",
       " ('sohu', 'sohu.com'),\n",
       " ('com', 'sohu.com'),\n",
       " ('facebook', 'facebook.com'),\n",
       " ('com', 'facebook.com'),\n",
       " ('login', 'login.tmall.com'),\n",
       " ('tmall', 'login.tmall.com'),\n",
       " ('com', 'login.tmall.com'),\n",
       " ('yahoo', 'yahoo.com'),\n",
       " ('com', 'yahoo.com'))"
      ]
     },
     "execution_count": 9,
     "metadata": {},
     "output_type": "execute_result"
    }
   ],
   "source": [
    "flatmap(mapper, alexa_domains[:10])"
   ]
  },
  {
   "cell_type": "markdown",
   "metadata": {},
   "source": [
    "## 1.3 Шаффл\n",
    "напишите функцию, которая сгруппирует всю выдачу всех мапперов по токену, так чтобы соблюдалось предположение, принятое нами в определении редьюсера:\n",
    "\n",
    "> `Примечание: гарантируется, что у всех кортежей на входе оданковый токен.`\n",
    "\n",
    "#### Примечание: в идеале, в реализации шафла не пользоваться питоньими диктами (`{k:v}` и т.д )"
   ]
  },
  {
   "cell_type": "code",
   "execution_count": 10,
   "metadata": {},
   "outputs": [],
   "source": [
    "dataset = (\n",
    "    ('google', 'google.com'),\n",
    "    ('com', 'google.com'),\n",
    "    ('tmall', 'tmall.com'),\n",
    "    ('com', 'tmall.com'),\n",
    "    ('sohu', 'sohu.com'),\n",
    "    ('com', 'sohu.com'),\n",
    "    ('google', 'google.tmall'),\n",
    "    ('tmall', 'google.tmall')\n",
    "          )"
   ]
  },
  {
   "cell_type": "code",
   "execution_count": 11,
   "metadata": {},
   "outputs": [],
   "source": [
    "def shuffle(dataset):\n",
    "    \"\"\"\n",
    "    Группирует с выводом мапперов по ключу. Пример:\n",
    "    \n",
    "    (\n",
    "        ('google', 'google.com'),\n",
    "        ('com', 'google.com'),\n",
    "        ('youtube', 'youtube.com'),\n",
    "        ('com', 'youtube.com')\n",
    "    )\n",
    "\n",
    "    --> shuffle все превращает в --> \n",
    "\n",
    "    (\n",
    "        [('com', 'google.com'), ('com', 'youtube.com')],\n",
    "        [('google', 'google.com')],\n",
    "        [('youtube', 'youtube.com')],\n",
    "    )\n",
    "\n",
    "    :param dataset:\n",
    "    :return:\n",
    "    \n",
    "    \"\"\"\n",
    "    # Ваш код здесь\n",
    "    sorted_data = sorted(dataset)\n",
    "    result = []\n",
    "    current_key = sorted_data[0][0]\n",
    "    pairs_list = []\n",
    "    for pair in sorted_data:\n",
    "        if current_key == pair[0]:\n",
    "            pairs_list.append(pair)\n",
    "        else:\n",
    "            result.append(pairs_list)\n",
    "            current_key = pair[0]\n",
    "            pairs_list = [pair]\n",
    "        if pair == sorted_data[-1]:\n",
    "            result.append(pairs_list)\n",
    "\n",
    "    return tuple(result) "
   ]
  },
  {
   "cell_type": "code",
   "execution_count": 12,
   "metadata": {},
   "outputs": [
    {
     "data": {
      "text/plain": [
       "([('com', 'google.com'), ('com', 'sohu.com'), ('com', 'tmall.com')],\n",
       " [('google', 'google.com'), ('google', 'google.tmall')],\n",
       " [('sohu', 'sohu.com')],\n",
       " [('tmall', 'google.tmall'), ('tmall', 'tmall.com')])"
      ]
     },
     "execution_count": 12,
     "metadata": {},
     "output_type": "execute_result"
    }
   ],
   "source": [
    "shuffle(dataset)"
   ]
  },
  {
   "cell_type": "markdown",
   "metadata": {},
   "source": [
    "### Собираем все вместе"
   ]
  },
  {
   "cell_type": "code",
   "execution_count": 13,
   "metadata": {},
   "outputs": [],
   "source": [
    "mapper_output = flatmap(mapper, alexa_domains)\n",
    "shuffled = shuffle(mapper_output)\n",
    "reduced = map(reducer, shuffled)\n",
    "\n",
    "reversed_idx = dict(reduced)"
   ]
  },
  {
   "cell_type": "markdown",
   "metadata": {},
   "source": [
    "Должно посчитаться секунд за пять. Если не получается и считается долго, то прежде чем оптимизировать код попробуйте подставить небольшое подмножество `alexa_domains`, например `alexa_domains[:100]`. Корректность кода важнее быстродействия.\n",
    "\n",
    "`reversed_idx` должен содержать то что нужно для поиска по токену:"
   ]
  },
  {
   "cell_type": "code",
   "execution_count": 14,
   "metadata": {},
   "outputs": [
    {
     "data": {
      "text/plain": [
       "('auto.yandex',\n",
       " 'chef.yandex',\n",
       " 'clickhouse.yandex',\n",
       " 'driver.yandex',\n",
       " 'eda.yandex',\n",
       " 'ir.yandex',\n",
       " 'metrika.yandex',\n",
       " 'yandex.by',\n",
       " 'yandex.com',\n",
       " 'yandex.com.ge',\n",
       " 'yandex.com.tr',\n",
       " 'yandex.ee',\n",
       " 'yandex.fr',\n",
       " 'yandex.github.io',\n",
       " 'yandex.kz',\n",
       " 'yandex.lv',\n",
       " 'yandex.md',\n",
       " 'yandex.net',\n",
       " 'yandex.org.kz',\n",
       " 'yandex.ru',\n",
       " 'yandex.tm',\n",
       " 'yandex.ua',\n",
       " 'yandex.uz')"
      ]
     },
     "execution_count": 14,
     "metadata": {},
     "output_type": "execute_result"
    }
   ],
   "source": [
    "reversed_idx['yandex']"
   ]
  },
  {
   "cell_type": "code",
   "execution_count": 10,
   "metadata": {},
   "outputs": [
    {
     "data": {
      "text/plain": [
       "('yandex.ee',\n",
       " 'yandex.uk.com',\n",
       " 'yandex.kz',\n",
       " 'yandex.kg',\n",
       " 'yandex.net',\n",
       " 'yandex.tm',\n",
       " 'yandex.lv',\n",
       " 'yandex.lt',\n",
       " 'clickhouse.yandex',\n",
       " 'yandex.ru',\n",
       " 'yandex.uz',\n",
       " 'yandex.az',\n",
       " 'yandex.tj',\n",
       " 'driver.yandex',\n",
       " 'auto.yandex',\n",
       " 'yandex.com.ge',\n",
       " 'yandex.com',\n",
       " 'yandex.co.il',\n",
       " 'yandex.com.tr',\n",
       " 'eda.yandex',\n",
       " 'yandex.fr',\n",
       " 'yandex.md',\n",
       " 'ir.yandex',\n",
       " 'yandex.org.kz',\n",
       " 'yandex.by',\n",
       " 'yandex.ua')"
      ]
     },
     "execution_count": 10,
     "metadata": {},
     "output_type": "execute_result"
    }
   ],
   "source": [
    "reversed_idx['yandex']"
   ]
  }
 ],
 "metadata": {
  "kernelspec": {
   "display_name": "Python 3",
   "language": "python",
   "name": "python3"
  },
  "language_info": {
   "codemirror_mode": {
    "name": "ipython",
    "version": 3
   },
   "file_extension": ".py",
   "mimetype": "text/x-python",
   "name": "python",
   "nbconvert_exporter": "python",
   "pygments_lexer": "ipython3",
   "version": "3.7.1"
  }
 },
 "nbformat": 4,
 "nbformat_minor": 2
}
