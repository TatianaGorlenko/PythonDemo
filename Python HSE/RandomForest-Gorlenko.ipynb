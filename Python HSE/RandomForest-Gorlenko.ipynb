{
 "cells": [
  {
   "cell_type": "markdown",
   "metadata": {},
   "source": [
    "# Домашнее задание 4 (Random Forest)\n",
    "## Общая информация\n",
    "\n",
    "В каждом пункте от вас потребуется дописать код, необходимый для реализации задания, а так же ответить на ряд вопросов, проанализировав полученные результаты. Просьба отвечать на вопросы развёрнуто, аппелируя к полученным значениям или графикам, ответы вписывать в отдельную ячейку, выбрав для неё тип \"Markdown\". От полноты и качества ответов будет во многом зависеть ваша итоговая оценка.\n",
    "\n",
    "Максимальная оценка за задание: 10 баллов\n",
    "\n",
    "Максимальная оценка за бонусную часть: 10 баллов\n",
    "\n",
    "Описание данных: http://archive.ics.uci.edu/ml/datasets/default+of+credit+card+clients#\n",
    "\n",
    "Cсылка на скачивание данных: http://archive.ics.uci.edu/ml/machine-learning-databases/00350/\n"
   ]
  },
  {
   "cell_type": "code",
   "execution_count": 1,
   "metadata": {},
   "outputs": [],
   "source": [
    "import pandas as pd\n",
    "import matplotlib.pyplot as plt\n",
    "%matplotlib inline"
   ]
  },
  {
   "cell_type": "markdown",
   "metadata": {},
   "source": [
    "#### 1. Считайте данные. Разделите выборку на обучение и контроль в соотношении 70:30. Возьмите в качестве целевой переменной столбец default payment next month, в качестве признаков - остальные столбцы."
   ]
  },
  {
   "cell_type": "code",
   "execution_count": 2,
   "metadata": {},
   "outputs": [
    {
     "data": {
      "text/html": [
       "<div>\n",
       "<style scoped>\n",
       "    .dataframe tbody tr th:only-of-type {\n",
       "        vertical-align: middle;\n",
       "    }\n",
       "\n",
       "    .dataframe tbody tr th {\n",
       "        vertical-align: top;\n",
       "    }\n",
       "\n",
       "    .dataframe thead th {\n",
       "        text-align: right;\n",
       "    }\n",
       "</style>\n",
       "<table border=\"1\" class=\"dataframe\">\n",
       "  <thead>\n",
       "    <tr style=\"text-align: right;\">\n",
       "      <th></th>\n",
       "      <th>X1</th>\n",
       "      <th>X2</th>\n",
       "      <th>X3</th>\n",
       "      <th>X4</th>\n",
       "      <th>X5</th>\n",
       "      <th>X6</th>\n",
       "      <th>X7</th>\n",
       "      <th>X8</th>\n",
       "      <th>X9</th>\n",
       "      <th>X10</th>\n",
       "      <th>...</th>\n",
       "      <th>X15</th>\n",
       "      <th>X16</th>\n",
       "      <th>X17</th>\n",
       "      <th>X18</th>\n",
       "      <th>X19</th>\n",
       "      <th>X20</th>\n",
       "      <th>X21</th>\n",
       "      <th>X22</th>\n",
       "      <th>X23</th>\n",
       "      <th>Y</th>\n",
       "    </tr>\n",
       "  </thead>\n",
       "  <tbody>\n",
       "    <tr>\n",
       "      <th>ID</th>\n",
       "      <td>LIMIT_BAL</td>\n",
       "      <td>SEX</td>\n",
       "      <td>EDUCATION</td>\n",
       "      <td>MARRIAGE</td>\n",
       "      <td>AGE</td>\n",
       "      <td>PAY_0</td>\n",
       "      <td>PAY_2</td>\n",
       "      <td>PAY_3</td>\n",
       "      <td>PAY_4</td>\n",
       "      <td>PAY_5</td>\n",
       "      <td>...</td>\n",
       "      <td>BILL_AMT4</td>\n",
       "      <td>BILL_AMT5</td>\n",
       "      <td>BILL_AMT6</td>\n",
       "      <td>PAY_AMT1</td>\n",
       "      <td>PAY_AMT2</td>\n",
       "      <td>PAY_AMT3</td>\n",
       "      <td>PAY_AMT4</td>\n",
       "      <td>PAY_AMT5</td>\n",
       "      <td>PAY_AMT6</td>\n",
       "      <td>default payment next month</td>\n",
       "    </tr>\n",
       "    <tr>\n",
       "      <th>1</th>\n",
       "      <td>20000</td>\n",
       "      <td>2</td>\n",
       "      <td>2</td>\n",
       "      <td>1</td>\n",
       "      <td>24</td>\n",
       "      <td>2</td>\n",
       "      <td>2</td>\n",
       "      <td>-1</td>\n",
       "      <td>-1</td>\n",
       "      <td>-2</td>\n",
       "      <td>...</td>\n",
       "      <td>0</td>\n",
       "      <td>0</td>\n",
       "      <td>0</td>\n",
       "      <td>0</td>\n",
       "      <td>689</td>\n",
       "      <td>0</td>\n",
       "      <td>0</td>\n",
       "      <td>0</td>\n",
       "      <td>0</td>\n",
       "      <td>1</td>\n",
       "    </tr>\n",
       "    <tr>\n",
       "      <th>2</th>\n",
       "      <td>120000</td>\n",
       "      <td>2</td>\n",
       "      <td>2</td>\n",
       "      <td>2</td>\n",
       "      <td>26</td>\n",
       "      <td>-1</td>\n",
       "      <td>2</td>\n",
       "      <td>0</td>\n",
       "      <td>0</td>\n",
       "      <td>0</td>\n",
       "      <td>...</td>\n",
       "      <td>3272</td>\n",
       "      <td>3455</td>\n",
       "      <td>3261</td>\n",
       "      <td>0</td>\n",
       "      <td>1000</td>\n",
       "      <td>1000</td>\n",
       "      <td>1000</td>\n",
       "      <td>0</td>\n",
       "      <td>2000</td>\n",
       "      <td>1</td>\n",
       "    </tr>\n",
       "    <tr>\n",
       "      <th>3</th>\n",
       "      <td>90000</td>\n",
       "      <td>2</td>\n",
       "      <td>2</td>\n",
       "      <td>2</td>\n",
       "      <td>34</td>\n",
       "      <td>0</td>\n",
       "      <td>0</td>\n",
       "      <td>0</td>\n",
       "      <td>0</td>\n",
       "      <td>0</td>\n",
       "      <td>...</td>\n",
       "      <td>14331</td>\n",
       "      <td>14948</td>\n",
       "      <td>15549</td>\n",
       "      <td>1518</td>\n",
       "      <td>1500</td>\n",
       "      <td>1000</td>\n",
       "      <td>1000</td>\n",
       "      <td>1000</td>\n",
       "      <td>5000</td>\n",
       "      <td>0</td>\n",
       "    </tr>\n",
       "    <tr>\n",
       "      <th>4</th>\n",
       "      <td>50000</td>\n",
       "      <td>2</td>\n",
       "      <td>2</td>\n",
       "      <td>1</td>\n",
       "      <td>37</td>\n",
       "      <td>0</td>\n",
       "      <td>0</td>\n",
       "      <td>0</td>\n",
       "      <td>0</td>\n",
       "      <td>0</td>\n",
       "      <td>...</td>\n",
       "      <td>28314</td>\n",
       "      <td>28959</td>\n",
       "      <td>29547</td>\n",
       "      <td>2000</td>\n",
       "      <td>2019</td>\n",
       "      <td>1200</td>\n",
       "      <td>1100</td>\n",
       "      <td>1069</td>\n",
       "      <td>1000</td>\n",
       "      <td>0</td>\n",
       "    </tr>\n",
       "  </tbody>\n",
       "</table>\n",
       "<p>5 rows × 24 columns</p>\n",
       "</div>"
      ],
      "text/plain": [
       "           X1   X2         X3        X4   X5     X6     X7     X8     X9  \\\n",
       "ID  LIMIT_BAL  SEX  EDUCATION  MARRIAGE  AGE  PAY_0  PAY_2  PAY_3  PAY_4   \n",
       "1       20000    2          2         1   24      2      2     -1     -1   \n",
       "2      120000    2          2         2   26     -1      2      0      0   \n",
       "3       90000    2          2         2   34      0      0      0      0   \n",
       "4       50000    2          2         1   37      0      0      0      0   \n",
       "\n",
       "      X10             ...                    X15        X16        X17  \\\n",
       "ID  PAY_5             ...              BILL_AMT4  BILL_AMT5  BILL_AMT6   \n",
       "1      -2             ...                      0          0          0   \n",
       "2       0             ...                   3272       3455       3261   \n",
       "3       0             ...                  14331      14948      15549   \n",
       "4       0             ...                  28314      28959      29547   \n",
       "\n",
       "         X18       X19       X20       X21       X22       X23  \\\n",
       "ID  PAY_AMT1  PAY_AMT2  PAY_AMT3  PAY_AMT4  PAY_AMT5  PAY_AMT6   \n",
       "1          0       689         0         0         0         0   \n",
       "2          0      1000      1000      1000         0      2000   \n",
       "3       1518      1500      1000      1000      1000      5000   \n",
       "4       2000      2019      1200      1100      1069      1000   \n",
       "\n",
       "                             Y  \n",
       "ID  default payment next month  \n",
       "1                            1  \n",
       "2                            1  \n",
       "3                            0  \n",
       "4                            0  \n",
       "\n",
       "[5 rows x 24 columns]"
      ]
     },
     "execution_count": 2,
     "metadata": {},
     "output_type": "execute_result"
    }
   ],
   "source": [
    "df = pd.read_excel('/home/tgorlenko/ML/HW/default of credit card clients.xls')\n",
    "df.head()\n",
    "# видим, что первая строка (ID) -- названия столбцов, а не данные."
   ]
  },
  {
   "cell_type": "code",
   "execution_count": 3,
   "metadata": {},
   "outputs": [
    {
     "data": {
      "text/plain": [
       "X1                      LIMIT_BAL\n",
       "X2                            SEX\n",
       "X3                      EDUCATION\n",
       "X4                       MARRIAGE\n",
       "X5                            AGE\n",
       "X6                          PAY_0\n",
       "X7                          PAY_2\n",
       "X8                          PAY_3\n",
       "X9                          PAY_4\n",
       "X10                         PAY_5\n",
       "X11                         PAY_6\n",
       "X12                     BILL_AMT1\n",
       "X13                     BILL_AMT2\n",
       "X14                     BILL_AMT3\n",
       "X15                     BILL_AMT4\n",
       "X16                     BILL_AMT5\n",
       "X17                     BILL_AMT6\n",
       "X18                      PAY_AMT1\n",
       "X19                      PAY_AMT2\n",
       "X20                      PAY_AMT3\n",
       "X21                      PAY_AMT4\n",
       "X22                      PAY_AMT5\n",
       "X23                      PAY_AMT6\n",
       "Y      default payment next month\n",
       "Name: ID, dtype: object"
      ]
     },
     "execution_count": 3,
     "metadata": {},
     "output_type": "execute_result"
    }
   ],
   "source": [
    "# сохраним имена столбцов в новую переменную\n",
    "str0 = df.iloc[0, :]\n",
    "str0"
   ]
  },
  {
   "cell_type": "code",
   "execution_count": 4,
   "metadata": {},
   "outputs": [
    {
     "data": {
      "text/html": [
       "<div>\n",
       "<style scoped>\n",
       "    .dataframe tbody tr th:only-of-type {\n",
       "        vertical-align: middle;\n",
       "    }\n",
       "\n",
       "    .dataframe tbody tr th {\n",
       "        vertical-align: top;\n",
       "    }\n",
       "\n",
       "    .dataframe thead th {\n",
       "        text-align: right;\n",
       "    }\n",
       "</style>\n",
       "<table border=\"1\" class=\"dataframe\">\n",
       "  <thead>\n",
       "    <tr style=\"text-align: right;\">\n",
       "      <th></th>\n",
       "      <th>X1</th>\n",
       "      <th>X2</th>\n",
       "      <th>X3</th>\n",
       "      <th>X4</th>\n",
       "      <th>X5</th>\n",
       "      <th>X6</th>\n",
       "      <th>X7</th>\n",
       "      <th>X8</th>\n",
       "      <th>X9</th>\n",
       "      <th>X10</th>\n",
       "      <th>...</th>\n",
       "      <th>X15</th>\n",
       "      <th>X16</th>\n",
       "      <th>X17</th>\n",
       "      <th>X18</th>\n",
       "      <th>X19</th>\n",
       "      <th>X20</th>\n",
       "      <th>X21</th>\n",
       "      <th>X22</th>\n",
       "      <th>X23</th>\n",
       "      <th>Y</th>\n",
       "    </tr>\n",
       "  </thead>\n",
       "  <tbody>\n",
       "    <tr>\n",
       "      <th>1</th>\n",
       "      <td>20000</td>\n",
       "      <td>2</td>\n",
       "      <td>2</td>\n",
       "      <td>1</td>\n",
       "      <td>24</td>\n",
       "      <td>2</td>\n",
       "      <td>2</td>\n",
       "      <td>-1</td>\n",
       "      <td>-1</td>\n",
       "      <td>-2</td>\n",
       "      <td>...</td>\n",
       "      <td>0</td>\n",
       "      <td>0</td>\n",
       "      <td>0</td>\n",
       "      <td>0</td>\n",
       "      <td>689</td>\n",
       "      <td>0</td>\n",
       "      <td>0</td>\n",
       "      <td>0</td>\n",
       "      <td>0</td>\n",
       "      <td>1</td>\n",
       "    </tr>\n",
       "    <tr>\n",
       "      <th>2</th>\n",
       "      <td>120000</td>\n",
       "      <td>2</td>\n",
       "      <td>2</td>\n",
       "      <td>2</td>\n",
       "      <td>26</td>\n",
       "      <td>-1</td>\n",
       "      <td>2</td>\n",
       "      <td>0</td>\n",
       "      <td>0</td>\n",
       "      <td>0</td>\n",
       "      <td>...</td>\n",
       "      <td>3272</td>\n",
       "      <td>3455</td>\n",
       "      <td>3261</td>\n",
       "      <td>0</td>\n",
       "      <td>1000</td>\n",
       "      <td>1000</td>\n",
       "      <td>1000</td>\n",
       "      <td>0</td>\n",
       "      <td>2000</td>\n",
       "      <td>1</td>\n",
       "    </tr>\n",
       "    <tr>\n",
       "      <th>3</th>\n",
       "      <td>90000</td>\n",
       "      <td>2</td>\n",
       "      <td>2</td>\n",
       "      <td>2</td>\n",
       "      <td>34</td>\n",
       "      <td>0</td>\n",
       "      <td>0</td>\n",
       "      <td>0</td>\n",
       "      <td>0</td>\n",
       "      <td>0</td>\n",
       "      <td>...</td>\n",
       "      <td>14331</td>\n",
       "      <td>14948</td>\n",
       "      <td>15549</td>\n",
       "      <td>1518</td>\n",
       "      <td>1500</td>\n",
       "      <td>1000</td>\n",
       "      <td>1000</td>\n",
       "      <td>1000</td>\n",
       "      <td>5000</td>\n",
       "      <td>0</td>\n",
       "    </tr>\n",
       "    <tr>\n",
       "      <th>4</th>\n",
       "      <td>50000</td>\n",
       "      <td>2</td>\n",
       "      <td>2</td>\n",
       "      <td>1</td>\n",
       "      <td>37</td>\n",
       "      <td>0</td>\n",
       "      <td>0</td>\n",
       "      <td>0</td>\n",
       "      <td>0</td>\n",
       "      <td>0</td>\n",
       "      <td>...</td>\n",
       "      <td>28314</td>\n",
       "      <td>28959</td>\n",
       "      <td>29547</td>\n",
       "      <td>2000</td>\n",
       "      <td>2019</td>\n",
       "      <td>1200</td>\n",
       "      <td>1100</td>\n",
       "      <td>1069</td>\n",
       "      <td>1000</td>\n",
       "      <td>0</td>\n",
       "    </tr>\n",
       "    <tr>\n",
       "      <th>5</th>\n",
       "      <td>50000</td>\n",
       "      <td>1</td>\n",
       "      <td>2</td>\n",
       "      <td>1</td>\n",
       "      <td>57</td>\n",
       "      <td>-1</td>\n",
       "      <td>0</td>\n",
       "      <td>-1</td>\n",
       "      <td>0</td>\n",
       "      <td>0</td>\n",
       "      <td>...</td>\n",
       "      <td>20940</td>\n",
       "      <td>19146</td>\n",
       "      <td>19131</td>\n",
       "      <td>2000</td>\n",
       "      <td>36681</td>\n",
       "      <td>10000</td>\n",
       "      <td>9000</td>\n",
       "      <td>689</td>\n",
       "      <td>679</td>\n",
       "      <td>0</td>\n",
       "    </tr>\n",
       "  </tbody>\n",
       "</table>\n",
       "<p>5 rows × 24 columns</p>\n",
       "</div>"
      ],
      "text/plain": [
       "       X1 X2 X3 X4  X5  X6 X7  X8  X9 X10 ...    X15    X16    X17   X18  \\\n",
       "1   20000  2  2  1  24   2  2  -1  -1  -2 ...      0      0      0     0   \n",
       "2  120000  2  2  2  26  -1  2   0   0   0 ...   3272   3455   3261     0   \n",
       "3   90000  2  2  2  34   0  0   0   0   0 ...  14331  14948  15549  1518   \n",
       "4   50000  2  2  1  37   0  0   0   0   0 ...  28314  28959  29547  2000   \n",
       "5   50000  1  2  1  57  -1  0  -1   0   0 ...  20940  19146  19131  2000   \n",
       "\n",
       "     X19    X20   X21   X22   X23  Y  \n",
       "1    689      0     0     0     0  1  \n",
       "2   1000   1000  1000     0  2000  1  \n",
       "3   1500   1000  1000  1000  5000  0  \n",
       "4   2019   1200  1100  1069  1000  0  \n",
       "5  36681  10000  9000   689   679  0  \n",
       "\n",
       "[5 rows x 24 columns]"
      ]
     },
     "execution_count": 4,
     "metadata": {},
     "output_type": "execute_result"
    }
   ],
   "source": [
    "# удалим строку с именами столбцов\n",
    "df1 = df.drop(index=\"ID\", axis=0)\n",
    "df1.head()"
   ]
  },
  {
   "cell_type": "code",
   "execution_count": 5,
   "metadata": {},
   "outputs": [],
   "source": [
    "# можно переименоватьм столбцы на осмысленные, но можно оставить и так\n",
    "\n",
    "# df1.columns = str0\n",
    "# df1.head()"
   ]
  },
  {
   "cell_type": "code",
   "execution_count": 6,
   "metadata": {},
   "outputs": [
    {
     "data": {
      "text/plain": [
       "0"
      ]
     },
     "execution_count": 6,
     "metadata": {},
     "output_type": "execute_result"
    }
   ],
   "source": [
    "df1.isnull().sum().sum() # пропущенных значений нет"
   ]
  },
  {
   "cell_type": "code",
   "execution_count": 7,
   "metadata": {},
   "outputs": [
    {
     "name": "stdout",
     "output_type": "stream",
     "text": [
      "<class 'pandas.core.frame.DataFrame'>\n",
      "Index: 30000 entries, 1 to 30000\n",
      "Data columns (total 24 columns):\n",
      "X1     30000 non-null object\n",
      "X2     30000 non-null object\n",
      "X3     30000 non-null object\n",
      "X4     30000 non-null object\n",
      "X5     30000 non-null object\n",
      "X6     30000 non-null object\n",
      "X7     30000 non-null object\n",
      "X8     30000 non-null object\n",
      "X9     30000 non-null object\n",
      "X10    30000 non-null object\n",
      "X11    30000 non-null object\n",
      "X12    30000 non-null object\n",
      "X13    30000 non-null object\n",
      "X14    30000 non-null object\n",
      "X15    30000 non-null object\n",
      "X16    30000 non-null object\n",
      "X17    30000 non-null object\n",
      "X18    30000 non-null object\n",
      "X19    30000 non-null object\n",
      "X20    30000 non-null object\n",
      "X21    30000 non-null object\n",
      "X22    30000 non-null object\n",
      "X23    30000 non-null object\n",
      "Y      30000 non-null object\n",
      "dtypes: object(24)\n",
      "memory usage: 5.7+ MB\n"
     ]
    }
   ],
   "source": [
    "df1.info() # посмотрим на типы объектов"
   ]
  },
  {
   "cell_type": "code",
   "execution_count": 8,
   "metadata": {},
   "outputs": [
    {
     "name": "stdout",
     "output_type": "stream",
     "text": [
      "<class 'pandas.core.frame.DataFrame'>\n",
      "Index: 30000 entries, 1 to 30000\n",
      "Data columns (total 24 columns):\n",
      "X1     30000 non-null int64\n",
      "X2     30000 non-null int64\n",
      "X3     30000 non-null int64\n",
      "X4     30000 non-null int64\n",
      "X5     30000 non-null int64\n",
      "X6     30000 non-null int64\n",
      "X7     30000 non-null int64\n",
      "X8     30000 non-null int64\n",
      "X9     30000 non-null int64\n",
      "X10    30000 non-null int64\n",
      "X11    30000 non-null int64\n",
      "X12    30000 non-null int64\n",
      "X13    30000 non-null int64\n",
      "X14    30000 non-null int64\n",
      "X15    30000 non-null int64\n",
      "X16    30000 non-null int64\n",
      "X17    30000 non-null int64\n",
      "X18    30000 non-null int64\n",
      "X19    30000 non-null int64\n",
      "X20    30000 non-null int64\n",
      "X21    30000 non-null int64\n",
      "X22    30000 non-null int64\n",
      "X23    30000 non-null int64\n",
      "Y      30000 non-null int64\n",
      "dtypes: int64(24)\n",
      "memory usage: 5.7+ MB\n"
     ]
    }
   ],
   "source": [
    "# изменим тип объектов на int\n",
    "for i in list(df1.columns):\n",
    "    df1[i] = pd.to_numeric(df1[i])\n",
    "df1.info()"
   ]
  },
  {
   "cell_type": "code",
   "execution_count": 9,
   "metadata": {},
   "outputs": [],
   "source": [
    "y = df1[\"Y\"]\n",
    "X = df1.iloc[:,:23]"
   ]
  },
  {
   "cell_type": "code",
   "execution_count": 10,
   "metadata": {},
   "outputs": [],
   "source": [
    "from sklearn.model_selection import train_test_split"
   ]
  },
  {
   "cell_type": "code",
   "execution_count": 11,
   "metadata": {},
   "outputs": [],
   "source": [
    "X_train, X_test, y_train, y_test = train_test_split(X, y, test_size=0.3)"
   ]
  },
  {
   "cell_type": "markdown",
   "metadata": {},
   "source": [
    "#### 2. Далее, используя лишь обучающую выбоку и кросс валидацию с пятью фолдами, обучите Random Forest, Decision tree, Logistic regression, KNN с параметрами по умолчанию. Качество оценивайте по метрике accuracy. Какой из алгоритмов дал лучшее качество классификации?"
   ]
  },
  {
   "cell_type": "code",
   "execution_count": 12,
   "metadata": {},
   "outputs": [],
   "source": [
    "from sklearn.model_selection import GridSearchCV\n",
    "from sklearn.metrics import accuracy_score\n",
    "from sklearn.model_selection import cross_val_score\n",
    "from sklearn.ensemble import RandomForestClassifier\n",
    "from sklearn.tree import DecisionTreeClassifier\n",
    "from sklearn.linear_model import LogisticRegression\n",
    "from sklearn.neighbors import KNeighborsClassifier\n",
    "from sklearn.model_selection import KFold\n",
    "import numpy as np"
   ]
  },
  {
   "cell_type": "markdown",
   "metadata": {},
   "source": [
    "Идея: \n",
    "\n",
    "1. Сначала разбиваем выборку X_train на обучающую (X_train_train) и тестовую (X_train_test) с помощью кросс-вадидации\n",
    "2. Для каждого разбиения запускаем обучение алгоритма из списка classifier. Т.е. все алгоритмы в равных условиях, входные данные на каждой итерации у них одинаковые\n",
    "3. Запомним результаты вычислений в матрицу all_err, где по строкам записаны значения всех алгоритмов по конкретной выборке\n",
    "4. Оценка качества алгоритма -- среднее значение по столбцам. Их запишем в список errors\n",
    "5. Найдем максимальный элемент в списке errors, и найдем какому классификатору это значение соответствует"
   ]
  },
  {
   "cell_type": "code",
   "execution_count": 25,
   "metadata": {},
   "outputs": [],
   "source": [
    "classifier = [RandomForestClassifier(), DecisionTreeClassifier(), LogisticRegression(), KNeighborsClassifier()]"
   ]
  },
  {
   "cell_type": "code",
   "execution_count": 54,
   "metadata": {},
   "outputs": [],
   "source": [
    "def winner(list_acc_score, list_clf):\n",
    "    max_elem = max(list_acc_score)\n",
    "    ind = list_acc_score.index(max_elem)\n",
    "    clf_ind = list_clf[ind]\n",
    "    print('THE BEST RESULT is {:.4f} for {}'.format(max_elem, clf_ind))"
   ]
  },
  {
   "cell_type": "code",
   "execution_count": 55,
   "metadata": {},
   "outputs": [
    {
     "name": "stdout",
     "output_type": "stream",
     "text": [
      "For RandomForestClassifier(bootstrap=True, class_weight=None, criterion='gini',\n",
      "            max_depth=None, max_features='auto', max_leaf_nodes=None,\n",
      "            min_impurity_decrease=0.0, min_impurity_split=None,\n",
      "            min_samples_leaf=1, min_samples_split=2,\n",
      "            min_weight_fraction_leaf=0.0, n_estimators=10, n_jobs=1,\n",
      "            oob_score=False, random_state=None, verbose=0,\n",
      "            warm_start=False) accuracy metrics is 0.8039\n",
      "\n",
      "For DecisionTreeClassifier(class_weight=None, criterion='gini', max_depth=None,\n",
      "            max_features=None, max_leaf_nodes=None,\n",
      "            min_impurity_decrease=0.0, min_impurity_split=None,\n",
      "            min_samples_leaf=1, min_samples_split=2,\n",
      "            min_weight_fraction_leaf=0.0, presort=False, random_state=None,\n",
      "            splitter='best') accuracy metrics is 0.7301\n",
      "\n",
      "For LogisticRegression(C=1.0, class_weight=None, dual=False, fit_intercept=True,\n",
      "          intercept_scaling=1, max_iter=100, multi_class='ovr', n_jobs=1,\n",
      "          penalty='l2', random_state=None, solver='liblinear', tol=0.0001,\n",
      "          verbose=0, warm_start=False) accuracy metrics is 0.7799\n",
      "\n",
      "For KNeighborsClassifier(algorithm='auto', leaf_size=30, metric='minkowski',\n",
      "           metric_params=None, n_jobs=1, n_neighbors=5, p=2,\n",
      "           weights='uniform') accuracy metrics is 0.7542\n",
      "\n",
      "---------------------------------------------------------------------------------------------------- \n",
      "\n",
      "THE BEST RESULT is 0.8039 for RandomForestClassifier(bootstrap=True, class_weight=None, criterion='gini',\n",
      "            max_depth=None, max_features='auto', max_leaf_nodes=None,\n",
      "            min_impurity_decrease=0.0, min_impurity_split=None,\n",
      "            min_samples_leaf=1, min_samples_split=2,\n",
      "            min_weight_fraction_leaf=0.0, n_estimators=10, n_jobs=1,\n",
      "            oob_score=False, random_state=None, verbose=0,\n",
      "            warm_start=False)\n"
     ]
    }
   ],
   "source": [
    "kf = KFold(n_splits=5, shuffle=True)\n",
    "all_err = []\n",
    "\n",
    "for train_index, test_index in kf.split(X_train): # для каждого разбиения обучаем классификатор\n",
    "    accuracy = []\n",
    "    for clf in classifier:\n",
    "        #print(\"TRAIN:\", train_index, \"TEST:\", test_index)\n",
    "        X_train_train, X_train_test = np.array(X_train)[train_index], np.array(X_train)[test_index]\n",
    "        y_train_train, y_train_test = np.array(y_train)[train_index], np.array(y_train)[test_index]\n",
    "        clf.fit(X_train_train, y_train_train)\n",
    "        p = float(accuracy_score(y_train_test, clf.predict(X_train_test)))\n",
    "        accuracy.append(p)\n",
    "    all_err.append(accuracy)     # по строкам: вероятность по кажому алгоритму для одного и того же разбиения выборки\n",
    "\n",
    "errors = list(np.mean(all_err, axis=0))     # качество алгоритма -- среднее значение по столбцам\n",
    "\n",
    "for i in range(len(classifier)):\n",
    "    print(\"For {} accuracy metrics is {:.4f}\\n\".format(classifier[i], errors[i]))\n",
    "\n",
    "print('-'*100,'\\n')\n",
    "winner(errors, classifier)\n"
   ]
  },
  {
   "cell_type": "markdown",
   "metadata": {},
   "source": [
    "#### 3. Оцените важность признаков с помощью Random forest. Постройте график важности признаков. Какие выводы можно сделать? Можно ли избавиться от каких-нибудь признаков? Если да, то попробуйте сделать это и сравните качество."
   ]
  },
  {
   "cell_type": "markdown",
   "metadata": {},
   "source": [
    "для оценки важности признака сначала обучите классификатор, а потом используйте метод feature_importances_\n",
    "\n",
    "чтобы построить график используйте plt.bar(), как на семинаре"
   ]
  },
  {
   "cell_type": "code",
   "execution_count": 38,
   "metadata": {},
   "outputs": [
    {
     "data": {
      "text/plain": [
       "Text(0.5,0,'Признак')"
      ]
     },
     "execution_count": 38,
     "metadata": {},
     "output_type": "execute_result"
    },
    {
     "data": {
      "image/png": "[encoded data removed]",
      "text/plain": [
       "<Figure size 432x288 with 1 Axes>"
      ]
     },
     "metadata": {
      "needs_background": "light"
     },
     "output_type": "display_data"
    }
   ],
   "source": [
    "clf_rf = RandomForestClassifier()\n",
    "clf_rf.fit(X_train, y_train)\n",
    "\n",
    "plt.bar(np.arange(X_train.shape[1]), clf_rf.feature_importances_)\n",
    "plt.xticks(np.arange(X_train.shape[1]), X_train.columns)\n",
    "plt.title(\"График важности признаков\")\n",
    "plt.ylabel('Важность признака')\n",
    "plt.xlabel('Признак')"
   ]
  },
  {
   "cell_type": "markdown",
   "metadata": {},
   "source": [
    "Видно, что признак Х6 имеет сильное влияние, а вот признаки X2, X3, X4, X7, X8, X9, X10, X11 -- слабое. Избавимся от этих признаков. Измерим качество для выборки X_train с указанными признаками и без них."
   ]
  },
  {
   "cell_type": "code",
   "execution_count": 16,
   "metadata": {},
   "outputs": [
    {
     "data": {
      "text/plain": [
       "0.811"
      ]
     },
     "execution_count": 16,
     "metadata": {},
     "output_type": "execute_result"
    }
   ],
   "source": [
    "acc = accuracy_score(y_test, clf_rf.predict(X_test))\n",
    "acc"
   ]
  },
  {
   "cell_type": "code",
   "execution_count": 22,
   "metadata": {},
   "outputs": [],
   "source": [
    "X_train_new = X_train.drop(columns=[\"X2\", \"X3\", \"X4\", \"X8\", \"X9\", \"X10\", \"X11\"], axis=1)\n",
    "X_test_new = X_test.drop(columns=[\"X2\", \"X3\", \"X4\", \"X8\", \"X9\", \"X10\", \"X11\"], axis=1)"
   ]
  },
  {
   "cell_type": "code",
   "execution_count": 25,
   "metadata": {},
   "outputs": [
    {
     "name": "stdout",
     "output_type": "stream",
     "text": [
      "Качество увеличилось на 0.000444\n"
     ]
    }
   ],
   "source": [
    "clf_rf_new = RandomForestClassifier()\n",
    "clf_rf_new.fit(X_train_new, y_train)\n",
    "\n",
    "acc_new = accuracy_score(y_test, clf_rf_new.predict(X_test_new))\n",
    "print(\"Качество увеличилось на {:.6f}\".format(acc_new - acc))"
   ]
  },
  {
   "cell_type": "markdown",
   "metadata": {},
   "source": [
    "#### 4. Изменяя параметр n_estimators в Random Forest  посмотрите как меняется качество на кросс варидации. Постройте график. Сделайте выводы."
   ]
  },
  {
   "cell_type": "code",
   "execution_count": 41,
   "metadata": {},
   "outputs": [],
   "source": [
    "n_est = [5, 10, 25, 50, 100, 200, 500]"
   ]
  },
  {
   "cell_type": "code",
   "execution_count": 42,
   "metadata": {},
   "outputs": [
    {
     "name": "stdout",
     "output_type": "stream",
     "text": [
      "[0.7889531130628857, 0.8089525805798624, 0.8127620137998118, 0.8169045989201937, 0.8192857214042766, 0.8193332270624063, 0.8196666851419943]\n"
     ]
    }
   ],
   "source": [
    "err = []     # список, куда будем добавлять вероятность правильных ответов\n",
    "for i in n_est:\n",
    "    clr_rf = RandomForestClassifier(n_estimators=i)\n",
    "    p = np.mean(cross_val_score(clr_rf, X_train, y_train, scoring = 'accuracy', cv=5))\n",
    "    err.append(p)\n",
    "print(err)"
   ]
  },
  {
   "cell_type": "code",
   "execution_count": 43,
   "metadata": {},
   "outputs": [
    {
     "data": {
      "text/plain": [
       "[<matplotlib.lines.Line2D at 0x2203c40e240>]"
      ]
     },
     "execution_count": 43,
     "metadata": {},
     "output_type": "execute_result"
    },
    {
     "data": {
      "image/png": "[encoded data removed]",
      "text/plain": [
       "<Figure size 432x288 with 1 Axes>"
      ]
     },
     "metadata": {
      "needs_background": "light"
     },
     "output_type": "display_data"
    }
   ],
   "source": [
    "plt.plot(n_est, err)"
   ]
  },
  {
   "cell_type": "markdown",
   "metadata": {},
   "source": [
    "С увеличение числа деревьев, точноть увеличивается. Однако после 100 деревьев, точность растет не очень сильно. Т.е. нет смысла нагружать компьютер лишней работой ради уточнения 3-4 цифры после запятой."
   ]
  },
  {
   "cell_type": "markdown",
   "metadata": {},
   "source": [
    "#### 5. Настройте наиболее важные параметры всех алгоритмов используя sklearn.grid_search.GridSearchCV так, чтобы добиться максимально хорошего качества на кросс валидации."
   ]
  },
  {
   "cell_type": "markdown",
   "metadata": {},
   "source": [
    "В KNN настройте следующие параметры:\n",
    "\n",
    "- n_neighbors \n",
    "- metric (если используете minkowski то следует настраивать параметр p)\n",
    "- weights \n",
    "\n",
    "В DecisionTree настройте параметры:\n",
    "\n",
    "- criterion \n",
    "\n",
    "- max_depth\n",
    "\n",
    "- max_features\n",
    "\n",
    "- min_samples_split\n",
    "\n",
    "- min_samples_leaf=1\n",
    "\n",
    "\n",
    "В Random Forest настройте параметры:\n",
    "\n",
    "- n_estimators\n",
    "\n",
    "- criterion\n",
    "\n",
    "- max_features\n",
    "\n",
    "В LogisticRegression  настройте параметры:\n",
    "\n",
    " - penalty \n",
    " - C \n",
    " - max_iter"
   ]
  },
  {
   "cell_type": "code",
   "execution_count": 69,
   "metadata": {},
   "outputs": [
    {
     "name": "stdout",
     "output_type": "stream",
     "text": [
      "{'n_neighbors': 2, 'p': 2, 'weights': 'uniform'}\n"
     ]
    }
   ],
   "source": [
    "# настройка KNN\n",
    "method1 = KNeighborsClassifier(metric='minkowski')\n",
    "parameters = {\"n_neighbors\": [1,2,3], \"p\": [2, 3, 4], \"weights\":[\"uniform\", \"distance\"]}\n",
    "clf_knn = GridSearchCV(method1, parameters, cv=5, scoring='accuracy')\n",
    "clf_knn.fit(X_train, y_train) \n",
    "print(clf_knn.best_params_)"
   ]
  },
  {
   "cell_type": "code",
   "execution_count": 44,
   "metadata": {},
   "outputs": [
    {
     "name": "stdout",
     "output_type": "stream",
     "text": [
      "{'criterion': 'entropy', 'max_depth': 3, 'max_features': 15, 'min_samples_leaf': 1, 'min_samples_split': 3}\n"
     ]
    }
   ],
   "source": [
    "# настройка DecisionTree\n",
    "method2 = DecisionTreeClassifier()\n",
    "parameters = {\"criterion\": ['gini', 'entropy'], \n",
    "              \"max_depth\": [3, 5, 10], \n",
    "              \"max_features\": [1, 3, 5, 7, 10, 15, 23],\n",
    "              \"min_samples_split\": [2, 3],\n",
    "              \"min_samples_leaf\" : [1, 2]\n",
    "             }\n",
    "clf_dt = GridSearchCV(method2, parameters, cv=5, scoring='accuracy')\n",
    "clf_dt.fit(X_train, y_train)\n",
    "print(clf_dt.best_params_)"
   ]
  },
  {
   "cell_type": "code",
   "execution_count": 58,
   "metadata": {},
   "outputs": [
    {
     "name": "stdout",
     "output_type": "stream",
     "text": [
      "{'criterion': 'entropy', 'max_features': 10, 'n_estimators': 100}\n"
     ]
    }
   ],
   "source": [
    "# настройка Random Forest\n",
    "method3 = RandomForestClassifier()\n",
    "parameters = {\"criterion\": ['gini', 'entropy'], \n",
    "              \"max_features\": [1, 3, 5, 10, 15, 23],\n",
    "              \"n_estimators\": [10, 50, 100]\n",
    "             }\n",
    "clf_rf = GridSearchCV(method3, parameters, cv=5, scoring='accuracy')\n",
    "clf_rf.fit(X_train, y_train)\n",
    "print(clf_rf.best_params_)"
   ]
  },
  {
   "cell_type": "code",
   "execution_count": 34,
   "metadata": {},
   "outputs": [
    {
     "name": "stdout",
     "output_type": "stream",
     "text": [
      "{'C': 0.1, 'max_iter': 100, 'penalty': 'l1'}\n"
     ]
    }
   ],
   "source": [
    "# настройка LogisticRegression\n",
    "method4 = LogisticRegression()\n",
    "parameters = {\"penalty\": [\"l1\", \"l2\"], \n",
    "              \"C\": [0.1, 1, 10],\n",
    "              \"max_iter\": [50, 100, 200]\n",
    "             }\n",
    "clf_lr = GridSearchCV(method4, parameters, cv=5, scoring='accuracy')\n",
    "clf_lr.fit(X_train, y_train)\n",
    "print(clf_lr.best_params_)"
   ]
  },
  {
   "cell_type": "markdown",
   "metadata": {},
   "source": [
    "**6. Какое качество дают алгоритмы с настроеенными параметрами на контрольной части выборки? Какой из алгоритмов лучше справился с задачей?**"
   ]
  },
  {
   "cell_type": "code",
   "execution_count": 79,
   "metadata": {},
   "outputs": [],
   "source": [
    "clf_with_params = [RandomForestClassifier(n_estimators=100, criterion='entropy', max_features=10), \n",
    "                   DecisionTreeClassifier(criterion='entropy', max_depth=3, max_features=15, min_samples_split=3), \n",
    "                   LogisticRegression(C=0.1, max_iter=100, penalty=\"l1\"), \n",
    "                   KNeighborsClassifier(n_neighbors=2)]"
   ]
  },
  {
   "cell_type": "code",
   "execution_count": 60,
   "metadata": {},
   "outputs": [
    {
     "name": "stdout",
     "output_type": "stream",
     "text": [
      "For RandomForestClassifier(bootstrap=True, class_weight=None, criterion='entropy',\n",
      "            max_depth=None, max_features=10, max_leaf_nodes=None,\n",
      "            min_impurity_decrease=0.0, min_impurity_split=None,\n",
      "            min_samples_leaf=1, min_samples_split=2,\n",
      "            min_weight_fraction_leaf=0.0, n_estimators=100, n_jobs=1,\n",
      "            oob_score=False, random_state=None, verbose=0,\n",
      "            warm_start=False) accuracy metrics is 0.8113\n",
      "\n",
      "For DecisionTreeClassifier(class_weight=None, criterion='entropy', max_depth=3,\n",
      "            max_features=15, max_leaf_nodes=None,\n",
      "            min_impurity_decrease=0.0, min_impurity_split=None,\n",
      "            min_samples_leaf=1, min_samples_split=3,\n",
      "            min_weight_fraction_leaf=0.0, presort=False, random_state=None,\n",
      "            splitter='best') accuracy metrics is 0.8116\n",
      "\n",
      "For LogisticRegression(C=0.1, class_weight=None, dual=False, fit_intercept=True,\n",
      "          intercept_scaling=1, max_iter=100, multi_class='ovr', n_jobs=1,\n",
      "          penalty='l1', random_state=None, solver='liblinear', tol=0.0001,\n",
      "          verbose=0, warm_start=False) accuracy metrics is 0.8057\n",
      "\n",
      "For KNeighborsClassifier(algorithm='auto', leaf_size=30, metric='minkowski',\n",
      "           metric_params=None, n_jobs=1, n_neighbors=2, p=2,\n",
      "           weights='uniform') accuracy metrics is 0.7614\n",
      "\n",
      "---------------------------------------------------------------------------------------------------- \n",
      "\n",
      "THE BEST RESULT is 0.8116 for DecisionTreeClassifier(class_weight=None, criterion='entropy', max_depth=3,\n",
      "            max_features=15, max_leaf_nodes=None,\n",
      "            min_impurity_decrease=0.0, min_impurity_split=None,\n",
      "            min_samples_leaf=1, min_samples_split=3,\n",
      "            min_weight_fraction_leaf=0.0, presort=False, random_state=None,\n",
      "            splitter='best')\n"
     ]
    }
   ],
   "source": [
    "accuracy = []\n",
    "for clf in clf_with_params:\n",
    "    clf.fit(X_train, y_train)\n",
    "    acc = float(accuracy_score(y_test, clf.predict(X_test)))\n",
    "    accuracy.append(acc)\n",
    "    print(\"For {} accuracy metrics is {:.4f}\\n\".format(clf, acc))\n",
    "\n",
    "print('-'*100,'\\n')\n",
    "winner(accuracy, clf_with_params)"
   ]
  },
  {
   "cell_type": "markdown",
   "metadata": {},
   "source": [
    "### Бонусная часть"
   ]
  },
  {
   "cell_type": "markdown",
   "metadata": {},
   "source": [
    "Подробнее про стэкинг можно почитать здесь: https://dyakonov.org/2017/03/10/cтекинг-stacking-и-блендинг-blending/"
   ]
  },
  {
   "cell_type": "markdown",
   "metadata": {},
   "source": [
    "#### 7. Реализуйте стэкинг над алгоритмами, которые вы уже прошли. Удалось ли достичь лучшего качества?"
   ]
  },
  {
   "cell_type": "code",
   "execution_count": 21,
   "metadata": {},
   "outputs": [],
   "source": [
    "list_clf_stack = [RandomForestClassifier(n_estimators=100, criterion='entropy'),\n",
    "                  DecisionTreeClassifier(criterion='entropy', max_depth=3, min_samples_split=3),\n",
    "                  LogisticRegression(C=0.5, max_iter=100, penalty=\"l2\"),\n",
    "                  KNeighborsClassifier(n_neighbors=7),\n",
    "                  KNeighborsClassifier(n_neighbors=3),\n",
    "                 ]\n",
    "                "
   ]
  },
  {
   "cell_type": "code",
   "execution_count": 22,
   "metadata": {},
   "outputs": [],
   "source": [
    "def matrix_train_predict(list_clf, X_data, y_data):\n",
    "    '''\n",
    "    list_clf -- список алгоритмов, используемый при стекинге\n",
    "    X_data -- обучающая выборка\n",
    "    y_data  -- ответы на обучающей выборке\n",
    "    \n",
    "    функция возвращает: \n",
    "    1) матрицу А ответов алгоритмов на обучающей выборке с использованием кросс-валидации.\n",
    "    type(A) -- numpy array\n",
    "    2) numpy array y_cv перемешанных в соответствиии с кросс-валидацией правильных ответов\n",
    "    \n",
    "    '''\n",
    "    kf = KFold(n_splits=5, shuffle=True)\n",
    "\n",
    "    A = np.zeros((1,len(list_clf)))   # матрица с ответами алгоритмов\n",
    "    y_cv = []                         # список перемешанных правильных ответов\n",
    "\n",
    "    for train_index, test_index in kf.split(X_data): # для каждого разбиения обучаем классификатор\n",
    "        all_predict = []\n",
    "\n",
    "        X_train_train, X_train_test = np.array(X_data)[train_index], np.array(X_data)[test_index]\n",
    "        y_train_train, y_train_test = np.array(y_data)[train_index], np.array(y_data)[test_index]  \n",
    "        \n",
    "        y_cv.extend(y_train_test)\n",
    "\n",
    "        for clf in list_clf:\n",
    "            #print(\"TRAIN:\", train_index, \"TEST:\", test_index)\n",
    "\n",
    "            clf.fit(X_train_train, y_train_train)\n",
    "            list_predict = np.array(clf.predict(X_train_test))     # ответ алгоритма\n",
    "            all_predict.append(list_predict)                       # список ответов всех алгоритмов \n",
    "                                                                   # на конкретоном фолде\n",
    "\n",
    "\n",
    "        all_predict = np.c_[all_predict].T                         # ответы алгоритмов вытягиваем в столбцы\n",
    "\n",
    "        A = np.concatenate((A, all_predict), axis=0)\n",
    "\n",
    "    A = A[1:, :]\n",
    "\n",
    "    y_cv = np.array(y_cv)\n",
    "    return A, y_cv\n",
    "\n",
    "#A_stacking = matrix_train_predict(list_clf_stack, X_train, y_train)"
   ]
  },
  {
   "cell_type": "code",
   "execution_count": 23,
   "metadata": {},
   "outputs": [],
   "source": [
    "def matrix_test_predict(list_clf, X_data, y_data, X_data_test):\n",
    "    \n",
    "    '''\n",
    "    list_clf -- список алгоритмов, используемый при стекинге\n",
    "    X_data -- обучающая выборка\n",
    "    y_data  -- ответы на обучающей выборке\n",
    "    X_data_test -- тестовая выборка\n",
    "    \n",
    "    функция возвращает матрицу b ответов алгоритмов на тестовой выборке\n",
    "    type(b) -- numpy array\n",
    "    '''\n",
    "    \n",
    "    b  = []\n",
    "    \n",
    "    for clf in list_clf:\n",
    "        clf.fit(X_data, y_data)\n",
    "        list_predict = np.array(clf.predict(X_data_test))\n",
    "        b.append(list_predict)\n",
    "                   \n",
    "    b = np.c_[b].T\n",
    "    \n",
    "    return b\n",
    "                                \n",
    "#b_stacking = matrix_test_predict(list_clf_stack, X_train, y_train, X_test)                "
   ]
  },
  {
   "cell_type": "code",
   "execution_count": 37,
   "metadata": {},
   "outputs": [],
   "source": [
    "def stacking(list_clf, X_data, y_data, X_data_test):\n",
    "    '''\n",
    "    list_clf -- список алгоритмов, используемый при стекинге\n",
    "    X_data -- обучающая выборка\n",
    "    y_data  -- ответы на обучающей выборке\n",
    "    X_data_test -- тестовая выборка\n",
    "    Y_data_test -- ответы на тестовой выборке\n",
    "    '''\n",
    "    \n",
    "    A_stacking, y_train_cv = matrix_train_predict(list_clf, X_data, y_data)\n",
    "    b_stacking = matrix_test_predict(list_clf, X_data, y_data, X_data_test) \n",
    "    \n",
    "    clf = DecisionTreeClassifier()\n",
    "    clf.fit(A_stacking, y_train_cv)\n",
    "    res = clf.predict(b_stacking)\n",
    "    return res"
   ]
  },
  {
   "cell_type": "code",
   "execution_count": 38,
   "metadata": {},
   "outputs": [
    {
     "name": "stderr",
     "output_type": "stream",
     "text": [
      "/home/tgorlenko/anaconda3/lib/python3.7/site-packages/sklearn/linear_model/logistic.py:433: FutureWarning: Default solver will be changed to 'lbfgs' in 0.22. Specify a solver to silence this warning.\n",
      "  FutureWarning)\n",
      "/home/tgorlenko/anaconda3/lib/python3.7/site-packages/sklearn/linear_model/logistic.py:433: FutureWarning: Default solver will be changed to 'lbfgs' in 0.22. Specify a solver to silence this warning.\n",
      "  FutureWarning)\n",
      "/home/tgorlenko/anaconda3/lib/python3.7/site-packages/sklearn/linear_model/logistic.py:433: FutureWarning: Default solver will be changed to 'lbfgs' in 0.22. Specify a solver to silence this warning.\n",
      "  FutureWarning)\n",
      "/home/tgorlenko/anaconda3/lib/python3.7/site-packages/sklearn/linear_model/logistic.py:433: FutureWarning: Default solver will be changed to 'lbfgs' in 0.22. Specify a solver to silence this warning.\n",
      "  FutureWarning)\n",
      "/home/tgorlenko/anaconda3/lib/python3.7/site-packages/sklearn/linear_model/logistic.py:433: FutureWarning: Default solver will be changed to 'lbfgs' in 0.22. Specify a solver to silence this warning.\n",
      "  FutureWarning)\n",
      "/home/tgorlenko/anaconda3/lib/python3.7/site-packages/sklearn/linear_model/logistic.py:433: FutureWarning: Default solver will be changed to 'lbfgs' in 0.22. Specify a solver to silence this warning.\n",
      "  FutureWarning)\n"
     ]
    },
    {
     "name": "stdout",
     "output_type": "stream",
     "text": [
      "0.8177777777777778\n"
     ]
    }
   ],
   "source": [
    "res_stacking = stacking(list_clf_stack, X_train, y_train, X_test)\n",
    "acc_stack = accuracy_score(y_test, res_stacking)\n",
    "print(acc_stack)"
   ]
  },
  {
   "cell_type": "markdown",
   "metadata": {},
   "source": [
    "С помощью стекинга удалось немного повысить качество."
   ]
  }
 ],
 "metadata": {
  "kernelspec": {
   "display_name": "Python 3",
   "language": "python",
   "name": "python3"
  },
  "language_info": {
   "codemirror_mode": {
    "name": "ipython",
    "version": 3
   },
   "file_extension": ".py",
   "mimetype": "text/x-python",
   "name": "python",
   "nbconvert_exporter": "python",
   "pygments_lexer": "ipython3",
   "version": "3.7.1"
  }
 },
 "nbformat": 4,
 "nbformat_minor": 1
}
