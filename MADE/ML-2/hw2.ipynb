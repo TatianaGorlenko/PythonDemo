{
 "cells": [
  {
   "cell_type": "code",
   "execution_count": 2,
   "metadata": {},
   "outputs": [],
   "source": [
    "import pickle\n",
    "import numpy as np\n",
    "import pandas as pd\n",
    "\n",
    "from sklearn.linear_model import LogisticRegression\n",
    "from sklearn.preprocessing import OneHotEncoder\n",
    "\n",
    "from scipy import stats\n",
    "\n",
    "from scipy import sparse\n",
    "from copy import deepcopy"
   ]
  },
  {
   "cell_type": "code",
   "execution_count": 3,
   "metadata": {},
   "outputs": [],
   "source": [
    "EPS = 1e-6"
   ]
  },
  {
   "cell_type": "markdown",
   "metadata": {},
   "source": [
    "# 1\n",
    "Прочитайте и проанализируйте данные, выберите турниры, в которых есть данные о составах команд и повопросных результатах (поле mask в results.pkl). Для унификации предлагаю:  \n",
    "   * взять в тренировочный набор турниры с dateStart из 2019 года;   \n",
    "   * в тестовый — турниры с dateStart из 2020 года.\n"
   ]
  },
  {
   "cell_type": "code",
   "execution_count": 4,
   "metadata": {},
   "outputs": [],
   "source": [
    "with open('chgk/players.pkl', 'rb') as f:\n",
    "    players = pickle.load(f)\n",
    "    \n",
    "with open('chgk/results.pkl', 'rb') as f:\n",
    "    results = pickle.load(f)\n",
    "    \n",
    "with open('chgk/tournaments.pkl', 'rb') as f:\n",
    "    tournaments = pickle.load(f)"
   ]
  },
  {
   "cell_type": "markdown",
   "metadata": {},
   "source": [
    "Сформируем обучающую и тестовую выборки"
   ]
  },
  {
   "cell_type": "code",
   "execution_count": 5,
   "metadata": {},
   "outputs": [],
   "source": [
    "train_tournaments = {}\n",
    "test_tournaments = {}\n",
    "for tour_id, value in tournaments.items():\n",
    "    if value['dateStart'][: 4] == '2019':\n",
    "        train_tournaments[tour_id] = value\n",
    "    elif value['dateStart'][: 4] == '2020':\n",
    "        test_tournaments[tour_id] = value"
   ]
  },
  {
   "cell_type": "markdown",
   "metadata": {},
   "source": [
    "Выберем только те турниры, в которых есть повопросные результаты (уберем из рассмотрения турниры, где есть незачтенные вопросы)."
   ]
  },
  {
   "cell_type": "code",
   "execution_count": 6,
   "metadata": {},
   "outputs": [],
   "source": [
    "results_with_mask = {}\n",
    "for tour_id, teams in results.items():\n",
    "    if teams:\n",
    "        teams_with_mask = 0\n",
    "        len_masks = []\n",
    "        for team in teams:\n",
    "            if 'mask' in team and team['mask'] is not None and '?' not in team['mask'] \\\n",
    "            and 'X' not in team['mask']:\n",
    "                teams_with_mask += 1\n",
    "                len_masks.append(len(team['mask']))\n",
    "        if teams_with_mask == len(teams) and max(len_masks) == min(len_masks):\n",
    "            results_with_mask[tour_id] = teams"
   ]
  },
  {
   "cell_type": "code",
   "execution_count": 7,
   "metadata": {},
   "outputs": [
    {
     "data": {
      "text/plain": [
       "3178"
      ]
     },
     "execution_count": 7,
     "metadata": {},
     "output_type": "execute_result"
    }
   ],
   "source": [
    "len(results_with_mask)"
   ]
  },
  {
   "cell_type": "markdown",
   "metadata": {},
   "source": [
    "Теперь нам надо выбрать турниры, которые есть и в `train_tournaments`, и в `results_with_mask`. Аналогично для тестового набора данных"
   ]
  },
  {
   "cell_type": "code",
   "execution_count": 8,
   "metadata": {},
   "outputs": [],
   "source": [
    "train_tournaments_with_mask = {}\n",
    "test_tournaments_with_mask = {}\n",
    "\n",
    "train_resuls_with_mask = {}\n",
    "test_resuls_with_mask = {}\n",
    "for tour_id, teams in results_with_mask.items():\n",
    "    if tour_id in train_tournaments:\n",
    "        train_tournaments_with_mask[tour_id] = train_tournaments[tour_id]\n",
    "        train_resuls_with_mask[tour_id] = teams\n",
    "    elif tour_id in test_tournaments:\n",
    "        test_tournaments_with_mask[tour_id] = test_tournaments[tour_id]\n",
    "        test_resuls_with_mask[tour_id] = teams"
   ]
  },
  {
   "cell_type": "code",
   "execution_count": 9,
   "metadata": {},
   "outputs": [
    {
     "name": "stdout",
     "output_type": "stream",
     "text": [
      "Число турниров в обучающей выборке: 591\n",
      "Число турниров в тестовой выборке: 149\n"
     ]
    }
   ],
   "source": [
    "print(f'Число турниров в обучающей выборке: {len(train_tournaments_with_mask)}')\n",
    "print(f'Число турниров в тестовой выборке: {len(test_tournaments_with_mask)}')"
   ]
  },
  {
   "cell_type": "markdown",
   "metadata": {},
   "source": [
    "# 2\n",
    "Постройте baseline-модель на основе линейной или логистической регрессии, которая будет обучать рейтинг-лист игроков. Замечания и подсказки:  \n",
    "   * повопросные результаты — это фактически результаты броска монетки, и их предсказание скорее всего имеет отношение к бинарной классификации;  \n",
    "   * в разных турнирах вопросы совсем разного уровня сложности, поэтому модель должна это учитывать; скорее всего, модель должна будет явно обучать не только силу каждого игрока, но и сложность каждого вопроса;  \n",
    "   * для baseline-модели можно забыть о командах и считать, что повопросные результаты команды просто относятся к каждому из её игроков\n"
   ]
  },
  {
   "cell_type": "code",
   "execution_count": 10,
   "metadata": {},
   "outputs": [],
   "source": [
    "def get_info_from_tournament(id_tour, teams):\n",
    "    '''Извлекает id команды, id игроков и повопросную маску'''\n",
    "    list_teams = []\n",
    "    list_players = []\n",
    "    list_mask = []\n",
    "    for team in teams:\n",
    "        list_teams.append(team['team']['id'])\n",
    "        list_mask.append(team['mask'])\n",
    "        players = []\n",
    "        for player in team['teamMembers']:\n",
    "            players.append(player['player']['id'])\n",
    "        list_players.append(players)\n",
    "    return list_teams, list_players, list_mask"
   ]
  },
  {
   "cell_type": "code",
   "execution_count": 11,
   "metadata": {},
   "outputs": [],
   "source": [
    "def get_id_question(id_tour, mask):\n",
    "    '''Присваивает каждому вопросу уникальный id вида <id_tour>_<num_question>'''\n",
    "    id_question = []\n",
    "    for i in range(len(mask)):\n",
    "        id_question.append(str(id_tour) + '_' + str(i))\n",
    "    return id_question"
   ]
  },
  {
   "cell_type": "code",
   "execution_count": 12,
   "metadata": {},
   "outputs": [],
   "source": [
    "def get_results_for_team(id_tour, id_team, players, mask, id_questions, is_train=True, train_players=None):\n",
    "    results = []\n",
    "    if is_train:\n",
    "        for id_player in players:\n",
    "            for id_quest, answer in zip(id_questions, mask):\n",
    "                #print(mask)\n",
    "                results.append((id_tour, id_team, id_player, id_quest, int(answer)))\n",
    "    else:\n",
    "        for id_player in players:\n",
    "            # оставляем только тех игроков, которые есть в обучающей выборке\n",
    "            if id_player in train_players:\n",
    "                # добавляем фиктивный id вопроса, т.к. мы не можем сделать повопросное предсказание\n",
    "                results.append((id_tour, id_team, id_player, '0', sum(map(int, mask)), len(mask)))\n",
    "    return results"
   ]
  },
  {
   "cell_type": "code",
   "execution_count": 13,
   "metadata": {},
   "outputs": [],
   "source": [
    "def get_results_for_data(data_dict, is_train=True, train_players=None):\n",
    "    all_results = []\n",
    "    for id_tour, teams in data_dict.items():\n",
    "        list_teams, list_players, list_mask = get_info_from_tournament(id_tour, teams)\n",
    "        id_questions = get_id_question(id_tour, list_mask[0])\n",
    "        for id_team, players, mask in zip(list_teams, list_players, list_mask):\n",
    "            res = get_results_for_team(id_tour, id_team, players, mask, id_questions, is_train, train_players)\n",
    "            all_results.extend(res)\n",
    "    return all_results"
   ]
  },
  {
   "cell_type": "code",
   "execution_count": 14,
   "metadata": {},
   "outputs": [],
   "source": [
    "train_results = get_results_for_data(train_resuls_with_mask)"
   ]
  },
  {
   "cell_type": "code",
   "execution_count": 15,
   "metadata": {},
   "outputs": [],
   "source": [
    "train_df = pd.DataFrame(train_results, columns=['id_tournament', 'id_team', 'id_player', 'id_question', 'is_answer'])"
   ]
  },
  {
   "cell_type": "code",
   "execution_count": 16,
   "metadata": {},
   "outputs": [
    {
     "data": {
      "text/html": [
       "<div>\n",
       "<style scoped>\n",
       "    .dataframe tbody tr th:only-of-type {\n",
       "        vertical-align: middle;\n",
       "    }\n",
       "\n",
       "    .dataframe tbody tr th {\n",
       "        vertical-align: top;\n",
       "    }\n",
       "\n",
       "    .dataframe thead th {\n",
       "        text-align: right;\n",
       "    }\n",
       "</style>\n",
       "<table border=\"1\" class=\"dataframe\">\n",
       "  <thead>\n",
       "    <tr style=\"text-align: right;\">\n",
       "      <th></th>\n",
       "      <th>id_tournament</th>\n",
       "      <th>id_team</th>\n",
       "      <th>id_player</th>\n",
       "      <th>id_question</th>\n",
       "      <th>is_answer</th>\n",
       "    </tr>\n",
       "  </thead>\n",
       "  <tbody>\n",
       "    <tr>\n",
       "      <th>0</th>\n",
       "      <td>4772</td>\n",
       "      <td>45556</td>\n",
       "      <td>6212</td>\n",
       "      <td>4772_0</td>\n",
       "      <td>1</td>\n",
       "    </tr>\n",
       "    <tr>\n",
       "      <th>1</th>\n",
       "      <td>4772</td>\n",
       "      <td>45556</td>\n",
       "      <td>6212</td>\n",
       "      <td>4772_1</td>\n",
       "      <td>1</td>\n",
       "    </tr>\n",
       "    <tr>\n",
       "      <th>2</th>\n",
       "      <td>4772</td>\n",
       "      <td>45556</td>\n",
       "      <td>6212</td>\n",
       "      <td>4772_2</td>\n",
       "      <td>1</td>\n",
       "    </tr>\n",
       "    <tr>\n",
       "      <th>3</th>\n",
       "      <td>4772</td>\n",
       "      <td>45556</td>\n",
       "      <td>6212</td>\n",
       "      <td>4772_3</td>\n",
       "      <td>1</td>\n",
       "    </tr>\n",
       "    <tr>\n",
       "      <th>4</th>\n",
       "      <td>4772</td>\n",
       "      <td>45556</td>\n",
       "      <td>6212</td>\n",
       "      <td>4772_4</td>\n",
       "      <td>1</td>\n",
       "    </tr>\n",
       "    <tr>\n",
       "      <th>5</th>\n",
       "      <td>4772</td>\n",
       "      <td>45556</td>\n",
       "      <td>6212</td>\n",
       "      <td>4772_5</td>\n",
       "      <td>1</td>\n",
       "    </tr>\n",
       "    <tr>\n",
       "      <th>6</th>\n",
       "      <td>4772</td>\n",
       "      <td>45556</td>\n",
       "      <td>6212</td>\n",
       "      <td>4772_6</td>\n",
       "      <td>1</td>\n",
       "    </tr>\n",
       "    <tr>\n",
       "      <th>7</th>\n",
       "      <td>4772</td>\n",
       "      <td>45556</td>\n",
       "      <td>6212</td>\n",
       "      <td>4772_7</td>\n",
       "      <td>1</td>\n",
       "    </tr>\n",
       "    <tr>\n",
       "      <th>8</th>\n",
       "      <td>4772</td>\n",
       "      <td>45556</td>\n",
       "      <td>6212</td>\n",
       "      <td>4772_8</td>\n",
       "      <td>1</td>\n",
       "    </tr>\n",
       "    <tr>\n",
       "      <th>9</th>\n",
       "      <td>4772</td>\n",
       "      <td>45556</td>\n",
       "      <td>6212</td>\n",
       "      <td>4772_9</td>\n",
       "      <td>0</td>\n",
       "    </tr>\n",
       "  </tbody>\n",
       "</table>\n",
       "</div>"
      ],
      "text/plain": [
       "   id_tournament  id_team  id_player id_question  is_answer\n",
       "0           4772    45556       6212      4772_0          1\n",
       "1           4772    45556       6212      4772_1          1\n",
       "2           4772    45556       6212      4772_2          1\n",
       "3           4772    45556       6212      4772_3          1\n",
       "4           4772    45556       6212      4772_4          1\n",
       "5           4772    45556       6212      4772_5          1\n",
       "6           4772    45556       6212      4772_6          1\n",
       "7           4772    45556       6212      4772_7          1\n",
       "8           4772    45556       6212      4772_8          1\n",
       "9           4772    45556       6212      4772_9          0"
      ]
     },
     "execution_count": 16,
     "metadata": {},
     "output_type": "execute_result"
    }
   ],
   "source": [
    "train_df.head(10)"
   ]
  },
  {
   "cell_type": "code",
   "execution_count": 17,
   "metadata": {},
   "outputs": [],
   "source": [
    "ohe = OneHotEncoder(handle_unknown='ignore')\n",
    "\n",
    "X_train = ohe.fit_transform(train_df[['id_player', 'id_question']])\n",
    "y_train = train_df['is_answer']"
   ]
  },
  {
   "cell_type": "code",
   "execution_count": 18,
   "metadata": {},
   "outputs": [
    {
     "data": {
      "text/plain": [
       "(13454728, 81725)"
      ]
     },
     "execution_count": 18,
     "metadata": {},
     "output_type": "execute_result"
    }
   ],
   "source": [
    "X_train.shape"
   ]
  },
  {
   "cell_type": "code",
   "execution_count": 19,
   "metadata": {},
   "outputs": [
    {
     "name": "stderr",
     "output_type": "stream",
     "text": [
      "/home/tgorlenko/anaconda3/lib/python3.7/site-packages/sklearn/linear_model/_logistic.py:818: ConvergenceWarning: lbfgs failed to converge (status=1):\n",
      "STOP: TOTAL NO. of ITERATIONS REACHED LIMIT.\n",
      "\n",
      "Increase the number of iterations (max_iter) or scale the data as shown in:\n",
      "    https://scikit-learn.org/stable/modules/preprocessing.html\n",
      "Please also refer to the documentation for alternative solver options:\n",
      "    https://scikit-learn.org/stable/modules/linear_model.html#logistic-regression\n",
      "  extra_warning_msg=_LOGISTIC_SOLVER_CONVERGENCE_MSG,\n"
     ]
    },
    {
     "data": {
      "text/plain": [
       "LogisticRegression(random_state=71)"
      ]
     },
     "execution_count": 19,
     "metadata": {},
     "output_type": "execute_result"
    }
   ],
   "source": [
    "lr = LogisticRegression(random_state=71)\n",
    "\n",
    "lr.fit(X_train, y_train)"
   ]
  },
  {
   "cell_type": "markdown",
   "metadata": {},
   "source": [
    "Будем считать, что модель сопоставила каждому игроку вес, который равен его вкладу (чем больше коэффициент, тем большее влияние оказывает игрок)."
   ]
  },
  {
   "cell_type": "code",
   "execution_count": 20,
   "metadata": {},
   "outputs": [
    {
     "data": {
      "text/plain": [
       "(1, 81725)"
      ]
     },
     "execution_count": 20,
     "metadata": {},
     "output_type": "execute_result"
    }
   ],
   "source": [
    "# сначала идут игроки, затем вопросы\n",
    "lr.coef_.shape"
   ]
  },
  {
   "cell_type": "code",
   "execution_count": 21,
   "metadata": {},
   "outputs": [],
   "source": [
    "list_players = ohe.categories_[0]\n",
    "list_questions = ohe.categories_[1]"
   ]
  },
  {
   "cell_type": "code",
   "execution_count": 22,
   "metadata": {},
   "outputs": [],
   "source": [
    "power_players = lr.coef_[0, : len(list_players)]"
   ]
  },
  {
   "cell_type": "markdown",
   "metadata": {},
   "source": [
    "Для удобства создадим словарь соответствия id игрока и его ФИО"
   ]
  },
  {
   "cell_type": "code",
   "execution_count": 23,
   "metadata": {},
   "outputs": [],
   "source": [
    "def id_player_to_name(players_data):\n",
    "    id2name_dict = {}\n",
    "    for id_player, info in players_data.items():\n",
    "        id2name_dict[id_player] = info['surname'] + ' ' + info['name']\n",
    "    return id2name_dict"
   ]
  },
  {
   "cell_type": "code",
   "execution_count": 24,
   "metadata": {},
   "outputs": [],
   "source": [
    "id2name_dict = id_player_to_name(players)"
   ]
  },
  {
   "cell_type": "code",
   "execution_count": 25,
   "metadata": {},
   "outputs": [
    {
     "data": {
      "text/html": [
       "<div>\n",
       "<style scoped>\n",
       "    .dataframe tbody tr th:only-of-type {\n",
       "        vertical-align: middle;\n",
       "    }\n",
       "\n",
       "    .dataframe tbody tr th {\n",
       "        vertical-align: top;\n",
       "    }\n",
       "\n",
       "    .dataframe thead th {\n",
       "        text-align: right;\n",
       "    }\n",
       "</style>\n",
       "<table border=\"1\" class=\"dataframe\">\n",
       "  <thead>\n",
       "    <tr style=\"text-align: right;\">\n",
       "      <th></th>\n",
       "      <th>id_player</th>\n",
       "      <th>power</th>\n",
       "      <th>player_name</th>\n",
       "    </tr>\n",
       "  </thead>\n",
       "  <tbody>\n",
       "    <tr>\n",
       "      <th>3746</th>\n",
       "      <td>27403</td>\n",
       "      <td>3.870750</td>\n",
       "      <td>Руссо Максим</td>\n",
       "    </tr>\n",
       "    <tr>\n",
       "      <th>583</th>\n",
       "      <td>4270</td>\n",
       "      <td>3.840984</td>\n",
       "      <td>Брутер Александра</td>\n",
       "    </tr>\n",
       "    <tr>\n",
       "      <th>4115</th>\n",
       "      <td>30152</td>\n",
       "      <td>3.675417</td>\n",
       "      <td>Сорожкин Артём</td>\n",
       "    </tr>\n",
       "    <tr>\n",
       "      <th>3816</th>\n",
       "      <td>27822</td>\n",
       "      <td>3.622571</td>\n",
       "      <td>Савченков Михаил</td>\n",
       "    </tr>\n",
       "    <tr>\n",
       "      <th>3932</th>\n",
       "      <td>28751</td>\n",
       "      <td>3.615617</td>\n",
       "      <td>Семушин Иван</td>\n",
       "    </tr>\n",
       "    <tr>\n",
       "      <th>4130</th>\n",
       "      <td>30260</td>\n",
       "      <td>3.590023</td>\n",
       "      <td>Спектор Евгений</td>\n",
       "    </tr>\n",
       "    <tr>\n",
       "      <th>4135</th>\n",
       "      <td>30270</td>\n",
       "      <td>3.514355</td>\n",
       "      <td>Спешков Сергей</td>\n",
       "    </tr>\n",
       "    <tr>\n",
       "      <th>3132</th>\n",
       "      <td>22799</td>\n",
       "      <td>3.380658</td>\n",
       "      <td>Николенко Сергей</td>\n",
       "    </tr>\n",
       "    <tr>\n",
       "      <th>3570</th>\n",
       "      <td>26089</td>\n",
       "      <td>3.378090</td>\n",
       "      <td>Прокофьева Ирина</td>\n",
       "    </tr>\n",
       "    <tr>\n",
       "      <th>9031</th>\n",
       "      <td>87637</td>\n",
       "      <td>3.372710</td>\n",
       "      <td>Саксонов Антон</td>\n",
       "    </tr>\n",
       "  </tbody>\n",
       "</table>\n",
       "</div>"
      ],
      "text/plain": [
       "      id_player     power        player_name\n",
       "3746      27403  3.870750       Руссо Максим\n",
       "583        4270  3.840984  Брутер Александра\n",
       "4115      30152  3.675417     Сорожкин Артём\n",
       "3816      27822  3.622571   Савченков Михаил\n",
       "3932      28751  3.615617       Семушин Иван\n",
       "4130      30260  3.590023    Спектор Евгений\n",
       "4135      30270  3.514355     Спешков Сергей\n",
       "3132      22799  3.380658   Николенко Сергей\n",
       "3570      26089  3.378090   Прокофьева Ирина\n",
       "9031      87637  3.372710     Саксонов Антон"
      ]
     },
     "execution_count": 25,
     "metadata": {},
     "output_type": "execute_result"
    }
   ],
   "source": [
    "ranging_players_df = pd.DataFrame({'id_player': list_players, 'power': power_players})\n",
    "ranging_players_df['player_name'] = ranging_players_df['id_player'].map(id2name_dict)\n",
    "ranging_players_df.sort_values(by='power', inplace=True, ascending=False)\n",
    "\n",
    "ranging_players_df.head(10)"
   ]
  },
  {
   "cell_type": "markdown",
   "metadata": {},
   "source": [
    "Если сравнивать результат модели с рейтингом на [сайте](https://rating.chgk.info/players.php?release=1557&page=1&order=rating), то видим, что модель выдает адекватные результаты."
   ]
  },
  {
   "cell_type": "markdown",
   "metadata": {},
   "source": [
    "# 3\n",
    "\n",
    "Качество рейтинг-системы оценивается качеством предсказаний результатов турниров. Но сами повопросные результаты наши модели предсказывать вряд ли смогут, ведь неизвестно, насколько сложными окажутся вопросы в будущих турнирах; да и не нужны эти предсказания сами по себе. Поэтому:\n",
    " * предложите способ предсказать результаты нового турнира с известными составами, но неизвестными вопросами, в виде ранжирования команд;\n",
    " * в качестве метрики качества на тестовом наборе давайте считать ранговые корреляции Спирмена и Кендалла (их можно взять в пакете scipy) между реальным ранжированием в результатах турнира и предсказанным моделью, усреднённые по тестовому множеству турниров."
   ]
  },
  {
   "cell_type": "markdown",
   "metadata": {},
   "source": [
    "Создадим тестовую выборку. Так как мы не можем сделать предсказание по для игроков, которых не было в обучающей выборке, то уберем их из тестовой выборки. Еще в новом турнире нам неизвестны вопросы, т.е. информацию о них мы не сможем использовать, в столбцах с `id_question` поставим фиктивный ноль. Будем делать предсказания только на основе силы игрока.  \n",
    "Будем считать, что вероятность команды верно ответить на вопрос (сила команды) равна вероятности того, что хотя бы один из игроков верно ответил на вопрос:\n",
    "$P(team = 1) = 1 - П_{i} (1 - P(player_i = 1))$\n",
    "\n",
    "Истинную силу команды будем считать как доля правильных ответов в турнире.\n",
    "\n",
    "По силе команды (предсказанной или истинной) можно отранжировать команды."
   ]
  },
  {
   "cell_type": "code",
   "execution_count": 26,
   "metadata": {},
   "outputs": [],
   "source": [
    "test_results = get_results_for_data(test_resuls_with_mask, is_train=False, train_players=list_players)"
   ]
  },
  {
   "cell_type": "code",
   "execution_count": 27,
   "metadata": {},
   "outputs": [],
   "source": [
    "test_df = pd.DataFrame(test_results, columns=['id_tournament', 'id_team', 'id_player', 'id_question', 'sum_answer', 'count_questions'])"
   ]
  },
  {
   "cell_type": "code",
   "execution_count": 28,
   "metadata": {},
   "outputs": [],
   "source": [
    "X_test = test_df[['id_tournament', 'id_team', 'id_player', 'id_question']]"
   ]
  },
  {
   "cell_type": "code",
   "execution_count": 29,
   "metadata": {},
   "outputs": [
    {
     "data": {
      "text/html": [
       "<div>\n",
       "<style scoped>\n",
       "    .dataframe tbody tr th:only-of-type {\n",
       "        vertical-align: middle;\n",
       "    }\n",
       "\n",
       "    .dataframe tbody tr th {\n",
       "        vertical-align: top;\n",
       "    }\n",
       "\n",
       "    .dataframe thead th {\n",
       "        text-align: right;\n",
       "    }\n",
       "</style>\n",
       "<table border=\"1\" class=\"dataframe\">\n",
       "  <thead>\n",
       "    <tr style=\"text-align: right;\">\n",
       "      <th></th>\n",
       "      <th>id_tournament</th>\n",
       "      <th>id_team</th>\n",
       "      <th>id_player</th>\n",
       "      <th>id_question</th>\n",
       "    </tr>\n",
       "  </thead>\n",
       "  <tbody>\n",
       "    <tr>\n",
       "      <th>0</th>\n",
       "      <td>5414</td>\n",
       "      <td>66120</td>\n",
       "      <td>18490</td>\n",
       "      <td>0</td>\n",
       "    </tr>\n",
       "    <tr>\n",
       "      <th>1</th>\n",
       "      <td>5414</td>\n",
       "      <td>66120</td>\n",
       "      <td>116901</td>\n",
       "      <td>0</td>\n",
       "    </tr>\n",
       "    <tr>\n",
       "      <th>2</th>\n",
       "      <td>5414</td>\n",
       "      <td>66120</td>\n",
       "      <td>8532</td>\n",
       "      <td>0</td>\n",
       "    </tr>\n",
       "    <tr>\n",
       "      <th>3</th>\n",
       "      <td>5414</td>\n",
       "      <td>66120</td>\n",
       "      <td>42346</td>\n",
       "      <td>0</td>\n",
       "    </tr>\n",
       "    <tr>\n",
       "      <th>4</th>\n",
       "      <td>5414</td>\n",
       "      <td>66120</td>\n",
       "      <td>123190</td>\n",
       "      <td>0</td>\n",
       "    </tr>\n",
       "  </tbody>\n",
       "</table>\n",
       "</div>"
      ],
      "text/plain": [
       "   id_tournament  id_team  id_player id_question\n",
       "0           5414    66120      18490           0\n",
       "1           5414    66120     116901           0\n",
       "2           5414    66120       8532           0\n",
       "3           5414    66120      42346           0\n",
       "4           5414    66120     123190           0"
      ]
     },
     "execution_count": 29,
     "metadata": {},
     "output_type": "execute_result"
    }
   ],
   "source": [
    "X_test.head()"
   ]
  },
  {
   "cell_type": "code",
   "execution_count": 30,
   "metadata": {},
   "outputs": [],
   "source": [
    "X_test = ohe.transform(X_test[['id_player', 'id_question']])"
   ]
  },
  {
   "cell_type": "code",
   "execution_count": 31,
   "metadata": {},
   "outputs": [],
   "source": [
    "pred_proba = lr.predict_proba(X_test)"
   ]
  },
  {
   "cell_type": "code",
   "execution_count": 32,
   "metadata": {},
   "outputs": [],
   "source": [
    "# вероятность того, что игрок верно ответит на вопрос\n",
    "pred_proba = pred_proba.T[1]"
   ]
  },
  {
   "cell_type": "code",
   "execution_count": 33,
   "metadata": {},
   "outputs": [],
   "source": [
    "def print_metrics(data_df, preds):\n",
    "    data = deepcopy(data_df)\n",
    "    data['pred_proba'] = preds\n",
    "    data['score_pred'] = data.groupby(['id_tournament', 'id_team'])['pred_proba'].transform(lambda x: 1 - np.prod(1 - x))\n",
    "    help_df = data[['id_tournament', 'id_team', 'sum_answer', 'count_questions', 'score_pred']].drop_duplicates().reset_index(drop=True)\n",
    "    help_df['score_real'] = help_df['sum_answer'] / help_df['count_questions']\n",
    "    \n",
    "    print(f\"Корреляция Спирмана: {help_df.groupby('id_tournament').apply(lambda x: stats.spearmanr(x['score_real'], x['score_pred']).correlation).mean()}\")\n",
    "    print(f\"Корреляция Кендалла: {help_df.groupby('id_tournament').apply(lambda x: stats.kendalltau(x['score_real'], x['score_pred']).correlation).mean()}\")"
   ]
  },
  {
   "cell_type": "code",
   "execution_count": 34,
   "metadata": {},
   "outputs": [
    {
     "name": "stdout",
     "output_type": "stream",
     "text": [
      "Корреляция Спирмана: 0.7907965680970711\n",
      "Корреляция Кендалла: 0.6325955740915766\n"
     ]
    }
   ],
   "source": [
    "print_metrics(test_df, pred_proba)"
   ]
  },
  {
   "cell_type": "markdown",
   "metadata": {},
   "source": [
    "Корреляции в указанном диапазоне."
   ]
  },
  {
   "cell_type": "markdown",
   "metadata": {},
   "source": [
    "# 4\n",
    "Теперь главное: ЧГК — это всё-таки командная игра. Поэтому:\n",
    "* предложите способ учитывать то, что на вопрос отвечают сразу несколько игроков; скорее всего, понадобятся скрытые переменные; не стесняйтесь делать упрощающие предположения, но теперь переменные “игрок X ответил на вопрос Y” при условии данных должны стать зависимыми для игроков одной и той же команды;\n",
    "* разработайте EM-схему для обучения этой модели, реализуйте её в коде;\n",
    "* обучите несколько итераций, убедитесь, что целевые метрики со временем растут (скорее всего, ненамного, но расти должны), выберите лучшую модель, используя целевые метрики.\n"
   ]
  },
  {
   "cell_type": "markdown",
   "metadata": {},
   "source": [
    "Раньше мы полагали, что если команда верно ответила на вопрос, то каждый игрок команды верно ответил на вопрос. В реальности это не так.  \n",
    "Будем считать, что если хотя бы один игрок ответил на вопрос верно, то и команда ответила на вопрос верно, т.е.  \n",
    "$P(team = 0| player = 1) = 0$ и $P(team = 1| player = 1) = 1$.\n",
    "\n",
    "Вероятность команды ответить на вопрос верно будем считать так же, как и раньше:\n",
    "\n",
    "$P(team = 1) = 1 - П_{i}P(player_i = 0) = 1 - П_{i} (1 - P(player_i = 1))$  \n",
    "Попробуем оценить вероятность того, что игрок ответил на вопрос верно, при условии, что команда ответила на вопрос верно:  \n",
    "\n",
    "$P(player = 1|team = 1) = \\dfrac{P(team = 1| player = 1) \\cdot P(player = 1)}{P(team = 1)} = \\dfrac{1 \\cdot P(player = 1)}{P(team = 1)} = \\dfrac{P(player = 1)}{P(team = 1)} = \\dfrac{P(player = 1)}{1 - П_{i} (1 - P(player_i = 1))}$"
   ]
  },
  {
   "cell_type": "markdown",
   "metadata": {},
   "source": [
    "На Е-шаге будем оценивать скрытую переменную $P(player = 1|team = 1)$. На М-шаге решаем задачу оптимизации, где целевая переменная -- это наша скрытая переменная. Вероятность предсказания -- это $P(player = 1)$"
   ]
  },
  {
   "cell_type": "code",
   "execution_count": 35,
   "metadata": {},
   "outputs": [],
   "source": [
    "from sklearn.preprocessing import MinMaxScaler"
   ]
  },
  {
   "cell_type": "code",
   "execution_count": 36,
   "metadata": {},
   "outputs": [],
   "source": [
    "def E_step(data, preds):\n",
    "    help_df = data.copy()\n",
    "    help_df['pred_proba'] = preds\n",
    "    help_df['score_pred'] = help_df.groupby(['id_tournament', 'id_team'])['pred_proba'].transform(lambda x: 1 - np.prod(1 - x))\n",
    "    y = help_df['pred_proba'] / help_df['score_pred']\n",
    "    y = y.values.reshape(-1, 1)\n",
    "    scaler = MinMaxScaler()\n",
    "    scaler.fit(y)\n",
    "    y = scaler.transform(y)\n",
    "    y[help_df['is_answer'] == 0] = 0\n",
    "    y = y.flatten()\n",
    "    return y"
   ]
  },
  {
   "cell_type": "code",
   "execution_count": 37,
   "metadata": {},
   "outputs": [],
   "source": [
    "def log_loss(y_true, y_pred):\n",
    "    return - np.mean(y_true * np.log(y_pred) + (1 - y_true) * np.log(1 - y_pred))\n",
    "\n",
    "def sigmoid(x):\n",
    "    return 1 / (1 + np.exp(-x))"
   ]
  },
  {
   "cell_type": "code",
   "execution_count": 38,
   "metadata": {},
   "outputs": [],
   "source": [
    "def predict(X, w):\n",
    "    return sigmoid(X.dot(w))"
   ]
  },
  {
   "cell_type": "code",
   "execution_count": 39,
   "metadata": {},
   "outputs": [],
   "source": [
    "def M_step(X, y, w, learnig_rate=15, epochs=100):\n",
    "    min_loss = np.inf\n",
    "    for epoch in range(epochs):\n",
    "        prediction = predict(X, w)\n",
    "        grad = X.T.dot(prediction - y) / len(y)\n",
    "        w -= learnig_rate * grad\n",
    "        cur_loss = log_loss(y, prediction)\n",
    "        if abs(min_loss - cur_loss) < EPS:\n",
    "            break\n",
    "        min_loss = cur_loss"
   ]
  },
  {
   "cell_type": "code",
   "execution_count": 40,
   "metadata": {},
   "outputs": [],
   "source": [
    "def EM_algo(X_train_ohe, train_dataframe, X_test_ohe, test_dataframe, w='baseline', n_iter=10, learnig_rate=15, epochs=100):\n",
    "    '''ЕМ алгоритм\n",
    "    :param X_train_ohe: матрица признаков с ohe\n",
    "    :param train_dataframe: dataframe с тренировочными данными\n",
    "    :param X_test_ohe: матрица признаков с ohe\n",
    "    :param test_dataframe: dataframe с тестовыми данными\n",
    "    :param w: начальная инициализация весов для логрегрессии\n",
    "    :param n_iter: число итераций в ЕМ-алгоритме\n",
    "    :param learnig_rate: скорость обучения\n",
    "    :param epochs: число эпох для логрегрессии на М-шаге\n",
    "    \n",
    "    :return w: обученные веса модели\n",
    "    '''\n",
    "    X_tr = deepcopy(X_train_ohe)\n",
    "    X_tr = sparse.hstack((np.ones((X_tr.shape[0], 1)), X_tr), format='csr')\n",
    "    X_te = deepcopy(X_test_ohe)\n",
    "    X_te = sparse.hstack((np.ones((X_te.shape[0], 1)), X_te), format='csr')\n",
    "    if w == 'baseline':\n",
    "        w = np.hstack([lr.intercept_, lr.coef_[0]])\n",
    "    else:\n",
    "        # случайная инициализация\n",
    "        w = np.random.randn(X_tr.shape[1])\n",
    "    print('Start:')\n",
    "    print_metrics(test_dataframe, predict(X_te, w))\n",
    "    for i in range(n_iter): \n",
    "        print()\n",
    "        print(f'Iter {i}:')\n",
    "        preds = predict(X_tr, w)\n",
    "        y = E_step(train_dataframe, preds)\n",
    "        M_step(X_tr, y, w, learnig_rate, epochs)\n",
    "        print_metrics(test_dataframe, predict(X_te, w))\n",
    "    return w"
   ]
  },
  {
   "cell_type": "code",
   "execution_count": 41,
   "metadata": {},
   "outputs": [
    {
     "name": "stdout",
     "output_type": "stream",
     "text": [
      "Start:\n",
      "Корреляция Спирмана: 0.7907965680970711\n",
      "Корреляция Кендалла: 0.6325955740915766\n",
      "\n",
      "Iter 0:\n",
      "Корреляция Спирмана: 0.795582681676043\n",
      "Корреляция Кендалла: 0.6378873250938423\n",
      "\n",
      "Iter 1:\n",
      "Корреляция Спирмана: 0.7973454450570451\n",
      "Корреляция Кендалла: 0.6398208170615309\n",
      "\n",
      "Iter 2:\n",
      "Корреляция Спирмана: 0.7980690583322327\n",
      "Корреляция Кендалла: 0.6409667986430179\n",
      "\n",
      "Iter 3:\n",
      "Корреляция Спирмана: 0.7979463348574457\n",
      "Корреляция Кендалла: 0.6408386726138786\n",
      "\n",
      "Iter 4:\n",
      "Корреляция Спирмана: 0.798045920520992\n",
      "Корреляция Кендалла: 0.6409993475826181\n",
      "\n",
      "Iter 5:\n",
      "Корреляция Спирмана: 0.7979718813866471\n",
      "Корреляция Кендалла: 0.6410239043836757\n",
      "\n",
      "Iter 6:\n",
      "Корреляция Спирмана: 0.7980231726459638\n",
      "Корреляция Кендалла: 0.6411056005563086\n",
      "\n",
      "Iter 7:\n",
      "Корреляция Спирмана: 0.7980230944229496\n",
      "Корреляция Кендалла: 0.6411565057313605\n",
      "\n",
      "Iter 8:\n",
      "Корреляция Спирмана: 0.7980909668207663\n",
      "Корреляция Кендалла: 0.6411984834570531\n",
      "\n",
      "Iter 9:\n",
      "Корреляция Спирмана: 0.7980940926581909\n",
      "Корреляция Кендалла: 0.6411907003830308\n"
     ]
    }
   ],
   "source": [
    "em_w = EM_algo(X_train, train_df, X_test, test_df, n_iter=10)"
   ]
  },
  {
   "cell_type": "markdown",
   "metadata": {},
   "source": [
    "Видим, что метрики немного растут"
   ]
  },
  {
   "cell_type": "markdown",
   "metadata": {},
   "source": [
    "# 5\n",
    "А что там с вопросами? Постройте “рейтинг-лист” турниров по сложности вопросов. Соответствует ли он интуиции (например, на чемпионате мира в целом должны быть сложные вопросы, а на турнирах для школьников — простые)? *Если будет интересно:* постройте топ сложных и простых вопросов со ссылками на конкретные записи в базе вопросов ЧГК (это чисто техническое дело, тут никакого ML нету)."
   ]
  },
  {
   "cell_type": "code",
   "execution_count": 42,
   "metadata": {
    "scrolled": true
   },
   "outputs": [],
   "source": [
    "id2name_tournament = {}\n",
    "for id_tour in pd.unique(train_df['id_tournament']):\n",
    "    id2name_tournament[id_tour] = tournaments[id_tour]['name']"
   ]
  },
  {
   "cell_type": "code",
   "execution_count": 43,
   "metadata": {},
   "outputs": [],
   "source": [
    "id2weight_question = dict(zip(list_questions, em_w[-len(list_questions):]))"
   ]
  },
  {
   "cell_type": "code",
   "execution_count": 44,
   "metadata": {},
   "outputs": [
    {
     "data": {
      "text/html": [
       "<div>\n",
       "<style scoped>\n",
       "    .dataframe tbody tr th:only-of-type {\n",
       "        vertical-align: middle;\n",
       "    }\n",
       "\n",
       "    .dataframe tbody tr th {\n",
       "        vertical-align: top;\n",
       "    }\n",
       "\n",
       "    .dataframe thead th {\n",
       "        text-align: right;\n",
       "    }\n",
       "</style>\n",
       "<table border=\"1\" class=\"dataframe\">\n",
       "  <thead>\n",
       "    <tr style=\"text-align: right;\">\n",
       "      <th></th>\n",
       "      <th>id_tournament</th>\n",
       "      <th>id_question</th>\n",
       "      <th>weight_question</th>\n",
       "      <th>name_tournament</th>\n",
       "    </tr>\n",
       "  </thead>\n",
       "  <tbody>\n",
       "    <tr>\n",
       "      <th>0</th>\n",
       "      <td>4772</td>\n",
       "      <td>4772_0</td>\n",
       "      <td>2.748722</td>\n",
       "      <td>Синхрон северных стран. Зимний выпуск</td>\n",
       "    </tr>\n",
       "    <tr>\n",
       "      <th>1</th>\n",
       "      <td>4772</td>\n",
       "      <td>4772_1</td>\n",
       "      <td>1.499639</td>\n",
       "      <td>Синхрон северных стран. Зимний выпуск</td>\n",
       "    </tr>\n",
       "    <tr>\n",
       "      <th>2</th>\n",
       "      <td>4772</td>\n",
       "      <td>4772_2</td>\n",
       "      <td>0.038934</td>\n",
       "      <td>Синхрон северных стран. Зимний выпуск</td>\n",
       "    </tr>\n",
       "    <tr>\n",
       "      <th>3</th>\n",
       "      <td>4772</td>\n",
       "      <td>4772_3</td>\n",
       "      <td>0.432184</td>\n",
       "      <td>Синхрон северных стран. Зимний выпуск</td>\n",
       "    </tr>\n",
       "    <tr>\n",
       "      <th>4</th>\n",
       "      <td>4772</td>\n",
       "      <td>4772_4</td>\n",
       "      <td>2.698555</td>\n",
       "      <td>Синхрон северных стран. Зимний выпуск</td>\n",
       "    </tr>\n",
       "    <tr>\n",
       "      <th>5</th>\n",
       "      <td>4772</td>\n",
       "      <td>4772_5</td>\n",
       "      <td>1.998776</td>\n",
       "      <td>Синхрон северных стран. Зимний выпуск</td>\n",
       "    </tr>\n",
       "    <tr>\n",
       "      <th>6</th>\n",
       "      <td>4772</td>\n",
       "      <td>4772_6</td>\n",
       "      <td>1.966689</td>\n",
       "      <td>Синхрон северных стран. Зимний выпуск</td>\n",
       "    </tr>\n",
       "    <tr>\n",
       "      <th>7</th>\n",
       "      <td>4772</td>\n",
       "      <td>4772_7</td>\n",
       "      <td>-1.239945</td>\n",
       "      <td>Синхрон северных стран. Зимний выпуск</td>\n",
       "    </tr>\n",
       "    <tr>\n",
       "      <th>8</th>\n",
       "      <td>4772</td>\n",
       "      <td>4772_8</td>\n",
       "      <td>-1.174167</td>\n",
       "      <td>Синхрон северных стран. Зимний выпуск</td>\n",
       "    </tr>\n",
       "    <tr>\n",
       "      <th>9</th>\n",
       "      <td>4772</td>\n",
       "      <td>4772_9</td>\n",
       "      <td>-3.207460</td>\n",
       "      <td>Синхрон северных стран. Зимний выпуск</td>\n",
       "    </tr>\n",
       "  </tbody>\n",
       "</table>\n",
       "</div>"
      ],
      "text/plain": [
       "   id_tournament id_question  weight_question  \\\n",
       "0           4772      4772_0         2.748722   \n",
       "1           4772      4772_1         1.499639   \n",
       "2           4772      4772_2         0.038934   \n",
       "3           4772      4772_3         0.432184   \n",
       "4           4772      4772_4         2.698555   \n",
       "5           4772      4772_5         1.998776   \n",
       "6           4772      4772_6         1.966689   \n",
       "7           4772      4772_7        -1.239945   \n",
       "8           4772      4772_8        -1.174167   \n",
       "9           4772      4772_9        -3.207460   \n",
       "\n",
       "                         name_tournament  \n",
       "0  Синхрон северных стран. Зимний выпуск  \n",
       "1  Синхрон северных стран. Зимний выпуск  \n",
       "2  Синхрон северных стран. Зимний выпуск  \n",
       "3  Синхрон северных стран. Зимний выпуск  \n",
       "4  Синхрон северных стран. Зимний выпуск  \n",
       "5  Синхрон северных стран. Зимний выпуск  \n",
       "6  Синхрон северных стран. Зимний выпуск  \n",
       "7  Синхрон северных стран. Зимний выпуск  \n",
       "8  Синхрон северных стран. Зимний выпуск  \n",
       "9  Синхрон северных стран. Зимний выпуск  "
      ]
     },
     "execution_count": 44,
     "metadata": {},
     "output_type": "execute_result"
    }
   ],
   "source": [
    "ranging_tournament_df = train_df.loc[:, ['id_tournament', 'id_question']]\n",
    "ranging_tournament_df['weight_question'] = ranging_tournament_df['id_question'].map(id2weight_question)\n",
    "ranging_tournament_df['name_tournament'] = ranging_tournament_df['id_tournament'].map(id2name_tournament)\n",
    "\n",
    "ranging_tournament_df.head(10)"
   ]
  },
  {
   "cell_type": "code",
   "execution_count": 45,
   "metadata": {},
   "outputs": [],
   "source": [
    "ranging_tournament_df = ranging_tournament_df.groupby(['id_tournament', 'name_tournament'])['weight_question'].mean().reset_index()\n",
    "ranging_tournament_df.sort_values(by='weight_question', inplace=True)\n",
    "ranging_tournament_df.rename(columns={'weight_question': 'ranging_tournament'}, inplace=True)"
   ]
  },
  {
   "cell_type": "markdown",
   "metadata": {},
   "source": [
    "Топ-10 сложных турниров"
   ]
  },
  {
   "cell_type": "code",
   "execution_count": 46,
   "metadata": {},
   "outputs": [
    {
     "data": {
      "text/html": [
       "<div>\n",
       "<style scoped>\n",
       "    .dataframe tbody tr th:only-of-type {\n",
       "        vertical-align: middle;\n",
       "    }\n",
       "\n",
       "    .dataframe tbody tr th {\n",
       "        vertical-align: top;\n",
       "    }\n",
       "\n",
       "    .dataframe thead th {\n",
       "        text-align: right;\n",
       "    }\n",
       "</style>\n",
       "<table border=\"1\" class=\"dataframe\">\n",
       "  <thead>\n",
       "    <tr style=\"text-align: right;\">\n",
       "      <th></th>\n",
       "      <th>id_tournament</th>\n",
       "      <th>name_tournament</th>\n",
       "      <th>ranging_tournament</th>\n",
       "    </tr>\n",
       "  </thead>\n",
       "  <tbody>\n",
       "    <tr>\n",
       "      <th>583</th>\n",
       "      <td>6149</td>\n",
       "      <td>Чемпионат Санкт-Петербурга. Первая лига</td>\n",
       "      <td>-4.294826</td>\n",
       "    </tr>\n",
       "    <tr>\n",
       "      <th>473</th>\n",
       "      <td>5928</td>\n",
       "      <td>Угрюмый Ёрш</td>\n",
       "      <td>-2.407325</td>\n",
       "    </tr>\n",
       "    <tr>\n",
       "      <th>35</th>\n",
       "      <td>5159</td>\n",
       "      <td>Первенство правого полушария</td>\n",
       "      <td>-2.093407</td>\n",
       "    </tr>\n",
       "    <tr>\n",
       "      <th>559</th>\n",
       "      <td>6101</td>\n",
       "      <td>Воображаемый музей</td>\n",
       "      <td>-2.068810</td>\n",
       "    </tr>\n",
       "    <tr>\n",
       "      <th>246</th>\n",
       "      <td>5587</td>\n",
       "      <td>Записки охотника</td>\n",
       "      <td>-1.831467</td>\n",
       "    </tr>\n",
       "    <tr>\n",
       "      <th>334</th>\n",
       "      <td>5693</td>\n",
       "      <td>Знание – Сила VI</td>\n",
       "      <td>-1.761344</td>\n",
       "    </tr>\n",
       "    <tr>\n",
       "      <th>12</th>\n",
       "      <td>5025</td>\n",
       "      <td>Кубок городов</td>\n",
       "      <td>-1.681896</td>\n",
       "    </tr>\n",
       "    <tr>\n",
       "      <th>22</th>\n",
       "      <td>5083</td>\n",
       "      <td>Ускользающая сова</td>\n",
       "      <td>-1.680473</td>\n",
       "    </tr>\n",
       "    <tr>\n",
       "      <th>484</th>\n",
       "      <td>5942</td>\n",
       "      <td>Чемпионат Мира. Этап 2. Группа В</td>\n",
       "      <td>-1.599843</td>\n",
       "    </tr>\n",
       "    <tr>\n",
       "      <th>197</th>\n",
       "      <td>5515</td>\n",
       "      <td>Чемпионат Минска. Лига А. Тур четвёртый</td>\n",
       "      <td>-1.597542</td>\n",
       "    </tr>\n",
       "  </tbody>\n",
       "</table>\n",
       "</div>"
      ],
      "text/plain": [
       "     id_tournament                          name_tournament  \\\n",
       "583           6149  Чемпионат Санкт-Петербурга. Первая лига   \n",
       "473           5928                              Угрюмый Ёрш   \n",
       "35            5159             Первенство правого полушария   \n",
       "559           6101                       Воображаемый музей   \n",
       "246           5587                         Записки охотника   \n",
       "334           5693                         Знание – Сила VI   \n",
       "12            5025                            Кубок городов   \n",
       "22            5083                        Ускользающая сова   \n",
       "484           5942         Чемпионат Мира. Этап 2. Группа В   \n",
       "197           5515  Чемпионат Минска. Лига А. Тур четвёртый   \n",
       "\n",
       "     ranging_tournament  \n",
       "583           -4.294826  \n",
       "473           -2.407325  \n",
       "35            -2.093407  \n",
       "559           -2.068810  \n",
       "246           -1.831467  \n",
       "334           -1.761344  \n",
       "12            -1.681896  \n",
       "22            -1.680473  \n",
       "484           -1.599843  \n",
       "197           -1.597542  "
      ]
     },
     "execution_count": 46,
     "metadata": {},
     "output_type": "execute_result"
    }
   ],
   "source": [
    "ranging_tournament_df.head(10)"
   ]
  },
  {
   "cell_type": "markdown",
   "metadata": {},
   "source": [
    "Топ-10 простых турниров"
   ]
  },
  {
   "cell_type": "code",
   "execution_count": 47,
   "metadata": {},
   "outputs": [
    {
     "data": {
      "text/html": [
       "<div>\n",
       "<style scoped>\n",
       "    .dataframe tbody tr th:only-of-type {\n",
       "        vertical-align: middle;\n",
       "    }\n",
       "\n",
       "    .dataframe tbody tr th {\n",
       "        vertical-align: top;\n",
       "    }\n",
       "\n",
       "    .dataframe thead th {\n",
       "        text-align: right;\n",
       "    }\n",
       "</style>\n",
       "<table border=\"1\" class=\"dataframe\">\n",
       "  <thead>\n",
       "    <tr style=\"text-align: right;\">\n",
       "      <th></th>\n",
       "      <th>id_tournament</th>\n",
       "      <th>name_tournament</th>\n",
       "      <th>ranging_tournament</th>\n",
       "    </tr>\n",
       "  </thead>\n",
       "  <tbody>\n",
       "    <tr>\n",
       "      <th>148</th>\n",
       "      <td>5457</td>\n",
       "      <td>Студенческий чемпионат Калининградской области</td>\n",
       "      <td>1.581954</td>\n",
       "    </tr>\n",
       "    <tr>\n",
       "      <th>353</th>\n",
       "      <td>5729</td>\n",
       "      <td>Синхрон-lite. Выпуск XXX</td>\n",
       "      <td>1.694118</td>\n",
       "    </tr>\n",
       "    <tr>\n",
       "      <th>342</th>\n",
       "      <td>5704</td>\n",
       "      <td>(а)Синхрон-lite. Лига старта. Эпизод X</td>\n",
       "      <td>1.749687</td>\n",
       "    </tr>\n",
       "    <tr>\n",
       "      <th>8</th>\n",
       "      <td>5011</td>\n",
       "      <td>(а)Синхрон-lite. Лига старта. Эпизод IV</td>\n",
       "      <td>1.780352</td>\n",
       "    </tr>\n",
       "    <tr>\n",
       "      <th>61</th>\n",
       "      <td>5313</td>\n",
       "      <td>(а)Синхрон-lite. Лига старта. Эпизод VI</td>\n",
       "      <td>1.891151</td>\n",
       "    </tr>\n",
       "    <tr>\n",
       "      <th>337</th>\n",
       "      <td>5698</td>\n",
       "      <td>(а)Синхрон-lite. Лига старта. Эпизод VII</td>\n",
       "      <td>1.899452</td>\n",
       "    </tr>\n",
       "    <tr>\n",
       "      <th>525</th>\n",
       "      <td>6003</td>\n",
       "      <td>Второй тематический турнир имени Джоуи Триббиани</td>\n",
       "      <td>1.915207</td>\n",
       "    </tr>\n",
       "    <tr>\n",
       "      <th>341</th>\n",
       "      <td>5702</td>\n",
       "      <td>(а)Синхрон-lite. Лига старта. Эпизод IX</td>\n",
       "      <td>2.021746</td>\n",
       "    </tr>\n",
       "    <tr>\n",
       "      <th>6</th>\n",
       "      <td>5009</td>\n",
       "      <td>(а)Синхрон-lite. Лига старта. Эпизод III</td>\n",
       "      <td>2.045876</td>\n",
       "    </tr>\n",
       "    <tr>\n",
       "      <th>10</th>\n",
       "      <td>5013</td>\n",
       "      <td>(а)Синхрон-lite. Лига старта. Эпизод V</td>\n",
       "      <td>2.144869</td>\n",
       "    </tr>\n",
       "  </tbody>\n",
       "</table>\n",
       "</div>"
      ],
      "text/plain": [
       "     id_tournament                                   name_tournament  \\\n",
       "148           5457    Студенческий чемпионат Калининградской области   \n",
       "353           5729                          Синхрон-lite. Выпуск XXX   \n",
       "342           5704            (а)Синхрон-lite. Лига старта. Эпизод X   \n",
       "8             5011           (а)Синхрон-lite. Лига старта. Эпизод IV   \n",
       "61            5313           (а)Синхрон-lite. Лига старта. Эпизод VI   \n",
       "337           5698          (а)Синхрон-lite. Лига старта. Эпизод VII   \n",
       "525           6003  Второй тематический турнир имени Джоуи Триббиани   \n",
       "341           5702           (а)Синхрон-lite. Лига старта. Эпизод IX   \n",
       "6             5009          (а)Синхрон-lite. Лига старта. Эпизод III   \n",
       "10            5013            (а)Синхрон-lite. Лига старта. Эпизод V   \n",
       "\n",
       "     ranging_tournament  \n",
       "148            1.581954  \n",
       "353            1.694118  \n",
       "342            1.749687  \n",
       "8              1.780352  \n",
       "61             1.891151  \n",
       "337            1.899452  \n",
       "525            1.915207  \n",
       "341            2.021746  \n",
       "6              2.045876  \n",
       "10             2.144869  "
      ]
     },
     "execution_count": 47,
     "metadata": {},
     "output_type": "execute_result"
    }
   ],
   "source": [
    "ranging_tournament_df.tail(10)"
   ]
  },
  {
   "cell_type": "markdown",
   "metadata": {},
   "source": [
    "Судя по названиям турниров, ранжирование адекватное"
   ]
  },
  {
   "cell_type": "code",
   "execution_count": null,
   "metadata": {},
   "outputs": [],
   "source": []
  }
 ],
 "metadata": {
  "kernelspec": {
   "display_name": "Python 3",
   "language": "python",
   "name": "python3"
  },
  "language_info": {
   "codemirror_mode": {
    "name": "ipython",
    "version": 3
   },
   "file_extension": ".py",
   "mimetype": "text/x-python",
   "name": "python",
   "nbconvert_exporter": "python",
   "pygments_lexer": "ipython3",
   "version": "3.7.11"
  }
 },
 "nbformat": 4,
 "nbformat_minor": 2
}
